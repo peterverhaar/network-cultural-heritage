{
 "cells": [
  {
   "cell_type": "markdown",
   "id": "4e2efcd1",
   "metadata": {},
   "source": [
    "## Europeana - Exploration of a collection"
   ]
  },
  {
   "cell_type": "markdown",
   "id": "9af24bf9",
   "metadata": {},
   "source": [
    "This notebook explains how you can use Europeana's SPARQL endpoint to explore the contents of the collection of a specific cultural heritage institution. \n",
    "\n",
    "The cell below firstly defined a number of functions that can be used to run SPAQRL queries and to analyse the results in Python. "
   ]
  },
  {
   "cell_type": "code",
   "execution_count": 1,
   "id": "77c0706d",
   "metadata": {},
   "outputs": [],
   "source": [
    "from SPARQLWrapper import SPARQLWrapper, JSON\n",
    "from IPython.core.display import display, HTML\n",
    "import pandas as pd\n",
    "import re\n",
    "from IPython.core.display import display, HTML\n",
    "\n",
    "endpoint = 'http://sparql.europeana.eu/'\n",
    "sparql = SPARQLWrapper(endpoint)\n",
    "\n",
    "def run_query(sparql_query):\n",
    "    sparql.setQuery(sparql_query)\n",
    "    sparql.setReturnFormat(JSON)\n",
    "    data = sparql.query().convert()\n",
    "    df = pd.json_normalize(data['results']['bindings'])  \n",
    "    return df\n",
    "\n",
    "def print_results(df):\n",
    "    for i,row in df.iterrows():\n",
    "        for column in df.columns:\n",
    "            if re.search('value$' , column):\n",
    "                print( f'{column} => {row[column]}' )\n",
    "        print('-------')"
   ]
  },
  {
   "cell_type": "markdown",
   "id": "ce7deaa1",
   "metadata": {},
   "source": [
    "The query below firstly generates a list of all the institutions that contribute to Europeana in the Netherlands. "
   ]
  },
  {
   "cell_type": "code",
   "execution_count": 2,
   "id": "06409aa1",
   "metadata": {},
   "outputs": [],
   "source": [
    "query = \"\"\"\n",
    "PREFIX dc: <http://purl.org/dc/elements/1.1/>\n",
    "PREFIX edm: <http://www.europeana.eu/schemas/edm/>\n",
    "PREFIX ore: <http://www.openarchives.org/ore/terms/>\n",
    "PREFIX html: <http://www.w3.org/1999/xhtml/vocab#>\n",
    "\n",
    "SELECT ?glam_inst , COUNT(?glam_inst)\n",
    "WHERE {\n",
    "\n",
    "?object ore:proxyIn ?local_aggr .\n",
    "?object ore:proxyFor ?cho .\n",
    "\n",
    "?eur_aggr edm:aggregatedCHO ?cho .\n",
    "?eur_aggr a edm:EuropeanaAggregation .\n",
    "\n",
    "?local_aggr edm:dataProvider ?glam_inst .\n",
    "?eur_aggr edm:country 'netherlands' .\n",
    "}\n",
    "GROUP BY ?glam_inst\n",
    "\n",
    "\"\"\"\n",
    "\n",
    "df = run_query(query)\n",
    "\n"
   ]
  },
  {
   "cell_type": "markdown",
   "id": "68ad350f",
   "metadata": {},
   "source": [
    "As you can see, the query groups the results by institution and counts the number of items for each institution. Using this query, we can establish that there are 159 Dutch institutions which added objects to Europeana. \n",
    "\n",
    "The code below lists of all the institutions which have contributed more than 10,000 objects. "
   ]
  },
  {
   "cell_type": "code",
   "execution_count": 3,
   "id": "6f04ebec",
   "metadata": {},
   "outputs": [
    {
     "name": "stdout",
     "output_type": "stream",
     "text": [
      "159 Dutch institutions contribute to Europeana.\n",
      "\n",
      "The following institutions have contributed more that 10000 objects:\n",
      "1. Beeldbank Wageningen: 12792\n",
      "2. Brabants Historisch Informatie Centrum: 163454\n",
      "3. CODA Apeldoorn: 30699\n",
      "4. CODA Museum: 10580\n",
      "5. Circus Museum: 16580\n",
      "6. Deventer Musea: 37394\n",
      "7. Digitale bibliotheek voor de Nederlandse letteren, DBNL, Nederland: 17043\n",
      "8. Erfgoed Rijssen-Holten: 17221\n",
      "9. Euregionaal Historisch Centrum Sittard-Geleen (ehc.sittard-geleen.eu): 53054\n",
      "10. EuroPhoto ANP provider: 155448\n",
      "11. Gemeente Schouwen-Duiveland: 37755\n",
      "12. Gemeentearchief Ede-Barneveld: 41483\n",
      "13. Gemeentearchief Roosendaal: 63465\n",
      "14. Gemeentearchief Schiedam: 38651\n",
      "15. Gemeentearchief Tholen: 27160\n",
      "16. Gemeentearchief Weert: 75024\n",
      "17. Gemeentearchief Zaanstad: 85843\n",
      "18. Gemeentemuseum Den Haag: 19558\n",
      "19. Gooi en Vecht Historisch: 56505\n",
      "20. Haags Gemeentearchief: 210084\n",
      "21. Het Nationaal Glasmuseum: 72631\n",
      "22. Historisch Centrum Leeuwarden: 44268\n",
      "23. Historisch Centrum Limburg (rhcl.nl): 13759\n",
      "24. Historisch Museum Ede: 15016\n",
      "25. Historisch centrum Limburg: 16983\n",
      "26. Internet Archive: 10491\n",
      "27. Joods Historisch Museum, Amsterdam: 13750\n",
      "28. Moluks Historisch Museum: 11193\n",
      "29. Museon: 75809\n",
      "30. Museum Catharijneconvent: 71266\n",
      "31. Museum Rotterdam: 26239\n",
      "32. NIOD: 70637\n",
      "33. Nationaal Archief: 555380\n",
      "34. Nationaal Archief, Den Haag: 111427\n",
      "35. National Library of the Netherlands: 1291139\n",
      "36. National Library of the Netherlands - Koninklijke Bibliotheek: 554065\n",
      "37. Naturalis Biodiversity Center: 109127\n",
      "38. Nederlands Instituut voor Militaire Historie: 182381\n",
      "39. Netherlands Centre for Biodiversity Naturalis: 16018\n",
      "40. Netherlands Institute for Sound and Vision: 24975\n",
      "41. Nieuwland Erfgoed Centrum: 89970\n",
      "42. Noord-Hollands Archief: 235871\n",
      "43. Paul van Riel: 16077\n",
      "44. RCE Rijksmonumentenkaartlaag: 63150\n",
      "45. Regionaal Archief Nijmegen: 111626\n",
      "46. Regionaal Archief Tilburg: 46923\n",
      "47. Regionaal Archief Zutphen: 15051\n",
      "48. Rijckheyt, centrum voor regionale geschiedenis: 33886\n",
      "49. Rijksdienst voor het Cultureel Erfgoed: 523860\n",
      "50. Rijksdienst voor het Cultureel Erfgoed, Cultural Heritage Agency for the Netherlands: 21591\n",
      "51. Rijksmuseum: 350349\n",
      "52. Rijksmuseum van Oudheden: 23885\n",
      "53. RooyNet (limburgserfgoed.nl): 12701\n",
      "54. Sociaal Historisch Centrum voor Limburg (shclimburg.nl): 77337\n",
      "55. Stadsarchief 's-Hertogenbosch: 56550\n",
      "56. Stedelijk Museum Zutphen: 11741\n",
      "57. Stichting Academisch Erfgoed: 26892\n",
      "58. Stichting Nationaal Museum van Wereldculturen: 49813\n",
      "59. Streekarchief Langstraat Heusden Altena: 27322\n",
      "60. Teylers Museum: 37215\n",
      "61. The Language Archive: 18393\n",
      "62. Vereniging De Hollandsche Molen: 24575\n",
      "63. Zeeuwse Bibliotheek: 75360\n"
     ]
    }
   ],
   "source": [
    "print( f'{df.shape[0]} Dutch institutions contribute to Europeana.' )\n",
    "\n",
    "print( f'\\nThe following institutions have contributed more that 10000 objects:' )\n",
    "\n",
    "df = df.sort_values(by=['glam_inst.value']  )\n",
    "\n",
    "count = 0 \n",
    "for i,row in df.iterrows():\n",
    "    if int(row['callret-1.value']) > 10000:\n",
    "        count += 1\n",
    "        print( f\"{count}. {row['glam_inst.value']}: {row['callret-1.value']}\" )"
   ]
  },
  {
   "cell_type": "markdown",
   "id": "bb9d866b",
   "metadata": {},
   "source": [
    "# Examine collection of the Rijksmuseum"
   ]
  },
  {
   "cell_type": "markdown",
   "id": "9d5064a7",
   "metadata": {},
   "source": [
    "In the remainder of this notebook, we shall focus on the collection of the Rijksmuseum in Amsterdam (item 51 in this list). Using COUNT() in the query below, we can verify the information about the number of items added by this institution."
   ]
  },
  {
   "cell_type": "code",
   "execution_count": 4,
   "id": "081c1731",
   "metadata": {},
   "outputs": [
    {
     "name": "stdout",
     "output_type": "stream",
     "text": [
      "There are 350349 items in this collection.\n"
     ]
    }
   ],
   "source": [
    "\n",
    "\n",
    "query = \"\"\"\n",
    "PREFIX dc: <http://purl.org/dc/elements/1.1/>\n",
    "PREFIX edm: <http://www.europeana.eu/schemas/edm/>\n",
    "PREFIX ore: <http://www.openarchives.org/ore/terms/>\n",
    "PREFIX html: <http://www.w3.org/1999/xhtml/vocab#>\n",
    "\n",
    "SELECT COUNT( DISTINCT ?object )\n",
    "WHERE {\n",
    "\n",
    "\n",
    "?object ore:proxyIn ?local_aggr .\n",
    "?object ore:proxyFor ?cho .\n",
    "?eur_aggr edm:aggregatedCHO ?cho .\n",
    "?eur_aggr a edm:EuropeanaAggregation .\n",
    "\n",
    "?local_aggr edm:provider ?glam .\n",
    "\n",
    "?local_aggr edm:dataProvider 'Rijksmuseum' .\n",
    "}\n",
    "\"\"\"\n",
    "\n",
    "df = run_query(query)\n",
    "print( f\"There are {df['callret-0.value'].iloc[0]} items in this collection.\" )\n"
   ]
  },
  {
   "cell_type": "markdown",
   "id": "ca42994d",
   "metadata": {},
   "source": [
    "Which kinds of objects can we find in this collection? We can explore the contents of this collection by examing the values supplied for `edm:type`."
   ]
  },
  {
   "cell_type": "code",
   "execution_count": 5,
   "id": "5cbae4d7",
   "metadata": {},
   "outputs": [],
   "source": [
    "query = \"\"\"\n",
    "PREFIX dc: <http://purl.org/dc/elements/1.1/>\n",
    "PREFIX edm: <http://www.europeana.eu/schemas/edm/>\n",
    "PREFIX ore: <http://www.openarchives.org/ore/terms/>\n",
    "PREFIX html: <http://www.w3.org/1999/xhtml/vocab#>\n",
    "\n",
    "SELECT ?type , COUNT(?type)\n",
    "WHERE {\n",
    "\n",
    "?object ore:proxyIn ?local_aggr .\n",
    "?object ore:proxyFor ?cho .\n",
    "?eur_aggr edm:aggregatedCHO ?cho .\n",
    "?eur_aggr a edm:EuropeanaAggregation .\n",
    "\n",
    "?local_aggr edm:dataProvider 'Rijksmuseum' .\n",
    "?object dc:type ?type .\n",
    "\n",
    "}\n",
    "GROUP BY ?type\n",
    "\"\"\"\n",
    "\n",
    "\n",
    "types_df = run_query(query)"
   ]
  },
  {
   "cell_type": "markdown",
   "id": "78fb9996",
   "metadata": {},
   "source": [
    "The object types have been described using the Rijksmuseum thesaurus and using the [Getty Vocabularies](http://vocab.getty.edu/). The cell below creates a list of the most frequently assigned categories. "
   ]
  },
  {
   "cell_type": "code",
   "execution_count": 6,
   "id": "d3041e44",
   "metadata": {},
   "outputs": [
    {
     "name": "stdout",
     "output_type": "stream",
     "text": [
      "urn:rijksmuseum:thesaurus:RM0001.THESAU.66314 => 69512 objects.\n",
      "urn:rijksmuseum:thesaurus:RM0001.THESAU.27459 => 15044 objects.\n",
      "urn:rijksmuseum:thesaurus:RM0001.THESAU.98251 => 7652 objects.\n",
      "urn:rijksmuseum:thesaurus:RM0001.THESAU.236 => 14530 objects.\n",
      "urn:rijksmuseum:thesaurus:RM0001.THESAU.1433 => 9919 objects.\n",
      "urn:rijksmuseum:thesaurus:RM0001.THESAU.9716 => 21708 objects.\n",
      "urn:rijksmuseum:thesaurus:RM0001.THESAU.20691 => 10267 objects.\n",
      "urn:rijksmuseum:thesaurus:RM0001.THESAU.679 => 24390 objects.\n",
      "urn:rijksmuseum:thesaurus:RM0001.THESAU.2279 => 5076 objects.\n",
      "http://vocab.getty.edu/aat/300053271 => 18941 objects.\n",
      "urn:rijksmuseum:thesaurus:RM0001.THESAU.27272 => 94026 objects.\n",
      "http://vocab.getty.edu/aat/300041273 => 184213 objects.\n",
      "urn:rijksmuseum:thesaurus:RM0001.THESAU.8064 => 13882 objects.\n",
      "urn:rijksmuseum:thesaurus:RM0001.THESAU.2140 => 8497 objects.\n",
      "urn:rijksmuseum:thesaurus:RM0001.THESAU.12638 => 5346 objects.\n",
      "urn:rijksmuseum:thesaurus:RM0001.THESAU.1356 => 11981 objects.\n",
      "urn:rijksmuseum:thesaurus:RM0001.THESAU.50535 => 6419 objects.\n",
      "urn:rijksmuseum:thesaurus:RM0001.THESAU.1339 => 11814 objects.\n",
      "urn:rijksmuseum:thesaurus:RM0001.THESAU.2384 => 23994 objects.\n"
     ]
    }
   ],
   "source": [
    "getty_types = []\n",
    "\n",
    "for i, row in types_df.iterrows():\n",
    "    if re.search( r'getty' , row['type.value']):\n",
    "        getty_types.append(row['type.value'])\n",
    "\n",
    "    if int(row['callret-1.value']) > 5000:\n",
    "        print( f\"{row['type.value']} => {row['callret-1.value']} objects.\" )"
   ]
  },
  {
   "cell_type": "markdown",
   "id": "4d17d7e8",
   "metadata": {},
   "source": [
    "For each type, we can also request a human-understandable label, using the `skos:prefLabel` predicate. "
   ]
  },
  {
   "cell_type": "code",
   "execution_count": 7,
   "id": "ce0c02b2",
   "metadata": {},
   "outputs": [
    {
     "name": "stdout",
     "output_type": "stream",
     "text": [
      "prints (visual works) => 189523\n",
      "lithography => 19190\n",
      "stereoscopic photographs => 8009\n",
      "gelatin silver process => 5195\n",
      "drypoint (printing process) => 3680\n",
      "easel paintings (paintings by form) => 3445\n",
      "collotype (process) => 2569\n",
      "weaving => 1887\n",
      "Woodburytype (process) => 1626\n",
      "plates (general, dishes) => 1554\n",
      "cabinet photographs => 1430\n",
      "salted paper prints => 921\n",
      "cyanotypes (photographic prints) => 491\n",
      "photomechanical processes => 436\n",
      "dishes (vessels) => 383\n",
      "ribbon (material) => 379\n",
      "braid (trimming) => 309\n",
      "brocading => 277\n",
      "carbon process => 259\n",
      "ferrotyping => 256\n",
      "daguerreotype (process) => 253\n",
      "ambrotype (wet collodion process) => 237\n",
      "playing cards => 208\n",
      "tapestry (process) => 202\n",
      "gameboards (board game elements) => 200\n",
      "sewing (needleworking techinique) => 197\n",
      "poems => 190\n",
      "photolithography => 184\n",
      "textile materials => 183\n",
      "chandeliers (hanging lights) => 118\n",
      "scrapbooks => 114\n",
      "platinum process => 103\n",
      "tokens (exchange media) => 102\n",
      "slides (photographs) => 102\n",
      "lantern slides => 99\n",
      "models (representations) => 83\n",
      "lockets => 78\n",
      "chintz => 77\n",
      "card games (game sets) => 74\n",
      "pencils (drawing and writing equipment) => 70\n",
      "printing blocks (printing surfaces) => 65\n",
      "paint (coating) => 64\n",
      "photomontages => 60\n",
      "rotogravure => 60\n",
      "pendants (jewelry) => 57\n",
      "contact prints => 56\n",
      "ink => 56\n",
      "drinking glasses => 56\n",
      "knotting => 50\n",
      "gouache (paint) => 49\n",
      "steel (alloy) => 49\n",
      "lampas (textile material) => 46\n",
      "photobooth pictures => 43\n",
      "blueprints (reprographic copies) => 43\n",
      "bindings (gathered matter components) => 39\n",
      "lead (metal) => 37\n",
      "mules (shoes) => 35\n",
      "weight (heaviness attribute) => 33\n",
      "concretionary stone => 30\n",
      "paper (fiber product) => 29\n",
      "costume (mode of fashion) => 23\n",
      "gateways => 23\n",
      "stamps (tools) => 20\n",
      "velvet (fabric weave) => 17\n",
      "rope => 16\n",
      "wine => 15\n",
      "later prints => 15\n",
      "swords => 15\n",
      "Union cases => 15\n",
      "documentary photographs => 15\n",
      "daggers (weapons) => 15\n",
      "cliché-verre (photographic process) => 14\n",
      "brick (clay product) => 14\n",
      "drilling (process) => 14\n",
      "bromoil process => 13\n",
      "gum bichromate process => 13\n",
      "aerial photographs => 11\n",
      "stands (support objects) => 10\n",
      "nut (plant component) => 9\n",
      "lanyards => 9\n",
      "transparencies => 8\n",
      "photograms => 8\n",
      "bayonets => 8\n",
      "news photographs => 8\n",
      "galloon => 7\n",
      "tissue stereographs => 7\n",
      "pulleys => 7\n",
      "slag => 7\n",
      "microphotographs => 6\n",
      "coconut (fruit) => 6\n",
      "assembling (additive and joining process) => 6\n",
      "two-handed swords => 5\n",
      "nautilus shell => 5\n",
      "tooth (material) => 5\n",
      "samite => 5\n",
      "house marks => 4\n",
      "carbro process => 4\n",
      "porcelain (material) => 4\n",
      "phototypes (prints) => 3\n",
      "retouching => 3\n",
      "sleighs => 3\n",
      "chess sets => 3\n",
      "photocollages (photographic compositions) => 3\n",
      "surplices => 3\n",
      "yarn => 3\n",
      "dress swords => 3\n",
      "paxes => 3\n",
      "brocade (textile) => 3\n",
      "human hair => 3\n",
      "lusters (lighting devices) => 3\n",
      "brocatelle => 2\n",
      "gourd => 2\n",
      "satin => 2\n",
      "double weave => 2\n",
      "gum (material) => 2\n",
      "checkerboards => 2\n",
      "rebuses => 2\n",
      "tie tacks => 2\n",
      "fruit (plant components) => 2\n",
      "glass painting (image-making) => 2\n",
      "jacquard => 1\n",
      "passport photographs => 1\n",
      "aaks (flat-bottomed watercraft) => 1\n",
      "diamond (mineral) => 1\n",
      "hoists => 1\n",
      "leather => 1\n",
      "grapeshot => 1\n",
      "memorials (monuments) => 1\n",
      "lacquer (coating) => 1\n",
      "palladium process => 1\n",
      "bark (plant material) => 1\n",
      "washing (cleaning) => 1\n",
      "egg (material) => 1\n",
      "photographic processes => 1\n",
      "offprints => 1\n",
      "automata => 1\n",
      "sponge (material) => 1\n",
      "cotton (textile) => 1\n",
      "corduroy => 1\n",
      "chessboards => 1\n",
      "impregnation => 1\n",
      "gauze => 1\n",
      "tempera => 1\n",
      "glitter => 1\n"
     ]
    }
   ],
   "source": [
    "endpoint = 'http://sparql.europeana.eu/'\n",
    "sparql = SPARQLWrapper(endpoint)\n",
    "\n",
    "query = \"\"\"\n",
    "PREFIX dc: <http://purl.org/dc/elements/1.1/>\n",
    "PREFIX edm: <http://www.europeana.eu/schemas/edm/>\n",
    "PREFIX ore: <http://www.openarchives.org/ore/terms/>\n",
    "PREFIX html: <http://www.w3.org/1999/xhtml/vocab#>\n",
    "PREFIX skos: <http://www.w3.org/2004/02/skos/core#>\n",
    "\n",
    "SELECT ?label , COUNT(?label)\n",
    "WHERE {\n",
    "\n",
    "?object ore:proxyIn ?local_aggr .\n",
    "?object ore:proxyFor ?cho .\n",
    "?eur_aggr edm:aggregatedCHO ?cho .\n",
    "?eur_aggr a edm:EuropeanaAggregation .\n",
    "\n",
    "?local_aggr edm:dataProvider 'Rijksmuseum' .\n",
    "?object dc:type ?type .\n",
    "?type skos:prefLabel ?label . \n",
    "FILTER( lang(?label) = 'en' )\n",
    "\n",
    "}\n",
    "GROUP BY ?label\n",
    "\"\"\"\n",
    "\n",
    "\n",
    "types_df = run_query(query)\n",
    "types_df['callret-1.value'] = types_df['callret-1.value'].astype(int)\n",
    "types_df = types_df.sort_values(by=['callret-1.value'] , ascending = False )\n",
    "\n",
    "for i,row in types_df.iterrows():\n",
    "    print( f\"{row['label.value']} => {row['callret-1.value']}\" )\n"
   ]
  },
  {
   "cell_type": "markdown",
   "id": "55d0091c",
   "metadata": {},
   "source": [
    "In this overview, we can see that the type \"easel paintings (paintings by form)\", from the Getty Vocabularies has been assigned very frequently, namely, more than 3440 times. \n",
    "\n",
    "Using the results of the following query, we can display a number of examples of works in this category. "
   ]
  },
  {
   "cell_type": "code",
   "execution_count": 8,
   "id": "df14d36f",
   "metadata": {},
   "outputs": [
    {
     "name": "stdout",
     "output_type": "stream",
     "text": [
      "30 results.\n",
      "Rough Sea\n",
      "http://hdl.handle.net/10934/RM0001.COLLECT.5892\n"
     ]
    },
    {
     "data": {
      "text/html": [
       "<a target=\"_new\" href=\"http://lh6.ggpht.com/kQWTa_K2RoVzThp1hP8cAerSRf3icfoPXDqun0iWPrnE6LaZ8veko1cBGzXT-tMjtWp8URk8y8eRN7QC8UXKqDtKjXwB=s0\"><img src=\"http://lh6.ggpht.com/kQWTa_K2RoVzThp1hP8cAerSRf3icfoPXDqun0iWPrnE6LaZ8veko1cBGzXT-tMjtWp8URk8y8eRN7QC8UXKqDtKjXwB=s0\" style=\"width: 200px;\"/></a><br/><br/>"
      ],
      "text/plain": [
       "<IPython.core.display.HTML object>"
      ]
     },
     "metadata": {},
     "output_type": "display_data"
    },
    {
     "name": "stdout",
     "output_type": "stream",
     "text": [
      "Country Inn\n",
      "http://hdl.handle.net/10934/RM0001.COLLECT.8362\n"
     ]
    },
    {
     "data": {
      "text/html": [
       "<a target=\"_new\" href=\"http://lh4.ggpht.com/NNSAFBFHpf3qa3hdMylAMv0h6dWJ7Gp_RokL9HJ2XWcqyAZIz0pwV-CocFJ7_ld3kOb-CbdnD41ruQ7TPT7OdM2HB6o=s0\"><img src=\"http://lh4.ggpht.com/NNSAFBFHpf3qa3hdMylAMv0h6dWJ7Gp_RokL9HJ2XWcqyAZIz0pwV-CocFJ7_ld3kOb-CbdnD41ruQ7TPT7OdM2HB6o=s0\" style=\"width: 200px;\"/></a><br/><br/>"
      ],
      "text/plain": [
       "<IPython.core.display.HTML object>"
      ]
     },
     "metadata": {},
     "output_type": "display_data"
    },
    {
     "name": "stdout",
     "output_type": "stream",
     "text": [
      "Gelder Landscape\n",
      "http://hdl.handle.net/10934/RM0001.COLLECT.5370\n"
     ]
    },
    {
     "data": {
      "text/html": [
       "<a target=\"_new\" href=\"http://lh6.ggpht.com/3_CaOEhljD_zAyQv2E4W2sfkxxjgai-IGjxF-bvaam3zoZy2BpD50mOt1kkCj0bjUedeZInE_ir29PSUz2gg4WDhdA=s0\"><img src=\"http://lh6.ggpht.com/3_CaOEhljD_zAyQv2E4W2sfkxxjgai-IGjxF-bvaam3zoZy2BpD50mOt1kkCj0bjUedeZInE_ir29PSUz2gg4WDhdA=s0\" style=\"width: 200px;\"/></a><br/><br/>"
      ],
      "text/plain": [
       "<IPython.core.display.HTML object>"
      ]
     },
     "metadata": {},
     "output_type": "display_data"
    },
    {
     "name": "stdout",
     "output_type": "stream",
     "text": [
      "Farmhouse near Helvoirt\n",
      "http://hdl.handle.net/10934/RM0001.COLLECT.5913\n"
     ]
    },
    {
     "data": {
      "text/html": [
       "<a target=\"_new\" href=\"http://lh6.ggpht.com/_trgl7MOQvbWvTw17BCKbzNj0cWBK6zz83opXDwU5NngEFAO3hfykAUfe14TeACCaiOOPdZShTGYHvCtSz7T68D1-5s=s0\"><img src=\"http://lh6.ggpht.com/_trgl7MOQvbWvTw17BCKbzNj0cWBK6zz83opXDwU5NngEFAO3hfykAUfe14TeACCaiOOPdZShTGYHvCtSz7T68D1-5s=s0\" style=\"width: 200px;\"/></a><br/><br/>"
      ],
      "text/plain": [
       "<IPython.core.display.HTML object>"
      ]
     },
     "metadata": {},
     "output_type": "display_data"
    },
    {
     "name": "stdout",
     "output_type": "stream",
     "text": [
      "The Navy's Frigate 'Rotterdam' on the Maas off Rotterdam\n",
      "http://hdl.handle.net/10934/RM0001.COLLECT.5943\n"
     ]
    },
    {
     "data": {
      "text/html": [
       "<a target=\"_new\" href=\"http://lh6.ggpht.com/YRgUAavCffJHOEUH5gZdR0iv6unzBgtRh30x8yAZIoD5e8WRkylMHRc9nDzKkOVbWunl5c8wv12EImTw4xc6qjpGOw=s0\"><img src=\"http://lh6.ggpht.com/YRgUAavCffJHOEUH5gZdR0iv6unzBgtRh30x8yAZIoD5e8WRkylMHRc9nDzKkOVbWunl5c8wv12EImTw4xc6qjpGOw=s0\" style=\"width: 200px;\"/></a><br/><br/>"
      ],
      "text/plain": [
       "<IPython.core.display.HTML object>"
      ]
     },
     "metadata": {},
     "output_type": "display_data"
    },
    {
     "name": "stdout",
     "output_type": "stream",
     "text": [
      "City Wall with Gunpowder Magazine\n",
      "http://hdl.handle.net/10934/RM0001.COLLECT.5974\n"
     ]
    },
    {
     "data": {
      "text/html": [
       "<a target=\"_new\" href=\"http://lh6.ggpht.com/uhpQghNyIDA6TA06SVPGvawp67KpGLnu8WfcTBOFkWs6bOscjflWBywXgZhkhNOv9zP4yXcPa3FR8RK9i7h8e84n-g=s0\"><img src=\"http://lh6.ggpht.com/uhpQghNyIDA6TA06SVPGvawp67KpGLnu8WfcTBOFkWs6bOscjflWBywXgZhkhNOv9zP4yXcPa3FR8RK9i7h8e84n-g=s0\" style=\"width: 200px;\"/></a><br/><br/>"
      ],
      "text/plain": [
       "<IPython.core.display.HTML object>"
      ]
     },
     "metadata": {},
     "output_type": "display_data"
    },
    {
     "name": "stdout",
     "output_type": "stream",
     "text": [
      "Nicolaes van der Borght, Merchant of Antwerp\n",
      "http://hdl.handle.net/10934/RM0001.COLLECT.6670\n"
     ]
    },
    {
     "data": {
      "text/html": [
       "<a target=\"_new\" href=\"http://lh4.ggpht.com/2n5c-r_-BhBfbFdUAZmp2dj-LNocZ7gFgoMI7Brzw2fxkePRqjA7OF8T5XHMlYC2uQFDJj13fajpuLn5U2ItJL1X7w=s0\"><img src=\"http://lh4.ggpht.com/2n5c-r_-BhBfbFdUAZmp2dj-LNocZ7gFgoMI7Brzw2fxkePRqjA7OF8T5XHMlYC2uQFDJj13fajpuLn5U2ItJL1X7w=s0\" style=\"width: 200px;\"/></a><br/><br/>"
      ],
      "text/plain": [
       "<IPython.core.display.HTML object>"
      ]
     },
     "metadata": {},
     "output_type": "display_data"
    },
    {
     "name": "stdout",
     "output_type": "stream",
     "text": [
      "The Choir of the O.L.-Vrouwekerk in Breda with the Tomb of Engelbert II of Nassau\n",
      "http://hdl.handle.net/10934/RM0001.COLLECT.6178\n"
     ]
    },
    {
     "data": {
      "text/html": [
       "<a target=\"_new\" href=\"http://lh6.ggpht.com/pWT-BExw7i_k2tST099JBaHtjZGIz7LpVGhPFZ0mPYyH5Lbi403GKo5Rp5i1bAWpQclB6Ux2Gy9MnmLvLf-EH03S2EQ=s0\"><img src=\"http://lh6.ggpht.com/pWT-BExw7i_k2tST099JBaHtjZGIz7LpVGhPFZ0mPYyH5Lbi403GKo5Rp5i1bAWpQclB6Ux2Gy9MnmLvLf-EH03S2EQ=s0\" style=\"width: 200px;\"/></a><br/><br/>"
      ],
      "text/plain": [
       "<IPython.core.display.HTML object>"
      ]
     },
     "metadata": {},
     "output_type": "display_data"
    },
    {
     "name": "stdout",
     "output_type": "stream",
     "text": [
      "Flowers in a Terra Cotta Vase\n",
      "http://hdl.handle.net/10934/RM0001.COLLECT.6220\n"
     ]
    },
    {
     "data": {
      "text/html": [
       "<a target=\"_new\" href=\"http://lh3.ggpht.com/8wclBa3S4CJpuuXUGv0rKfQCAg4HrhC_cXrLgIwCkBdeKVwhQbu6dhwmUMI_o9kafCFT8iAtJD8Wj9LI3x8hTUh4Uas=s0\"><img src=\"http://lh3.ggpht.com/8wclBa3S4CJpuuXUGv0rKfQCAg4HrhC_cXrLgIwCkBdeKVwhQbu6dhwmUMI_o9kafCFT8iAtJD8Wj9LI3x8hTUh4Uas=s0\" style=\"width: 200px;\"/></a><br/><br/>"
      ],
      "text/plain": [
       "<IPython.core.display.HTML object>"
      ]
     },
     "metadata": {},
     "output_type": "display_data"
    },
    {
     "name": "stdout",
     "output_type": "stream",
     "text": [
      "The Poultryman\n",
      "http://hdl.handle.net/10934/RM0001.COLLECT.7095\n"
     ]
    },
    {
     "data": {
      "text/html": [
       "<a target=\"_new\" href=\"http://lh3.ggpht.com/bm9ZtqtfrzcNFFctefR3YnVWZJ-9gEQggnKry4y5mjXVmHDyjrPSbLF2vnW__hZczffIMM21cHyS1P4BwKbgVcNhAC9L=s0\"><img src=\"http://lh3.ggpht.com/bm9ZtqtfrzcNFFctefR3YnVWZJ-9gEQggnKry4y5mjXVmHDyjrPSbLF2vnW__hZczffIMM21cHyS1P4BwKbgVcNhAC9L=s0\" style=\"width: 200px;\"/></a><br/><br/>"
      ],
      "text/plain": [
       "<IPython.core.display.HTML object>"
      ]
     },
     "metadata": {},
     "output_type": "display_data"
    },
    {
     "name": "stdout",
     "output_type": "stream",
     "text": [
      "After Milking Time\n",
      "http://hdl.handle.net/10934/RM0001.COLLECT.8102\n"
     ]
    },
    {
     "data": {
      "text/html": [
       "<a target=\"_new\" href=\"http://lh3.ggpht.com/4xa5jVvlYbkSGh14wYrw8WJGU8vM48Q5T5NabUViGfxckY9eJrBgHocyC16wHtce34vvSel3YzDGVcAvUWHEd8Pv=s0\"><img src=\"http://lh3.ggpht.com/4xa5jVvlYbkSGh14wYrw8WJGU8vM48Q5T5NabUViGfxckY9eJrBgHocyC16wHtce34vvSel3YzDGVcAvUWHEd8Pv=s0\" style=\"width: 200px;\"/></a><br/><br/>"
      ],
      "text/plain": [
       "<IPython.core.display.HTML object>"
      ]
     },
     "metadata": {},
     "output_type": "display_data"
    },
    {
     "name": "stdout",
     "output_type": "stream",
     "text": [
      "The Torensluis and the Jan Roodenpoortstoren in Amsterdam\n",
      "http://hdl.handle.net/10934/RM0001.COLLECT.8129\n"
     ]
    },
    {
     "data": {
      "text/html": [
       "<a target=\"_new\" href=\"http://lh5.ggpht.com/CTdjWEFTzpA7vfON9QAqYeyp1DyDSPPwPn9jc_E8XKr26Hc3pobwQZOjHEzCsMMKPYK8pIEmkWlj3JXRkeSOYirqRGg=s0\"><img src=\"http://lh5.ggpht.com/CTdjWEFTzpA7vfON9QAqYeyp1DyDSPPwPn9jc_E8XKr26Hc3pobwQZOjHEzCsMMKPYK8pIEmkWlj3JXRkeSOYirqRGg=s0\" style=\"width: 200px;\"/></a><br/><br/>"
      ],
      "text/plain": [
       "<IPython.core.display.HTML object>"
      ]
     },
     "metadata": {},
     "output_type": "display_data"
    },
    {
     "name": "stdout",
     "output_type": "stream",
     "text": [
      "Swiss Peasant Woman\n",
      "http://hdl.handle.net/10934/RM0001.COLLECT.8132\n"
     ]
    },
    {
     "data": {
      "text/html": [
       "<a target=\"_new\" href=\"http://lh3.ggpht.com/oUndQRGn_P6hXYhZcj14cV4uLacIPNo6nl1ZeQ5IpFFy9evRFkcIg_JjCmcI-cst4Ndc6XOhllD0IJ1D1x4hq2nR1Ts=s0\"><img src=\"http://lh3.ggpht.com/oUndQRGn_P6hXYhZcj14cV4uLacIPNo6nl1ZeQ5IpFFy9evRFkcIg_JjCmcI-cst4Ndc6XOhllD0IJ1D1x4hq2nR1Ts=s0\" style=\"width: 200px;\"/></a><br/><br/>"
      ],
      "text/plain": [
       "<IPython.core.display.HTML object>"
      ]
     },
     "metadata": {},
     "output_type": "display_data"
    },
    {
     "name": "stdout",
     "output_type": "stream",
     "text": [
      "William II, Prince of Orange, and his Bride, Mary Stuart\n",
      "http://hdl.handle.net/10934/RM0001.COLLECT.8289\n"
     ]
    },
    {
     "data": {
      "text/html": [
       "<a target=\"_new\" href=\"http://lh4.ggpht.com/-Trgkxxmt6NJx1V69Bm0tgsQtEVOVgrRFXwOMyZYx2sDnKHlR-epUHK2DDa4qfpY4s29DP_veYMB8kwIQFwZTEfzFQ=s0\"><img src=\"http://lh4.ggpht.com/-Trgkxxmt6NJx1V69Bm0tgsQtEVOVgrRFXwOMyZYx2sDnKHlR-epUHK2DDa4qfpY4s29DP_veYMB8kwIQFwZTEfzFQ=s0\" style=\"width: 200px;\"/></a><br/><br/>"
      ],
      "text/plain": [
       "<IPython.core.display.HTML object>"
      ]
     },
     "metadata": {},
     "output_type": "display_data"
    },
    {
     "name": "stdout",
     "output_type": "stream",
     "text": [
      "A Collision at the Porte de Hal, Brussels\n",
      "http://hdl.handle.net/10934/RM0001.COLLECT.7097\n"
     ]
    },
    {
     "data": {
      "text/html": [
       "<a target=\"_new\" href=\"http://lh3.ggpht.com/N-ki8OHcNb6qBZg8rDX7dj36RW0NP_JhSXv5_Qkm_JQL2r7dY4UubxQO0ONQgdBulZ_UT-O03QA9sMfCDOUGlCA2KYlJ=s0\"><img src=\"http://lh3.ggpht.com/N-ki8OHcNb6qBZg8rDX7dj36RW0NP_JhSXv5_Qkm_JQL2r7dY4UubxQO0ONQgdBulZ_UT-O03QA9sMfCDOUGlCA2KYlJ=s0\" style=\"width: 200px;\"/></a><br/><br/>"
      ],
      "text/plain": [
       "<IPython.core.display.HTML object>"
      ]
     },
     "metadata": {},
     "output_type": "display_data"
    },
    {
     "name": "stdout",
     "output_type": "stream",
     "text": [
      "Frolicking on a Frozen Canal in a Town\n",
      "http://hdl.handle.net/10934/RM0001.COLLECT.7099\n"
     ]
    },
    {
     "data": {
      "text/html": [
       "<a target=\"_new\" href=\"http://lh5.ggpht.com/cTKfho-3YnZfh4-LPXf9f4duN42hbcTmYSJJXupLntQo9-ufyv2Vnu1H93mEsw6V194IaXxWuAAqX65lQUNgCN4PXkIw=s0\"><img src=\"http://lh5.ggpht.com/cTKfho-3YnZfh4-LPXf9f4duN42hbcTmYSJJXupLntQo9-ufyv2Vnu1H93mEsw6V194IaXxWuAAqX65lQUNgCN4PXkIw=s0\" style=\"width: 200px;\"/></a><br/><br/>"
      ],
      "text/plain": [
       "<IPython.core.display.HTML object>"
      ]
     },
     "metadata": {},
     "output_type": "display_data"
    },
    {
     "name": "stdout",
     "output_type": "stream",
     "text": [
      "Hunting Companions\n",
      "http://hdl.handle.net/10934/RM0001.COLLECT.7100\n"
     ]
    },
    {
     "data": {
      "text/html": [
       "<a target=\"_new\" href=\"http://lh5.ggpht.com/wyLYi-nFvC3A3YEaSaDFfaTPTWOiCbg0xxQvhlf6eofEcQEjo1ibEwJMsiUIEa8JZzSi4zkFm9Zu3pl79PWCB4NjYg=s0\"><img src=\"http://lh5.ggpht.com/wyLYi-nFvC3A3YEaSaDFfaTPTWOiCbg0xxQvhlf6eofEcQEjo1ibEwJMsiUIEa8JZzSi4zkFm9Zu3pl79PWCB4NjYg=s0\" style=\"width: 200px;\"/></a><br/><br/>"
      ],
      "text/plain": [
       "<IPython.core.display.HTML object>"
      ]
     },
     "metadata": {},
     "output_type": "display_data"
    },
    {
     "name": "stdout",
     "output_type": "stream",
     "text": [
      "Hebe with Jupiter in the Guise of an Eagle\n",
      "http://hdl.handle.net/10934/RM0001.COLLECT.8286\n"
     ]
    },
    {
     "data": {
      "text/html": [
       "<a target=\"_new\" href=\"http://lh3.ggpht.com/COimnRxvDJh9UBZLCLCDwhrC7Za24_7Zk0U8aL6zQLPusHrQi5c9ZpF0sFFxv-vCL9AziXfFQ5AgShV-RVekpnfZLg=s0\"><img src=\"http://lh3.ggpht.com/COimnRxvDJh9UBZLCLCDwhrC7Za24_7Zk0U8aL6zQLPusHrQi5c9ZpF0sFFxv-vCL9AziXfFQ5AgShV-RVekpnfZLg=s0\" style=\"width: 200px;\"/></a><br/><br/>"
      ],
      "text/plain": [
       "<IPython.core.display.HTML object>"
      ]
     },
     "metadata": {},
     "output_type": "display_data"
    },
    {
     "name": "stdout",
     "output_type": "stream",
     "text": [
      "View of Dordrecht seen from Papendrecht\n",
      "http://hdl.handle.net/10934/RM0001.COLLECT.7104\n"
     ]
    },
    {
     "data": {
      "text/html": [
       "<a target=\"_new\" href=\"http://lh3.ggpht.com/gTxhdpQx8ldy58w2kaBICPHQbGs1E0k5JxsWgFWfx7bxhC6VBR_hvX_OLJUE61e13dp8qDCw_fyydjFhutLUZEVEezM=s0\"><img src=\"http://lh3.ggpht.com/gTxhdpQx8ldy58w2kaBICPHQbGs1E0k5JxsWgFWfx7bxhC6VBR_hvX_OLJUE61e13dp8qDCw_fyydjFhutLUZEVEezM=s0\" style=\"width: 200px;\"/></a><br/><br/>"
      ],
      "text/plain": [
       "<IPython.core.display.HTML object>"
      ]
     },
     "metadata": {},
     "output_type": "display_data"
    },
    {
     "name": "stdout",
     "output_type": "stream",
     "text": [
      "The Cemetery at Baden-Baden\n",
      "http://hdl.handle.net/10934/RM0001.COLLECT.7105\n"
     ]
    },
    {
     "data": {
      "text/html": [
       "<a target=\"_new\" href=\"http://lh4.ggpht.com/QBz6QTOUG7B5FbmW7N1U7H0i-PFJccCAxYdFrBkukHfgRusWLRT4C1Imv2IHGqmSfAGfIhk_yNCcIe3bX2Oa6SAJyg=s0\"><img src=\"http://lh4.ggpht.com/QBz6QTOUG7B5FbmW7N1U7H0i-PFJccCAxYdFrBkukHfgRusWLRT4C1Imv2IHGqmSfAGfIhk_yNCcIe3bX2Oa6SAJyg=s0\" style=\"width: 200px;\"/></a><br/><br/>"
      ],
      "text/plain": [
       "<IPython.core.display.HTML object>"
      ]
     },
     "metadata": {},
     "output_type": "display_data"
    },
    {
     "name": "stdout",
     "output_type": "stream",
     "text": [
      "The Penitent Mary Magdalene\n",
      "http://hdl.handle.net/10934/RM0001.COLLECT.8287\n"
     ]
    },
    {
     "data": {
      "text/html": [
       "<a target=\"_new\" href=\"http://lh4.ggpht.com/NAULCHybOquVlKaKtjGfZsLFcnAuuLH8jQUyZ2TBSk8vmMwUwrw9wEw2KeNdIvz9xVzIvz3B2BtehEHBFexYx4Im9Ga_=s0\"><img src=\"http://lh4.ggpht.com/NAULCHybOquVlKaKtjGfZsLFcnAuuLH8jQUyZ2TBSk8vmMwUwrw9wEw2KeNdIvz9xVzIvz3B2BtehEHBFexYx4Im9Ga_=s0\" style=\"width: 200px;\"/></a><br/><br/>"
      ],
      "text/plain": [
       "<IPython.core.display.HTML object>"
      ]
     },
     "metadata": {},
     "output_type": "display_data"
    },
    {
     "name": "stdout",
     "output_type": "stream",
     "text": [
      "The Wedding of Jacoba of Bavaria, Countess of Holland, and Jan IV, Duke of Brabant, 10 March 1418\n",
      "http://hdl.handle.net/10934/RM0001.COLLECT.7106\n"
     ]
    },
    {
     "data": {
      "text/html": [
       "<a target=\"_new\" href=\"http://lh6.ggpht.com/uIxlGJHzuCl2lmQm0HPklmEw4oF8VRVY67TSdwmpUkeN7-UAKsh52ETJ2axKGqju0suHNuPdS58b4J6FTnI6TuKjUQ=s0\"><img src=\"http://lh6.ggpht.com/uIxlGJHzuCl2lmQm0HPklmEw4oF8VRVY67TSdwmpUkeN7-UAKsh52ETJ2axKGqju0suHNuPdS58b4J6FTnI6TuKjUQ=s0\" style=\"width: 200px;\"/></a><br/><br/>"
      ],
      "text/plain": [
       "<IPython.core.display.HTML object>"
      ]
     },
     "metadata": {},
     "output_type": "display_data"
    },
    {
     "name": "stdout",
     "output_type": "stream",
     "text": [
      "Still Life with Flowers and Fruit\n",
      "http://hdl.handle.net/10934/RM0001.COLLECT.7108\n"
     ]
    },
    {
     "data": {
      "text/html": [
       "<a target=\"_new\" href=\"http://lh5.ggpht.com/gSz7xT6o5xN5IdzosEm0Dqz66DDhQNzrRaqZAse0sujMLUm_KdTAWDl67FDLvPeigRFdeaQfXRl1Rzkrw0xfSu4ovQ0N=s0\"><img src=\"http://lh5.ggpht.com/gSz7xT6o5xN5IdzosEm0Dqz66DDhQNzrRaqZAse0sujMLUm_KdTAWDl67FDLvPeigRFdeaQfXRl1Rzkrw0xfSu4ovQ0N=s0\" style=\"width: 200px;\"/></a><br/><br/>"
      ],
      "text/plain": [
       "<IPython.core.display.HTML object>"
      ]
     },
     "metadata": {},
     "output_type": "display_data"
    },
    {
     "name": "stdout",
     "output_type": "stream",
     "text": [
      "´Becoming a Painter´\n",
      "http://hdl.handle.net/10934/RM0001.COLLECT.7110\n"
     ]
    },
    {
     "data": {
      "text/html": [
       "<a target=\"_new\" href=\"http://lh5.ggpht.com/FP3WeDop-irVCdGajRqNYRwF_O1YYO0lQoyc1THn_ejr7rylczPQv1E-syP10ThjWxAlSPZaAIpzw4Hc22g_1egjUOL0=s0\"><img src=\"http://lh5.ggpht.com/FP3WeDop-irVCdGajRqNYRwF_O1YYO0lQoyc1THn_ejr7rylczPQv1E-syP10ThjWxAlSPZaAIpzw4Hc22g_1egjUOL0=s0\" style=\"width: 200px;\"/></a><br/><br/>"
      ],
      "text/plain": [
       "<IPython.core.display.HTML object>"
      ]
     },
     "metadata": {},
     "output_type": "display_data"
    },
    {
     "name": "stdout",
     "output_type": "stream",
     "text": [
      "Midday break at a Shipyard on the Maas\n",
      "http://hdl.handle.net/10934/RM0001.COLLECT.7111\n"
     ]
    },
    {
     "data": {
      "text/html": [
       "<a target=\"_new\" href=\"http://lh4.ggpht.com/wFYtukzXKKYa5aVixHKomIeQPP2D7rN0jL6sLk8WfDRwjf-VGKvsasNYvhNQpx7brs_Z_skLdntnus78ARvSjNUDFQ=s0\"><img src=\"http://lh4.ggpht.com/wFYtukzXKKYa5aVixHKomIeQPP2D7rN0jL6sLk8WfDRwjf-VGKvsasNYvhNQpx7brs_Z_skLdntnus78ARvSjNUDFQ=s0\" style=\"width: 200px;\"/></a><br/><br/>"
      ],
      "text/plain": [
       "<IPython.core.display.HTML object>"
      ]
     },
     "metadata": {},
     "output_type": "display_data"
    },
    {
     "name": "stdout",
     "output_type": "stream",
     "text": [
      "St Francis at the Foot of the Cross\n",
      "http://hdl.handle.net/10934/RM0001.COLLECT.6671\n"
     ]
    },
    {
     "data": {
      "text/html": [
       "<a target=\"_new\" href=\"http://lh6.ggpht.com/WPYgmBPBXuxvGbTRNuX8z1zkCvCsTUEAMFPslD48AcxDhGRMIG29ZZKetQIOKsuns_JlypnA4nkRftzDnY7JtSQkWg=s0\"><img src=\"http://lh6.ggpht.com/WPYgmBPBXuxvGbTRNuX8z1zkCvCsTUEAMFPslD48AcxDhGRMIG29ZZKetQIOKsuns_JlypnA4nkRftzDnY7JtSQkWg=s0\" style=\"width: 200px;\"/></a><br/><br/>"
      ],
      "text/plain": [
       "<IPython.core.display.HTML object>"
      ]
     },
     "metadata": {},
     "output_type": "display_data"
    },
    {
     "name": "stdout",
     "output_type": "stream",
     "text": [
      "Self Portrait\n",
      "http://hdl.handle.net/10934/RM0001.COLLECT.7115\n"
     ]
    },
    {
     "data": {
      "text/html": [
       "<a target=\"_new\" href=\"http://lh3.ggpht.com/Q5161-z9umO-8Jgl05UH07gDtDpaNisYOKlx7DIkyRIMYcs1Sw8GCWYdC8Pi54ibTWFov7xi_DIgkFgbuFJ-eY0Ojw=s0\"><img src=\"http://lh3.ggpht.com/Q5161-z9umO-8Jgl05UH07gDtDpaNisYOKlx7DIkyRIMYcs1Sw8GCWYdC8Pi54ibTWFov7xi_DIgkFgbuFJ-eY0Ojw=s0\" style=\"width: 200px;\"/></a><br/><br/>"
      ],
      "text/plain": [
       "<IPython.core.display.HTML object>"
      ]
     },
     "metadata": {},
     "output_type": "display_data"
    },
    {
     "name": "stdout",
     "output_type": "stream",
     "text": [
      "Susanna and the Elders\n",
      "http://hdl.handle.net/10934/RM0001.COLLECT.7116\n"
     ]
    },
    {
     "data": {
      "text/html": [
       "<a target=\"_new\" href=\"http://lh6.ggpht.com/cs1cRZUMbjv_q7eoHGpOMDaS0efPy3ObJntoN4IKn8VSbNN2GwUapJMpx2d2ZGaRRwKbNaJ7qj2znQugQN_0u9YICw=s0\"><img src=\"http://lh6.ggpht.com/cs1cRZUMbjv_q7eoHGpOMDaS0efPy3ObJntoN4IKn8VSbNN2GwUapJMpx2d2ZGaRRwKbNaJ7qj2znQugQN_0u9YICw=s0\" style=\"width: 200px;\"/></a><br/><br/>"
      ],
      "text/plain": [
       "<IPython.core.display.HTML object>"
      ]
     },
     "metadata": {},
     "output_type": "display_data"
    },
    {
     "name": "stdout",
     "output_type": "stream",
     "text": [
      "Self-portrait\n",
      "http://hdl.handle.net/10934/RM0001.COLLECT.8694\n"
     ]
    },
    {
     "data": {
      "text/html": [
       "<a target=\"_new\" href=\"http://lh6.ggpht.com/XJNoI8yOCMV7uHy2-46IZiAlQ8e-8e2PhZa7Ja644V31fKyGJSZ_5SwT93GYQCnLUAp_yk2BzIh4N2IoRHkbWw9gT5I=s0\"><img src=\"http://lh6.ggpht.com/XJNoI8yOCMV7uHy2-46IZiAlQ8e-8e2PhZa7Ja644V31fKyGJSZ_5SwT93GYQCnLUAp_yk2BzIh4N2IoRHkbWw9gT5I=s0\" style=\"width: 200px;\"/></a><br/><br/>"
      ],
      "text/plain": [
       "<IPython.core.display.HTML object>"
      ]
     },
     "metadata": {},
     "output_type": "display_data"
    },
    {
     "name": "stdout",
     "output_type": "stream",
     "text": [
      "Portrait of Emma Jane Hodges\n",
      "http://hdl.handle.net/10934/RM0001.COLLECT.8698\n"
     ]
    },
    {
     "data": {
      "text/html": [
       "<a target=\"_new\" href=\"http://lh3.ggpht.com/GiOaIqKnNhD_VOFDK8NG0VsSUaDX9Dug2Nu3ctVfSI-ocHXRft9Jm38I5judIbEpYyG4C9KDgkgI66fgZ5BCHJtHQA=s0\"><img src=\"http://lh3.ggpht.com/GiOaIqKnNhD_VOFDK8NG0VsSUaDX9Dug2Nu3ctVfSI-ocHXRft9Jm38I5judIbEpYyG4C9KDgkgI66fgZ5BCHJtHQA=s0\" style=\"width: 200px;\"/></a><br/><br/>"
      ],
      "text/plain": [
       "<IPython.core.display.HTML object>"
      ]
     },
     "metadata": {},
     "output_type": "display_data"
    }
   ],
   "source": [
    "\n",
    "query = \"\"\"\n",
    "PREFIX dc: <http://purl.org/dc/elements/1.1/>\n",
    "PREFIX edm: <http://www.europeana.eu/schemas/edm/>\n",
    "PREFIX ore: <http://www.openarchives.org/ore/terms/>\n",
    "PREFIX html: <http://www.w3.org/1999/xhtml/vocab#>\n",
    "PREFIX skos: <http://www.w3.org/2004/02/skos/core#>\n",
    "\n",
    "SELECT ?title ?label ?url ?landing\n",
    "WHERE {\n",
    "\n",
    "?object ore:proxyIn ?local_aggr .\n",
    "?object ore:proxyFor ?cho .\n",
    "?eur_aggr edm:aggregatedCHO ?cho .\n",
    "?eur_aggr a edm:EuropeanaAggregation .\n",
    "\n",
    "?local_aggr edm:dataProvider 'Rijksmuseum' .\n",
    "\n",
    "?object dc:title ?title .\n",
    "?object dc:type ?type .\n",
    "?type skos:prefLabel ?label .\n",
    "FILTER( regex(lang(?title),'en') )\n",
    "FILTER( regex(?label,'easel paintings') )\n",
    "?local_aggr edm:isShownBy ?url .\n",
    "?local_aggr edm:isShownAt ?landing .\n",
    "}\n",
    "LIMIT 30\n",
    "\"\"\"\n",
    "\n",
    "df =run_query(query) \n",
    "print( f'{df.shape[0]} results.' )\n",
    "\n",
    "df.columns\n",
    "for i,row in df.iterrows():\n",
    "    print( row['title.value'] )\n",
    "    print( row['landing.value'] )\n",
    "    img = row['url.value']\n",
    "    display(HTML(f'<a target=\"_new\" href=\"{img}\"><img src=\"{img}\" style=\"width: 200px;\"/></a><br/><br/>'))\n",
    "\n"
   ]
  },
  {
   "cell_type": "markdown",
   "id": "e0cd7ec4",
   "metadata": {},
   "source": [
    "It can also be interesting to search for works created bny a specific artist. Ine the records from the Rijksmuseum, the artist has been described using the `dc:contributor` predicate.\n",
    "\n",
    "The code below creates a list of all the works created by Jan Asselijn. "
   ]
  },
  {
   "cell_type": "code",
   "execution_count": 9,
   "id": "e04b96f8",
   "metadata": {},
   "outputs": [
    {
     "name": "stdout",
     "output_type": "stream",
     "text": [
      "http://data.europeana.eu/proxy/provider/90402/RP_P_1911_5848\n",
      "Etsen, naar verschillende meesters. 89 stuks\n",
      "Asselijn, Jan\n",
      "\n",
      "http://data.europeana.eu/proxy/provider/90402/RP_P_OB_17_605\n",
      "Klassieke ruïnes in een grot\n",
      "Asselijn, Jan\n",
      "\n",
      "http://data.europeana.eu/proxy/provider/90402/RP_P_OB_17_606\n",
      "Klassieke ruïnes in een grot\n",
      "Asselijn, Jan\n",
      "\n",
      "http://data.europeana.eu/proxy/provider/90402/RP_P_OB_17_607\n",
      "Klassieke ruïnes in een grot\n",
      "Asselijn, Jan\n",
      "\n",
      "http://data.europeana.eu/proxy/provider/90402/RP_P_OB_17_608\n",
      "Dalmatische hond\n",
      "Asselijn, Jan\n",
      "\n",
      "http://data.europeana.eu/proxy/provider/90402/RP_P_OB_41_882\n",
      "Doorbraak van de St.Anthonisdijk bij Amsterdam\n",
      "Asselijn, Jan\n",
      "\n",
      "http://data.europeana.eu/proxy/provider/90402/RP_P_OB_71_837\n",
      "Temple de la Ville Adrianne\n",
      "Asselijn, Jan\n",
      "\n",
      "http://data.europeana.eu/proxy/provider/90402/RP_P_OB_71_838\n",
      "Temple de Marcus Cursus\n",
      "Asselijn, Jan\n",
      "\n",
      "http://data.europeana.eu/proxy/provider/90402/RP_P_OB_71_840\n",
      "Vestige des Arcades ou Acqueducs de Friscati\n",
      "Asselijn, Jan\n",
      "\n",
      "http://data.europeana.eu/proxy/provider/90402/RP_P_OB_71_842\n",
      "La Grotte d'Aquafarelle où Charles le Quint fit dresser une Table\n",
      "Asselijn, Jan\n",
      "\n",
      "http://data.europeana.eu/proxy/provider/90402/RP_P_OB_71_844\n",
      "Veue du Colisée\n",
      "Asselijn, Jan\n",
      "\n",
      "http://data.europeana.eu/proxy/provider/90402/RP_P_OB_71_845\n",
      "Veue du Colisée ou Amphitheatre de Marcellus\n",
      "Asselijn, Jan\n",
      "\n",
      "http://data.europeana.eu/proxy/provider/90402/RP_P_OB_71_847\n",
      "Ruyne des Trophées de Marius\n",
      "Asselijn, Jan\n",
      "\n",
      "http://data.europeana.eu/proxy/provider/90402/RP_P_1910_1565\n",
      "Klassieke ruïnes in een grot\n",
      "Asselijn, Jan\n",
      "\n",
      "http://data.europeana.eu/proxy/provider/90402/RP_P_BI_5886\n",
      "De Reiziger\n",
      "Asselijn, Jan\n",
      "\n",
      "http://data.europeana.eu/proxy/provider/90402/RP_P_BI_5886\n",
      "Reiziger met paard voor een herberg\n",
      "Asselijn, Jan\n",
      "\n",
      "http://data.europeana.eu/proxy/provider/90402/RP_P_BI_5887\n",
      "De Reyziger\n",
      "Asselijn, Jan\n",
      "\n",
      "http://data.europeana.eu/proxy/provider/90402/RP_P_BI_5887\n",
      "Reiziger met paard voor een herberg\n",
      "Asselijn, Jan\n",
      "\n",
      "http://data.europeana.eu/proxy/provider/90402/RP_P_OB_47_744\n",
      "Herders met vee bij een ruïne\n",
      "Asselijn, Jan\n",
      "\n",
      "http://data.europeana.eu/proxy/provider/90402/RP_P_H_H_997\n",
      "Vestige du Temple de la Paix\n",
      "Asselijn, Jan\n",
      "\n",
      "http://data.europeana.eu/proxy/provider/90402/RP_P_H_H_999\n",
      "Veue du Tivoli avec le Temple de la Sibille Tiburtinne\n",
      "Asselijn, Jan\n",
      "\n",
      "http://data.europeana.eu/proxy/provider/90402/RP_P_H_K_12\n",
      "Vieux Mur de Rome dit Aquaduc proche la Porte St. Paul\n",
      "Asselijn, Jan\n",
      "\n",
      "http://data.europeana.eu/proxy/provider/90402/RP_P_H_K_14\n",
      "Veue du Colisée ou Amphitheatre de Marcellus\n",
      "Asselijn, Jan\n",
      "\n",
      "http://data.europeana.eu/proxy/provider/90402/RP_P_OB_19_259\n",
      "Rivier met vier paarden en begeleider, op de oever man met springend paard\n",
      "Asselijn, Jan\n",
      "\n",
      "http://data.europeana.eu/proxy/provider/90402/RP_P_1904_3701\n",
      "Le chasseur aux renards - Le chasseur aux lievrès. Le débarquement du vin - La maison du chasseur - Le Canal en Holland - Le voyageur à cheval - Naar Ph. Wouwermans, C. Dujardin, J. Ruisdael, A. van der Neer en J. Asselijn\n",
      "Asselijn, Jan\n",
      "\n",
      "http://data.europeana.eu/proxy/provider/90402/RP_P_BI_814\n",
      "Koeienkop naar rechts\n",
      "Asselijn, Jan\n",
      "\n",
      "http://data.europeana.eu/proxy/provider/90402/RP_P_1938_1203\n",
      "Klassieke ruïnes in een grot\n",
      "Asselijn, Jan\n",
      "\n",
      "http://data.europeana.eu/proxy/provider/90402/RP_P_1944_1117\n",
      "Koeienkop naar rechts\n",
      "Asselijn, Jan\n",
      "\n",
      "http://data.europeana.eu/proxy/provider/90402/RP_P_1944_609\n",
      "Koeienkop naar rechts\n",
      "Asselijn, Jan\n",
      "\n",
      "http://data.europeana.eu/proxy/provider/90402/RP_P_H_H_1001\n",
      "Ruyne du Colisée\n",
      "Asselijn, Jan\n",
      "\n",
      "http://data.europeana.eu/proxy/provider/90402/RP_P_H_H_1002\n",
      "Veue de la Porte St. Paul, proche laquelle se voit une Piramide Antique de Marbre\n",
      "Asselijn, Jan\n",
      "\n",
      "http://data.europeana.eu/proxy/provider/90402/RP_P_H_H_1004_D_1_\n",
      "Vestige du Pont des Sabines\n",
      "Asselijn, Jan\n",
      "\n",
      "http://data.europeana.eu/proxy/provider/90402/RP_P_H_H_1005\n",
      "Ruyne du Palais Maior\n",
      "Asselijn, Jan\n",
      "\n",
      "http://data.europeana.eu/proxy/provider/90402/RP_P_OB_82_249\n",
      "Gegraveerde titelpagina voor: A. Loosjes Pz, Johan de Witt, raadpensionaris van Holland, 1805\n",
      "Asselijn, Jan\n",
      "\n",
      "http://data.europeana.eu/proxy/provider/90402/RP_P_OB_82_249\n",
      "De bedreigde zwaan\n",
      "Asselijn, Jan\n",
      "\n",
      "http://data.europeana.eu/proxy/provider/90402/RP_T_1886_A_704_12\n",
      "Heuvellandschap met vee\n",
      "Asselijn, Jan\n",
      "\n"
     ]
    }
   ],
   "source": [
    "\n",
    "query = \"\"\"\n",
    "PREFIX rdf: <http://www.w3.org/1999/02/22-rdf-syntax-ns#>\n",
    "PREFIX rdfs: <http://www.w3.org/2000/01/rdf-schema#>\n",
    "PREFIX dc: <http://purl.org/dc/elements/1.1/>\n",
    "PREFIX dcterms: <http://purl.org/dc/terms/>\n",
    "PREFIX edm: <http://www.europeana.eu/schemas/edm/>\n",
    "PREFIX ore: <http://www.openarchives.org/ore/terms/>\n",
    "PREFIX html: <http://www.w3.org/1999/xhtml/vocab#>\n",
    "PREFIX skos: <http://www.w3.org/2004/02/skos/core#>\n",
    "\n",
    "SELECT ?object ?title ?contributor WHERE {\n",
    "\n",
    "?object ore:proxyIn ?local_aggr .\n",
    "?object ore:proxyFor ?cho .\n",
    "?eur_aggr edm:aggregatedCHO ?cho .\n",
    "?eur_aggr a edm:EuropeanaAggregation .\n",
    "\n",
    "?local_aggr edm:dataProvider 'Rijksmuseum' .\n",
    "\n",
    "  ?object dc:contributor ?contributor .\n",
    "  ?object dc:title ?title .\n",
    "  FILTER( regex(?contributor,'Asselijn, Jan') )\n",
    "} \n",
    "\"\"\"\n",
    "\n",
    "\n",
    "df = run_query(query)\n",
    "for i,row in df.iterrows():\n",
    "    print( f\"{row['object.value']}\")\n",
    "    print( f\"{row['title.value']}\")\n",
    "    print( f\"{row['contributor.value']}\\n\" )\n",
    "\n",
    "\n"
   ]
  },
  {
   "cell_type": "markdown",
   "id": "9e32bb97",
   "metadata": {},
   "source": [
    "If we want to search for paintings similar to Jan Asselijn's famous work \"De bedreigde zwaan\" (\"The Threatened Swan\"), it can be useful, first of all, to see all the data available in Europeana for this work. \n",
    "\n",
    "In the list given above, we can find the URI of the ore:Proxy for the object as supplied by the data provided: `http://data.europeana.eu/proxy/provider/90402/RP_P_OB_82_249`. "
   ]
  },
  {
   "cell_type": "code",
   "execution_count": 10,
   "id": "dcbb0b1d",
   "metadata": {},
   "outputs": [
    {
     "name": "stdout",
     "output_type": "stream",
     "text": [
      "pred.value => http://www.w3.org/1999/02/22-rdf-syntax-ns#type\n",
      "obj.value => http://www.openarchives.org/ore/terms/Proxy\n",
      "-------\n",
      "pred.value => http://purl.org/dc/terms/created\n",
      "obj.value => 1803 - 1805\n",
      "-------\n",
      "pred.value => http://purl.org/dc/terms/created\n",
      "obj.value => 1803 - 1805\n",
      "-------\n",
      "pred.value => http://purl.org/dc/terms/extent\n",
      "obj.value => blad breedte 163 mm\n",
      "-------\n",
      "pred.value => http://purl.org/dc/terms/extent\n",
      "obj.value => width 163 mm\n",
      "-------\n",
      "pred.value => http://purl.org/dc/terms/extent\n",
      "obj.value => height 247 mm\n",
      "-------\n",
      "pred.value => http://purl.org/dc/terms/extent\n",
      "obj.value => blad hoogte 247 mm\n",
      "-------\n",
      "pred.value => http://www.openarchives.org/ore/terms/proxyFor\n",
      "obj.value => http://data.europeana.eu/item/90402/RP_P_OB_82_249\n",
      "-------\n",
      "pred.value => http://purl.org/dc/elements/1.1/contributor\n",
      "obj.value => Asselijn, Jan\n",
      "-------\n",
      "pred.value => http://purl.org/dc/elements/1.1/coverage\n",
      "obj.value => eerste kwart 19e eeuw\n",
      "-------\n",
      "pred.value => http://purl.org/dc/elements/1.1/coverage\n",
      "obj.value => first quarter 19th century\n",
      "-------\n",
      "pred.value => http://purl.org/dc/elements/1.1/description\n",
      "obj.value => Gegraveerde titelpagina met een ovaal vignet met de bedreigde zwaan naar het schilderij van Jan Asselijn. Een zwaan verdedigt haar nest met eieren tegen een zwemmende hond. De voorstelling heeft een politieke allegorische interpretatie gekregen doordat de zwaan is geïnterpreteerd als de raadpensionaris Johan de Witt, die Holland beschermt tegen de vijand, de Engelse hond.\n",
      "-------\n",
      "pred.value => http://purl.org/dc/elements/1.1/format\n",
      "obj.value => http://vocab.getty.edu/aat/300014109\n",
      "-------\n",
      "pred.value => http://purl.org/dc/elements/1.1/identifier\n",
      "obj.value => RP-P-OB-82.249\n",
      "-------\n",
      "pred.value => http://purl.org/dc/elements/1.1/identifier\n",
      "obj.value => http://hdl.handle.net/10934/RM0001.COLLECT.466001\n",
      "-------\n",
      "pred.value => http://purl.org/dc/elements/1.1/language\n",
      "obj.value => nl\n",
      "-------\n",
      "pred.value => http://purl.org/dc/elements/1.1/publisher\n",
      "obj.value => Rijksmuseum\n",
      "-------\n",
      "pred.value => http://purl.org/dc/elements/1.1/rights\n",
      "obj.value => Public Domain\n",
      "-------\n",
      "pred.value => http://purl.org/dc/elements/1.1/rights\n",
      "obj.value => Publiek Domein\n",
      "-------\n",
      "pred.value => http://purl.org/dc/elements/1.1/subject\n",
      "obj.value => http://iconclass.org/25F36(SWAN)\n",
      "-------\n",
      "pred.value => http://purl.org/dc/elements/1.1/subject\n",
      "obj.value => urn:rijksmuseum:people:RM0001.PEOPLE.65980\n",
      "-------\n",
      "pred.value => http://purl.org/dc/elements/1.1/subject\n",
      "obj.value => urn:rijksmuseum:people:RM0001.PEOPLE.65170\n",
      "-------\n",
      "pred.value => http://purl.org/dc/elements/1.1/subject\n",
      "obj.value => urn:rijksmuseum:thesaurus:RM0001.THESAU.51181\n",
      "-------\n",
      "pred.value => http://purl.org/dc/elements/1.1/subject\n",
      "obj.value => Witt, Cornelis de\n",
      "-------\n",
      "pred.value => http://purl.org/dc/elements/1.1/subject\n",
      "obj.value => Witt, Johan de\n",
      "-------\n",
      "pred.value => http://purl.org/dc/elements/1.1/subject\n",
      "obj.value => Dood van de gebroeders De Witt\n",
      "-------\n",
      "pred.value => http://purl.org/dc/elements/1.1/subject\n",
      "obj.value => 1672-08-20 - 1672-08-20\n",
      "-------\n",
      "pred.value => http://purl.org/dc/elements/1.1/title\n",
      "obj.value => Gegraveerde titelpagina voor: A. Loosjes Pz, Johan de Witt, raadpensionaris van Holland, 1805\n",
      "-------\n",
      "pred.value => http://purl.org/dc/elements/1.1/title\n",
      "obj.value => De bedreigde zwaan\n",
      "-------\n",
      "pred.value => http://purl.org/dc/elements/1.1/type\n",
      "obj.value => http://vocab.getty.edu/aat/300041273\n",
      "-------\n",
      "pred.value => http://purl.org/dc/elements/1.1/type\n",
      "obj.value => urn:rijksmuseum:thesaurus:RM0001.THESAU.27272\n",
      "-------\n",
      "pred.value => http://purl.org/dc/elements/1.1/type\n",
      "obj.value => urn:rijksmuseum:thesaurus:RM0001.THESAU.20483\n",
      "-------\n",
      "pred.value => http://purl.org/dc/terms/isPartOf\n",
      "obj.value => collectie: prenten\n",
      "-------\n",
      "pred.value => http://purl.org/dc/terms/isPartOf\n",
      "obj.value => collectie: Frederik Muller Historieplaten\n",
      "-------\n",
      "pred.value => http://purl.org/dc/terms/isReferencedBy\n",
      "obj.value => FMH 2427 h, staat vóór de letter\n",
      "-------\n",
      "pred.value => http://purl.org/dc/terms/spatial\n",
      "obj.value => RM0001.THESAU.3671\n",
      "-------\n",
      "pred.value => http://www.europeana.eu/schemas/edm/europeanaProxy\n",
      "obj.value => false\n",
      "-------\n",
      "pred.value => http://www.europeana.eu/schemas/edm/type\n",
      "obj.value => IMAGE\n",
      "-------\n",
      "pred.value => http://www.openarchives.org/ore/terms/proxyIn\n",
      "obj.value => http://data.europeana.eu/aggregation/provider/90402/RP_P_OB_82_249\n",
      "-------\n"
     ]
    }
   ],
   "source": [
    "query = \"\"\"\n",
    "PREFIX dc: <http://purl.org/dc/elements/1.1/>\n",
    "PREFIX dcterms: <http://purl.org/dc/terms/>\n",
    "PREFIX edm: <http://www.europeana.eu/schemas/edm/>\n",
    "PREFIX ore: <http://www.openarchives.org/ore/terms/>\n",
    "PREFIX html: <http://www.w3.org/1999/xhtml/vocab#>\n",
    "\n",
    "\n",
    "SELECT *\n",
    "WHERE {\n",
    "\n",
    "<http://data.europeana.eu/proxy/provider/90402/RP_P_OB_82_249> ?pred ?obj .\n",
    "}\n",
    "\"\"\"\n",
    "\n",
    "print_results( run_query(query) ) "
   ]
  },
  {
   "cell_type": "markdown",
   "id": "cbcb8435",
   "metadata": {},
   "source": [
    "Among other things, we can see that the subject has been described using [Iconclass](https://iconclass.org).\n",
    "\n",
    "The painting has been describing with the URI `http://iconclass.org/25F36`, \"water-birds\". The SPARQL query below enables us to find all the works in the Rijksmuseum that have been assigned this subject. "
   ]
  },
  {
   "cell_type": "code",
   "execution_count": 11,
   "id": "1d803eff",
   "metadata": {},
   "outputs": [
    {
     "name": "stdout",
     "output_type": "stream",
     "text": [
      "There 115 objects displaying swans.\n",
      "Zwanen op het water en kasteel op de achtergrond\n"
     ]
    },
    {
     "data": {
      "text/html": [
       "<a target=\"_new\" href=\"http://hdl.handle.net/10934/RM0001.COLLECT.179630\"><img src=\"http://lh6.ggpht.com/yV5JTB4Agyc9LOU2bu207LOv5_ZEny52r3VH07MfcIgtIjOk1r5BzqfodduJ1Phs2AwQyhi82ZPBN6aKcsz-3mFTm0A3=s0\" style=\"width: 200px;\"/></a>"
      ],
      "text/plain": [
       "<IPython.core.display.HTML object>"
      ]
     },
     "metadata": {},
     "output_type": "display_data"
    },
    {
     "name": "stdout",
     "output_type": "stream",
     "text": [
      "Zwanen op het water en kasteel op de achtergrond\n"
     ]
    },
    {
     "data": {
      "text/html": [
       "<a target=\"_new\" href=\"http://hdl.handle.net/10934/RM0001.COLLECT.179631\"><img src=\"http://lh5.ggpht.com/R-9hY-6M0kt8ndK63IxemixH6UVoUWYJhupY6xNTXYEhMWx99ghu5KvFh0-zekIoJOLXiuakBkkx5Z82Ch5Qp79rivU=s0\" style=\"width: 200px;\"/></a>"
      ],
      "text/plain": [
       "<IPython.core.display.HTML object>"
      ]
     },
     "metadata": {},
     "output_type": "display_data"
    },
    {
     "name": "stdout",
     "output_type": "stream",
     "text": [
      "Verschillende vogels\n"
     ]
    },
    {
     "data": {
      "text/html": [
       "<a target=\"_new\" href=\"http://hdl.handle.net/10934/RM0001.COLLECT.476221\"><img src=\"http://lh5.ggpht.com/1XmqAu1Xl1nUKdMeTVQpb89lalojO9MJR9d88FZN_FoEFRFOAgEMC_TodZ5KXotnGGDUWK0Q7RILbNChrdgylvRjdAw=s0\" style=\"width: 200px;\"/></a>"
      ],
      "text/plain": [
       "<IPython.core.display.HTML object>"
      ]
     },
     "metadata": {},
     "output_type": "display_data"
    },
    {
     "name": "stdout",
     "output_type": "stream",
     "text": [
      "Verschillende vogels\n"
     ]
    },
    {
     "data": {
      "text/html": [
       "<a target=\"_new\" href=\"http://hdl.handle.net/10934/RM0001.COLLECT.476231\"><img src=\"http://lh6.ggpht.com/2x5vDJynNGUw1L8Ecf02flll8QKerA26Xc8Bc0bxjKSoI6STwlelOW1ECkjpHYKhZb2tRWioDkA1N2ImyzoanoIqiw=s0\" style=\"width: 200px;\"/></a>"
      ],
      "text/plain": [
       "<IPython.core.display.HTML object>"
      ]
     },
     "metadata": {},
     "output_type": "display_data"
    },
    {
     "name": "stdout",
     "output_type": "stream",
     "text": [
      "Vijver met watervogels\n"
     ]
    },
    {
     "data": {
      "text/html": [
       "<a target=\"_new\" href=\"http://hdl.handle.net/10934/RM0001.COLLECT.337783\"><img src=\"http://lh3.ggpht.com/eVCBvhGmVB269E6XJZuiwr5cdtIs6W-QlV6IsdSY3s1YYxhK6VnjmYASBF6JNBKqpt_22CssJYWRyGJIWrxByOD4OVy_=s0\" style=\"width: 200px;\"/></a>"
      ],
      "text/plain": [
       "<IPython.core.display.HTML object>"
      ]
     },
     "metadata": {},
     "output_type": "display_data"
    },
    {
     "name": "stdout",
     "output_type": "stream",
     "text": [
      "Twee zwanen\n"
     ]
    },
    {
     "data": {
      "text/html": [
       "<a target=\"_new\" href=\"http://hdl.handle.net/10934/RM0001.COLLECT.141316\"><img src=\"http://lh3.ggpht.com/xPiI279VIzTdq0jwGLCFrnVNVSGuEW3KA3_r0J6Ti0BmIRFIb8QgxIvx_L02kvW_mhI-e29tXv9rNZ-LFIKalEfwdqGj=s0\" style=\"width: 200px;\"/></a>"
      ],
      "text/plain": [
       "<IPython.core.display.HTML object>"
      ]
     },
     "metadata": {},
     "output_type": "display_data"
    },
    {
     "name": "stdout",
     "output_type": "stream",
     "text": [
      "Zwanen\n"
     ]
    },
    {
     "data": {
      "text/html": [
       "<a target=\"_new\" href=\"http://hdl.handle.net/10934/RM0001.collect.84295\"><img src=\"http://lh5.ggpht.com/BglPD3NyGURwsJHdP4uv52uz-mttg4v-EszKSgGovHj5y9uqf5HzGK2RkhAkBo6-uPgNe9OXIU3yDZ6kIFO57npBqyQ=s0\" style=\"width: 200px;\"/></a>"
      ],
      "text/plain": [
       "<IPython.core.display.HTML object>"
      ]
     },
     "metadata": {},
     "output_type": "display_data"
    },
    {
     "name": "stdout",
     "output_type": "stream",
     "text": [
      "Vignet met Poëzie met lier en zwaan in landschap met omlijsting\n"
     ]
    },
    {
     "data": {
      "text/html": [
       "<a target=\"_new\" href=\"http://hdl.handle.net/10934/RM0001.collect.87442\"><img src=\"http://lh6.ggpht.com/KBYqqL8vE9EXdLEsyDSmm1ReZKCY3CojaqOUlcp_Xn7haPyr2EOTt-nY358OKZu-GP4esCqcZF3UrwC3j7L_F-HmgQ=s0\" style=\"width: 200px;\"/></a>"
      ],
      "text/plain": [
       "<IPython.core.display.HTML object>"
      ]
     },
     "metadata": {},
     "output_type": "display_data"
    },
    {
     "name": "stdout",
     "output_type": "stream",
     "text": [
      "Portret van Sibylle van Griethuysen\n"
     ]
    },
    {
     "data": {
      "text/html": [
       "<a target=\"_new\" href=\"http://hdl.handle.net/10934/RM0001.COLLECT.153960\"><img src=\"http://lh5.ggpht.com/Qul946fPFYlVart08MSl_RlXrsuIi-1KlIert1LN2vluuHzLC80xRESEE_rfE-w4WRmdjvtUXV2o1xtZhI8Tk33ai-p1=s0\" style=\"width: 200px;\"/></a>"
      ],
      "text/plain": [
       "<IPython.core.display.HTML object>"
      ]
     },
     "metadata": {},
     "output_type": "display_data"
    },
    {
     "name": "stdout",
     "output_type": "stream",
     "text": [
      "Ridder op een schelp getrokken door twee zwanen\n"
     ]
    },
    {
     "data": {
      "text/html": [
       "<a target=\"_new\" href=\"http://hdl.handle.net/10934/RM0001.COLLECT.330815\"><img src=\"http://lh3.ggpht.com/_EPWxtMsViM4s4UX82-8Yw47cNeoLQGPz38KsQbs2jf97ofrLvy2d6IPizVd-TGqNEUmBVunEuxGEW4eQaQV7EngyyY=s0\" style=\"width: 200px;\"/></a>"
      ],
      "text/plain": [
       "<IPython.core.display.HTML object>"
      ]
     },
     "metadata": {},
     "output_type": "display_data"
    },
    {
     "name": "stdout",
     "output_type": "stream",
     "text": [
      "Dichter in zijn bibliotheek\n"
     ]
    },
    {
     "data": {
      "text/html": [
       "<a target=\"_new\" href=\"http://hdl.handle.net/10934/RM0001.COLLECT.134648\"><img src=\"http://lh4.ggpht.com/aq0sk8LotfI3X2dotwWVQAFhLTbX2kRLr9JvwfxyHxpbeFkSmKse21THUdLFn0jthbDhnIJW05ae94R6JjCmSMpsgA=s0\" style=\"width: 200px;\"/></a>"
      ],
      "text/plain": [
       "<IPython.core.display.HTML object>"
      ]
     },
     "metadata": {},
     "output_type": "display_data"
    },
    {
     "name": "stdout",
     "output_type": "stream",
     "text": [
      "Zwanen\n"
     ]
    },
    {
     "data": {
      "text/html": [
       "<a target=\"_new\" href=\"http://hdl.handle.net/10934/RM0001.collect.84291\"><img src=\"http://lh4.ggpht.com/zadqh8LXLdzKv3ZSWQtlvoL7d4P3CML6ZAgsTTWFLioAoVuW2buOJRpELR1NSe57i8xgY-1lBWsxsjR9v3jUz4WCOB8=s0\" style=\"width: 200px;\"/></a>"
      ],
      "text/plain": [
       "<IPython.core.display.HTML object>"
      ]
     },
     "metadata": {},
     "output_type": "display_data"
    },
    {
     "name": "stdout",
     "output_type": "stream",
     "text": [
      "Watervogels bij een poel\n"
     ]
    },
    {
     "data": {
      "text/html": [
       "<a target=\"_new\" href=\"http://hdl.handle.net/10934/RM0001.COLLECT.348248\"><img src=\"http://lh3.ggpht.com/H2MR6yCqrIQksAK-6QozySXleEIM_x-sTRJU-1FPdq9GYDniB_nEWnkrxt3_yvzw2fBj9K_k1dV5emt1wOV4MHNtmIeD=s0\" style=\"width: 200px;\"/></a>"
      ],
      "text/plain": [
       "<IPython.core.display.HTML object>"
      ]
     },
     "metadata": {},
     "output_type": "display_data"
    },
    {
     "name": "stdout",
     "output_type": "stream",
     "text": [
      "Groep zwaar boomgewas\n"
     ]
    },
    {
     "data": {
      "text/html": [
       "<a target=\"_new\" href=\"http://hdl.handle.net/10934/RM0001.COLLECT.342097\"><img src=\"http://lh6.ggpht.com/oCJ5Ra1sWpdppKjT2ERc_Xp4p2bjM1l4DJdeq8CnZTWC6INnYY7NGD7Kza-0M4plh8H3LcmPJo6Y-pOA7xKfTyvgqMs=s0\" style=\"width: 200px;\"/></a>"
      ],
      "text/plain": [
       "<IPython.core.display.HTML object>"
      ]
     },
     "metadata": {},
     "output_type": "display_data"
    },
    {
     "name": "stdout",
     "output_type": "stream",
     "text": [
      "Jacht op watervogels in de winter\n"
     ]
    },
    {
     "data": {
      "text/html": [
       "<a target=\"_new\" href=\"http://hdl.handle.net/10934/RM0001.COLLECT.115023\"><img src=\"http://lh4.ggpht.com/UJLv_xua45CrRj1Soqua2rjGCg9Dd-s1Dc7uwVfUMA3AAYTcnGfoBPRVhzP-EWlrUIR4wGaTucW-leO4VCkTO86pXKg=s0\" style=\"width: 200px;\"/></a>"
      ],
      "text/plain": [
       "<IPython.core.display.HTML object>"
      ]
     },
     "metadata": {},
     "output_type": "display_data"
    },
    {
     "name": "stdout",
     "output_type": "stream",
     "text": [
      "Avivm vivae\n"
     ]
    },
    {
     "data": {
      "text/html": [
       "<a target=\"_new\" href=\"http://hdl.handle.net/10934/RM0001.collect.97176\"><img src=\"http://lh4.ggpht.com/roFgYO0H0g2jv2rpVBh7Z6pCCusMpQjmgYUpZGVecPsp3u2OMNploHVPUUPMO4aLVKT_9EQNd9UviXM1Rvg2sigfXXw=s0\" style=\"width: 200px;\"/></a>"
      ],
      "text/plain": [
       "<IPython.core.display.HTML object>"
      ]
     },
     "metadata": {},
     "output_type": "display_data"
    },
    {
     "name": "stdout",
     "output_type": "stream",
     "text": [
      "Vogels en insecten\n"
     ]
    },
    {
     "data": {
      "text/html": [
       "<a target=\"_new\" href=\"http://hdl.handle.net/10934/RM0001.COLLECT.382736\"><img src=\"http://lh3.ggpht.com/hYmb9BNbo0kOnzUnGzMK5MY9KeFKtWiH69jNH9dNIpenV6owfeveVzI3g8D0otjiuS0V-WBq9fwkpkJL70CI6weZnl0=s0\" style=\"width: 200px;\"/></a>"
      ],
      "text/plain": [
       "<IPython.core.display.HTML object>"
      ]
     },
     "metadata": {},
     "output_type": "display_data"
    },
    {
     "name": "stdout",
     "output_type": "stream",
     "text": [
      "Somige Eenvoldige Vruchten en Spitsen\n"
     ]
    },
    {
     "data": {
      "text/html": [
       "<a target=\"_new\" href=\"http://hdl.handle.net/10934/RM0001.COLLECT.382738\"><img src=\"http://lh3.ggpht.com/p81N6KLsn9y02T4cs7zgglhfCvi5RED15teDqB9gdAoPYokreTFGOZau_xNywRBbqIjJcddaHmqo6BXdulP-rQ_0V7U=s0\" style=\"width: 200px;\"/></a>"
      ],
      "text/plain": [
       "<IPython.core.display.HTML object>"
      ]
     },
     "metadata": {},
     "output_type": "display_data"
    },
    {
     "name": "stdout",
     "output_type": "stream",
     "text": [
      "Gezichten op Kasteel Rosendael\n"
     ]
    },
    {
     "data": {
      "text/html": [
       "<a target=\"_new\" href=\"http://hdl.handle.net/10934/RM0001.COLLECT.335286\"><img src=\"http://lh4.ggpht.com/I3BvSubIkwzDyTj3z9syRmHKXEynVmZ9x-xp5hTfccPYNY0dtJ82azhpz24oZWywofQ4wxzm9X_Y9e71bx6enAgSazw=s0\" style=\"width: 200px;\"/></a>"
      ],
      "text/plain": [
       "<IPython.core.display.HTML object>"
      ]
     },
     "metadata": {},
     "output_type": "display_data"
    },
    {
     "name": "stdout",
     "output_type": "stream",
     "text": [
      "Les Modes Parisiennes, 1854, No. 601 : Toilettes d'enfants...\n"
     ]
    },
    {
     "data": {
      "text/html": [
       "<a target=\"_new\" href=\"http://hdl.handle.net/10934/RM0001.COLLECT.490455\"><img src=\"http://lh3.googleusercontent.com/Efgb2iehLSetsG1iIfw_MiBtVOe4XP_IkkHKJWIrdgK2q9UZjrEUifa1046tM0xMcdHmLmelqMHi3bcD5u3unEmd3w=s0\" style=\"width: 200px;\"/></a>"
      ],
      "text/plain": [
       "<IPython.core.display.HTML object>"
      ]
     },
     "metadata": {},
     "output_type": "display_data"
    },
    {
     "name": "stdout",
     "output_type": "stream",
     "text": [
      "Dieren\n"
     ]
    },
    {
     "data": {
      "text/html": [
       "<a target=\"_new\" href=\"http://hdl.handle.net/10934/RM0001.collect.81623\"><img src=\"http://lh6.ggpht.com/YNge7YlB72AtBml6u5n0gsVlSpZi1NQeIgtSMrVfSnHraWf0y0-4dU9aXB68f1WmsYh-7HdaM4VmWAkE_IFkexujGGE=s0\" style=\"width: 200px;\"/></a>"
      ],
      "text/plain": [
       "<IPython.core.display.HTML object>"
      ]
     },
     "metadata": {},
     "output_type": "display_data"
    },
    {
     "name": "stdout",
     "output_type": "stream",
     "text": [
      "Twee zwanen\n"
     ]
    },
    {
     "data": {
      "text/html": [
       "<a target=\"_new\" href=\"http://hdl.handle.net/10934/RM0001.collect.81636\"><img src=\"http://lh5.ggpht.com/ZUtzGyYtMjQ5P7J4Rc-RJkNYjqBm_6S6Zwcez6QA4lA9GZjZt8BIY-MQFJ_Te3kCB5aikc56DuORSKGjW25Kd3ATF4c=s0\" style=\"width: 200px;\"/></a>"
      ],
      "text/plain": [
       "<IPython.core.display.HTML object>"
      ]
     },
     "metadata": {},
     "output_type": "display_data"
    },
    {
     "name": "stdout",
     "output_type": "stream",
     "text": [
      "Dieren\n"
     ]
    },
    {
     "data": {
      "text/html": [
       "<a target=\"_new\" href=\"http://hdl.handle.net/10934/RM0001.collect.81628\"><img src=\"http://lh5.ggpht.com/ldSXPk2rgFFTY2M_nMBiW0M0mrurI57FFAA2hHO5mNmZt7BNQ3fGSx1I9Nz-7QGa85lhnsIsTARkIrFJq6vpEyObGEr6=s0\" style=\"width: 200px;\"/></a>"
      ],
      "text/plain": [
       "<IPython.core.display.HTML object>"
      ]
     },
     "metadata": {},
     "output_type": "display_data"
    },
    {
     "name": "stdout",
     "output_type": "stream",
     "text": [
      "Dieren\n"
     ]
    },
    {
     "data": {
      "text/html": [
       "<a target=\"_new\" href=\"http://hdl.handle.net/10934/RM0001.collect.81641\"><img src=\"http://lh4.ggpht.com/qg50WheFJVdBX5fdKhYLNh_tsqmxPyRRv8fgkNR06wUfT__IggSCKa02mkwZ-aqOGrrbp1ZrG3OYmcTAx7IPpEAntyw=s0\" style=\"width: 200px;\"/></a>"
      ],
      "text/plain": [
       "<IPython.core.display.HTML object>"
      ]
     },
     "metadata": {},
     "output_type": "display_data"
    },
    {
     "name": "stdout",
     "output_type": "stream",
     "text": [
      "Cygnes. / Cigi. / Schwäne. / Swans. / Zwanen\n"
     ]
    },
    {
     "data": {
      "text/html": [
       "<a target=\"_new\" href=\"http://hdl.handle.net/10934/RM0001.COLLECT.533994\"><img src=\"http://lh5.ggpht.com/4YyvRV0JGPoeBGB-BzfjrP3FL3Zgjn9H5xDvC8X38BwFBQ035tYjpgdJUDICPU7LqwNZexGTW6aq59_TWQJOJSgdIak=s0\" style=\"width: 200px;\"/></a>"
      ],
      "text/plain": [
       "<IPython.core.display.HTML object>"
      ]
     },
     "metadata": {},
     "output_type": "display_data"
    },
    {
     "name": "stdout",
     "output_type": "stream",
     "text": [
      "Architectonische bassin\n"
     ]
    },
    {
     "data": {
      "text/html": [
       "<a target=\"_new\" href=\"http://hdl.handle.net/10934/RM0001.COLLECT.116328\"><img src=\"http://lh4.ggpht.com/dEUPv9na3ZpPWJ-B_9VcCWi9Y4CxnxYSBZpdLAT8HjHjNAYu0fUphxcTv6P7LX3JXaF6UAyIeUhzC8O1cbP1SGzN2ow=s0\" style=\"width: 200px;\"/></a>"
      ],
      "text/plain": [
       "<IPython.core.display.HTML object>"
      ]
     },
     "metadata": {},
     "output_type": "display_data"
    },
    {
     "name": "stdout",
     "output_type": "stream",
     "text": [
      "Architectonische tuinen\n"
     ]
    },
    {
     "data": {
      "text/html": [
       "<a target=\"_new\" href=\"http://hdl.handle.net/10934/RM0001.COLLECT.116329\"><img src=\"http://lh5.ggpht.com/vj5PMTymehmFzfdURsXb0nfhCbVCvkNEFFga3jk1ZFGOKI3CRWMn8e1aENdcr-ShBxcA9sm83f29AT7t_UgRSqebrY4=s0\" style=\"width: 200px;\"/></a>"
      ],
      "text/plain": [
       "<IPython.core.display.HTML object>"
      ]
     },
     "metadata": {},
     "output_type": "display_data"
    },
    {
     "name": "stdout",
     "output_type": "stream",
     "text": [
      "Titelpagina voor: Bruin, Claas. Verzameling der overgeblevene Bybel- Zede- en Mengelpoëzy, 1741\n"
     ]
    },
    {
     "data": {
      "text/html": [
       "<a target=\"_new\" href=\"http://hdl.handle.net/10934/RM0001.COLLECT.193370\"><img src=\"http://lh6.ggpht.com/SLJp-NbsJ69ZEF4Ls5wyg9T6ipwNA6npgqztzihO3FOAOSNSwyPGkuqmkFwxJoErTU99S7SlMw8_qQOdVc5dbOC1jIk=s0\" style=\"width: 200px;\"/></a>"
      ],
      "text/plain": [
       "<IPython.core.display.HTML object>"
      ]
     },
     "metadata": {},
     "output_type": "display_data"
    },
    {
     "name": "stdout",
     "output_type": "stream",
     "text": [
      "Vogels\n"
     ]
    },
    {
     "data": {
      "text/html": [
       "<a target=\"_new\" href=\"http://hdl.handle.net/10934/RM0001.collect.97177\"><img src=\"http://lh4.ggpht.com/C7g4ECX41nr1PQoLykAdNrNgyHW9-qWhknGtuGsl5begLvdE-epXp6gJ-FY3SpNFHhq5cfjFOtwM06Wkujpf8uYlbdNA=s0\" style=\"width: 200px;\"/></a>"
      ],
      "text/plain": [
       "<IPython.core.display.HTML object>"
      ]
     },
     "metadata": {},
     "output_type": "display_data"
    },
    {
     "name": "stdout",
     "output_type": "stream",
     "text": [
      "Paar zittend op een bank in een park met schapen en zwanen\n"
     ]
    },
    {
     "data": {
      "text/html": [
       "<a target=\"_new\" href=\"http://hdl.handle.net/10934/RM0001.COLLECT.328976\"><img src=\"http://lh4.ggpht.com/2Je2warQvt_myR8HlM-KDvIaI3IoaIW3a6xzWvsPIlD-Ks_d18riA6yuwWEwc4SGsepmzum8MtSNvYlwbiLO0te35Q=s0\" style=\"width: 200px;\"/></a>"
      ],
      "text/plain": [
       "<IPython.core.display.HTML object>"
      ]
     },
     "metadata": {},
     "output_type": "display_data"
    },
    {
     "name": "stdout",
     "output_type": "stream",
     "text": [
      "Vignet met Mercurius als Welsprekendheid\n"
     ]
    },
    {
     "data": {
      "text/html": [
       "<a target=\"_new\" href=\"http://hdl.handle.net/10934/RM0001.COLLECT.341218\"><img src=\"http://lh3.ggpht.com/x7cD0aueV5okyXv2LIOskAaNL5c4zAyT_UVdOcbzD7l9A4oVCvXbwUbeK6NS4F4X7PlGtSOjHGt514wFQjgG5KWQhjT9=s0\" style=\"width: 200px;\"/></a>"
      ],
      "text/plain": [
       "<IPython.core.display.HTML object>"
      ]
     },
     "metadata": {},
     "output_type": "display_data"
    },
    {
     "name": "stdout",
     "output_type": "stream",
     "text": [
      "Blad met vier vignetten\n"
     ]
    },
    {
     "data": {
      "text/html": [
       "<a target=\"_new\" href=\"http://hdl.handle.net/10934/RM0001.collect.80609\"><img src=\"http://lh6.ggpht.com/sk1GFH8y0ZUS9VpcfD2AdLY69L0tEJCt4sAFWaAQCMwq7oAcvJeJgbmyPCmfRlRmV1pCbgYtlNKRCN1xjFcjDCCR3uU=s0\" style=\"width: 200px;\"/></a>"
      ],
      "text/plain": [
       "<IPython.core.display.HTML object>"
      ]
     },
     "metadata": {},
     "output_type": "display_data"
    },
    {
     "name": "stdout",
     "output_type": "stream",
     "text": [
      "Swan and Iris\n"
     ]
    },
    {
     "data": {
      "text/html": [
       "<a target=\"_new\" href=\"http://hdl.handle.net/10934/RM0001.collect.42598\"><img src=\"http://lh5.ggpht.com/0mY1C_CmHnHnTLEZTBG0Bul0vsPMZ5si-yCFYoY0HFwpE32CFKo_38llgls5TsF55dLN7jfMrdHbQfl0VRSmmKt9Vcw=s0\" style=\"width: 200px;\"/></a>"
      ],
      "text/plain": [
       "<IPython.core.display.HTML object>"
      ]
     },
     "metadata": {},
     "output_type": "display_data"
    },
    {
     "name": "stdout",
     "output_type": "stream",
     "text": [
      "Verschillende vogels\n"
     ]
    },
    {
     "data": {
      "text/html": [
       "<a target=\"_new\" href=\"http://hdl.handle.net/10934/RM0001.collect.32901\"><img src=\"http://lh4.ggpht.com/HvxqtkesBmW0s0H9ikqqrYoHGWbe0lLsxU75_11lKKJd69RbnzT1_bOm9zJyHgsaU17bTZ2BZvNSwxlmW-DZQ-AEDkYE=s0\" style=\"width: 200px;\"/></a>"
      ],
      "text/plain": [
       "<IPython.core.display.HTML object>"
      ]
     },
     "metadata": {},
     "output_type": "display_data"
    },
    {
     "name": "stdout",
     "output_type": "stream",
     "text": [
      "Guirlande\n"
     ]
    },
    {
     "data": {
      "text/html": [
       "<a target=\"_new\" href=\"http://hdl.handle.net/10934/RM0001.COLLECT.445302\"><img src=\"http://lh5.ggpht.com/MPypJvAEyCnHilu-jUx_zYgVC2Vsrwy7bSrrN0aMBm5xpBtrao5UFJ0xGw0YxL0R69tCY0jJk7RVNhalqsPOAZ4g3gw=s0\" style=\"width: 200px;\"/></a>"
      ],
      "text/plain": [
       "<IPython.core.display.HTML object>"
      ]
     },
     "metadata": {},
     "output_type": "display_data"
    },
    {
     "name": "stdout",
     "output_type": "stream",
     "text": [
      "Ziet hier al weer een nieuwe prent; / Die m'om uw leerzaamheid u schenkt\n"
     ]
    },
    {
     "data": {
      "text/html": [
       "<a target=\"_new\" href=\"http://hdl.handle.net/10934/RM0001.COLLECT.531586\"><img src=\"http://lh4.ggpht.com/iO-anH_9Nq-F6ggFNP3kKM11pYuIHaU6kdWfaPQSOMe3GuLOgagLeXsiDe7N6NW4L7mXN4muSJGKRG2jBDCweA2t4jc=s0\" style=\"width: 200px;\"/></a>"
      ],
      "text/plain": [
       "<IPython.core.display.HTML object>"
      ]
     },
     "metadata": {},
     "output_type": "display_data"
    },
    {
     "name": "stdout",
     "output_type": "stream",
     "text": [
      "All' wat God schip kan ons ter leeringe verstrekken; / Want alles, wel betracht, zal ons zyn magt ontdekkehn: / De dieren, hier vertoond, verschaffen u, o jeugd! / Een school van wysheid, en niet min een school van deugd\n"
     ]
    },
    {
     "data": {
      "text/html": [
       "<a target=\"_new\" href=\"http://hdl.handle.net/10934/RM0001.COLLECT.552818\"><img src=\"http://lh3.ggpht.com/AXP2f_Rsqc8SJTYhCDItjiJg_JZ8DfY2pa3hL1EYjO6q5Ddg50iyzboeCIiCpQ_zq-NnpXOTNfarHtucu6-uYfI4UcrE=s0\" style=\"width: 200px;\"/></a>"
      ],
      "text/plain": [
       "<IPython.core.display.HTML object>"
      ]
     },
     "metadata": {},
     "output_type": "display_data"
    },
    {
     "name": "stdout",
     "output_type": "stream",
     "text": [
      "Jupiter en Amor\n"
     ]
    },
    {
     "data": {
      "text/html": [
       "<a target=\"_new\" href=\"http://hdl.handle.net/10934/RM0001.COLLECT.231104\"><img src=\"http://lh4.ggpht.com/BeA4ecz0LrWNlnb6SBlP3-DbUjzANYtFoDx2EnZI7OyaIF6x8Swp7Mr8J37FQsOfQFXRoAvU6eQOU_UD8hKSTIwqLDo=s0\" style=\"width: 200px;\"/></a>"
      ],
      "text/plain": [
       "<IPython.core.display.HTML object>"
      ]
     },
     "metadata": {},
     "output_type": "display_data"
    },
    {
     "name": "stdout",
     "output_type": "stream",
     "text": [
      "Gevogelte bij een bergstroom\n"
     ]
    },
    {
     "data": {
      "text/html": [
       "<a target=\"_new\" href=\"http://hdl.handle.net/10934/RM0001.COLLECT.51405\"><img src=\"http://lh4.ggpht.com/0xbm0zKYuzNHcK0Qc6L4ulFeEpRJpYHzAnubPcRmGgShmiA8tHP6rlPQvz5M6SBqquh2hwRdU3caMzCVG1NOssPD3pw=s0\" style=\"width: 200px;\"/></a>"
      ],
      "text/plain": [
       "<IPython.core.display.HTML object>"
      ]
     },
     "metadata": {},
     "output_type": "display_data"
    },
    {
     "name": "stdout",
     "output_type": "stream",
     "text": [
      "Studies van een vogel, mogelijk een meeuw\n"
     ]
    },
    {
     "data": {
      "text/html": [
       "<a target=\"_new\" href=\"http://hdl.handle.net/10934/RM0001.COLLECT.529746\"><img src=\"http://lh3.googleusercontent.com/iH9mkbSkJhN2E79MFmgtL-BIOZRiUlc71ZNbcqgNRDtLWANnPUiEiL08kV9-199W6v3NVpxIibRGXAAQ2PM0h-uizcA=s0\" style=\"width: 200px;\"/></a>"
      ],
      "text/plain": [
       "<IPython.core.display.HTML object>"
      ]
     },
     "metadata": {},
     "output_type": "display_data"
    },
    {
     "name": "stdout",
     "output_type": "stream",
     "text": [
      "Studieblad, onder andere met een watervogel en grafschildering\n"
     ]
    },
    {
     "data": {
      "text/html": [
       "<a target=\"_new\" href=\"http://hdl.handle.net/10934/RM0001.COLLECT.567317\"><img src=\"http://lh3.googleusercontent.com/fue1Wci2yedFMjbx3m8VuwuCbX2OG180c2wIjfwXp6K3Jz6qGYUPjKJ0oFcudCYd4ud1OHEvDRihEkGic6ctdwxaVEJu=s0\" style=\"width: 200px;\"/></a>"
      ],
      "text/plain": [
       "<IPython.core.display.HTML object>"
      ]
     },
     "metadata": {},
     "output_type": "display_data"
    },
    {
     "name": "stdout",
     "output_type": "stream",
     "text": [
      "Grafmonument voor Lucas Reeder\n"
     ]
    },
    {
     "data": {
      "text/html": [
       "<a target=\"_new\" href=\"http://hdl.handle.net/10934/RM0001.COLLECT.133364\"><img src=\"http://lh3.ggpht.com/IF7QWV76tvkNJUwlDtwxWOfiimZNE_0DGfsRlABDLdwFKgJvMZCK8U4dzqgNlGjtXgFcCkVb0QxvP7cnBw4kpnrQrjEe=s0\" style=\"width: 200px;\"/></a>"
      ],
      "text/plain": [
       "<IPython.core.display.HTML object>"
      ]
     },
     "metadata": {},
     "output_type": "display_data"
    },
    {
     "name": "stdout",
     "output_type": "stream",
     "text": [
      "Zwanen voeren in het Vondelpark\n"
     ]
    },
    {
     "data": {
      "text/html": [
       "<a target=\"_new\" href=\"http://hdl.handle.net/10934/RM0001.COLLECT.118471\"><img src=\"http://lh5.ggpht.com/sIa6XTO1Kqmltc0fI6gnbXVsm4UqPlbc6BPP2RbRvu3Zho8BPayk8D1IyEUATndiPTxsMcy3oKSD57nF2evfxS-0ypo=s0\" style=\"width: 200px;\"/></a>"
      ],
      "text/plain": [
       "<IPython.core.display.HTML object>"
      ]
     },
     "metadata": {},
     "output_type": "display_data"
    },
    {
     "name": "stdout",
     "output_type": "stream",
     "text": [
      "Zwaan\n"
     ]
    },
    {
     "data": {
      "text/html": [
       "<a target=\"_new\" href=\"http://hdl.handle.net/10934/RM0001.COLLECT.234843\"><img src=\"http://lh6.ggpht.com/xCv6qGCyC2fit7gJ7ZMvw9s36L5FwSG2g3TufylVeYuJrop7j0uwOmwonLAa76jxDEuIFNoMD0CJDdWCOUFXicpprA=s0\" style=\"width: 200px;\"/></a>"
      ],
      "text/plain": [
       "<IPython.core.display.HTML object>"
      ]
     },
     "metadata": {},
     "output_type": "display_data"
    },
    {
     "name": "stdout",
     "output_type": "stream",
     "text": [
      "Zwaan met gespreide vleugels\n"
     ]
    },
    {
     "data": {
      "text/html": [
       "<a target=\"_new\" href=\"http://hdl.handle.net/10934/RM0001.COLLECT.234839\"><img src=\"http://lh6.ggpht.com/ai6aE0p-oBwxdoaL6h87f3qY-u5NJOiZZTcYjmJ_eiHDJ3jtHFiCTJ8CmysySAmFvOyjmOHXeEvFwKRN2Toout9U5Tc=s0\" style=\"width: 200px;\"/></a>"
      ],
      "text/plain": [
       "<IPython.core.display.HTML object>"
      ]
     },
     "metadata": {},
     "output_type": "display_data"
    },
    {
     "name": "stdout",
     "output_type": "stream",
     "text": [
      "Studie van een zwaan met gespreide vleugels\n"
     ]
    },
    {
     "data": {
      "text/html": [
       "<a target=\"_new\" href=\"http://hdl.handle.net/10934/RM0001.COLLECT.234841\"><img src=\"http://lh4.ggpht.com/HXRENIM9ydxthbSKZmxDiyOgeXvcVQnScjmVTFkDeYNGv-UYB8aRAk8ZeGdsypMvUtNFFP8ChGhmk0H1reMZGrJrml0=s0\" style=\"width: 200px;\"/></a>"
      ],
      "text/plain": [
       "<IPython.core.display.HTML object>"
      ]
     },
     "metadata": {},
     "output_type": "display_data"
    },
    {
     "name": "stdout",
     "output_type": "stream",
     "text": [
      "Studie van een zwaan met gespreide vleugels\n"
     ]
    },
    {
     "data": {
      "text/html": [
       "<a target=\"_new\" href=\"http://hdl.handle.net/10934/RM0001.COLLECT.234840\"><img src=\"http://lh5.ggpht.com/12aVh6a57QovGrJBLKWG_RbwwCUsq_Y8dVtTwjowEfCj41HFuEH3MoUKc-oZyf0ReNDnQuYANlROlU-7X1tXgXE-PK9Q=s0\" style=\"width: 200px;\"/></a>"
      ],
      "text/plain": [
       "<IPython.core.display.HTML object>"
      ]
     },
     "metadata": {},
     "output_type": "display_data"
    },
    {
     "name": "stdout",
     "output_type": "stream",
     "text": [
      "Portret van een vrouw met een zwaan en een papegaai in een tuin\n"
     ]
    },
    {
     "data": {
      "text/html": [
       "<a target=\"_new\" href=\"http://hdl.handle.net/10934/RM0001.COLLECT.242687\"><img src=\"http://lh4.ggpht.com/vRBEF1XPUpcZ2J6wASFv2m8XduLlMi8McNPGZrUbMl_FGjmdpFTuGsAtQrB8K59OJHPUiYnu5eswWN6i1p3guwLTXE3F=s0\" style=\"width: 200px;\"/></a>"
      ],
      "text/plain": [
       "<IPython.core.display.HTML object>"
      ]
     },
     "metadata": {},
     "output_type": "display_data"
    },
    {
     "name": "stdout",
     "output_type": "stream",
     "text": [
      "Landschap met kievieten en talingen\n"
     ]
    },
    {
     "data": {
      "text/html": [
       "<a target=\"_new\" href=\"http://hdl.handle.net/10934/RM0001.COLLECT.41887\"><img src=\"http://lh3.ggpht.com/AXoriqpcFGMA4g_8VHoRhKCxOReJjkhfqI0V5ZIhNOLLMXkHTCAN3imZoShJc365OGDhediwMmJthuUceLnXtgq3zQ=s0\" style=\"width: 200px;\"/></a>"
      ],
      "text/plain": [
       "<IPython.core.display.HTML object>"
      ]
     },
     "metadata": {},
     "output_type": "display_data"
    },
    {
     "name": "stdout",
     "output_type": "stream",
     "text": [
      "Zwanen\n"
     ]
    },
    {
     "data": {
      "text/html": [
       "<a target=\"_new\" href=\"http://hdl.handle.net/10934/RM0001.COLLECT.222916\"><img src=\"http://lh5.ggpht.com/JUBjK1W1aOt5kNfC1CopLhmW61mm1eEmqO_Jzdz4yurTfGwkIDh5NpFaiKDcCEU06ARgGPftuklmfT6P67Dmq5wAWA=s0\" style=\"width: 200px;\"/></a>"
      ],
      "text/plain": [
       "<IPython.core.display.HTML object>"
      ]
     },
     "metadata": {},
     "output_type": "display_data"
    },
    {
     "name": "stdout",
     "output_type": "stream",
     "text": [
      "Vogels\n"
     ]
    },
    {
     "data": {
      "text/html": [
       "<a target=\"_new\" href=\"http://hdl.handle.net/10934/RM0001.COLLECT.97178\"><img src=\"http://lh3.ggpht.com/XPk0CRXQRzxos-AV-Ns-0idfQRvHklgt8EXqumiNVOCa5xL8-MbAo9O7-yq1GYHb5YWrb-JTYzdMrp-hzXmBBzPHB5ut=s0\" style=\"width: 200px;\"/></a>"
      ],
      "text/plain": [
       "<IPython.core.display.HTML object>"
      ]
     },
     "metadata": {},
     "output_type": "display_data"
    },
    {
     "name": "stdout",
     "output_type": "stream",
     "text": [
      "Zwanen\n"
     ]
    },
    {
     "data": {
      "text/html": [
       "<a target=\"_new\" href=\"http://hdl.handle.net/10934/RM0001.COLLECT.113208\"><img src=\"http://lh3.ggpht.com/DRVGKJWgeLXrjx10OPu00Jlu2af0zalsnLErHntpt_ywXSWRwDoRl06A_ImIAlv404lKrKxOwNu5uZwh9kQzg2hPSXTp=s0\" style=\"width: 200px;\"/></a>"
      ],
      "text/plain": [
       "<IPython.core.display.HTML object>"
      ]
     },
     "metadata": {},
     "output_type": "display_data"
    },
    {
     "name": "stdout",
     "output_type": "stream",
     "text": [
      "Poëzie ontvangt Minerva\n"
     ]
    },
    {
     "data": {
      "text/html": [
       "<a target=\"_new\" href=\"http://hdl.handle.net/10934/RM0001.COLLECT.163897\"><img src=\"http://lh6.ggpht.com/_L2xrUHR4soe_HB8YIzd73DMG_HHjZqmaiXGy2YYlpzx8EQBJRfmCFFOYAcHaRLd_9Z7M8R8lB0nhqE9XPsuDd_Wkg=s0\" style=\"width: 200px;\"/></a>"
      ],
      "text/plain": [
       "<IPython.core.display.HTML object>"
      ]
     },
     "metadata": {},
     "output_type": "display_data"
    },
    {
     "name": "stdout",
     "output_type": "stream",
     "text": [
      "Titelpagina voor: Almanach, voor jonge heeren en juffers, 1789 / Mannen bij een beek / Zwaan / Afscheid in de haven\n"
     ]
    },
    {
     "data": {
      "text/html": [
       "<a target=\"_new\" href=\"http://hdl.handle.net/10934/RM0001.COLLECT.328073\"><img src=\"http://lh4.ggpht.com/T-QbGrYs-gApHeGws1lCIvLc9dLyVMiDRN0cKixZ3mVUgQdpksMlUOUhBCyaixkXhPyLNN49CKyJncW71CbecLlH__8=s0\" style=\"width: 200px;\"/></a>"
      ],
      "text/plain": [
       "<IPython.core.display.HTML object>"
      ]
     },
     "metadata": {},
     "output_type": "display_data"
    },
    {
     "name": "stdout",
     "output_type": "stream",
     "text": [
      "Portret van Maarten Luther\n"
     ]
    },
    {
     "data": {
      "text/html": [
       "<a target=\"_new\" href=\"http://hdl.handle.net/10934/RM0001.COLLECT.182419\"><img src=\"http://lh3.ggpht.com/TMwk2WVd2_bt6WSyVzAqskwHd95hXVTmbapGmUHZiP9vEmTlthfCxWlEN13pzoycJ4iZsgy5NC9AgG1hTimNO5XzB8o=s0\" style=\"width: 200px;\"/></a>"
      ],
      "text/plain": [
       "<IPython.core.display.HTML object>"
      ]
     },
     "metadata": {},
     "output_type": "display_data"
    },
    {
     "name": "stdout",
     "output_type": "stream",
     "text": [
      "Studieblad, onder andere met pijprokende mannen, een hond en dode vogel\n"
     ]
    },
    {
     "data": {
      "text/html": [
       "<a target=\"_new\" href=\"http://hdl.handle.net/10934/RM0001.COLLECT.554299\"><img src=\"http://lh3.googleusercontent.com/Ull5SPmqVmfUyqKKQzn4fdqLT_Q_g3TWTKN7v-zLX4u4d5syaJ4VhvjKK6pWWnCQm-AePzkpNekoMiMaguYr4ZfXi00=s0\" style=\"width: 200px;\"/></a>"
      ],
      "text/plain": [
       "<IPython.core.display.HTML object>"
      ]
     },
     "metadata": {},
     "output_type": "display_data"
    },
    {
     "name": "stdout",
     "output_type": "stream",
     "text": [
      "Zwaan\n"
     ]
    },
    {
     "data": {
      "text/html": [
       "<a target=\"_new\" href=\"http://hdl.handle.net/10934/RM0001.COLLECT.555287\"><img src=\"http://lh3.googleusercontent.com/xEGI5gt_tY6f16I7TQ1doQb6Xh6WYtG3-Wv-_FS1HFWALDSsnAM9D9HUrOGRTV7tcHkNuJK12fXHe8KG3Kvt6cKnRw=s0\" style=\"width: 200px;\"/></a>"
      ],
      "text/plain": [
       "<IPython.core.display.HTML object>"
      ]
     },
     "metadata": {},
     "output_type": "display_data"
    },
    {
     "name": "stdout",
     "output_type": "stream",
     "text": [
      "Zwanen\n"
     ]
    },
    {
     "data": {
      "text/html": [
       "<a target=\"_new\" href=\"http://hdl.handle.net/10934/RM0001.COLLECT.556770\"><img src=\"http://lh3.googleusercontent.com/yeZUwvEXk4AdHYIHePkPoM6g0WgWIiokS_bb53VeSHdUQ4gsl-Uj4bR1WckjaeMU7xExX5JpR2SS1HrlspU3ieMQ6A=s0\" style=\"width: 200px;\"/></a>"
      ],
      "text/plain": [
       "<IPython.core.display.HTML object>"
      ]
     },
     "metadata": {},
     "output_type": "display_data"
    },
    {
     "name": "stdout",
     "output_type": "stream",
     "text": [
      "Jonge en oudere zwanen\n"
     ]
    },
    {
     "data": {
      "text/html": [
       "<a target=\"_new\" href=\"http://hdl.handle.net/10934/RM0001.COLLECT.556773\"><img src=\"http://lh3.googleusercontent.com/uBxpSqsPSwm6S3Tz08wZSwCmU6BSGqlug0uulWvP9UHGYRtsUjdYvDQF7rqnEk3oZBAg5ODOP4sHzYg9QOjA-dc5mWo=s0\" style=\"width: 200px;\"/></a>"
      ],
      "text/plain": [
       "<IPython.core.display.HTML object>"
      ]
     },
     "metadata": {},
     "output_type": "display_data"
    },
    {
     "name": "stdout",
     "output_type": "stream",
     "text": [
      "Twee zwanen\n"
     ]
    },
    {
     "data": {
      "text/html": [
       "<a target=\"_new\" href=\"http://hdl.handle.net/10934/RM0001.COLLECT.141315\"><img src=\"http://lh5.ggpht.com/Wzu7YStAXEnWqO0p7VOxqtk68ALbLOKA5-9r7Fehc0ayDTIMdZYp4Jl6K43ecZpGS-dpyb-L6G5ecV3NWb3qIlLGQbA=s0\" style=\"width: 200px;\"/></a>"
      ],
      "text/plain": [
       "<IPython.core.display.HTML object>"
      ]
     },
     "metadata": {},
     "output_type": "display_data"
    },
    {
     "name": "stdout",
     "output_type": "stream",
     "text": [
      "Verschillende vogels\n"
     ]
    },
    {
     "data": {
      "text/html": [
       "<a target=\"_new\" href=\"http://hdl.handle.net/10934/RM0001.COLLECT.141319\"><img src=\"http://lh3.ggpht.com/KidzJGmiOccCTZf_kjJg0w66MsspBB4ZPjDUXTd18r0UCngQOUbJQXgyd7HMago55bda-5F_DPyjPHuaYO5uz8K8sS0H=s0\" style=\"width: 200px;\"/></a>"
      ],
      "text/plain": [
       "<IPython.core.display.HTML object>"
      ]
     },
     "metadata": {},
     "output_type": "display_data"
    },
    {
     "name": "stdout",
     "output_type": "stream",
     "text": [
      "Venus en Amor in ornamenteel kader\n"
     ]
    },
    {
     "data": {
      "text/html": [
       "<a target=\"_new\" href=\"http://hdl.handle.net/10934/RM0001.COLLECT.313442\"><img src=\"http://lh3.ggpht.com/fsUtz8waFNhYzbXzZ9huYuwKSNzR_thdVkVhHcGZfhhjRU0IjTdoLB008pcLvca2krGqoVhM2kDP8ZnH28gj054h0k4=s0\" style=\"width: 200px;\"/></a>"
      ],
      "text/plain": [
       "<IPython.core.display.HTML object>"
      ]
     },
     "metadata": {},
     "output_type": "display_data"
    },
    {
     "name": "stdout",
     "output_type": "stream",
     "text": [
      "Veelderhande cierlijcke compertementen\n"
     ]
    },
    {
     "data": {
      "text/html": [
       "<a target=\"_new\" href=\"http://hdl.handle.net/10934/RM0001.COLLECT.445832\"><img src=\"http://lh4.ggpht.com/xcCqpYlB2gsGb3wpd0Sx85_VIPQYemxJfescHkXw-68NWy0k7j-atUd_E9wiYyqttAjvqSRdUd9BlPPnquQ5RK1Lx4O3=s0\" style=\"width: 200px;\"/></a>"
      ],
      "text/plain": [
       "<IPython.core.display.HTML object>"
      ]
     },
     "metadata": {},
     "output_type": "display_data"
    },
    {
     "name": "stdout",
     "output_type": "stream",
     "text": [
      "Veelderhande cierlijcke compertementen\n"
     ]
    },
    {
     "data": {
      "text/html": [
       "<a target=\"_new\" href=\"http://hdl.handle.net/10934/RM0001.COLLECT.445833\"><img src=\"http://lh4.ggpht.com/x4EWvjgaJkqcGiUh82vbHZMFNi5KSEzjgKJMST9RYfmfBhF7tDD2Q4G1b8zUEDMQNSe7jSwnFobQIzBwuNpokowddg=s0\" style=\"width: 200px;\"/></a>"
      ],
      "text/plain": [
       "<IPython.core.display.HTML object>"
      ]
     },
     "metadata": {},
     "output_type": "display_data"
    },
    {
     "name": "stdout",
     "output_type": "stream",
     "text": [
      "Veelderhande cierlijcke Compertementen...\n"
     ]
    },
    {
     "data": {
      "text/html": [
       "<a target=\"_new\" href=\"http://hdl.handle.net/10934/RM0001.COLLECT.409537\"><img src=\"http://lh4.ggpht.com/82PFkeojlwUmuFgFl2g40F6_z0VGM9Jg7hh_MsbFFo2lGNRvKUsj66qagSJ4uAnv3FyEH0t8QW_YNX96gNILduckFg=s0\" style=\"width: 200px;\"/></a>"
      ],
      "text/plain": [
       "<IPython.core.display.HTML object>"
      ]
     },
     "metadata": {},
     "output_type": "display_data"
    },
    {
     "name": "stdout",
     "output_type": "stream",
     "text": [
      "Wandelaars in een park\n"
     ]
    },
    {
     "data": {
      "text/html": [
       "<a target=\"_new\" href=\"http://hdl.handle.net/10934/RM0001.collect.153862\"><img src=\"http://lh5.ggpht.com/xRfESBWUvxrLLmwH7B3zWIhfdORkywEyFZgo8QBt7gKZHKaMgej6xPIxYbXSGmT-xQGdfAQdRvMQQfpTvIlROh4kMvHc=s0\" style=\"width: 200px;\"/></a>"
      ],
      "text/plain": [
       "<IPython.core.display.HTML object>"
      ]
     },
     "metadata": {},
     "output_type": "display_data"
    },
    {
     "name": "stdout",
     "output_type": "stream",
     "text": [
      "Vier ontwerpen voor een fontein: Cupido met zwaan\n"
     ]
    },
    {
     "data": {
      "text/html": [
       "<a target=\"_new\" href=\"http://hdl.handle.net/10934/RM0001.COLLECT.231472\"><img src=\"http://lh5.ggpht.com/HaGpWQF1Vb-OHOgL3oMNWTT5v5GXzjswSyMnbR7xLoRIpxpl38hXFoCr4BaHmwpSjm6bw-OVM2ne8hf4HPoz0iZjShpQ=s0\" style=\"width: 200px;\"/></a>"
      ],
      "text/plain": [
       "<IPython.core.display.HTML object>"
      ]
     },
     "metadata": {},
     "output_type": "display_data"
    },
    {
     "name": "stdout",
     "output_type": "stream",
     "text": [
      "Kortbekzeekoeten op een ijsberg in de Barentszzee\n"
     ]
    },
    {
     "data": {
      "text/html": [
       "<a target=\"_new\" href=\"http://hdl.handle.net/10934/RM0001.COLLECT.536513\"><img src=\"http://lh3.googleusercontent.com/WMTBFKf1S5s9GkSkJjP8ilyfFz0OMWY0l0eS3Pb0Mm_MkMA2ipqUICCfqX1CrtERiyFGg-IKewFyBbEZ6yP7C_AphA=s0\" style=\"width: 200px;\"/></a>"
      ],
      "text/plain": [
       "<IPython.core.display.HTML object>"
      ]
     },
     "metadata": {},
     "output_type": "display_data"
    },
    {
     "name": "stdout",
     "output_type": "stream",
     "text": [
      "Studieblad met Samojeden, sledes, graven en een zeevogel\n"
     ]
    },
    {
     "data": {
      "text/html": [
       "<a target=\"_new\" href=\"http://hdl.handle.net/10934/RM0001.COLLECT.536530\"><img src=\"http://lh3.googleusercontent.com/XmKr6OCJ5rWpudFU7Zsqne1z7U4cud9ssBP8In4K66mPCN7a0RraqkyyoPD0KkSrSaL0PWg2YUUA0toYOmlN4b9GUdU=s0\" style=\"width: 200px;\"/></a>"
      ],
      "text/plain": [
       "<IPython.core.display.HTML object>"
      ]
     },
     "metadata": {},
     "output_type": "display_data"
    },
    {
     "name": "stdout",
     "output_type": "stream",
     "text": [
      "Jonge vogel\n"
     ]
    },
    {
     "data": {
      "text/html": [
       "<a target=\"_new\" href=\"http://hdl.handle.net/10934/RM0001.COLLECT.245469\"><img src=\"http://lh3.googleusercontent.com/rBVpuiHAokby-X1C5QdvSQpv8cbb3wFSJBMXxj8udbqY87MOSp7uU--ASTsSVYghxSBBIGetDgAfqXMgZtwFjukC-gc=s0\" style=\"width: 200px;\"/></a>"
      ],
      "text/plain": [
       "<IPython.core.display.HTML object>"
      ]
     },
     "metadata": {},
     "output_type": "display_data"
    },
    {
     "name": "stdout",
     "output_type": "stream",
     "text": [
      "Two candelabra\n"
     ]
    },
    {
     "data": {
      "text/html": [
       "<a target=\"_new\" href=\"http://hdl.handle.net/10934/RM0001.COLLECT.301642\"><img src=\"http://lh4.ggpht.com/M3-g_pQ6ODYKTVRLxdaDedBRP-P9dZQ0eki6YWhdEYt_9_SS_7g55W_3f-fW_GLOi3No4jTHCKQLs_4a-3xlWKwGUHs=s0\" style=\"width: 200px;\"/></a>"
      ],
      "text/plain": [
       "<IPython.core.display.HTML object>"
      ]
     },
     "metadata": {},
     "output_type": "display_data"
    },
    {
     "name": "stdout",
     "output_type": "stream",
     "text": [
      "Twee kandelabers\n"
     ]
    },
    {
     "data": {
      "text/html": [
       "<a target=\"_new\" href=\"http://hdl.handle.net/10934/RM0001.COLLECT.301648\"><img src=\"http://lh5.ggpht.com/UWRueyt7l3x5Hu-FngmYABcs-JFhqjizx4BZbQytpU7-O1Bc3itUR78YybgAFyQ6V3zwpV_pdM5EOmEyNNO0tbGI1f8=s0\" style=\"width: 200px;\"/></a>"
      ],
      "text/plain": [
       "<IPython.core.display.HTML object>"
      ]
     },
     "metadata": {},
     "output_type": "display_data"
    },
    {
     "name": "stdout",
     "output_type": "stream",
     "text": [
      "Table\n"
     ]
    },
    {
     "data": {
      "text/html": [
       "<a target=\"_new\" href=\"http://hdl.handle.net/10934/RM0001.COLLECT.275941\"><img src=\"http://lh4.ggpht.com/YPi-gYnrexpVI-7MB5FnYRZyOsBOCjyyCOyWWb15DMtRB9p7wSKarB4hP7_YALh1RwHaTtS6vgDvlmnDkNFvyPQUQg=s0\" style=\"width: 200px;\"/></a>"
      ],
      "text/plain": [
       "<IPython.core.display.HTML object>"
      ]
     },
     "metadata": {},
     "output_type": "display_data"
    },
    {
     "name": "stdout",
     "output_type": "stream",
     "text": [
      "Pair of chestnut vases\n"
     ]
    },
    {
     "data": {
      "text/html": [
       "<a target=\"_new\" href=\"http://hdl.handle.net/10934/RM0001.COLLECT.18146\"><img src=\"http://lh6.ggpht.com/YgIXpQCFaaSnmO1OkbayixwXNNv2HH_Pp-o11f29zL4QMVHdwyVVfONSeHILeeLp2VzZVMucFFDn12g8bZWeVUpBZzk=s0\" style=\"width: 200px;\"/></a>"
      ],
      "text/plain": [
       "<IPython.core.display.HTML object>"
      ]
     },
     "metadata": {},
     "output_type": "display_data"
    },
    {
     "name": "stdout",
     "output_type": "stream",
     "text": [
      "De Amsterdamse Stedenmaagd en andere fragmenten\n"
     ]
    },
    {
     "data": {
      "text/html": [
       "<a target=\"_new\" href=\"http://hdl.handle.net/10934/RM0001.COLLECT.24594\"><img src=\"http://lh3.ggpht.com/lDBG9STBZTdFgbQtEvGrlw49e0NVRAeSC7hWGYxqLq2LsXlN5taQYOcI2mksF5wus5k6co4RoUeHo4McWIFI4NxRCwE=s0\" style=\"width: 200px;\"/></a>"
      ],
      "text/plain": [
       "<IPython.core.display.HTML object>"
      ]
     },
     "metadata": {},
     "output_type": "display_data"
    },
    {
     "name": "stdout",
     "output_type": "stream",
     "text": [
      "Zwanen op een water, op de achtergrond bomen\n"
     ]
    },
    {
     "data": {
      "text/html": [
       "<a target=\"_new\" href=\"http://hdl.handle.net/10934/RM0001.COLLECT.271810\"><img src=\"http://lh4.ggpht.com/IGSo8pdiIHW_E66Cv3KqmXVRddJkDQ0dB4VIAk2nBZl_aA77NYaAySz1UmwFBSZUI_yVGRRiabL7Q73iTYbNg-oemQ=s0\" style=\"width: 200px;\"/></a>"
      ],
      "text/plain": [
       "<IPython.core.display.HTML object>"
      ]
     },
     "metadata": {},
     "output_type": "display_data"
    },
    {
     "name": "stdout",
     "output_type": "stream",
     "text": [
      "Kinderen bij zwanen in een wak\n"
     ]
    },
    {
     "data": {
      "text/html": [
       "<a target=\"_new\" href=\"http://hdl.handle.net/10934/RM0001.COLLECT.271831\"><img src=\"http://lh5.ggpht.com/yX_ELetJcFigPjBdXdF6Ipy7Vwxr4E-yOsr6sOF_zkdWx5J2xrLKCRw5vt8bYcJELNYIIzRT9_uSDy-yTI2OA8MZKQ=s0\" style=\"width: 200px;\"/></a>"
      ],
      "text/plain": [
       "<IPython.core.display.HTML object>"
      ]
     },
     "metadata": {},
     "output_type": "display_data"
    },
    {
     "name": "stdout",
     "output_type": "stream",
     "text": [
      "Zwanen in een vijver in een besneeuwd park\n"
     ]
    },
    {
     "data": {
      "text/html": [
       "<a target=\"_new\" href=\"http://hdl.handle.net/10934/RM0001.COLLECT.271833\"><img src=\"http://lh6.ggpht.com/8yLwmOLhq4WQT9OFQ7FyfoIHbttl0wHaP_jQpBq6WpBJh_vXHEOXbxeplRQburYdxI6PxZG2uYVd1UE9Yec3rf2VqA=s0\" style=\"width: 200px;\"/></a>"
      ],
      "text/plain": [
       "<IPython.core.display.HTML object>"
      ]
     },
     "metadata": {},
     "output_type": "display_data"
    },
    {
     "name": "stdout",
     "output_type": "stream",
     "text": [
      "Verschillende vogels\n"
     ]
    },
    {
     "data": {
      "text/html": [
       "<a target=\"_new\" href=\"http://hdl.handle.net/10934/RM0001.COLLECT.222925\"><img src=\"http://lh5.ggpht.com/opiO_3bivbli-OYO__yKqUPaQEQrGxbAnJ3kIHPTHAtv6h0VW-CzeoiiKnoNuQjmpeQKOtLTGcyahO9c17DeJ0Oki5c=s0\" style=\"width: 200px;\"/></a>"
      ],
      "text/plain": [
       "<IPython.core.display.HTML object>"
      ]
     },
     "metadata": {},
     "output_type": "display_data"
    },
    {
     "name": "stdout",
     "output_type": "stream",
     "text": [
      "Zwanen\n"
     ]
    },
    {
     "data": {
      "text/html": [
       "<a target=\"_new\" href=\"http://hdl.handle.net/10934/RM0001.COLLECT.222917\"><img src=\"http://lh5.ggpht.com/y6GFCfFQT4Ma1Ub_BU8jgRhyTHujvdW011i7jHOhCkfgIh3_HKwnzFpDKU6cqLwsriEjpDh-0S5BTzM6POKY_q4aJKYD=s0\" style=\"width: 200px;\"/></a>"
      ],
      "text/plain": [
       "<IPython.core.display.HTML object>"
      ]
     },
     "metadata": {},
     "output_type": "display_data"
    },
    {
     "name": "stdout",
     "output_type": "stream",
     "text": [
      "Vogels en insecten\n"
     ]
    },
    {
     "data": {
      "text/html": [
       "<a target=\"_new\" href=\"http://hdl.handle.net/10934/RM0001.collect.89138\"><img src=\"http://lh5.ggpht.com/C3aKovGtNjPeb99g2609oNUqYT9eXXGgGsoQzRb8l1YybNtzouuV9tAnUWOTPhWYzWZjyrrdIUidV1m5a065yjEAPPnn=s0\" style=\"width: 200px;\"/></a>"
      ],
      "text/plain": [
       "<IPython.core.display.HTML object>"
      ]
     },
     "metadata": {},
     "output_type": "display_data"
    },
    {
     "name": "stdout",
     "output_type": "stream",
     "text": [
      "Vignet met Poëzie in een landschap\n"
     ]
    },
    {
     "data": {
      "text/html": [
       "<a target=\"_new\" href=\"http://hdl.handle.net/10934/RM0001.COLLECT.341001\"><img src=\"http://lh4.ggpht.com/tpUq6U1yuJHvGI5WfbILO98jWFnwhIs_Cu0lRf8CHDxm1sumQsRehSr1vGM58zs6cB9sJ3a8Padd5ELcD9TdCcE-Jw=s0\" style=\"width: 200px;\"/></a>"
      ],
      "text/plain": [
       "<IPython.core.display.HTML object>"
      ]
     },
     "metadata": {},
     "output_type": "display_data"
    },
    {
     "name": "stdout",
     "output_type": "stream",
     "text": [
      "Schrijvende kat en watervogel\n"
     ]
    },
    {
     "data": {
      "text/html": [
       "<a target=\"_new\" href=\"http://hdl.handle.net/10934/RM0001.COLLECT.171139\"><img src=\"http://lh5.ggpht.com/_yHFyr8Xvt31w2riTcnA2jCz2PQ8JBuLzx4j6e2u-_FyUDvtzQDAHcIaYBPHq6wouZyPcZw8wjOGeWI2vXwD271yjzER=s0\" style=\"width: 200px;\"/></a>"
      ],
      "text/plain": [
       "<IPython.core.display.HTML object>"
      ]
     },
     "metadata": {},
     "output_type": "display_data"
    },
    {
     "name": "stdout",
     "output_type": "stream",
     "text": [
      "Schrijvende kat en watervogel\n"
     ]
    },
    {
     "data": {
      "text/html": [
       "<a target=\"_new\" href=\"http://hdl.handle.net/10934/RM0001.COLLECT.171140\"><img src=\"http://lh4.ggpht.com/boxkjMSy6iLkgERbkfudkf2b5AkNdswNIIg2rRwqa61nOvuvy9CtxWHNZmsdGF7NVgg-1fD_tJyRdxuqTeWdlyypNnw=s0\" style=\"width: 200px;\"/></a>"
      ],
      "text/plain": [
       "<IPython.core.display.HTML object>"
      ]
     },
     "metadata": {},
     "output_type": "display_data"
    },
    {
     "name": "stdout",
     "output_type": "stream",
     "text": [
      "Vignet met Poëzie met lier en zwaan in landschap met omlijsting\n"
     ]
    },
    {
     "data": {
      "text/html": [
       "<a target=\"_new\" href=\"http://hdl.handle.net/10934/RM0001.collect.87444\"><img src=\"http://lh6.ggpht.com/htkvw0uAYJTq1K_o_wyv1HerO7tQUt6MwvcowCZ2FRx6R0s-_PncRAYhtcn_SY220hvGSAUdtHPy9jnJPivGnHcEwPUE=s0\" style=\"width: 200px;\"/></a>"
      ],
      "text/plain": [
       "<IPython.core.display.HTML object>"
      ]
     },
     "metadata": {},
     "output_type": "display_data"
    },
    {
     "name": "stdout",
     "output_type": "stream",
     "text": [
      "Monument ter nagedachtenis aan Maarten Luther\n"
     ]
    },
    {
     "data": {
      "text/html": [
       "<a target=\"_new\" href=\"http://hdl.handle.net/10934/RM0001.COLLECT.401021\"><img src=\"http://lh4.ggpht.com/2cdq7Qw7YesvPsluiWeguXX9QaGWBafeLPEAs3nPCsYvypTxPzRmkMu-qltvyq4XcV_bsB0xNbhfNHNZUNIU-NxjVFo=s0\" style=\"width: 200px;\"/></a>"
      ],
      "text/plain": [
       "<IPython.core.display.HTML object>"
      ]
     },
     "metadata": {},
     "output_type": "display_data"
    },
    {
     "name": "stdout",
     "output_type": "stream",
     "text": [
      "Vos met poot in val en opvliegende zwaan en eenden bij water\n"
     ]
    },
    {
     "data": {
      "text/html": [
       "<a target=\"_new\" href=\"http://hdl.handle.net/10934/RM0001.COLLECT.104531\"><img src=\"http://lh4.ggpht.com/GQKt34vxMLhP_bVGWSHj99Mtc1AvSMPg5LQFIQsNW4LptS2RZQuUnKEwLJosIO6Z0TRKAZ8pUIGj2bk_Lxpc46iJ870=s0\" style=\"width: 200px;\"/></a>"
      ],
      "text/plain": [
       "<IPython.core.display.HTML object>"
      ]
     },
     "metadata": {},
     "output_type": "display_data"
    },
    {
     "name": "stdout",
     "output_type": "stream",
     "text": [
      "Dertien vogelsoorten\n"
     ]
    },
    {
     "data": {
      "text/html": [
       "<a target=\"_new\" href=\"http://hdl.handle.net/10934/RM0001.COLLECT.110070\"><img src=\"http://lh5.ggpht.com/2_wXgVUvngs6uqo1P6R4IJL6ls-1RE7IWYyCLnn_re5YIvqlx6wO7B7cCDPN5l9ku7EcLL1q3vvPmY4H-TYLDiqM0w=s0\" style=\"width: 200px;\"/></a>"
      ],
      "text/plain": [
       "<IPython.core.display.HTML object>"
      ]
     },
     "metadata": {},
     "output_type": "display_data"
    },
    {
     "name": "stdout",
     "output_type": "stream",
     "text": [
      "Vignet met een zwaan\n"
     ]
    },
    {
     "data": {
      "text/html": [
       "<a target=\"_new\" href=\"http://hdl.handle.net/10934/RM0001.COLLECT.117465\"><img src=\"http://lh4.ggpht.com/lja_N9E145Ha0O_IdGRRp9kkIXKTc07lNdV-jk-EZJhDEfoc4t318uXIcXLF4DD21Z6g-OqbXA7kwWwcj6gnwkMkZXo=s0\" style=\"width: 200px;\"/></a>"
      ],
      "text/plain": [
       "<IPython.core.display.HTML object>"
      ]
     },
     "metadata": {},
     "output_type": "display_data"
    },
    {
     "name": "stdout",
     "output_type": "stream",
     "text": [
      "Zwaan, kip met kuikens en andere vogels\n"
     ]
    },
    {
     "data": {
      "text/html": [
       "<a target=\"_new\" href=\"http://hdl.handle.net/10934/RM0001.COLLECT.32882\"><img src=\"http://lh5.ggpht.com/Edq6PjPhFSl8PQolknL6z7PhmqmckCJm9S2JFNnKLQ7dbBlL1ZuIZXDJ7NbGhDgnPPo9yXaxodX6oPn43SAURaY6xZ-S=s0\" style=\"width: 200px;\"/></a>"
      ],
      "text/plain": [
       "<IPython.core.display.HTML object>"
      ]
     },
     "metadata": {},
     "output_type": "display_data"
    },
    {
     "name": "stdout",
     "output_type": "stream",
     "text": [
      "Verschillende vogels\n"
     ]
    },
    {
     "data": {
      "text/html": [
       "<a target=\"_new\" href=\"http://hdl.handle.net/10934/RM0001.COLLECT.32891\"><img src=\"http://lh4.ggpht.com/hbjmC1lhz86Lik89yqDQFa_drxfVJvWIar9h-2L-Qs6XkGPZGWtDGhQ7agd7XE11i8EH2xRpvlRSAORZQeDhoTzvlEY=s0\" style=\"width: 200px;\"/></a>"
      ],
      "text/plain": [
       "<IPython.core.display.HTML object>"
      ]
     },
     "metadata": {},
     "output_type": "display_data"
    },
    {
     "name": "stdout",
     "output_type": "stream",
     "text": [
      "Verschillende vogels\n"
     ]
    },
    {
     "data": {
      "text/html": [
       "<a target=\"_new\" href=\"http://hdl.handle.net/10934/RM0001.COLLECT.32900\"><img src=\"http://lh6.ggpht.com/te3hgyDpCcsQUGYtebTMxA5EEmwrYKIFkCo3d44_BTjESqG4c3uiGQT4a2wHfieEdZ2n6fU8QX5V-DQs0MuZJh6a44U=s0\" style=\"width: 200px;\"/></a>"
      ],
      "text/plain": [
       "<IPython.core.display.HTML object>"
      ]
     },
     "metadata": {},
     "output_type": "display_data"
    },
    {
     "name": "stdout",
     "output_type": "stream",
     "text": [
      "Gevederd volkje\n"
     ]
    },
    {
     "data": {
      "text/html": [
       "<a target=\"_new\" href=\"http://hdl.handle.net/10934/RM0001.COLLECT.547708\"><img src=\"http://lh4.ggpht.com/bUCoDeVVlkIvrk1no-odFH0Eu6SU1vSFxnociVdVWREMvUuFkZvQ1jfAzpZbWpnvUriN3oBm3wtbJ7cNB1YHVPAzCA=s0\" style=\"width: 200px;\"/></a>"
      ],
      "text/plain": [
       "<IPython.core.display.HTML object>"
      ]
     },
     "metadata": {},
     "output_type": "display_data"
    },
    {
     "name": "stdout",
     "output_type": "stream",
     "text": [
      "Vignet met Poëzie met lier en zwaan in landschap met omlijsting\n"
     ]
    },
    {
     "data": {
      "text/html": [
       "<a target=\"_new\" href=\"http://hdl.handle.net/10934/RM0001.collect.87443\"><img src=\"http://lh3.ggpht.com/_qgybEJHJMyx5suC5TEQLNcyxqiUWkjwUQxOBgLX7sBafnd3h4akQTjFL8qIFpWJKAq8vxA6OlUZdc4S6g7L2tCBwcwc=s0\" style=\"width: 200px;\"/></a>"
      ],
      "text/plain": [
       "<IPython.core.display.HTML object>"
      ]
     },
     "metadata": {},
     "output_type": "display_data"
    },
    {
     "name": "stdout",
     "output_type": "stream",
     "text": [
      "Bosrand met een houten brug\n"
     ]
    },
    {
     "data": {
      "text/html": [
       "<a target=\"_new\" href=\"http://hdl.handle.net/10934/RM0001.COLLECT.193822\"><img src=\"http://lh6.ggpht.com/U0lf1ibhNvXWY_LqBdhFpsrzvzBzJk6J6b5zp9UR3FdwYKbIAg8jPkARhlO0g9HO5cRQYmmwRP_FAbBS0rYIFz6_-g=s0\" style=\"width: 200px;\"/></a>"
      ],
      "text/plain": [
       "<IPython.core.display.HTML object>"
      ]
     },
     "metadata": {},
     "output_type": "display_data"
    },
    {
     "name": "stdout",
     "output_type": "stream",
     "text": [
      "Bosgezicht\n"
     ]
    },
    {
     "data": {
      "text/html": [
       "<a target=\"_new\" href=\"http://hdl.handle.net/10934/RM0001.COLLECT.342096\"><img src=\"http://lh6.ggpht.com/t1vRZOBmhizXFbqXg3Tno4YY02zDK3ysmGCM1UKnkkunRm2bToMKVHbOhiSfgwraukzbPgmuEEhJ7xYv8iyqO-AuISog=s0\" style=\"width: 200px;\"/></a>"
      ],
      "text/plain": [
       "<IPython.core.display.HTML object>"
      ]
     },
     "metadata": {},
     "output_type": "display_data"
    },
    {
     "name": "stdout",
     "output_type": "stream",
     "text": [
      "Geboomte\n"
     ]
    },
    {
     "data": {
      "text/html": [
       "<a target=\"_new\" href=\"http://hdl.handle.net/10934/RM0001.COLLECT.342098\"><img src=\"http://lh5.ggpht.com/Mv6wtXpjl057Qf6vmicJ0yEO8I8PLHsZoHogi4egtJzRQiAvNqGMSw0IITSoXJdEuZfc01ZB1DGuakOsaRUbbYdXCMei=s0\" style=\"width: 200px;\"/></a>"
      ],
      "text/plain": [
       "<IPython.core.display.HTML object>"
      ]
     },
     "metadata": {},
     "output_type": "display_data"
    },
    {
     "name": "stdout",
     "output_type": "stream",
     "text": [
      "Monument. Voor het derde Eeuw-Feest der Hervorming\n"
     ]
    },
    {
     "data": {
      "text/html": [
       "<a target=\"_new\" href=\"http://hdl.handle.net/10934/RM0001.COLLECT.519718\"><img src=\"http://lh6.ggpht.com/tx4k5_S3MbGuSyZH4mlxlLy84macSrruwul7-3ZRVfQVoXFrqlnRqkCdpow9QB0xMlEgKeqp_Nggs12D3mNvZvW4yQ=s0\" style=\"width: 200px;\"/></a>"
      ],
      "text/plain": [
       "<IPython.core.display.HTML object>"
      ]
     },
     "metadata": {},
     "output_type": "display_data"
    },
    {
     "name": "stdout",
     "output_type": "stream",
     "text": [
      "Monument voor het derde eeuwfeest van de Hervorming, 1517-1817\n"
     ]
    },
    {
     "data": {
      "text/html": [
       "<a target=\"_new\" href=\"http://hdl.handle.net/10934/RM0001.COLLECT.519735\"><img src=\"http://lh5.ggpht.com/GtQ4_2JRfen-khAmHumZ6hp9y66J9_-t_7be5EtNHnIv8Uni43od7MWJbPATXrQiG8P5Cpa8fMB55-ivt62C24j6rxam=s0\" style=\"width: 200px;\"/></a>"
      ],
      "text/plain": [
       "<IPython.core.display.HTML object>"
      ]
     },
     "metadata": {},
     "output_type": "display_data"
    },
    {
     "name": "stdout",
     "output_type": "stream",
     "text": [
      "Het Derde Eeuwfeest der Hervorming\n"
     ]
    },
    {
     "data": {
      "text/html": [
       "<a target=\"_new\" href=\"http://hdl.handle.net/10934/RM0001.COLLECT.519737\"><img src=\"http://lh5.ggpht.com/52NHW8hIogj6ncNDrTCvFmLdJGg8CPG7zCnG7wHflaohv28jIcz22sfHwUxClHEOOQ8oxmo3X-QKcajbB4KJuIHzeeg=s0\" style=\"width: 200px;\"/></a>"
      ],
      "text/plain": [
       "<IPython.core.display.HTML object>"
      ]
     },
     "metadata": {},
     "output_type": "display_data"
    },
    {
     "name": "stdout",
     "output_type": "stream",
     "text": [
      "Luther op de Rijksdag te Worms, 1521\n"
     ]
    },
    {
     "data": {
      "text/html": [
       "<a target=\"_new\" href=\"http://hdl.handle.net/10934/RM0001.COLLECT.519759\"><img src=\"http://lh3.ggpht.com/8J4nTgJ7qNru65DP5PKshZujhfIVyexI545JS5-_UrohnY7-x7QRnStGtQD6Dj5aF-3aF72ez8-T-M7ZUbBXhY2Rxw=s0\" style=\"width: 200px;\"/></a>"
      ],
      "text/plain": [
       "<IPython.core.display.HTML object>"
      ]
     },
     "metadata": {},
     "output_type": "display_data"
    },
    {
     "name": "stdout",
     "output_type": "stream",
     "text": [
      "Aalscholver\n"
     ]
    },
    {
     "data": {
      "text/html": [
       "<a target=\"_new\" href=\"http://hdl.handle.net/10934/RM0001.COLLECT.298601\"><img src=\"http://lh6.ggpht.com/3nnidTUwOdzlMfRxFv2VxBROipvbFvOvXwfXiwH-MTuG6Qe5of_M16ORfJzz_RO7PQe0zmjXMU1Ukk4nw9tAJ_TxDDs=s0\" style=\"width: 200px;\"/></a>"
      ],
      "text/plain": [
       "<IPython.core.display.HTML object>"
      ]
     },
     "metadata": {},
     "output_type": "display_data"
    },
    {
     "name": "stdout",
     "output_type": "stream",
     "text": [
      "Konijnen- en eendenjacht\n"
     ]
    },
    {
     "data": {
      "text/html": [
       "<a target=\"_new\" href=\"http://hdl.handle.net/10934/RM0001.collect.70351\"><img src=\"http://lh6.ggpht.com/rtCP3Unx5bty65jnlU-6A7xMnkqPGhLCc08-ev1DAKzOgK4a0LLcdIqJB3AN7DfhgCDQx_RV37bkZgLoBOGyfDfA3w=s0\" style=\"width: 200px;\"/></a>"
      ],
      "text/plain": [
       "<IPython.core.display.HTML object>"
      ]
     },
     "metadata": {},
     "output_type": "display_data"
    },
    {
     "name": "stdout",
     "output_type": "stream",
     "text": [
      "Landschap met een zwaan aan een waterkant\n"
     ]
    },
    {
     "data": {
      "text/html": [
       "<a target=\"_new\" href=\"http://hdl.handle.net/10934/RM0001.COLLECT.590808\"><img src=\"http://lh3.googleusercontent.com/sNJYpTKnOiKvkqkV3j6YGQbaK0maDVqPeRJsDAy6Jzo7FNX9IfogPpa8qhvuUlxOF5nJH3WF8PTLY5xu9UkMrpDl5-rK=s0\" style=\"width: 200px;\"/></a>"
      ],
      "text/plain": [
       "<IPython.core.display.HTML object>"
      ]
     },
     "metadata": {},
     "output_type": "display_data"
    },
    {
     "name": "stdout",
     "output_type": "stream",
     "text": [
      "Zwaan\n"
     ]
    },
    {
     "data": {
      "text/html": [
       "<a target=\"_new\" href=\"http://hdl.handle.net/10934/RM0001.COLLECT.572189\"><img src=\"http://lh3.googleusercontent.com/p0mfWtMKhmOhYMn3wDmnN8B3RwXQQgZhGywav0z-1K-8_2XcwLX9q_nZ57cB9OmcwoUjuVIa-_8H97c1GhiicDbrpw=s0\" style=\"width: 200px;\"/></a>"
      ],
      "text/plain": [
       "<IPython.core.display.HTML object>"
      ]
     },
     "metadata": {},
     "output_type": "display_data"
    },
    {
     "name": "stdout",
     "output_type": "stream",
     "text": [
      "Zwaan, bladeren en ornamenten\n"
     ]
    },
    {
     "data": {
      "text/html": [
       "<a target=\"_new\" href=\"http://hdl.handle.net/10934/RM0001.COLLECT.572190\"><img src=\"http://lh3.googleusercontent.com/U09CB9m5Ijjgn0rMDgNmBSdcl80Eps_kzaXVIBfwcLSvDfGZ5SDlB7qEBgWqH-cRqfMo2lWEjtJxEmxMGRjBFT_xtA=s0\" style=\"width: 200px;\"/></a>"
      ],
      "text/plain": [
       "<IPython.core.display.HTML object>"
      ]
     },
     "metadata": {},
     "output_type": "display_data"
    },
    {
     "name": "stdout",
     "output_type": "stream",
     "text": [
      "The Threatened Swan\n"
     ]
    },
    {
     "data": {
      "text/html": [
       "<a target=\"_new\" href=\"http://hdl.handle.net/10934/RM0001.COLLECT.5829\"><img src=\"http://lh4.ggpht.com/XVSITSSFzZEdNM1SpHbJF12MqBvW3KTL2qjNta1-KMiOVd3s-p-LiQ2sXHsgRAs3GeMpiin_TwvLi9jpIySt1vLDdA=s0\" style=\"width: 200px;\"/></a>"
      ],
      "text/plain": [
       "<IPython.core.display.HTML object>"
      ]
     },
     "metadata": {},
     "output_type": "display_data"
    },
    {
     "name": "stdout",
     "output_type": "stream",
     "text": [
      "Vondels Poezy\n"
     ]
    },
    {
     "data": {
      "text/html": [
       "<a target=\"_new\" href=\"http://hdl.handle.net/10934/RM0001.COLLECT.100761\"><img src=\"http://lh4.ggpht.com/UfS6wGymPPQZ_emNYL0SXflYXFWtt8xomATNO9PxDOqhXofwhcOhbnHecKN63FA5RQMY_RVIDNqQoWzWA6VsB9SMiQ=s0\" style=\"width: 200px;\"/></a>"
      ],
      "text/plain": [
       "<IPython.core.display.HTML object>"
      ]
     },
     "metadata": {},
     "output_type": "display_data"
    },
    {
     "name": "stdout",
     "output_type": "stream",
     "text": [
      "Bosrand met een houten brug\n"
     ]
    },
    {
     "data": {
      "text/html": [
       "<a target=\"_new\" href=\"http://hdl.handle.net/10934/RM0001.COLLECT.193823\"><img src=\"http://lh3.ggpht.com/fvThxkUlYr4MIBuPYGeU7rzppbSllkkIcaDMIEf2SG9kgpx230Zh45rEeaqq2KLMicx26LqKbaL2U0ypFmtt2Hfienpu=s0\" style=\"width: 200px;\"/></a>"
      ],
      "text/plain": [
       "<IPython.core.display.HTML object>"
      ]
     },
     "metadata": {},
     "output_type": "display_data"
    },
    {
     "name": "stdout",
     "output_type": "stream",
     "text": [
      "Landschap met vogels\n"
     ]
    },
    {
     "data": {
      "text/html": [
       "<a target=\"_new\" href=\"http://hdl.handle.net/10934/RM0001.COLLECT.124527\"><img src=\"http://lh3.ggpht.com/7AM-c_b5LGeAlYUKGx3k_BZaDKHT8TrWTR-ULqRV60xVz6SW_AWZN8_zXiLRBqh8KSzChF9xb_gCXFDyywnlP9DQDO8=s0\" style=\"width: 200px;\"/></a>"
      ],
      "text/plain": [
       "<IPython.core.display.HTML object>"
      ]
     },
     "metadata": {},
     "output_type": "display_data"
    },
    {
     "name": "stdout",
     "output_type": "stream",
     "text": [
      "Drie zwanen zwemmen in water\n"
     ]
    },
    {
     "data": {
      "text/html": [
       "<a target=\"_new\" href=\"http://hdl.handle.net/10934/RM0001.collect.42162\"><img src=\"http://lh6.ggpht.com/11sMS8RKhmMYWTR9j_t0-velIItWtBsN9fx-BEv-oMNRsCmPBGHZSp0gYNr17iIWvM4BRX_wUKv_Fjto5J-yciyLBRg=s0\" style=\"width: 200px;\"/></a>"
      ],
      "text/plain": [
       "<IPython.core.display.HTML object>"
      ]
     },
     "metadata": {},
     "output_type": "display_data"
    },
    {
     "name": "stdout",
     "output_type": "stream",
     "text": [
      "Watervogel\n"
     ]
    },
    {
     "data": {
      "text/html": [
       "<a target=\"_new\" href=\"http://hdl.handle.net/10934/RM0001.COLLECT.471385\"><img src=\"http://lh3.ggpht.com/-RQeZHhQXWflNLjUgl5w2bj84cgik4fb_P0hgwU4seglBD2srN_WefyZTl_kALRBK0oJruNLb8NKLa0Q7HZpZ5iveg=s0\" style=\"width: 200px;\"/></a>"
      ],
      "text/plain": [
       "<IPython.core.display.HTML object>"
      ]
     },
     "metadata": {},
     "output_type": "display_data"
    },
    {
     "name": "stdout",
     "output_type": "stream",
     "text": [
      "Stadspoort\n"
     ]
    },
    {
     "data": {
      "text/html": [
       "<a target=\"_new\" href=\"http://hdl.handle.net/10934/RM0001.COLLECT.326700\"><img src=\"http://lh3.ggpht.com/L16uOM5g8Dx-AgcUXc_oj-S7Zlq7EJkpa2zEE9wjxDFTQEAG0uKlkqckUVXouePT3OuUQ4EFwD1ClwGtuJA16C5Tgaw=s0\" style=\"width: 200px;\"/></a>"
      ],
      "text/plain": [
       "<IPython.core.display.HTML object>"
      ]
     },
     "metadata": {},
     "output_type": "display_data"
    },
    {
     "name": "stdout",
     "output_type": "stream",
     "text": [
      "Landschappen met gebouwen\n"
     ]
    },
    {
     "data": {
      "text/html": [
       "<a target=\"_new\" href=\"http://hdl.handle.net/10934/RM0001.COLLECT.326724\"><img src=\"http://lh3.ggpht.com/_-P59AkwvpCbzoLR9SsER5lVEK41EmINJGJKNvbhMy3uQGAnLoVqYTQrNy_Cedvmf7uJWDgsVmXe9Bwcm86Jo6Flbg=s0\" style=\"width: 200px;\"/></a>"
      ],
      "text/plain": [
       "<IPython.core.display.HTML object>"
      ]
     },
     "metadata": {},
     "output_type": "display_data"
    },
    {
     "name": "stdout",
     "output_type": "stream",
     "text": [
      "De bedreigde zwaan\n"
     ]
    },
    {
     "data": {
      "text/html": [
       "<a target=\"_new\" href=\"http://hdl.handle.net/10934/RM0001.COLLECT.466001\"><img src=\"http://lh4.ggpht.com/mTtgw98JabuekpcBl2-Q6cO_zdJpof_Kjnt8ti3QBnGMkoDATIJWYXWhmG6uMRnzR7Hk_DZ7sSS-fEoRB0LxoyYniEUb=s0\" style=\"width: 200px;\"/></a>"
      ],
      "text/plain": [
       "<IPython.core.display.HTML object>"
      ]
     },
     "metadata": {},
     "output_type": "display_data"
    }
   ],
   "source": [
    "query = \"\"\"\n",
    "PREFIX dc: <http://purl.org/dc/elements/1.1/>\n",
    "PREFIX edm: <http://www.europeana.eu/schemas/edm/>\n",
    "PREFIX ore: <http://www.openarchives.org/ore/terms/>\n",
    "PREFIX html: <http://www.w3.org/1999/xhtml/vocab#>\n",
    "PREFIX skos: <http://www.w3.org/2004/02/skos/core#>\n",
    "\n",
    "SELECT ?object ?title ?created ?url ?landing\n",
    "WHERE {\n",
    "\n",
    "\n",
    "VALUES ?iconclass { <http://iconclass.org/25F36(SWAN)> <http://iconclass.org/25F36> } \n",
    "\n",
    "?object ore:proxyIn ?local_aggr .\n",
    "?object ore:proxyFor ?cho .\n",
    "?eur_aggr edm:aggregatedCHO ?cho .\n",
    "?eur_aggr a edm:EuropeanaAggregation .\n",
    "\n",
    "?local_aggr edm:dataProvider 'Rijksmuseum' .\n",
    "\n",
    "?object dc:title ?title .\n",
    "?object dcterms:created ?created . \n",
    "?object dc:subject ?iconclass .\n",
    "\n",
    "?local_aggr edm:isShownBy ?url .\n",
    "?local_aggr edm:isShownAt ?landing .\n",
    "\n",
    "}\n",
    "\"\"\"\n",
    "\n",
    "df = run_query(query)\n",
    "df = df.drop_duplicates(subset=['object.value'])\n",
    "print( f'There {df.shape[0]} objects displaying swans.' )\n",
    "\n",
    "\n",
    "for i,row in df.iterrows():\n",
    "\n",
    "    print(row['title.value'])\n",
    "    img = row['url.value']\n",
    "    url = row['landing.value']\n",
    "    display(HTML(f'<a target=\"_new\" href=\"{url}\"><img src=\"{img}\" style=\"width: 200px;\"/></a>'))\n",
    "\n"
   ]
  },
  {
   "cell_type": "markdown",
   "id": "0339f103",
   "metadata": {},
   "source": [
    "Using a similar method, we can find all the works of art that depict books. The Iconclass URI `ttp://iconclass.org/49M32` refers to books. "
   ]
  },
  {
   "cell_type": "code",
   "execution_count": 12,
   "id": "5206a632",
   "metadata": {},
   "outputs": [
    {
     "name": "stdout",
     "output_type": "stream",
     "text": [
      "100 results.\n",
      "Portret van Maria Tesselschade Roemers Visscher\n",
      "http://hdl.handle.net/10934/RM0001.collect.71732\n"
     ]
    },
    {
     "data": {
      "text/html": [
       "<a target=\"_new\" href=\"http://lh5.ggpht.com/a1d8HbxJ2OiyX81Ug7uPXaTZrIf_fXc9v0RULI6RHBB2tlot5V5Gf5fhLIBXF5zTIwmgWnnD5p4FM8OO_hrXwGAQ2dg=s0\"><img src=\"http://lh5.ggpht.com/a1d8HbxJ2OiyX81Ug7uPXaTZrIf_fXc9v0RULI6RHBB2tlot5V5Gf5fhLIBXF5zTIwmgWnnD5p4FM8OO_hrXwGAQ2dg=s0\" style=\"width: 200px;\"/></a><br/><br/>"
      ],
      "text/plain": [
       "<IPython.core.display.HTML object>"
      ]
     },
     "metadata": {},
     "output_type": "display_data"
    },
    {
     "name": "stdout",
     "output_type": "stream",
     "text": [
      "Portret van John Lee\n",
      "http://hdl.handle.net/10934/RM0001.COLLECT.44190\n"
     ]
    },
    {
     "data": {
      "text/html": [
       "<a target=\"_new\" href=\"http://lh3.ggpht.com/TZkA2fp7zKt3ObvbQCF2MktqfRjN52Xh-vFODcIC7iZcItn0LCiZlgflEB1nDFP93KJ1mxGYBhnavSuH2niW_LybFw=s0\"><img src=\"http://lh3.ggpht.com/TZkA2fp7zKt3ObvbQCF2MktqfRjN52Xh-vFODcIC7iZcItn0LCiZlgflEB1nDFP93KJ1mxGYBhnavSuH2niW_LybFw=s0\" style=\"width: 200px;\"/></a><br/><br/>"
      ],
      "text/plain": [
       "<IPython.core.display.HTML object>"
      ]
     },
     "metadata": {},
     "output_type": "display_data"
    },
    {
     "name": "stdout",
     "output_type": "stream",
     "text": [
      "Portret van de Franse chemicus Nicolas Lemery\n",
      "http://hdl.handle.net/10934/RM0001.COLLECT.348244\n"
     ]
    },
    {
     "data": {
      "text/html": [
       "<a target=\"_new\" href=\"http://lh4.ggpht.com/DfXJ8JMY6KSBjxm0upXl16SJg5RIkpqb84TXsv5aeU7TIH2vok75HrVgHAJ-2Iq1H6TFS01YhZg5geZ9Maj2OF82i5U=s0\"><img src=\"http://lh4.ggpht.com/DfXJ8JMY6KSBjxm0upXl16SJg5RIkpqb84TXsv5aeU7TIH2vok75HrVgHAJ-2Iq1H6TFS01YhZg5geZ9Maj2OF82i5U=s0\" style=\"width: 200px;\"/></a><br/><br/>"
      ],
      "text/plain": [
       "<IPython.core.display.HTML object>"
      ]
     },
     "metadata": {},
     "output_type": "display_data"
    },
    {
     "name": "stdout",
     "output_type": "stream",
     "text": [
      "Twee putti met allegorische attributen\n",
      "http://hdl.handle.net/10934/RM0001.COLLECT.190533\n"
     ]
    },
    {
     "data": {
      "text/html": [
       "<a target=\"_new\" href=\"http://lh4.ggpht.com/myFhGX50fEeej3O5v6EvhqNoraW8XjAf-RBE5DmP6eXavJzeMv8wnaDXt37w4pCNAYqCeUe6VDJEDGtZdNe_RYAwVTs=s0\"><img src=\"http://lh4.ggpht.com/myFhGX50fEeej3O5v6EvhqNoraW8XjAf-RBE5DmP6eXavJzeMv8wnaDXt37w4pCNAYqCeUe6VDJEDGtZdNe_RYAwVTs=s0\" style=\"width: 200px;\"/></a><br/><br/>"
      ],
      "text/plain": [
       "<IPython.core.display.HTML object>"
      ]
     },
     "metadata": {},
     "output_type": "display_data"
    },
    {
     "name": "stdout",
     "output_type": "stream",
     "text": [
      "Filips van Marnix, heer van Sint-Aldegonde, leest zijn Wilhelmuslied voor aan Willem I (prins van Oranje)\n",
      "http://hdl.handle.net/10934/RM0001.COLLECT.176629\n"
     ]
    },
    {
     "data": {
      "text/html": [
       "<a target=\"_new\" href=\"http://lh4.ggpht.com/eO_KKb2trcJaom67j9eKuO1XjcvzJS637fGw_L7wS37Becjg1XMSNzn7X-3DSTRJ5HFlxmH2eBRtRpBLXFBX_mf_Dw=s0\"><img src=\"http://lh4.ggpht.com/eO_KKb2trcJaom67j9eKuO1XjcvzJS637fGw_L7wS37Becjg1XMSNzn7X-3DSTRJ5HFlxmH2eBRtRpBLXFBX_mf_Dw=s0\" style=\"width: 200px;\"/></a><br/><br/>"
      ],
      "text/plain": [
       "<IPython.core.display.HTML object>"
      ]
     },
     "metadata": {},
     "output_type": "display_data"
    },
    {
     "name": "stdout",
     "output_type": "stream",
     "text": [
      "Adriaan Adriaansz. Metius in zijn studeerkamer\n",
      "http://hdl.handle.net/10934/RM0001.COLLECT.176630\n"
     ]
    },
    {
     "data": {
      "text/html": [
       "<a target=\"_new\" href=\"http://lh5.ggpht.com/9XGJiRYWary4kh53PKBkWdOT-xntJcGEB6VP7VsW10ag09kzR2Ip2q2JIz-lskJW-Ao8Ppkq2Yb2S-8sZC3q2AlYOhce=s0\"><img src=\"http://lh5.ggpht.com/9XGJiRYWary4kh53PKBkWdOT-xntJcGEB6VP7VsW10ag09kzR2Ip2q2JIz-lskJW-Ao8Ppkq2Yb2S-8sZC3q2AlYOhce=s0\" style=\"width: 200px;\"/></a><br/><br/>"
      ],
      "text/plain": [
       "<IPython.core.display.HTML object>"
      ]
     },
     "metadata": {},
     "output_type": "display_data"
    },
    {
     "name": "stdout",
     "output_type": "stream",
     "text": [
      "Portret van Isabella Clara Eugenia, ten halven lijve\n",
      "http://hdl.handle.net/10934/RM0001.COLLECT.298127\n"
     ]
    },
    {
     "data": {
      "text/html": [
       "<a target=\"_new\" href=\"http://lh3.ggpht.com/lmV4hGLF-MDrlZgk5G_kBWNn2QIR1n3Q6MpJNKv3PvJ_wgb-KvAC2dSNjqjacIdNL5rAN-DFuxk6mq9890ZtRKe4we4e=s0\"><img src=\"http://lh3.ggpht.com/lmV4hGLF-MDrlZgk5G_kBWNn2QIR1n3Q6MpJNKv3PvJ_wgb-KvAC2dSNjqjacIdNL5rAN-DFuxk6mq9890ZtRKe4we4e=s0\" style=\"width: 200px;\"/></a><br/><br/>"
      ],
      "text/plain": [
       "<IPython.core.display.HTML object>"
      ]
     },
     "metadata": {},
     "output_type": "display_data"
    },
    {
     "name": "stdout",
     "output_type": "stream",
     "text": [
      "Borstbeeld van Jacob Cats\n",
      "http://hdl.handle.net/10934/RM0001.COLLECT.158382\n"
     ]
    },
    {
     "data": {
      "text/html": [
       "<a target=\"_new\" href=\"http://lh5.ggpht.com/KNnvAp3vqxYcmsmf0Rs7ehthg-CMmni9wx68uO-eWCZS8njDFF_5P4-JRX-nlVgLxvDJCijOViC_Z5ENTLSSFxv3oiI=s0\"><img src=\"http://lh5.ggpht.com/KNnvAp3vqxYcmsmf0Rs7ehthg-CMmni9wx68uO-eWCZS8njDFF_5P4-JRX-nlVgLxvDJCijOViC_Z5ENTLSSFxv3oiI=s0\" style=\"width: 200px;\"/></a><br/><br/>"
      ],
      "text/plain": [
       "<IPython.core.display.HTML object>"
      ]
     },
     "metadata": {},
     "output_type": "display_data"
    },
    {
     "name": "stdout",
     "output_type": "stream",
     "text": [
      "Portret van de predikant Michael Hoernlein\n",
      "http://hdl.handle.net/10934/RM0001.COLLECT.44902\n"
     ]
    },
    {
     "data": {
      "text/html": [
       "<a target=\"_new\" href=\"http://lh5.ggpht.com/BU2C1xSIRyZ7SbNa6PFG51sT2CX4qq36iQM8UMlq8-L_QCzrnnBHvj6H6G_8eX-OFT5ocmA4kd42rFV7bl5iNGn7bw=s0\"><img src=\"http://lh5.ggpht.com/BU2C1xSIRyZ7SbNa6PFG51sT2CX4qq36iQM8UMlq8-L_QCzrnnBHvj6H6G_8eX-OFT5ocmA4kd42rFV7bl5iNGn7bw=s0\" style=\"width: 200px;\"/></a><br/><br/>"
      ],
      "text/plain": [
       "<IPython.core.display.HTML object>"
      ]
     },
     "metadata": {},
     "output_type": "display_data"
    },
    {
     "name": "stdout",
     "output_type": "stream",
     "text": [
      "Portret van Pieter 't Hoen\n",
      "http://hdl.handle.net/10934/RM0001.COLLECT.189001\n"
     ]
    },
    {
     "data": {
      "text/html": [
       "<a target=\"_new\" href=\"http://lh6.ggpht.com/pEo8gUoC7Zp8IijFmSM_MVXR7meMFppQyfGetzTfJHuEUprv5k9BktD1Pe2KL4xItbTAnf3PdLY6r8Uj4vqo03T3Cy4W=s0\"><img src=\"http://lh6.ggpht.com/pEo8gUoC7Zp8IijFmSM_MVXR7meMFppQyfGetzTfJHuEUprv5k9BktD1Pe2KL4xItbTAnf3PdLY6r8Uj4vqo03T3Cy4W=s0\" style=\"width: 200px;\"/></a><br/><br/>"
      ],
      "text/plain": [
       "<IPython.core.display.HTML object>"
      ]
     },
     "metadata": {},
     "output_type": "display_data"
    },
    {
     "name": "stdout",
     "output_type": "stream",
     "text": [
      "Portret van Lucretia Wilhelmina van Merken\n",
      "http://hdl.handle.net/10934/RM0001.COLLECT.189045\n"
     ]
    },
    {
     "data": {
      "text/html": [
       "<a target=\"_new\" href=\"http://lh6.ggpht.com/pMXEwIXpq-0AIKrGJAgqeyNk0e1NqHz_FSroSiOPS4r0BzDCEG3mO_LJ-soJJn_c4hK8ahlhRqVdGehUHU0sDRHWevs=s0\"><img src=\"http://lh6.ggpht.com/pMXEwIXpq-0AIKrGJAgqeyNk0e1NqHz_FSroSiOPS4r0BzDCEG3mO_LJ-soJJn_c4hK8ahlhRqVdGehUHU0sDRHWevs=s0\" style=\"width: 200px;\"/></a><br/><br/>"
      ],
      "text/plain": [
       "<IPython.core.display.HTML object>"
      ]
     },
     "metadata": {},
     "output_type": "display_data"
    },
    {
     "name": "stdout",
     "output_type": "stream",
     "text": [
      "Portret van Hendrick Laurensz. Spiegel\n",
      "http://hdl.handle.net/10934/RM0001.COLLECT.189072\n"
     ]
    },
    {
     "data": {
      "text/html": [
       "<a target=\"_new\" href=\"http://lh3.ggpht.com/dyyi5sxvVFbt4AazRKEGDtMgg7i6mMONfx-ZPdlT_jQGtOOt4ThOqYzYM5_ijbcXIvLxvqGNsFX-Ml2cnHlQokxQSg=s0\"><img src=\"http://lh3.ggpht.com/dyyi5sxvVFbt4AazRKEGDtMgg7i6mMONfx-ZPdlT_jQGtOOt4ThOqYzYM5_ijbcXIvLxvqGNsFX-Ml2cnHlQokxQSg=s0\" style=\"width: 200px;\"/></a><br/><br/>"
      ],
      "text/plain": [
       "<IPython.core.display.HTML object>"
      ]
     },
     "metadata": {},
     "output_type": "display_data"
    },
    {
     "name": "stdout",
     "output_type": "stream",
     "text": [
      "Portret van Pieter Weiland, taalkundige en remonstrants predikant\n",
      "http://hdl.handle.net/10934/RM0001.COLLECT.227944\n"
     ]
    },
    {
     "data": {
      "text/html": [
       "<a target=\"_new\" href=\"http://lh3.ggpht.com/ISlp5Yb4on8PAJoRovQj5dVfOkWueh2V1akAi_CqTKMhcguDQnlFJD_eSnWIx9SvXmu1G-zxyXKzhhC6tvmJx-lH7O0=s0\"><img src=\"http://lh3.ggpht.com/ISlp5Yb4on8PAJoRovQj5dVfOkWueh2V1akAi_CqTKMhcguDQnlFJD_eSnWIx9SvXmu1G-zxyXKzhhC6tvmJx-lH7O0=s0\" style=\"width: 200px;\"/></a><br/><br/>"
      ],
      "text/plain": [
       "<IPython.core.display.HTML object>"
      ]
     },
     "metadata": {},
     "output_type": "display_data"
    },
    {
     "name": "stdout",
     "output_type": "stream",
     "text": [
      "Maria met Christuskind\n",
      "http://hdl.handle.net/10934/RM0001.collect.331924\n"
     ]
    },
    {
     "data": {
      "text/html": [
       "<a target=\"_new\" href=\"http://lh6.ggpht.com/7mpK7k_W6L3STUEK6yYrBgESZSm12WVkaQwrgxRCMt2baYbzzVS5nc7dk9JS-OJ_7G3si3f2VkVbio-dCw7EQmWTVGg=s0\"><img src=\"http://lh6.ggpht.com/7mpK7k_W6L3STUEK6yYrBgESZSm12WVkaQwrgxRCMt2baYbzzVS5nc7dk9JS-OJ_7G3si3f2VkVbio-dCw7EQmWTVGg=s0\" style=\"width: 200px;\"/></a><br/><br/>"
      ],
      "text/plain": [
       "<IPython.core.display.HTML object>"
      ]
     },
     "metadata": {},
     "output_type": "display_data"
    },
    {
     "name": "stdout",
     "output_type": "stream",
     "text": [
      "Portret van Balthasar Bekker\n",
      "http://hdl.handle.net/10934/RM0001.COLLECT.44805\n"
     ]
    },
    {
     "data": {
      "text/html": [
       "<a target=\"_new\" href=\"http://lh3.ggpht.com/x-E3jUjxOCXLDd3XEzfo7J69MGsYBpBo1ma3NhnKD8b5v2sT4Lst1ymbLvm3vcc8fah58mPh1VDu233UtWb9i8oh7w=s0\"><img src=\"http://lh3.ggpht.com/x-E3jUjxOCXLDd3XEzfo7J69MGsYBpBo1ma3NhnKD8b5v2sT4Lst1ymbLvm3vcc8fah58mPh1VDu233UtWb9i8oh7w=s0\" style=\"width: 200px;\"/></a><br/><br/>"
      ],
      "text/plain": [
       "<IPython.core.display.HTML object>"
      ]
     },
     "metadata": {},
     "output_type": "display_data"
    },
    {
     "name": "stdout",
     "output_type": "stream",
     "text": [
      "Portret van Johannes Dolaeus\n",
      "http://hdl.handle.net/10934/RM0001.COLLECT.44855\n"
     ]
    },
    {
     "data": {
      "text/html": [
       "<a target=\"_new\" href=\"http://lh6.ggpht.com/Scg8BF8ociAmrudQNBVC5HP7zYYpihWpaCnFolr58beQgGNVJ-ynfMb8MmevkC879Tcl1tZWuKH8UpUEPc5r_IOhv9E=s0\"><img src=\"http://lh6.ggpht.com/Scg8BF8ociAmrudQNBVC5HP7zYYpihWpaCnFolr58beQgGNVJ-ynfMb8MmevkC879Tcl1tZWuKH8UpUEPc5r_IOhv9E=s0\" style=\"width: 200px;\"/></a><br/><br/>"
      ],
      "text/plain": [
       "<IPython.core.display.HTML object>"
      ]
     },
     "metadata": {},
     "output_type": "display_data"
    },
    {
     "name": "stdout",
     "output_type": "stream",
     "text": [
      "Portret van Philipp Melanchthon\n",
      "http://hdl.handle.net/10934/RM0001.COLLECT.44992\n"
     ]
    },
    {
     "data": {
      "text/html": [
       "<a target=\"_new\" href=\"http://lh5.ggpht.com/wpvNMdRhmlwRwLVzoRaRNfHvCOAp9k16k2QCNhyq3TbkYHLj08n97AAVWI5xKOjFCOvPE2Vjeo2kbtTdP2JZVr0QtA=s0\"><img src=\"http://lh5.ggpht.com/wpvNMdRhmlwRwLVzoRaRNfHvCOAp9k16k2QCNhyq3TbkYHLj08n97AAVWI5xKOjFCOvPE2Vjeo2kbtTdP2JZVr0QtA=s0\" style=\"width: 200px;\"/></a><br/><br/>"
      ],
      "text/plain": [
       "<IPython.core.display.HTML object>"
      ]
     },
     "metadata": {},
     "output_type": "display_data"
    },
    {
     "name": "stdout",
     "output_type": "stream",
     "text": [
      "Portret van Johannes van Neercassel\n",
      "http://hdl.handle.net/10934/RM0001.COLLECT.45000\n"
     ]
    },
    {
     "data": {
      "text/html": [
       "<a target=\"_new\" href=\"http://lh3.ggpht.com/HqheQ8s38FRsiQSjSO_gtgy6c_tEHpd8A091bsxexsDTGS8QU9qMe4A6vguKwjnqrkqrhkP_9V9JLIffbkJ2dLG3Cyk=s0\"><img src=\"http://lh3.ggpht.com/HqheQ8s38FRsiQSjSO_gtgy6c_tEHpd8A091bsxexsDTGS8QU9qMe4A6vguKwjnqrkqrhkP_9V9JLIffbkJ2dLG3Cyk=s0\" style=\"width: 200px;\"/></a><br/><br/>"
      ],
      "text/plain": [
       "<IPython.core.display.HTML object>"
      ]
     },
     "metadata": {},
     "output_type": "display_data"
    },
    {
     "name": "stdout",
     "output_type": "stream",
     "text": [
      "Portret van Kaspar Neumann\n",
      "http://hdl.handle.net/10934/RM0001.COLLECT.45001\n"
     ]
    },
    {
     "data": {
      "text/html": [
       "<a target=\"_new\" href=\"http://lh3.ggpht.com/CPGElS2CE5RLRdAcwFhE7LE803S7bBMCBEseAjOxy_hzgLDHCKU9l3yBbDAwoQHCtHLnZoZUWtSRUrOlVAl2PE3Q0w=s0\"><img src=\"http://lh3.ggpht.com/CPGElS2CE5RLRdAcwFhE7LE803S7bBMCBEseAjOxy_hzgLDHCKU9l3yBbDAwoQHCtHLnZoZUWtSRUrOlVAl2PE3Q0w=s0\" style=\"width: 200px;\"/></a><br/><br/>"
      ],
      "text/plain": [
       "<IPython.core.display.HTML object>"
      ]
     },
     "metadata": {},
     "output_type": "display_data"
    },
    {
     "name": "stdout",
     "output_type": "stream",
     "text": [
      "Portret van de dichter Jan Norel\n",
      "http://hdl.handle.net/10934/RM0001.COLLECT.45010\n"
     ]
    },
    {
     "data": {
      "text/html": [
       "<a target=\"_new\" href=\"http://lh3.ggpht.com/Kwkvh40ThmyN8Lp2armnxYy7u4LMYWohmMR07twZTB5RlEuwgSEZwO3G0VY9NUIkEdVuKAuvlznGH_oBnbxbUVIlBg=s0\"><img src=\"http://lh3.ggpht.com/Kwkvh40ThmyN8Lp2armnxYy7u4LMYWohmMR07twZTB5RlEuwgSEZwO3G0VY9NUIkEdVuKAuvlznGH_oBnbxbUVIlBg=s0\" style=\"width: 200px;\"/></a><br/><br/>"
      ],
      "text/plain": [
       "<IPython.core.display.HTML object>"
      ]
     },
     "metadata": {},
     "output_type": "display_data"
    },
    {
     "name": "stdout",
     "output_type": "stream",
     "text": [
      "Portret van de dichter Jan Norel\n",
      "http://hdl.handle.net/10934/RM0001.COLLECT.45011\n"
     ]
    },
    {
     "data": {
      "text/html": [
       "<a target=\"_new\" href=\"http://lh5.ggpht.com/3ziGcPMqm9og5kWW3JT85LFnOJc9u9S6MzEZelnZchvzZ0Te7e02PBjGKKudrLWLQlWmcgl7QN302-p4PH9LU3cdghc=s0\"><img src=\"http://lh5.ggpht.com/3ziGcPMqm9og5kWW3JT85LFnOJc9u9S6MzEZelnZchvzZ0Te7e02PBjGKKudrLWLQlWmcgl7QN302-p4PH9LU3cdghc=s0\" style=\"width: 200px;\"/></a><br/><br/>"
      ],
      "text/plain": [
       "<IPython.core.display.HTML object>"
      ]
     },
     "metadata": {},
     "output_type": "display_data"
    },
    {
     "name": "stdout",
     "output_type": "stream",
     "text": [
      "Portret van Johann Christian Olearius\n",
      "http://hdl.handle.net/10934/RM0001.COLLECT.45014\n"
     ]
    },
    {
     "data": {
      "text/html": [
       "<a target=\"_new\" href=\"http://lh4.ggpht.com/ANnCQiq3kvAxfo9Dj6ioWLMXXyvTzCXDkMGWh6UO42DOCqWkUJRf4FYTT1RhPz3ailf_clY9zTpn7fjIdqKMwidkgXc=s0\"><img src=\"http://lh4.ggpht.com/ANnCQiq3kvAxfo9Dj6ioWLMXXyvTzCXDkMGWh6UO42DOCqWkUJRf4FYTT1RhPz3ailf_clY9zTpn7fjIdqKMwidkgXc=s0\" style=\"width: 200px;\"/></a><br/><br/>"
      ],
      "text/plain": [
       "<IPython.core.display.HTML object>"
      ]
     },
     "metadata": {},
     "output_type": "display_data"
    },
    {
     "name": "stdout",
     "output_type": "stream",
     "text": [
      "Portret van Johann Anton Otto\n",
      "http://hdl.handle.net/10934/RM0001.COLLECT.45019\n"
     ]
    },
    {
     "data": {
      "text/html": [
       "<a target=\"_new\" href=\"http://lh6.ggpht.com/0zzb0q5GYUtneOn6Pr9QJVffZORkoeiB_rIbdpp4VMUq7lP4gOOCbjbIguQHYtUDABs6DuT0BFWwsLgHhpiguLIJww=s0\"><img src=\"http://lh6.ggpht.com/0zzb0q5GYUtneOn6Pr9QJVffZORkoeiB_rIbdpp4VMUq7lP4gOOCbjbIguQHYtUDABs6DuT0BFWwsLgHhpiguLIJww=s0\" style=\"width: 200px;\"/></a><br/><br/>"
      ],
      "text/plain": [
       "<IPython.core.display.HTML object>"
      ]
     },
     "metadata": {},
     "output_type": "display_data"
    },
    {
     "name": "stdout",
     "output_type": "stream",
     "text": [
      "Portret van Samuel Schultz\n",
      "http://hdl.handle.net/10934/RM0001.COLLECT.45067\n"
     ]
    },
    {
     "data": {
      "text/html": [
       "<a target=\"_new\" href=\"http://lh5.ggpht.com/nT7S6ZAoM-IIa5Td5A5zqIm52kjT8vlpAVTLx7ZsGuyj8gdNj4QyyWD9HvWsliII2GxzJN_ov74BScVOoD1_vixU7Lyk=s0\"><img src=\"http://lh5.ggpht.com/nT7S6ZAoM-IIa5Td5A5zqIm52kjT8vlpAVTLx7ZsGuyj8gdNj4QyyWD9HvWsliII2GxzJN_ov74BScVOoD1_vixU7Lyk=s0\" style=\"width: 200px;\"/></a><br/><br/>"
      ],
      "text/plain": [
       "<IPython.core.display.HTML object>"
      ]
     },
     "metadata": {},
     "output_type": "display_data"
    },
    {
     "name": "stdout",
     "output_type": "stream",
     "text": [
      "Portret van Johann Erasmus Seiffert von Klettenberg\n",
      "http://hdl.handle.net/10934/RM0001.COLLECT.44928\n"
     ]
    },
    {
     "data": {
      "text/html": [
       "<a target=\"_new\" href=\"http://lh4.ggpht.com/22RwJbVRGma2m_cl5k3Yv6rLLrsXaXsGLYiSh9cZMPnDGMXm7T1BgaeXnXB0Kvg7FozIvaOvx4CvwFOkqbVHonP5A9D4=s0\"><img src=\"http://lh4.ggpht.com/22RwJbVRGma2m_cl5k3Yv6rLLrsXaXsGLYiSh9cZMPnDGMXm7T1BgaeXnXB0Kvg7FozIvaOvx4CvwFOkqbVHonP5A9D4=s0\" style=\"width: 200px;\"/></a><br/><br/>"
      ],
      "text/plain": [
       "<IPython.core.display.HTML object>"
      ]
     },
     "metadata": {},
     "output_type": "display_data"
    },
    {
     "name": "stdout",
     "output_type": "stream",
     "text": [
      "Portret van Jacob van Lennep, zittend op een stoel\n",
      "http://hdl.handle.net/10934/RM0001.collect.176619\n"
     ]
    },
    {
     "data": {
      "text/html": [
       "<a target=\"_new\" href=\"http://lh6.ggpht.com/IXTj0yFPhgEiMFMLQIhcSnCtyhqYOXAgIUQj9-Kxr-uGw2cQmzrj2-ZQW5GOUMyhmrrqNs1hh2mjWDj4eu2zthIxwZw=s0\"><img src=\"http://lh6.ggpht.com/IXTj0yFPhgEiMFMLQIhcSnCtyhqYOXAgIUQj9-Kxr-uGw2cQmzrj2-ZQW5GOUMyhmrrqNs1hh2mjWDj4eu2zthIxwZw=s0\" style=\"width: 200px;\"/></a><br/><br/>"
      ],
      "text/plain": [
       "<IPython.core.display.HTML object>"
      ]
     },
     "metadata": {},
     "output_type": "display_data"
    },
    {
     "name": "stdout",
     "output_type": "stream",
     "text": [
      "Portret van de reformator Johannes Calvijn\n",
      "http://hdl.handle.net/10934/RM0001.COLLECT.43526\n"
     ]
    },
    {
     "data": {
      "text/html": [
       "<a target=\"_new\" href=\"http://lh5.ggpht.com/VOzoWlDo_P5XZsmcBvvMZQ4XUjZ1cghGvJWKY0M0w8gT0k-3ew4tvpWT7Jl9iERfZofHlu7SsrxlQorAKFwugg2Geizn=s0\"><img src=\"http://lh5.ggpht.com/VOzoWlDo_P5XZsmcBvvMZQ4XUjZ1cghGvJWKY0M0w8gT0k-3ew4tvpWT7Jl9iERfZofHlu7SsrxlQorAKFwugg2Geizn=s0\" style=\"width: 200px;\"/></a><br/><br/>"
      ],
      "text/plain": [
       "<IPython.core.display.HTML object>"
      ]
     },
     "metadata": {},
     "output_type": "display_data"
    },
    {
     "name": "stdout",
     "output_type": "stream",
     "text": [
      "De zeven vrije kunsten (artes liberales)\n",
      "http://hdl.handle.net/10934/RM0001.COLLECT.43729\n"
     ]
    },
    {
     "data": {
      "text/html": [
       "<a target=\"_new\" href=\"http://lh6.ggpht.com/WXpBa4aQLH_xYYVoizA5gGpSs5YRNtJJ4Gv-3fwGsEY0-VZkOGKeJ5R-1GWK0nIqXYNBVX3jVnSZ9PTxwL29sn0eZbA=s0\"><img src=\"http://lh6.ggpht.com/WXpBa4aQLH_xYYVoizA5gGpSs5YRNtJJ4Gv-3fwGsEY0-VZkOGKeJ5R-1GWK0nIqXYNBVX3jVnSZ9PTxwL29sn0eZbA=s0\" style=\"width: 200px;\"/></a><br/><br/>"
      ],
      "text/plain": [
       "<IPython.core.display.HTML object>"
      ]
     },
     "metadata": {},
     "output_type": "display_data"
    },
    {
     "name": "stdout",
     "output_type": "stream",
     "text": [
      "Poesia\n",
      "http://hdl.handle.net/10934/RM0001.COLLECT.43729\n"
     ]
    },
    {
     "data": {
      "text/html": [
       "<a target=\"_new\" href=\"http://lh6.ggpht.com/WXpBa4aQLH_xYYVoizA5gGpSs5YRNtJJ4Gv-3fwGsEY0-VZkOGKeJ5R-1GWK0nIqXYNBVX3jVnSZ9PTxwL29sn0eZbA=s0\"><img src=\"http://lh6.ggpht.com/WXpBa4aQLH_xYYVoizA5gGpSs5YRNtJJ4Gv-3fwGsEY0-VZkOGKeJ5R-1GWK0nIqXYNBVX3jVnSZ9PTxwL29sn0eZbA=s0\" style=\"width: 200px;\"/></a><br/><br/>"
      ],
      "text/plain": [
       "<IPython.core.display.HTML object>"
      ]
     },
     "metadata": {},
     "output_type": "display_data"
    },
    {
     "name": "stdout",
     "output_type": "stream",
     "text": [
      "Poësis\n",
      "http://hdl.handle.net/10934/RM0001.COLLECT.43729\n"
     ]
    },
    {
     "data": {
      "text/html": [
       "<a target=\"_new\" href=\"http://lh6.ggpht.com/WXpBa4aQLH_xYYVoizA5gGpSs5YRNtJJ4Gv-3fwGsEY0-VZkOGKeJ5R-1GWK0nIqXYNBVX3jVnSZ9PTxwL29sn0eZbA=s0\"><img src=\"http://lh6.ggpht.com/WXpBa4aQLH_xYYVoizA5gGpSs5YRNtJJ4Gv-3fwGsEY0-VZkOGKeJ5R-1GWK0nIqXYNBVX3jVnSZ9PTxwL29sn0eZbA=s0\" style=\"width: 200px;\"/></a><br/><br/>"
      ],
      "text/plain": [
       "<IPython.core.display.HTML object>"
      ]
     },
     "metadata": {},
     "output_type": "display_data"
    },
    {
     "name": "stdout",
     "output_type": "stream",
     "text": [
      "Het boeken karretje\n",
      "http://hdl.handle.net/10934/RM0001.COLLECT.45506\n"
     ]
    },
    {
     "data": {
      "text/html": [
       "<a target=\"_new\" href=\"http://lh5.ggpht.com/iEYQdwzvsW2FwkBmztw8Jr9nVZoDZXwlby-lkyzhwb92YRyjsVPc6FfCRRmf9g2Tcalh4fjvISONP0jqsY9CSFVqmw=s0\"><img src=\"http://lh5.ggpht.com/iEYQdwzvsW2FwkBmztw8Jr9nVZoDZXwlby-lkyzhwb92YRyjsVPc6FfCRRmf9g2Tcalh4fjvISONP0jqsY9CSFVqmw=s0\" style=\"width: 200px;\"/></a><br/><br/>"
      ],
      "text/plain": [
       "<IPython.core.display.HTML object>"
      ]
     },
     "metadata": {},
     "output_type": "display_data"
    },
    {
     "name": "stdout",
     "output_type": "stream",
     "text": [
      "Portret van Abraham Gorlaeus\n",
      "http://hdl.handle.net/10934/RM0001.COLLECT.448737\n"
     ]
    },
    {
     "data": {
      "text/html": [
       "<a target=\"_new\" href=\"http://lh5.ggpht.com/O7uCLmJv_sToyz_tGxMSlSUPeVDmr6dIGkCsaqNWFAIhRIk0W3k6tWM8m-rR3xSkIaQ32VsF84kmVpjd_-RyUGQ_rK7Z=s0\"><img src=\"http://lh5.ggpht.com/O7uCLmJv_sToyz_tGxMSlSUPeVDmr6dIGkCsaqNWFAIhRIk0W3k6tWM8m-rR3xSkIaQ32VsF84kmVpjd_-RyUGQ_rK7Z=s0\" style=\"width: 200px;\"/></a><br/><br/>"
      ],
      "text/plain": [
       "<IPython.core.display.HTML object>"
      ]
     },
     "metadata": {},
     "output_type": "display_data"
    },
    {
     "name": "stdout",
     "output_type": "stream",
     "text": [
      "Vrouw omarmt jongen\n",
      "http://hdl.handle.net/10934/RM0001.COLLECT.325245\n"
     ]
    },
    {
     "data": {
      "text/html": [
       "<a target=\"_new\" href=\"http://lh4.ggpht.com/JVRP1JJZmyhmvgk9bZC9dOM4swGD22SLDzWPCXQCWZbLecDY1xMAd5fd2XsR7DWdGlrWNEmvtL_1XkCX0H0WjZAkJiU=s0\"><img src=\"http://lh4.ggpht.com/JVRP1JJZmyhmvgk9bZC9dOM4swGD22SLDzWPCXQCWZbLecDY1xMAd5fd2XsR7DWdGlrWNEmvtL_1XkCX0H0WjZAkJiU=s0\" style=\"width: 200px;\"/></a><br/><br/>"
      ],
      "text/plain": [
       "<IPython.core.display.HTML object>"
      ]
     },
     "metadata": {},
     "output_type": "display_data"
    },
    {
     "name": "stdout",
     "output_type": "stream",
     "text": [
      "Portret van Lucas Reeder\n",
      "http://hdl.handle.net/10934/RM0001.COLLECT.327212\n"
     ]
    },
    {
     "data": {
      "text/html": [
       "<a target=\"_new\" href=\"http://lh4.ggpht.com/eRbJjke6RmmDhiwJk8euoHUarem4waggFUA-t30CZXmyn9tUCyphunaaqqnBPdzOmVHLZrLkG1nUrUxzC9Qb0xId6sc=s0\"><img src=\"http://lh4.ggpht.com/eRbJjke6RmmDhiwJk8euoHUarem4waggFUA-t30CZXmyn9tUCyphunaaqqnBPdzOmVHLZrLkG1nUrUxzC9Qb0xId6sc=s0\" style=\"width: 200px;\"/></a><br/><br/>"
      ],
      "text/plain": [
       "<IPython.core.display.HTML object>"
      ]
     },
     "metadata": {},
     "output_type": "display_data"
    },
    {
     "name": "stdout",
     "output_type": "stream",
     "text": [
      "De Geschiedenis van uw Vaderland niet kennende [...]\n",
      "http://hdl.handle.net/10934/RM0001.COLLECT.327566\n"
     ]
    },
    {
     "data": {
      "text/html": [
       "<a target=\"_new\" href=\"http://lh4.ggpht.com/NO-eFIlDMfCdyJzNlvKaoMuPSVGDyOmfGy5tR95RgNNQNEiwd-lumCHrBNrZTodeQoVw8AJ_2kSLjxxxcOseElqmATY=s0\"><img src=\"http://lh4.ggpht.com/NO-eFIlDMfCdyJzNlvKaoMuPSVGDyOmfGy5tR95RgNNQNEiwd-lumCHrBNrZTodeQoVw8AJ_2kSLjxxxcOseElqmATY=s0\" style=\"width: 200px;\"/></a><br/><br/>"
      ],
      "text/plain": [
       "<IPython.core.display.HTML object>"
      ]
     },
     "metadata": {},
     "output_type": "display_data"
    },
    {
     "name": "stdout",
     "output_type": "stream",
     "text": [
      "Man en een jongen zittende aan een tafel in een vertrek\n",
      "http://hdl.handle.net/10934/RM0001.COLLECT.327566\n"
     ]
    },
    {
     "data": {
      "text/html": [
       "<a target=\"_new\" href=\"http://lh4.ggpht.com/NO-eFIlDMfCdyJzNlvKaoMuPSVGDyOmfGy5tR95RgNNQNEiwd-lumCHrBNrZTodeQoVw8AJ_2kSLjxxxcOseElqmATY=s0\"><img src=\"http://lh4.ggpht.com/NO-eFIlDMfCdyJzNlvKaoMuPSVGDyOmfGy5tR95RgNNQNEiwd-lumCHrBNrZTodeQoVw8AJ_2kSLjxxxcOseElqmATY=s0\" style=\"width: 200px;\"/></a><br/><br/>"
      ],
      "text/plain": [
       "<IPython.core.display.HTML object>"
      ]
     },
     "metadata": {},
     "output_type": "display_data"
    },
    {
     "name": "stdout",
     "output_type": "stream",
     "text": [
      "wierp hij dit boek weg, en riep tevens met een vloek uit: of dit is het Evangelie niet, of wij zijn geene Christenen!\n",
      "http://hdl.handle.net/10934/RM0001.COLLECT.327782\n"
     ]
    },
    {
     "data": {
      "text/html": [
       "<a target=\"_new\" href=\"http://lh5.ggpht.com/yQQtaAHVspa-3onchD3g8RLeh05-Aot2R1d56T9hfgR1bPjpi_qW6pn_xS3FgAojSrjUBMkjZ3hcHKoIZvs1JjL5Mws=s0\"><img src=\"http://lh5.ggpht.com/yQQtaAHVspa-3onchD3g8RLeh05-Aot2R1d56T9hfgR1bPjpi_qW6pn_xS3FgAojSrjUBMkjZ3hcHKoIZvs1JjL5Mws=s0\" style=\"width: 200px;\"/></a><br/><br/>"
      ],
      "text/plain": [
       "<IPython.core.display.HTML object>"
      ]
     },
     "metadata": {},
     "output_type": "display_data"
    },
    {
     "name": "stdout",
     "output_type": "stream",
     "text": [
      "Thomas Linacre gooit het Nieuwe Testament vol verbazing op de grond\n",
      "http://hdl.handle.net/10934/RM0001.COLLECT.327782\n"
     ]
    },
    {
     "data": {
      "text/html": [
       "<a target=\"_new\" href=\"http://lh5.ggpht.com/yQQtaAHVspa-3onchD3g8RLeh05-Aot2R1d56T9hfgR1bPjpi_qW6pn_xS3FgAojSrjUBMkjZ3hcHKoIZvs1JjL5Mws=s0\"><img src=\"http://lh5.ggpht.com/yQQtaAHVspa-3onchD3g8RLeh05-Aot2R1d56T9hfgR1bPjpi_qW6pn_xS3FgAojSrjUBMkjZ3hcHKoIZvs1JjL5Mws=s0\" style=\"width: 200px;\"/></a><br/><br/>"
      ],
      "text/plain": [
       "<IPython.core.display.HTML object>"
      ]
     },
     "metadata": {},
     "output_type": "display_data"
    },
    {
     "name": "stdout",
     "output_type": "stream",
     "text": [
      "Portret van Adriaen van Beverland met een dame van lichte zeden\n",
      "http://hdl.handle.net/10934/RM0001.COLLECT.44807\n"
     ]
    },
    {
     "data": {
      "text/html": [
       "<a target=\"_new\" href=\"http://lh5.ggpht.com/FjQxj7Rn321OEj6_Db3tYHiqG4IBMyXLcIYSYiSr34tdMjtjlktHZpHruV57ZjW3txJVa8qnCGWw4PJmtWvwEBtVrxxi=s0\"><img src=\"http://lh5.ggpht.com/FjQxj7Rn321OEj6_Db3tYHiqG4IBMyXLcIYSYiSr34tdMjtjlktHZpHruV57ZjW3txJVa8qnCGWw4PJmtWvwEBtVrxxi=s0\" style=\"width: 200px;\"/></a><br/><br/>"
      ],
      "text/plain": [
       "<IPython.core.display.HTML object>"
      ]
     },
     "metadata": {},
     "output_type": "display_data"
    },
    {
     "name": "stdout",
     "output_type": "stream",
     "text": [
      "Portret van de theoloog en schrijver Joannes Brandt\n",
      "http://hdl.handle.net/10934/RM0001.COLLECT.44815\n"
     ]
    },
    {
     "data": {
      "text/html": [
       "<a target=\"_new\" href=\"http://lh6.ggpht.com/ur_grVv-PudvH3Sh-Zq3vRfDsqgWnLy9eM6CNDUS1KhzUwGGz14y6ccBdYi4d6xLczr8zj9aTTUidd1rcsz-ZdrL-1A=s0\"><img src=\"http://lh6.ggpht.com/ur_grVv-PudvH3Sh-Zq3vRfDsqgWnLy9eM6CNDUS1KhzUwGGz14y6ccBdYi4d6xLczr8zj9aTTUidd1rcsz-ZdrL-1A=s0\" style=\"width: 200px;\"/></a><br/><br/>"
      ],
      "text/plain": [
       "<IPython.core.display.HTML object>"
      ]
     },
     "metadata": {},
     "output_type": "display_data"
    },
    {
     "name": "stdout",
     "output_type": "stream",
     "text": [
      "Portret van Johannes Dolaeus\n",
      "http://hdl.handle.net/10934/RM0001.COLLECT.44852\n"
     ]
    },
    {
     "data": {
      "text/html": [
       "<a target=\"_new\" href=\"http://lh6.ggpht.com/OjnMIRDS-kVN0MjFOvsl633Y0ZWoROK_so8R4XvLgnxmOik7RoEORKJhEa_Vcuq4krsC3O7beKu1S8LHoFH6xsf5aUY=s0\"><img src=\"http://lh6.ggpht.com/OjnMIRDS-kVN0MjFOvsl633Y0ZWoROK_so8R4XvLgnxmOik7RoEORKJhEa_Vcuq4krsC3O7beKu1S8LHoFH6xsf5aUY=s0\" style=\"width: 200px;\"/></a><br/><br/>"
      ],
      "text/plain": [
       "<IPython.core.display.HTML object>"
      ]
     },
     "metadata": {},
     "output_type": "display_data"
    },
    {
     "name": "stdout",
     "output_type": "stream",
     "text": [
      "Portret van Gerbrand van Leeuwen\n",
      "http://hdl.handle.net/10934/RM0001.COLLECT.44945\n"
     ]
    },
    {
     "data": {
      "text/html": [
       "<a target=\"_new\" href=\"http://lh4.ggpht.com/J5LyRwiTk0UvQrDRNLfc6Bw9Tk9OcuTWYXlQFSLzDCT4vCzBBOfebBsFhPEZD-oThCgkbfw5ess6cN9Z3DAu_Fae508=s0\"><img src=\"http://lh4.ggpht.com/J5LyRwiTk0UvQrDRNLfc6Bw9Tk9OcuTWYXlQFSLzDCT4vCzBBOfebBsFhPEZD-oThCgkbfw5ess6cN9Z3DAu_Fae508=s0\" style=\"width: 200px;\"/></a><br/><br/>"
      ],
      "text/plain": [
       "<IPython.core.display.HTML object>"
      ]
     },
     "metadata": {},
     "output_type": "display_data"
    },
    {
     "name": "stdout",
     "output_type": "stream",
     "text": [
      "Portret van Johann Friedrich Mayer\n",
      "http://hdl.handle.net/10934/RM0001.COLLECT.44990\n"
     ]
    },
    {
     "data": {
      "text/html": [
       "<a target=\"_new\" href=\"http://lh5.ggpht.com/JHSFChJk6jnuoIppi7gAyCjSluBXs9-Hfo5hq-9wuUqYXK0UKOY38BFxTlEAPd_Y9FQCRvVmy9zZ9cAAX-QKmTX8=s0\"><img src=\"http://lh5.ggpht.com/JHSFChJk6jnuoIppi7gAyCjSluBXs9-Hfo5hq-9wuUqYXK0UKOY38BFxTlEAPd_Y9FQCRvVmy9zZ9cAAX-QKmTX8=s0\" style=\"width: 200px;\"/></a><br/><br/>"
      ],
      "text/plain": [
       "<IPython.core.display.HTML object>"
      ]
     },
     "metadata": {},
     "output_type": "display_data"
    },
    {
     "name": "stdout",
     "output_type": "stream",
     "text": [
      "Portret van de dichter Jan Norel\n",
      "http://hdl.handle.net/10934/RM0001.COLLECT.45009\n"
     ]
    },
    {
     "data": {
      "text/html": [
       "<a target=\"_new\" href=\"http://lh4.ggpht.com/FWrTKiXb9gcysWar8cyUPWz7tmNgm9GWx5NbNZVuZczV_wrqAY23wvvuK-Yb5py5Ao_Uu5mxQNRMA9DaxMSnTPJt-Q=s0\"><img src=\"http://lh4.ggpht.com/FWrTKiXb9gcysWar8cyUPWz7tmNgm9GWx5NbNZVuZczV_wrqAY23wvvuK-Yb5py5Ao_Uu5mxQNRMA9DaxMSnTPJt-Q=s0\" style=\"width: 200px;\"/></a><br/><br/>"
      ],
      "text/plain": [
       "<IPython.core.display.HTML object>"
      ]
     },
     "metadata": {},
     "output_type": "display_data"
    },
    {
     "name": "stdout",
     "output_type": "stream",
     "text": [
      "Portret van Willem Bilderdijk\n",
      "http://hdl.handle.net/10934/RM0001.COLLECT.7389\n"
     ]
    },
    {
     "data": {
      "text/html": [
       "<a target=\"_new\" href=\"http://lh5.ggpht.com/mFEQwERLzekz9wPomUQvG5oky4WE0TYKAY0kYz23UQDuh0ZZZNDzmnG2lCz6RZML4EMu8VGJYK8MGy4KZqK3wC6_tpA=s0\"><img src=\"http://lh5.ggpht.com/mFEQwERLzekz9wPomUQvG5oky4WE0TYKAY0kYz23UQDuh0ZZZNDzmnG2lCz6RZML4EMu8VGJYK8MGy4KZqK3wC6_tpA=s0\" style=\"width: 200px;\"/></a><br/><br/>"
      ],
      "text/plain": [
       "<IPython.core.display.HTML object>"
      ]
     },
     "metadata": {},
     "output_type": "display_data"
    },
    {
     "name": "stdout",
     "output_type": "stream",
     "text": [
      "Portrait of Willem Bilderdijk\n",
      "http://hdl.handle.net/10934/RM0001.COLLECT.7389\n"
     ]
    },
    {
     "data": {
      "text/html": [
       "<a target=\"_new\" href=\"http://lh5.ggpht.com/mFEQwERLzekz9wPomUQvG5oky4WE0TYKAY0kYz23UQDuh0ZZZNDzmnG2lCz6RZML4EMu8VGJYK8MGy4KZqK3wC6_tpA=s0\"><img src=\"http://lh5.ggpht.com/mFEQwERLzekz9wPomUQvG5oky4WE0TYKAY0kYz23UQDuh0ZZZNDzmnG2lCz6RZML4EMu8VGJYK8MGy4KZqK3wC6_tpA=s0\" style=\"width: 200px;\"/></a><br/><br/>"
      ],
      "text/plain": [
       "<IPython.core.display.HTML object>"
      ]
     },
     "metadata": {},
     "output_type": "display_data"
    },
    {
     "name": "stdout",
     "output_type": "stream",
     "text": [
      "Nar met vaatje wijn\n",
      "http://hdl.handle.net/10934/RM0001.COLLECT.117774\n"
     ]
    },
    {
     "data": {
      "text/html": [
       "<a target=\"_new\" href=\"http://lh6.ggpht.com/RDLe73l1v2rsh0rC7GpWn8AT_n_hkXoQxnp9bcfKsCCfifpHmd_4FHqz3qDKt8FbTAUWPjq1VZfihKWGpAK6TKRbA8k=s0\"><img src=\"http://lh6.ggpht.com/RDLe73l1v2rsh0rC7GpWn8AT_n_hkXoQxnp9bcfKsCCfifpHmd_4FHqz3qDKt8FbTAUWPjq1VZfihKWGpAK6TKRbA8k=s0\" style=\"width: 200px;\"/></a><br/><br/>"
      ],
      "text/plain": [
       "<IPython.core.display.HTML object>"
      ]
     },
     "metadata": {},
     "output_type": "display_data"
    },
    {
     "name": "stdout",
     "output_type": "stream",
     "text": [
      "Man met hoed\n",
      "http://hdl.handle.net/10934/RM0001.collect.92075\n"
     ]
    },
    {
     "data": {
      "text/html": [
       "<a target=\"_new\" href=\"http://lh3.ggpht.com/-5Ij1VnxpYBWlaaoitsVoVXSTz7QOLCMVjOASt-Mn-mIvuJ1g6rtZNzD0GLzNLD9kd999BYEgNCxMqyOC7gwCJlze8g=s0\"><img src=\"http://lh3.ggpht.com/-5Ij1VnxpYBWlaaoitsVoVXSTz7QOLCMVjOASt-Mn-mIvuJ1g6rtZNzD0GLzNLD9kd999BYEgNCxMqyOC7gwCJlze8g=s0\" style=\"width: 200px;\"/></a><br/><br/>"
      ],
      "text/plain": [
       "<IPython.core.display.HTML object>"
      ]
     },
     "metadata": {},
     "output_type": "display_data"
    },
    {
     "name": "stdout",
     "output_type": "stream",
     "text": [
      "Portret van Herman Witsius\n",
      "http://hdl.handle.net/10934/RM0001.COLLECT.43500\n"
     ]
    },
    {
     "data": {
      "text/html": [
       "<a target=\"_new\" href=\"http://lh3.ggpht.com/9xjwJJfrkv5EkOO5_jMRSr2CkHPeZMsdnbvfliMl2yS6bgT4aMyIGbZIYJ7Fya3-8Nqrbws70FgG6t5zufAF-Fg_tcY_=s0\"><img src=\"http://lh3.ggpht.com/9xjwJJfrkv5EkOO5_jMRSr2CkHPeZMsdnbvfliMl2yS6bgT4aMyIGbZIYJ7Fya3-8Nqrbws70FgG6t5zufAF-Fg_tcY_=s0\" style=\"width: 200px;\"/></a><br/><br/>"
      ],
      "text/plain": [
       "<IPython.core.display.HTML object>"
      ]
     },
     "metadata": {},
     "output_type": "display_data"
    },
    {
     "name": "stdout",
     "output_type": "stream",
     "text": [
      "Boeken op een plank\n",
      "http://hdl.handle.net/10934/RM0001.COLLECT.342593\n"
     ]
    },
    {
     "data": {
      "text/html": [
       "<a target=\"_new\" href=\"http://lh4.ggpht.com/bljYdhi_d5PkubMu5wdNw6QW16qqHSafU0XWzD2grft0HYxOTQsSeeSEuiv9z6FhHKtp6i34u5aZiOTtGQzCjohKO4k=s0\"><img src=\"http://lh4.ggpht.com/bljYdhi_d5PkubMu5wdNw6QW16qqHSafU0XWzD2grft0HYxOTQsSeeSEuiv9z6FhHKtp6i34u5aZiOTtGQzCjohKO4k=s0\" style=\"width: 200px;\"/></a><br/><br/>"
      ],
      "text/plain": [
       "<IPython.core.display.HTML object>"
      ]
     },
     "metadata": {},
     "output_type": "display_data"
    },
    {
     "name": "stdout",
     "output_type": "stream",
     "text": [
      "Kruijt voor de wilde-woeste\n",
      "http://hdl.handle.net/10934/RM0001.COLLECT.342593\n"
     ]
    },
    {
     "data": {
      "text/html": [
       "<a target=\"_new\" href=\"http://lh4.ggpht.com/bljYdhi_d5PkubMu5wdNw6QW16qqHSafU0XWzD2grft0HYxOTQsSeeSEuiv9z6FhHKtp6i34u5aZiOTtGQzCjohKO4k=s0\"><img src=\"http://lh4.ggpht.com/bljYdhi_d5PkubMu5wdNw6QW16qqHSafU0XWzD2grft0HYxOTQsSeeSEuiv9z6FhHKtp6i34u5aZiOTtGQzCjohKO4k=s0\" style=\"width: 200px;\"/></a><br/><br/>"
      ],
      "text/plain": [
       "<IPython.core.display.HTML object>"
      ]
     },
     "metadata": {},
     "output_type": "display_data"
    },
    {
     "name": "stdout",
     "output_type": "stream",
     "text": [
      "Portret van Charles Patin\n",
      "http://hdl.handle.net/10934/RM0001.COLLECT.46415\n"
     ]
    },
    {
     "data": {
      "text/html": [
       "<a target=\"_new\" href=\"http://lh4.ggpht.com/YL5DIGgx8xbrNXeF5_hcdfrjJg3MmqwFr3lB0iXh9F8ikHjPE8a7KY77HXoS9J9ItETZwvmKwVwg3VaRPW2CDP0S5DA=s0\"><img src=\"http://lh4.ggpht.com/YL5DIGgx8xbrNXeF5_hcdfrjJg3MmqwFr3lB0iXh9F8ikHjPE8a7KY77HXoS9J9ItETZwvmKwVwg3VaRPW2CDP0S5DA=s0\" style=\"width: 200px;\"/></a><br/><br/>"
      ],
      "text/plain": [
       "<IPython.core.display.HTML object>"
      ]
     },
     "metadata": {},
     "output_type": "display_data"
    },
    {
     "name": "stdout",
     "output_type": "stream",
     "text": [
      "Drie mannen rond een boek in een kantoor\n",
      "http://hdl.handle.net/10934/RM0001.COLLECT.191365\n"
     ]
    },
    {
     "data": {
      "text/html": [
       "<a target=\"_new\" href=\"http://lh3.ggpht.com/3oPg4HaOrC3qxDlnfFU6nEP-SyRNxsmERFD6aFNUZXcToZDVN1AEoIo8MCM4ykxovoY3jYPBiTQmGlcLUKAfmfa6nw=s0\"><img src=\"http://lh3.ggpht.com/3oPg4HaOrC3qxDlnfFU6nEP-SyRNxsmERFD6aFNUZXcToZDVN1AEoIo8MCM4ykxovoY3jYPBiTQmGlcLUKAfmfa6nw=s0\" style=\"width: 200px;\"/></a><br/><br/>"
      ],
      "text/plain": [
       "<IPython.core.display.HTML object>"
      ]
     },
     "metadata": {},
     "output_type": "display_data"
    },
    {
     "name": "stdout",
     "output_type": "stream",
     "text": [
      "Grijsaard aan het venster\n",
      "http://hdl.handle.net/10934/RM0001.COLLECT.176443\n"
     ]
    },
    {
     "data": {
      "text/html": [
       "<a target=\"_new\" href=\"http://lh5.ggpht.com/fQm2REq-H4F_CJz0XdpQxpZSyOBVDezcUPVO1ZTenL3SQevMKA59TCq9pgUA8hWxGQsq14yPLsoi3Qvp25wRfZVt2Q=s0\"><img src=\"http://lh5.ggpht.com/fQm2REq-H4F_CJz0XdpQxpZSyOBVDezcUPVO1ZTenL3SQevMKA59TCq9pgUA8hWxGQsq14yPLsoi3Qvp25wRfZVt2Q=s0\" style=\"width: 200px;\"/></a><br/><br/>"
      ],
      "text/plain": [
       "<IPython.core.display.HTML object>"
      ]
     },
     "metadata": {},
     "output_type": "display_data"
    },
    {
     "name": "stdout",
     "output_type": "stream",
     "text": [
      "Portret van Gerardus Joannes Vossius\n",
      "http://hdl.handle.net/10934/RM0001.collect.82138\n"
     ]
    },
    {
     "data": {
      "text/html": [
       "<a target=\"_new\" href=\"http://lh6.ggpht.com/gPGXENvWlvS6KWaqjCLI8myEv9yBXf5y7alBRkTRFiKsOCLYjwPZbJbgzBq5SM8CrVXIXEbjuhcNa4lbPNSDDQdbQO4=s0\"><img src=\"http://lh6.ggpht.com/gPGXENvWlvS6KWaqjCLI8myEv9yBXf5y7alBRkTRFiKsOCLYjwPZbJbgzBq5SM8CrVXIXEbjuhcNa4lbPNSDDQdbQO4=s0\" style=\"width: 200px;\"/></a><br/><br/>"
      ],
      "text/plain": [
       "<IPython.core.display.HTML object>"
      ]
     },
     "metadata": {},
     "output_type": "display_data"
    },
    {
     "name": "stdout",
     "output_type": "stream",
     "text": [
      "Portret van François van Oerle\n",
      "http://hdl.handle.net/10934/RM0001.collect.75606\n"
     ]
    },
    {
     "data": {
      "text/html": [
       "<a target=\"_new\" href=\"http://lh6.ggpht.com/LVe1eH2jSYDoY2Esr3LXiEJATFUJBvxoU45vi_hMCjRsNj6o2wI5mCqjPM95TcNBKlU-yX6ojIGfZ4aG4YKcTcP_-g=s0\"><img src=\"http://lh6.ggpht.com/LVe1eH2jSYDoY2Esr3LXiEJATFUJBvxoU45vi_hMCjRsNj6o2wI5mCqjPM95TcNBKlU-yX6ojIGfZ4aG4YKcTcP_-g=s0\" style=\"width: 200px;\"/></a><br/><br/>"
      ],
      "text/plain": [
       "<IPython.core.display.HTML object>"
      ]
     },
     "metadata": {},
     "output_type": "display_data"
    },
    {
     "name": "stdout",
     "output_type": "stream",
     "text": [
      "Portret van Simon Vouet\n",
      "http://hdl.handle.net/10934/RM0001.COLLECT.191964\n"
     ]
    },
    {
     "data": {
      "text/html": [
       "<a target=\"_new\" href=\"http://lh6.ggpht.com/xIrksub3gFAQuB6VIv_-6547OHu6XPP7d6K4MxhPB_mQcXx1YQpVOBr9TZEf8WGrOtrN6Txagp2nGE0kQUWE8kPKCus8=s0\"><img src=\"http://lh6.ggpht.com/xIrksub3gFAQuB6VIv_-6547OHu6XPP7d6K4MxhPB_mQcXx1YQpVOBr9TZEf8WGrOtrN6Txagp2nGE0kQUWE8kPKCus8=s0\" style=\"width: 200px;\"/></a><br/><br/>"
      ],
      "text/plain": [
       "<IPython.core.display.HTML object>"
      ]
     },
     "metadata": {},
     "output_type": "display_data"
    },
    {
     "name": "stdout",
     "output_type": "stream",
     "text": [
      "Tekenende jongen\n",
      "http://hdl.handle.net/10934/RM0001.COLLECT.46666\n"
     ]
    },
    {
     "data": {
      "text/html": [
       "<a target=\"_new\" href=\"http://lh3.ggpht.com/YLs0L0hee8Uv2xfRxLvIfTpxeKgTkSoBeaGv-FLfLq4r4TdTmnESqEht6Rph51hU8MuP8D0vC37gLWBVQh5GJRyLIM8H=s0\"><img src=\"http://lh3.ggpht.com/YLs0L0hee8Uv2xfRxLvIfTpxeKgTkSoBeaGv-FLfLq4r4TdTmnESqEht6Rph51hU8MuP8D0vC37gLWBVQh5GJRyLIM8H=s0\" style=\"width: 200px;\"/></a><br/><br/>"
      ],
      "text/plain": [
       "<IPython.core.display.HTML object>"
      ]
     },
     "metadata": {},
     "output_type": "display_data"
    },
    {
     "name": "stdout",
     "output_type": "stream",
     "text": [
      "Lezende jongen\n",
      "http://hdl.handle.net/10934/RM0001.COLLECT.46671\n"
     ]
    },
    {
     "data": {
      "text/html": [
       "<a target=\"_new\" href=\"http://lh4.ggpht.com/yRMJks2i2G4R1fMszlkNGjxrf9ZwDWA3lh0D5-d4iqdiXiOegWtbZqo3WqnNMiTCgoy3Hum7W_WBDJScwzEHkoRVJ0o=s0\"><img src=\"http://lh4.ggpht.com/yRMJks2i2G4R1fMszlkNGjxrf9ZwDWA3lh0D5-d4iqdiXiOegWtbZqo3WqnNMiTCgoy3Hum7W_WBDJScwzEHkoRVJ0o=s0\" style=\"width: 200px;\"/></a><br/><br/>"
      ],
      "text/plain": [
       "<IPython.core.display.HTML object>"
      ]
     },
     "metadata": {},
     "output_type": "display_data"
    },
    {
     "name": "stdout",
     "output_type": "stream",
     "text": [
      "Lezende jongen\n",
      "http://hdl.handle.net/10934/RM0001.COLLECT.46672\n"
     ]
    },
    {
     "data": {
      "text/html": [
       "<a target=\"_new\" href=\"http://lh5.ggpht.com/GFXz_JmaqOUIcUs_F_KuEvPr2Q4wrtzNgEKbeCVUgr-Z2rnAI3XGBzrYCeJd3RKKqF2cuG4nLaHnqJgMBabe-eQnfAmA=s0\"><img src=\"http://lh5.ggpht.com/GFXz_JmaqOUIcUs_F_KuEvPr2Q4wrtzNgEKbeCVUgr-Z2rnAI3XGBzrYCeJd3RKKqF2cuG4nLaHnqJgMBabe-eQnfAmA=s0\" style=\"width: 200px;\"/></a><br/><br/>"
      ],
      "text/plain": [
       "<IPython.core.display.HTML object>"
      ]
     },
     "metadata": {},
     "output_type": "display_data"
    },
    {
     "name": "stdout",
     "output_type": "stream",
     "text": [
      "Portret van Samuel Coop à Groen\n",
      "http://hdl.handle.net/10934/RM0001.COLLECT.46807\n"
     ]
    },
    {
     "data": {
      "text/html": [
       "<a target=\"_new\" href=\"http://lh5.ggpht.com/Vm6hU6BIuarLddnFwfMYKvb0eH1AsgY_87vb04sOJEbxeMbNNygntjqwr07D_I5MYxlhDep_L8iG14fGj5sWVzCRVh8=s0\"><img src=\"http://lh5.ggpht.com/Vm6hU6BIuarLddnFwfMYKvb0eH1AsgY_87vb04sOJEbxeMbNNygntjqwr07D_I5MYxlhDep_L8iG14fGj5sWVzCRVh8=s0\" style=\"width: 200px;\"/></a><br/><br/>"
      ],
      "text/plain": [
       "<IPython.core.display.HTML object>"
      ]
     },
     "metadata": {},
     "output_type": "display_data"
    },
    {
     "name": "stdout",
     "output_type": "stream",
     "text": [
      "Portret van Cornelius Sladus\n",
      "http://hdl.handle.net/10934/RM0001.COLLECT.46833\n"
     ]
    },
    {
     "data": {
      "text/html": [
       "<a target=\"_new\" href=\"http://lh4.ggpht.com/slhi38s_ytvm4hpHh9f8ToAsMiO_wPqZJTIcGaFpGGLglyphEEx8US5Qsa_f5DVVI7_HCzuw_xNrDtaNC6roEZh45X4=s0\"><img src=\"http://lh4.ggpht.com/slhi38s_ytvm4hpHh9f8ToAsMiO_wPqZJTIcGaFpGGLglyphEEx8US5Qsa_f5DVVI7_HCzuw_xNrDtaNC6roEZh45X4=s0\" style=\"width: 200px;\"/></a><br/><br/>"
      ],
      "text/plain": [
       "<IPython.core.display.HTML object>"
      ]
     },
     "metadata": {},
     "output_type": "display_data"
    },
    {
     "name": "stdout",
     "output_type": "stream",
     "text": [
      "Portret van een man, mogelijk Jacob de Rijck\n",
      "http://hdl.handle.net/10934/RM0001.COLLECT.46831\n"
     ]
    },
    {
     "data": {
      "text/html": [
       "<a target=\"_new\" href=\"http://lh6.ggpht.com/suOnsFFCcN947aZjwS_B_baJvSXt1dycw68M_tNpHwHK9TgZJEBoW83j2yR98JFCsnQuQz8b-teq1bGtqwsNv9Jmsaw=s0\"><img src=\"http://lh6.ggpht.com/suOnsFFCcN947aZjwS_B_baJvSXt1dycw68M_tNpHwHK9TgZJEBoW83j2yR98JFCsnQuQz8b-teq1bGtqwsNv9Jmsaw=s0\" style=\"width: 200px;\"/></a><br/><br/>"
      ],
      "text/plain": [
       "<IPython.core.display.HTML object>"
      ]
     },
     "metadata": {},
     "output_type": "display_data"
    },
    {
     "name": "stdout",
     "output_type": "stream",
     "text": [
      "Lezende man\n",
      "http://hdl.handle.net/10934/RM0001.COLLECT.46597\n"
     ]
    },
    {
     "data": {
      "text/html": [
       "<a target=\"_new\" href=\"http://lh4.ggpht.com/mXoXIZsTUapq1Kc0taMpDF9PEjF1Z0OjCut01N0NB6Nh-vHQ7hNdFHrQ7rd9sT4lUt5uOmorELmmHTydD5KsnqE62Q=s0\"><img src=\"http://lh4.ggpht.com/mXoXIZsTUapq1Kc0taMpDF9PEjF1Z0OjCut01N0NB6Nh-vHQ7hNdFHrQ7rd9sT4lUt5uOmorELmmHTydD5KsnqE62Q=s0\" style=\"width: 200px;\"/></a><br/><br/>"
      ],
      "text/plain": [
       "<IPython.core.display.HTML object>"
      ]
     },
     "metadata": {},
     "output_type": "display_data"
    },
    {
     "name": "stdout",
     "output_type": "stream",
     "text": [
      "Geleerden of filosofen\n",
      "http://hdl.handle.net/10934/RM0001.COLLECT.46597\n"
     ]
    },
    {
     "data": {
      "text/html": [
       "<a target=\"_new\" href=\"http://lh4.ggpht.com/mXoXIZsTUapq1Kc0taMpDF9PEjF1Z0OjCut01N0NB6Nh-vHQ7hNdFHrQ7rd9sT4lUt5uOmorELmmHTydD5KsnqE62Q=s0\"><img src=\"http://lh4.ggpht.com/mXoXIZsTUapq1Kc0taMpDF9PEjF1Z0OjCut01N0NB6Nh-vHQ7hNdFHrQ7rd9sT4lUt5uOmorELmmHTydD5KsnqE62Q=s0\" style=\"width: 200px;\"/></a><br/><br/>"
      ],
      "text/plain": [
       "<IPython.core.display.HTML object>"
      ]
     },
     "metadata": {},
     "output_type": "display_data"
    },
    {
     "name": "stdout",
     "output_type": "stream",
     "text": [
      "Geleerden of filosofen\n",
      "http://hdl.handle.net/10934/RM0001.COLLECT.46601\n"
     ]
    },
    {
     "data": {
      "text/html": [
       "<a target=\"_new\" href=\"http://lh3.ggpht.com/wlLzCHaZU615nMyimddsbNJSsE6FyJri3kT8tBA3fKdCiXSuThDncs6o_K93hY3ahbN6NxQvaYOHl6xJrMwpk-dU5Q6O=s0\"><img src=\"http://lh3.ggpht.com/wlLzCHaZU615nMyimddsbNJSsE6FyJri3kT8tBA3fKdCiXSuThDncs6o_K93hY3ahbN6NxQvaYOHl6xJrMwpk-dU5Q6O=s0\" style=\"width: 200px;\"/></a><br/><br/>"
      ],
      "text/plain": [
       "<IPython.core.display.HTML object>"
      ]
     },
     "metadata": {},
     "output_type": "display_data"
    },
    {
     "name": "stdout",
     "output_type": "stream",
     "text": [
      "Man met een boekje\n",
      "http://hdl.handle.net/10934/RM0001.COLLECT.46601\n"
     ]
    },
    {
     "data": {
      "text/html": [
       "<a target=\"_new\" href=\"http://lh3.ggpht.com/wlLzCHaZU615nMyimddsbNJSsE6FyJri3kT8tBA3fKdCiXSuThDncs6o_K93hY3ahbN6NxQvaYOHl6xJrMwpk-dU5Q6O=s0\"><img src=\"http://lh3.ggpht.com/wlLzCHaZU615nMyimddsbNJSsE6FyJri3kT8tBA3fKdCiXSuThDncs6o_K93hY3ahbN6NxQvaYOHl6xJrMwpk-dU5Q6O=s0\" style=\"width: 200px;\"/></a><br/><br/>"
      ],
      "text/plain": [
       "<IPython.core.display.HTML object>"
      ]
     },
     "metadata": {},
     "output_type": "display_data"
    },
    {
     "name": "stdout",
     "output_type": "stream",
     "text": [
      "Geleerden of filosofen\n",
      "http://hdl.handle.net/10934/RM0001.COLLECT.46602\n"
     ]
    },
    {
     "data": {
      "text/html": [
       "<a target=\"_new\" href=\"http://lh6.ggpht.com/FavwrcjAsFB30aHEKtgkekDTFB-dCFnNzCRt-d9yymYT0gRTpNFRRpxVrwxAjak5XLe5wVP94PP-xDwjLf5xH1c8nA=s0\"><img src=\"http://lh6.ggpht.com/FavwrcjAsFB30aHEKtgkekDTFB-dCFnNzCRt-d9yymYT0gRTpNFRRpxVrwxAjak5XLe5wVP94PP-xDwjLf5xH1c8nA=s0\" style=\"width: 200px;\"/></a><br/><br/>"
      ],
      "text/plain": [
       "<IPython.core.display.HTML object>"
      ]
     },
     "metadata": {},
     "output_type": "display_data"
    },
    {
     "name": "stdout",
     "output_type": "stream",
     "text": [
      "Man met een boekje\n",
      "http://hdl.handle.net/10934/RM0001.COLLECT.46602\n"
     ]
    },
    {
     "data": {
      "text/html": [
       "<a target=\"_new\" href=\"http://lh6.ggpht.com/FavwrcjAsFB30aHEKtgkekDTFB-dCFnNzCRt-d9yymYT0gRTpNFRRpxVrwxAjak5XLe5wVP94PP-xDwjLf5xH1c8nA=s0\"><img src=\"http://lh6.ggpht.com/FavwrcjAsFB30aHEKtgkekDTFB-dCFnNzCRt-d9yymYT0gRTpNFRRpxVrwxAjak5XLe5wVP94PP-xDwjLf5xH1c8nA=s0\" style=\"width: 200px;\"/></a><br/><br/>"
      ],
      "text/plain": [
       "<IPython.core.display.HTML object>"
      ]
     },
     "metadata": {},
     "output_type": "display_data"
    },
    {
     "name": "stdout",
     "output_type": "stream",
     "text": [
      "Jonge vrouw met een harp\n",
      "http://hdl.handle.net/10934/RM0001.COLLECT.194489\n"
     ]
    },
    {
     "data": {
      "text/html": [
       "<a target=\"_new\" href=\"http://lh5.ggpht.com/uH7MNWWbWcRTMS1rtYFH6azqCBvBUdGhvb5DM_5CEEJP4naCNv7l6vyooeOQ3dpkdspP44-wr7JKQNfXuO8u1KweIOzs=s0\"><img src=\"http://lh5.ggpht.com/uH7MNWWbWcRTMS1rtYFH6azqCBvBUdGhvb5DM_5CEEJP4naCNv7l6vyooeOQ3dpkdspP44-wr7JKQNfXuO8u1KweIOzs=s0\" style=\"width: 200px;\"/></a><br/><br/>"
      ],
      "text/plain": [
       "<IPython.core.display.HTML object>"
      ]
     },
     "metadata": {},
     "output_type": "display_data"
    },
    {
     "name": "stdout",
     "output_type": "stream",
     "text": [
      "Vijf mannen bieden een vrouw attributen aan\n",
      "http://hdl.handle.net/10934/RM0001.COLLECT.138455\n"
     ]
    },
    {
     "data": {
      "text/html": [
       "<a target=\"_new\" href=\"http://lh3.ggpht.com/laPvduyeL_0wFAIrwJIS5UiJdqZrJeLXx8nt31HMs3MKzsE3d0Dh6Q1fu-RMhhfZDR1PXEo6G5KkDFhiP3CqZhCPLA=s0\"><img src=\"http://lh3.ggpht.com/laPvduyeL_0wFAIrwJIS5UiJdqZrJeLXx8nt31HMs3MKzsE3d0Dh6Q1fu-RMhhfZDR1PXEo6G5KkDFhiP3CqZhCPLA=s0\" style=\"width: 200px;\"/></a><br/><br/>"
      ],
      "text/plain": [
       "<IPython.core.display.HTML object>"
      ]
     },
     "metadata": {},
     "output_type": "display_data"
    },
    {
     "name": "stdout",
     "output_type": "stream",
     "text": [
      "Wtnementheyt der vrouwen\n",
      "http://hdl.handle.net/10934/RM0001.COLLECT.138455\n"
     ]
    },
    {
     "data": {
      "text/html": [
       "<a target=\"_new\" href=\"http://lh3.ggpht.com/laPvduyeL_0wFAIrwJIS5UiJdqZrJeLXx8nt31HMs3MKzsE3d0Dh6Q1fu-RMhhfZDR1PXEo6G5KkDFhiP3CqZhCPLA=s0\"><img src=\"http://lh3.ggpht.com/laPvduyeL_0wFAIrwJIS5UiJdqZrJeLXx8nt31HMs3MKzsE3d0Dh6Q1fu-RMhhfZDR1PXEo6G5KkDFhiP3CqZhCPLA=s0\" style=\"width: 200px;\"/></a><br/><br/>"
      ],
      "text/plain": [
       "<IPython.core.display.HTML object>"
      ]
     },
     "metadata": {},
     "output_type": "display_data"
    },
    {
     "name": "stdout",
     "output_type": "stream",
     "text": [
      "Portret van Dirck Volckertsz. Coornhert\n",
      "http://hdl.handle.net/10934/RM0001.COLLECT.368119\n"
     ]
    },
    {
     "data": {
      "text/html": [
       "<a target=\"_new\" href=\"http://lh5.ggpht.com/7OFac3OIQNw1Lx_LuhTWr0jM6B64LvytDICyJKk8sNsuTiyTl09wJ4tOazz7GuFGMxNMlF6i_QcPBfgFrN1TxPMVAQE=s0\"><img src=\"http://lh5.ggpht.com/7OFac3OIQNw1Lx_LuhTWr0jM6B64LvytDICyJKk8sNsuTiyTl09wJ4tOazz7GuFGMxNMlF6i_QcPBfgFrN1TxPMVAQE=s0\" style=\"width: 200px;\"/></a><br/><br/>"
      ],
      "text/plain": [
       "<IPython.core.display.HTML object>"
      ]
     },
     "metadata": {},
     "output_type": "display_data"
    },
    {
     "name": "stdout",
     "output_type": "stream",
     "text": [
      "Gallerie des Modes et Costumes Français, 1780, dd 167 : Jeune Actrice Bourgeoise...\n",
      "http://hdl.handle.net/10934/RM0001.COLLECT.483081\n"
     ]
    },
    {
     "data": {
      "text/html": [
       "<a target=\"_new\" href=\"http://lh3.googleusercontent.com/KGHrcb3j6Hi1Hrst6FbFKRxxU0hJscy5cSgyfA50ZaJVeUtWVX1ysq7pDHCAS1EcEF-F33RmhR_uIWWUrpckJckWHgE=s0\"><img src=\"http://lh3.googleusercontent.com/KGHrcb3j6Hi1Hrst6FbFKRxxU0hJscy5cSgyfA50ZaJVeUtWVX1ysq7pDHCAS1EcEF-F33RmhR_uIWWUrpckJckWHgE=s0\" style=\"width: 200px;\"/></a><br/><br/>"
      ],
      "text/plain": [
       "<IPython.core.display.HTML object>"
      ]
     },
     "metadata": {},
     "output_type": "display_data"
    },
    {
     "name": "stdout",
     "output_type": "stream",
     "text": [
      "Gallerie des Modes et Costumes Français, 1785, nr.10, nr. 20, Kopie naar gg 182 : Nouvelle Levite de taffetas uni...\n",
      "http://hdl.handle.net/10934/RM0001.COLLECT.483144\n"
     ]
    },
    {
     "data": {
      "text/html": [
       "<a target=\"_new\" href=\"http://lh3.googleusercontent.com/xlsKKAvu7xbYpm1ldaMksAC_hiKlYiWR81O5iV7AF6EFuiQYO3YCP061QROZoQ4Cnr4tbOPOKtYMPckmIqcDBgcz=s0\"><img src=\"http://lh3.googleusercontent.com/xlsKKAvu7xbYpm1ldaMksAC_hiKlYiWR81O5iV7AF6EFuiQYO3YCP061QROZoQ4Cnr4tbOPOKtYMPckmIqcDBgcz=s0\" style=\"width: 200px;\"/></a><br/><br/>"
      ],
      "text/plain": [
       "<IPython.core.display.HTML object>"
      ]
     },
     "metadata": {},
     "output_type": "display_data"
    },
    {
     "name": "stdout",
     "output_type": "stream",
     "text": [
      "Slapende vrouw met Cupido\n",
      "http://hdl.handle.net/10934/RM0001.COLLECT.468161\n"
     ]
    },
    {
     "data": {
      "text/html": [
       "<a target=\"_new\" href=\"http://lh6.ggpht.com/7OiILgnu5tUdVhdtxOmtKmnd_DMPZv1QVp672mbHwhcB5gU917IZf1Wh4PgkURhdPglBLTWJDjn1o2BFXsre4M9qAz2m=s0\"><img src=\"http://lh6.ggpht.com/7OiILgnu5tUdVhdtxOmtKmnd_DMPZv1QVp672mbHwhcB5gU917IZf1Wh4PgkURhdPglBLTWJDjn1o2BFXsre4M9qAz2m=s0\" style=\"width: 200px;\"/></a><br/><br/>"
      ],
      "text/plain": [
       "<IPython.core.display.HTML object>"
      ]
     },
     "metadata": {},
     "output_type": "display_data"
    },
    {
     "name": "stdout",
     "output_type": "stream",
     "text": [
      "Journal des Dames et des Modes, Costume Parisien, 2 juin 1798, An 6, (23): Jeune élégante Revenant...\n",
      "http://hdl.handle.net/10934/RM0001.COLLECT.483324\n"
     ]
    },
    {
     "data": {
      "text/html": [
       "<a target=\"_new\" href=\"http://lh3.googleusercontent.com/S3MRv_HRODVjTmkqDEUXWr4WDIt0phV_YUKhGcpSukf6EPQz7MVQ_MbYfGnRx7UL-9WaR9FlYD7ee3L_gC7ieY7-G9dC=s0\"><img src=\"http://lh3.googleusercontent.com/S3MRv_HRODVjTmkqDEUXWr4WDIt0phV_YUKhGcpSukf6EPQz7MVQ_MbYfGnRx7UL-9WaR9FlYD7ee3L_gC7ieY7-G9dC=s0\" style=\"width: 200px;\"/></a><br/><br/>"
      ],
      "text/plain": [
       "<IPython.core.display.HTML object>"
      ]
     },
     "metadata": {},
     "output_type": "display_data"
    },
    {
     "name": "stdout",
     "output_type": "stream",
     "text": [
      "La Mode, 1830, Pl. 106 : Toilette habillée\n",
      "http://hdl.handle.net/10934/RM0001.COLLECT.488569\n"
     ]
    },
    {
     "data": {
      "text/html": [
       "<a target=\"_new\" href=\"http://lh3.googleusercontent.com/ZfUFL-XJlPAw78t0INM1wPDaJ2bjjWQEtT_YT0q5-Oj3acsYIoQDBEVxME7nSq5cams7FCPoKHuGFL6BVDK5NEGauxE=s0\"><img src=\"http://lh3.googleusercontent.com/ZfUFL-XJlPAw78t0INM1wPDaJ2bjjWQEtT_YT0q5-Oj3acsYIoQDBEVxME7nSq5cams7FCPoKHuGFL6BVDK5NEGauxE=s0\" style=\"width: 200px;\"/></a><br/><br/>"
      ],
      "text/plain": [
       "<IPython.core.display.HTML object>"
      ]
     },
     "metadata": {},
     "output_type": "display_data"
    },
    {
     "name": "stdout",
     "output_type": "stream",
     "text": [
      "La Mode, 29 juin 1833, Pl. 310 : Robe de mousseline imprimée...\n",
      "http://hdl.handle.net/10934/RM0001.COLLECT.488596\n"
     ]
    },
    {
     "data": {
      "text/html": [
       "<a target=\"_new\" href=\"http://lh3.googleusercontent.com/KtsYZN72VqMTzbMqqKbZNLRgY4ZXg0Hy3tIoKqKK9ECWT_OGed7ppx4_DdkUTdUCwEOj49Vxfmj6fApj6tAS1LMVMHg=s0\"><img src=\"http://lh3.googleusercontent.com/KtsYZN72VqMTzbMqqKbZNLRgY4ZXg0Hy3tIoKqKK9ECWT_OGed7ppx4_DdkUTdUCwEOj49Vxfmj6fApj6tAS1LMVMHg=s0\" style=\"width: 200px;\"/></a><br/><br/>"
      ],
      "text/plain": [
       "<IPython.core.display.HTML object>"
      ]
     },
     "metadata": {},
     "output_type": "display_data"
    },
    {
     "name": "stdout",
     "output_type": "stream",
     "text": [
      "La Mode, 5 avril 1834, Pl. 366 : Chapeau de crépe doublé-Robes...\n",
      "http://hdl.handle.net/10934/RM0001.COLLECT.488604\n"
     ]
    },
    {
     "data": {
      "text/html": [
       "<a target=\"_new\" href=\"http://lh3.googleusercontent.com/SOJ2Q2m-5v7_bcDbcgWw4cmyW55Gq68LA_msJBLpW6gDkTca8Q3wn306W1oAWJf525CVCbMUuv4uubQ_caCcr3BXlhE=s0\"><img src=\"http://lh3.googleusercontent.com/SOJ2Q2m-5v7_bcDbcgWw4cmyW55Gq68LA_msJBLpW6gDkTca8Q3wn306W1oAWJf525CVCbMUuv4uubQ_caCcr3BXlhE=s0\" style=\"width: 200px;\"/></a><br/><br/>"
      ],
      "text/plain": [
       "<IPython.core.display.HTML object>"
      ]
     },
     "metadata": {},
     "output_type": "display_data"
    },
    {
     "name": "stdout",
     "output_type": "stream",
     "text": [
      "Album de la Chronique de Paris, ca. 1835, No.3: Toilette de demi-Deuil...\n",
      "http://hdl.handle.net/10934/RM0001.COLLECT.490002\n"
     ]
    },
    {
     "data": {
      "text/html": [
       "<a target=\"_new\" href=\"http://lh3.googleusercontent.com/u6TGVYlDSduwx9h0ROLLCWTKS0t-ruQzSbgJQUagKOSALmRNny9IezMTsivqx4eGC-nZNrYVFp0XuBcSw0m9l18Naw=s0\"><img src=\"http://lh3.googleusercontent.com/u6TGVYlDSduwx9h0ROLLCWTKS0t-ruQzSbgJQUagKOSALmRNny9IezMTsivqx4eGC-nZNrYVFp0XuBcSw0m9l18Naw=s0\" style=\"width: 200px;\"/></a><br/><br/>"
      ],
      "text/plain": [
       "<IPython.core.display.HTML object>"
      ]
     },
     "metadata": {},
     "output_type": "display_data"
    },
    {
     "name": "stdout",
     "output_type": "stream",
     "text": [
      "Le Follet Courrier des Salons, 1835, No. 416: Bonnet en tule grec...\n",
      "http://hdl.handle.net/10934/RM0001.COLLECT.489526\n"
     ]
    },
    {
     "data": {
      "text/html": [
       "<a target=\"_new\" href=\"http://lh3.googleusercontent.com/gYfaAIs-3l3u6FXvGsI7LcOjyzsqhcEpss5w1wpmkHdHNTWyjr18HwipVCu9c_y3MOCfb_-afwXNTDYqiKwfaLxLkQI=s0\"><img src=\"http://lh3.googleusercontent.com/gYfaAIs-3l3u6FXvGsI7LcOjyzsqhcEpss5w1wpmkHdHNTWyjr18HwipVCu9c_y3MOCfb_-afwXNTDYqiKwfaLxLkQI=s0\" style=\"width: 200px;\"/></a><br/><br/>"
      ],
      "text/plain": [
       "<IPython.core.display.HTML object>"
      ]
     },
     "metadata": {},
     "output_type": "display_data"
    },
    {
     "name": "stdout",
     "output_type": "stream",
     "text": [
      "Le Moniteur de la mode, 1843, No. 6\n",
      "http://hdl.handle.net/10934/RM0001.COLLECT.489070\n"
     ]
    },
    {
     "data": {
      "text/html": [
       "<a target=\"_new\" href=\"http://lh3.googleusercontent.com/qk2bXXrBMe7SjCAVqG0VLJACMCipI_rm_Qp45XhgMeMcfSxrsjWZZ2GelH8V-SVOcsOhuPAJnRPIUOkFlP1lwIAmZ3w=s0\"><img src=\"http://lh3.googleusercontent.com/qk2bXXrBMe7SjCAVqG0VLJACMCipI_rm_Qp45XhgMeMcfSxrsjWZZ2GelH8V-SVOcsOhuPAJnRPIUOkFlP1lwIAmZ3w=s0\" style=\"width: 200px;\"/></a><br/><br/>"
      ],
      "text/plain": [
       "<IPython.core.display.HTML object>"
      ]
     },
     "metadata": {},
     "output_type": "display_data"
    },
    {
     "name": "stdout",
     "output_type": "stream",
     "text": [
      "La Sylphide, Revue Parisienne, 1843, 8e Vol. No. 14 : Façons de robes...\n",
      "http://hdl.handle.net/10934/RM0001.COLLECT.489076\n"
     ]
    },
    {
     "data": {
      "text/html": [
       "<a target=\"_new\" href=\"http://lh3.googleusercontent.com/_n_NpF407Hn26NyHcVPqlEhy7KwSXhkVNdxMcz0oBuVjPdc7yGMq_rVQWHnw_www7srTeESUPAvl_8XIhFhsVI7apgU=s0\"><img src=\"http://lh3.googleusercontent.com/_n_NpF407Hn26NyHcVPqlEhy7KwSXhkVNdxMcz0oBuVjPdc7yGMq_rVQWHnw_www7srTeESUPAvl_8XIhFhsVI7apgU=s0\" style=\"width: 200px;\"/></a><br/><br/>"
      ],
      "text/plain": [
       "<IPython.core.display.HTML object>"
      ]
     },
     "metadata": {},
     "output_type": "display_data"
    },
    {
     "name": "stdout",
     "output_type": "stream",
     "text": [
      "La Mode, 5 fevrier 1846 : Chapeaux de Drouat & Marx...\n",
      "http://hdl.handle.net/10934/RM0001.COLLECT.489101\n"
     ]
    },
    {
     "data": {
      "text/html": [
       "<a target=\"_new\" href=\"http://lh3.googleusercontent.com/9ygliPew-WprPVdyquC9BU5QPdADrFDG3Y-F9JvMXqyR_1b1Yrgg3avxWlnxEJJAc9ftmtV8E4WFuVFYXSQm61PkGgQ=s0\"><img src=\"http://lh3.googleusercontent.com/9ygliPew-WprPVdyquC9BU5QPdADrFDG3Y-F9JvMXqyR_1b1Yrgg3avxWlnxEJJAc9ftmtV8E4WFuVFYXSQm61PkGgQ=s0\" style=\"width: 200px;\"/></a><br/><br/>"
      ],
      "text/plain": [
       "<IPython.core.display.HTML object>"
      ]
     },
     "metadata": {},
     "output_type": "display_data"
    },
    {
     "name": "stdout",
     "output_type": "stream",
     "text": [
      "Magasin des Demoiselles, 25 avril 1851\n",
      "http://hdl.handle.net/10934/RM0001.COLLECT.489392\n"
     ]
    },
    {
     "data": {
      "text/html": [
       "<a target=\"_new\" href=\"http://lh3.googleusercontent.com/2-o8rgtq64NCLbIoiNyNmgqCbCOuDEn1KRXdF3xzn_dUIrZGSiYGQq9SXql_vxE0KHYCfs1QNNcUY7hubYDUKfRBhg=s0\"><img src=\"http://lh3.googleusercontent.com/2-o8rgtq64NCLbIoiNyNmgqCbCOuDEn1KRXdF3xzn_dUIrZGSiYGQq9SXql_vxE0KHYCfs1QNNcUY7hubYDUKfRBhg=s0\" style=\"width: 200px;\"/></a><br/><br/>"
      ],
      "text/plain": [
       "<IPython.core.display.HTML object>"
      ]
     },
     "metadata": {},
     "output_type": "display_data"
    },
    {
     "name": "stdout",
     "output_type": "stream",
     "text": [
      "Magasin des Demoiselles, 25 avril 1852\n",
      "http://hdl.handle.net/10934/RM0001.COLLECT.490152\n"
     ]
    },
    {
     "data": {
      "text/html": [
       "<a target=\"_new\" href=\"http://lh3.googleusercontent.com/RfDzoLNbqEzksFjBQoqc-VQD30T9zIP4R7xl1WOwDJOOkd7je6o5b3wOLAjY1o4dLIqFL8z9qS00Uwa_iSacUuP2KPPb=s0\"><img src=\"http://lh3.googleusercontent.com/RfDzoLNbqEzksFjBQoqc-VQD30T9zIP4R7xl1WOwDJOOkd7je6o5b3wOLAjY1o4dLIqFL8z9qS00Uwa_iSacUuP2KPPb=s0\" style=\"width: 200px;\"/></a><br/><br/>"
      ],
      "text/plain": [
       "<IPython.core.display.HTML object>"
      ]
     },
     "metadata": {},
     "output_type": "display_data"
    },
    {
     "name": "stdout",
     "output_type": "stream",
     "text": [
      "Journal des Demoiselles, 1854, No. 9, 22e année\n",
      "http://hdl.handle.net/10934/RM0001.COLLECT.490459\n"
     ]
    },
    {
     "data": {
      "text/html": [
       "<a target=\"_new\" href=\"http://lh3.googleusercontent.com/fWCgbUsGJp-oMug4aoJNjbIpFpnJt6AAdc52me8y4jrfxt5rdSHApTrIrrlOr5NMD2TQXvSYGbsy7bR242MqTS2ERw=s0\"><img src=\"http://lh3.googleusercontent.com/fWCgbUsGJp-oMug4aoJNjbIpFpnJt6AAdc52me8y4jrfxt5rdSHApTrIrrlOr5NMD2TQXvSYGbsy7bR242MqTS2ERw=s0\" style=\"width: 200px;\"/></a><br/><br/>"
      ],
      "text/plain": [
       "<IPython.core.display.HTML object>"
      ]
     },
     "metadata": {},
     "output_type": "display_data"
    },
    {
     "name": "stdout",
     "output_type": "stream",
     "text": [
      "L'Ami des Jeunes Personnes, 10 Avril 1855\n",
      "http://hdl.handle.net/10934/RM0001.COLLECT.490490\n"
     ]
    },
    {
     "data": {
      "text/html": [
       "<a target=\"_new\" href=\"http://lh3.googleusercontent.com/P-jEZvS18ZhJgxtBO0K4mPNzyxXtgC2LcfYFlwjdbDdjHcXagfc7txIn6_nVKiBX6HIK_rX1CiERJQzoRffwatqBSmKF=s0\"><img src=\"http://lh3.googleusercontent.com/P-jEZvS18ZhJgxtBO0K4mPNzyxXtgC2LcfYFlwjdbDdjHcXagfc7txIn6_nVKiBX6HIK_rX1CiERJQzoRffwatqBSmKF=s0\" style=\"width: 200px;\"/></a><br/><br/>"
      ],
      "text/plain": [
       "<IPython.core.display.HTML object>"
      ]
     },
     "metadata": {},
     "output_type": "display_data"
    },
    {
     "name": "stdout",
     "output_type": "stream",
     "text": [
      "Les Modes Parisiennes, 1856, No. 677 : Robes, de Dentelles...\n",
      "http://hdl.handle.net/10934/RM0001.COLLECT.490481\n"
     ]
    },
    {
     "data": {
      "text/html": [
       "<a target=\"_new\" href=\"http://lh3.googleusercontent.com/LnruJkBjX46eWbwqP7ZENfQQY5JXlMyW1jP4bk3OuOnNarQfOV9UeUw8D_9IjAHgoATTc08ABHjaPSFhOC5UGeZwEsc=s0\"><img src=\"http://lh3.googleusercontent.com/LnruJkBjX46eWbwqP7ZENfQQY5JXlMyW1jP4bk3OuOnNarQfOV9UeUw8D_9IjAHgoATTc08ABHjaPSFhOC5UGeZwEsc=s0\" style=\"width: 200px;\"/></a><br/><br/>"
      ],
      "text/plain": [
       "<IPython.core.display.HTML object>"
      ]
     },
     "metadata": {},
     "output_type": "display_data"
    },
    {
     "name": "stdout",
     "output_type": "stream",
     "text": [
      "L'Aquarelle-Mode, 1870, No. 453 : Paraissant chaque semaine\n",
      "http://hdl.handle.net/10934/RM0001.COLLECT.490822\n"
     ]
    },
    {
     "data": {
      "text/html": [
       "<a target=\"_new\" href=\"http://lh3.googleusercontent.com/yShnztgc-iz1HP88KM4SylcP3MJu4IQmEQ3b_qChqUSJWmPFs5HBd-HDTW-c4rCTcN0k09SH0VLQF5FhqwUdN1nPNTQ=s0\"><img src=\"http://lh3.googleusercontent.com/yShnztgc-iz1HP88KM4SylcP3MJu4IQmEQ3b_qChqUSJWmPFs5HBd-HDTW-c4rCTcN0k09SH0VLQF5FhqwUdN1nPNTQ=s0\" style=\"width: 200px;\"/></a><br/><br/>"
      ],
      "text/plain": [
       "<IPython.core.display.HTML object>"
      ]
     },
     "metadata": {},
     "output_type": "display_data"
    },
    {
     "name": "stdout",
     "output_type": "stream",
     "text": [
      "La France Élégante et Paris Élégant réunis, 1884, L.N. 484 : Toilette de Mariée...\n",
      "http://hdl.handle.net/10934/RM0001.COLLECT.490988\n"
     ]
    },
    {
     "data": {
      "text/html": [
       "<a target=\"_new\" href=\"http://lh3.googleusercontent.com/MWyrjMWD5-76jErD9l9d6ca73EBB-NamHO2xKNuZ1A_6fyzQ5hVXiHdPiL7OAVui5KMNpGEn1ub_FhP-lIYsvHIoEQ=s0\"><img src=\"http://lh3.googleusercontent.com/MWyrjMWD5-76jErD9l9d6ca73EBB-NamHO2xKNuZ1A_6fyzQ5hVXiHdPiL7OAVui5KMNpGEn1ub_FhP-lIYsvHIoEQ=s0\" style=\"width: 200px;\"/></a><br/><br/>"
      ],
      "text/plain": [
       "<IPython.core.display.HTML object>"
      ]
     },
     "metadata": {},
     "output_type": "display_data"
    },
    {
     "name": "stdout",
     "output_type": "stream",
     "text": [
      "Acteurs Griffin en Johnson in de rollen van Tribulation and Ananias\n",
      "http://hdl.handle.net/10934/RM0001.COLLECT.43034\n"
     ]
    },
    {
     "data": {
      "text/html": [
       "<a target=\"_new\" href=\"http://lh3.ggpht.com/YMRrjugQ5AJuUUDOibNfA8xydWPtvbgIOqLTqruCw9KNBolK63xC2zmScIdOb8PF3FhkzittMMGL6KlE9oMV9A9AT4A=s0\"><img src=\"http://lh3.ggpht.com/YMRrjugQ5AJuUUDOibNfA8xydWPtvbgIOqLTqruCw9KNBolK63xC2zmScIdOb8PF3FhkzittMMGL6KlE9oMV9A9AT4A=s0\" style=\"width: 200px;\"/></a><br/><br/>"
      ],
      "text/plain": [
       "<IPython.core.display.HTML object>"
      ]
     },
     "metadata": {},
     "output_type": "display_data"
    },
    {
     "name": "stdout",
     "output_type": "stream",
     "text": [
      "Medaillon met de personificatie van Geschiedenis\n",
      "http://hdl.handle.net/10934/RM0001.COLLECT.315103\n"
     ]
    },
    {
     "data": {
      "text/html": [
       "<a target=\"_new\" href=\"http://lh3.ggpht.com/gRX1VXQVRRKFICM-Dqlpz4E8whcT85Lf9YAZJ82kFHSpAjR4euuYn2HO-d1X3d3MfVnc8j8ZfkyUtg8VH-S_eJaw-fK_=s0\"><img src=\"http://lh3.ggpht.com/gRX1VXQVRRKFICM-Dqlpz4E8whcT85Lf9YAZJ82kFHSpAjR4euuYn2HO-d1X3d3MfVnc8j8ZfkyUtg8VH-S_eJaw-fK_=s0\" style=\"width: 200px;\"/></a><br/><br/>"
      ],
      "text/plain": [
       "<IPython.core.display.HTML object>"
      ]
     },
     "metadata": {},
     "output_type": "display_data"
    },
    {
     "name": "stdout",
     "output_type": "stream",
     "text": [
      "Kader met twee putti bij een piëdestal\n",
      "http://hdl.handle.net/10934/RM0001.COLLECT.193198\n"
     ]
    },
    {
     "data": {
      "text/html": [
       "<a target=\"_new\" href=\"http://lh3.ggpht.com/sCcZ0nvZsolxkzRP42JzJE28AQZbFQM72RqdFKO-2qM2ymdOxMvfwzcgEHbokEFOl9bb2tPIopqUfmHOAApll3qiig=s0\"><img src=\"http://lh3.ggpht.com/sCcZ0nvZsolxkzRP42JzJE28AQZbFQM72RqdFKO-2qM2ymdOxMvfwzcgEHbokEFOl9bb2tPIopqUfmHOAApll3qiig=s0\" style=\"width: 200px;\"/></a><br/><br/>"
      ],
      "text/plain": [
       "<IPython.core.display.HTML object>"
      ]
     },
     "metadata": {},
     "output_type": "display_data"
    },
    {
     "name": "stdout",
     "output_type": "stream",
     "text": [
      "Portret van Simon Vouet\n",
      "http://hdl.handle.net/10934/RM0001.COLLECT.191960\n"
     ]
    },
    {
     "data": {
      "text/html": [
       "<a target=\"_new\" href=\"http://lh4.ggpht.com/LR755zKsMqXrwWgFNwy6PEGYf-pKcK4leoksDiDs1r1-tPOmlGaMtYq-esPlxAcnmmw4Kd5r9Y-djy-xBUJk4GsxnwM=s0\"><img src=\"http://lh4.ggpht.com/LR755zKsMqXrwWgFNwy6PEGYf-pKcK4leoksDiDs1r1-tPOmlGaMtYq-esPlxAcnmmw4Kd5r9Y-djy-xBUJk4GsxnwM=s0\" style=\"width: 200px;\"/></a><br/><br/>"
      ],
      "text/plain": [
       "<IPython.core.display.HTML object>"
      ]
     },
     "metadata": {},
     "output_type": "display_data"
    },
    {
     "name": "stdout",
     "output_type": "stream",
     "text": [
      "Portret van Simon Vouet\n",
      "http://hdl.handle.net/10934/RM0001.COLLECT.191961\n"
     ]
    },
    {
     "data": {
      "text/html": [
       "<a target=\"_new\" href=\"http://lh6.ggpht.com/GP7kFnt046ZfPDV6oLf_Ic7BHwDMqHT9pEBcWMXCwGYmqXd-Zv8nkTQRAU8S3lI-gA7p4H0_y-qau7IcnQYhqy_QCdI5=s0\"><img src=\"http://lh6.ggpht.com/GP7kFnt046ZfPDV6oLf_Ic7BHwDMqHT9pEBcWMXCwGYmqXd-Zv8nkTQRAU8S3lI-gA7p4H0_y-qau7IcnQYhqy_QCdI5=s0\" style=\"width: 200px;\"/></a><br/><br/>"
      ],
      "text/plain": [
       "<IPython.core.display.HTML object>"
      ]
     },
     "metadata": {},
     "output_type": "display_data"
    },
    {
     "name": "stdout",
     "output_type": "stream",
     "text": [
      "Portret van Simon Vouet\n",
      "http://hdl.handle.net/10934/RM0001.COLLECT.191963\n"
     ]
    },
    {
     "data": {
      "text/html": [
       "<a target=\"_new\" href=\"http://lh6.ggpht.com/1abP0hm_8Dt0Ohsgd_tIYYNqzAr4NxrZMARkI3Cf0CvdX4CsA4LCRJoEI6uOE70FlY-tXRkW8k6cnHp-GCjU4OCfmQ=s0\"><img src=\"http://lh6.ggpht.com/1abP0hm_8Dt0Ohsgd_tIYYNqzAr4NxrZMARkI3Cf0CvdX4CsA4LCRJoEI6uOE70FlY-tXRkW8k6cnHp-GCjU4OCfmQ=s0\" style=\"width: 200px;\"/></a><br/><br/>"
      ],
      "text/plain": [
       "<IPython.core.display.HTML object>"
      ]
     },
     "metadata": {},
     "output_type": "display_data"
    },
    {
     "name": "stdout",
     "output_type": "stream",
     "text": [
      "Portret van Johannes Erasmus Blum\n",
      "http://hdl.handle.net/10934/RM0001.COLLECT.191518\n"
     ]
    },
    {
     "data": {
      "text/html": [
       "<a target=\"_new\" href=\"http://lh6.ggpht.com/g7Cqf8_OBj1mZGzWeDGc1bxYidhFgQAhLEYp5utURtqswhaszBd9XkMRuzbb0E7BA_fmgfhy3rvFOpfc2hcWVvWDwOvg=s0\"><img src=\"http://lh6.ggpht.com/g7Cqf8_OBj1mZGzWeDGc1bxYidhFgQAhLEYp5utURtqswhaszBd9XkMRuzbb0E7BA_fmgfhy3rvFOpfc2hcWVvWDwOvg=s0\" style=\"width: 200px;\"/></a><br/><br/>"
      ],
      "text/plain": [
       "<IPython.core.display.HTML object>"
      ]
     },
     "metadata": {},
     "output_type": "display_data"
    },
    {
     "name": "stdout",
     "output_type": "stream",
     "text": [
      "Portret van Johannes Erasmus Blum\n",
      "http://hdl.handle.net/10934/RM0001.COLLECT.191519\n"
     ]
    },
    {
     "data": {
      "text/html": [
       "<a target=\"_new\" href=\"http://lh3.ggpht.com/xthu1o38q0BhcjWZQY2lbxtQLD7SrxZeADpldPsV53Sgg5_ocrRLMetWnxGVXIuLOJiWZ8Uc95Sjf0WnpSBBrdHj41o=s0\"><img src=\"http://lh3.ggpht.com/xthu1o38q0BhcjWZQY2lbxtQLD7SrxZeADpldPsV53Sgg5_ocrRLMetWnxGVXIuLOJiWZ8Uc95Sjf0WnpSBBrdHj41o=s0\" style=\"width: 200px;\"/></a><br/><br/>"
      ],
      "text/plain": [
       "<IPython.core.display.HTML object>"
      ]
     },
     "metadata": {},
     "output_type": "display_data"
    }
   ],
   "source": [
    "query = \"\"\"\n",
    "PREFIX dc: <http://purl.org/dc/elements/1.1/>\n",
    "PREFIX edm: <http://www.europeana.eu/schemas/edm/>\n",
    "PREFIX ore: <http://www.openarchives.org/ore/terms/>\n",
    "PREFIX html: <http://www.w3.org/1999/xhtml/vocab#>\n",
    "PREFIX skos: <http://www.w3.org/2004/02/skos/core#>\n",
    "\n",
    "SELECT ?object ?title ?url ?landing\n",
    "WHERE {\n",
    "\n",
    "?object ore:proxyIn ?local_aggr .\n",
    "?object ore:proxyFor ?cho .\n",
    "?eur_aggr edm:aggregatedCHO ?cho .\n",
    "?eur_aggr a edm:EuropeanaAggregation .\n",
    "\n",
    "?local_aggr edm:dataProvider 'Rijksmuseum' .\n",
    "\n",
    "?object dc:title ?title .\n",
    "?object dc:subject <http://iconclass.org/49M32> .\n",
    "\n",
    "?local_aggr edm:isShownBy ?url .\n",
    "?local_aggr edm:isShownAt ?landing .\n",
    "\n",
    "}\n",
    "LIMIT 100\n",
    "\n",
    "\"\"\"\n",
    "\n",
    "subjects_df = run_query(query)\n",
    "print( f'{subjects_df.shape[0]} results.' )\n",
    "\n",
    "\n",
    "\n",
    "for i,row in subjects_df.iterrows():\n",
    "    print( row['title.value'] )\n",
    "    print( row['landing.value'] )\n",
    "    img = row['url.value']\n",
    "    \n",
    "    display(HTML(f'<a target=\"_new\" href=\"{img}\"><img src=\"{img}\" style=\"width: 200px;\"/></a><br/><br/>'))\n"
   ]
  },
  {
   "cell_type": "markdown",
   "id": "06dde852",
   "metadata": {},
   "source": [
    "If we are interested in carrying out a content analysis of the objects in the Rijksmuseum collection, we can start by creating a list of all the subject categories that have been assigned."
   ]
  },
  {
   "cell_type": "code",
   "execution_count": 13,
   "id": "feafb67e",
   "metadata": {},
   "outputs": [
    {
     "name": "stdout",
     "output_type": "stream",
     "text": [
      "fashion plates\t4680\n",
      "village street\t4259\n",
      "saddle and bridle (saddlery)\t3817\n",
      "canals, waters (in village)\t3605\n",
      "historical persons\t2778\n",
      "dog with bone\t2447\n",
      "parts of church exterior and annexes\t2327\n",
      "parts of sailing-ship's rigging\t2219\n",
      "farm (building)\t2123\n",
      "sleeping Cupid; possibly signifying a slackening of Love's influence\t2065\n",
      "pedestal of a piece of sculpture (perhaps in the form of a herm)\t2052\n",
      "lake\t2041\n",
      "lying figure\t1895\n",
      "she-goat, nanny-goat\t1856\n",
      "glade, 'Lichtung im Wald'\t1762\n",
      "adult woman\t1711\n",
      "shrubs\t1670\n",
      "metropolis\t1622\n",
      "towing path\t1612\n",
      "boulder, stone\t1608\n",
      "maps, atlases\t1568\n",
      "landscapes\t1562\n",
      "adult man\t1514\n",
      "mammals\t1506\n",
      "he-goat, billy-goat\t1467\n",
      "occupations ~ cattle\t1390\n",
      "temporary fortifications\t1383\n",
      "container made of plant material other than wood: basket\t1363\n",
      "artist (in general) studying classical remains\t1362\n",
      "maps of cities\t1339\n",
      "boy (child between toddler and youth)\t1324\n",
      "balcony\t1221\n",
      "boat propelled by man or animal\t1203\n",
      "obelisk, needle\t1198\n",
      "portrait, self-portrait of painter\t1168\n",
      "drill ~ military training\t1141\n",
      "farmers\t1110\n",
      "rural housing, e.g. country-house, villa, cottage\t1105\n",
      "dock crane\t1100\n",
      "small canal, ditch\t1070\n",
      "traveller(s) attacked by robber(s)\t1044\n",
      "base (~ column, pillar)\t1042\n",
      "prospect of city, town panorama, silhouette of city\t1029\n",
      "raising the siege\t1020\n",
      "book\t1012\n",
      "statues, sculptures in garden\t1006\n",
      "scrollwork, strapwork ~ ornament\t996\n",
      "sceptre, staff (symbol of sovereignty)\t972\n",
      "lion's head ~ ornament\t959\n",
      "armorial bearing, heraldry\t954\n",
      "armour\t952\n",
      "shipyard, shipdock\t932\n",
      "parts of church interior\t917\n",
      "rosette ~ ornament\t904\n",
      "sitting figure\t885\n",
      "barn\t872\n",
      "physiognomy\t862\n",
      "ruin of a building ~ architecture\t862\n",
      "Roman chariot, quadriga ~ triumph\t828\n",
      "folk costume, regional costume\t822\n",
      "plants and herbs\t821\n",
      "road, path\t788\n",
      "fishes\t765\n",
      "hunters resting during the hunt\t762\n",
      "villa\t760\n",
      "urban housing\t723\n",
      "bath-tub\t685\n",
      "nursing, suckling\t683\n",
      "ammunition\t678\n",
      "prospect of village, silhouette of village\t662\n",
      "picture, painting\t654\n",
      "pipe ~ tobacco\t634\n",
      "outskirts of city\t628\n",
      "bridge\t599\n",
      "façade (of house or building)\t598\n",
      "coat of arms (as symbol of the state, etc.)\t589\n",
      "cat\t584\n",
      "fox and hounds\t582\n",
      "angels crowning and/or bringing palm-branches\t580\n",
      "sports, games ~ animals\t576\n",
      "funeral carriages\t575\n",
      "(making a) snowman\t572\n",
      "hand-to-hand fighting (~ battle)\t571\n",
      "wig - AA - ~ women\t568\n",
      "lectern ~ reading\t556\n",
      "political caricatures and satires\t541\n",
      "attributes of Minerva\t532\n",
      "female impersonation by actor\t520\n",
      "ornament derived from plant forms\t518\n",
      "draughtsman at work\t508\n",
      "begging bowl\t501\n",
      "exhibition ~ art\t500\n",
      "tales and fairy tales\t499\n",
      "restaurant\t490\n",
      "dolphin ~ ornament\t483\n",
      "epitaph\t481\n",
      "sledge, sleigh (winter sports)\t480\n",
      "vase ~ ornament\t476\n",
      "monks and nuns\t473\n",
      "umbrella\t470\n",
      "sea (seascape)\t464\n",
      "anonymous historical person portrayed alone\t461\n",
      "handling of weapons ~ military training\t457\n",
      "four-wheeled, animal-drawn vehicle, e.g.: cab, carriage, coach\t447\n",
      "names of cities and villages\t446\n",
      "old man\t444\n",
      "'cris de Paris', cries of London, etc.\t440\n",
      "initial\t436\n",
      "helmet\t435\n",
      "windmill\t435\n",
      "model, sitter ~ painting\t430\n",
      "ornamental fountain\t428\n",
      "townhall\t424\n",
      "coloured races of South America\t415\n",
      "milking\t409\n",
      "grave-building, monumental tomb\t401\n",
      "Chinese\t395\n",
      "Mercury and Herse, daughter of Cecrops\t392\n",
      "family life at home\t389\n",
      "fowl (cock, hen, chicken, etc.)\t388\n",
      "(traveller) resting in the open air\t387\n",
      "(farm) wagon, freight wagon, cart\t383\n",
      "rocaille ornament\t382\n",
      "table\t373\n",
      "girl (child between toddler and youth)\t364\n",
      "ornament ~ hybrid beings; human and animal forms mixed\t362\n",
      "ceremonial procession, parade, pageant ~ installation of a ruler\t358\n",
      "meadow, pasture\t353\n",
      "warming oneself at a fire (or hearth, stove, fire-pan, brazier)\t353\n",
      "adolescent, young woman, maiden\t352\n",
      "bracelet, wristlet\t351\n",
      "anchorite, hermit\t348\n",
      "Fame; 'Fama', 'Fama buona', 'Fama chiara' (Ripa)\t346\n",
      "permanent exhibition, museum\t346\n",
      "styles of hairdress\t342\n",
      "portrait of actor, actress\t341\n",
      "cut flowers; nosegay, bunch of flowers\t341\n",
      "plan ~ architecture\t338\n",
      "pastorals, Arcadian scenes\t337\n",
      "mountain-top, peak\t336\n",
      "portrait, self-portrait of draughtsman\t332\n",
      "head-gear\t330\n",
      "non-aggressive, friendly or neutral activities and relationships of satyr(s)\t329\n",
      "portrait of a writer\t329\n",
      "chair\t327\n",
      "French or architectonic garden; formal garden\t325\n",
      "eyes\t324\n",
      "coast\t323\n",
      "washing and bathing\t322\n",
      "device (trade-mark of printer or publisher)\t319\n",
      "Father Time, man with wings and scythe\t318\n",
      "baby-carriage, pram, perambulator\t317\n",
      "ewe\t312\n",
      "minter\t309\n",
      "'Cornucopia', Horn of Plenty\t309\n",
      "siege arms, e.g.: battering ram\t307\n",
      "couple of lovers\t306\n",
      "beard\t304\n",
      "dredge, dredging machine\t303\n",
      "merchant, salesman\t303\n",
      "ceremonial procession, parade, pageant ~ pope\t301\n",
      "bull\t301\n",
      "conversation, dialogue; conversation piece\t300\n",
      "market\t299\n",
      "'mundus inversus', the reversed world, the topsy-turvy world, 'le monde bestourné'\t298\n",
      "Apollo in the chariot of the sun, drawn by four horses, usually preceded by Aurora holding a torch; 'Carro del Sole' (Ripa)\t298\n",
      "face - AA - mask (mould taken from face)\t293\n",
      "adoration of the Christ-child by the shepherds; Mary and Joseph present\t293\n",
      "carrying something in basket, bag, rucksack, etc.\t292\n",
      "saints\t292\n",
      "sleeping; unconsciousness\t292\n",
      "king\t291\n",
      "exterior ~ representation of a building\t289\n",
      "arm or hand held in front of the chest\t288\n",
      "sitting figure - AA - female human figure\t286\n",
      "ink-well\t283\n",
      "sight, looking (one of the five senses)\t280\n",
      "violent death by hanging\t279\n",
      "Mary, the Christ-child and John the Baptist, Elisabeth present\t279\n",
      "knighthood order\t279\n",
      "print, e.g.: engraving, etching, lithograph\t276\n",
      "calligraphy\t275\n",
      "container of ceramics: jar, jug, pot, vase\t275\n",
      "on fire, ablaze\t272\n",
      "human beings (legendary or not) of abnormal proportions, size, strength, etc.\t272\n",
      "David and Abigail (1 Samuel 25)\t271\n",
      "predatory birds\t270\n",
      "forest, wood\t269\n",
      "tools, implements of painter\t269\n",
      "battle, fighting in general\t268\n",
      "archbishop, bishop, etc. (Roman Catholic)\t264\n",
      "tower, clock tower ~ monumental adornment\t263\n",
      "mirror\t261\n",
      "abbey, monastery, convent ~ Roman Catholic church\t261\n",
      "vignette\t258\n",
      "cardinal\t257\n",
      "adoration of the kings: the Wise Men present their gifts to the Christ-child (gold, frankincense and myrrh)\t257\n",
      "hunting dogs\t257\n",
      "old woman\t255\n",
      "beach\t254\n",
      "Charity, 'Caritas'; 'Carità' (Ripa) ~ one of the Three Theological Virtues\t254\n",
      "invitation to the dance\t254\n",
      "Justice, 'Justitia'; 'Giustitia divina' (Ripa) ~ one of the Four Cardinal Virtues\t250\n",
      "Venus punishing Cupid\t249\n",
      "Passion of Christ\t249\n",
      "farmers - AA - female farmer, farmer's wife\t245\n",
      "fist-fight\t244\n",
      "standing figure - AA - female human figure\t240\n",
      "night ~ landscape (sometimes titled 'Nox')\t239\n",
      "arms\t238\n",
      "Madonna: i.e. Mary with the Christ-child\t238\n",
      "explorer\t238\n",
      "medal (considered as a piece of sculpture, regardless of its specific function)\t236\n",
      "games of calculation and chance, e.g.: card games, gambling, puzzles, etc.\t234\n",
      "drinking\t234\n",
      "landscapes in tropical and sub-tropical regions\t234\n",
      "letter, envelope\t231\n",
      "Piety, 'Pietas', 'Timor Dei' ~ the Three Theological Virtues\t229\n",
      "globe\t229\n",
      "coin\t227\n",
      "plundering ~ riot\t226\n",
      "trophy, i.e.: decorative arrangement of symbolic or typical objects ~ ornament\t225\n",
      "dress, gown\t224\n",
      "male sex; man\t223\n",
      "hunting-ground\t220\n",
      "mother and child(ren), woman and child(ren) (family group)\t220\n",
      "saddle\t220\n",
      "card games\t220\n",
      "money\t219\n",
      "Africans\t219\n",
      "passenger train\t219\n",
      "accessories (~ clothing)\t217\n",
      "chandelier, candelabrum\t217\n",
      "backyard\t217\n",
      "writer, poet, author\t216\n",
      "clouds\t215\n",
      "kneeling figure\t215\n",
      "symbols, allegories of peace, 'Pax'; 'Pace' (Ripa)\t212\n",
      "anonymous historical person portrayed\t211\n",
      "dunes (sea not visible); in the dunes\t211\n",
      "garden fountain\t211\n",
      "snakes\t210\n",
      "further education\t209\n",
      "temple, shrine ~ Roman religion\t206\n",
      "warfare; military affairs\t206\n",
      "house personnel, servants\t205\n",
      "watermill in landscape\t204\n",
      "hobby-horse\t204\n",
      "tower (of house or building)\t203\n",
      "ornament ~ medallion\t203\n",
      "plantation\t202\n",
      "Hercules kills Ladon, the dragon which kept the tree of the Hesperides\t199\n",
      "the flight into Egypt: Mary, Joseph, the child (and sometimes others) on their way; Mary usually riding on an ass\t197\n",
      "clothes for special purposes\t197\n",
      "neck-gear ~ clothing\t197\n",
      "reaping, picking, mowing ~ harvest\t195\n",
      "book - MM - book open\t195\n",
      "(decorated) ceiling\t194\n",
      "lock ~ door\t194\n",
      "historical persons (portraits and scenes from the life)\t194\n",
      "(playing with) dolls\t193\n",
      "Death as skeleton\t192\n",
      "production of printed matter, book-production\t192\n",
      "ox\t192\n",
      "staircase\t191\n",
      "pig\t190\n",
      "violin, fiddle\t190\n",
      "Venus taking care of Cupid\t189\n",
      "public gardens, park\t189\n",
      "youth, young man, adolescent\t188\n",
      "jar, jug (used as drinking-vessel)\t188\n",
      "board-games\t186\n",
      "ornament ~ candelabrum\t185\n",
      "Christ's entombment (possibly by angels)\t184\n",
      "arch, archivolt ~ architecture\t184\n",
      "urn\t183\n",
      "study; 'studiolo'; library\t182\n",
      "dance of Death; Death together with one or more human beings\t182\n",
      "Prudence, 'Prudentia'; 'Prudenza' (Ripa) ~ one of the Four Cardinal Virtues\t181\n",
      "prison, jail\t181\n",
      "historical persons - BB - woman\t180\n",
      "automobile\t180\n",
      "angling\t178\n",
      "violent death by beheading\t178\n",
      "wooden container: barrel, cask, bucket\t177\n",
      "temple, shrine ~ Hinduism, Buddhism, Jainism\t177\n",
      "still life of plants, flowers and fruit\t177\n",
      "plants; vegetation\t176\n",
      "(story of) Neptune (Poseidon)\t176\n",
      "nursing, tending the sick\t176\n",
      "temple, shrine ~ Islam, Mohammedanism\t175\n",
      "devils in the form of (fabulous) animals\t175\n",
      "portrait, self-portrait of graphic artist\t174\n",
      "unicorn\t172\n",
      "Holy Family with John the Baptist, Elisabeth present\t169\n",
      "proverbs, sayings, etc.\t169\n",
      "female saints\t168\n",
      "island\t168\n",
      "(high) hill\t168\n",
      "dale, valley\t167\n",
      "moustache\t167\n",
      "shed\t167\n",
      "eating and drinking\t166\n",
      "water-works in garden\t166\n",
      "other decorative structures (~ triumphal entry, etc.)\t165\n",
      "Truth; 'Verità' (Ripa)\t164\n",
      "walking, hiking (recreation)\t164\n",
      "cherubs, i.e. children's heads with wings\t163\n",
      "ploughing\t163\n",
      "death struggle, inquiet death; fear of death\t163\n",
      "fables\t162\n",
      "country-house\t160\n",
      "agriculture\t159\n",
      "printer\t159\n",
      "Last Supper (in general) (Matthew 26:21-35; Mark 14:18-31; Luke 22:3, 22:15-23; John 13:21-38)\t159\n",
      "altar\t158\n",
      "costumes used in pageants\t158\n",
      "wooden leg\t158\n",
      "candle\t158\n",
      "working class, labourers\t157\n",
      "plants (in general)\t156\n",
      "Christ meets Mary, who sometimes swoons ('Lo Spasimo') ~ Christ carrying the cross\t156\n",
      "child and nature (games and plays)\t155\n",
      "lute, and special forms of lute, e.g.: theorbo\t154\n",
      "hourglass\t154\n",
      "shop, store\t152\n",
      "water course\t152\n",
      "Diana hunting with her nymphs\t152\n",
      "mask\t151\n",
      "lighting; lamps\t151\n",
      "theatre (building)\t151\n",
      "parents (first degree family relationships)\t151\n",
      "theologian\t150\n",
      "ruin of church, monastery, etc.\t149\n",
      "towers ~ fortified city\t148\n",
      "(human) skull\t148\n",
      "students' pageant\t147\n",
      "hairdress\t147\n",
      "offspring, companion(s), train etc. of Bacchus\t146\n",
      "flood\t146\n",
      "(military) flags and standards\t146\n",
      "reading the Bible or other religious books\t145\n",
      "Roman Catholic Church\t145\n",
      "diligence, omnibus, horse-tram\t145\n",
      "architectural detail\t144\n",
      "bed\t143\n",
      "pulpit, ambo, chancel\t143\n",
      "marriage, married couple, 'matrimonium'\t143\n",
      "ornament ~ grotesque\t142\n",
      "winter landscape; landscape symbolizing winter (the four seasons of the year)\t142\n",
      "ruin of church, monastery, etc. - QQ - small church, chapel\t142\n",
      "aids for prayer, e.g. rosary\t142\n",
      "lyre, cithara, psaltery\t142\n",
      "pleasure fair and circus\t141\n",
      "one pair dancing; man and woman dancing as a couple\t140\n",
      "fruits and vegetables ~ ornament\t140\n",
      "massacre ~ war\t139\n",
      "newspaper, news-sheet\t138\n",
      "division of the blessed and the damned ~ Last Judgement\t138\n",
      "flagellation by soldiers, Christ usually tied to a column (Matthew 27:26; Mark 15:15; John 19:1)\t138\n",
      "New Testament\t138\n",
      "shipwreck\t137\n",
      "insignia and symbols of sovereignty (crown, diadem, sceptre, orb, seal, standard, cloak, pectoral) - BB - female ruler\t137\n",
      "storm at sea\t136\n",
      "flight of steps\t136\n",
      "carrying something on the head or on the shoulders\t135\n",
      "portrait of opera-singer\t135\n",
      "persons from the Old Testament (not in biblical context, nor occurring in legendary/historical extensions included in Division 71)\t135\n",
      "building activities\t134\n",
      "brook\t134\n",
      "lighthouse, lightship\t133\n",
      "equestrian state-portrait\t133\n",
      "the usual house or row of houses\t133\n",
      "river\t133\n",
      "private soldier\t133\n",
      "on the scaffold or place of execution\t132\n",
      "manoeuvre ~ military training\t132\n",
      "snow\t131\n",
      "writing tools\t131\n",
      "'Historia'; 'Historia' (Ripa)\t131\n",
      "fruits\t130\n",
      "African negroes\t130\n",
      "milkmaid\t130\n",
      "coat, cape\t130\n",
      "hay-wagon\t129\n",
      "baton of general\t129\n",
      "Christ\t129\n",
      "dikes, levee\t129\n",
      "(story of) Mars (Ares)\t129\n",
      "foot\t129\n",
      "physician, doctor\t128\n",
      "crown prince\t128\n",
      "column, pillar ~ architecture\t128\n",
      "world fair, world exhibition\t127\n",
      "park\t127\n",
      "equestrian statue\t127\n",
      "capital (~ column, pillar)\t126\n",
      "game bag\t126\n",
      "musical instruments; group of musical instruments\t126\n",
      "hand-cart\t126\n",
      "art\t126\n",
      "paddle-wheel boat\t125\n",
      "Asiatic races and peoples\t125\n",
      "unsuccessful love affair; seduction\t124\n",
      "stall, stable\t124\n",
      "Bad Behaviour\t124\n",
      "sea and coastal fishery\t122\n",
      "cattle driving, cattle driver\t122\n",
      "Pilate showing Christ to the people, 'Ostentatio Christi', 'Ecce Homo' (John 19:4-6)\t122\n",
      "professor\t121\n",
      "knight\t121\n",
      "river-gods\t121\n",
      "garden vase\t121\n",
      "one person playing wind instrument\t121\n",
      "bleaching (laundering)\t121\n",
      "crowning with laurel\t121\n",
      "male persons from classical history\t120\n",
      "stone-operation, e.g.: by the witch of Malleghem\t119\n",
      "Hope, 'Spes'; 'Speranza divina e certa' (Ripa) ~ one of the Three Theological Virtues\t119\n",
      "drum (musical instrument)\t118\n",
      "beasts of prey, predatory animals\t118\n",
      "tetragram (in Roman or Hebrew script) ~ symbol of God the Father\t118\n",
      "mountain-range, snow peaks\t117\n",
      "taking a bath\t117\n",
      "dune coast\t117\n",
      "rest on the flight into Egypt\t116\n",
      "triton(s)\t116\n",
      "stag-hunting\t115\n",
      "ships (in general) - CC - more than one ship\t115\n",
      "murderer\t115\n",
      "flute, aulos, tibia\t114\n",
      "quill\t114\n",
      "two-wheeled, animal-drawn vehicle\t114\n",
      "proclamation of peace\t114\n",
      "teacher and pupil\t113\n",
      "clock\t113\n",
      "Vice, and the Seven Deadly Sins\t113\n",
      "morphology of facial expression\t113\n",
      "attributes of Jupiter\t113\n",
      "land forces\t112\n",
      "devastated, ruined place or city (~ warfare)\t112\n",
      "animal traction, animal-drawn vehicle (carriage etc.)\t112\n",
      "bagpipe, musette\t112\n",
      "torch\t112\n",
      "celebration meal, feast, banquet\t111\n",
      "attempt, political murder\t111\n",
      "Holy Ghost represented as a dove (in flames)\t111\n",
      "Vicissitudes of Life\t110\n",
      "cottage\t110\n",
      "textile industry and clothing industry\t110\n",
      "group of scholars or philosophers\t110\n",
      "bench\t110\n",
      "Abstract Ideas and Concepts\t109\n",
      "representation of real building (either existing or having existed)\t109\n",
      "one person playing string instrument (bowed)\t109\n",
      "Christ, usually holding a banner, arises from the grave; often combined with sleeping and/or frightened soldiers\t109\n",
      "fool's cap\t109\n",
      "(flying a) kite\t109\n",
      "Freedom, Liberty; 'Libertà' (Ripa)\t109\n",
      "education\t108\n",
      "circumcision of the Christ-child by the priest in the temple (Luke 2:21)\t108\n",
      "shoe-maker, cobbler\t108\n",
      "the Annunciation: Mary, usually reading, is visited by the angel (sometimes a woman overhears the conversation)\t107\n",
      "physiology and anatomy\t107\n",
      "muscles\t107\n",
      "hut, cabin, lodge\t107\n",
      "gunpowder disaster\t106\n",
      "siege\t106\n",
      "flowers ~ ornament\t106\n",
      "kitchen-interior\t105\n",
      "ferry\t105\n",
      "nymphs (in general); 'Ninfe in commune' (Ripa)\t105\n",
      "satyrs, fauns, Sileni\t105\n",
      "division of armed forces\t104\n",
      "gallery of sculptures\t104\n",
      "interior of the house\t104\n",
      "specific works of literature\t104\n",
      "more than one musician with instrument\t104\n",
      "fisherman\t104\n",
      "horn, trumpet, cornet, trombone, tuba\t103\n",
      "ornamental plants\t103\n",
      "lay-out of garden\t103\n",
      "Fortitude, 'Fortitudo' ~ one of the Four Cardinal Virtues\t103\n",
      "village square, place\t103\n",
      "harp\t102\n",
      "bee-hive\t102\n",
      "(story of) Ceres (Demeter)\t102\n",
      "drunkard\t101\n",
      "veil\t101\n",
      "flowers\t101\n",
      "making music; musician with instrument\t101\n",
      "'Pictura', symbolic representations, allegories and emblems ~ painting; 'Pittura' (Ripa)\t101\n",
      "crucifix ~ personal devotion\t100\n",
      "stage design\t100\n",
      "bookshelves\n",
      "\t100\n",
      "handwriting, writing as activity\t100\n",
      "the crowning with thorns: soldiers with sticks place a thorny crown on Christ's head and give him a reed (Matthew 27:27-31; Mark 15:16-20; John 19:2-3)\t100\n",
      "whip\t99\n",
      "shop-window, show-window\t99\n",
      "anonymous historical person portrayed alone - BB - woman\t99\n",
      "furniture and household effects\t99\n",
      "game, hunted animals\t99\n",
      "ornamental birds\t98\n",
      "transport (of arrested person)\t98\n",
      "pilgrim(s)\t98\n",
      "rowing-boat, canoe, etc.\t98\n",
      "group of actors, troupe; actors on the stage\t98\n",
      "glass, rummer\t97\n",
      "bride and groom in wedding-dress\t97\n",
      "the audience ~ art performance\t97\n",
      "drapery, draped garment, 'Gewandgebung'\t97\n",
      "baptism of Christ in the river Jordan: John the Baptist pouring out water on Christ's head: the Holy Ghost descends\t97\n",
      "exterior ~ architectural design or model\t97\n",
      "courtesan, hetaera\t96\n",
      "Hagar sits weeping after having put Ishmael under a bush to die\t96\n",
      "the all-seeing eye, triangle with eye ~ symbol of God the Father\t96\n",
      "garbage collection\t96\n",
      "scales\t96\n",
      "groups of trees\t95\n",
      "the (nude) human figure; 'Corpo humano' (Ripa) - AA - female human figure\t95\n",
      "rocky coast\t95\n",
      "garland, wreath\t95\n",
      "human life divided into stages\t95\n",
      "crowd, mob\t94\n",
      "skin and venereal diseases\t94\n",
      "excavation ~ archaeology\t94\n",
      "annunciation of Christ's birth to the shepherds (and/or shepherdesses) at night; a host of singing angels in the air\t94\n",
      "chamber of rhetoric (Dutch: 'rederijkerskamer')\t93\n",
      "professional clothes\t93\n",
      "smith, blacksmith\t93\n",
      "purse, money-bag\t93\n",
      "ice-sailing (winter sports)\t91\n",
      "throne\t91\n",
      "shoes, sandals\t90\n",
      "art collecting\t90\n",
      "the prodigal son returns home, where his father awaits him\t90\n",
      "section ~ architectural design or model\t90\n",
      "hospital\t90\n",
      "dove-cote\t89\n",
      "volcano\t89\n",
      "stock exchange, stock-market\t89\n",
      "rape, violation\t89\n",
      "Christ and the woman of Samaria: sitting at Jacob's well he asks her for a drink from her jug\t89\n",
      "donkey-riding (on the beach)\t88\n",
      "embracing each other, kissing\t88\n",
      "lamentation over the dead Christ by his relatives and friends (Christ usually without crown of thorns)\t88\n",
      "experiment, test ~ science and technology\t88\n",
      "printed edition of musical score\t88\n",
      "vocal music, singing\t87\n",
      "nun(s)\t87\n",
      "symbols of the state (in general)\t87\n",
      "mathematics\t87\n",
      "'Terra', 'Carro della terra' (Ripa)\t87\n",
      "bicycle\t86\n",
      "woodcutting, woodcutter ~ forestry\t86\n",
      "descent from the cross: Christ is taken down from the cross, usually by Nicodemus and Joseph of Arimathaea who are standing on the ladders (both arms of Christ detached)\t86\n",
      "caryatids ~ architecture\t86\n",
      "the Archangel Michael (often in armour with sword or lance)\t86\n",
      "(playing with) dolls, toy animals\t86\n",
      "spading ~ soil cultivation\t86\n",
      "jumping-rope games\t85\n",
      "Simeon, holding the Christ-child, sings his canticle: 'Nunc dimittis'\t85\n",
      "tortoises, turtles\t85\n",
      "temple, shrine ~ non-Christian religions\t85\n",
      "acrobat ~ circus\t85\n",
      "the assumption of Mary ('assumptio corporis'): she is borne into heaven by angels\t84\n",
      "the ark is floating on the waters, while life on earth is destroyed ~ story of Noah\t84\n",
      "(other forms of) needlework, e.g.: crocheting, knitting, embroidering\t84\n",
      "draughtsman studying classical remains - CC - out of doors\t83\n",
      "autumn, fall, 'Autumnus'; 'Autunno' (Ripa)\t83\n",
      "tobacco\t83\n",
      "signing of peace treaty, concluding the peace\t83\n",
      "station; shelter (railway, tramway)\t83\n",
      "two-wheeled vehicle drawn by one animal\t83\n",
      "(military) equipment and supply\t83\n",
      "officer\t83\n",
      "(military) attack\t83\n",
      "brothers or sisters (second degree family relationships)\t82\n",
      "commander-in-chief, general, marshal\t82\n",
      "Pegasus, the winged horse\t82\n",
      "slavery; serfs and slaves\t82\n",
      "(story of) Juno (Hera)\t82\n",
      "Madonna: Mary sitting or enthroned, the Christ-child in her lap (or in front of her bosom) (Mary sometimes represented half-length)\t82\n",
      "ice ~ freezing weather\t81\n",
      "whipping a top\t81\n",
      "brooch, agraffe, clasp\t81\n",
      "active vs. contemplative life\t81\n",
      "raising the siege with outside assistance, relief\t81\n",
      "couch, sofa, settee\t81\n",
      "woodgathering, woodgatherer\t81\n",
      "troop movements, transportation\t81\n",
      "financial panic\t81\n",
      "the early Christian Churches, e.g. Armenians, Copts, Syrians\t80\n",
      "insignia and symbols of sovereignty (crown, diadem, sceptre, orb, seal, standard, cloak, pectoral)\t80\n",
      "dinner-service\t80\n",
      "'Salvator Mundi', making a blessing gesture; an orb in his hand or at his feet\t80\n",
      "comedy\t80\n",
      "Christ ascends into heaven; apostles (and Mary) beneath\t79\n",
      "wheelbarrow\t79\n",
      "letter combinations such as letterword, anagram, letter square, monogram, etc.\t79\n",
      "bony fishes\t79\n",
      "festivities on events of national importance\t79\n",
      "artist (in general) working from nude model\t79\n",
      "fire-fighting\t78\n",
      "four-wheeled vehicle drawn by two animals\t78\n",
      "procession ~ Christian religion\t78\n",
      "sibyls\t78\n",
      "weeping\t78\n",
      "container of metal: bucket, can, canister, drum, tin, etc.\t78\n",
      "chimney\t78\n",
      "specific aspects, allegorical aspects of Mercury; Mercury as patron\t78\n",
      "Eternity, 'Aeternitas'; 'Eternità','Eternità o Perpetuità' (Ripa)\t77\n",
      "living-room, parlour, sitting-room\t77\n",
      "charnelhouse, ossuary\t77\n",
      "hand\t77\n",
      "air (one of the four elements)\t77\n",
      "family lineage, pedigree, genealogical tree or table\t77\n",
      "pedlar\t76\n",
      "utilitarian, public pump or water fountain\t76\n",
      "illustration ~ printed matter, book\t76\n",
      "(lovers) kissing each other\t76\n",
      "stall, booth (~ market)\t76\n",
      "weigh-house\t76\n",
      "handwriting, written text\t76\n",
      "symbolic representations, allegories and emblems ~ poetry; 'Poesia' (Ripa)\t76\n",
      "Christ's prayer in the Garden of Gethsemane during the night\t76\n",
      "anonymous historical person portrayed - BB - woman\t76\n",
      "symbolic triumphs of individual persons\t75\n",
      "father and child(ren), man and child(ren) (family group)\t75\n",
      "drunkenness\t75\n",
      "violent death by burning at the stake; pyre\t75\n",
      "mischief-making play\t75\n",
      "measuring-instruments\t75\n",
      "historical events and situations\t74\n",
      "coronation of a ruler\t74\n",
      "sphinx (lion/woman); 'Sfinge' (Ripa)\t74\n",
      "ornament derived from architectural details\t73\n",
      "skull as symbol of 'Vanitas'\t73\n",
      "despair (of person under sentence of death)\t73\n",
      "sewing box\t73\n",
      "canopy, baldachin\t73\n",
      "blind-man's buff\t72\n",
      "correction of naughty children\t72\n",
      "ram\t72\n",
      "Red Indians, American Indians\t72\n",
      "small group of musicians, chamber orchestra, jazz band\t72\n",
      "bovine cattle\t72\n",
      "Madonna accompanied by saint(s)\t72\n",
      "portrait, self-portrait of sculptor\t72\n",
      "candlestick\t72\n",
      "occupation ~ war\t72\n",
      "gulf, bay\t72\n",
      "prayer at table, saying grace\t71\n",
      "hearing, listening (one of the five senses)\t71\n",
      "mourning the dead\t71\n",
      "workshop, studio of the artist (in general)\t71\n",
      "seaman\t71\n",
      "specific aspects, allegorical aspects of Minerva; Minerva as patroness\t71\n",
      "bed with tester\t70\n",
      "names of historical buildings, sites, streets, etc.\t70\n",
      "fool, simpleton, numskull\t70\n",
      "Apollo and the Muses, Apollo Musagetes\t70\n",
      "fence, wall, paling\t70\n",
      "bird in a cage\t70\n",
      "Mary, Joseph and the new-born Christ (Nativity)\t70\n",
      "(annual) fair, trade fair\t69\n",
      "torture\t69\n",
      "compasses\t69\n",
      "scholar in his study\t69\n",
      "organization, functionaries and dignitaries in Roman Catholic church; clergy in general\t69\n",
      "prostitution\t69\n",
      "smell, smelling (one of the five senses)\t69\n",
      "armchair, seat\t68\n",
      "the raising of Lazarus ('Lazarus, come out')\t68\n",
      "Mary Magdalene kneeling before Christ, who is usually represented as a gardener with a hoe and/or a spade; 'Noli me tangere'\t68\n",
      "four-wheeled vehicle drawn by one animal\t68\n",
      "execution of heretic, e.g. by burning at the stake, 'auto-da-fé'\t68\n",
      "water (one of the four elements)\t68\n",
      "fire (one of the four elements)\t68\n",
      "watermill\t68\n",
      "brewer\t68\n",
      "musician\t68\n",
      "necklace\t68\n",
      "relics (and reliquaries)\t68\n",
      "full moon\t67\n",
      "guard duty, keeping sentry\t67\n",
      "monumental door, porch, 'aediculum'\t67\n",
      "Minerva as patroness\t67\n",
      "Good Behaviour\t67\n",
      "rain\t67\n",
      "(story of) Flora\t66\n",
      "animals acting as human beings\t66\n",
      "the kiss of Judas: accompanied by soldiers with torches and lanterns, he kisses Christ\t66\n",
      "(aspects of) Christian Religion or the Church (as institution) ridiculed, criticized, or caricaturized\t66\n",
      "manuscript of musical score\t66\n",
      "sewing\t66\n",
      "butcher, slaughterman\t66\n",
      "Pentecost: the Holy Ghost descends upon (Mary and) the apostles, sometimes Paul and/or representatives of the nations present (Acts 2:1-4)\t66\n",
      "baptism, christening ceremony ~ the first of the seven sacraments\t66\n",
      "bonfire, fire-works\t65\n",
      "Christ orders (six) jars to be filled with water ~ marriage-feast at Cana\t65\n",
      "woman (showing herself) undressed, quasi-nude\t65\n",
      "horse-sleigh\t65\n",
      "Madonna on the crescent of the moon (sometimes called Queen of Heaven) (in mandorla)\t65\n",
      "the supper at Emmaus: Christ is recognized while blessing or breaking the bread\t65\n",
      "wedding feast, wedding meal\t65\n",
      "(family) meal\t65\n",
      "morning\t65\n",
      "bridge in village across river, canal, etc.\t65\n",
      "Lower House, Parliament, Chamber\t65\n",
      "crucified Christ with Mary and John on either side of the cross; Holy Rood\t65\n",
      "personifications of Death; 'Morte' (Ripa)\t65\n",
      "vomiting\t65\n",
      "merman - AA - mermaid, siren\t64\n",
      "the sacrifice of Isaac (Genesis 22)\t64\n",
      "giving alms or other charity, e.g.: handing out food\t64\n",
      "laughing\t64\n",
      "flag, colours (as symbol of the state, etc.)\t64\n",
      "street lighting\t64\n",
      "sleigh, sledge (non-sport)\t64\n",
      "urination\t64\n",
      "the killing of Abel: Cain slays him with a stone, a club or a jaw-bone, alternatively with a spade or another tool as weapon\t64\n",
      "Christ found by his parents\t64\n",
      "interior of church\t64\n",
      "the dead Christ in Mary's lap\t64\n",
      "winter ~ human activities (the four seasons of the year)\t64\n",
      "musician at work\t64\n",
      "hen-pecked husband\t64\n",
      "arcade ~ architecture\t64\n",
      "spring, 'Ver'; 'Primavera' (Ripa)\t64\n",
      "tot, toddler ~ the ages of man\t64\n",
      "mausoleum\t64\n",
      "bunch of grapes\t63\n",
      "Trinity in which God the Father and Christ are represented as persons, the Holy Ghost as dove\t63\n",
      "John the Baptist identifies Christ as the Lamb of God ('Ecce Agnus Dei') (John 1:29, 1:36)\t63\n",
      "standard-bearer, flag-bearer\t63\n",
      "Temperance, 'Temperantia'; 'Temperanza' (Ripa) ~ one of the Four Cardinal Virtues\t63\n",
      "public festivities on the occasion of royal events\t63\n",
      "portrait, self-portrait of architect\t63\n",
      "festivities on St. Nicholas (Eve) (December 5)\t63\n",
      "one person playing string instrument (plucked)\t62\n",
      "commercial fishery\t62\n",
      "handicrafts, craftsman at work\t62\n",
      "Christ explaining his doctrine\t62\n",
      "Africa represented allegorically; 'Africa' (Ripa)\t62\n",
      "bowl\t62\n",
      "calf\t62\n",
      "art dealer\t62\n",
      "public festivities\t62\n",
      "shaving, being shaved\t62\n",
      "parents with their children\t62\n",
      "lantern\t62\n",
      "fall of the rebel angels, who become devils\t62\n",
      "Twelfth Night, usually falling on the eve of January 6\t62\n",
      "binoculars, spy-glass, etc.\t62\n",
      "street-trader\t61\n",
      "gardening\t61\n",
      "a priest and/or a Levite passing by without attending to the wounded man ~ parable of the Good Samaritan\t61\n",
      "incense-burner ~ scents, perfumes\t61\n",
      "taste, tasting (one of the five senses)\t61\n",
      "resting - BB - out of doors\t61\n",
      "bride (in wedding-dress)\t61\n",
      "desert\t61\n",
      "calendar, almanac\t61\n",
      "evangelists, usually with books or scrolls (not in biblical context)\t61\n",
      "art trade, art shop\t61\n",
      "sending for the ass ~ Christ's entry into Jerusalem\t60\n",
      "corporal punishment at school: castigating, beating, etc.\t60\n",
      "ships (in general)\t60\n",
      "'Betty', 'Molly' (man who engages in women's work)\t60\n",
      "bird's eye view ~ architectural design or model\t60\n",
      "(children or putti) blowing bubbles, 'Homo Bulla' ~ scene symbolizing 'Vanitas'\t60\n",
      "Pilate in debate with the Jews\t60\n",
      "thief\t60\n",
      "in hell Dives sees Lazarus in paradise; usually Dives pointing at his tongue\t60\n",
      "wooden shoes, clogs\t60\n",
      "Visitation (possibly Joseph and/or Zacharias present) (Luke 1:39-56)\t60\n",
      "allegorical representations ~ religion; 'Religione', 'Religione de SS. Mauritio e Lazaro', 'Religione vera christiana' (Ripa)\t60\n",
      "summer, 'Aestas'; 'Estate' (Ripa)\t60\n",
      "boar-hunting\t60\n",
      "party clothes, festive attire\t59\n",
      "'Vanitas' symbols\t59\n",
      "open door\t59\n",
      "Europeans\t59\n",
      "Mary and the Christ-child with John the Baptist (as child)\t59\n",
      "sunset\t59\n",
      "tea garden, garden restaurant\t59\n",
      "still life of related objects\t59\n",
      "tools, implements of graphic artist\t59\n",
      "retreat of the defeated\t59\n",
      "kitchen-maid, kitchen servant\t58\n",
      "the Annunciation: Mary kneeling\t58\n",
      "dancing around the tree of liberty\t58\n",
      "glass of wine\t58\n",
      "merchant shipping, shipping trade\t58\n",
      "shipyard-workers\t58\n",
      "maenad(s), female bacchant(es)\t58\n",
      "Man of Sorrows, 'Imago Pietatis', 'Erbärmdebild', 'Schmerzensmann'; the upright Christ showing his wounds, usually bearing the crown of thorns, and accompanied by the instruments of the Passion, standing or sitting in his tomb\t58\n",
      "drift ice\t58\n",
      "winter, 'Hyems'; 'Inverno' (Ripa)\t58\n",
      "factory-interior, machine shop\t58\n",
      "looking in the mirror; (possibly: contemplation of own beauty)\t58\n",
      "fortified city\t58\n",
      "priest (Roman Catholic)\t58\n",
      "royal household; courtiers, retinue, train\t58\n",
      "violent death ~ maltreatment, torture\t58\n",
      "wall-covering\t58\n",
      "mayor, burgomaster\t58\n",
      "alcoholic drinks\t57\n",
      "medals and other marks of military honour\t57\n",
      "defecation\t57\n",
      "slaughtered ox or pig\t57\n",
      "tent\t57\n",
      "feeling (one of the five senses)\t57\n",
      "beach (as place of recreation)\t57\n",
      "the Samaritan sets the wounded traveller on his mount (ass or horse), and brings him to an inn\t57\n",
      "memorial medal\t57\n",
      "storm\t57\n",
      "eyeglasses, spectacles\t57\n",
      "hacking and thrusting weapons\t56\n",
      "IHS ('Iesus Hominum Salvator') ~ symbol of Christ\t56\n",
      "floral interlace ~ ornament\t56\n",
      "coastal cliff or crag\t56\n",
      "lungs, bronchia\t56\n",
      "(private) prayer; 'Oratione', 'Preghiere', 'Preghiere a Dio' (Ripa)\t56\n",
      "graphic artist\t56\n",
      "meeting\t56\n",
      "ornaments, jewels\t55\n",
      "'tableau vivant'\t55\n",
      "fenced or walled garden; 'Hortus Conclusus'\t55\n",
      "fruit\t55\n",
      "Eve takes the fruit from the serpent (or the tree) in the presence of Adam (who may be trying to stop her)\t55\n",
      "pond\t55\n",
      "ornamental cupboard\t55\n",
      "Caiaphas tearing his clothes ~ trial of Christ\t55\n",
      "front façade\t55\n",
      "anonymous historical persons portrayed in a group, in a group-portrait\t55\n",
      "new ruler taking the oath\t55\n",
      "gloves, mittens, etc.\t55\n",
      "heart symbolism\t55\n",
      "learned society, academy of sciences\t55\n",
      "Christ and the Soul\t55\n",
      "pyramid (historical grave form)\t54\n",
      "church (exterior)\t54\n",
      "field filled with a crop\t54\n",
      "flight, running away; pursuing\t54\n",
      "ex-libris\t54\n",
      "tow-boat, towing-barge\t54\n",
      "ornament ~ arabesque\t54\n",
      "fire-hose\t54\n",
      "bombardment\t54\n",
      "household occupations of Mary\t54\n",
      "prisoner; in fetters\t54\n",
      "merman\t54\n",
      "textile fabric, cloth\t54\n",
      "one person playing an instrument\t54\n",
      "lying figure - AA - female human figure\t53\n",
      "sunrise\t53\n",
      "death's head, skull (symbol of Death)\t53\n",
      "lying in state\t53\n",
      "blind, blindness\t53\n",
      "raft\t53\n",
      "Christ points to or writes on the ground\t53\n",
      "book-stall, kiosk\t53\n",
      "insignia of bishop, e.g. mitre, crozier\t53\n",
      "symbolic representations, allegories and emblems ~ art; 'Arte' (Ripa)\t53\n",
      "harness\t53\n",
      "military music\t52\n",
      "sideburns\t52\n",
      "preaching (in general)\t52\n",
      "invention, discovery ~ science and technology\t52\n",
      "zoological garden, zoo, seen as place where non-domestic animals are kept\t52\n",
      "night patrol\t52\n",
      "Venus and Adonis as lovers\t52\n",
      "fantasy ornament\t52\n",
      "helved weapons, polearms (for striking, hacking, thrusting)\t51\n",
      "terrace\t51\n",
      "sun as celestial body\t51\n",
      "altarcross, crucifix\t51\n",
      "public library\t51\n",
      "factory-building\t51\n",
      "river personified, 'Fiumi' (Ripa)\t51\n",
      "shaking hands, 'dextrarum junctio'\t51\n",
      "expulsion of Adam and Eve from paradise (Genesis 3:22-24)\t51\n",
      "display of jewels, etc.\t51\n",
      "postures of the human figure\t51\n",
      "the massacre of the innocents\t51\n",
      "rocking-horse\t51\n",
      "on the way to Damascus Christ appears to Saul, who falls from his horse and is blinded by the light\t51\n",
      "temple, shrine ~ Egyptian religion\t50\n",
      "'tropaion', i.e. decorative ornament ~ weapons\t50\n",
      "wig\t50\n",
      "watch\t50\n",
      "drawing-lesson\t50\n",
      "moonlight\t50\n",
      "cultivated land\t50\n",
      "backgammon, tric-trac\t50\n",
      "obelisks (garden ornaments)\t50\n",
      "summer ~ human activities (the four seasons of the year)\t49\n",
      "attack ~ siege\t49\n",
      "functionaries and dignitaries ~ Protestant churches\t49\n",
      "sculptor at work\t49\n",
      "alliance, league, union, foedus\t49\n",
      "architectural design or model\t49\n",
      "Holy Communion ~ Protestant service\t49\n",
      "book-cover, binding\t49\n",
      "when all his money is squandered the prodigal son is chased away by the harlots\t49\n",
      "the arrest of Christ ~ Garden of Gethsemane\t49\n",
      "Asia represented allegorically; 'Asia' (Ripa)\t49\n",
      "princess\t49\n",
      "orphanage\t49\n",
      "pharmacist, druggist, apothecary; pharmacy, drugstore, dispensing chemist\t49\n",
      "infections and wounds\t49\n",
      "evening\t49\n",
      "the prodigal son repents his former life and prays\t49\n",
      "astronomical instruments\t49\n",
      "landscapes in polar regions\t48\n",
      "the dream of Jacob: while sleeping on the ground with a stone for pillow Jacob sees a ladder reaching from earth to heaven with angels going up and down; usually with God at the top of the ladder\t48\n",
      "symbolic representations, allegories and emblems ~ education; 'Ammaestramento', Dottrina', 'Educatione', 'Istitutione' (Ripa)\t48\n",
      "Parnassus, sacred to Apollo Musagetes\t48\n",
      "botany\t48\n",
      "cereal, grain, corn (grass with grains, grown for food, e.g.: wheat, rice, rye, oats, maize, buckwheat, millet)\t48\n",
      "bombardment ~ siege\t48\n",
      "cup and saucer\t48\n",
      "looking in the mirror; (possibly: contemplation of own beauty - AA - (for) women)\t48\n",
      "human figure of ideal proportions, e.g. academic nude\t48\n",
      "fabulous animals (sometimes wrongly called 'grotesques'); 'Mostri' (Ripa)\t48\n",
      "mine\t48\n",
      "counsellor\t48\n",
      "the destruction of Sodom and Gomorrah: Lot and his family flee to Zoar, carrying their belongings; an angel may be showing the way (Genesis 19:24-29)\t48\n",
      "trees\t48\n",
      "decorations, honours (as symbols of the state, etc.)\t47\n",
      "fringe, edge of the wood\t47\n",
      "thiasos, i.e. Bacchus' revel-rout, bacchanal without Bacchus\t47\n",
      "persecution of heretics\t47\n",
      "mug, beaker, goblet\t47\n",
      "orphans\t47\n",
      "farrier, shoeing-smith\t47\n",
      "Christ-child suckling, or beginning to suckle, e.g. Mary uncovering her breast ~ Madonna-representations\t47\n",
      "comet\t47\n",
      "commemoration of the founding of a university\t47\n",
      "comprehensive representation of Last Judgement: Christ (with sword and lily), often surrounded by elders and sometimes accompanied by Mary and John the Baptist, appears in the sky with trumpeting angels (and sometimes angels holding the instruments of the Passion); after the resurrection of the dead the blessed are led to heaven by angels, and the damned are dragged into hell by devils\t47\n",
      "skirt\t47\n",
      "the elders making advances towards Susanna\t47\n",
      "open window\t47\n",
      "Peter, John and the healed man enter the temple, where Peter delivers a sermon\t46\n",
      "advertisement, notice\t46\n",
      "Tobias and the angel Raphael travelling, accompanied by Tobias' dog\t46\n",
      "Joseph's blood-stained coat is brought and shown to Jacob\t46\n",
      "seesaw\t46\n",
      "walking the dog\t46\n",
      "gallery (spacious corridor)\t46\n",
      "storm on land\t46\n",
      "university building, college\t46\n",
      "God the Father\t46\n",
      "crew ~ ship\t46\n",
      "sea-horse, hippocamp, 'hippocampus', (horse/fish) (mythological hybrid monster)\t46\n",
      "tambourine\t46\n",
      "'Arma Christi'\t46\n",
      "iceberg\t46\n",
      "church organ\t46\n",
      "Wisdom; 'Sapienza', 'Sapienza humana', 'Sapienza vera' (Ripa)\t46\n",
      "steam locomotive\t46\n",
      "personifications of countries, nations, states, districts, etc.\t46\n",
      "vine\t46\n",
      "Eve offers the fruit to Adam\t46\n",
      "spring ~ human activities (the four seasons of the year)\t45\n",
      "advertising\t45\n",
      "leaning figure\t45\n",
      "human figure at (open) window, seen from outside\t45\n",
      "prophets, sibyls, evangelists, Doctors of the Church; persons ~ the Bible (not in biblical context)\t45\n",
      "griffin (lion/eagle); 'Griffo' (Ripa)\t45\n",
      "Corinthian order ~ architecture\t45\n",
      "sarcophagus\t45\n",
      "evening meal, dinner, supper\t45\n",
      "Europe represented allegorically; 'Europa' (Ripa)\t45\n",
      "chimney-piece, mantelpiece\t45\n",
      "armillary sphere, skeleton celestial globe\t45\n",
      "implements for learning to walk, go-cart\t45\n",
      "Exchange, Bourse\t45\n",
      "four-wheeled vehicle drawn by more than three animals\t45\n",
      "crown (symbol of sovereignty)\t45\n",
      "hunchback\t44\n",
      "Sloth, Indolence, 'Acedia', 'Desidia'; 'Accidia' (Ripa) ~ personification of one of the Seven Deadly Sins\t44\n",
      "Justice; 'Forza alla giustitia sottoposta', 'Giustitia', 'Giustitia retta', 'Giustitia rigorosa', 'Impietà e violenza soggetta alla giustitia' (Ripa)\t44\n",
      "Abraham kneels before the angels\t44\n",
      "police\t44\n",
      "Graces (Charites), generally three in number; 'Gratie' (Ripa)\t44\n",
      "soldiers and civilians\t44\n",
      "the four seasons of the year ~ human activities\t44\n",
      "ribbon, scroll, banderole ~ ornament\t44\n",
      "reading to somebody\t44\n",
      "earth, world as celestial body\t44\n",
      "public road - II - ideal city\t44\n",
      "pumping installation, pumping-engine (~ polder)\t44\n",
      "joust, tilt\t44\n",
      "Reformation (Roman Catholic Church vs. Protestantism)\t44\n",
      "ornamental decoration ~ printed matter, book\t44\n",
      "viola, violoncello; double bass\t44\n",
      "botanic garden, 'hortus botanicus'\t44\n",
      "the Annunciation: Mary sitting\t43\n",
      "the confusion of languages and the scattering of people over the earth ~ story of the Tower of Babel\t43\n",
      "autumn ~ human activities (the four seasons of the year)\t43\n",
      "agony of Christ: to comfort him one or more angels appear to Christ with chalice and/or cross\t43\n",
      "bull-fighter, toreador\t43\n",
      "thunderstorm\t43\n",
      "beer, ale\t43\n",
      "carrying something with yoke\t43\n",
      "God the Father as bearded old man, usually with crown or tiara or sceptre and/or globe\t43\n",
      "Mars and Venus as lovers\t43\n",
      "sitting on the ground\t43\n",
      "purification of the temple ('first' and 'second'): Christ driving the money-changers from the temple with a whip (Matthew 21:12-13; Mark 11:15-17; Luke 19:45-46; John 12:12-19)\t43\n",
      "Pride; 'Superbia' (Ripa) ~ personification of one of the Seven Deadly Sins\t43\n",
      "Christ as adult\t43\n",
      "building-site\t43\n",
      "Christ alone (also called 'Ecce Homo')\t43\n",
      "foot-stove\t43\n",
      "taxes and financial administration\t43\n",
      "vintage, grape harvest\t43\n",
      "cup\t43\n",
      "landscape with other man-made constructions not mentioned above, e.g.: graveyards, playgrounds, etc.\t43\n",
      "sleeping in chair\t43\n",
      "the corpse\t43\n",
      "personification of a city, town-patron(ess)\t43\n",
      "private festivities, merry company\t43\n",
      "lower arm\t42\n",
      "rest during harvest (eating, dancing, making love, etc.)\t42\n",
      "greenhouse, orangery\t42\n",
      "Mary standing (or half-length), the Christ-child sitting on her arm (Christ-child to Mary's left)\t42\n",
      "'Pius Aeneas': Aeneas, leading Ascanius, escapes from burning Troy, carrying his father Anchises with the Penates; his wife Creusa, who sets out with them, is lost on the way\t42\n",
      "vine-tendril, leaf\t42\n",
      "cithern, mandolin, guitar, balalaika\t42\n",
      "dining-room\t42\n",
      "publishing, publisher\t42\n",
      "swearing an oath (with two fingers raised)\t42\n",
      "fall of Phaethon; he is struck by a thunderbolt of Jupiter\t42\n",
      "ship-model\t42\n",
      "symbols, allegories of war; 'Guerra' (Ripa)\t42\n",
      "clown\t42\n",
      "tea (leaves)\t42\n",
      "sleeping in bed\t42\n",
      "aquarium\t41\n",
      "ring\t41\n",
      "Holofernes' head is put on a dish, and covered with a cloth\t41\n",
      "(story of) Vulcan (Hephaestus)\t41\n",
      "the Sacred Heart\t41\n",
      "avenue, boulevard, promenade, esplanade\t41\n",
      "barracks\t41\n",
      "Moses receives the tables of the law from God\t41\n",
      "Pilate washing his hands (in innocence)\t41\n",
      "still life of miscellaneous objects\t41\n",
      "communal rooms\t41\n",
      "Madonna (i.e. Mary with the Christ-child) in the air, or on the clouds\t41\n",
      "money-chest, treasure-chest, money-box\t41\n",
      "shearing (sheep)\t41\n",
      "Vertumnus, in the guise of an old woman, wooing Pomona\t41\n",
      "ships, boats on land, beached\t41\n",
      "ladder\t40\n",
      "'Natura' (allegorical figure or scene; or as Diana of Ephesus, with many breasts); 'Natura' (Ripa)\t40\n",
      "sitting on an elevation\t40\n",
      "America represented allegorically; 'America' (Ripa)\t40\n",
      "court building\t40\n",
      "Bible\t40\n",
      "army 'en route'\t40\n",
      "surrender of keys\t40\n",
      "ford\t40\n",
      "serpent Ouroboros\t40\n",
      "(revolutionary) plot, conspiracy\t40\n",
      "vault ~ architecture\t40\n",
      "Carnival, Shrovetide (non-liturgical celebration)\t40\n",
      "front steps\t40\n",
      "creation of man; the Garden of Eden (Genesis 1:26 - 2)\t40\n",
      "queen, empress, etc. (wife of a ruler)\t40\n",
      "farm (building) - AA - civic architecture: inside\t40\n",
      "muff\t40\n",
      "water-birds\t40\n",
      "the Judgement of Paris (without Mercury)\t40\n",
      "Lot's daughters make their father drunk\t40\n",
      "(story of) Pan\t40\n",
      "hunting trophies\t40\n",
      "brothel\t40\n",
      "the stoning of Stephen; the witnesses lay down their clothes at Saul's feet\t40\n",
      "Mercury beheads Argus\t40\n",
      "Christ-child (with attributes)\t40\n",
      "heating stove\t40\n",
      "the Transfiguration: Moses and Elijah appear on either side of Christ on Mount Tabor (Matthew 17:1-13; Mark 9:2-13; Luke 9:28-36)\t40\n",
      "banner, standard (as symbol of the state, etc.)\t39\n",
      "Bathsheba receives a letter from David\t39\n",
      "closed door\t39\n",
      "laid table: table-ware, table-decoration, etc.\t39\n",
      "cheese\t39\n",
      "string instruments (plucked)\t39\n",
      "tapestry\t39\n",
      "creation of Eve\t39\n",
      "symbolic representations, allegories and emblems ~ drawing\t39\n",
      "mourning dress\t39\n",
      "Adam and Eve in paradise (before the Fall)\t39\n",
      "Ionic order ~ architecture\t38\n",
      "Orpheus playing the lyre: trees and rocks move, beasts and birds are enchanted\t38\n",
      "the stage and its equipment\t38\n",
      "(personifications of) 'Vanitas', the vanity of human life; Fragilità humana, Fugacità delle grandezze & della gloria mondana, Meditatione della morte, Opera vana, Piacere vano, Vana gloria, Vanità (Ripa)\t38\n",
      "single instruments of the Passion\t38\n",
      "woman dancing alone\t38\n",
      "Abundance; 'Abondanza', 'Abondanza maritima' (Ripa)\t38\n",
      "monkey hunting\t38\n",
      "public festivities at other royal events, not meant or mentioned above\t38\n",
      "the decoration of the temple of Solomon\t38\n",
      "instrumental and vocal music together\t38\n",
      "Nereids, daughters of Nereus; sea-nymphs\t38\n",
      "high priest ~ hierarchy of priests\t38\n",
      "multiplication of loaves and fishes for a multitude of four or five thousand people (Matthew 14:13-21, 15:32-39; Mark 6:32-44, 8:1-10; Luke 9:10-17; John 6:1-14)\t38\n",
      "Epiphany\t38\n",
      "destruction of conquered city\t38\n",
      "performance in the open air (pleasure fair)\t38\n",
      "the wise and the foolish virgins ~ parable of Christ (Matthew 25:1-13)\t38\n",
      "pilgrimage, pilgrim(s) under way\t38\n",
      "chest, coffer\t38\n",
      "lion hunt\t38\n",
      "the building of the Tower of Babel; Nimrod may be present, supervising or assisting the construction\t38\n",
      "tailor, dressmaker\t37\n",
      "the elders spying upon Susanna\t37\n",
      "theatre (building) - AA - open-air performances\t37\n",
      "dancing at wedding feast\t37\n",
      "gravestone, tombstone\t37\n",
      "two-wheeled vehicle drawn by two animals\t37\n",
      "Labour\t37\n",
      "Human Being, Man in General\t37\n",
      "mockings of Christ, who may be blindfolded\t37\n",
      "wandering or travelling merchant\t37\n",
      "stage costume\t37\n",
      "'Geometria' (~ quadrivium); 'Geometria' (Ripa)\t37\n",
      "repairing, caulking, careening (~ ship)\t37\n",
      "open fire, fire-place, stove (in kitchen)\t37\n",
      "drawing lots ~ betting\t37\n",
      "sculpture\t37\n",
      "festivities\t37\n",
      "household management; housewife at work\t37\n",
      "hurdy-gurdy player\t37\n",
      "model-books ~ implements of painter\t37\n",
      "Joseph in Potiphar's house; the chastity of Joseph (Genesis 37:36, 39:1-20)\t37\n",
      "tools, aids, implements ~ crafts and industries\t37\n",
      "Madonna: Mary standing (or half-length), Christ-child close to her bosom\t37\n",
      "mis-shapen animals; monsters\t37\n",
      "finch trap, finchery\t37\n",
      "dying from the effects of a fall\t37\n",
      "(carrying a person in a) sedan-chair\t37\n",
      "street-trader - BB - women engaged in trade and commerce\t37\n",
      "the Synagogue (as building and place of worship ~ Jewish religion)\t37\n",
      "stars\t37\n",
      "historical costume\t37\n",
      "the holy women (the three Maries) on their way to or at the tomb, to anoint Christ's body\t37\n",
      "art sale, auction\t37\n",
      "sowing\t37\n",
      "screen, folding screen\t37\n",
      "other anatomical details\t37\n",
      "eyes closed\t37\n",
      "the beheading of John the Baptist\t37\n",
      "Actaeon as a stag is devoured by his own dogs\t36\n",
      "Covetousness; 'Avaritia' (Ripa) ~ personification of one of the Seven Deadly Sins\t36\n",
      "fleur-de-lis ~ ornament\t36\n",
      "the erection of the cross: Christ is nailed to the cross which lies on the ground\t36\n",
      "Salome is given the head of John the Baptist by the executioner\t36\n",
      "Hottentots\t36\n",
      "Christ blessing children brought by their mothers, usually with some disciples disapprovingly looking on (Matthew 19:13-15; Mark 10:13-16; Luke 18:15-17)\t36\n",
      "march into the conquered place\t36\n",
      "dying\t36\n",
      "navy\t36\n",
      "Agreement, Unity; 'Concordia', 'Concordia insuperabile', 'Concordia militare', 'Concordia di Pace', 'Unione civile' (Ripa)\t36\n",
      "(story of the) Muses; 'Muse' (Ripa)\t36\n",
      "vegetables\t36\n",
      "dice-games\t36\n",
      "traffic on the water\t36\n",
      "crucified Christ, with particular persons under the cross\t36\n",
      "permanent fortifications\t36\n",
      "military parade, pageant\t36\n",
      "cat and mouse\t36\n",
      "pack-animal\t36\n",
      "granting mercy; free pardon\t36\n",
      "parasol, sunshade\t36\n",
      "hare-hunting, rabbit-hunting\t36\n",
      "Anger; 'Ira' (Ripa) ~ personification of one of the Seven Deadly Sins\t35\n",
      "the show; fair and circus performers\t35\n",
      "'Sculptura', symbolic representations, allegories and emblems ~ sculpture; 'Scoltura' (Ripa)\t35\n",
      "crossing a river\t35\n",
      "meal in Bethany (at the house of Simon the Leper) (Matthew 26:6-13; Mark 14:3-9; John 12:1-11)\t35\n",
      "destruction of buildings (~ revolutionary action)\t35\n",
      "yoke\t35\n",
      "collapsing building\t35\n",
      "Eskimos\t35\n",
      "the Judgement of Paris (Mercury present)\t35\n",
      "being welcomed ~ travelling\t35\n",
      "Mary (without the Christ-child)\t35\n",
      "chalice\t35\n",
      "arm raised upward\t35\n",
      "kneeling figure - AA - female human figure\t35\n",
      "imprisonment\t35\n",
      "seal, stamp\t35\n",
      "war\t35\n",
      "confinement, birth\t35\n",
      "'command these stones to become loaves of bread' ~ temptation of Christ in the wilderness\t35\n",
      "triumphs (allegorical and symbolic)\t35\n",
      "Christ washes Peter's feet\t35\n",
      "watering-place, spa\t35\n",
      "Mary giving milk from her breasts, 'Lactatio'\t35\n",
      "sheaf\t35\n",
      "table-knife\t35\n",
      "anatomical model of the muscles, muscle-man, 'écorché'\t35\n",
      "the ten commandments represented together on stone tablets\t35\n",
      "one person playing keyboard instrument\t35\n",
      "bubble-blowing (children's games and plays)\t35\n",
      "prisoner of war (after the battle)\t34\n",
      "triumphant Christ, e.g. on triumphal chariot\t34\n",
      "burial\t34\n",
      "sleeping on the ground\t34\n",
      "insignia of the pope, e.g. tiara\t34\n",
      "members of bridal party\t34\n",
      "meeting, assembly\t34\n",
      "telescope\t34\n",
      "winds\t34\n",
      "Wealth, Opulence; 'Opulenza', 'Richezza' (Ripa)\t34\n",
      "pianoforte\t34\n",
      "soldiers of Herod questioning the farmer, who is cutting the ripe wheat\t34\n",
      "the (five) senses\t34\n",
      "child (at home)\t34\n",
      "container of glass: bottle, jar, vase\t34\n",
      "surrealia, surrealistic representations\t34\n",
      "the (seven) Acts of Mercy\t34\n",
      "hoofed animals\t34\n",
      "giants, colossi\t34\n",
      "'Anna selbdritt', i.e. Anna, Mary and Christ-child close together\t34\n",
      "sleeping; unconsciousness - BB - out of doors\t34\n",
      "agony of Christ; three (or eleven) apostles sleeping\t34\n",
      "horse-racing\t34\n",
      "Laocoon and his twin sons are strangled by two serpents during the preparations for a sacrifice\t33\n",
      "coast (in polar regions)\t33\n",
      "when Abraham has his hand raised to kill Isaac, an angel restrains Abraham's hand\t33\n",
      "demolition of building\t33\n",
      "cross as symbol of Christ\t33\n",
      "symbols of Christ ~ animals\t33\n",
      "iconoclasm\t33\n",
      "frost, freezing weather\t33\n",
      "interlace ~ ornament\t33\n",
      "symbolic representations, allegories and emblems ~ science, 'Scientia'; 'Scienza', 'Studio' (Ripa)\t33\n",
      "the brazen serpent (Numbers 21:4-9)\t33\n",
      "Cheat, Deceit; 'Fraude', 'Inganno' (Ripa)\t33\n",
      "Adversity, Misfortune, Bad Luck; 'Fortuna infelice', 'Infortunio' (Ripa)\t33\n",
      "'Vanitas' still life\t33\n",
      "open-air recreation\t33\n",
      "Isaac lying in bed blesses Jacob who, disguised in Esau's clothes, brings food to his father; Jacob's hands and neck are covered with goatskins\t33\n",
      "drinking-vessels\t33\n",
      "falling\t33\n",
      "postman\t33\n",
      "building of church\t33\n",
      "'Musica', symbolic representations, allegories and emblems ~ music; 'Musica'(Ripa)\t33\n",
      "ornament ~ geometric motifs\t33\n",
      "catching animals\t33\n",
      "sitting on an elevation - AA - female human figure\t33\n",
      "'Architectura', symbolic representations, allegories and emblems ~ architecture; 'Architettura' (Ripa)\t33\n",
      "Land of Cockaigne\t33\n",
      "sausage\t33\n",
      "Samson kills the lion with his bare hands\t33\n",
      "ocean\t33\n",
      "swamps and polders\t33\n",
      "contrast between rich and poor\t33\n",
      "scenes symbolizing 'Vanitas'\t33\n",
      "baring the head, lifting one's hat\t33\n",
      "feeding a baby\t32\n",
      "peep-show\t32\n",
      "hanging the wash to dry\t32\n",
      "allegory of trade; 'Commertio della vita humana' (Ripa)\t32\n",
      "Syrinx changed into a reed: while fleeing from Pan, the nymph Syrinx is changed into reed by her sisters, the Naiads (Ovid, Metamorphoses I 705)\t32\n",
      "quarrel, argument\t32\n",
      "lightning, flash of lightning, thunderbolt\t32\n",
      "Christ in Peter's boat preaching to the people\t32\n",
      "container of stone: stone vase\t32\n",
      "landscape with monument\t32\n",
      "learning to walk, the first steps\t32\n",
      "military band\t32\n",
      "jewel-box\t32\n",
      "banquet of elegant company\t32\n",
      "comb, brush and other tools (care of the hair)\t32\n",
      "drawing-room, 'salon'\t32\n",
      "shooting with bow and arrow, archery (~ games of skill)\t32\n",
      "attributes of Mercury\t32\n",
      "sailing-car\t32\n",
      "Social Position\t32\n",
      "spoon\t32\n",
      "afternoon ~ landscape (sometimes titled 'Meridies')\t32\n",
      "divided door, upper part opened\t32\n",
      "drunken brawl (usually peasants fighting in an inn)\t32\n",
      "half-column, pilaster ~ architecture\t32\n",
      "militant proselytizing: religious war, crusade, etc.\t32\n",
      "kitchen\t32\n",
      "the meeting of Abraham and Melchizedek, the high priest and king of Salem, who brings bread and wine (Genesis 14:18-20)\t32\n",
      "solar eclipse\t32\n",
      "pancakes\t32\n",
      "ostensorium, monstrance\t32\n",
      "trophy ~ battle, war\t32\n",
      "(household) utensils and implements\t32\n",
      "motorcar racing\t31\n",
      "student\t31\n",
      "compass\t31\n",
      "robber\t31\n",
      "resting\t31\n",
      "comprehensive representations of the events on Golgotha during Christ's hanging on the cross, no particular event emphasized\t31\n",
      "infant, baby\t31\n",
      "David beheads Goliath with a sword\t31\n",
      "university\t31\n",
      "conqueror triumphing, triumphal entry of victor\t31\n",
      "vineyard\t31\n",
      "mutilation of the corpse\t31\n",
      "barber; surgeon\t31\n",
      "flame\t31\n",
      "allegories and personifications ~ Protestantism\t31\n",
      "rainbow\t31\n",
      "Vice, Evil, Sin; 'Peccato' (Ripa)\t31\n",
      "Saturn devouring his children\t31\n",
      "lying-in room\t31\n",
      "Philip baptizes the Eunuch\t31\n",
      "court session (court of justice)\t30\n",
      "historical persons not known by name\t30\n",
      "insignia of cardinal, e.g. hat, mantle\t30\n",
      "(story of) Cybele, Rhea Cybele, Great Mother of the Gods (Berecynt(h)ia)\t30\n",
      "an angel chases Adam and Eve out of paradise with a (flaming) sword\t30\n",
      "bones in general (human body)\t30\n",
      "trireme, galley\t30\n",
      "story of Samson and Delilah (Judges 16:4-21)\t30\n",
      "male persons from the Old Testament (not in biblical context)\t30\n",
      "wrestling (sport)\t30\n",
      "the Olympian gods together: Jupiter, Juno, Neptune, Ceres, Apollo, Diana, Mars, Venus, Mercury, Minerva, Vulcan, Vesta (or Bacchus)\t30\n",
      "pontoon bridge\t30\n",
      "open fire (in general)\t30\n",
      "defensive measures (military)\t30\n",
      "Diana with her nymphs discovers the pregnancy of Callisto\t30\n",
      "tumours - AA - female human figure\t30\n",
      "(military) standard-bearer\t30\n",
      "mocking, insulting; teasing\t30\n",
      "monsters of the sea\t30\n",
      "waving farewell ~ departure on a journey\t30\n",
      "the ages of man\t30\n",
      "inscription\t30\n",
      "widow\t30\n",
      "Punch and Judy\t30\n",
      "guard of honour\t30\n",
      "battle arrays\t30\n",
      "the gathering of manna (in baskets and pots)\t30\n",
      "visiting the sick; sick person together with others\t30\n",
      "man (showing himself) undressed, quasi-nude\t30\n",
      "Noah's sacrifice; various animals are offered, possibly a lamb, a dove and a ram (often combined with the rainbow of the covenant)\t30\n",
      "Fidelity; 'Fedeltà' (Ripa)\t30\n",
      "installation of a ruler - BB - female ruler\t30\n",
      "transverse flute\t30\n",
      "bread, loaf\t30\n",
      "symbols and personifications of Death\t30\n",
      "peace and prosperity, 'Pax et Abundantia'\t30\n",
      "lace\t30\n",
      "peat-cutting\t29\n",
      "street sweeping, street sweeper\t29\n",
      "yoyo\t29\n",
      "workshop\t29\n",
      "fresh-water fishery\t29\n",
      "Daphne changed into a laurel-tree: while fleeing from Apollo, Daphne is changed into a laurel-tree by her father Peneus (Ovid, Metamorphoses I 548)\t29\n",
      "a woman washes Christ's feet with her tears, and wipes them with her hair\t29\n",
      "bastion, bulwark\t29\n",
      "family, descendance\t29\n",
      "walking - AA - female human figure\t29\n",
      "flowers in a vase\t29\n",
      "kneeling on both knees\t29\n",
      "the episode of the Last Supper\t29\n",
      "festive reception of the prodigal son\t29\n",
      "sorcerer, magician, wizard, warlock\t29\n",
      "Lust, Luxury, 'Luxuria'; 'Lussuria' (Ripa) ~ personification of one of the Deadly Sins\t29\n",
      "the son of the widow of Nain is carried out of the city on a bier (Luke 7:11-17)\t29\n",
      "disabilities, deformations and monstrosities; diseases\t29\n",
      "Pero suckling Cimon ('Caritas romana')\t29\n",
      "lamb bearing cross or banner, 'Agnus Dei' ~ symbol of Christ\t29\n",
      "camp-fire; watch-fire\t29\n",
      "bacchanal: Bacchus with his wine-flushed train (thiasos)\t29\n",
      "rapids\t29\n",
      "liturgical furniture, etc.\t29\n",
      "lovers' meeting\t29\n",
      "plan, map of garden\t29\n",
      "Russian Orthodox Church\t29\n",
      "place or institution of education and training of the artist, e.g.: academy of art\t29\n",
      "bagpipe, musette - CC - out of doors\t29\n",
      "regular clerics, e.g. Jesuits, Redemptorists\t29\n",
      "'kolf' on the ice\t29\n",
      "fruit harvest\t29\n",
      "Melpomene (one of the Muses); 'Melpomene' (Ripa)\t29\n",
      "(3) the Ceryneian hind of Arcadia is captured by Hercules\t29\n",
      "Venus mourning Adonis\t29\n",
      "ruler in informal contact with his subjects\t29\n",
      "single Muses\t29\n",
      "Peter draws his sword and cuts off Malchus' ear\t28\n",
      "weaving-loom\t28\n",
      "mason at work\t28\n",
      "auricular ornament, lobe style ~ ornament\t28\n",
      "rescue work during a flood\t28\n",
      "duelling\t28\n",
      "Martha complains to Christ about Mary\t28\n",
      "magistracy, judges\t28\n",
      "composite order ~ architecture\t28\n",
      "debate, discussion (~ meeting)\t28\n",
      "rebus\t28\n",
      "ornament ~ tracery\t28\n",
      "poster\t28\n",
      "the rape of Ganymede: he is carried off through the air by Jupiter in the form of an eagle, or by the eagle of Jupiter\t28\n",
      "hairdress - AA - ~ women\t28\n",
      "Disagreement, Discord; 'Discordia' (Ripa)\t28\n",
      "asking someone not to leave\t28\n",
      "the giant Antaeus is lifted in the air and crushed to death by Hercules\t28\n",
      "potter, ceramist\t28\n",
      "fainting, swooning\t28\n",
      "jungle\t28\n",
      "Doric order ~ architecture\t28\n",
      "Christ healing blind people\t28\n",
      "Constancy, Tenacity; 'Costanza', 'Tenacità' (Ripa)\t28\n",
      "(lovers) caressing each other\t28\n",
      "building a ship, ship under construction\t28\n",
      "death by drowning (non-violent)\t28\n",
      "murder\t28\n",
      "centaurs\t28\n",
      "witch, sorceress\t28\n",
      "pearl; pearl necklace\t28\n",
      "persecution of believers\t28\n",
      "Apollo pursuing the nymph Daphne (as yet not metamorphosed)\t28\n",
      "triumph of Bacchus; 'Carro di Bacco' (Ripa)\t28\n",
      "the good shepherd (Christ) defending his sheep against wolves; 'I am the good shepherd' (John 10:1-16)\t28\n",
      "presentation of the Christ-child in the temple, usually Simeon (and Anna) present (Luke 2:22-39)\t28\n",
      "the rape of Proserpina (by Pluto in his chariot); possibly with Diana and Minerva trying to rescue her\t27\n",
      "sailor\t27\n",
      "making music; musician with instrument - CC - out of doors\t27\n",
      "bookbinding\t27\n",
      "oral spreading of news, town crier\t27\n",
      "containers\t27\n",
      "jeweller, goldsmith, silversmith\t27\n",
      "Madonna (i.e. Mary with the Christ-child) accompanied or surrounded by others\t27\n",
      "bad husband\t27\n",
      "rowing facing backward, pulling\t27\n",
      "time\t27\n",
      "Christ lamented by angels\t27\n",
      "weekly, monthly, magazine, etc.\t27\n",
      "Jupiter, disguised as a satyr, approaches the sleeping Antiope; the eagle may be standing nearby\t27\n",
      "vestibule, hall\t27\n",
      "engineering\t27\n",
      "Thalia (one of the Muses); 'Talia' (Ripa)\t27\n",
      "with his people safe on the shore, Moses raises his hands and causes the water to return; Pharaoh's army perishes in the water (Red Sea)\t27\n",
      "gods ~ classical mythology\t27\n",
      "swimming (movement in water)\t27\n",
      "council, synod ~ Roman Catholic church\t27\n",
      "built-in bedstead (Dutch: 'bedstee')\t27\n",
      "landscapes - HH - ideal landscapes\t27\n",
      "division of light and darkness\t27\n",
      "eggs, egg-dishes\t27\n",
      "scholar, philosopher\t27\n",
      "'sine Cerere et Baccho friget Venus'\t27\n",
      "signboard\t27\n",
      "workshop-interior\t27\n",
      "the four symbols of the evangelists, 'the apocalyptic beasts'\t27\n",
      "Elijah fed by the raven(s): while the prophet is living by the brook, ravens bring him food\t27\n",
      "the soldier off duty\t27\n",
      "the place of worship and its equipment ~ Christian churches\t27\n",
      "the arts of the stage: ballet, theatre, musical drama, motion picture\t27\n",
      "spire (of tower on house or building)\t27\n",
      "barrel-organ player\t27\n",
      "Jupiter, in the guise of Diana, and Callisto\t27\n",
      "bird's eye view ~ representation of building\t27\n",
      "Peter denies Christ, usually before a girl-servant and some soldiers\t27\n",
      "ball, formal dance\t27\n",
      "tragedy\t27\n",
      "knitting\t27\n",
      "printing press\t26\n",
      "robbery\t26\n",
      "Diana as moon-goddess, i.e. Luna (Selene)\t26\n",
      "reception ~ ambassador\t26\n",
      "author, poet writing\t26\n",
      "the golden age, 'Aetas aurea'; men live happily, gathering fruits under the reign of Saturn\t26\n",
      "the massacre ot the innocents; sometimes Herod looking on\t26\n",
      "bank\t26\n",
      "draughtsman studying classical remains\t26\n",
      "revolutionary government\t26\n",
      "tennis, lawn-tennis\t26\n",
      "honouring the artist with laurel wreath\t26\n",
      "village-gate\t26\n",
      "painter at work, in his studio - CC - out of doors\t26\n",
      "Christ before King Herod; sometimes a gorgeous robe is brought (Luke 23:8-11)\t26\n",
      "Thomas touching or stretching out his hands to touch the wound in Christ's side, sometimes Christ leading Thomas' hand\t26\n",
      "Clio (one of the Muses); 'Clio' (Ripa)\t26\n",
      "miller\t26\n",
      "marine charts\t26\n",
      "John the Baptist in the wilderness, usually accompanied by a lamb\t26\n",
      "Joseph reveals his identity and in tears forgives his brothers' past misdeed\t26\n",
      "wind instruments\t26\n",
      "threatening behaviour, challenging\t26\n",
      "swamp, inland marsh, fens\t26\n",
      "hands folded\t26\n",
      "Honour, Glory; 'Ampiezza della Gloria', 'Gloria', 'Gloria de prencipi', 'Gloria & Honore', 'Honore', 'Sublimatà della Gloria' (Ripa)\t26\n",
      "angel(s) addressing the holy women ~ Resurrection of Christ\t26\n",
      "the Jews, Jewish life\t26\n",
      "trough\t26\n",
      "Lot and his daughters (Genesis 19:30-38)\t26\n",
      "Salome gives the head of John the Baptist to her mother\t26\n",
      "young versus old age; young and old\t26\n",
      "the sower ~ parable of Christ (Matthew 13:3-9; Mark 4:3-9; Luke 8:5-8)\t26\n",
      "Solomon and the queen of Sheba (1 Kings 10:1-3; 2 Chronicles 9:1-9)\t26\n",
      "coffin\t26\n",
      "outskirts of village\t26\n",
      "equilibrist\t26\n",
      "baldness\t26\n",
      "lunatic asylum, mental home\t26\n",
      "man dancing alone\t25\n",
      "title-page\t25\n",
      "man and woman cohabiting\t25\n",
      "bullfight\t25\n",
      "tight-ropewalker\t25\n",
      "putting the enemy to flight\t25\n",
      "the Dormition: Mary on her deathbed; the apostles are gathered around her (John the Evangelist may be shown sleeping or dreaming)\t25\n",
      "cave-dwelling\t25\n",
      "grand piano\t25\n",
      "temple, shrine ~ Greek religion\t25\n",
      "'Sapientia' and the Seven Virtues, i.e. the Three Theological and the Four Cardinal Virtues\t25\n",
      "artist at work, in his workshop\t25\n",
      "spring (fluids extracted from the earth)\t25\n",
      "after a three-day sojourn in the belly of the monster Jonah is cast on dry land; Jonah may be shown nude and bald-headed\t25\n",
      "landscapes in the non-temperate zone, exotic landscapes\t25\n",
      "moon as celestial body\t25\n",
      "(public) prayer\t25\n",
      "saving a person from drowning\t25\n",
      "one person dancing alone\t25\n",
      "tent-camp\t25\n",
      "art collector\t25\n",
      "military orders, e.g.: Knights Templars, Knights of Malta, Teutonic Knights ~ Roman Catholic church\t25\n",
      "Hercules shoots Nessus, the centaur, who attempts to carry off Deianira\t25\n",
      "sermon ~ Protestant service\t25\n",
      "human-shaped devil\t25\n",
      "(2) the Hydra of Lerna is killed by Hercules\t25\n",
      "Cleopas and Peter meet Christ (sometimes they are dressed as pilgrims)\t25\n",
      "standing figure (canon, proportions)\t25\n",
      "the angel leads Peter past the sleeping guards\t25\n",
      "movement in the air\t25\n",
      "'Victoria'; 'Vittoria', 'Vittoria navale', 'Vittoria degl'antichi' (Ripa)\t25\n",
      "(story of) Pluto (Hades), Dis Pater, Orcus\t25\n",
      "turner in wood\t25\n",
      "opera-singer (female)\t25\n",
      "organizations, assemblies, etc. in Protestant churches\t25\n",
      "sleeping on the ground - BB - out of doors\t25\n",
      "Japanese\t25\n",
      "potatoes\t25\n",
      "balloon (aviation)\t25\n",
      "temple, shrine ~ Shinto\t25\n",
      "David fighting Goliath\t25\n",
      "censer\t25\n",
      "Tuscan order ~ architecture\t25\n",
      "Holy Mass (divine service, especially of Roman Catholic Church)\t25\n",
      "fabulous beings with wings\t25\n",
      "David with Goliath's head\t25\n",
      "porter, bearer\t25\n",
      "dream\t25\n",
      "Adam engaged in agricultural activities, Eve suckling the children\t25\n",
      "Greed, Covetousness, Cupidity; 'Cupidità' (Ripa)\t25\n",
      "a chariot, horses of fire and a whirlwind appear and Elijah is carried up into heaven; Elijah's cloak falls (or he hands it over to Elisha)\t24\n",
      "Jacob wrestles with the angel (or man) till daybreak; Jacob's thigh is put out of joint\t24\n",
      "tools, implements of printer\t24\n",
      "Paul bitten by a viper (when throwing wood on the fire)\t24\n",
      "Balaam strikes his ass, whereupon the ass lies down and starts to speak\t24\n",
      "gardening-tools\t24\n",
      "self-sacrifice, death in the service of a higher purpose\t24\n",
      "allegorical representations of the effects of time\t24\n",
      "two bears come out of the woods and tear the children who were mocking Elisha to pieces\t24\n",
      "Solomon indicates the true mother\t24\n",
      "basement, cellar\t24\n",
      "'Navigatione' (Ripa)\t24\n",
      "ice ~ state of water\t24\n",
      "picking flowers\t24\n",
      "map of the world\t24\n",
      "musician(s) accompanying singer(s)\t24\n",
      "Jael kills the sleeping Sisera by hitting the nail through his temples\t24\n",
      "commander-in-chief, admiral\t24\n",
      "Christ before Annas (Hanna); maybe a soldier about to strike Christ (John 18:13, 18:19-24)\t24\n",
      "the finding of Moses: Pharaoh's daughter comes to bathe with her maidens in the river and discovers the child floating on the water\t24\n",
      "pipe system (~ water supply)\t24\n",
      "Mercury lulls Argus into sleep by making music\t24\n",
      "tea-pot; samovar\t24\n",
      "(playing with) toys\t24\n",
      "fire, oven, furnace ~ interior of industrial structure\t24\n",
      "clavichord, harpsichord\t24\n",
      "Diana (Luna) visiting the sleeping Endymion\t24\n",
      "spirit, ghost\t24\n",
      "other ornament derived from animal forms\t24\n",
      "father and son(s) (family group)\t24\n",
      "war of the Titans against Jupiter and allies: titanomachy\t24\n",
      "eradication of mice\t24\n",
      "'Philosophia'; 'Filosofia' (Ripa)\t24\n",
      "the liberal arts, 'Artes Liberales'\t24\n",
      "flowers ~ ornament - AA - stylized\t24\n",
      "magic, supernaturalism, occultism\t24\n",
      "boar (male pig)\t23\n",
      "human figure at (open) window, seen from outside - AA - feigned window\t23\n",
      "recovery, convalescence of sick person\t23\n",
      "the Revelation of John, the Apocalypse\t23\n",
      "panpipes\t23\n",
      "Judith and her maidservant put Holofernes' head in a sack\t23\n",
      "Holy Family (alone), 'Trinitas terrestris'\t23\n",
      "'Rhetorica', 'Eloquentia' (~ trivium); 'Rettorica' (Ripa)\t23\n",
      "smoking pot as symbol of 'Vanitas'\t23\n",
      "nesting-box\t23\n",
      "fowling, fowler\t23\n",
      "sun represented as face, wheel, etc.\t23\n",
      "Christ, sometimes accompanied by guardian angel(s), tempted by Satan, who usually appears in human form\t23\n",
      "monastic orders, monastic life ~ Roman Catholic church\t23\n",
      "cooking food\t23\n",
      "meeting of David and Abigail, who kneels before him\t23\n",
      "Joseph interpreting the dreams of the butler and the baker (the two dreams combined)\t23\n",
      "sick-bed\t23\n",
      "hand(s) bent towards the head\t23\n",
      "dusk, evening twilight\t23\n",
      "microscope\t23\n",
      "Venus, standing on a shell, sails with her veil over the water (alternatively she is riding on a dolphin): Venus Marina\t23\n",
      "(barber as) dentist\t23\n",
      "grandparent(s) with grandchild(ren) (family group)\t23\n",
      "Patience; 'Patienza' (Ripa)\t23\n",
      "anthropomorphic ornament\t23\n",
      "embroidery (ornamentation)\t23\n",
      "book in which illustrations are essential - MM - book open\t23\n",
      "Esau, returning hungry from the hunt, sells his first birthright to Jacob for a pottage of lentils\t23\n",
      "private festivities, merry company - AA - in the open air, 'fête champêtre'\t23\n",
      "crying, shouting\t23\n",
      "Victory\t23\n",
      "counting, calculating\t23\n",
      "juridical examples; exemplary judges; 'Gerechtigkeitsbilder'\t23\n",
      "satyr(s) pursuing nymph(s)\t23\n",
      "portrait of composer\t23\n",
      "the Church or Christian religion vs. paganism and unbelief\t22\n",
      "healing of a woman with an issue of blood: she kneels before Christ after having touched his robe (Matthew 9:20-22; Mark 5:25-34; Luke 8:43-48)\t22\n",
      "kings of Israel and Judah ~ the Old Testament (not in biblical context)\t22\n",
      "'Frau Welt'\t22\n",
      "heart\t22\n",
      "fantastic architecture, unrealistic architectural fantasies\t22\n",
      "twins\t22\n",
      "ship in the roads, roadstead\t22\n",
      "club, meeting place\t22\n",
      "person addressing a group, orator\t22\n",
      "eruption (of volcano)\t22\n",
      "weighing gold or money\t22\n",
      "concert hall\t22\n",
      "other architectural details\t22\n",
      "training of horses\t22\n",
      "the four elements, and ether, the fifth element\t22\n",
      "mother and daughter(s) (family group)\t22\n",
      "(story of) Diana (Artemis)\t22\n",
      "casino\t22\n",
      "satyr(s) spying upon\t22\n",
      "specific aspects, allegorical aspects of Apollo; Apollo as patron\t22\n",
      "Longinus pierces Christ's side with a lance\t22\n",
      "lying on one side, with uplifted upper part of the body and leaning on the arm\t22\n",
      "artist (in general)\t22\n",
      "burning of books\t22\n",
      "delivery (of newspaper)\t22\n",
      "adoration of the Christ-child ~ Christ's birth\t22\n",
      "sharpening, grinding (industrial processes)\t22\n",
      "crucified Christ with Mary Magdalene, who usually weeps and embraces the cross\t22\n",
      "autumn landscape; landscape symbolizing autumn (the four seasons of the year)\t22\n",
      "adoration of the Christ-child by Mary and Joseph\t22\n",
      "grave digger\t22\n",
      "the prodigal son kneels before his father who takes him in his arms\t22\n",
      "locomotive\t22\n",
      "continents represented allegorically\t22\n",
      "transportation of the Ark of the Covenant (in general) ~ Jewish religion\t22\n",
      "vaudeville, variety-show\t22\n",
      "children's bacchanal\t22\n",
      "boxes, loges ~ theatre, etc.\t22\n",
      "the Christian knight, 'Miles Christianus'\t22\n",
      "fighting horses\t22\n",
      "other allegories of Time, e.g. 'Tempo' (Ripa)\t22\n",
      "portrait of a musician\t22\n",
      "mask, mascaron ~ ornament\t22\n",
      "Zacharias speechless before the people\t22\n",
      "'Musica' (~ quadrivium); 'Musica' (Ripa)\t22\n",
      "weaving\t22\n",
      "(1) Hercules chokes the Nemean lion with his arms\t22\n",
      "ears\t22\n",
      "billiards\t22\n",
      "Joseph is thrown into a pit (usually depicted as a well or cistern)\t22\n",
      "guardian angel\t22\n",
      "collection, exhibition, show\t22\n",
      "Andromeda chained to the rock\t22\n",
      "mouth\t22\n",
      "the plague of the monstrous locusts with crowns, led by Apollyon\t22\n",
      "circus\t21\n",
      "Gluttony, Intemperance, 'Gula'; 'Gola', 'Ingordigia', 'Ingordigia overo Avidità', 'Voracità' (Ripa) ~ personification of one of the Seven Deadly Sins\t21\n",
      "Perseus kills the sea monster (or turns it into stone by showing it the Gorgon's head) to release Andromeda; sometimes her parents Cepheus and Cassiopea watch the scene\t21\n",
      "creation of sun, moon and stars\t21\n",
      "large group of musicians, orchestra\t21\n",
      "rodents\t21\n",
      "carousal, drinking-bout, orgy\t21\n",
      "pouring\t21\n",
      "oriental ideographic script (Chinese, Korean, Japanese)\t21\n",
      "marriage of Mary and Joseph, 'Sposalizio': they are married by the high priest\t21\n",
      "decoration of printed matter\t21\n",
      "Christ talking with Nicodemus at night (John 3:1-21)\t21\n",
      "sitting on the ground - AA - female human figure\t21\n",
      "literary characters and objects\t21\n",
      "small sleigh (winter sports)\t21\n",
      "Virtues (holding instruments of the Passion) ~ hierarchy of angels\t21\n",
      "painter in non-work situation\t21\n",
      "the elders accusing Susanna before the people, laying their hands on her head or unveiling her\t21\n",
      "prize-ox\t21\n",
      "serving-dish, platter\t21\n",
      "May ~ other concepts\t21\n",
      "pageant of a guild\t21\n",
      "Diana bathing with her nymphs\t21\n",
      "surrender ~ war\t21\n",
      "personification of the night, 'Nox'; 'Notte', 'Carro della notte', 'Serenità della notte' (Ripa)\t21\n",
      "squatting, crouching figure\t21\n",
      "distribution of awards ~ art contest\t21\n",
      "the praying Pharisee and the repentant publican in the temple (Luke 18:10-14)\t21\n",
      "specific aspects, allegorical aspects of Mars; Mars as patron\t21\n",
      "orchard\t21\n",
      "story of the conversion of Paul (Acts 9:1-18)\t21\n",
      "'trompe l'oeil'\t21\n",
      "needle, obelisk (marking grave)\t21\n",
      "street - II - ideal city\t21\n",
      "Time revealing Truth; Time carrying Truth aloft\t21\n",
      "punishment of Marsyas: he is flayed by Apollo\t21\n",
      "going to church\t21\n",
      "womb, uterus\t21\n",
      "foodstuffs; still life of foodstuffs\t21\n",
      "digging for or finding of treasure\t21\n",
      "puppet and marionette show\t21\n",
      "gripping someone by the hand or the wrist; clasped hands\t21\n",
      "the journey to Emmaus: two disciples (Cleopas and Peter) under way\t21\n",
      "cleaning (the house)\t21\n",
      "Christ gives the keys of heaven to Peter\t21\n",
      "Jupiter wooing Danae; she is usually lying in bed receiving a shower of gold\t21\n",
      "Bartholomew flayed alive\t21\n",
      "Old Age, 'Senectus'; 'Vecchiezza' (Ripa)\t21\n",
      "musician - CC - out of doors\t21\n",
      "more than one couple dancing\t21\n",
      "summer landscape; landscape symbolizing summer (the four seasons of the year)\t21\n",
      "the scarlet woman, the whore of Babylon; she is usually sitting on a scarlet beast with seven heads and ten horns\t21\n",
      "Venus trying to prevent Adonis from going hunting\t21\n",
      "spreading the gospel; missionary work\t21\n",
      "kissing the hand (lovers)\t21\n",
      "review, inspection (of company, unit, troop)\t21\n",
      "lute, and special forms of lute, e.g.: theorbo - CC - out of doors\t21\n",
      "effigy, 'gisant' (portrait-figure on closed coffin or in 'castrum doloris'), transi\t21\n",
      "wine-press\t20\n",
      "revolutionary action (violent)\t20\n",
      "construction of canal\t20\n",
      "beacon\t20\n",
      "giving water, feeding (cattle)\t20\n",
      "opening the door\t20\n",
      "office (~ administration)\t20\n",
      "pickpocket\t20\n",
      "mourning customs\t20\n",
      "medical examination, medical treatment\t20\n",
      "a Canaanite woman kneels before Christ, asking him to heal her daughter; the metaphor of the dogs and bread (Matthew 15:21-28; Mark 7:24-30)\t20\n",
      "cock-fighting\t20\n",
      "quack, charlatan, mountebank, 'saltimbanco'\t20\n",
      "putting a finger to the lips, 'Silentium'; 'Silentio' (Ripa)\t20\n",
      "working situations ~ painter\t20\n",
      "Mary sitting or enthroned, the Christ-child in front of her, standing in her lap (or in front of her bosom)\t20\n",
      "public baths - AA - in the open air\t20\n",
      "specific aspects, allegorical aspects of Neptune; Neptune as patron\t20\n",
      "tendrils ~ ornament\t20\n",
      "religious functionaries ~ Hinduism, Buddhism, Jainism\t20\n",
      "Moses covers his face with a veil\t20\n",
      "surf, breakers\t20\n",
      "cabinet of curiosities, 'Kunst- und Wunderkammer'\t20\n",
      "sawahs, rice paddies\t20\n",
      "(single) apostle, unspecified\t20\n",
      "triumph of Galatea\t20\n",
      "fencing (sport)\t20\n",
      "pirate, corsair, buccaneer\t20\n",
      "leave-taking and departure of the prodigal son\t20\n",
      "rat exterminator\t20\n",
      "unequal couple, ill-matched couple\t20\n",
      "Gethsemane, Mount of Olives, 'Oelberg' (Matthew 26:36-56; Mark 14:32-52; Luke 22:39-53; John 18:1-12)\t20\n",
      "laboratory\t20\n",
      "historiated initial\t20\n",
      "Judith with Holofernes' head and the sword\t20\n",
      "Urania (one of the Muses); 'Urania' (Ripa)\t20\n",
      "messenger\t20\n",
      "national government\t20\n",
      "other forms of installation\t20\n",
      "palace - AA - civic architecture: inside\t20\n",
      "ham\t20\n",
      "stones turning into men: stones thrown by Deucalion and Pyrrha, as directed by the oracle of Themis, turn into men (Ovid, Metamorphoses X 400)\t20\n",
      "public festivities at birth of royal persons\t20\n",
      "inn, coffee-house, public house, etc.\t20\n",
      "suicide out of despair\t20\n",
      "birth of Mary\t20\n",
      "August and its 'labours'\t20\n",
      "Gemini (zodiacal sign of May)\t20\n",
      "Aegis: shield with Gorgon's head (attribute of Minerva)\t20\n",
      "during the coronation\t20\n",
      "'Laub- und Bandelwerk' ~ ornament\t20\n",
      "Christ says to a paralytic man: 'Rise, take up your pallet (bed)'\t20\n",
      "at the end of the day the lord pays all the labourers equally; those that worked all day object\t20\n",
      "Cancer (zodiacal sign of June)\t20\n",
      "February and its 'labours'\t20\n",
      "mule\t20\n",
      "gate ~ fortified city\t20\n",
      "civil marriage ceremony\t20\n",
      "old-people's home\t20\n",
      "fat (human type)\t20\n",
      "the four Latin (Western) Fathers of the Church together: Ambrose (usually as bishop), Jerome (usually as cardinal), Augustine (usually as bishop), Gregory the Great (usually as pope)\t20\n",
      "court-room\t20\n",
      "the way to destruction is broad and the gate is wide; the way to life is narrow and the gate is straight ~ doctrine of Christ on love, etc. (Matthew 7:13-14; Luke 13:24)\t20\n",
      "ammunition store, arsenal\t20\n",
      "'Grammatica' (~ trivium); 'Grammatica' (Ripa)\t20\n",
      "seasons of the year (esp. personifications); 'Stagione', 'Le quattro stagione dell'anno' (Ripa)\t20\n",
      "David's triumph: the women of Israel come out to welcome David, singing, dancing, and playing tambourines and lyres; David holding the head of Goliath\t20\n",
      "plain\t20\n",
      "Alertness, Vigilance; 'Guardia', 'Vigilanza', 'Vigilanza per difendersi & oppugnare altri' (Ripa)\t20\n",
      "'Ecclesia' as bride of Christ (the Lamb), 'Ecclesia sponsa Dei', 'sponsus-sponsa'\t20\n",
      "the unworthy guest is dragged out ~ parable of the royal wedding-feast\t20\n",
      "Christ washes the feet of the apostles (John 13:1-20)\t19\n",
      "Generosity, Liberality; 'Generosità', 'Liberalità' (Ripa)\t19\n",
      "Euterpe (one of the Muses); 'Euterpe' (Ripa)\t19\n",
      "June ~ other concepts\t19\n",
      "railway, train\t19\n",
      "Apollo playing the lyre, Apollo Citharoedus\t19\n",
      "altar ~ Roman religion\t19\n",
      "(playing with) top\t19\n",
      "'Castità matrimoniale', 'Fede maritale', 'Matrimonio' (Ripa)\t19\n",
      "November ~ other concepts\t19\n",
      "buckle\t19\n",
      "silkworm\t19\n",
      "balloon flight (sport)\t19\n",
      "escape, escape attempts\t19\n",
      "operation, surgery\t19\n",
      "in or beside the water (on the beach)\t19\n",
      "arm in arm (lovers)\t19\n",
      "starvation, famine\t19\n",
      "healing of a man born blind: Christ touches his eyes with an 'ointment' of dust and spittle (John 9)\t19\n",
      "attempts to stone Christ (John 8:59, 10:31-33)\t19\n",
      "proclamation of new government\t19\n",
      "cigarette\t19\n",
      "toddler\t19\n",
      "Folly, Foolishness; 'Pazzia', 'Sciocchezza', 'Stoltitia' (Ripa)\t19\n",
      "Death as skeleton - FF - Death as female\t19\n",
      "zoo (as place of recreation)\t19\n",
      "soil cultivation\t19\n",
      "Taurus (zodiacal sign of April)\t19\n",
      "interior ~ architectural design or model\t19\n"
     ]
    },
    {
     "name": "stdout",
     "output_type": "stream",
     "text": [
      "song-birds\t19\n",
      "torso\t19\n",
      "fortune-teller ~ pleasure fair and circus\t19\n",
      "female persons from classical history\t19\n",
      "pyramid (marking grave)\t19\n",
      "circus animals\t19\n",
      "sacrifice ~ non-Christian religions\t19\n",
      "person stimulating the arts; art lover, connoisseur, maecenas, patron\t19\n",
      "the Church personified, 'Ecclesia', usually with chalice and banner\t19\n",
      "the blind leading the blind (Matthew 15:14)\t19\n",
      "position-finding at sea; nautical instruments\t19\n",
      "April ~ other concepts\t19\n",
      "coloured races of America\t19\n",
      "pier, quay, wharf\t19\n",
      "giving alms; collection\t19\n",
      "the twelve months represented by scenes showing human activities, usually in a landscape; so-called 'labours of the months'\t19\n",
      "the paralytic man is cured and walks away\t19\n",
      "viaduct\t19\n",
      "the Flood and destruction of mankind ~ story of Noah (Genesis 7:10 - 8:17)\t19\n",
      "alchemist at work\t19\n",
      "the meeting at the well: Eliezer sees Rebekah coming with a pitcher\t19\n",
      "Mary and Elisabeth shaking hands\t19\n",
      "landscape symbolizing December\t19\n",
      "official; civil servant; functionary (in general)\t19\n",
      "gods of the waters: Neptune and his environment\t19\n",
      "head held in the hand(s), with elbows leaning on an elevation or on the knees\t19\n",
      "sacrifice ~ Roman religion\t19\n",
      "bellows\t19\n",
      "throne-room\t19\n",
      "March ~ other concepts\t19\n",
      "calling of Zacchaeus, who is sitting in a fig-tree (Christ passing through Jericho)\t19\n",
      "hell and purgatory\t19\n",
      "proposal, declaration of love\t19\n",
      "charitable works\t19\n",
      "fight of gladiators\t18\n",
      "David rebuked by Nathan\t18\n",
      "Christ in the underworld, harrowing of hell, Christ in Limbo, 'descensus ad inferos', 'Anastasis'\t18\n",
      "Samson breaks the pillars; the temple of Dagon collapses, killing all that are in it\t18\n",
      "the Muses acting together (as group)\t18\n",
      "at night, an angel of the Lord decimates the Assyrian camp: 185.000 soldiers are killed\t18\n",
      "the Eucharist ~ the fourth of the seven sacraments\t18\n",
      "anatomical models (usually series of five figures)\t18\n",
      "alms-house (Dutch: 'hofje')\t18\n",
      "opera-singer (male)\t18\n",
      "catafalque, 'castrum doloris' (~ public funeral)\t18\n",
      "Peter crucified upside down\t18\n",
      "preparation for battle\t18\n",
      "Dives dies; his soul is brought into hell by devils\t18\n",
      "David playing his harp before Saul\t18\n",
      "after the intercourse\t18\n",
      "firmament, sky\t18\n",
      "breaking into city or fortress ~ siege\t18\n",
      "August ~ other concepts\t18\n",
      "Apollo shoots Python, the dragon\t18\n",
      "Faith, 'Fides'; 'Fede', 'Fede catholica', 'Fede christiana', 'Fede christiana catholica' (Ripa) ~ one of the Three Theological Virtues\t18\n",
      "buffoon (in general) (German: 'Schalksnarr')\t18\n",
      "fight between farmers and soldiers\t18\n",
      "accident with horse (or kindred animal)\t18\n",
      "star-globe\t18\n",
      "sundial\t18\n",
      "postures of the head\t18\n",
      "ornament ~ moresque\t18\n",
      "marriage of Isaac and Rebekah\t18\n",
      "horrors of war\t18\n",
      "(story of) Perseus\t18\n",
      "battle for dominance in marriage ('who wears the breeches')\t18\n",
      "Atlas supporting the heavens on his shoulders\t18\n",
      "large-scale structure for storage, e.g.: warehouse, depot, silo\t18\n",
      "Joseph interpreting Pharaoh's dreams\t18\n",
      "groups of animals\t18\n",
      "taming and training of animals\t18\n",
      "Christ preaching or teaching (in general)\t18\n",
      "July and its 'labours'\t18\n",
      "panorama, cyclorama\t18\n",
      "column (marking grave)\t18\n",
      "children playing musical instruments\t18\n",
      "the Samaritan and the wounded traveller arrive at the inn; the traveller is cared for\t18\n",
      "January and its 'labours'\t18\n",
      "drawing, pulling something\t18\n",
      "preparations, e.g. the prodigal son is given new robes; slaughtering of the fatted calf; the elder son objects\t18\n",
      "disguise\t18\n",
      "the worship of God\t18\n",
      "projectiles, explosives, etc.\t18\n",
      "'Corografia', 'Geografia', 'Hidrografia' (Ripa)\t18\n",
      "improvised bridge, temporary bridge ~ military engineering\t18\n",
      "edifice, e.g.: public building, department store\t18\n",
      "bystanders at the foot of the cross, among whom Mary, Mary Magdalene and John the Evangelist; Mary may be shown swooning\t18\n",
      "ears of corn\t18\n",
      "mountains (in tropical and sub-tropical regions)\t18\n",
      "Islam, Mohammedanism\t18\n",
      "Abraham picks up the knife to kill Isaac\t18\n",
      "medical aid and nursing of the sick and wounded\t18\n",
      "drawbridge ~ fortified city\t18\n",
      "pump\t18\n",
      "hangings and drapery\t18\n",
      "fen, Du. 'ven'\t18\n",
      "hands folded with fingers knit\t18\n",
      "Meleager gives the head of the boar to Atalanta\t18\n",
      "beheading of James\t17\n",
      "deciduous forest\t17\n",
      "Manoah's sacrifice; the angel ascends in the flames\t17\n",
      "Cerberus, the three- or many-headed dog; 'Cerbero' (Ripa)\t17\n",
      "portrait, self-portrait of photographer\t17\n",
      "Mary sitting or enthroned, the Christ-child in front of her in her lap (or in front of her bosom)\t17\n",
      "death of Adonis: he is killed by a boar\t17\n",
      "Hercules in love with Omphale; the hero is set to spin wool or to do other women's work among the servants, while Omphale wears his lion's skin and wields his club and bow\t17\n",
      "Terpsichore (one of the Muses); 'Terpsicore' (Ripa)\t17\n",
      "Solomon gives verdict; he commands a soldier to divide the living child in two\t17\n",
      "outdoor gathering, 'délices à la campagne'\t17\n",
      "miraculous healing\t17\n",
      "January ~ other concepts\t17\n",
      "Erato (one of the Muses); 'Erato' (Ripa)\t17\n",
      "cook\t17\n",
      "April and its 'labours'\t17\n",
      "(story of) Thetis; 'Thethi, ninfa del mare' (Ripa)\t17\n",
      "crucifixion of Andrew: he is undressed and tied to the cross\t17\n",
      "extreme unction ~ the last of the seven sacraments\t17\n",
      "garden of Love, court of Love, 'fête galante'\t17\n",
      "healing of two blind men, or one (Bartimaeus), sitting near Jericho (Matthew 20:29-34; Mark 10:46-52; Luke 18:35-43)\t17\n",
      "flogging, scourging (in public)\t17\n",
      "Mary sitting or enthroned, the Christ-child in front of her, sitting in her lap (or in front of her bosom)\t17\n",
      "taking a bath - AA - in the open air\t17\n",
      "Judah's love-affair with Tamar; he gives her his signet(-ring), bracelets and staff\t17\n",
      "corridor\t17\n",
      "(story of) Theseus\t17\n",
      "parts of ship's interior\t17\n",
      "mushrooms\t17\n",
      "Sagittarius (zodiacal sign of November)\t17\n",
      "sisters (second degree family relationships)\t17\n",
      "Turn of Fate, Wheel of Fortune\t17\n",
      "feeding the hungry, 'esuriens cibatur' ~ one of the (seven) Acts of Mercy\t17\n",
      "Job on the dunghill visited by his friends (and wife)\t17\n",
      "Fates, Parcae (Moirae)\t17\n",
      "Reason; 'Ragione' (Ripa)\t17\n",
      "September ~ other concepts\t17\n",
      "criminal law; punishment\t17\n",
      "June and its 'labours'\t17\n",
      "water meadows\t17\n",
      "pool, puddle\t17\n",
      "Holofernes beheaded by Judith with his own sword; the maidservant may be keeping watch\t17\n",
      "Communion ~ Holy Mass\t17\n",
      "portrait of dancer\t17\n",
      "beam, log of wood\t17\n",
      "Moses striking water from the rock (Exodus 17:1-7; Numbers 20:2-13)\t17\n",
      "bag\t17\n",
      "'Geografia'\t17\n",
      "the book of Psalms\t17\n",
      "marriage of Cupid and Psyche\t17\n",
      "Tobias cuts up the fish and removes the heart, liver and gall\t17\n",
      "Gorgoneion, head of Medusa\t17\n",
      "lover with love-letter\t17\n",
      "tools and machines ~ building\t17\n",
      "foliage, tendrils, branches ~ ornament - AA - stylized\t17\n",
      "waking up\t17\n",
      "the people dance around the golden calf ~ Exodus\t17\n",
      "Discretion, Modesty; 'Discretione', 'Modestia' (Ripa)\t17\n",
      "contest between Apollo and Pan with the mountain god Tmolus as judge, i.e. judgement of Midas; Midas often represented with ass's ears\t17\n",
      "earthquake\t17\n",
      "leading a horse by the reins; rider beside his horse\t17\n",
      "October and its 'labours'\t17\n",
      "magnifying glass\t17\n",
      "monocle, single lorgnette\t17\n",
      "Mary with the instruments of the Passion\t17\n",
      "the story of Susanna and the elders (in which the youth Daniel intervenes on behalf of Susanna) (Daniel 13)\t17\n",
      "emotional illness, derangement, madness\t17\n",
      "bunch of flowers ~ ornament\t17\n",
      "Samuel anointing David in the presence of his father Jesse and his brothers\t17\n",
      "'portraits' of Christ\t17\n",
      "'portraits' of Mary\t17\n",
      "watering plants\t17\n",
      "Upper House, Senate\t17\n",
      "disabled soldier\t17\n",
      "Youth, Adolescence, 'Iuventus'; 'Adolescenza', 'Gioventù' (Ripa)\t17\n",
      "coronation procession\t17\n",
      "dressing oneself, getting dressed\t16\n",
      "February ~ other concepts\t16\n",
      "wading, paddling\t16\n",
      "materials ~ textile industry\t16\n",
      "the wickedness of mankind; the wicked are usually shown feasting and revelling\t16\n",
      "fish; still life of fishes\t16\n",
      "'fahrende Leute', vagrants\t16\n",
      "Christ on the cross on Golgotha (alone, without bystanders)\t16\n",
      "horse in motion\t16\n",
      "disabilities, deformations\t16\n",
      "herring fishery\t16\n",
      "a paralytic is let down through the roof of the house where Christ is preaching\t16\n",
      "'Arithmetica' (~ quadrivium); 'Aritmetica' (Ripa)\t16\n",
      "melancholic temperament\t16\n",
      "footstool\t16\n",
      "kneeling before a ruler\t16\n",
      "Christ explaining his doctrine to the apostles and disciples\t16\n",
      "dandy, beau\t16\n",
      "return from the hunt\t16\n",
      "adult Christ together with angels\t16\n",
      "clothing the naked, 'nudus vestitur' ~ one of the (seven) Acts of Mercy\t16\n",
      "Mary and Elisabeth, both pregnant, embracing\t16\n",
      "(story of) Aurora (Eos); 'Aurora' (Ripa)\t16\n",
      "the healing of Tobit: Tobias puts the gall of the fish on his father's eyes\t16\n",
      "Saul kills himself with a sword\t16\n",
      "darkness\t16\n",
      "warehouse (~ harbour)\t16\n",
      "the Seven Virtues (symbolized)\t16\n",
      "key\t16\n",
      "wave\t16\n",
      "Libra (zodiacal sign of September)\t16\n",
      "one Virtue fighting against or treading upon one Vice\t16\n",
      "Mary standing (or half-length), the Christ-child on her arm (Christ-child to Mary's left)\t16\n",
      "when Jonah arrives in the city of Nineveh he foretells its destruction in forty days\t16\n",
      "entrance of hell as monstrous mouth (of Leviathan)\t16\n",
      "January 1 (~ festivities)\t16\n",
      "creation of the firmament and division of the waters above and below it\t16\n",
      "manservant, footman\t16\n",
      "representations of hell (with the damned and devils), usually with burning fires\t16\n",
      "the crucifixion of Christ: prelude to Christ's death on the cross (Matthew 27:34-44; Mark 15:23-32; Luke 23:33-43; John 19:18-24)\t16\n",
      "violent death by dagger, knife\t16\n",
      "light shining out of the heavens\t16\n",
      "head bent forward; bowing\t16\n",
      "torch - BB - torch held upside down\t16\n",
      "American negroes\t16\n",
      "Christ leaving hell: he liberates patriarchs, prophets, kings and other persons from hell, among them Adam, Eve, Moses, David, and John the Baptist\t16\n",
      "cotton (material ~ textile industry)\t16\n",
      "Eve simultaneously offers some of the fruit to Adam and takes some more from the serpent (or the tree)\t16\n",
      "peace\t16\n",
      "Job on the dunghill (Job 2:7-13)\t16\n",
      "dedication (or presentation) of Mary in the temple: she ascends the steps and is received by the high priest\t16\n",
      "Egyptian pyramids (Wonder of the World)\t16\n",
      "crustaceans\t16\n",
      "lying on one side, with uplifted upper part of the body and leaning on the arm - AA - female human figure\t16\n",
      "an angel shows John the New (Heavenly) Jerusalem coming down from heaven; sometimes Christ is shown leading his lambs to the city\t16\n",
      "John the Baptist as child ~ Madonna-representations (N.B. secondary notation only)\t16\n",
      "chest, bust - AA - female human figure\t16\n",
      "landscape symbolizing June\t16\n",
      "domestic waterbirds\t16\n",
      "spring landscape; landscape symbolizing spring (the four seasons of the year)\t16\n",
      "buying and selling\t16\n",
      "churning\t16\n",
      "Egyptian hieroglyphs\t16\n",
      "'jeu de boules'\t16\n",
      "absolution, forgiveness of sins ~ part of the confession\t16\n",
      "possession (by demons)\t16\n",
      "wild man, wodewose, woodehouse\t16\n",
      "calling of Matthew (Levi), the tax-collector (usually with money lying on the table and people paying taxes) (Matthew 9:9; Mark 2:14; Luke 5:27-28)\t16\n",
      "'Astronomia' (~ quadrivium); 'Astronomia' (Ripa)\t16\n",
      "artist's model, sitter\t16\n",
      "Christ as Good Shepherd\t16\n",
      "allegory, personification of good government\t16\n",
      "public worship and liturgy of the Christian churches\t16\n",
      "throwing snowballs\t16\n",
      "Bellona (Enyo)\t16\n",
      "Christ (in the temple) in debate with Pharisees about the tribute to Caesar (Matthew 22:15-22; Mark 12:13-17; Luke 20:20-26)\t16\n",
      "other groups of prophets\t16\n",
      "sconce, wall lamp\t16\n",
      "ornamental fountain (in village)\t15\n",
      "landscape symbolizing November\t15\n",
      "dogs (circus performance)\t15\n",
      "fabulous animals ~ fishes\t15\n",
      "prisoner with hands bound\t15\n",
      "laid table as still life\t15\n",
      "visiting the sick, 'aeger curatur' ~ one of the (seven) Acts of Mercy\t15\n",
      "dancing at wedding feast - DD - out of doors\t15\n",
      "Mary sitting or enthroned, the Christ-child on her knee (Christ-child to Mary's left)\t15\n",
      "the poor\t15\n",
      "kitchen-interior with foodstuffs in foreground (Dutch: 'keukenstuk')\t15\n",
      "vision\t15\n",
      "forest path or lane\t15\n",
      "anatomy lesson\t15\n",
      "resurrection of the dead ~ Last Judgement\t15\n",
      "representation of Last Judgement, with the archangel Michael weighing the souls (or dividing the blessed and the damned)\t15\n",
      "Forethought, Deliberation; 'Previdenza', 'Providenza' (Ripa)\t15\n",
      "coral reef\t15\n",
      "representants of the Church (Christians in general, laymen, monks, etc.) in strife with each other or with opponents\t15\n",
      "abbot\t15\n",
      "Vestal virgin(s)\t15\n",
      "trunk, suit-case\t15\n",
      "love towards God; 'Amore verso Iddio' (Ripa)\t15\n",
      "academy, association of artists\t15\n",
      "birth of Adonis: the tree splits open to release the baby; the Naiads take care of him\t15\n",
      "the vision of the Lamb and the book with the seven seals\t15\n",
      "washing and bathing - AA - in the open air\t15\n",
      "binding ~ harvest\t15\n",
      "mining\t15\n",
      "architectural folly\t15\n",
      "voluntary abdication (of a ruler)\t15\n",
      "(carrying a person on a) litter, stretcher\t15\n",
      "Capricorn (zodiacal sign of December)\t15\n",
      "shooting-the-bird (on a high pole)\t15\n",
      "profane heart symbolism ~ love\t15\n",
      "raising of the daughter of Jairus, who is lying in bed (Matthew 9:18-19, 9:23-26; Mark 5:21-24, 5:35-43; Luke 8:40-42, 8:49-56)\t15\n",
      "assault ~ siege\t15\n",
      "landscape symbolizing March\t15\n",
      "Christ-child together with others\t15\n",
      "boots\t15\n",
      "wreck ashore\t15\n",
      "Leo (zodiacal sign of July)\t15\n",
      "conductor ~ music\t15\n",
      "the sailors reluctantly throw the prophet Jonah into the sea\t15\n",
      "tree of Jesse: genealogical tree showing Christ's ancestors, sprouting from Jesse's loins\t15\n",
      "Inspiration; 'Ispiratione' (Ripa)\t15\n",
      "man kneeling before his beloved (proposing)\t15\n",
      "toll gate\t15\n",
      "ramming, driving piles (~ building activities)\t15\n",
      "groups of persons from the Old Testament\t15\n",
      "father-love\t15\n",
      "coronation of Mary by one or more angels\t15\n",
      "violent death, being killed; being mishandled and maltreated; seeking death - EE - death not certain; wounded person\t15\n",
      "the four major prophets (not in biblical context): Isaiah, Jeremiah, Ezekiel, Daniel\t15\n",
      "merchant, salesman - BB - women engaged in trade and commerce\t15\n",
      "double-headed eagle\t15\n",
      "saluting\t15\n",
      "lynching\t15\n",
      "coronation of Mary by God the Father and Christ\t15\n",
      "those that are invited to the royal wedding-feast excuse themselves\t15\n",
      "tiles, bricks ~ building material\t15\n",
      "a large fish appears while Tobias is washing his feet; he is frightened\t15\n",
      "athletics, gymnastics\t15\n",
      "Adam and Eve discover their nakedness; they cover themselves with their hands or with leaves\t15\n",
      "places and objects of worship ~ non-Christian religions\t15\n",
      "Christ suffering (with crown of thorns, head usually turned sidewards)\t15\n",
      "Mount Sinai is covered by a thick cloud, thunder and lightning\t15\n",
      "animal sacrifice ~ Roman religion\t15\n",
      "leprosy\t15\n",
      "flight of ruler from adversary\t15\n",
      "body-burning, cremation\t15\n",
      "river bank - HH - ideal landscapes\t15\n",
      "the widow's mite: Christ draws the disciples' attention to a woman who puts a few coins in the temple's money chest (Mark 12:41-44; Luke 21:1-4)\t15\n",
      "cleaning fruit, e.g. peeling\t15\n",
      "swing\t15\n",
      "the spies take away some of the fruits of Canaan and return, usually carrying a large bunch of grapes on a pole\t15\n",
      "cities represented allegorically or symbolically\t15\n",
      "friendship between man and animal; caressing, petting\t15\n",
      "picture within picture\t15\n",
      "violent death by crucifixion\t15\n",
      "Madonna: Mary sitting on the ground, the Christ-child in her lap\t15\n",
      "'Vera Icon', 'Sudarium', Veronica-portrait\t15\n",
      "a bird dropping falls in Tobit's eyes\t15\n",
      "December and its 'labours'\t15\n",
      "homage to a ruler\t15\n",
      "nimbus, halo ~ radiance emanating from persons or things\t15\n",
      "September and its 'labours'\t15\n",
      "March and its 'labours'\t15\n",
      "October ~ other concepts\t15\n",
      "December ~ other concepts\t15\n",
      "Love personified\t15\n",
      "attributes of Hercules\t15\n",
      "bascule bridge \t14\n",
      "(personifications and symbolic representations of) Love; 'Amore (secondo Seneca)' (Ripa)\t14\n",
      "handicrafts ~ maintenance and repair\t14\n",
      "persons engaged in trade and commerce\t14\n",
      "shore-birds and wading-birds\t14\n",
      "married couple of unequal age\t14\n",
      "singer without accompaniment\t14\n",
      "landscape symbolizing February\t14\n",
      "wool (material ~ textile industry)\t14\n",
      "Tobias and the angel Raphael continue their journey; usually Tobias carrying the fish\t14\n",
      "the Samaritan pays the innkeeper\t14\n",
      "carrying the sick, wounded and dead off the battle-field\t14\n",
      "rod, birch ~ punishment at school\t14\n",
      "miser\t14\n",
      "human figure at (open) window\t14\n",
      "Jupiter and Juno as lovers\t14\n",
      "pit, hole\t14\n",
      "landscape with bridge, viaduct or aqueduct - II - ideal landscapes\t14\n",
      "David communicating with God; David praying (in general)\t14\n",
      "dragon (large fabulous serpent, sometimes with wings and legs)\t14\n",
      "assembling of military forces; mobilization, troop concentration, etc.\t14\n",
      "mother and son(s) (family group)\t14\n",
      "the giving of the test commandment: God warns Adam and Eve not to eat from the tree of knowledge of good and evil\t14\n",
      "martyrdom of John in front of the Porta Latina: he is put in a cauldron of boiling oil, but remains unharmed\t14\n",
      "Solomon's idolatry\t14\n",
      "herald\t14\n",
      "watch-dog, dog watching\t14\n",
      "dyeing of cloth\t14\n",
      "'commedia dell'arte'\t14\n",
      "Childhood (alleg.)\t14\n",
      "the man (Adam) comes to life: usually God reaches out his hand or breathes life into his nostrils\t14\n",
      "'décolleté'\t14\n",
      "'all these will I give you' (= the glory of the world) ~ temptation of Christ in the wilderness\t14\n",
      "Adam and Eve discover the dead body of Abel and grieve over it\t14\n",
      "Welfare, Prosperity; 'Felicità publica', 'Prosperità della vita', 'Salute' (Ripa)\t14\n",
      "'Castità', 'Pudicitia', 'Vergogna honesta' (Ripa)\t14\n",
      "(person under sentence of death) on the way to the scaffold or place of execution\t14\n",
      "the seven Sacraments of the Roman Catholic Church\t14\n",
      "the poet and his muse\t14\n",
      "Moses strikes the rock twice in front of the assembled people and water gushes out; the people quench their thirst\t14\n",
      "groups of birds\t14\n",
      "Boreas abducting Orithyia\t14\n",
      "non-aggressive, friendly or neutral activities and relationships of Venus\t14\n",
      "man abducting woman\t14\n",
      "oven ~ kitchen - CC - in the open air\t14\n",
      "the wicked husbandmen ~ parable of Christ (Matthew 21:33-41; Mark 12:1-9; Luke 20:9-16)\t14\n",
      "Pentecost, Whitsunday\t14\n",
      "the New Jerusalem\t14\n",
      "decoration and illumination of streets, squares, etc. (~ triumphal entry, etc.)\t14\n",
      "adult Christ together with apostles, evangelists, saints, etc.\t14\n",
      "the demons enter into a herd of swine, which leap into the sea ~ healing of two possessed at Gerasa\t14\n",
      "an angel appears, summoning Peter to wake up ~ Peter in prison\t14\n",
      "anyone who is bitten by a snake is cured by looking at the brazen serpent; the serpent (or dragon) is usually depicted on a tau-shaped cross or on a pillar\t14\n",
      "Simon the Cyrenian compelled to help Christ to bear the cross\t14\n",
      "representations ~ goddesses, demi-goddesses, heroines etc. (Hinduism, Buddhism or Jainism)\t14\n",
      "removing insects from body\t14\n",
      "clarinet, bassoon, oboe, shawm\t14\n",
      "pillow\t14\n",
      "postures and gestures of arms and hands\t14\n",
      "pump (fire-extinguishing equipment)\t14\n",
      "going to the market\t14\n",
      "negotiations, conference ~ diplomacy\t14\n",
      "naming of John the Baptist; Zacharias writing John's name\t14\n",
      "being refused, the proposal rejected\t14\n",
      "politics\t14\n",
      "Tobias captures the fish and pulls it on the land\t14\n",
      "Christ saves Peter from drowning\t14\n",
      "drum (musical instrument) - CC - out of doors\t14\n",
      "public funeral\t14\n",
      "giving food\t14\n",
      "boat-house, shed\t14\n",
      "the dove returns with an olive-branch ~ story of Noah\t14\n",
      "those who lap water by putting their hand to their mouth are separated from those who kneel down to drink the water ~ selection of Gideon's men\t14\n",
      "Christ standing on or near a fountain, shedding his blood\t14\n",
      "Cupid shooting a dart\t14\n",
      "landscape symbolizing July\t14\n",
      "angel(s) with torch\t14\n",
      "barn - AA - civic architecture: inside\t14\n",
      "Christ healing lepers\t14\n",
      "materialization, appearance of spirit or ghost\t14\n",
      "crocodiles\t14\n",
      "landscape symbolizing April\t14\n",
      "the Christ-child crowning Mary ~ Madonna-representations\t14\n",
      "Scorpio (zodiacal sign of October)\t14\n",
      "cannibalism\t14\n",
      "child (at home) - AA - girl\t14\n",
      "servant\t14\n",
      "trellis\t14\n",
      "herms (garden ornaments)\t14\n",
      "marriage contract\t14\n",
      "(family) meal - CC - out of doors\t14\n",
      "peninsula\t14\n",
      "Tobit buries a dead man at night\t14\n",
      "Ahasuerus holds out his sceptre to Esther (Esther usually kneeling)\t14\n",
      "marriage ~ Protestant service\t14\n",
      "crown (symbol of sovereignty) - BB - female ruler\t14\n",
      "Joab stabs Absalom with three spears\t14\n",
      "battle of the Giants against the gods: gigantomachy\t14\n",
      "speaking\t14\n",
      "accessories ~ fire-place\t14\n",
      "gathering of the waters below the firmament; dry land appears and produces all kinds of plants\t14\n",
      "the anointment of Saul by Samuel\t13\n",
      "announcement, proclamation of laws\t13\n",
      "Genesis: the story of Joseph\t13\n",
      "taking the oath ~ military service\t13\n",
      "Christ-child holding something in his hand, e.g. apple, bird, cherries, crucifix, grapes, paper wind-mill ~ Madonna-representations\t13\n",
      "locations for trading\t13\n",
      "Charon, the ferryman\t13\n",
      "landscape symbolizing August\t13\n",
      "decorating 'en relief', appliquéing\t13\n",
      "agriculture, cattle-breeding, horticulture, flowerculture, etc.\t13\n",
      "landscape with bridge, viaduct or aqueduct\t13\n",
      "the prophet Habakkuk, carried by his hair by an angel, brings food to Daniel who sits unharmed between the lions\t13\n",
      "rural life\t13\n",
      "hand in the pocket - AA - both arms or hands\t13\n",
      "triumph of Venus; 'Carro di Venere' (Ripa)\t13\n",
      "fugacity of Time\t13\n",
      "the tree of knowledge of good and evil (whose fruit, usually apples or figs, brings death); the tree may be guarded by the serpent\t13\n",
      "'pleurants'\t13\n",
      "Calliope (one of the Muses); 'Calliope' (Ripa)\t13\n",
      "specific types of crucified Christ (in non-narrative context)\t13\n",
      "Mary devotion\t13\n",
      "Christ sends apostles out in pairs (Matthew 10:1-16; Mark 6:7-11; Luke 9:1-5)\t13\n",
      "creation of the animals ~ Genesis\t13\n",
      "Womanhood\t13\n",
      "prospect of city, town panorama, silhouette of city - II - ideal city\t13\n",
      "lives and acts of the apostles (part I)\t13\n",
      "Hercules at the cross-roads, 'Herkules am Scheidewege': the choice of Hercules\t13\n",
      "insignia, seal ~ university\t13\n",
      "geographical names of countries, regions, mountains, rivers, etc.\t13\n",
      "specific aspects, allegorical aspects of Hercules; Hercules as patron\t13\n",
      "salamander (fabulous animal); salamander as spirit of fire\t13\n",
      "wigmaker, 'perruquier'\t13\n",
      "the prodigal son asks for his inheritance; his father gives him (a bag of) money\t13\n",
      "postures of the human figure - AA - female human figure\t13\n",
      "violin, fiddle - CC - out of doors\t13\n",
      "cleaning vegetables\t13\n",
      "the Christ-child and John the Baptist (as child)\t13\n",
      "Daniel's punishment and liberation: Daniel in the lion's den ~ King Darius\t13\n",
      "drawing-instruments\t13\n",
      "machines, engines ~ crafts and industries\t13\n",
      "Shimei curses David and casts stones at him\t13\n",
      "other scenes from Ezra and Esdras\t13\n",
      "high-school riding\t13\n",
      "hand on the hip\t13\n",
      "'Acqua', 'Carro dell'acqua' (Ripa)\t13\n",
      "rabbi\t13\n",
      "flags (~ signalling)\t13\n",
      "legends and miracles associated with the Eucharist (or the Host)\t13\n",
      "landscape symbolizing September\t13\n",
      "recreation in the dunes\t13\n",
      "cannon shots (military salute)\t13\n",
      "the book of Proverbs\t13\n",
      "the meeting of parents and son ~ Tobias' return\t13\n",
      "Christ taken up by a cloud ~ Ascension\t13\n",
      "'Immaculata', 'Purisima': Mary, usually standing on a crescent moon, descending from heaven, exempt from original sin (sometimes trampling serpent)\t13\n",
      "Phaethon asks Apollo (Sol) for the chariot of the sun\t13\n",
      "Christ-child ~ types of adult Christ\t13\n",
      "banderole\t13\n",
      "Mercury steals the flock which Apollo is tending, Battus present\t13\n",
      "ferns\t13\n",
      "Mordecai's triumph: Mordecai, mounted on the king's horse, is led through the city by Haman (Esther and Ahasuerus may be looking on from the palace)\t13\n",
      "Gideon presses the fleece and wrings out a bowl full of water\t13\n",
      "to his astonishment King Nebuchadnezzar sees four men (one of them usually represented as an angel) in the furnace; the king commands them to come forth\t13\n",
      "planets; planetary system, solar system\t13\n",
      "the plague of the first-born: the destroying angel passes through the land and kills every Egyptian first-born of man and animal\t13\n",
      "the meeting between Esau and Jacob\t13\n",
      "looking upwards\t13\n",
      "worms\t13\n",
      "Cupid and Psyche as lovers\t13\n",
      "Christ's body supported by Mary, others present\t13\n",
      "Jephthah's daughter dances with tambourines to meet her father on his return from the battle; Jephthah rends his clothes in despair\t13\n",
      "studio ~ photographer\t13\n",
      "'Fuoco', 'Carro del fuoco' (Ripa)\t13\n",
      "sacrifice of animals ~ Jewish religion\t13\n",
      "the defeated before the victor\t13\n",
      "Despair; 'Disperatione' (Ripa)\t13\n",
      "more than one musician with instrument - CC - 'concert champêtre'\t13\n",
      "man killing animal\t13\n",
      "sphere, globe ~ stereometry\t13\n",
      "the evangelists writing\t13\n",
      "dry-dock, floating-dock\t13\n",
      "the Roman Catholic Church vs. Protestantism; (Reformation and Counter Reformation)\t13\n",
      "the defeated (after the battle)\t13\n",
      "spring, source of river or stream\t13\n",
      "crucified Christ with other persons\t13\n",
      "monumental adornments (in city)\t13\n",
      "the twelve tribes of Israel (not in biblical context)\t13\n",
      "killing ~ aggressive relationships\t13\n",
      "flying\t13\n",
      "banishment, exile\t13\n",
      "burning\t13\n",
      "Christ taking leave of Mary, usually Mary Magdalene present\t13\n",
      "anonymous historical persons portrayed in a double portrait - BB - woman\t13\n",
      "Christ's body lying on the ground\t13\n",
      "fancy fair\t13\n",
      "sleeves\t13\n",
      "Rome (one of the four world empires)\t13\n",
      "May and its 'labours'\t13\n",
      "wedding ring\t13\n",
      "the elders are stoned to death ~ story of Susanna\t13\n",
      "Adam and Eve holding (and possibly eating) the fruit\t13\n",
      "representations ~ gods, demi-gods, heroes, etc. (Hinduism, Buddhism, Jainism)\t13\n",
      "façade of inner court\t13\n",
      "the sacrifice of Cain and Abel: Abel offers a lamb, Cain usually a sheaf of corn\t13\n",
      "egg-cup\t13\n",
      "with an ass's jaw-bone Samson slays a thousand Philistines\t12\n",
      "Christ disrobed\t12\n",
      "Judas goes out to the chief priests, betrays Christ and receives the reward (Matthew 26:14-16; Mark 14:10-11; Luke 22:4-6)\t12\n",
      "Naiads, river- and spring-nymphs; usually carrying an urn; 'Naiadi, ninfe de' fiumi' (Ripa)\t12\n",
      "the martyrdom of the seven Maccabean brothers and their mother under Antiochus IV Epiphanes (2 Maccabees 7)\t12\n",
      "shadow\t12\n",
      "chamber-pot\t12\n",
      "Christ appears to the apostles (gathered behind locked doors)\t12\n",
      "scroll\t12\n",
      "Boaz speaks to Ruth; Ruth usually bowing down, or kneeling before him\t12\n",
      "carrying something with carrying-pole\t12\n",
      "series of designs, models, etc. of one architectural project\t12\n",
      "oaring, sculling\t12\n",
      "colonial government\t12\n",
      "nails (fingers)\t12\n",
      "assembly-room\t12\n",
      "landscape symbolizing May\t12\n",
      "spinet, virginal\t12\n",
      "habit, frock\t12\n",
      "Noah building the ark with the help of his sons\t12\n",
      "an eagle tears at Prometheus' liver\t12\n",
      "Christ preaching in the open\t12\n",
      "picking fruit\t12\n",
      "triumph of Joseph: dressed in a royal attire he rides in one of Pharaoh's chariots, preceded by a herald\t12\n",
      "the dedication of the golden statue: in the presence of King Nebuchadnezzar, trumpets are blown and all the people surrounding the image fall on their knees\t12\n",
      "Jacob moves the stone which covers the opening of the well and waters Rachel's sheep\t12\n",
      "Samson carries the doors on his shoulders to the top of a hill near Hebron\t12\n",
      "needle ~ sewing\t12\n",
      "Paul in Athens: on the Areopagus he discusses with philosophers (in front of the temple of Mars)\t12\n",
      "Jacob kisses Rachel and is moved to tears\t12\n",
      "Industriousness, Assiduity; 'Assiduità', 'Industria', 'Zelo' (Ripa)\t12\n",
      "pregnant woman\t12\n",
      "other Nereids (or sea-nymphs)\t12\n",
      "creation of land-animals\t12\n",
      "Olympus\t12\n",
      "meteorological phenomena\t12\n",
      "friends\t12\n",
      "painting ~ applied arts\t12\n",
      "on seeing the idolaters Moses breaks the tables of the law\t12\n",
      "Hinduism, Buddhism, Jainism\t12\n",
      "ritual practices ~ Hinduism, Buddhism, Jainism\t12\n",
      "church bell\t12\n",
      "man between Good and Evil\t12\n",
      "hunting butterflies\t12\n",
      "lift-lock, canal lock\t12\n",
      "merry-go-round, roundabout; chair o'plane\t12\n",
      "triumph of Galatea, Polyphemus playing the syrinx\t12\n",
      "Christ, perhaps dressed as a pilgrim, appearing to his mother, who is usually shown praying\t12\n",
      "speculative boom\t12\n",
      "'Sapientia', mother of the Seven Virtues\t12\n",
      "marching away (troops)\t12\n",
      "palmette ~ ornament\t12\n",
      "kneeling on both knees - AA - female human figure\t12\n",
      "artist (in general) making preliminary designs, sketching\t12\n",
      "while the sower and his servants slept, his enemy (the Devil) sowed tares among the wheat\t12\n",
      "Jacob blesses his sons\t12\n",
      "Saphan reads the book of Law aloud to the king who tears his clothes in dismay\t12\n",
      "barricades ~ riot\t12\n",
      "first dream of Joseph: the eleven sheaves of wheat of his brothers form a circle round Joseph's sheaf and bow down\t12\n",
      "transport, train (military)\t12\n",
      "statistic diagram, graph; pictorial chart, etc.\t12\n",
      "angels in adoration\t12\n",
      "sodomy, sexual contact between men\t12\n",
      "plague\t12\n",
      "accidents with lightning\t12\n",
      "during Belshazzar's banquet a hand appears and writes on the wall (MENE, MENE, TEKEL and PARSIN (UPHARSIN)); King Belshazzar is frightened\t12\n",
      "(story of) Galatea; 'Galatea' (Ripa)\t12\n",
      "lion (possibly with book) ~ symbol of St. Mark\t12\n",
      "the story of Aeneas' wanderings to Italy (Virgil, Aeneid)\t12\n",
      "Ananias, rebuked by Peter, falls down and dies between his gifts\t12\n",
      "'Aria', 'Carro dell'aria' (Ripa)\t12\n",
      "God calls Adam and Eve to account for their deed\t12\n",
      "other kinds of grave-markers, e.g. cross\t12\n",
      "the iron age, 'Aetas ferrea'; characterized by Mars, war and rapine\t12\n",
      "the Four Cardinal Virtues\t12\n",
      "the book of Jonah\t12\n",
      "the animals enter the ark\t12\n",
      "child(ren) with one or both parents and one or more members of the preceding generation (family group)\t12\n",
      "Jacob blesses Manasseh and Ephraim with arms crossed; Joseph may be shown trying to uncross them or expressing (with Asenath) his disapproval\t12\n",
      "Christ arrives at the entrance of hell and breaks the door(s)\t12\n",
      "slave-trade\t12\n",
      "Christ is laid down ~ descent from the cross\t12\n",
      "outing, pleasure trip\t12\n",
      "Hercules strangles two serpents in his cradle\t12\n",
      "launching a ship\t12\n",
      "loose company\t12\n",
      "midday meal, lunch\t12\n",
      "ceremonial laying of the foundations, laying the first stone\t12\n",
      "David kills a lion and a bear (or tells Saul about it)\t12\n",
      "the king sees a guest without a wedding garment: 'bind him hand and foot .. and cast him into the outer darkness' ~ parable of the royal wedding-feast\t12\n",
      "bleeding, blood-letting, e.g.: with the aid of cupping-glasses\t12\n",
      "'Dialectica' (~ trivium); 'Dialettica' (Ripa)\t12\n",
      "sport-tournament\t12\n",
      "Moses and Aaron before Pharaoh; Aaron performs the miracle of the rod changing into a snake\t12\n",
      "ballet group; dancers on the stage\t12\n",
      "Io changed into a cow: to avoid detection by Juno, Jupiter changes Io into a cow (Ovid, Metamorphoses I 611)\t12\n",
      "the incredulity of Thomas\t12\n",
      "as Elijah prays, God sends fire which burns up not only his sacrifice but also the altar itself; the people fall prostrate\t12\n",
      "fables of Aesop : Use 85(...)\t12\n",
      "hunting accidents\t12\n",
      "Hermaphroditus and Salmacis changed into a hermaphrodite: at the prayer of the fountain-nymph Salmacis, who holds the bathing Hermaphroditus closely embraced, their bodies fuse (Ovid, Metamorphoses IV 373)\t12\n",
      "Joseph's dreams\t12\n",
      "wood and park (as places of recreation)\t12\n",
      "spirit (or soul) versus body\t12\n",
      "lace-making\t12\n",
      "family of the sovereign\t12\n",
      "sea\t12\n",
      "raising of the cross to which Christ is nailed already\t12\n",
      "the Tiburtine sibyl and Augustus: the sibyl reveals to the emperor a vision of the Madonna in heaven\t12\n",
      "Shrove Tuesday\t12\n",
      "adoration of the Host, e.g. perpetual adoration\t12\n",
      "Christ's body supported\t12\n",
      "Vulcan in his smithy\t12\n",
      "group of men (folk dancing)\t12\n",
      "picnic, alfresco, 'déjeuner sur l'herbe'\t12\n",
      "Humility; 'Humiltà' (Ripa)\t12\n",
      "Anna brings home a young goat: Tobit thinks she has stolen it\t12\n",
      "the fall of the damned ~ Last Judgement\t12\n",
      "meal at the house of Simon the Pharisee (Luke 7:36-50)\t12\n",
      "Strength, Power; 'Fortezza', 'Fortezza d'Animo e di corpo', 'Fortezza del corpo congiunta con la generosità dell'animo', 'Fortezza & valore del corpo congiunto con la prudenza & virtù del animo', 'Forza' (Ripa)\t11\n",
      "the building of the ark, and the embarkation (Genesis 7:5-9)\t11\n",
      "story of David and Goliath (1 Samuel 17)\t11\n",
      "hunter fighting a lion\t11\n",
      "Judith shows Holofernes' head to the people\t11\n",
      "the lost sheep sought and found by the shepherd ~ parable of the good shepherd (Matthew 18:12-14; Luke 15:4-7)\t11\n",
      "bringing gifts; exchanging gifts\t11\n",
      "Christ as child or youth (in general) ~ Christian religion\t11\n",
      "rich kitchen\t11\n",
      "activities of devil(s)\t11\n",
      "mother with son(s) and daughter(s) (mother-love)\t11\n",
      "knapsack, rucksack\t11\n",
      "Temptation and Fall (Genesis 3:1-7)\t11\n",
      "discussion with Pharisees about the plucking of corn\t11\n",
      "hand in the pocket\t11\n",
      "Cacus, the fire-breathing monster is killed in his cave by Hercules\t11\n",
      "animal mounts; pack-animals\t11\n",
      "animal-drawn sledge (Dutch: 'toeslede')\t11\n",
      "allegory of Time and Eternity\t11\n",
      "kitchen-utensils\t11\n",
      "institution of the Eucharist, i.e. Christ showing or blessing bread (host) and/or wine (Matthew 26:26-27; Mark 14:22-23; Luke 22:19-20; John 13:26; 1 Corinthians 11:23-25)\t11\n",
      "death of Orpheus: he is torn to pieces by the Thracian women during a Bacchic orgy\t11\n",
      "Sacrifice\t11\n",
      "representations ~ gods, demi-gods, heroes, etc. (traditional Chinese religions)\t11\n",
      "river - HH - ideal landscapes\t11\n",
      "hunt ~ hoofed animals\t11\n",
      "artist on his deathbed\t11\n",
      "string instruments (bowed)\t11\n",
      "Io as a cow watched by Argus\t11\n",
      "the wise virgins are let into the house with the bridegroom (Christ); the foolish virgins are shut out\t11\n",
      "devil or demons attacking mortals\t11\n",
      "the making of the Tabernacle and its accessories ~ Exodus\t11\n",
      "exhibition of wealth\t11\n",
      "personification of the afternoon, 'Meridies'\t11\n",
      "(12) Cerberus captured and carried away by Hercules\t11\n",
      "children singing\t11\n",
      "Jonah sulking (Jonah 4)\t11\n",
      "the Trojan war (94C - 94H)\t11\n",
      "the beheading of Paul; maybe three fountains spring from his head\t11\n",
      "Moses comes down with the new tablets and is awaited by Aaron and the assembled people, who notice that 'his face is shining' (Moses' face is depicted with rays of light or with horns)\t11\n",
      "Rebekah offers Eliezer a drink from her pitcher\t11\n",
      "buried alive (violent death)\t11\n",
      "tug, pusher tug\t11\n",
      "interrupted meeting, lovers caught by surprise\t11\n",
      "recreation ~ the soldier off duty\t11\n",
      "giving the thirsty to drink, 'sitiens potatur' ~ one of the (seven) Acts of Mercy\t11\n",
      "Achilles discovered among the daughters of Lycomedes, i.e. Achilles on Scyros: when presents are brought Achilles snatches up the weapons and thus betrays his identity\t11\n",
      "Luck, Fortune, Lot; 'Fato', 'Fortuna', 'Fortuna aurea', 'Fortuna buona', 'Fortuna pacifica overo clemente', 'Sorte' (Ripa)\t11\n",
      "inauguration, consecration of person(s) ~ church\t11\n",
      "Lot's wife looks back at the city and is transformed into a pillar of salt\t11\n",
      "the Archangel Gabriel\t11\n",
      "July ~ other concepts\t11\n",
      "when Abraham has his hand raised to kill Isaac, God or the hand of God restrains Abraham's hand\t11\n",
      "family, relationship, descent\t11\n",
      "Priapus-herm\t11\n",
      "Potiphar's wife trying to seduce Joseph\t11\n",
      "glass of beer\t11\n",
      "the plague of frogs: Aaron stretches out his hand over the water of Egypt; frogs come out and cover the land\t11\n",
      "woman giving birth (lying-in)\t11\n",
      "when the brook dries up, Elijah crosses over to the city of Zarephath; at the gate he meets a woman and her little son gathering wood (the woman's sticks may form a cross)\t11\n",
      "tools, implements of draughtsman\t11\n",
      "Christ is led away ~ Garden of Gethsemane\t11\n",
      "the angel Raphael disappears into the sky\t11\n",
      "toddler (female)\t11\n",
      "carrying a person on one's back\t11\n",
      "angel(s) catching Christ's blood in cup(s)\t11\n",
      "(story of) Proserpina (Persephone, Core), Libera\t11\n",
      "Joseph sold into slavery and taken to Egypt (Genesis 37:12-35)\t11\n",
      "'Pietas'; 'Pietà' (Ripa)\t11\n",
      "geese (domestic waterbirds)\t11\n",
      "building or outbuilding where laundry is done\t11\n",
      "veneration of Bacchus\t11\n",
      "the first of the seven angels sounds the trumpet: hail, fire and blood is cast upon the earth\t11\n",
      "story teller; listening to story teller\t11\n",
      "Deucalion's flood; Jupiter sends a great flood to destroy mankind; Deucalion and Pyrrha afloat\t11\n",
      "pharmacy, pharmaceutics\t11\n",
      "the six days of creation (Genesis 1:3-25)\t11\n",
      "Coronis changed into a crow: to escape the love of Neptune, Coronis, daughter of Coroneus, is changed into a crow by Minerva (Ovid, Metamorphoses II 569)\t11\n",
      "'jeu de volant', badminton\t11\n",
      "hunter - CC - female hunter, huntress\t11\n",
      "priests ~ hierarchy of priests\t11\n",
      "the story of Esther\t11\n",
      "Christ triumphing (with crown, head usually upright)\t11\n",
      "Saturn and his children ('Planetenkinder')\t11\n",
      "prison personnel: jailers, warders, guards\t11\n",
      "law and jurisprudence\t11\n",
      "waffles\t11\n",
      "Christ in a boat with the apostles, talking or sleeping\t11\n",
      "historical persons (portraits and scenes from the life) - BB - woman\t11\n",
      "voting, election\t11\n",
      "shelter ~ military service\t11\n",
      "violent death by strangling\t11\n",
      "Hercules carries the heavens on his shoulders\t11\n",
      "Zedekiah is captured by the Babylonians\t11\n",
      "leper's procession\t11\n",
      "provincial government\t11\n",
      "vegetables and fruit; still life of vegetables and fruit\t11\n",
      "lower angel(s)\t11\n",
      "Jeremiah is released from the dungeon\t11\n",
      "victor (after the battle)\t11\n",
      "protective weapons\t11\n",
      "the Golden Fleece, hanging on an oak-tree, is seized by Jason\t11\n",
      "November and its 'labours'\t11\n",
      "anthropomorphic beings (legendary or not) with heads, limbs or organs of an abnormal number, in abnormal places or of an abnormal shape)\t11\n",
      "pestle and mortar\t11\n",
      "industries ~ food, drink, stimulants\t11\n",
      "Abraham provides Hagar and Ishmael with bread and a jug of water\t11\n",
      "bonfire\t11\n",
      "passions, emotions, affections\t11\n",
      "afternoon tea\t11\n",
      "Holy Kinship\t11\n",
      "riding on animal other than horse, ass, or mule\t11\n",
      "improvised musical instruments (kitchen-utensils, etc.)\t11\n",
      "mistress\t11\n",
      "river mouth, estuary\t11\n",
      "sanguine temperament\t11\n",
      "watching a sleeping child\t11\n",
      "spanking, drubbing (of naughty children)\t11\n",
      "fraudulence, swindling\t11\n",
      "the sorcerer Elymas (Elymes, Bar-Jesus), who tries to prevent Paul and Barnabas from speaking, is struck blind by Paul\t11\n",
      "Peter steps out of the boat and tries to walk on the water towards Christ\t11\n",
      "the head of John the Baptist on a platter\t11\n",
      "burial rites\t11\n",
      "(story of) Saturn (Cronus)\t11\n",
      "the risen Christ (with wounds, but without crown of thorns), sometimes holding the cross\t11\n",
      "coach-house\t11\n",
      "city council\t11\n",
      "rescue from fire\t11\n",
      "John the Baptist in prison\t10\n",
      "hunting accoutrement\t10\n",
      "rejoicing on special occasions\t10\n",
      "female persons from the Old Testament (not in biblical context)\t10\n",
      "the ark ~ story of Noah\t10\n",
      "'Astrologia' (Ripa)\t10\n",
      "in Pilate's palace Christ is mocked by soldiers (Luke 22:63-65)\t10\n",
      "hunger\t10\n",
      "Neptune as lord of the sea\t10\n",
      "Moses, kneeling before the bush and hiding his face, listens to God\t10\n",
      "Saul and the witch of Endor (1 Samuel 28:3-25)\t10\n",
      "Mercury falls in love with Herse, when seeing her and her companions carry baskets full of flowers to the temple\t10\n",
      "parental love\t10\n",
      "fruit-tree culture; fruit harvest\t10\n",
      "handicrafts ~ metal\t10\n",
      "male infant\t10\n",
      "triumph of the Church (or Religion)\t10\n",
      "(story of) Atlas\t10\n",
      "ship bound for the harbour\t10\n",
      "chalice bearing the Host\t10\n",
      "sensuality\t10\n",
      "Jupiter, usually in the shape of a white bull, abducts Europa and carries her across the water\t10\n",
      "machine driven by steam\t10\n",
      "messengers present themselves to Job, each reporting a new disaster\t10\n",
      "Shem and Japheth cover their father Noah; Ham usually stands nearby deriding him\t10\n",
      "whole figure, sitting or standing of the Man of Sorrows\t10\n",
      "Orpheus and Eurydice\t10\n",
      "Sarah's burial in the cave of Machpelah\t10\n",
      "assembling, 'départ pour la chasse'\t10\n",
      "clay tablet, stone tablet\t10\n",
      "putting on (tying) or taking off (untying) sandals or shoes\t10\n",
      "worship and devotion ~ non-Christian religions\t10\n",
      "the plague of hail: Moses raises his rod towards the sky, and hail and fire fall to the ground\t10\n",
      "Phineus and his attendants are turned into stone\t10\n",
      "the plague of locusts: as Moses raises his hands the locusts come and eat everything that has survived the hail\t10\n",
      "cup of coffee\t10\n",
      "appearance of Christ at the Lake of Gennesaret (Sea of Galilee, Sea of Tiberias): miraculous draught of fishes (after the Resurrection)\t10\n",
      "the people of Judah, except the poorest, are taken to Babylonia ~ story of Zedekiah\t10\n",
      "disciples preaching and baptizing (in general)\t10\n",
      "morning ~ landscape (sometimes titled 'Aurora')\t10\n",
      "Tobit's blindness (Tobit 2 - 3:6)\t10\n",
      "canals, waters (in city) - II - ideal city\t10\n",
      "Noah and his family enter the ark\t10\n",
      "physics\t10\n",
      "sharpening pen (quill)\t10\n",
      "listening to music\t10\n",
      "lime works\t10\n",
      "Christ between seven golden candlesticks appears to John, who falls to the ground; a sword comes out of Christ's mouth and he holds seven stars in his hands\t10\n",
      "new ruler raised on the shield\t10\n",
      "Orpheus playing the lyre\t10\n",
      "Furies, Dirae (Erinyes), Eumenides; 'Furie' (Ripa)\t10\n",
      "bathroom\t10\n",
      "Neptune quieting the storm, 'quos ego' (Virgil, Aeneid I 135)\t10\n",
      "(walking on) stilts\t10\n",
      "a perfect shambles (Dutch: 'huishouden van Jan Steen')\t10\n",
      "extinct, 'historical' peoples\t10\n",
      "atlantes ~ architecture\t10\n",
      "Ark of the Covenant ~ Jewish religion\t10\n",
      "(story of) Aesculapius (Asclepius)\t10\n",
      "landscape symbolizing October\t10\n",
      "elementary school; class, form\t10\n",
      "bowling\t10\n",
      "marketing, shopping (~ household management)\t10\n",
      "the centurion of Capernaum, kneeling before Christ, begs him to heal his paralytic servant (or son) (Matthew 8:5-13; Luke 7:1-10; John 4:46-54)\t10\n",
      "arranging flowers\t10\n",
      "salt-cellar, salt-shaker\t10\n",
      "'throw yourself down' (from the temple) ~ temptation of Christ in the wilderness\t10\n",
      "one person with musical instrument, not playing\t10\n",
      "tapestry weaver, gobelin maker\t10\n",
      "litigation, legal proceedings, lawsuit\t10\n",
      "a little boy (Abas, Ascalabus, or Stellio) laughs at Ceres, because she drinks too avidly while she is resting at an old woman's house\t10\n",
      "Madonna of the Rosary\t10\n",
      "horn, trumpet, cornet, trombone, tuba - CC - out of doors\t10\n",
      "the Twelve Labours of Hercules: second series\t10\n",
      "the silver age, 'Aetas argentea'; men plough the soil and build huts\t10\n",
      "a ram caught in a thicket is sacrificed instead of Isaac\t10\n",
      "ball games\t10\n",
      "growing up\t10\n",
      "Death as man\t10\n",
      "divorce\t10\n",
      "visiting-card, calling-card\t10\n",
      "rolling up a snowball\t10\n",
      "Christ almost vanished: only feet visible ~ Ascension\t10\n",
      "ritual practices ~ American Indian religions\t10\n",
      "God expels Adam and Eve from paradise and has the tree of life guarded by an angel with a flaming sword\t10\n",
      "Adam naming the animals\t10\n",
      "military glory\t10\n",
      "Alexander (one of the nine worthies)\t10\n",
      "Hector (one of the nine worthies)\t10\n",
      "anonymous historical persons portrayed in a double portrait\t10\n",
      "'blue Monday'\t10\n",
      "adult Christ with Mary\t10\n",
      "adoration of the Christ-child by Mary\t10\n",
      "Gratitude; 'Gratitudine', 'Memoria grata de beneficii ricevuti' (Ripa)\t10\n",
      "four great beasts rising from the sea ~ Daniel's visions\t10\n",
      "oral announcement (of death), undertaker's man\t10\n",
      "Paul and Barnabas heal a cripple; the people of Lystra think they are Mercury and Jupiter\t10\n",
      "triumph of Neptune\t10\n",
      "putting out of action by wounding\t10\n",
      "Pain, Sorrow, Sadness; 'Dolore', 'Dolore di Zeusi' (Ripa)\t10\n",
      "furniture to put things on\t10\n",
      "hunting dogs beside the spoils\t10\n",
      "Carelessness\t10\n",
      "the traveller is attacked by robbers ~ parable of the good Samaritan\t10\n",
      "the Israelites march around Jericho: in the procession the main body of the soldiers comes first, next are seven priests who blow on trumpets, followed by the priests carrying the ark and a rear guard\t10\n",
      "frontispiece\t10\n",
      "Roman personifications of abstract concepts\t10\n",
      "Bacchus finds Ariadne on Naxos\t10\n",
      "hay-cock\t10\n",
      "religious and magic concepts, occupations, fashions, realities, general ideas ~ Judaism and Jewry\t10\n",
      "child teasing animals\t10\n",
      "playing with snow and ice - CC - adult(s) ~ snow and ice\t10\n",
      "a sower sowed good seeds in his field ~ tares among the wheat\t10\n",
      "the construction of the temple of Solomon\t10\n",
      "mountain climbing, mountaineering\t10\n",
      "percussion instruments\t10\n",
      "bard, lyric poet\t10\n",
      "laboratory, research room\t10\n",
      "abducting\t10\n",
      "bicycle racing\t10\n",
      "activities of angels (in heaven)\t10\n",
      "(story of) Janus\t10\n",
      "man as sinner\t10\n",
      "(story of) Ariadne and Bacchus\t10\n",
      "transport of timber, timber-trailer\t10\n",
      "Temperance, Moderation; 'Misura' (Ripa)\t10\n",
      "the servants are left behind while Abraham and Isaac (usually carrying wood) climb the mountain\t10\n",
      "container of textile material: bag, sack, net\t10\n",
      "introducing\t10\n",
      "man dressed as woman, travesty\t10\n",
      "animal sacrifice ~ non-Christian religions\t10\n",
      "tambourine - CC - out of doors\t10\n",
      "dynamics, kinetics\t10\n",
      "Cornelius the Centurion and the angel\t10\n",
      "meat; still life of meat\t10\n",
      "violent death by quartering\t10\n",
      "fettered Cupid, 'Amor Cruciatus'\t10\n",
      "satire on marriage\t10\n",
      "the Temple (in general) ~ Jewish religion\t10\n",
      "Pharos of Alexandria (Wonder of the World)\t10\n",
      "molluscs\t10\n",
      "hand made into a fist\t10\n",
      "Abraham and Lot separating (Genesis 13)\t10\n",
      "confirmation ~ the second of the seven sacraments\t10\n",
      "head of Christ with crown of thorns\t10\n",
      "Mary pierced by a sword\t10\n",
      "chiromancy, handreading, palmistry\t10\n",
      "Friendship; 'Amicitia' (Ripa)\t10\n",
      "body of the executed displayed in public\t10\n",
      "communication and transport\t10\n",
      "the narrow way ~ doctrine of Christ on love, etc.\t10\n",
      "instrumental popular music\t10\n",
      "calling of Peter and Andrew; they are called away from their fishing-boat (Matthew 4:18-20; Mark 1:16-18)\t10\n",
      "the unmerciful servant: the king forgives him his debts ~ parable of Christ (Matthew 18:23-35)\t10\n",
      "Hagar and Ishmael (often with bow and arrow) depart\t10\n",
      "symbolic representations, allegories and emblems ~ the theatre\t10\n",
      "wheel (of vehicle)\t10\n",
      "unprofessional or illegal practice, popular medicine\t10\n",
      "board, esp. governors, trustees, etc. (Dutch: 'regenten')\t10\n",
      "dancing games (children's games)\t10\n",
      "'Occasio', 'Kairos'; 'Occasione' (Ripa)\t10\n",
      "dwarfs\t10\n",
      "poor kitchen\t9\n",
      "'Medicina', allegorical representations ~ medicine; 'Medicina' (Ripa)\t9\n",
      "grape\t9\n",
      "gem, gemstone\t9\n",
      "plucked fowl\t9\n",
      "Ulysses on the island of Circe (Homer, Odyssey X)\t9\n",
      "swimming mammals\t9\n",
      "crucified Christ with Stephaton and/or Longinus\t9\n",
      "being attacked; defence\t9\n",
      "Lazarus' shroud is removed\t9\n",
      "gifts being accepted\t9\n",
      "the fume of Abel's sacrifice goes straight to heaven, whereas the smoke of Cain's offering is beaten down\t9\n",
      "swearing allegiance to a ruler\t9\n",
      "Naaman comes to the Jordan, dips himself seven times and is cured\t9\n",
      "appearances of Christ after the Resurrection\t9\n",
      "Christ brought from one judge to another\t9\n",
      "opening of grave, exhumation\t9\n",
      "Moses is pulled out of the water by the servants\t9\n",
      "leave-taking (of soldiers)\t9\n",
      "a burning bush attracts Moses' attention\t9\n",
      "Christ's body on or in the grave\t9\n",
      "martyrdom and death of Stephen\t9\n",
      "breasts giving milk\t9\n",
      "the Amalekites come to war against the Israelites (Exodus 17:8-16)\t9\n",
      "Christ preaching from a boat\t9\n",
      "feeding wild animals\t9\n",
      "small groups in single combat in place of battle\t9\n",
      "announcement of the betrayal of Christ, and the reaction of the apostles\t9\n",
      "index finger upwards\t9\n",
      "bailiff\t9\n",
      "'Sukkot', Feast of the Tabernacles\t9\n",
      "(story of) Hebe (Juventas)\t9\n",
      "dignitary at court - BB - female dignitary: lady-in-waiting\t9\n",
      "King Nebuchadnezzar dreams of a great statue\t9\n",
      "village lane, alley\t9\n",
      "God the Father holding the crucified or dead Christ\t9\n",
      "stadia of travel\t9\n",
      "studying a map\t9\n",
      "the erection of the cross: raising of the cross (without Christ)\t9\n",
      "corporal punishment in public\t9\n",
      "unequal partners\t9\n",
      "money-changer\t9\n",
      "Christ preaching in the temple\t9\n",
      "container of precious metal\t9\n",
      "seven lamps ~ 'menorah'\t9\n",
      "ugly old woman, hag\t9\n",
      "the twelve months (especially personifications); 'Mese in generale' (Ripa)\t9\n",
      "Ignorance; 'Ignoranza', 'Ignoranza di tutte le cose', 'Ignoranza in un ricco senza lettere' (Ripa)\t9\n",
      "representations ~ goddesses, demi-goddesses, heroines, etc. (non-Christian religions)\t9\n",
      "chest, bust\t9\n",
      "corporative organization, guild\t9\n",
      "governor, etc. of province\t9\n",
      "tripod\t9\n",
      "Knowledge; 'Cognitione', 'Cognitione delle cose' (Ripa)\t9\n",
      "healing of one leper, who kneels before Christ (Matthew 8:1-4; Mark 1:40-45; Luke 5:12-16)\t9\n",
      "child between toddler and youth (of undetermined sex)\t9\n",
      "violent death by sword\t9\n",
      "artist (in general) making preliminary designs, sketching - BB - out of doors\t9\n",
      "anti-riot measures\t9\n",
      "ways pretending to cure simpletons (folklore)\t9\n",
      "installation of a pope\t9\n",
      "the shipwreck on the coast of Malta (Melita) ~ story of Paul\t9\n",
      "chocolate, cocoa\t9\n",
      "as king Jeroboam points to the prophet and orders his seizure, his hand withers and the altar falls apart\t9\n",
      "John the Baptist baptizing\t9\n",
      "Daniel gives food to the dragon; King Cyrus looking on\t9\n",
      "circus ring\t9\n",
      "fulfilment of Jephthah's vow to the Lord: Jephthah's daughter is sacrificed\t9\n",
      "the Israelites eat the Passover lamb standing about a table with their loins girt, their shoes on their feet and with staves in their hands, ready to depart\t9\n",
      "types of adult Christ (alone)\t9\n",
      "Mary sitting or enthroned, the Christ-child in front of her, lying in her lap (or in front of her bosom), sometimes in Pietà-posture\t9\n",
      "the drunken Bacchus\t9\n",
      "Mnemosyne\t9\n",
      "representation of wise virgin(s)\t9\n",
      "group dancing around someone or something (folk dancing)\t9\n",
      "carrying a child on the back\t9\n",
      "grinding, milling (industrial processes)\t9\n",
      "sea thiasos, Neptune's sea retinue\t9\n",
      "night-club, dance-hall\t9\n",
      "meeting of Anna and Joachim at the Golden Gate; they usually embrace or kiss each other (immaculate conception of Mary)\t9\n",
      "mutiny, rebellion ~ military discipline\t9\n",
      "(story of) Priapus\t9\n",
      "mist, fog\t9\n",
      "purgatory, usually the souls praying or asking for intercession\t9\n",
      "Luna and her children ('Planetenkinder') ~ Cancer\t9\n",
      "the Annunciation: Mary standing\t9\n",
      "the two angels intervene and strike the mob that surround Lot's house with blindness\t9\n",
      "washing and changing baby\t9\n",
      "Lycian farmers changed into frogs: Latona changes Lycian farmers into frogs, because while they were weeding a marsh, they prevented her and her children from quenching their thirst (Ovid, Metamorphoses VI 369)\t9\n",
      "dairy products\t9\n",
      "pin\t9\n",
      "Lazarus dies: his soul is carried into Abraham's lap by angels\t9\n",
      "'Vera Icon', held up by Veronica\t9\n",
      "illusionist, conjurer, juggler, 'legerdemain'\t9\n",
      "circumcision of the Christ-child by Mary\t9\n",
      "ambassador\t9\n",
      "annunciation of the birth of John the Baptist to Zacharias: while he is offering incense in the temple an angel (Gabriel) appears to him\t9\n",
      "violent death by firearms\t9\n",
      "single printed leaf: broadsheet, leaflet\t9\n",
      "auction sale, public sale\t9\n",
      "Judas hanging himself\t9\n",
      "Othniel conquers Debir, and receives Caleb's daughter Achsah to wife\t9\n",
      "Mary kneeling (on the ground), the Christ-child in front of her\t9\n",
      "'the Kingdom of Heaven is like treasure hidden in a field' ~ proverbial saying of Christ (Matthew 13:44)\t9\n",
      "sayings of Christ: discourse on the last things (Matthew 24; Mark 13; Luke 21)\t9\n",
      "Esther before Ahasuerus (Esther 5:1-4)\t9\n",
      "Hagar and Ishmael in the wilderness\t9\n",
      "treason\t9\n",
      "two women dancing as a couple\t9\n",
      "kissing the pope's feet\t9\n",
      "coat of arms of Guild of St. Luke\t9\n",
      "negative results and undesired aspects of trading\t9\n",
      "angels fighting\t9\n",
      "'Madonna dell'Umiltà' (usually Mary suckling the Christ-child while sitting on the ground)\t9\n",
      "artist (in general) working from live model\t9\n",
      "person with big beard\t9\n",
      "Moses teaching (in general)\t9\n",
      "cooking food - CC - in the open air\t9\n",
      "'Sapientia', Wisdom; 'Sapienza divina' (Ripa) ~ one of the seven gifts of the Holy Ghost\t9\n",
      "meeting of Jeroboam and the prophet Ahijah; Ahijah rends his garment in twelve pieces, ten of which he gives to Jeroboam\t9\n",
      "fertility\t9\n",
      "Joseph is pulled out of the pit\t9\n",
      "Aaron and his four sons are ordained by Moses (Leviticus 8)\t9\n",
      "whore, prostitute - CC - male prostitution\t9\n",
      "Polyhymnia (one of the Muses); 'Polinnia' (Ripa)\t9\n",
      "Joseph's brothers are given corn; Joseph orders money to be placed secretly in their sacks\t9\n",
      "love-affairs of satyr(s)\t9\n",
      "seizure of goods\t9\n",
      "dawn\t9\n",
      "Hercules breaks off a horn; Naiads fill the horn with flowers and fruits; it thus becomes the Cornucopia\t9\n",
      "'Trionfo della Fama', 'Triumphus Famae'; 'Carro della Fama' (Ripa)\t9\n",
      "an angel appearing to Joseph in a dream summons him to flee into Egypt\t9\n",
      "'ablactatio'; Christ not drinking, Mary's breast bare ~ Madonna-representations\t9\n",
      "Christ foretelling his Passion (at various occasions) (Matthew 16:21, 17:22-23; Mark 8:32, 9:31; Luke 9:22, 9:44)\t9\n",
      "pen\t9\n",
      "lizards\t9\n",
      "visiting the new mother, lying-in visit\t9\n",
      "assumption of Mary combined with her coronation\t9\n",
      "Matthew is slain before an altar by soldiers of Hirtacus and is beheaded\t9\n",
      "blessing the married couple\t9\n",
      "Saul casts his spear at David when the latter is playing his harp before the king (1 Samuel 18:11)\t9\n",
      "cross-roads, bifurcation\t9\n",
      "saying the rosary\t9\n",
      "whirlwind, cyclone, hurricane, typhoon, tornado at sea\t9\n",
      "becoming a knight, knighting\t9\n",
      "coronation of Mary in heaven (usually the Holy Trinity present)\t9\n",
      "admitted in Joseph's presence, the brothers bow down before him\t9\n",
      "crowning the victor with laurel\t9\n",
      "David speaks to Uriah\t9\n",
      "trunked animals\t9\n",
      "golden anniversary\t9\n",
      "Hector's body, tied to Achilles' chariot, is dragged around the city\t9\n",
      "specific forms of the cross\t9\n",
      "healing of a woman 'bent over' (Luke 13:10-17)\t9\n",
      "Ahab is reproved by Elijah and asked to gather the priests of Baal on Mount Carmel for a contest\t9\n",
      "harem\t8\n",
      "appearances of Mary\t8\n",
      "care of hands and feet\t8\n",
      "megalithic chambered tomb, dolmen\t8\n",
      "stamp (~ postal matter)\t8\n",
      "'Astronomia', 'Cosmografia'; 'Cosmografia' (Ripa)\t8\n",
      "landscape with tower or castle - II - ideal landscapes\t8\n",
      "'Tragedia' (Ripa)\t8\n",
      "Cupid shooting a dart at Venus' order\t8\n",
      "bearing of Christ's body to the grave\t8\n",
      "other divisions into classes (~ society)\t8\n",
      "wise man\t8\n",
      "penitence, repentance; 'Penitenza', 'Pentimento', 'Pentimento de'peccati', 'Purgatione de peccati' (Ripa)\t8\n",
      "ritual practices ~ stadia of human life (American Indian religions)\t8\n",
      "repentance of Peter\t8\n",
      "prisoner in cell or locked place\t8\n",
      "defeat ~ armed conflict\t8\n",
      "four poster bed\t8\n",
      "particular types of adult Christ (without others)\t8\n",
      "Cephalus and Aurora\t8\n",
      "Precaution\t8\n",
      "political demonstration\t8\n",
      "ward; room (in hospital)\t8\n",
      "optical instruments\t8\n",
      "basilisk (cock with posterior of snake)\t8\n",
      "the king reproaches his servant for his mercilessness and delivers him to the tormentors ~ parable of the unmerciful servant\t8\n",
      "climbing\t8\n",
      "ironing\t8\n",
      "Judas Maccabeus has the temple purified and re-dedicated (1 Maccabees 4:36-58)\t8\n",
      "the disembarkation ~ story of Noah (Genesis 8:18 - 9:17)\t8\n",
      "prayer of Solomon; Solomon kneels before the altar\t8\n",
      "child robbing bird's nests\t8\n",
      "strife between Virtues and Vices, Psychomachy\t8\n",
      "Innocence; 'Innocenza', 'Innocenza o purità' (Ripa)\t8\n",
      "crucified Christ with Mary Magdalene, who usually weeps and embraces the cross - DD - the three crosses\t8\n",
      "parental agreement ~ marriage\t8\n",
      "algae, seaweed\t8\n",
      "the three crosses with the crucified, without bystanders\t8\n",
      "preparation of food\t8\n",
      "regent, substitute ruler; viceroy\t8\n",
      "mischievous child (at school)\t8\n",
      "Themis\t8\n",
      "urban life\t8\n",
      "'kolf' (ball game)\t8\n",
      "female literary characters\t8\n",
      "Jupiter wooing Semele\t8\n",
      "laundering\t8\n",
      "Oedipus and the sphinx; he solves the riddle\t8\n",
      "one-sided courting; pursuit; difficult choice\t8\n",
      "the twelve minor prophets (not in biblical context): Hosea, Joel, Amos, Obadiah, Jonah, Micah, Nahum, Habakkuk, Zephaniah, Haggai, Zechariah, Malachi\t8\n",
      "healing of sick person\t8\n",
      "natural phenomena\t8\n",
      "Heliodorus in the temple, attacked by a man (or angel) on horseback and two other men (or angels) (2 Maccabees 3:7-35)\t8\n",
      "golf\t8\n",
      "the head of John the Baptist brought to or lying on the banqueting table\t8\n",
      "Life\t8\n",
      "creation of birds and fishes\t8\n",
      "at night an angel opens the door of the prison ~ life and acts of Peter\t8\n",
      "rolling bridge (Dutch: 'overtoom')\t8\n",
      "the true mother objects to Solomon's verdict\t8\n",
      "the prophet of Judah rides off with his donkey and on his way is killed by a lion\t8\n",
      "Moses taking off his sandals\t8\n",
      "Distinction between Good and Bad; 'Distintione del bene & del male' (Ripa)\t8\n",
      "Mary sitting on the ground, the Christ-child in front of her in her lap\t8\n",
      "pursued by Absalom's soldiers Ahimaaz and Jonathan hide in a pit in a house at Baharim; a woman spreads a cover with corn over the pit\t8\n",
      "Job on the dunghill with Satan (or devils) abusing and tormenting him; Job's wife may be present\t8\n",
      "Mercury and Battus; Battus is bribed with a heifer as hush-money\t8\n",
      "an angel meets Hagar at the fountain on the way to Shur and persuades her to return\t8\n",
      "wading, paddling - AA - female human figure\t8\n",
      "Justice, 'Justitia'; 'Giustitia divina' (Ripa) ~ one of the Four Cardinal Virtues - MM - triumph\t8\n",
      "collar (of a dog)\t8\n",
      "violent death ~ water\t8\n",
      "Mercury (planet)\t8\n",
      "an angel wakes Elijah; a loaf of bread and a jar of water are usually at Elijah's head\t8\n",
      "story of Joseph (part II)\t8\n",
      "female singer\t8\n",
      "running\t8\n",
      "nude with covered genitals\t8\n",
      "Joab kills Amasa: Joab takes Amasa by the beard with the right hand as if to kiss him, and stabs him with a dagger\t8\n",
      "other hybrid forms in the shape of a pillar\t8\n",
      "Jonah is sent by God to Nineveh to preach to its sinful citizens\t8\n",
      "ritual consecration ~ Christian religion\t8\n",
      "Tobias taking leave of his parents; Anna mourns her son's departure\t8\n",
      "linen (material ~ textile industry)\t8\n",
      "the rebuilding of the temple (Ezra 3)\t8\n",
      "notary\t8\n",
      "coronation of Mary by Christ\t8\n",
      "committee members, board members\t8\n",
      "the statue of Dagon in Ashdod falls down\t8\n",
      "two disciples of John the Baptist are sent to Christ (Matthew 11:2-6; Luke 7:18-23)\t8\n",
      "(4) the Erymanthian boar is captured by Hercules\t8\n",
      "artist at work, in his workshop - BB - out of doors\t8\n",
      "fish pond (in garden)\t8\n",
      "ranks in the army\t8\n",
      "Pharisees and Sadducees opposing Christ\t8\n",
      "Tamar violated by Amnon\t8\n",
      "Lot tries to pacify the mob\t8\n",
      "Julius Caesar (one of the nine worthies)\t8\n",
      "sheltering strangers, 'hospes colligitur' ~ one of the (seven) Acts of Mercy\t8\n",
      "Judas Maccabaeus (one of the nine worthies)\t8\n",
      "Arthur (one of the nine worthies)\t8\n",
      "the serpent tries to persuade Eve to take some of the fruit (usually an apple)\t8\n",
      "Psyche, holding a lamp, gazes at the sleeping Cupid, who awakens when a drop of hot oil falls on him\t8\n",
      "Fury; 'Furore', 'Furore implacabile', 'Furore & Rabbia', 'Furore superbo & Indomito' (Ripa)\t8\n",
      "hanging gardens of Semiramis at Babylon (Wonder of the World)\t8\n",
      "Rage, Anger\t8\n",
      "scroll - LL - scroll unfolded\t8\n",
      "postures and gestures of hand and fingers\t8\n",
      "Solomon offers sacrifices to pagan gods (sometimes idols and/or a golden calf upon the altar)\t8\n",
      "leaning forward - AA - female human figure\t8\n",
      "Perseus beheading Medusa\t8\n",
      "witch(es), sorcerer(s) at work\t8\n",
      "God announces a flood and commands Noah to build an ark\t8\n",
      "Achan and his family are stoned and burned (aftermath of the fall of Jericho)\t8\n",
      "Boaz questions his servant concerning Ruth\t8\n",
      "carrousel\t8\n",
      "horticulture, vegetable culture, market gardening\t8\n",
      "shipyard, shipdock - CC - more than one ship\t8\n",
      "Tobit buries the dead in secret\t8\n",
      "an angel holding a sword bars the way and causes Balaam's ass to turn aside; the angel is invisible to Balaam\t8\n",
      "garbage collecting lorry, garbage truck\t8\n",
      "the time of Samson ~ the book of Judges\t8\n",
      "scabbard, sheath\t8\n",
      "Death as old man\t8\n",
      "barometer\t8\n",
      "folk dancing (men and women together)\t8\n",
      "water-supply (~ public services)\t8\n",
      "tuning the lute\t8\n",
      "public convenience\t8\n",
      "consequences of weather, e.g. After the drought, Before the storm, After the cyclone\t8\n",
      "Tamar changes from her widow's clothes and covers her face with a veil after the manner of the prostitutes; sitting at the entrance of a city on the road to Timnath she awaits Judah\t8\n",
      "midwife, 'accoucheuse'\t8\n",
      "device (as symbol of the state, etc.)\t8\n",
      "prayer ~ Islam, Mohammedanism\t8\n",
      "fortified house in city\t8\n",
      "earning money with guinea-pig\t8\n",
      "treatment by immobilization, sling, splint, plaster, etc.\t8\n",
      "breasts\t8\n",
      "military celebrations\t8\n",
      "bandstand\t8\n",
      "the blessed are brought to heaven ~ Last Judgement\t8\n",
      "tea-ceremony\t8\n",
      "piracy\t8\n",
      "symbolic representations, allegories and emblems ~ satirical poetry; 'Poema satirico' (Ripa)\t8\n",
      "haff, lagoon created by sand, shingle bank ~ coast\t8\n",
      "destruction of pagan idols\t8\n",
      "surprise attack (stratagem)\t8\n",
      "Shrove Tuesday, 'Mardi gras' ~ non-liturgical celebrations of carnival\t8\n",
      "drowning (violent death ~ water)\t8\n",
      "Phaethon drives the chariot of the sun; the earth is threatened with conflagration\t8\n",
      "Fear, Dread; 'Paura', 'Timidità o Timore', 'Timore' (Ripa)\t8\n",
      "story of Cupid and Psyche (Apuleius, 'Metamorphoses' (Golden Ass) IV 28 - VI 25)\t8\n",
      "in Caiaphas' palace Christ is mocked by Jews (Matthew 26:67-68; Mark 14:65)\t8\n",
      "two sons of Aaron, Nadab and Abihu, offer incense in their censers to God, who punishes them for this by sending a fire that kills them\t8\n",
      "wisdom, 'Sapientia' ~ one of the seven gifts of the soul\t8\n",
      "meditation over skull and/or crucifix\t8\n",
      "angel(s) with chalice\t8\n",
      "planets (except the earth)\t8\n",
      "confessional ~ part of the confession\t8\n",
      "the rape of Dinah by Shechem\t8\n",
      "milestone\t8\n",
      "violent death by weapon\t8\n",
      "the announcement of Christ's birth (Luke 1:26-38)\t8\n",
      "one person playing percussion instrument\t8\n",
      "fire-tongs\t8\n",
      "partner deceived\t8\n",
      "after the coronation\t8\n",
      "Amnon is murdered at Absalom's banquet\t8\n",
      "veneration of Venus\t8\n",
      "triangle (within circle), with eye or tetragram ~ Trinity\t8\n",
      "Holy Trinity in which one, two or all figures are represented in human shape\t8\n",
      "the meeting of Jacob and Joseph in Goshen\t8\n",
      "washing up\t8\n",
      "the queen of Sheba before Solomon, testing him with questions\t8\n",
      "Amalthea, the nymph, usually in the shape of a goat, suckles the new-born Jupiter\t8\n",
      "city-view, and landscape with man-made constructions - II - ideal landscapes\t8\n",
      "Hezekiah destroys the local shrines\t8\n",
      "city-crown, mural crown\t8\n",
      "the pagan priests are either killed or suppressed ~ story of Josiah\t8\n",
      "Christ enthroned\t8\n",
      "Mars and Venus making love, Apollo (Sol) appearing\t8\n",
      "peeping, voyeur\t8\n",
      "Noah building the ark\t8\n",
      "medicament, medicine\t8\n",
      "Joshua (one of the nine worthies)\t8\n",
      "Simeon and Levi kill all the Shechemites and bring Dinah home, while the other brothers plunder the city\t8\n",
      "the story of the three Hebrews in the fiery furnace (Daniel 3)\t8\n",
      "Sluggishness, Inertia; 'Dapocaggine', 'Pigritia' (Ripa)\t8\n",
      "evening ~ landscape (sometimes titled 'Vesper')\t8\n",
      "Apollo shoots Coronis, but repenting his act he tries in vain to recall her to life\t8\n",
      "the four evangelists together (author portraits)\t8\n",
      "Pharaoh and his army engulfed in the Red Sea (Israelites not or barely visible)\t7\n",
      "Eutychus is raised from the dead by Paul\t7\n",
      "Haman entreats Ahasuerus to issue a decree that all the Jews are to be put to death; Ahasuerus consents and yields his signet-ring to Haman\t7\n",
      "ox (possibly with book) ~ symbol of St. Luke\t7\n",
      "shaking lovers out of a tree, with cudgel - CC - pursuit of a man\t7\n",
      "Naboth is stoned to death\t7\n",
      "statue of Zeus by Phidias (Wonder of the World)\t7\n",
      "personification of the evening, 'Vesper'\t7\n",
      "Siamese twins\t7\n",
      "the course of life symbolized\t7\n",
      "treadmill\t7\n",
      "the fall of Troy; Troy burning\t7\n",
      "story of Seth\t7\n",
      "journey to heaven, pathway to heaven\t7\n",
      "sexual abuses of monks\t7\n",
      "Abraham entertaining the three angels\t7\n",
      "the cup is found in Benjamin's sack\t7\n",
      "(single) prophet, unspecified\t7\n",
      "'pull-the-goose'\t7\n",
      "Raguel gives Sarah to Tobias as his wife\t7\n",
      "Aesculapius as patron of medicine\t7\n",
      "angel(s) with book(-scroll) or banderole\t7\n",
      "Adoni-bezek is caught; his thumbs and his great toes are cut off\t7\n",
      "Moses and Aaron confront Pharaoh (Exodus 5-7:13)\t7\n",
      "bush, shrubs ~ forest\t7\n",
      "anti-semitism\t7\n",
      "Saul casts his spear at David for the second time (1 Samuel 19:10)\t7\n",
      "Miriam takes up a tambourine and dances; all the women follow her\t7\n",
      "(story of) Saturn (Cronus) - attributes\t7\n",
      "journalist, reporter\t7\n",
      "watergate\t7\n",
      "keyboard instruments\t7\n",
      "marionette\t7\n",
      "human sacrifice ~ non-Christian religions\t7\n",
      "(playing with) wheeled vehicles\t7\n",
      "pelvis\t7\n",
      "medicinal spring\t7\n",
      "Saturn and his children ('Planetenkinder') ~ Aquarius and Capricorn\t7\n",
      "Christ-child carrying the instruments of the Passion\t7\n",
      "silver anniversary\t7\n",
      "dissection\t7\n",
      "Mercury and his children ('Planetenkinder') ~ Gemini and Virgo\t7\n",
      "Death as (rotting) corpse\t7\n",
      "stumbling\t7\n",
      "walking arm in arm\t7\n",
      "grown-ups playing children's games\t7\n",
      "story of the birth and youth of John the Baptist (Luke 1:5-25, 1:57-80)\t7\n",
      "last hours before execution\t7\n",
      "dulcimer, zither\t7\n",
      "a rich young man who came to see Christ goes away sorrowful\t7\n",
      "female Roman deities\t7\n",
      "story of Jael and Sisera\t7\n",
      "Jacob at the well of Haran (Genesis 29:1-13)\t7\n",
      "the four horsemen of the Apocalypse\t7\n",
      "the burning of Tamar being ordered, she shows the signet(-ring), bracelets and staff to Judah, who recognizes them as his\t7\n",
      "spectacle-maker, optician\t7\n",
      "handicrafts ~ other plant material\t7\n",
      "violent death by stoning\t7\n",
      "Christ and apostles distribute bread and fish among the multitude\t7\n",
      "symbols and prefigurations of Christ\t7\n",
      "Christ makes himself known; the soldiers fall to the ground ~ the kiss of Judas\t7\n",
      "personifications ~ the life of man\t7\n",
      "the satyr and the peasants; according to Aesop: the satyrs and the peasant (meal, blowing to cool food, etc.)\t7\n",
      "Tobias and the angel Raphael with Tobit (and Anna)\t7\n",
      "Hezekiah crushes the idols\t7\n",
      "John the Baptist disputing\t7\n",
      "human being(s) drawing or pushing a vehicle not usually propelled by manpower\t7\n",
      "while the priests with the ark stay in the middle of the Jordan and the waters are miraculously dammed, the Israelites cross the river\t7\n",
      "burglar, housebreaker\t7\n",
      "salver\t7\n",
      "Mary (alone) reading, praying, etc. ~ Annunciation\t7\n",
      "the people's census at Bethlehem: Mary and Joseph are registered\t7\n",
      "communion of the apostles: Christ giving bread (host) and/or wine to the (standing) apostles\t7\n",
      "the Annunciation: Mary, usually reading, is visited by the angel (sometimes a woman overhears the conversation) - AA - Mary to the left, the angel to the right\t7\n",
      "arm raised upward - AA - both arms or hands\t7\n",
      "cortege, funeral procession\t7\n",
      "death of Dido; she climbs the funeral pyre and falls upon the sword of Aeneas\t7\n",
      "hitting at something\t7\n",
      "Polyxena is sacrificed by Neoptolemus on Achilles' tomb\t7\n",
      "story of the denial of Peter (Matthew 26:58, 26:69-75; Mark 14:54, 14:66-72; Luke 22:55-62; John 18:15-18, 18:25-27)\t7\n",
      "the Giants buried beneath volcanoes\t7\n",
      "rivalry of women for the love of a man; fight for the hose; 'andouille'\t7\n",
      "Joseph with the Christ-child (and Mary) in his carpenter's workshop\t7\n",
      "male dancer\t7\n",
      "while fighting with Hercules the river-god Achelous changes himself into a serpent\t7\n",
      "the bronze age, 'Aetas aenea'; characterized by Minerva and building activities\t7\n",
      "marriage of Jason and Creusa (Glauce); possibly with Medea watching the scene\t7\n",
      "satyr(s) (in general) - aggressive, unfriendly activities and relationships\t7\n",
      "cleaning of material\t7\n",
      "Aesculapian sign\t7\n",
      "musician training pupils, music-lesson\t7\n",
      "accessories ~ music: metronome, music-stand, tuning-fork, etc.\t7\n",
      "dogs eat Jezebel's body\t7\n",
      "'sanctam ecclesiam catholicam, sanctuorum communionem' ~ articles of faith\t7\n",
      "taste, tasting (one of the five senses) - AA - female human figure\t7\n",
      "'thieves and robbers' climb on the roof of the sheepfold ~ parable of the good shepherd\t7\n",
      "Death conquering Life or the living\t7\n",
      "Samson ties three hundred foxes two by two by their tails with a fire-brand in between; with the torches on fire he lets them go into the cornfields of the Philistines which are set aflame\t7\n",
      "Human Life; 'Vita humana', 'Vita inquieta', 'Vita e l'animo' (Ripa)\t7\n",
      "the prodigal son, suffering want, asks a farmer for work\t7\n",
      "unidentifiable plant forms ~ ornament\t7\n",
      "an angel with a key and a chain binds the dragon (Satan) and casts him into the pit\t7\n",
      "reading a picture book\t7\n",
      "winding of yarn on reels or spools\t7\n",
      "execution in effigy\t7\n",
      "while Joseph's brothers are eating, a caravan of Ishmaelite (Midianite) merchants passes by: Judah proposes to sell Joseph to them\t7\n",
      "the angels find Lot sitting at the gateway of the city; he arises and kneels before them\t7\n",
      "control of quality\t7\n",
      "quarry\t7\n",
      "zodiacal signs of the spring season\t7\n",
      "Mary standing (or half-length), the Christ-child in front of her, close to her bosom\t7\n",
      "theology; 'Theologia' (Ripa)\t7\n",
      "other rooms\t7\n",
      "looking for fleas\t7\n",
      "indulgence ~ confession\t7\n",
      "gas-lamp\t7\n",
      "sunbeams\t7\n",
      "farm or solitary house in landscape - II - ideal landscapes\t7\n",
      "'I am the door of the sheep' ~ parable of the good shepherd\t7\n",
      "Temptation and Fall: Adam and Eve in paradise (after the Fall) (Genesis 3:8-21)\t7\n",
      "Argus' eyes changed into peacock's 'eyes' (ocelli): Juno sets Argus' eyes on her peacock, after Argus, while watching Io, has been slain by Mercury (Ovid, Metamorphoses I 723)\t7\n",
      "(woman) looking in a mirror ~ scene symbolizing 'Vanitas'\t7\n",
      "devotion, piety; 'Divotione' (Ripa)\t7\n",
      "healing of a man with dropsy (Luke 14:2-4)\t7\n",
      "milk\t7\n",
      "model, mannequin\t7\n",
      "hierarchy of jurisdiction ~ Roman Catholic church\t7\n",
      "Jacob works as a herdsman for seven years in exchange for Rachel\t7\n",
      "priest ~ non-Christian religions\t7\n",
      "improvised and unusual traffic on the water\t7\n",
      "dealing in money\t7\n",
      "Lot and the two angels (Genesis 19:1-23)\t7\n",
      "the feast at Joseph's house: the amazement of his brothers at being seated according to their age; Benjamin is honoured with extra food\t7\n",
      "Abdon's forty sons and thirty nephews who ride on seventy ass colts\t7\n",
      "the plague of lice: Aaron strikes the ground with his rod and the dust turns into lice\t7\n",
      "Rehoboam's insulting reply: forsaking the warning of the wise old counsel- lors but following the young advisers' opinion, Rehoboam not only refuses to lessen the taxes, but increases them\t7\n",
      "parts of ship's exterior\t7\n",
      "Fame ~ writer, 'poeta laureatus'\t7\n",
      "adoration of the golden calf (which may be standing on a pillar, and is sometimes depicted as a dragon)\t7\n",
      "Christ's feet are anointed by Mary (Magdalene)\t7\n",
      "Joshua orders the sun and the moon to stand still over Gibeon and Aijalon until the Amorites who had besieged the city of Gibeon are routed\t7\n",
      "napkin-ring\t7\n",
      "riders are seen in the sky above the city of Jerusalem (2 Maccabees 5:2)\t7\n",
      "Paul and Barnabas tear their clothes, and try to prevent the sacrifice\t7\n",
      "the healing of the woman servant with a divining spirit ~ Paul and Silas at Philippi\t7\n",
      "Christ is taken down from the cross (one arm of Christ still nailed to the cross)\t7\n",
      "figure representing a Virtue vs. a Vice\t7\n",
      "reeds, rushes ~ building material\t7\n",
      "shoulder-belt, bandoleer\t7\n",
      "the plague of flies which fill the houses of the Egyptians\t7\n",
      "Joash is proclaimed king at the age of seven\t7\n",
      "the twelve apostles (as a group), usually with books or scrolls (not in biblical context)\t7\n",
      "Vehemence, Violence, Fierceness; 'Sforza con Inganno', 'Violenza' (Ripa)\t7\n",
      "the pope on horseback, and Christ on an ass\t7\n",
      "Courage, Bravery, Valiance, Manliness; 'Ardire magnanimo et generoso', 'Gagliardezza', 'Valore', 'Virtù heroica', 'Virtù dell'animo e del corpo' (Ripa)\t7\n",
      "story of Elijah (Elias)\t7\n",
      "Juno Iuga, Juno Pronuba, protectress of marriage\t7\n",
      "'Politica' (Ripa)\t7\n",
      "death of a child\t7\n",
      "hair-cutting\t7\n",
      "'Trionfo della Divinità', 'Triumphus Aeternitatis'; 'Carro della Divinità'\t7\n",
      "Jupiter kills Semele by coming to her with his lightning and thunderbolts\t7\n",
      "astronomical phenomena\t7\n",
      "sermon ~ Holy Mass\t7\n",
      "Christ calls a child and sets it in the midst of the apostles (disciples): 'unless you ... become like children'\t7\n",
      "prime minister\t7\n",
      "washing another person's feet\t7\n",
      "railway-traffic\t7\n",
      "historical persons not known by name - BB - woman\t7\n",
      "political meeting, propaganda meeting\t7\n",
      "Jeroboam's wife in disguise visits the old and blind Ahijah, but he, having been warned by God, recognizes her; he predicts the death of her son and Israel's punishment for Jeroboam's sin\t7\n",
      "military instruction\t7\n",
      "execution ~ military disciplinary punishment\t7\n",
      "recruitment\t7\n",
      "Christian religion\t7\n",
      "sun and moon in the sky at either side of the cross of Christ\t7\n",
      "moving (house)\t7\n",
      "'kiddushin', Jewish wedding\t7\n",
      "rearing (horse in motion)\t7\n",
      "primitive races and peoples; aborigines\t7\n",
      "the old government and its supporters (after revolution)\t7\n",
      "Venus wounded by the thorns of a rose-bush; the roses change from white to red (possibly combined with the story of Adonis)\t7\n",
      "after the battle\t7\n",
      "symbols and allegories of jurisprudence\t7\n",
      "blind Saul is led to Damascus\t7\n",
      "poor parents, rich children (absence of filial love)\t7\n",
      "adultery revenged\t7\n",
      "story of the birth of Christ (Luke 2:1-20)\t7\n",
      "examination, diagnosis; physician speaking with patient\t7\n",
      "quiver\t7\n",
      "the twelve patriarchs together, i.e. the twelve (grand)sons of Jacob, eponymous ancestors of the twelve tribes of Israel\t7\n",
      "bird-cage opened (loss of virginity symbolized)\t7\n",
      "signpost\t7\n",
      "Christ sends ten lepers to the priest (Luke 17:11-19)\t7\n",
      "Christ blessing the bread and fish brought by a boy\t7\n"
     ]
    },
    {
     "name": "stdout",
     "output_type": "stream",
     "text": [
      "knighting ceremonies\t7\n",
      "care of the hair - AA - ~ women\t7\n",
      "sitting cross-legged, as tailor at work\t7\n",
      "female sexual organs\t7\n",
      "Battus changed into a touchstone: for violating the promise to keep Mercury's theft of Apollo's cattle a secret, Mercury turns Battus, the shepherd, into a touchstone (Ovid, Metamorphoses II 705)\t7\n",
      "Christ resting at Jacob's well, after having sent his disciples to Sychar\t7\n",
      "Potiphar's wife before her husband: she accuses Joseph of trying to violate her, using the cloak as evidence\t7\n",
      "choleric temperament\t7\n",
      "Noah, his family and the animals leave the ark (sometimes combined with the rainbow of the covenant)\t7\n",
      "Aristotle and Phyllis\t7\n",
      "story of Rehoboam, king of Judah (1 Kings 12:21-24, 14:21-31)\t7\n",
      "fabulous flowers\t7\n",
      "treading grapes\t7\n",
      "workhouse, penal camp, penitentiary, chain gang\t7\n",
      "ornament ~ human monstrosities\t7\n",
      "places and objects of worship ~ Shinto\t7\n",
      "an angel appears and reveals a well of water to Hagar\t7\n",
      "blessing (either of things or persons), e.g. by anointing\t7\n",
      "slipping, grafting, cutting of plants\t7\n",
      "morning ~ other concepts\t7\n",
      "pamphlet ~ printed matter\t7\n",
      "eclipse of the moon\t7\n",
      "Christmas tree\t7\n",
      "devout Mary together with her parents; angels, and perhaps God the Father present\t7\n",
      "Achan confesses to have taken from the spoils a garment and some silver and gold\t7\n",
      "king - BB - female ruler\t7\n",
      "Judith (one of the nine worthiest women)\t7\n",
      "administration of justice, trial\t7\n",
      "Tabitha is raised from the dead by Peter's prayer\t7\n",
      "public festivities at marriage of royal persons\t7\n",
      "raising from the dead\t7\n",
      "the star appears again and guides the three Wise Men to Bethlehem\t7\n",
      "surprise attack (from ambush)\t7\n",
      "Christ as youth\t7\n",
      "Doctors (Fathers) of the Church\t7\n",
      "a multitude of the sick healed by Peter and other disciples (Acts 5:12-16)\t7\n",
      "specific aspects, allegorical aspects of Venus; Venus as patroness\t7\n",
      "David (one of the nine worthies)\t7\n",
      "martyrdom and death of Matthias\t7\n",
      "enjoying nature\t7\n",
      "adulterer\t7\n",
      "puzzle, riddle, conundrum, enigma\t7\n",
      "in time of the harvest the tares are bound and burned, but the wheat is gathered and put in the barn of the lord\t7\n",
      "stairwell\t7\n",
      "ascetic life and practice\t7\n",
      "rest on the return of the Holy Family to Israel\t7\n",
      "ornament ~ round and curved forms\t6\n",
      "tax collection\t6\n",
      "Joseph relating his dreams (the two dreams combined)\t6\n",
      "the man is robbed (brothel scene)\t6\n",
      "founding a village\t6\n",
      "colonial governor\t6\n",
      "back - AA - female human figure\t6\n",
      "other scenes from the story of Cupid and Psyche\t6\n",
      "houseboat\t6\n",
      "meeting of soldiers and/or officers\t6\n",
      "amulet, talisman\t6\n",
      "'Simhat Torah' procession: the 'Hatan Torah' and the 'Hatan Bereshit' are escorted in procession with torches and music from their homes to the synagogue and back\t6\n",
      "dancing around the maypole\t6\n",
      "glutton\t6\n",
      "Frankness, Loyalty; 'Lealtà', 'Realtà' (Ripa)\t6\n",
      "wine-cooler\t6\n",
      "the territory of the thirty-one kings is conquered by Joshua and his army (Joshua 12:7-24)\t6\n",
      "anointing the ruler (during coronation)\t6\n",
      "hermitage\t6\n",
      "circle, club of artists\t6\n",
      "child (young man, young woman) leaving his (her) parents\t6\n",
      "timber framing\t6\n",
      "Holy Family with John the Baptist; Elisabeth and Zacharias present\t6\n",
      "recorder (musical instrument)\t6\n",
      "sacrificial feast in Solomon's temple\t6\n",
      "soap-bubble\t6\n",
      "loaf-sugar\t6\n",
      "Scylla changed into a sea-monster: Circe, to whom Glaucus has applied for aid in his love suit, changes Scylla the sea-nymph into a sea-monster (Ovid, Metamorphoses XIV 59)\t6\n",
      "vigils and wakes ~ burial rites\t6\n",
      "Daniel, while praying on his knees before an open window, is discovered by the conspirators\t6\n",
      "Rachel hides the teraphim in a camel's saddle and sits on it\t6\n",
      "(the skull or skeleton of) Adam at the foot of the cross of Christ (iconographic particularity to be used as additional notation only)\t6\n",
      "earning money with bear\t6\n",
      "students' riot\t6\n",
      "'pistrix', sea-dragon\t6\n",
      "Mary pierced by seven swords\t6\n",
      "street-organ, 'pierement'\t6\n",
      "Joseph worrying about Mary's pregnancy; annunciation to Joseph in a dream (Matthew 1:19:25)\t6\n",
      "lover crowned with a wreath\t6\n",
      "(map of) Asia\t6\n",
      "roe-hunting\t6\n",
      "Lycaon changed into a wolf: Jupiter changes Lycaon into a wolf as punishment for offering the god, who is sitting at table, human flesh to eat; Lycaon's house is struck with lightning (Ovid, Metamorphoses I 237)\t6\n",
      "knocking at the door\t6\n",
      "blood spouting from Christ's wounds\t6\n",
      "courtesy, manners; etiquette\t6\n",
      "other types of Mary (alone)\t6\n",
      "orrery, planetarium\t6\n",
      "sun-porch, sun-parlour, glazed verandah\t6\n",
      "annunciation of the birth of Mary to Joachim by an angel\t6\n",
      "bystanders at the foot of the cross, among whom Mary, Mary Magdalene and John the Evangelist; Mary may be shown swooning - DD - only Christ on the cross\t6\n",
      "pavement, floor ~ architecture\t6\n",
      "conserving, preserving, e.g.: canning\t6\n",
      "actor, actress (non-work situations)\t6\n",
      "wagon racing with two-wheeled vehicle, e.g.: chariot, sulky\t6\n",
      "the liberal arts represented otherwise, e.g. by emblems, symbols\t6\n",
      "symbols of the Trinity ~ circular and/or triangular forms or arrangements\t6\n",
      "hornblowing baker\t6\n",
      "death and burial ~ Jewish customs\t6\n",
      "calling of Peter and Andrew (John 1:40-42)\t6\n",
      "sword of Damocles\t6\n",
      "home sewing; repair of clothes\t6\n",
      "Plato's cave, 'antrum Platonicum'\t6\n",
      "anonymous historical persons portrayed in a group, in a group-portrait - BB - woman\t6\n",
      "Sol and his children ('Planetenkinder') ~ Leo\t6\n",
      "(other) 'portraits' of Christ, e.g. profile portrait\t6\n",
      "nimbus, i.e. rain clouds\t6\n",
      "ninepins, skittles\t6\n",
      "opera\t6\n",
      "Psyche is carried up to Olympus by Mercury\t6\n",
      "angel (possibly with book) ~ symbol of St. Matthew\t6\n",
      "the abduction of Helen and some of her companions: Paris carries them off by sea, and takes a part of the palace-treasure with him\t6\n",
      "violent death ~ beheading by guillotine\t6\n",
      "(other) ornaments derived from objects\t6\n",
      "before the coronation\t6\n",
      "Jacob and Esau are reconciled (Genesis 33)\t6\n",
      "Pharaoh's dreams ~ story of Joseph\t6\n",
      "unsuccessful revolution or revolt, suppression of revolutionary activity\t6\n",
      "baptism, christening ceremony ~ the first of the seven sacraments - QQ - baptism in the open air\t6\n",
      "King Abimelech, looking down from his window, sees Isaac and Rebekah making love\t6\n",
      "marriage in church ~ the sixth of the seven sacraments\t6\n",
      "Jonadab gives counsel to Amnon\t6\n",
      "'carnis resurrectionem' ~ articles of faith\t6\n",
      "ship's portrait\t6\n",
      "Mary and Joseph are not admitted to the inn\t6\n",
      "Jupiter, shrouded in a cloud, woos Io, daughter of Inachus; Juno may be watching the lovers\t6\n",
      "violent death by fusillade\t6\n",
      "(story of) Ganymede\t6\n",
      "the rich fool, whose death comes when he has saved all his money to build new barns (Luke 12:16-21)\t6\n",
      "strife of Lent and Carnival\t6\n",
      "hatter\t6\n",
      "fancy-cakes, fancy-pastries\t6\n",
      "statues, paintings, etc. ~ objects of worship (non-Christian religions)\t6\n",
      "the corpse placed on a bier\t6\n",
      "care and laundering of clothes; home sewing\t6\n",
      "trade mark, trade token, trade sign, trade card\t6\n",
      "pamphlet ~ printed matter - MM - book open\t6\n",
      "Mattathias kills a Jew, who wanted to offer sacrifices to pagan gods, and pulls down the altar in Modin (1 Maccabees 2:23-26)\t6\n",
      "Absalom speaks with the people near the gate of the city\t6\n",
      "Neptune ravishes Caenis\t6\n",
      "Pomona\t6\n",
      "comforter (weaning)\t6\n",
      "governmental systems\t6\n",
      "outcasts, pariahs\t6\n",
      "satyr play, farce\t6\n",
      "the embarkation of the ark\t6\n",
      "Dissimulation, Hypocrisy; 'Hippocresia', 'Simulatione' (Ripa)\t6\n",
      "(story of) Callisto\t6\n",
      "village-walls\t6\n",
      "the youth Daniel opposes the verdict against Susanna\t6\n",
      "weapons\t6\n",
      "King Ahasuerus asks Haman how to honour a man he wishes to reward\t6\n",
      "table of the showbread in the Tabernacle ~ Jewish religion\t6\n",
      "Amusement\t6\n",
      "Madonna (or Mary without Christ-child) as patroness or protectress, e.g. of a confraternity or lay order\t6\n",
      "healing of Peter's mother-in-law (Matthew 8:14-15; Mark 1:29-31; Luke 4:38-39)\t6\n",
      "Forgivingness\t6\n",
      "(story of) Pandora\t6\n",
      "the ark floating on the waters (destruction of mankind not visible)\t6\n",
      "duel in place of battle\t6\n",
      "Genii (Roman tutelary spirits); 'Genio' (Ripa)\t6\n",
      "going to bed\t6\n",
      "Absalom takes counsel with Ahitophel\t6\n",
      "Christ-child sleeping ~ Madonna-representations\t6\n",
      "sorting, selecting of material by sieving, sifting, screening\t6\n",
      "the book Leviticus\t6\n",
      "public welfare\t6\n",
      "phlegmatic temperament\t6\n",
      "'honour your father and your mother' ~ separate representation of the fifth of the ten commandments\t6\n",
      "the water of Jericho is purified: when the citizens of Jericho complain about their water, Elisha puts some salt into a jar; he then throws the salt into the water (2 Kings 2:19-22)\t6\n",
      "'as a shepherd (the Son of Man) separates the sheep from the goats' (Matthew 25:32)\t6\n",
      "election, choice of a ruler\t6\n",
      "Jupiter and his children ('Planetenkinder') ~ Pisces and Sagittarius\t6\n",
      "God the Father standing or seated, holding the body of Christ, 'Pitié-de-Notre-Seigneur', 'Not Gottes'\t6\n",
      "digging (industrial process)\t6\n",
      "'but deliver us from evil' ~ the Lord's prayer\t6\n",
      "upright figures of Mary without the Christ-child\t6\n",
      "'and lead us not into temptation' ~ the Lord's prayer\t6\n",
      "Indecency, Impudence; 'Sfacciatigine' (Ripa)\t6\n",
      "'Pecunia' (Ripa)\t6\n",
      "'Tabula Cebetis'\t6\n",
      "alchemy\t6\n",
      "reflection (in a mirror) - AA - (for) women\t6\n",
      "servant - AA - chambermaid\t6\n",
      "Salome with the head of John the Baptist on a dish\t6\n",
      "prehistoric grave forms\t6\n",
      "Jonah is swallowed by a great fish, (sea)monster, whale, dolphin, or the like\t6\n",
      "upper leg\t6\n",
      "Adulthood, Majority; 'Virilità' (Ripa)\t6\n",
      "arm raised, with fist\t6\n",
      "garden approach, garden drive\t6\n",
      "demons ~ non-Christian religions\t6\n",
      "Ulysses, tied to the mast of his ship, passes the Sirens\t6\n",
      "other scenes ~ the book of Tobit\t6\n",
      "Hercules in love with Deianira, daughter of Oeneus\t6\n",
      "apotheosis of Hercules: he is borne to heaven in a four-horse chariot and reconciled with Juno\t6\n",
      "other percussion instruments\t6\n",
      "Esther swoons on the shoulder of one of her maids (Esther 15:7)\t6\n",
      "appearances\t6\n",
      "God punishes Israel with three days of plague; the avenging angel with his sword drawn goes through the land; seventy thousand men are killed\t6\n",
      "other handicrafts ~ wood\t6\n",
      "David repentant; he lies on the ground praying and fasting for his child to recover\t6\n",
      "coloured races of Central America\t6\n",
      "'vitam aeternam' ~ articles of faith\t6\n",
      "lapidary\t6\n",
      "celebration meal, feast, banquet - CC - out of doors\t6\n",
      "Peter's vision of the unclean beasts on the roof of the house of Simon the Tanner: a sheet descends from heaven full of four-footed beasts, creeping things and fowl of the air\t6\n",
      "Mary sitting or enthroned, the Christ-child standing on her knee (Christ-child to Mary's left)\t6\n",
      "the crossing of the Jordan by the Israelites\t6\n",
      "the cross(es) in the middle distance\t6\n",
      "house built upon a rock; house built upon sand ~ doctrine of Christ on love, etc. (Matthew 7:24-27; Luke 6:47-49)\t6\n",
      "hand, 'Dextera Dei' ~ symbol of God the Father\t6\n",
      "implements for learning to walk, go-cart - AA - girl\t6\n",
      "Mausoleum at Halicarnassus (Wonder of the World)\t6\n",
      "life and acts of Peter\t6\n",
      "child teaching teacher, parents, or other adults\t6\n",
      "saw-mill (works)\t6\n",
      "delivering; receiving (~ postal matter)\t6\n",
      "the two witnesses of God are slain by the beast and the people rejoice over their death\t6\n",
      "Joshua throws himself at the feet of the angel with the sword\t6\n",
      "lying on one side, stretched out - AA - female human figure\t6\n",
      "the flight into Egypt: Mary, Joseph, the child (and sometimes others) on their way; Mary usually riding on an ass - BB - landscape predominant\t6\n",
      "medal, badge of a guild\t6\n",
      "orb (symbol of sovereignty; sphere with cross on top) - BB - female ruler\t6\n",
      "sluggard\t6\n",
      "bridges by construction\t6\n",
      "Rebekah draws water for the camels\t6\n",
      "Hamor and Shechem come to Jacob, whose sons have just come in from the fields, to ask for Dinah in marriage; the sons agree on condition that the Shechemites will be circumcised\t6\n",
      "ornament derived from objects\t6\n",
      "chastity\t6\n",
      "tug-of-war\t6\n",
      "Christ returning with his parents\t6\n",
      "Abraham liberates Lot, recovers the stolen goods and returns in triumph\t6\n",
      "smell, smelling (one of the five senses) - AA - female human figure\t6\n",
      "presents offered to the beloved\t6\n",
      "spine\t6\n",
      "King Cyrus sets food before the image of Bel; Daniel and his servants strew ashes on the floor of the temple\t6\n",
      "island (in tropical and sub-tropical regions)\t6\n",
      "the 'sons of God' (angels) with Satan gather before God (Job 1:6-12)\t6\n",
      "canteen ~ the soldier off duty\t6\n",
      "triumph of Neptune and Amphitrite, with a retinue of tritons and Nereids, i.e. marriage train\t6\n",
      "story of Hermaphroditus and Salmacis\t6\n",
      "(story of) Hymen(aeus)\t6\n",
      "the unmerciful servant attacks his fellow-servant who owes him money, and casts him into prison ~ parable of the unmerciful servant\t6\n",
      "counter-attack\t6\n",
      "healing of a man with a withered hand (Matthew 12:9-13; Mark 3:1-5; Luke 6:6-10)\t6\n",
      "the ballet, ballet performance\t6\n",
      "(story of) Prometheus\t6\n",
      "'Sacra Conversazione'\t6\n",
      "secretary, scribe\t6\n",
      "Tobias lies the fish's heart and liver on glowing coals; the evil spirit Asmodeus disappears\t6\n",
      "(person) in fetters, not imprisoned\t6\n",
      "the book with the seven seals enthroned ~ Revelation of John\t6\n",
      "classical antiquity (historical epoch)\t6\n",
      "transplanting, setting out plants\t6\n",
      "lavatory, water-closet\t6\n",
      "Esther sends Mordecai some clothes; he refuses them\t6\n",
      "specific aspects of angels, e.g. intervening in human affairs\t6\n",
      "weapons for striking a blow\t6\n",
      "Christ is teaching in the temple in the middle of the feast of Tabernacles\t6\n",
      "Harpocrates\t6\n",
      "Job discussing with his friends\t6\n",
      "fjord, sea loch\t6\n",
      "spiral or Solomonic column\t6\n",
      "eagle (possibly with book) ~ symbol of St. John\t6\n",
      "Paul before Festus, King Agrippa and Queen Bernice\t6\n",
      "clappers, castanets\t6\n",
      "Barak comes to Jael's tent; she shows him Sisera's body\t6\n",
      "'Trionfi d'Amore', 'Triumphus Cupidinis'; 'Carro d'amore' (Ripa)\t6\n",
      "the leave-taking ~ Tobias' return\t6\n",
      "biblical laws, justice and government ~ Jewish religion\t6\n",
      "the attack on the Midianites: Gideon and his men blow their trumpets, break their pitchers, and hold their lamps\t6\n",
      "canon, proportions\t6\n",
      "story of Enoch, son of Jared, who invented letters and was the first to divide the year into seasons and into twelve months\t6\n",
      "Joshua and his army make a surprise attack on the Amorites who are besieging the city of Gibeon\t6\n",
      "Hope; 'Speranza', 'Speranza delle fatiche' (Ripa)\t6\n",
      "(8) the four mares of King Diomedes are captured; when Diomedes is slain in the ensuing battle his body is thrown to the mares to eat\t6\n",
      "Colossus of Rhodes (Wonder of the World)\t6\n",
      "ten servants sent by David come to Nabal to ask for food; Nabal and his men may be shown shearing sheep\t6\n",
      "accident with four-wheeled, animal-drawn vehicle, e.g.: cab, carriage, coach\t6\n",
      "'a man of God' from Judah comes to Bethel and prophesies to Jeroboam the destruction of the altar\t6\n",
      "(story of) Marsyas\t6\n",
      "the ten northern tribes make Jeroboam king of Israel and set up the capital of Shechem (later exchanged for Tirzah)\t6\n",
      "Bathsheba brings Adoniah's request to Solomon\t6\n",
      "Selfishness; 'Interesse', 'Interesse proprio' (Ripa)\t6\n",
      "Samson wakes up and finds his hair and strength gone; he is taken prisoner\t6\n",
      "Daniel sitting unharmed in the lion's den, surrounded by lions\t6\n",
      "fight of Lapiths and centaurs at the wedding of Pirithous and Hippodamia\t6\n",
      "photography\t6\n",
      "David and Jonathan embracing; David's leave-taking from Jonathan\t6\n",
      "adoration of the Christ-child by Mary; John the Baptist present\t6\n",
      "sealing of the tribes of Israel, the 144-thousand\t6\n",
      "taming, domestication of animals; tamed or domesticated animal\t6\n",
      "Venus and her children ('Planetenkinder') ~ Taurus and Libra\t6\n",
      "man and (wild) animal\t6\n",
      "Memory; 'Memoria' (Ripa)\t6\n",
      "Tobias and Sarah praying\t6\n",
      "Jason and Medea at the altar of Hecate (or Diana): Medea gives him a magic herb or ointment\t6\n",
      "(story of) Amphitrite\t6\n",
      "idols falling down at the preaching of Simon Zelotes\t6\n",
      "games at school\t6\n",
      "the people feasting ~ adoration of the golden calf\t6\n",
      "Jacob is buried in the cave of Machpelah\t6\n",
      "drinking-horn\t6\n",
      "Calais and Zetes chase away the Harpies that plagued Phineus\t6\n",
      "Christ healing possessed people\t6\n",
      "crier (~ proclamation of laws)\t6\n",
      "difficult and unusual birth\t6\n",
      "Moses drives away the shepherds who wanted to prevent Jethro's daughters from watering their father's flock\t6\n",
      "Abigail goes out with asses laden with loaves of bread and bottles of wine, to meet David\t6\n",
      "Charlemagne (one of the nine worthies)\t6\n",
      "Cupid vanquishing Pan\t6\n",
      "Pluto in love with Proserpina\t6\n",
      "Rahab, whose house was built in the city wall, lets the spies down from the window by means of a red rope\t6\n",
      "Christ aloft in the sky ~ Ascension\t6\n",
      "the Archangel Michael (and other angels) casting the rebel angels out of heaven\t6\n",
      "Calumny of Apelles: bad judge with ass's ears on throne, with Deceit, Envy, Ignorance, Suspicion and Treachery, confronted with innocent accused; Remorse and Truth present\t6\n",
      "star-chart, star map\t6\n",
      "other types of nymph(s)\t6\n",
      "coffee-pot\t6\n",
      "Paul and Barnabas at Lystra\t6\n",
      "Naomi sends away her daughters-in-law: Orpah returns home, Ruth stays\t6\n",
      "fan\t6\n",
      "David takes Saul's spear and water-flask away\t6\n",
      "the Israelites leave Egypt; first movement from Rameses to Succoth (Exodus 12:31 - 13:16)\t6\n",
      "ash\t6\n",
      "fulling ~ cloth finishing\t6\n",
      "jumping games\t6\n",
      "city-view in general; 'veduta' - II - ideal city\t6\n",
      "King Nebuchadnezzar dreams of a tree that must be cut down\t6\n",
      "mummy\t6\n",
      "Naboth refuses to sell his vineyard to Ahab\t6\n",
      "Achan's sin (aftermath of the fall of Jericho) (Joshua 7)\t6\n",
      "on his way Obadiah meets Elijah who commands him to summon the king\t6\n",
      "Ixion on a burning wheel\t6\n",
      "triumph of Amphitrite\t5\n",
      "Christ as teacher (part I): explaining his doctrine; teaching ~ parables and proverbs\t5\n",
      "morning coffee\t5\n",
      "wedding reception\t5\n",
      "Christ showing his wounds\t5\n",
      "Sisera asks for water and is given milk by Jael\t5\n",
      "Hercules kills Geryon, the monster with three heads and three bodies, after having slain the herdsman Eurytion, and Orthrus, the two-headed watch-dog\t5\n",
      "death of Meleager: Althaea throws the unburnt brand into the fire, thus causing Meleager's death\t5\n",
      "the prison-doors are opened by an earthquake ~ Paul and Silas in prison\t5\n",
      "Mother of Mercy, 'Mater Misericordiae', 'Schutzmantelmadonna', 'Schutzmantelmaria'\t5\n",
      "pawnbroker, lombard\t5\n",
      "Minerva visits the cave of Envy (Invidia) in order to punish Aglauros\t5\n",
      "Saul meets a group of prophets playing harps, drums, flutes and lyres\t5\n",
      "violent death by arrow(s)\t5\n",
      "litter, rubbish, garbage ~ street sweeping\t5\n",
      "violent death by disembowelment, pulling out of intestines\t5\n",
      "insignia of companies, etc.\t5\n",
      "the lord distributing talents or pounds among his servants\t5\n",
      "the twelve apostles (as a group), usually with books or scrolls (not in biblical context) - II - the apostles with Matthias instead of Judas Iscariot\t5\n",
      "singing of psalms, hymns, etc.\t5\n",
      "Invention, Inventiveness; 'Inventione' (Ripa)\t5\n",
      "specific aspects, allegorical aspects of Bacchus; Bacchus as patron\t5\n",
      "'music' of children\t5\n",
      "the Ark of the Covenant is brought into the temple; a cloud fills the house of the Lord\t5\n",
      "ornament ~ spiral and derived from spiral, e.g.: Greek wave\t5\n",
      "ornament ~ circle and derived from circle, e.g.: guilloche\t5\n",
      "salt\t5\n",
      "triumph of Silenus\t5\n",
      "psychostasis, the Archangel Michael weighing the souls in the scales (and stabbing the devil)\t5\n",
      "King Herod Agrippa speaks to the people; he is smitten by an angel and dies\t5\n",
      "Charity, 'Caritas'; 'Carità' (Ripa) ~ one of the Three Theological Virtues - MM - Virtues triumphant\t5\n",
      "Job's prosperity restored; the last part of his life (Job 42:10-17)\t5\n",
      "Godefroy of Bouillon (one of the nine worthies)\t5\n",
      "Offering; 'Offerta overo Oblatione' (Ripa)\t5\n",
      "Philyra beloved by Saturn, occasionally in the shape of a horse\t5\n",
      "procession ~ non-Christian religions\t5\n",
      "draughts\t5\n",
      "Apollo, possibly in the guise of an old woman, wooing Leucothea\t5\n",
      "Joab killed by Benaiah\t5\n",
      "Daniel's visions (Daniel may be shown having his visions explained, e.g. by the archangel Gabriel)\t5\n",
      "Christ in agony waiting to be crucified; he is sitting on or near the cross or on a stone, 'Christus im Elend', 'Christus in der Rast'\t5\n",
      "other birds\t5\n",
      "blessings of peace\t5\n",
      "accident with (farm) wagon, freight wagon, cart\t5\n",
      "non-aggressive, friendly or neutral activities and relationships of Orpheus\t5\n",
      "wheelchair, bathchair\t5\n",
      "Adam engaged in agricultural activities, Eve spinning and usually their children at play\t5\n",
      "plundering of David's grave by Herod the Great\t5\n",
      "religious instruction of laity, e.g. Sunday School\t5\n",
      "an altar is prepared by the Baal-worshippers and a bull is laid upon it; all the priests' cries, wild dances and self-mutilations are in vain (sacrifice on Mount Carmel)\t5\n",
      "ball games (children's games)\t5\n",
      "dressing, bandage\t5\n",
      "Balaam and King Balak meet and together they make a sacrifice\t5\n",
      "specific aspects, allegorical aspects of Cybele; Cybele as patroness\t5\n",
      "Absalom consoles Tamar\t5\n",
      "political propaganda\t5\n",
      "the ark is placed on a cart driven by the sons of Abinadab; David and the people dance and make music before the ark\t5\n",
      "the (fifteen) secrets of the rosary\t5\n",
      "entrance of hell as gate\t5\n",
      "priest at the bed of a dying person ~ extreme unction\t5\n",
      "treasure hunting, goldrush\t5\n",
      "Christ as (heavenly) judge\t5\n",
      "angel(s) addressing Mary Magdalene ~ Resurrection of Christ\t5\n",
      "when Saul comes out of the cave, David calls him, falls down on his knees and shows him the piece of cloth\t5\n",
      "pacing, striding\t5\n",
      "Esther accuses Haman\t5\n",
      "Jael takes a nail of the tent and a hammer\t5\n",
      "the dead Christ lying at Mary's feet\t5\n",
      "Intellect, Intelligence; 'Intelletto', 'Intelligenza' (Ripa)\t5\n",
      "functionaries and dignitaries ~ episcopal Protestant churches\t5\n",
      "man and his shadow\t5\n",
      "Ceres, patroness of agriculture\t5\n",
      "Apollo Medicus\t5\n",
      "burying the dead, 'mortuus sepellitur' ~ one of the (seven) Acts of Mercy\t5\n",
      "Amnon sends Tamar away; Tamar puts ashes on her head, rends her garment, lays her hand on her head and leaves crying\t5\n",
      "Christ stepping out of the tomb\t5\n",
      "Josiah does away with pagan worship\t5\n",
      "lime-burner\t5\n",
      "'Urim' and 'Thummim' ~ vestments of high priest\t5\n",
      "marriage of Peleus and Thetis\t5\n",
      "Christ healing paralytics\t5\n",
      "'remissionem peccatorum' ~ articles of faith\t5\n",
      "Seraphim\t5\n",
      "penis, phallus\t5\n",
      "executioner, hangman\t5\n",
      "pick-a-back, piggyback\t5\n",
      "disciples let Paul down the wall of the city in a basket\t5\n",
      "Nemean lion\t5\n",
      "'inde venturus est iudicare vivos et mortuos' ~ articles of faith\t5\n",
      "'descendit ad inferna, tertia die resurrexit a mortuis' ~ articles of faith\t5\n",
      "sow\t5\n",
      "'passus sub Pontio Pilato, crucifixus, mortuus et sepultus est' ~ articles of faith\t5\n",
      "an angel stirs up the water of the pool of Bethesda\t5\n",
      "bit\t5\n",
      "enema, squirt\t5\n",
      "Saturn (planet)\t5\n",
      "accessories ~ shoes, e.g. insole, shoehorn, shoe-polish\t5\n",
      "ship of fools\t5\n",
      "Christ baptizing (in Judea) (John 3:26)\t5\n",
      "Cacus steals some of the cattle of Geryon which Hercules was driving home\t5\n",
      "toes\t5\n",
      "May; 'Maggio' (Ripa)\t5\n",
      "Judas before the Sanhedrin returning the pieces of silver; he throws the money to the ground\t5\n",
      "other groups of apostles\t5\n",
      "August; 'Agosto' (Ripa)\t5\n",
      "dredging (industrial process)\t5\n",
      "representation of foolish virgin(s)\t5\n",
      "officers trusted with control of quality\t5\n",
      "sending, packing of postal matter\t5\n",
      "John preaching\t5\n",
      "neighbour\t5\n",
      "Samson asleep in Delilah's lap; she is usually shown beckoning to a Philistine or putting a finger to her lips\t5\n",
      "statue coming to life: at Pygmalion's prayer, a statue (latterly called Galatea) comes to life; a favour of Venus (Ovid, Metamorphoses X 280)\t5\n",
      "Hezekiah, for the defense of Jerusalem, cuts off the supply of water outside the city\t5\n",
      "breakfast\t5\n",
      "lovers spied upon\t5\n",
      "the Levites are appointed to serve the priests\t5\n",
      "requesting the bride's parents' permission\t5\n",
      "the ground opens and swallows the rebels Dathan and Abiram along with their families and possessions\t5\n",
      "hearing, listening (one of the five senses) - AA - female human figure\t5\n",
      "the three Wise Men are warned in a dream by an angel not to return to Herod\t5\n",
      "hidden love discovered\t5\n",
      "training of dogs\t5\n",
      "afternoon ~ other concepts\t5\n",
      "debate, discussion (~ meeting) - AA - in the open air\t5\n",
      "Flora in her realm: a garden full of flowers, given to her by Zephyrus\t5\n",
      "glass industry\t5\n",
      "party (students)\t5\n",
      "Shrove Thursday, 'Jeudi gras'\t5\n",
      "Cyparissus changed into a cypress: when pining away for the loss of his favourite stag, Cyparissus the hunter, minion of Apollo, is changed into a cypress by the god (Ovid, Metamorphoses X 106)\t5\n",
      "virtues of the ruler\t5\n",
      "angel(s) represented as youth(s) or adult(s)\t5\n",
      "heretic\t5\n",
      "inland cliff face\t5\n",
      "Malchus is healed by Christ\t5\n",
      "the Hydra is killed by Hercules assisted by Iolaus, who sears the roots of the severed heads with burning brands; an enormous crab nips Hercules' foot\t5\n",
      "ritual music and dancing ~ Islam, Mohammedanism\t5\n",
      "engraving\t5\n",
      "when the bridegroom arrives, all wake up and the foolish virgins ask the wise virgins oil for their lamps\t5\n",
      "Rationality, Reasoning; 'Ratiocinatione o Discorso' (Ripa)\t5\n",
      "public life of Christ: from his baptism until the Passion\t5\n",
      "the widow's oil: the little oil a woman has in store increases so that she and her son are able to fill many borrowed jars with it (2 Kings 4:1-7)\t5\n",
      "Opinion\t5\n",
      "specific aspects, allegorical aspects of Jupiter; Jupiter as patron\t5\n",
      "belvedere\t5\n",
      "(story of) Peleus and Thetis\t5\n",
      "Christ vanishes ~ supper at Emmaus\t5\n",
      "pirate(ship)\t5\n",
      "bomb-outrage\t5\n",
      "conclave ~ Roman Catholic church\t5\n",
      "the articles of faith; confessions\t5\n",
      "anatomical model of the skeletal system\t5\n",
      "Polyphemus\t5\n",
      "Mortality, Extinction of Life\t5\n",
      "toddler (male)\t5\n",
      "blessed are those who are persecuted for righteousness' sake\t5\n",
      "after the wedding-night Jacob discovers that he has been deceived with Leah and complains to Laban\t5\n",
      "sawyer\t5\n",
      "'litterae', symbolic representations, allegories and emblems ~ literature; 'Lettere' (Ripa)\t5\n",
      "croquet\t5\n",
      "child labour\t5\n",
      "plumber\t5\n",
      "Adoram is stoned to death; Rehoboam escapes in his chariot to Jerusalem\t5\n",
      "military training\t5\n",
      "Christ shows Thomas his wounds\t5\n",
      "Hospitality; 'Hospitalità' (Ripa)\t5\n",
      "temple of Artemis at Ephesus (Wonder of the World)\t5\n",
      "wagon racing (with horses)\t5\n",
      "(story of) Bellerophon\t5\n",
      "leaning sideways\t5\n",
      "(7) the Cretan bull is captured by Hercules\t5\n",
      "druid (Celtic religious functionary)\t5\n",
      "bridge in city with structures, i.e. shops, houses, e.g. Ponte Vecchio in Florence\t5\n",
      "False Church personified\t5\n",
      "the plague of water turned into blood: as Pharaoh goes down to the Nile, Aaron strikes the surface of the river with his rod; the water turns into blood and all the fishes die\t5\n",
      "the daughters of Pelias kill their father in his bed; Medea plunges his body in boiling water\t5\n",
      "blast-furnace\t5\n",
      "Jacob awakes, anoints the stone and names the place Bethel\t5\n",
      "(story of) Cyclopes as fellow blacksmiths of Vulcan, in the god's forge\t5\n",
      "fabulous animals ~ birds\t5\n",
      "presentation of sword ~ installation of a ruler\t5\n",
      "stars and constellations\t5\n",
      "Hebrew script\t5\n",
      "symbols of Last Judgement\t5\n",
      "fight with the dragon; Jason sprinkles a drug in its eyes, possibly assisted by Medea\t5\n",
      "minstrel, 'jongleur'\t5\n",
      "the plague of boils: Moses throws a handful of ashes into the air in front of Pharaoh and it produces boils on the people and the animals\t5\n",
      "(map of) Europe\t5\n",
      "(story of) Aeolus, guardian of the winds; 'Eolo' (Ripa)\t5\n",
      "'Ordinatio', ordination ~ the fifth of the seven sacraments\t5\n",
      "revolutionary council\t5\n",
      "sports, games and physical performances\t5\n",
      "the wooden horse is brought into the city of Troy\t5\n",
      "apotheosis of a ruler\t5\n",
      "Pan-herm\t5\n",
      "companions, nymphs of Diana; 'Ninfe di Diana' (Ripa)\t5\n",
      "arm stretched sidewards - AA - both arms or hands\t5\n",
      "portrait, self-portrait of craftsman in applied arts\t5\n",
      "kidnapping\t5\n",
      "the Passover is celebrated for the first time in the promised land\t5\n",
      "Mars and Venus, caught in a net by Vulcan, are exposed to the ridicule of the assembled gods\t5\n",
      "hidden love\t5\n",
      "female infant\t5\n",
      "mechanics\t5\n",
      "Jephthah's daughter retreats to the mountains with her companions to bewail her virginity\t5\n",
      "first visit of the three Wise Men to King Herod\t5\n",
      "Joseph receives his brothers and Benjamin\t5\n",
      "(story of) Triton\t5\n",
      "'Bocca della Verità' (woman accused of adultery putting her hand into sculpted figure's mouth to prove her innocence)\t5\n",
      "Israelites (usually four) are brought before the prince of eunuchs because King Nebuchadnezzar wants to have them educated in the palace (Daniel 1)\t5\n",
      "while tending Jethro's flock Moses comes to Horeb\t5\n",
      "pickpocket - GG - female\t5\n",
      "blind, blindness - AA - metaphorically blind\t5\n",
      "Ruth uncovers the feet of the sleeping Boaz and lies down\t5\n",
      "the five Amorite kings are killed either on Joshua's command or by his own hand, and their bodies are hanged as a display\t5\n",
      "Peter in the house of Cornelius: the Holy Ghost descends upon Cornelius and his family, who are baptized by Peter\t5\n",
      "life and acts of Stephen (Acts 6:8 - 8:2)\t5\n",
      "Solomon and Bathsheba\t5\n",
      "the meeting of Tobias and the angel Raphael\t5\n",
      "Jacob serving Laban for Rachel and Leah (Genesis 29:14-30)\t5\n",
      "freeing a prisoner; ransoming\t5\n",
      "Shamgar slays six hundred Philistines with an ox goad\t5\n",
      "(doctrine on) Divine Grace; 'Gratia di Dio', 'Gratia divina' (Ripa)\t5\n",
      "the wicked husbandmen kill the servants of the lord, who are sent to gather the fruits\t5\n",
      "the book Exodus: story of Moses and Aaron\t5\n",
      "quadriga\t5\n",
      "story of Athalia, queen of Judah (2 Kings 11:1-3, 11:13-16; 2 Chronicles 22:10-12, 23:12-15)\t5\n",
      "north wind, 'Aquilo', 'Boreas', 'Septentrionarius' (one of eight directions)\t5\n",
      "shopkeeper\t5\n",
      "the Holy Family (and sometimes others) returning to Israel\t5\n",
      "brothers (second degree family relationships)\t5\n",
      "'album amicorum', 'Stammbuch'\t5\n",
      "bad wife\t5\n",
      "King Nebuchadnezzar's madness: long-haired, he creeps on all fours, eating grass\t5\n",
      "planimetry, geometry\t5\n",
      "the partnership with Laban ~ story of Jacob (Genesis 30:25-43)\t5\n",
      "enjoying nature ~ plants, herbs and flowers\t5\n",
      "asceticism ~ Hinduism, Buddhism, Jainism\t5\n",
      "zodiacal signs of the summer season\t5\n",
      "the cursing of the fig-tree (Matthew 21:18-22; Mark 11:12-14, 11:20-21)\t5\n",
      "Solomon enthroned\t5\n",
      "Luna and her children ('Planetenkinder')\t5\n",
      "Nebuchadnezzar gives Holofernes the command of an army to fight the neigbouring states\t5\n",
      "Jupiter (planet)\t5\n",
      "ideal and visionary architecture\t5\n",
      "Noah curses Ham (and Canaan)\t5\n",
      "Elisha strikes the water with Elijah's cloak, parts the water and recrosses the river; he thus wins recognition from the sons of the prophets\t5\n",
      "exorcizing the devil\t5\n",
      "God brings Adam to paradise\t5\n",
      "dry-nurse\t5\n",
      "homage to Solomon: the queen of Sheba gives Solomon gold, precious stones and spices\t5\n",
      "at the angel's request Gideon puts the food on a rock and pours out the broth\t5\n",
      "handicrafts and industries\t5\n",
      "the leopard with four bird's wings and four heads ~ Daniel's visions\t5\n",
      "coastal structures\t5\n",
      "fountain of youth, 'Fontaine de Jouvence'\t5\n",
      "slander\t5\n",
      "English or landscape garden\t5\n",
      "miracles, appearances, and legends ~ Mary\t5\n",
      "apparent death\t5\n",
      "Venus (planet)\t5\n",
      "'motherly care', delousing - AA - female human figure\t5\n",
      "public funeral - AA - festivities on the water\t5\n",
      "address, talk, lecture (~ meeting) - AA - in the open air\t5\n",
      "Solomon's prayer for wisdom (1 Kings 3:4-15)\t5\n",
      "open fire, fire-place, stove (in kitchen) - CC - in the open air\t5\n",
      "human types; peoples and nationalities\t5\n",
      "the empty cross(es)\t5\n",
      "specific aspects of Cupid\t5\n",
      "Cleopas and Peter arrive at the gate of Emmaus, or at the inn; Christ is asked to stay\t5\n",
      "priest (Eastern, Greek and Russian orthodox)\t5\n",
      "public punishment (death not intended or involved)\t5\n",
      "pursuit of a woman, prowling\t5\n",
      "James as Moor-slayer ('Matamoros'): on the battle-field of Clavijo he appears on a white horse\t5\n",
      "bookcase, with doors\t5\n",
      "weighing-instruments\t5\n",
      "hunt ~ trunked animals\t5\n",
      "civilians during bombardment\t5\n",
      "carpus and metacarpus, parts of the hand\t5\n",
      "exterior of industrial structures, factories\t5\n",
      "industries ~ wood\t5\n",
      "altar ~ non-Christian religions\t5\n",
      "ballad singer, ballad seller\t5\n",
      "Ulysses' companions are changed into all kinds of animals\t5\n",
      "hairdresser\t5\n",
      "leprosarium\t5\n",
      "Elijah announces to King Ahab that God will bring a long drought in the land to avenge the apostasy of Israel\t5\n",
      "parting, leave-taking (of lovers)\t5\n",
      "father with son(s) and daughter(s) (father-love)\t5\n",
      "group dancing among upper classes\t5\n",
      "the Ephesians burn the exorcists' books in public\t5\n",
      "annexes and outbuildings; fencing; gate\t5\n",
      "Narcissus changed into a narcissus: when Narcissus is pining away for the love of his image reflected from the water, he is changed into a narcissus (Ovid, Metamorphoses III 510)\t5\n",
      "'Vera Icon', held up by angels\t5\n",
      "the lion with eagle's wings (griffin), standing on its hind legs ~ Daniel's visions\t5\n",
      "'menorah', golden seven-branched candlestick, kept in the Tabernacle\t5\n",
      "(playing with) toy animals\t5\n",
      "the journey to Ecbatana (Tobit 4-6)\t5\n",
      "adoration of the name of Jesus\t5\n",
      "the company, the unit, the troop ~ military service\t5\n",
      "attributes of Aesculapius\t5\n",
      "one-sided courting\t5\n",
      "veteran\t5\n",
      "declining years and death of Adam and Eve\t5\n",
      "pomegranate ~ ornament\t5\n",
      "iron and steel industry\t5\n",
      "Lyncus changed into a lynx: Ceres changes Lyncus into a lynx when he is on the point of murdering the sleeping Triptolemus (Ovid, Metamorphoses V 657)\t5\n",
      "Isaiah's prophecy of the birth of Christ ('Immanuel') (possibly with Mary, the angel Gabriel and King Ahaz) (Isaiah 7:14-16)\t5\n",
      "extinguishing a fire\t5\n",
      "pope giving an audience\t5\n",
      "abuses of monks\t5\n",
      "God the Father holding the crucifix, 'Gnadenstuhl', Mercy-Seat, Throne of Grace\t5\n",
      "persecuted believers (hiding), e.g. Huguenots, Pilgrim Fathers\t5\n",
      "non-narrative representations of the wise and the foolish virgins\t5\n",
      "Brahma (supreme being, creator, etc. ~ Hinduism, Buddhism, Jainism)\t5\n",
      "government, the State; 'Politica', 'Auttorità o Potestà' (Ripa)\t5\n",
      "Mary reclining in bed or on a couch, looking at the Christ-child\t5\n",
      "Nebuzaradan, commander of the Babylonian army, burns down the temple and the palace of Jerusalem ~ second siege of Jerusalem\t5\n",
      "Counsel; 'Consiglio' (Ripa)\t5\n",
      "little household accidents\t5\n",
      "patron (or client) visiting the artist\t5\n",
      "Man of Sorrows supported or accompanied by mourning angels, 'Engelpietà'\t5\n",
      "'Trionfo del Tempo', 'Triumphus Temporis'; 'Carro del Tempo' (Ripa)\t5\n",
      "Paul accused before Felix by Tertullus\t5\n",
      "zodiacal signs of the autumn season\t5\n",
      "last communion, administering of the Holy Viaticum\t5\n",
      "(high) hill - HH - ideal landscapes\t5\n",
      "fraternity (students)\t5\n",
      "purging\t5\n",
      "etching\t4\n",
      "Jephthah sends messengers to the king of the Ammonites in an attempt to make a treaty (Judges 11:12-28)\t4\n",
      "the flowering rod (Numbers 17)\t4\n",
      "Attack\t4\n",
      "slipway ~ shipbuilding\t4\n",
      "chocolate (solid)\t4\n",
      "Jezebel schemes the murder of Naboth and sends some letters to the officials of Naboth's city\t4\n",
      "(map of) America\t4\n",
      "measures taken by revolutionary council\t4\n",
      "(10) the cattle of Geryon secured by Hercules\t4\n",
      "the spirit of God moves upon the waters\t4\n",
      "painting of body or face\t4\n",
      "Mary, the Christ-child and John the Baptist (as child) with others\t4\n",
      "trial of Christ, Christ before his judges\t4\n",
      "political parties\t4\n",
      "high tea\t4\n",
      "head turned sideways\t4\n",
      "crucified Christ, with particular persons under the cross - DD - the three crosses\t4\n",
      "a pregnant woman, clothed with the sun and standing on the moon, appears; she is threatened by a red dragon with a long tail and seven heads\t4\n",
      "woodcutter, wood-engraver\t4\n",
      "Tamar preparing cakes for Amnon\t4\n",
      "metamorphosed human beings\t4\n",
      "the beast and the false prophet conquered\t4\n",
      "the 'sons of God' with Satan gather again before God (Job 2:1-6)\t4\n",
      "a mighty angel casting a great (mill)stone into the sea\t4\n",
      "Daniel destroys the temple of Bel and its image\t4\n",
      "meeting, assembly - AA - in the open air\t4\n",
      "the Trojans escape from Polyphemus and the Cyclopes\t4\n",
      "repentant sinner, sinner turning to Christ\t4\n",
      "dominoes\t4\n",
      "the son of Shelomith is stoned to death by the Israelites\t4\n",
      "Terminus\t4\n",
      "dragon with seven heads ~ the Seven deadly Sins symbolized\t4\n",
      "artist offering his work, 'Dedikationsbild'\t4\n",
      "the mighty angel with the little open book in his hands: he is wrapped in a cloud; his legs are pillars of fire, which stand one on land and one in the sea ~ Apocalypse\t4\n",
      "Christ bewailed by women of Jerusalem; sometimes he consoles them\t4\n",
      "Jupiter and Juno as king and queen of Heaven\t4\n",
      "the (True) Church vs. other churches and ideas\t4\n",
      "banquets, feasts of the gods (in general)\t4\n",
      "domestic birds kept outside the house\t4\n",
      "'Credo in Deum Patrem omnipotentem, creatorem coeli et terrae' ~ articles of faith\t4\n",
      "Cain and Abel learn to assist their father; Cain by farming, Abel by herding\t4\n",
      "Ruth gleaning\t4\n",
      "twice Gideon asks the Lord to show him a sign with a sheep's fleece before his raid against the Midianites\t4\n",
      "darkness from the sixth to the ninth hour (represented by a solar eclipse) ~ Christ's death\t4\n",
      "Daniel interrogates the elders separately\t4\n",
      "making up\t4\n",
      "transfer of power\t4\n",
      "the plague of darkness: Moses raises his hands towards the sky and there is total darkness for three days\t4\n",
      "calling of the apostles\t4\n",
      "coppersmith, brassworker\t4\n",
      "the twelve apostles ~ the twelve prophets\t4\n",
      "Latona (Leto)\t4\n",
      "ballad singer, ballad seller - CC - out of doors\t4\n",
      "zodiacal signs of the winter season\t4\n",
      "specific types of Madonna with others\t4\n",
      "Jacob is presented to Pharaoh by Joseph\t4\n",
      "Uriah is killed in the battle\t4\n",
      "theologian in his study (writing or reading)\t4\n",
      "Mars and Venus surprised by Vulcan; he catches them in a net\t4\n",
      "the arrival of the three Wise Men in Bethlehem\t4\n",
      "packing of products\t4\n",
      "dominating husband\t4\n",
      "an angel commands Philip to go south\t4\n",
      "Daniel, who refuses to worship Bel, discusses the power of the god with King Cyrus\t4\n",
      "Hercules as personification of Virtue\t4\n",
      "Paris at the court of Menelaus\t4\n",
      "negotiations between combatants\t4\n",
      "Jacob and his family go to Egypt (Genesis 46:1-27)\t4\n",
      "bridge with structure, i.e. cover or buildings\t4\n",
      "Abraham is summoned before Abimelech; Sarah is given back to Abraham, who is honoured with a thousand pieces of silver and other gifts\t4\n",
      "persons ~ printing\t4\n",
      "the ghost of Samuel appears to the witch of Endor; Saul falls prostrate to the ground\t4\n",
      "Rehoboam taking counsel: he first consults the old men\t4\n",
      "inheritance\t4\n",
      "prayer or religious service before battle\t4\n",
      "Antichrist\t4\n",
      "Mary sitting or enthroned, the Christ-child standing on her knee (Christ-child to Mary's left) - FF - the Christ-child to Mary's right\t4\n",
      "Moses and Pharaoh's crown: Pharaoh playfully places his crown on the head of the infant Moses, who throws it to the ground and tramples on it; or Moses breaks the crown while playing\t4\n",
      "burying the dead, 'mortuus sepellitur' ~ one of the (seven) Acts of Mercy - VV - Christ present\t4\n",
      "the dream of Paris\t4\n",
      "defence ~ siege\t4\n",
      "transportation of milk\t4\n",
      "sight, looking (one of the five senses) - AA - female human figure\t4\n",
      "Bad, Evil, Wrong\t4\n",
      "after the furnace has been heated seven times more, the three Hebrews are bound and thrown into the fire; their executioners are burnt by the flames\t4\n",
      "martyrdom of Eleazar: the old man is forced to eat pork and voluntarily submits to the flogging (2 Maccabees 6:18-31)\t4\n",
      "ship's carpenter\t4\n",
      "tree as a scheme of relations, diagram in form of a tree\t4\n",
      "Impiety; 'Impietà' (Ripa)\t4\n",
      "expulsion, banishment (of old government)\t4\n",
      "Oreads, nymphs of the hills\t4\n",
      "handicrafts ~ production of food, drink, stimulants, etc.\t4\n",
      "artist (in general) studying classical remains - BB - out of doors\t4\n",
      "bankruptcy\t4\n",
      "breaking something (household accident)\t4\n",
      "surface decorations ~ architecture\t4\n",
      "Sirens (classical mythology)\t4\n",
      "declaration of war\t4\n",
      "Hercules' fight with the centaurs\t4\n",
      "Abraham with Isaac, an ass and the servants on their way to Moriah\t4\n",
      "bonfire, fire-works - AA - festivities on the water\t4\n",
      "the centaur Eurytion tries to carry off Hippodamia, the bride\t4\n",
      "seal (as symbol of the state, etc.)\t4\n",
      "sculptor in non-work situation\t4\n",
      "the three Estates: nobility, clergy, commoners\t4\n",
      "(story of) Nike\t4\n",
      "'Anna selbdritt' with Joseph and Joachim present\t4\n",
      "'Regina Coeli', 'Regina Angelorum', 'Maestà' ~ Madonna\t4\n",
      "Ezekiel's vision of God sitting on his throne carried by four tetramorphs, each of them having four wings; wheels within wheels beside them\t4\n",
      "as Haman is kneeling at Esther's feet or is prostrated on her couch King Ahasuerus returns; Haman is condemned to be hanged\t4\n",
      "composer at work\t4\n",
      "God speaks to Job from out of the whirlwind (Job 38 - 42:6)\t4\n",
      "the great devouring monster with many horns (one of them with eyes on it) ~ Daniel's visions\t4\n",
      "Christ mourning over Jerusalem and its future destruction (Luke 19:41-44)\t4\n",
      "button\t4\n",
      "the lost piece of silver recovered (Luke 15:8-9)\t4\n",
      "the three Wise Men see a star and are astonished by its magnitude\t4\n",
      "poor, maimed, blind and lame are brought in, and sit down at the table ~ parable of the royal wedding-feast\t4\n",
      "preparation of the sacrificial celebration with oxen and garlands in front of the temple of Jupiter ~ Paul and Barnabas at Lystra\t4\n",
      "wedding of Bacchus and Ariadne\t4\n",
      "other string instruments (plucked)\t4\n",
      "violent death by lance, spear\t4\n",
      "Veturia, mother of Coriolanus (one of the nine worthiest women)\t4\n",
      "Judas Iscariot is revealed as Christ's betrayer (communion of Judas)\t4\n",
      "hunters resting during the hunt - CC - female hunter, huntress\t4\n",
      "voting place, polling station\t4\n",
      "the (Seven) Sorrows of Mary\t4\n",
      "getting up from bed\t4\n",
      "Onias, the high priest, is slandered (2 Maccabees 4:1-4, 4:34-38)\t4\n",
      "whispering\t4\n",
      "tongue\t4\n",
      "David builds an altar in the threshing-floor of Araunah and burns the offerings to God\t4\n",
      "when the people eat the quails a plague breaks out\t4\n",
      "blood-revenge, vendetta\t4\n",
      "Christ addressing his disciples: 'it is easier for a camel to go through the eye of a needle ...' (Matthew 19:24; Mark 10:25; Luke 18:25)\t4\n",
      "strike (political demonstration)\t4\n",
      "Conscience; 'Coscienza' (Ripa)\t4\n",
      "Mary sitting on the ground, the Christ-child in front of her, sitting in her lap\t4\n",
      "linen-closet\t4\n",
      "crew and passengers ~ ship\t4\n",
      "plundering of David's grave by Johannes Hyrcanus\t4\n",
      "Moses shows the flowering rod of Aaron to the community\t4\n",
      "Mary (without Christ-child), together with others\t4\n",
      "Christ is dragged through the brook Cedron\t4\n",
      "payment ~ military service\t4\n",
      "Jeremiah communicating with God\t4\n",
      "'ascendit ad coelos, sedet ad dexteram patris omnipotentis' ~ articles of faith\t4\n",
      "'you shall have no other gods' ~ separate representation of the first of the ten commandments\t4\n",
      "'remember the sabbath day' ~ separate representation of the fourth of the ten commandments\t4\n",
      "offspring, companion(s), train etc. of Neptune\t4\n",
      "Sol and his children ('Planetenkinder')\t4\n",
      "the angel makes himself known; Tobias and his family lie down\t4\n",
      "'you shall not commit adultery' ~ separate representation of the seventh of the ten commandments\t4\n",
      "Mars and his children ('Planetenkinder')\t4\n",
      "ovaries\t4\n",
      "Jupiter and his children ('Planetenkinder')\t4\n",
      "story of Tobias: Tobias and Sarah (Tobit 7-9)\t4\n",
      "feeling (one of the five senses) - AA - female human figure\t4\n",
      "fabulous animals ~ hoofed animals\t4\n",
      "hearth-plate\t4\n",
      "Manasseh's apostasy\t4\n",
      "Heliades changed into poplar-trees: while weeping over Phaeton's grave the Heliades are changed into poplar-trees, and their tears turn into beads of amber; their mother Clymene may be present (Ovid, Metamorphoses II 346)\t4\n",
      "victory of the Israelites ~ Judith and Holofernes\t4\n",
      "crowning of Esther\t4\n",
      "Isaac, walking in the fields, meets Rebekah\t4\n",
      "dignitary at court\t4\n",
      "Eliezer taking the oath: Abraham sends him to his relatives in Mesopotamia to find a wife for Isaac\t4\n",
      "man struggling with animals\t4\n",
      "being brought to school, first school-day\t4\n",
      "Mary standing (or half-length), the Christ-child in front of her, close to her bosom; lying\t4\n",
      "Saul desires letters from the high priest so as to persecute the disciples of the Lord in Damascus\t4\n",
      "mouldings ~ architecture\t4\n",
      "ornament derived from animal forms - AA - stylized\t4\n",
      "the plague of murrain in cattle: all the animals of the Egyptians die\t4\n",
      "Samuel in the temple at Shiloh presented to Eli by Hannah\t4\n",
      "incense used in the church\t4\n",
      "Helena identifies the True Cross: a human corpse is restored to life when it touches the cross\t4\n",
      "hell divided into compartments\t4\n",
      "Christ enters hell\t4\n",
      "groups of witches\t4\n",
      "reading of the Torah ~ Jewish religion\t4\n",
      "going through the ice ~ playing children\t4\n",
      "Man of Sorrows together with Mary\t4\n",
      "making up - AA - (for) women\t4\n",
      "Christ discussing the temple tribute with the apostles\t4\n",
      "wine-testing, wine-grading\t4\n",
      "request of the mother of the sons of Zebedee (Matthew 20:20-21)\t4\n",
      "after crossing the Red Sea the Israelites rejoice and praise God (Exodus 15:1-21)\t4\n",
      "the adoration of the golden calf ~ Aaron (Exodus 32:1-19)\t4\n",
      "half or three-quarter figure of the Man of Sorrows\t4\n",
      "Christ is offered a benumbing drink, but he refuses it\t4\n",
      "Christ-child looking or turning to Mary ~ Madonna-representations\t4\n",
      "Curiosity, Inquisitiveness, Desire of Knowledge; 'Curiosità' (Ripa)\t4\n",
      "dissecting-room, 'theatrum anatomicum'\t4\n",
      "blessed are those who mourn\t4\n",
      "Abraham communicating with God (in general)\t4\n",
      "toddler - AA - girl\t4\n",
      "orders, order-books ~ architecture\t4\n",
      "Joachim's and Anna's sacrifice refused\t4\n",
      "feeding the hungry, 'esuriens cibatur' ~ one of the (seven) Acts of Mercy - VV - Christ present\t4\n",
      "domestic animals, kept in the house\t4\n",
      "logic, 'Logica'; 'Logica' (Ripa)\t4\n",
      "King Hiram of Tyre sends ambassadors to Solomon\t4\n",
      "when the people complain again about the food, God sends poisonous snakes; many die of snake-bites ~ book of Numbers\t4\n",
      "woman dressed as man, travesty\t4\n",
      "stimulating drinks\t4\n",
      "drowned person\t4\n",
      "first invitation to the feast ~ parable of the royal wedding-feast\t4\n",
      "God on his throne, surrounded by the twenty-four elders (wearing crowns and playing harps) and the four Beasts\t4\n",
      "Apollo in Vulcan's forge revealing Venus' love-affair with Mars\t4\n",
      "Abimelech is struck on the head by a millstone thrown by a woman\t4\n",
      "asylum, sanctuary\t4\n",
      "ritual objects and ritual means ~ non-Christian religions\t4\n",
      "fork\t4\n",
      "Peter in Lydda heals Aeneas, who had been confined to his bed for eight years (Acts 9:32-35)\t4\n",
      "archive\t4\n",
      "thin (human type)\t4\n",
      "human figure of ideal proportions, e.g. academic nude - AA - female human figure\t4\n",
      "'Arma Christi' ~ Christ\t4\n",
      "Peter questioning Sapphira, who then dies too\t4\n",
      "Hercules, raging with pain, hurls Lichas into the sea\t4\n",
      "'berit milah', circumcision ~ Jewish ceremonies\t4\n",
      "Cornelius sends two servants and a soldier to Peter in Joppa\t4\n",
      "the Four Last Things\t4\n",
      "pygmies, midgets\t4\n",
      "mission of the apostles\t4\n",
      "plea, defence\t4\n",
      "Mercury hands the baby Bacchus over to the nymphs of Nysa\t4\n",
      "Jacob puts peeled rods in the animals' drinking troughs to make the beasts bear spotted young\t4\n",
      "feeling pulse or heart-beat\t4\n",
      "counter-attack from a fortification ~ siege\t4\n",
      "still other arrangements of 'Anna selbdritt', e.g.: young John the Baptist present\t4\n",
      "parts of ship's exterior - CC - more than one ship\t4\n",
      "Pluto as king of the underworld\t4\n",
      "small group of musicians, chamber orchestra, jazz band - CC - 'concert champêtre'\t4\n",
      "flying on or with the aid of animal(s)\t4\n",
      "birth of the twins: Pharez and Zarah\t4\n",
      "Lie; 'Bugia' (Ripa)\t4\n",
      "Judith and her maidservant are led to Holofernes' tent\t4\n",
      "Hector's farewell to his wife Andromache and his young son Astyanax\t4\n",
      "transport of the sick, wounded and dead by vehicle\t4\n",
      "rocks - HH - ideal landscapes\t4\n",
      "events and situations from classical history\t4\n",
      "the talents or pounds ~ parable of Christ (Matthew 25:14-30; Luke 19:12-27)\t4\n",
      "Erigone and Bacchus, the latter possibly in the shape of a bunch of grapes\t4\n",
      "braiding\t4\n",
      "council of war\t4\n",
      "joiner, cabinet maker, 'ébéniste'\t4\n",
      "maps of the continents and the polar regions\t4\n",
      "Solomon anointed king by Zadok; all the people rejoice and blow their trumpets\t4\n",
      "creed, credo\t4\n",
      "Nemesis (Adrastea)\t4\n",
      "Hercules wooing Iole\t4\n",
      "(playing with) toy mills\t4\n",
      "landscapes with waters, waterscapes, seascapes (in the temperate zone) - HH - ideal landscapes\t4\n",
      "harp - CC - out of doors\t4\n",
      "story of Jehohahaz (Joahaz), son of Josiah, king of Judah (2 Kings 23:31-34; 2 Chronicles 36:1-4)\t4\n",
      "rest on the flight into Egypt - BB - landscape predominant\t4\n",
      "tools, implements of sculptor\t4\n",
      "Health, 'Sanitas'; 'Sanità' (Ripa) - AA - female human figure\t4\n",
      "adventurer\t4\n",
      "the fall of Jerusalem ~ story of Zedekiah\t4\n",
      "finding an exposed child\t4\n",
      "Mary teaches the Christ-child to read\t4\n",
      "serenade to the beloved\t4\n",
      "Joseph's brothers, back in Canaan with Jacob, empty their sacks and each of them discovers a bag of money\t4\n",
      "story of Saul\t4\n",
      "portrait of artiste (dancer, actor, etc.)\t4\n",
      "Benevolence, Beneficence; 'Beneficio', 'Benevolenza o Affettione' (Ripa)\t4\n",
      "the wild boar is killed, usually by Meleager\t4\n",
      "human strength ~ traffic and transport on land\t4\n",
      "cup of tea\t4\n",
      "agricultural products and by-products\t4\n",
      "transfer, deportation ~ prisoner of war\t4\n",
      "fossil animals\t4\n",
      "hands on top of each other\t4\n",
      "physical punishment ~ military service\t4\n",
      "sexual organs (human)\t4\n",
      "tankard\t4\n",
      "handicrafts ~ other animal material\t4\n",
      "nose ring(ing), ear tag(ging), etc. ~ marking cattle\t4\n",
      "Solomon supervising the work ~ temple of Solomon\t4\n",
      "military service\t4\n",
      "Aurora carrying off Cephalus\t4\n",
      "'thy kingdom come' ~ the Lord's prayer\t4\n",
      "February; 'Febraro' (Ripa)\t4\n",
      "David as a young man in the Israelite army camp is reproached by his brother Eliab\t4\n",
      "hide-and-seek\t4\n",
      "angel(s) represented as child(ren) - GG - lower angel(s) without wings\t4\n",
      "the book of Job\t4\n",
      "ink\t4\n",
      "violent death by removal of parts of the body by cutting, sawing, tearing\t4\n",
      "the seven angels with the seven vials, bringing disasters and destruction upon the earth and mankind\t4\n",
      "pilot-boat\t4\n",
      "Balaam prophesying and blessing the Israelites in the presence of King Balak and his chieftains\t4\n",
      "peaceful dying, happy death\t4\n",
      "gipsy woman or gipsy handreading\t4\n",
      "oils and vegetable fats\t4\n",
      "Christ-child carrying the cross\t4\n",
      "pigeon (as messenger)\t4\n",
      "stay of the Holy Family in Egypt\t4\n",
      "the miracle of the barrel of meal and the jar of oil: to reward the woman's charity Elijah has her store of meal and oil renewed as long as the famine prevails\t4\n",
      "quartered in private houses\t4\n",
      "'Malenconico (per la terra)', 'Malinconia' (Ripa)\t4\n",
      "handcuffs\t4\n",
      "the gate of heaven, entrance to heaven, 'porta coeli'\t4\n",
      "the Israelites have intercourse with the Moabite women\t4\n",
      "poultry house\t4\n",
      "painter working from clothed model\t4\n",
      "severe winters\t4\n",
      "painter at work with assistants or pupils\t4\n",
      "meal at the house of a Pharisee; Christ and his disciples do not submit to the ritual washing (Luke 11:37-41)\t4\n",
      "cereal\t4\n",
      "gods of the earth and fertility ~ agriculture\t4\n",
      "Christ-child playing with lamb ~ Madonna-representations\t4\n",
      "Mercury orders Calypso to release Ulysses (Homer, Odyssey V)\t4\n",
      "Paul is dragged out of the temple by the Jews; he is rescued by soldiers, who arrest him and carry him away\t4\n",
      "solemn baptism (by bishop or priest)\t4\n",
      "when the waters subside, the ark of Deucalion and Pyrrha comes to rest on the top of a mountain\t4\n",
      "monsters ~ swimming mammals\t4\n",
      "the court of the Tabernacle ~ Jewish religion\t4\n",
      "sedition of Miriam and Aaron (Numbers 12)\t4\n",
      "bronze laver and its base ~ the court of the Tabernacle\t4\n",
      "sliding (playing with snow and ice)\t4\n",
      "Error; 'Errore' (Ripa)\t4\n",
      "Caiaphas and the priests conspiring against Christ (Matthew 26:3-5; Mark 14:1-2; Luke 22:2; John 11:47-53)\t4\n",
      "barrier\t4\n",
      "pantomime, dumb show, masque\t4\n",
      "Esther's first banquet: Ahasuerus and Haman are Esther's guests; she invites them for a second meal\t4\n",
      "triumph of Cupid\t4\n",
      "defence of chastity\t4\n",
      "Fruitfulness, Productiveness, Fertility, Fecundity; 'Fecondità' (Ripa)\t4\n",
      "lock of hair\t4\n",
      "Ananias restores Saul's sight by laying on hands\t4\n",
      "infancy, upbringing of Bacchus\t4\n",
      "lackey and other lower personnel at court\t4\n",
      "standing figure (canon, proportions) - AA - female human figure\t4\n",
      "woman-chaser\t4\n",
      "Ulysses' fight with Irus, the beggar (Homer, Odyssey XVIII)\t4\n",
      "making of the cross ~ prelude to Christ's death on the cross\t4\n",
      "nursery, market garden\t4\n",
      "madam (brothel scene)\t4\n",
      "David brings the ark into Jerusalem, dancing (half-)naked before the ark and making music, while the people rejoice\t4\n",
      "other handicrafts ~ food\t4\n",
      "city represented symbolically\t4\n",
      "ancient forms of military vehicles: chariot, battle wagon, etc.\t4\n",
      "scabrous scenes, pornography\t4\n",
      "Orion hunting\t4\n",
      "second fall ~ Christ carrying the cross\t4\n",
      "year divided into four seasons\t4\n",
      "Mary weeping\t4\n",
      "cupids together with attributes of the arts, sciences, etc.\t4\n",
      "winding of yarn\t4\n",
      "Mary kneeling (on the ground), the Christ-child lying in front of her\t4\n",
      "the meeting of Aeneas and Dido; when he approaches her throne, the cloud enveloping him and Achates vanishes\t4\n",
      "Christ on the cross (in a fountain), shedding his blood\t4\n",
      "calendar of ecclesiastical feasts\t4\n",
      "painting, drawing and the graphic arts\t4\n",
      "adult Christ together with mortals\t4\n",
      "safe, strongbox\t4\n",
      "oyster and mussel culture\t4\n",
      "Cherubim\t4\n",
      "when the king of Nineveh hears about the destruction of the city in forty days, he rises from his throne and decrees a general repentance for man and animal: all men, cattle and sheep must fast, people must wear sackcloth and pray to God\t4\n",
      "(story of) Oceanus\t4\n",
      "the Israelites are forced to hard labour ~ Exodus\t4\n",
      "arms raised, with fingers closed\t4\n",
      "God the Father (as bearded old man) enthroned, usually with crown or tiara, and with sceptre and/or globe\t4\n",
      "most important deeds: Marsyas and the flute\t4\n",
      "spraying (of plants)\t4\n",
      "outbreaks of violence ~ anti-semitism\t4\n",
      "Alpheus changed into a river-god: when pining away for the love of Arethusa, Alpheus the hunter is changed into a river-god (Pausanias V 7, 2)\t4\n",
      "instruments used in geodesy, surveying instruments\t4\n",
      "twelve men take twelve stones from the middle of the river ~ crossing of the Jordan by the Israelites\t4\n",
      "Mary sitting or enthroned, the Christ-child sitting on her knee (Christ-child to Mary's left) - FF - the Christ-child to Mary's right\t4\n",
      "separation of the elements by some creative force ~ classical mythology\t4\n",
      "casting weapons\t4\n",
      "Jonathan shoots the arrow(s), while David is hidden in a shelter; a boy runs after the arrow(s)\t4\n",
      "two disciples of John the Baptist follow Christ\t4\n",
      "Mary and John close together; sometimes Mary swooning ~ crucified Christ\t4\n",
      "ass, donkey\t4\n",
      "Christ steps on devil(s)\t4\n",
      "traitor to one's country\t4\n",
      "Moses chooses seventy elders to assist him and places them round the Tabernacle; the spirit of God descends upon them\t4\n",
      "a paralytic on his bed is brought to the house where Christ is preaching (Matthew 9:1-8; Mark 2:1-12; Luke 5:17-26)\t4\n",
      "power, 'Potestas' ~ one of the seven gifts of the soul\t4\n",
      "external tumours\t4\n",
      "(medieval) fighting contest\t4\n",
      "civil law\t4\n",
      "involuntary abdication (of a ruler)\t4\n",
      "story of John the Baptist (Matthew 3; Mark 1:4-11; Luke 3:1-22; John 1:19-34)\t4\n",
      "Jacob's journey\t3\n",
      "the Church symbolized\t3\n",
      "'hydra'; 'Hidra' (Ripa)\t3\n",
      "other scenes ~ acts and journeys of Paul\t3\n",
      "Luxury, Luxuriousness\t3\n",
      "muscles - AA - female human figure\t3\n",
      "restoration of a work of art\t3\n",
      "crucified Christ with Mary, John, and Mary Magdalene - DD - the three crosses\t3\n",
      "pearl fishing, pearl diving; coral fishing\t3\n",
      "single combat between Hector and Ajax\t3\n",
      "Venus hands over the armour to Aeneas\t3\n",
      "centaurs (in general)\t3\n",
      "Jacob's staff (surveying instrument)\t3\n",
      "the kings of the north are defeated by Joshua, who burns their chariots and cripples their horses by cutting the hamstrings\t3\n",
      "June; 'Giugno' (Ripa)\t3\n",
      "taming of wild horses\t3\n",
      "Christ, having been chased out of Nazareth, passes unharmed through the multitude\t3\n",
      "Mercury and Venus as lovers\t3\n",
      "slicing bread - CC - in the open air\t3\n",
      "funerary ritual, ancestor cult ~ Roman religion\t3\n",
      "history and archaeology\t3\n",
      "pedlar - BB - women engaged in trade and commerce\t3\n",
      "the Annunciation: Mary sitting - AA - Mary to the left, the angel to the right\t3\n",
      "fixed altar\t3\n",
      "Mary (and Christ-child) in Anna's lap or on her arm\t3\n",
      "castle - AA - civic architecture: inside\t3\n",
      "symbols of heaven\t3\n",
      "Cupid making his bow\t3\n",
      "waning moon represented as face\t3\n",
      "the body of the prophet of Judah lies intact on the road with the donkey and the lion beside it\t3\n",
      "the steward who is to be dismissed, has the debtors of his lord change their debts (Luke 16:1-8)\t3\n",
      "Brooding\t3\n",
      "Beauty; 'Bellezza' (Ripa)\t3\n",
      "October; 'Ottobre' (Ripa)\t3\n",
      "bee-keeping, apiculture\t3\n",
      "martyrdom and death of Philip\t3\n",
      "ritual practices ~ Shinto\t3\n",
      "widower\t3\n",
      "Mary interceding (with Christ), 'Maria Mediatrix' (sometimes Mary showing her breasts)\t3\n",
      "interrogation of arrested person\t3\n",
      "A voice from heaven says: I have already brought glory to it, and I will glorify it again!\" (John 12:28-29)\t3\n",
      "barrel-organ player - CC - out of doors\t3\n",
      "the Israelites mourn Moses for thirty days\t3\n",
      "Christ's head is anointed by Mary (Magdalene)\t3\n",
      "leading someone by the hand or wrist - AA - both arms or hands\t3\n",
      "ritual practices ~ non-Christian religions\t3\n",
      "converts abjuring their former faith\t3\n",
      "Adam (alone) holding the fruit\t3\n",
      "religious functionaries ~ traditional Chinese religions\t3\n",
      "John the Baptist praying and meditating\t3\n",
      "hip\t3\n",
      "bishop of Russian orthodox church\t3\n",
      "procreation and pregnancy\t3\n",
      "outer court of Jewish Temple, with gates and stairs\t3\n",
      "coat of arms (symbol of sovereignty) - BB - female ruler\t3\n",
      "masturbation, onanism\t3\n",
      "apotheosis (or ascension) of individuals\t3\n",
      "penance, 'Poenitentia'; 'Contritione' (Ripa) ~ part of the confession\t3\n",
      "religious practices, worship, liturgy ~ Jewish religion\t3\n",
      "'Yom Kippur', Day of Atonement\t3\n",
      "the altar of incense, the golden altar ~ Jewish religion\t3\n",
      "Minerva in contest with Neptune for Athens: Minerva creates the olive-tree, Neptune the horse; Jupiter and other Olympians look on\t3\n",
      "hunt ~ other mammals\t3\n",
      "David kneeling before Jonathan\t3\n",
      "Hercules, in female garment, kicks Pan from Omphale's bed\t3\n",
      "student room\t3\n",
      "brick works\t3\n",
      "Anna teaching Mary to read\t3\n",
      "Ariadne gives Theseus a ball of thread\t3\n",
      "sitting with arms or elbows on the knees\t3\n",
      "Time denuding Truth\t3\n",
      "feasts and festivals in honour of the gods ~ non-Christian religions\t3\n",
      "Christ with penitent sinners (Adam, David, prodigal son, Mary Magdalene, good malefactor, Peter, etc.)\t3\n",
      "consoling the sorrowful ~ one of the (seven) spiritual Acts of Mercy\t3\n",
      "governmental and representative bodies\t3\n",
      "kicking (horse in motion)\t3\n",
      "'seder' (home service for 'Pesah')\t3\n",
      "singer accompanying himself\t3\n",
      "diseases affecting the whole body\t3\n",
      "the Virtues ~ crucified Christ\t3\n",
      "'Superstitione' (Ripa)\t3\n",
      "Paul and Peter disputing in Antioch (Galatians 2:11-14)\t3\n",
      "one of the soldiers (Stephaton) gives Christ vinegar on a sponge attached to a pole or lance\t3\n",
      "father with son(s) (father-love)\t3\n",
      "foetus\t3\n",
      "upper arm\t3\n",
      "release from prison\t3\n",
      "chimera (lion/goat/snake); 'Chimera' (Ripa)\t3\n",
      "'Consilium', Counsel ~ one of the seven gifts of the Holy Ghost\t3\n",
      "(story of) Adonis\t3\n",
      "semaphore\t3\n",
      "Apollo and Hyacinthus\t3\n",
      "Mercury and his children ('Planetenkinder')\t3\n",
      "blessed are the poor in spirit\t3\n",
      "Mary standing (or half-length), the Christ-child lying on her arm (Christ-child to Mary's left)\t3\n",
      "story of Tubalcain, the first blacksmith\t3\n",
      "smuggler\t3\n",
      "heroes, male characters from the legendary origins of Rome\t3\n",
      "the death-watch by the holy women\t3\n",
      "artist in non-work situation\t3\n",
      "inspiration of the artist (in general)\t3\n",
      "Nessus\t3\n",
      "Jupiter, in the guise of Amphitryon, and Alcmene, mother of Hercules\t3\n",
      "God comes down in the pillar of cloud at the door of the Tabernacle and rebukes Aaron and Miriam\t3\n",
      "yawning\t3\n",
      "Ops\t3\n",
      "despoiling corpse of its valuables or vestments\t3\n",
      "Adam in the Garden of Eden\t3\n",
      "(story of) Atlas - attributes\t3\n",
      "Mercury bringing Argus' eyes to Juno; Juno sets Argus' eyes in the tail of her peacock\t3\n",
      "hermaphrodite, androgyne\t3\n",
      "Cain building the city of Enoch\t3\n",
      "(story of) Vertumnus\t3\n",
      "public festivities on the occasion of royal events - AA - festivities on the water\t3\n",
      "tribal religions of South-East Asia\t3\n",
      "old Tobit (and Anna) waiting and worrying about the long absence of their son; sometimes Anna is shown at the spinning-wheel\t3\n",
      "January; 'Gennaro' (Ripa)\t3\n",
      "angels rescuing a soul pursued by devils\t3\n",
      "Lightness; 'Leggierezza' (Ripa)\t3\n",
      "man in a general biological sense\t3\n",
      "venerating the cross\t3\n",
      "the Holy Ghost\t3\n",
      "indoor recreation\t3\n",
      "parental care\t3\n",
      "lives and acts of the apostles of Christ; epistles\t3\n",
      "handicrafts ~ glass\t3\n",
      "pact with the devil, selling one's soul to the devil\t3\n",
      "the Annunciation: Mary kneeling - AA - Mary to the left, the angel to the right\t3\n",
      "roller-skating, roller-skates\t3\n",
      "elephants (circus performance)\t3\n",
      "'Sedes Sapientiae'\t3\n",
      "the Christian Churches\t3\n",
      "story of Enos\t3\n",
      "'Et in Arcadia ego'\t3\n",
      "life and acts of John the Evangelist\t3\n",
      "Practice; 'Prattica' (Ripa)\t3\n",
      "adoration of the Lamb (by a multitude in white robes)\t3\n",
      "military salutes\t3\n",
      "angels celebrating the Eucharist\t3\n",
      "Magnanimity; 'Grandezza e robustezza d'animo', 'Magnanimità' (Ripa)\t3\n",
      "urination - AA - female human figure\t3\n",
      "paralytic\t3\n",
      "antique dealer\t3\n",
      "hand(s) towards the eye(s)\t3\n",
      "April; 'Aprile' (Ripa)\t3\n",
      "mother-love\t3\n",
      "symbolic representations, allegories and emblems ~ the arts of the stage\t3\n",
      "the believer ~ Islam, Mohammedanism\t3\n",
      "mural painter\t3\n",
      "crime\t3\n",
      "the four seasons of the year ~ landscapes\t3\n",
      "Madness\t3\n",
      "head turned to the left - AA - female human figure\t3\n",
      "prelates, e.g. archdeacon, canon (Roman Catholic)\t3\n",
      "'Trionfo della Castità', 'Triumphus Pudicitiae'; 'Carro della castità' (Ripa)\t3\n",
      "shell fishery\t3\n",
      "fictitious scene ~ anonymous historical person(s)\t3\n",
      "Cyane changed into a fountain: when trying to stop Pluto from abducting Proserpina, the nymph Cyane is changed into a fountain (Ovid, Metamorphoses V 411)\t3\n",
      "brewing, boiling (in a cauldron); witches' kitchen\t3\n",
      "calling of James and John, the sons of Zebedee (Matthew 4:21-22; Mark 1:19-20; Luke 5:10-11)\t3\n",
      "Cadmus and Harmonia changed into snakes: when loaded with grief and the infirmity of old age, Cadmus and Harmonia are changed into snakes (Ovid, Metamorphoses IV 576)\t3\n",
      "Shem and Japheth walking backwards towards Noah\t3\n",
      "Ixion embraces a cloud (Nephele) in the shape of Juno\t3\n",
      "'look-out' ~ lovers' meeting\t3\n",
      "head (internal)\t3\n",
      "Hippocrene (fountain of Mount Helicon), produced when Pegasus' hoof struck the ground\t3\n",
      "David as a young man at Saul's court\t3\n",
      "Arethusa changed into a fountain: Diana changes her attendant Arethusa into a fountain, after first having hidden her in a cloud to escape Alpheus, the river-god (Ovid, Metamorphoses V 621)\t3\n",
      "edifice, e.g.: public building, department store - AA - civic architecture: inside\t3\n",
      "betting\t3\n",
      "Mars and his children ('Planetenkinder') ~ Aries and Scorpio\t3\n",
      "Apollo tends Admetus' flock as penalty for having slain the Cyclopes\t3\n",
      "ritual objects and ritual means ~ Hinduism, Buddhism, Jainism\t3\n",
      "while a minstrel plays, Elisha tells the three kings to dig ditches, and says that God will give them victory\t3\n",
      "relation between master and servant\t3\n",
      "glorification, triumph of the Eucharist\t3\n",
      "visiting or liberating the imprisoned, 'incarceratus solatur' ~ one of the (seven) Acts of Mercy - VV - Christ present\t3\n",
      "healing of the blind of Bethsaida (Mark 8:22-26)\t3\n",
      "address by general before the battle\t3\n",
      "quadrature of the circle\t3\n",
      "coward\t3\n",
      "'après le bain' - AA - in the open air\t3\n",
      "Venus asks Vulcan to forge Aeneas' armour\t3\n",
      "aspects of science in general\t3\n",
      "civil war\t3\n",
      "'you shall not take the name of the Lord your God in vain' ~ separate representation of the third of the ten commandments\t3\n",
      "'you shall not kill' ~ separate representation of the sixth of the ten commandments\t3\n",
      "specific aspects, allegorical aspects of Hercules; Hercules as patron - triumph\t3\n",
      "groom\t3\n",
      "Mary praying\t3\n",
      "Virtuousness; 'Amor di Virtù', 'Attione virtuosa', 'Guida sicura de' veri honori', 'Virtù', 'Virtù insuperabile' (Ripa)\t3\n",
      "Cupid stung by a bee while stealing honey, or while picking a rose; 'l'Amour piqué'\t3\n",
      "Christ's answer to Martha who complains about Mary: 'Mary has chosen the good portion ...'\t3\n",
      "view through a window from the inside\t3\n",
      "Theseus kills the Minotaur\t3\n",
      "family of a ruler, and court\t3\n",
      "hand shovel-board\t3\n",
      "guildhall\t3\n",
      "ruler giving mark of honour\t3\n",
      "Christ on the shore, orders the apostles to cast their net to the right side of the boat\t3\n",
      "spiritual support (during last hours before execution)\t3\n",
      "mother with son(s) (mother-love)\t3\n",
      "postures and gestures of the hand\t3\n",
      "knee\t3\n",
      "playing in the woods\t3\n",
      "the Israelites worship Baal, Ashtaroth, and other idols\t3\n",
      "Solomon blesses the people\t3\n",
      "falling overboard\t3\n",
      "ritual music and dancing ~ non-Christian religions\t3\n",
      "Tobias tells Tobit of a dead man in the street\t3\n",
      "ribs\t3\n",
      "the ten commandments represented together\t3\n",
      "David as a young man comes to Saul's court with presents\t3\n",
      "Jacob on the way to Canaan with his family, his flocks, camels and all his possessions\t3\n",
      "birth of the son of the Shunammite woman\t3\n",
      "Echo changed into a voice: when pining away on account of Narcissus, the nymph Echo is changed into a voice; at the same time her bones turn into stone (Ovid, Metamorphoses III 398)\t3\n",
      "Cruelty, Ferocity; 'Crudeltà', 'Ferocità' (Ripa)\t3\n",
      "Eli, hearing of the capture of the ark, falls from his seat and dies\t3\n",
      "when the son of the Shunammite woman joins his father and the harvest workers in the field he collapses\t3\n",
      "crucified Christ with Mary, John, Stephaton and Longinus\t3\n",
      "Mary, usually with the Christ-child, in orans-position in a fountain (of life)\t3\n",
      "Venus suckling Cupid\t3\n",
      "death of Hercules\t3\n",
      "waterfall - HH - ideal landscapes\t3\n",
      "Hercules carrying the pillars which bear his name\t3\n",
      "Israel after Jair's death (Judges 10:6-18)\t3\n",
      "other scenes ~ second book of the Maccabees\t3\n",
      "'you shall not steal' ~ separate representation of the eigth of the ten commandments\t3\n",
      "animals with human head - AA - female human figure\t3\n",
      "head bent forward; bowing - AA - female human figure\t3\n",
      "giving the thirsty to drink, 'sitiens potatur' ~ one of the (seven) Acts of Mercy - VV - Christ present\t3\n",
      "Venus and her children ('Planetenkinder')\t3\n",
      "sitting figures of Mary (alone)\t3\n",
      "the piety of the old Tobit (Tobit 1:10-22)\t3\n",
      "goblins, hobgoblins\t3\n",
      "half-length figures of Mary and the angel ~ Annunciation\t3\n",
      "(playing with) cut-out constructions\t3\n",
      "Rahab, questioned by the king's men about the Israelite spies, sends them on a false track\t3\n",
      "victory ~ armed conflict\t3\n",
      "making of fishing nets\t3\n",
      "September; 'Settembre' (Ripa)\t3\n",
      "the Jews without resistance slain on the sabbath (1 Maccabees 2:31-38)\t3\n",
      "the meeting of Aeneas and Achates with Venus, disguised as a huntress; she points out twelve swans in the sky\t3\n",
      "Christ's prayer for his apostles (John 17:1-26)\t3\n",
      "Atalanta and Meleager hunting\t3\n",
      "30-40 years\t3\n",
      "the four kings are attacked at night, and defeated by Abraham\t3\n",
      "the fifth of the seven angels sounds the trumpet: the falling star opens up the bottomless pit: smoke comes out\t3\n",
      "the conversion and baptism of Lydia, a seller of purple\t3\n",
      "opening of the fifth seal: white robes are given to (the souls of) the martyrs under the altar\t3\n",
      "Tamar returns home (with the tokens from Judah)\t3\n",
      "Aesacus changed into a diving bird: in despair for having caused the death of Hesperia (or Asterope), Aesacus throws himself into the sea and is changed into a diving bird by Tethys (Ovid, Metamorphoses XI 783)\t3\n",
      "the Lord calls on Cain to account for his deed\t3\n",
      "Hirah with the promised kid of Judah, looking in vain for Tamar\t3\n",
      "painter working from live model\t3\n",
      "Esau seeks his father's blessing; Isaac realizes he has mistakenly blessed Jacob instead of Esau\t3\n",
      "covering the head, drawing drapery over the face\t3\n",
      "'thy will be done on earth, as it is in heaven' ~ the Lord's prayer\t3\n",
      "'Ile de Cythère'\t3\n",
      "the murder of Zacharias\t3\n",
      "printed historiated initial\t3\n",
      "love-affairs of Neptune: first series\t3\n",
      "Iris visits Hypnos on Alcyone's behalf\t3\n",
      "heavenly love versus earthly love\t3\n",
      "Psyche in Cupid's palace\t3\n",
      "tormenting mammals ~ sport and recreation\t3\n",
      "God orders Noah to disembark and opens the ark\t3\n",
      "three of David's heroes draw water out of the well of Bethlehem, during their stay in the cave Adullam; David pours the water out\t3\n",
      "the Giants attack the heavens with boulders and tree-trunks\t3\n",
      "punishment of Prometheus; he is chained to a rock, usually by Vulcan and/or Mercury\t3\n",
      "Gideon and the angel of the Lord (Judges 6:11-24)\t3\n",
      "Philip preaching (in Samaria) (Acts 8:4-25)\t3\n",
      "'credo in Spiritum Sanctum' ~ articles of faith\t3\n",
      "ancient grave forms\t3\n",
      "offering ruler's position: presentation of crown or other symbols of authority (before coronation)\t3\n",
      "Mordecai prevents King Ahasuerus' assassination (Esther 2:21-23)\t3\n",
      "near a river Paul and Silas preach to the women of Philippi\t3\n",
      "Peter finds a piece of money in the mouth of a fish and pays the temple tribute\t3\n",
      "traditional Chinese religions\t3\n",
      "Elijah lays the child of the widow of Zarephath on his bed and three times stretches himself out on the boy\t3\n",
      "Elisha stretches himself out upon the child of the Shunammite woman\t3\n",
      "flower culture\t3\n",
      "periodic celebrations, popular feasts\t3\n",
      "chamber-pot is emptied from above ~ chasing away (unwanted) lover\t3\n",
      "trade token, private coin\t3\n",
      "representations of Christ's death on the cross, with a particular event or saying of Christ emphasized (up to Christ's death)\t3\n",
      "Phaethon complaining to his mother Clymene, the Oceanid\t3\n",
      "signs in nature and in the sky prophesying the destruction of Jerusalem (Luke 21:25)\t3\n",
      "lying on the back with uplifted upper part of the body\t3\n",
      "capitulation\t3\n",
      "Iphis changed into a young man: in response to Iphis' prayer, Isis changes her into a young man to enable her to marry Ianthe (Ovid, Metamorphoses IX 785)\t3\n",
      "snowstorm\t3\n",
      "woman in flight (one-sided courting)\t3\n",
      "gifts being refused\t3\n",
      "angel(s) in or at the empty tomb of Christ\t3\n",
      "paying (~ commerce) (here also repayment of debt, etc.)\t3\n",
      "Mary and Joseph\t3\n",
      "Authority, Power; 'Dominio', 'Giurisdittione' (Ripa)\t3\n",
      "Mary standing (or half-length), the Christ-child sitting on her arm (Christ-child to Mary's left) - FF - the Christ-child to Mary's right\t3\n",
      "hunt ~ marine mammals\t3\n",
      "priest ~ Shinto\t3\n",
      "'hallowed be thy name' ~ the Lord's prayer\t3\n",
      "exile (of old government or its adherents)\t3\n",
      "period of adolescence\t3\n",
      "return of the soldiers to civilian life, returning home\t3\n",
      "pie\t3\n",
      "Cygnus, son of Apollo, changed into a swan: because his friend Phil(l)ius refused to give him the bull captured by the help of Hercules, Cycnus, the son of Apollo, leaps off a cliff, and is changed into a swan (Ovid, Metamorphoses VII 371)\t3\n",
      "Israelites born during the wandering are circumcised after the crossing of the river Jordan\t3\n",
      "Ascalabus (Stellio, Abas) changed into a lizard: Ceres changes the boy into a lizard as punishment for mocking her, when quenching her thirst too avidly (Ovid, Metamorphoses V 456)\t3\n",
      "Christ in the wine-press, 'Christus in der Kelter' (Is. 63:3)\t3\n",
      "creation of man by some creative force\t3\n",
      "Ceres instructs Triptolemus and sends him about the world in her dragon-drawn chariot\t3\n",
      "at Gilgal Joshua erects another monument with the twelve stones taken from the Jordan\t3\n",
      "parts of the human body (skeleton excepted) - AA - female human figure\t3\n",
      "the king of Elam and three allied kings defeat the five rebellious kings of the Pentapolis; in flight, two of the five kings fall into lime-pits and the three others escape to the mountains\t3\n",
      "the rending of the veil of the temple ~ Christ's death\t3\n",
      "Boaz, the kinsman, and the elders of the city discuss Elimelech's inheritance\t3\n",
      "satyr(s) (in general) - early life, prime youth\t3\n",
      "pushing something\t3\n",
      "genius\t3\n",
      "non-combatants on the battle-scene\t3\n",
      "the centurion confessing his belief in Christ; sometimes the soldiers do the same\t3\n",
      "evening ~ other concepts\t3\n",
      "soldiers in gay company\t3\n",
      "Christ summons the apostles to stay awake and pray ~ Garden of Gethsemane\t3\n",
      "violent death by poison in drink\t3\n",
      "Death dancing with one person\t3\n",
      "'Obedienza verso Dio' (Ripa)\t3\n",
      "an angel thrusts his sickle into the earth, and gathers the vine\t3\n",
      "Paul is stoned and dragged out of the city\t3\n",
      "Fantasy, Caprice; 'Capriccio' (Ripa)\t3\n",
      "worshipping the devil (often in the form of a he-goat) during witches' sabbath\t3\n",
      "harvest festivities\t3\n",
      "God (or the hand of God) appears and blesses Abel ~ sacrifice\t3\n",
      "Esther (one of the nine worthiest women)\t3\n",
      "cell ~ monastery\t3\n",
      "God (or angel) speaks to Paul during the night\t3\n",
      "do not lay up earthly treasures ~ doctrine of Christ on possessions (Matthew 6:19; Luke 12:21)\t3\n",
      "violent death by cleaving and striking weapons\t3\n",
      "Death as man - FF - Death as female\t3\n",
      "the entombment of Mary\t3\n",
      "ornament ~ meander\t3\n",
      "Abraham comes to the sacred tree of Moreh at Shechem, and builds his first altar\t3\n",
      "hexahedron, cube\t3\n",
      "other representations ~ God the Father\t3\n",
      "the fourth of the seven angels sounds the trumpet: the sun, the moon and the stars are partially darkened\t3\n",
      "bathing (movement in water) - AA - female human figure\t3\n",
      "the nine choirs of angels, hierarchy of angels\t3\n",
      "nightmare\t3\n",
      "specific aspects, allegorical aspects of Diana; Diana as patroness\t3\n",
      "James thrown from the roof of a temple in Jerusalem\t3\n",
      "ranks ~ rulers, sovereigns\t3\n",
      "Christ-child accepting, reaching out for something ~ Madonna-representations\t3\n",
      "ceremony ~ putting a building into use\t3\n",
      "the altar at Bethel is desecrated: bones taken out of some nearby tombs are burnt on the altar (the tomb of the prophet of Judah is spared) ~ story of Josiah\t3\n",
      "marriage broker\t3\n",
      "David thanks the Lord after he has slain the giant Goliath\t3\n",
      "Adonis' blood changed into an anemone or a rose: when Adonis is slain by a boar, Venus changes his blood into an anemone or a rose (Ovid, Metamorphoses X 735)\t3\n",
      "the massacre; Elisabeth fleeing with John the Baptist\t3\n",
      "Christ-child throwing his arm(s) around her neck ~ Madonna-representations\t3\n",
      "triumph of Saturn; 'Carro di Saturno' (Ripa)\t3\n",
      "Obedience; 'Obedienza' (Ripa)\t3\n",
      "Christ, usually holding a banner, arises from the grave; often combined with sleeping and/or frightened soldiers - EE - the tomb closed (with unbroken seals)\t3\n",
      "Experience, Mastery; 'Esperienza' (Ripa)\t3\n",
      "Brotherly Love\t3\n",
      "lying face downwards\t3\n",
      "'Pantocrator', (bust of) Christ, making a speaking or blessing gesture and holding a book\t3\n",
      "waxing moon, i.e. facing this way: )\t3\n",
      "beatitudes of the sermon on the mount\t3\n",
      "spying on someone - AA - female human figure\t3\n",
      "one lover waiting for the other\t3\n",
      "nude with covered genitals - AA - female human figure\t3\n",
      "waking up - BB - out of doors\t3\n",
      "the messenger who brought David the message of Saul's death is put to death by one of David's soldiers\t3\n",
      "Jacob's visit to Isaac ~ death of Isaac\t3\n",
      "healing of a possessed man who was also dumb (Matthew 9:32-34; Luke 11:14-16)\t3\n",
      "musical instruments; group of musical instruments - CC - out of doors\t3\n",
      "sacrificing a burnt offering ~ Jewish religion\t3\n",
      "Jethro's visit to Moses: with Zipporah and her two sons he comes to the desert where Moses is encamped (Exodus 18)\t3\n",
      "contemplating the firmament\t3\n",
      "Moses predicting the death of the first-born\t3\n",
      "Gideon asks and is given the ear-rings of the slain Midianites\t3\n",
      "sunlight\t3\n",
      "Christ gives fish and bread to the apostles\t3\n",
      "'cris de Paris', cries of London, etc. - BB - women engaged in trade and commerce\t3\n",
      "tub-bath\t3\n",
      "Adam's burial\t3\n",
      "bolting draught-animals\t3\n",
      "the priests of Bel, with their wives and children, enter the temple through a hidden corridor and feast on the food during the night\t3\n",
      "the vision of the smoking furnace and the burning lamp in the night ~ Abraham's sacrifice\t3\n",
      "Joshua renews the covenant; a large memorial stone is set up\t3\n",
      "mandrake, 'mandragora'\t3\n",
      "Christ at table with the apostles ~ after the Resurrection\t3\n",
      "the angels urge Lot to hurry in leaving the city\t3\n",
      "the treaty with Abimelech, who has come to Beersheba with Phichol and Ahuzzath\t3\n",
      "the Ark of the Covenant and the box with the guilt offering, drawn by two cows, sent back to Israel\t3\n",
      "care and visitation of burial place\t3\n",
      "the reading of the law (Joshua 8:30-35)\t3\n",
      "speeches of Christ against scribes and Pharisees (Matthew 23; Mark 12:38-40; Luke 11:42-52, 20:45-47)\t3\n",
      "preparation of the Passover ~ Last Supper (Matthew 26:17-20; Mark 14:12-17; Luke 22:7-14)\t3\n",
      "(scenes from the life of) John the Baptist and Mary\t3\n",
      "seed\t3\n",
      "Delphic oracle\t3\n",
      "Peter and John lay hands on believers in Samaria, so that they may receive the Holy Ghost (Acts 8:14-17)\t3\n",
      "altar ~ Germanic and Scandiavian religions\t3\n",
      "Christ urges a rich young man (a certain ruler), who is kneeling before him, to seek perfection (Matthew 19:16-22; Mark 10:17-22; Luke 18:18-23)\t3\n",
      "Christ appearing to the holy women, usually the three Maries\t3\n",
      "Saul's body\t3\n",
      "Haman begs Esther for his life\t3\n",
      "Icarius changed into a constellation: after having been slain by angry farmers, Icarius is changed into a constellation (Ovid, Metamorphoses X 450)\t3\n",
      "Melchizedek blesses Abraham\t3\n",
      "studying at night\t3\n",
      "mother with daughter(s) (mother-love)\t3\n",
      "Ulysses builds a raft\t3\n",
      "Ampelus changed into a vine: after having fallen to his death from a bull, Ampelus, the favourite of Bacchus, is changed into a vine\t3\n",
      "Hagar ill-treated by Sarah\t3\n",
      "an angel, holding a loaf of bread and a jar (or chalice) wakes Elijah\t3\n",
      "healing of a lunatic boy (Matthew 17:14-21; Mark 9:14-29; Luke 9:37-43)\t3\n",
      "John Hyrcanus appointed leader of the Maccabees (1 Maccabees 16:19-22)\t3\n",
      "lamentation and burial of John the Baptist\t3\n",
      "the servant reports he has seen a small cloud ~ story of Elijah\t3\n",
      "dale, valley - HH - ideal landscapes\t3\n",
      "the priests of Bel and their relatives are arrested; they are put to death afterwards\t3\n",
      "conscription ~ enlisting\t3\n",
      "self-sacrifice, death in the service of a higher purpose - EE - death not certain; wounded person\t3\n",
      "the wise and the foolish virgins sleeping\t3\n",
      "ordering the execution of a verdict\t3\n",
      "road-cross, 'mont-joie'\t3\n",
      "the paralytic takes up his bed and walks away ~ Christ healing paralytics\t3\n",
      "David and Abishai invade Saul's encampment at night, while Saul and his soldiers are sleeping\t3\n",
      "Susanna is led away to be executed\t3\n",
      "Ulysses awakes on the shore where the Phaeacians left him; Minerva disguises him as an old beggar (Homer, Odyssey XIII)\t3\n",
      "Sarah brings Hagar to Abraham, who is usually shown lying in bed\t3\n",
      "Hosea and the adulteress (Hosea 3)\t3\n",
      "Ulysses seizes the bow, strings it and shoots through the twelve axe-rings\t3\n",
      "clothing the naked, 'nudus vestitur' ~ one of the (seven) Acts of Mercy - VV - Christ present\t3\n",
      "Ishmael and all the men of the household are circumcised\t3\n",
      "sewing machine\t3\n",
      "the burning bush ~ calling of Moses\t3\n",
      "deacon (Roman Catholic)\t3\n",
      "Venus and Anchises\t3\n",
      "Judith prays before killing Holofernes\t3\n",
      "Michael and his angels fighting against the dragon and his followers; the dragon (Devil, Satan) is cast out of heaven\t3\n",
      "Christ crucified on a 'living' cross\t3\n",
      "monograms of Mary\t3\n",
      "the origin of painting and drawing\t3\n",
      "parables and proverbial sayings of Christ ~ the relationship master - servant\t3\n",
      "David and Bathsheba (2 Samuel 11-12)\t3\n",
      "symbols of Mary\t3\n",
      "'Pesah', Passover ~ Jewish religion\t3\n",
      "Tyrrhenian sailors changed into dolphins: when Bacchus turns himself into a lion and has a vine grow about the ship, the Tyrrhenian sailors out of terror jump into the sea, and are metamorphosed into dolphins (Ovid, Metamorphoses III 662)\t3\n",
      "King Ptolemy IV Philopator tries to have the Jews killed by drunken elephants; the Jews pray and are saved by two angels (3 Maccabees 5)\t3\n",
      "commoners\t3\n",
      "other specific aspects of Apollo\t3\n",
      "the arrest of Paul in Jerusalem is foretold by Agabus, who binds his own hands and feet with Paul's girdle\t3\n",
      "training of hunting dog\t3\n",
      "after the return of the lord the servants account for their debts and are rewarded accordingly\t3\n",
      "first fall ~ Christ carrying the cross\t3\n",
      "Abraham leaves Egypt with Sarah, Lot, and his possessions\t3\n",
      "caravan (trailer)\t3\n",
      "adventures of the Greeks after the fall of Troy: the wanderings of Ulysses (Homer, Odyssey)\t3\n",
      "Mary sitting on the ground, the Christ-child in front of her, lying in her lap\t3\n",
      "monsters ~ mammals\t3\n",
      "lock-smith\t3\n",
      "Society, Civilization, Culture\t3\n",
      "when Sennacherib is worshipping in the temple, two of his sons kill him with their swords\t3\n",
      "evangelists, usually with books or scrolls (not in biblical context) - II - the evangelists without their symbols\t3\n",
      "flight of the government or its adherents\t3\n",
      "bread, Host\t3\n",
      "transparency, slide\t3\n",
      "the apostles are beaten, and are released afterwards ~ Peter and the apostles in prison\t3\n",
      "machine driven by human or animal power\t3\n",
      "Christ on the whipping-post (after the flagellation)\t3\n",
      "Jephthah, son of Gilead, is cast out by his brothers because he is the son of a harlot (Judges 11:1-3)\t3\n",
      "martyrdom and death of Peter\t3\n",
      "Joseph prepares for the famine and stores up corn\t3\n",
      "the tribute money (Matthew 17:24-27)\t3\n",
      "glass-maker\t3\n",
      "David brings Goliath's head to Saul\t3\n",
      "violent death by breaking on the wheel\t3\n",
      "angle\t3\n",
      "David escapes through a window; Michal lets him down with the help of a rope\t3\n",
      "twigs ~ building material\t3\n",
      "institution for ecclesiastical education and training, e.g. seminary\t3\n",
      "various human types\t3\n",
      "martyrdom and death of Paul\t3\n",
      "other scenes ~ the book of Jeremiah\t3\n",
      "official acts of rulers, e.g. royal acts (ruler giving audience, granting mercy, etc.; ruler and his subjects)\t3\n",
      "(story of) Zephyrus (Favonius), the west wind; 'Favonio o Zeffiro' (Ripa)\t2\n",
      "Maundy Thursday\t2\n",
      "chastity belt\t2\n",
      "the marriage of Jacob and Rachel\t2\n",
      "head turned sideways - AA - female human figure\t2\n",
      "John takes the little book from the angel and eats it\t2\n",
      "banquet piece\t2\n",
      "witchcraft, sorcery\t2\n",
      "Thomas reaching out to touch the wounds in Christ's hands\t2\n",
      "negotiations for truce on a demolished bridge\t2\n",
      "dark ages (historical epoch)\t2\n",
      "religious communities ~ Islam, Mohammedanism\t2\n",
      "Eve suckling Abel; Cain turns aside, i.e. the jealousy of Cain\t2\n",
      "the people assemble in Jerusalem; they offer sacrifices and take the oath that they will worship only God\t2\n",
      "the wedding night\t2\n",
      "ancestors and parents of Christ\t2\n",
      "all the magicians summoned by the king turn their rods into snakes, but Aaron's rod swallows them\t2\n",
      "gripping someone by other parts of the body\t2\n",
      "Mediocrity\t2\n",
      "informing the ignorant ~ one of the (seven) spiritual Acts of Mercy\t2\n",
      "specific aspects, allegorical aspects of Juno; Juno as patroness\t2\n",
      "Lucretia (one of the nine worthiest women)\t2\n",
      "eels\t2\n",
      "the gods arm Perseus; from Minerva, Mercury and/or other gods he gets a shield (or mirror), a scythe (or dagger), a helmet, winged sandals, and a wallet\t2\n",
      "fluids and gases extracted from the earth\t2\n",
      "the contests held in memory of Anchises\t2\n",
      "landscapes in the non-temperate zone, exotic landscapes - KK - ideal landscapes\t2\n",
      "tasks performed by children\t2\n",
      "drinking-vessel in unusual shape\t2\n",
      "epistle of Paul to the Romans\t2\n",
      "monsters ~ animals in general (of undetermined kind)\t2\n",
      "Ahasuerus touches Esther with the sceptre (Esther 15:12)\t2\n",
      "charcoal furnace\t2\n",
      "Jupiter as king of Heaven\t2\n",
      "(Hama)dryads, forest- and tree-nymphs; 'Driadi & Hamadriadi' (Ripa)\t2\n",
      "inspiration of the artist (in general) - BB - out of doors\t2\n",
      "bewitching, cursing, casting spells\t2\n",
      "bearing injustice patiently ~ one of the (seven) spiritual Acts of Mercy\t2\n",
      "specific aspects, allegorical aspects of Ceres; Ceres as patroness - veneration, honoured by\t2\n",
      "preparation of the corpse, mortuary toilet ~ burial\t2\n",
      "whiskers\t2\n",
      "Iphigenia is saved by Diana, who puts a stag (hind) in her place\t2\n",
      "undressing oneself, getting undressed\t2\n",
      "boat or vehicle drawn by (fabulous) animal(s) of the sea\t2\n",
      "interior ~ ideal or visionary architectural design or model\t2\n",
      "burial association\t2\n",
      "preparing dough or batter\t2\n",
      "Lamech confesses to his wives, Adah and Zillah, that he has killed an old man and a young man (Cain and Tubalcain)\t2\n",
      "Prometheus makes man out of clay, usually Minerva present\t2\n",
      "pursuit of the Midianites by Gideon's men\t2\n",
      "other kinds of amusement\t2\n",
      "paying of wages\t2\n",
      "deportation\t2\n",
      "extermination of rats\t2\n",
      "Eve (alone) holding the fruit\t2\n",
      "the bear with three rows of teeth, rising on its hind legs ~ Daniel's visions\t2\n",
      "sheet\t2\n",
      "the twelve apostles ~ other themes\t2\n",
      "spit ~ cooking - CC - in the open air\t2\n",
      "false Messiah ~ Jewish religion\t2\n",
      "sheltering strangers, 'hospes colligitur' ~ one of the (seven) Acts of Mercy - VV - Christ present\t2\n",
      "David's instructions to Solomon\t2\n",
      "other handicrafts ~ metal\t2\n",
      "the Lamb takes the book from him who sits on the throne\t2\n",
      "Antiochus IV Epiphanes robbing the temple of its treasures (1 Maccabees 1:21-23)\t2\n",
      "procession ~ Roman religion\t2\n",
      "banquets, feasts of the gods (outdoors)\t2\n",
      "Ananias carried away and buried by young men\t2\n",
      "anthropomorphic beings with parts in greater number than normal\t2\n",
      "Shame\t2\n",
      "Hate; 'Odio capitale' (Ripa)\t2\n",
      "the Son of Man (Christ) with the sickle\t2\n",
      "anatomical model of the arteries\t2\n",
      "third fall ~ Christ carrying the cross\t2\n",
      "Rest, Immobility, Stasis\t2\n",
      "natural forms in stones, wood, clouds, etc. interpreted as representations\t2\n",
      "works of mercilessness\t2\n",
      "Anaxarete changed into a stone: while looking from her window at Iphis' funeral, Anaxarete is changed into a stone (Ovid, Metamorphoses XIV 753)\t2\n",
      "Intemperance, Immoderation\t2\n",
      "Arachne challenges Minerva to a weaving contest (Arachne as yet not metamorphosed)\t2\n",
      "Abraham witnesses the destruction of Sodom and Gomorrah\t2\n",
      "party games with erotic implications, e.g.: kissing contest\t2\n",
      "ceremonies in honour of the completion of the foundation of the temple ~ book of Ezra\t2\n",
      "in captivity in Babylon, Manasseh becomes humble and begs God for help\t2\n",
      "defecation - AA - female human figure\t2\n",
      "God's covenant with Abraham (Genesis 15)\t2\n",
      "death of Adam\t2\n",
      "Solomon's dream: the Lord appears to him; Solomon prays for wisdom\t2\n",
      "dedication of the Tabernacle (Exodus 40:16-33; Leviticus 8:10-11)\t2\n",
      "Deuteronomy: the crowning events of the wanderings; Moses prepares for his death\t2\n",
      "Pleasure, Enjoyment, Joy; 'Allegrezza', 'Allegrezza da le medaglie', 'Allegrezza, letitia e giubilo', 'Diletto', 'Piacere', 'Piacere honesto' (Ripa)\t2\n",
      "triumph of Minerva; 'Carro di Minerva' (Ripa)\t2\n",
      "the people of Gibeon, fearing Joshua and his men, decide to deceive them: they load their donkeys with worn-out sacks, they put on ragged clothes and old sandals and take decaying food\t2\n",
      "Jonathan visits David in the wilderness of Ziph; they make a covenant\t2\n",
      "Potiphar's wife catches Joseph by his robe, usually while lying in bed; Joseph escapes leaving his cloak behind in her hands (possibly with a naked child lying in a crib)\t2\n",
      "David pursues the Amalekites\t2\n",
      "Elijah comes to Mount Horeb where he dwells in a cave\t2\n",
      "when released Peter and John relate the events to the disciples\t2\n",
      "gold-thread embroidery\t2\n",
      "the high priest and Sadducees have Peter and the apostles put in prison (Acts 5:17-42)\t2\n",
      "Hygieia (daughter of Aesculapius)\t2\n",
      "Moses and Jethro parting ~ the calling of Moses\t2\n",
      "armorial bearing, heraldry - AA - female\t2\n",
      "the inhabitants of Nob are killed\t2\n",
      "Leucothea changed into an incense bush: Apollo, Leucothea's lover, having tried in vain to recall her to life, changes Leucothea into an incense bush (Ovid, Metamorphoses IV 252)\t2\n",
      "battle of the Maccabees against Demetrius II Nikator of Syria in the valley of Asor (1 Maccabees 11:67-74)\t2\n",
      "Stephen preaching (and baptizing)\t2\n",
      "charwoman, cleaning woman\t2\n",
      "lottery booth (on pleasure fair)\t2\n",
      "whirlwind, cyclone, hurricane, typhoon, tornado\t2\n",
      "sacred heart of Mary\t2\n",
      "Jonathan's army resumes the attack and defeats the army of Demetrius II Nikator\t2\n",
      "fossil plants\t2\n",
      "Isaac and Rebekah before Abimelech\t2\n",
      "Shulammite, the beloved woman ~ Song of Solomon\t2\n",
      "Peter in Rome; his contest with Simon Magus\t2\n",
      "board of a guild\t2\n",
      "popular music, street music - CC - out of doors\t2\n",
      "'Anna selbdritt' with Joseph present\t2\n",
      "seeking death, suicide - EE - death not certain; wounded person\t2\n",
      "tortures of Christ\t2\n",
      "gods of the waters: the older dynasty (first series): offspring of Pontus and the monsters of the sea\t2\n",
      "Naomi's return to Bethlehem (Ruth 1:6-22)\t2\n",
      "lovers' tussle\t2\n",
      "barter\t2\n",
      "(story of) Boreas (Aquilo), the north wind; 'Borea overo Aquilone' (Ripa)\t2\n",
      "scenes from the Aeneid that cannot be located in the chronological sequence of the story\t2\n",
      "Satan scourging Job\t2\n",
      "collecting (leisure time activity)\t2\n",
      "Old Testament and New Testament ~ Christian doctrine\t2\n",
      "lotus ~ ornament - AA - stylized\t2\n",
      "Mary standing (or half-length), the Christ-child on her arm (Christ-child to Mary's left) - FF - the Christ-child to Mary's right\t2\n",
      "Atropos, usually with shears\t2\n",
      "Samuel cutting Agag to pieces\t2\n",
      "God's wrath\t2\n",
      "the presents are offered to Dido, she fondles Ascanius-Cupid\t2\n",
      "Trinity as three persons\t2\n",
      "wife-capture\t2\n",
      "the twelve cakes of the showbread ~ Jewish religion\t2\n",
      "Joshua is chosen as successor to Moses, who places his hands on Joshua's head in front of Eleazar the high priest and the assembled congregation (Numbers 27:18-23)\t2\n",
      "Abner, fetched by Joab's messengers, is taken aside by Joab in the gate of Hebron, and is killed by him with a sword\t2\n",
      "Mary (standing) with the Christ-child beside her (free-standing or leaning against her)\t2\n",
      "metalwork of a door\t2\n",
      "fabulous animals ~ monkeys\t2\n",
      "casting-counter, jetton, money of account\t2\n",
      "the Lord's prayer (Matthew 6:9-13; Luke 11:2-4)\t2\n",
      "dolls for adults\t2\n",
      "Mary or Madonna with symbols of the Lauretanian Litany\t2\n",
      "married couple of unequal wealth\t2\n",
      "the angels advise Lot to leave the city\t2\n",
      "regent, substitute ruler; viceroy - BB - female ruler\t2\n",
      "Jacob's flight from Laban (Genesis 31:1-21)\t2\n",
      "assemblies of the gods (in general)\t2\n",
      "Jehoiakim burns Jeremiah's scroll\t2\n",
      "Ahab dies and is buried in Samaria\t2\n",
      "Jeremiah's vision of the rod of almond\t2\n",
      "Refusal\t2\n",
      "the officer's oblation after the battle of the Israelites against the Midianites; Moses and Eleazar take the gifts to the Tabernacle\t2\n",
      "Arabic script\t2\n",
      "'Virgo inter Virgines'\t2\n",
      "bedding\t2\n",
      "boring, drilling, piercing (industrial processes)\t2\n",
      "Christ with John the Evangelist leaning on his breast, 'Johannesminne', 'Christus-Johannes-Gruppe'\t2\n",
      "mustard\t2\n",
      "legs - AA - female human figure\t2\n",
      "chewing-tobacco\t2\n",
      "machine driven by wind\t2\n",
      "father with daughter(s) (father-love)\t2\n",
      "Joachim's sacrifice refused by the priest\t2\n",
      "ceremonial celebrations ~ pope\t2\n",
      "procession with the 'lulav' in the right hand and the 'etrog' in the left hand ~ 'Sukkot'\t2\n",
      "Mary sitting or enthroned, the Christ-child lying on her knee (Christ-child to Mary's left)\t2\n",
      "burial of Stephen\t2\n",
      "wedding feast, wedding meal - DD - out of doors\t2\n",
      "Saul chosen as king (1 Samuel 9-12)\t2\n",
      "Esau runs to meet Jacob and kisses him\t2\n",
      "megaphone, speaking-trumpet ~ acoustic signalling\t2\n",
      "Stephen before the Sanhedrin\t2\n",
      "running - AA - female human figure\t2\n",
      "dream of Jacob, with stairway instead of ladder\t2\n",
      "ball games in which ball or bowl is rolled\t2\n",
      "funeral parlour\t2\n",
      "fencing foil\t2\n",
      "abdomen, belly (human being) - AA - female human figure\t2\n",
      "Mary and John the Baptist together with (e.g. kneeling before) the judging Christ, 'Deesis' ~ Last Judgement\t2\n",
      "domestic animal kept outside the house\t2\n",
      "potency and impotency\t2\n",
      "Perseus beheading Medusa, with Pegasus, and possibly also Chrysaor, the warrior with the golden sword, springing from the blood of Medusa's head\t2\n",
      "searching for leaven ~ preparations for 'Pesah'\t2\n",
      "Peter, in the midst of the disciples, proposes choosing an apostle to take Judas' place (Acts 1:15-26)\t2\n",
      "Gehazi is sent to the house with Elisha's staff; he attempts unsuccessfully to revive the child of the Shunammite woman\t2\n",
      "disciples awaiting the return of Christ\t2\n",
      "King Nebuchadnezzar calls Shadrach, Mesach, and Abed-nego to account, but they refuse to kneel before the golden statue\t2\n",
      "blind Oedipus wandering, led by his daughter Antigone\t2\n",
      "birth of Bacchus: he is born from Jupiter's thigh, where he had been sewn in (possibly by Mercury)\t2\n",
      "pressing (laundering)\t2\n",
      "elopement, running away\t2\n",
      "the old prophet rides off with his donkey, meets the prophet of Judah and invites him to his house\t2\n",
      "rough-and-tumble; fighting\t2\n",
      "happy marriage\t2\n",
      "mouse trap\t2\n",
      "false prophets in sheep's clothing ~ parable of the good shepherd (Matthew 7:15)\t2\n",
      "Boaz accepts his kinsman's shoe\t2\n",
      "Peter and/or John make sure that the tomb of Christ is empty\t2\n",
      "David slings a stone at Goliath's forehead\t2\n",
      "the people bring their offerings for the Tabernacle: all kinds of fine objects, jewellery, linen, etc.\t2\n",
      "first battle between the Philistines and the Israelites at Eben-ezer; the Israelites defeated\t2\n",
      "Joseph has his father's corpse brought to Canaan with great pomp\t2\n",
      "at Elijah's order, the priests of Baal are taken to the brook of Kishon and slain\t2\n",
      "Abraham weighs out four hundred pieces of silver\t2\n",
      "Rebekah alights from her camel and covers her face with a veil\t2\n",
      "Joshua (assisted by Eleazar) casts lots and assigns to each of the remaining seven tribes a certain part of Canaan\t2\n",
      "the men of the city see the destroyed altar (story of Gideon)\t2\n",
      "Christ on the cross; only scenes following the crucifixion added - DD - the three crosses\t2\n",
      "the people of Gibeon, dressed up in rags, and pretending to have come from a distant land ask Joshua to make a treaty with them\t2\n",
      "the angel of the Lord, sitting under an oak-tree, appears to Gideon, who is usually shown threshing wheat\t2\n",
      "Neptune in love with Amphitrite\t2\n",
      "heifer\t2\n",
      "ideal husband\t2\n",
      "Pharaoh decrees the drowning of every new male offspring among the Israelites\t2\n",
      "Moses and Aaron bow to the ground before the assembly, while Joshua and Caleb rend their clothes\t2\n",
      "Doeg kills Ahimelech and his family\t2\n",
      "the envious friends; criticizing bystanders ~ love couple\t2\n",
      "the contest of St. Michael and Satan for the body of Moses on Mount Nebo (Jude 9)\t2\n",
      "Callisto is hunted by her son Arcas\t2\n",
      "Self-love; 'Amor di se stesso' (Ripa)\t2\n",
      "winter solstice\t2\n",
      "Eglon is found dead\t2\n",
      "moonrise\t2\n",
      "abolition of slavery, fighting slavery\t2\n",
      "Rewarding Goodness\t2\n",
      "a storm arises; Christ returns, walking on the water\t2\n",
      "Samson goes with a kid to his wife and is refused entry by her father\t2\n",
      "kicking\t2\n",
      "urinal (and basket)\t2\n",
      "director, boss (in modern industry)\t2\n",
      "sale of newspaper, newspaper stand\t2\n",
      "the calling of Moses (Exodus 3-4)\t2\n",
      "at a banquet Aegeus recognizes his son Theseus just in time to save him from being poisoned by Medea\t2\n",
      "'Synagoga', Synagogue, i.e. Jewish religion personified (or symbolized)\t2\n",
      "God the Father and Christ enthroned\t2\n",
      "anatomical specimen\t2\n",
      "Isaac sends Jacob to his mother's relatives to seek a wife, and blesses him before his departure\t2\n",
      "algebra and statistics\t2\n"
     ]
    },
    {
     "name": "stdout",
     "output_type": "stream",
     "text": [
      "the seven Archangels\t2\n",
      "blessing by the priest ~ Holy Mass\t2\n",
      "Christ is prevented from going on by the disciples Cleopas and Peter who tug at his garment ~ journey to Emmaus\t2\n",
      "Christ ministered by angel(s): they bring water and food, sometimes sent by Mary\t2\n",
      "Peter walking on the water towards Christ on the shore\t2\n",
      "the idols (and ear-rings) are hidden under an oak at Shechem\t2\n",
      "ruler and his subjects\t2\n",
      "allegorical representation of human figure of ideal proportions - AA - female human figure of ideal proportions; 'Bellezza feminile' (Ripa)\t2\n",
      "Catholicity ~ characteristic of the True Church\t2\n",
      "Jeremiah lamenting over the destruction of Jerusalem\t2\n",
      "bob-sled\t2\n",
      "preparations for the flagellation of Christ\t2\n",
      "0-10 years\t2\n",
      "Jacob sends his ten sons to Egypt to buy corn, keeping the youngest, Benjamin, at home\t2\n",
      "Mars (planet)\t2\n",
      "Candlemas (2nd February)\t2\n",
      "Old Testament and New Testament compared\t2\n",
      "'qui conceptus est de Spirito Sancto, natus est ex Maria Virgine' ~ articles of faith\t2\n",
      "Jezebel sends a message to Elijah in which she threatens to take his life\t2\n",
      "bones of the arms\t2\n",
      "treasurer\t2\n",
      "horns growing on Cipus' head: when horns grow upon his head, Cipus, the Roman praetor, consults a diviner and is told that he must be king; but rather than destroy the Republican constitution he banishes himself (Ovid, Metamorphoses XV 565)\t2\n",
      "Job's wife abusing him; Satan may be present\t2\n",
      "Achior is tied to a tree near the city of Bethuliah\t2\n",
      "Silvanus\t2\n",
      "'our Father which art in heaven' ~ the Lord's prayer\t2\n",
      "interpretation of the dream of the lean and the fat cows\t2\n",
      "Absalom invites David and all the princes for his sheep-shearing feast\t2\n",
      "David is told of Amnon's death; he rends his clothes\t2\n",
      "pen-knife\t2\n",
      "pulling out one's hair\t2\n",
      "Martha meets Christ at the gate of Bethany\t2\n",
      "the Aloeids try to reach Heaven by piling Mount Ossa and Mount Pelion on Olympus\t2\n",
      "diamond polisher, diamond cutter\t2\n",
      "Virgil in the basket\t2\n",
      "one eye closed, winking\t2\n",
      "care of the body, hygiene\t2\n",
      "one of the lovers alone (e.g. longing for the beloved)\t2\n",
      "'Scopodes', 'Sciapodes', i.e. beings with one leg\t2\n",
      "Virgil's revenge: men lighting candles at Phyllis' behind\t2\n",
      "50-60 years\t2\n",
      "non-aggressive, friendly or neutral activities and relationships of Pan\t2\n",
      "60-70 years\t2\n",
      "70-80 years\t2\n",
      "80-90 years\t2\n",
      "after a furious wind, an earthquake and a fire, Elijah hears God's voice and covers his face with his cloak\t2\n",
      "arm raised, with fingers spread out\t2\n",
      "négligé\t2\n",
      "Prometheus brings fire to mankind\t2\n",
      "topiary work (shrubs and trees trimmed and trained into ornamental shape); bonsai, espalliered, etc.\t2\n",
      "representations derived from Holy Family\t2\n",
      "Mary as orante (sometimes called 'Blacherniotissa')\t2\n",
      "Thetis, asleep on the shore, is assailed by Peleus; she tries to elude him by assuming different shapes\t2\n",
      "Madonna in the rose-garden, 'Paradiesgärtlein'\t2\n",
      "Trinity represented by tripartite symbols\t2\n",
      "fat and thin (human types)\t2\n",
      "angel(s) with sceptre and/or globe\t2\n",
      "events after Christ's entombment\t2\n",
      "Christ goes to the feast of the Tabernacles in secret\t2\n",
      "other non-aggressive activities of Cupid\t2\n",
      "Good and Bad Behaviour, Moral Qualities\t2\n",
      "couple entering the church ~ marriage\t2\n",
      "prayer at going to bed, or at getting up\t2\n",
      "one person playing string instrument (plucked) - CC - out of doors\t2\n",
      "Joseph relates his first dream\t2\n",
      "Paul prays before his beheading\t2\n",
      "witch-hunt, persecution of witches and sorcerers\t2\n",
      "coronet\t2\n",
      "the dragon bursts after being fed by Daniel\t2\n",
      "Jochebed makes an ark (or basket) of bulrushes daubed with pitch and puts Moses in it\t2\n",
      "the Four Faculties (personifications)\t2\n",
      "the conversation between Judith and Holofernes\t2\n",
      "'Majestas Domini': Christ in mandorla seated on a rainbow or sphere and accompanied by the Tetramorph\t2\n",
      "destroying angel\t2\n",
      "crooked, bent person\t2\n",
      "healing of a deaf-mute in Decapolis (Mark 7:31-37)\t2\n",
      "science versus worldly temptation\t2\n",
      "martyrdom of Isaiah: by order of King Manasseh, Isaiah is sawn in two\t2\n",
      "veterinarian\t2\n",
      "Envy; 'Invidia' (Ripa) ~ personification of one of the Seven Deadly Sins - NN - triumph\t2\n",
      "King Cyrus visits the lion's den and finds Daniel alive\t2\n",
      "Jacob's death (Genesis 49:33, 50:1-14)\t2\n",
      "lovesick lover\t2\n",
      "blindfolded choice (of partner)\t2\n",
      "Jupiter, in the guise of a shepherd, and Mnemosyne, Titaness and mother of the Muses\t2\n",
      "cumulonimbus, i.e. thunder clouds\t2\n",
      "Doris, wife of Nereus\t2\n",
      "weeds\t2\n",
      "stepping stones\t2\n",
      "art and the public; styles and ornaments\t2\n",
      "Ulysses and Diomedes kill Rhesus and his companions and take away his horses\t2\n",
      "the wavering battle (Iliad VIII-X)\t2\n",
      "Aeneas tries to save the body of Pandarus but is hit by a stone thrown by Diomedes; Venus comes to Aeneas' rescue\t2\n",
      "Venus intervenes in the duel between Paris and Menelaus: she covers Paris with a cloud and leads him to his room\t2\n",
      "stay of Aeneas on Delos: meeting with Anius, and consultation of the Delian oracle; the Trojans offer sacrifices to the gods\t2\n",
      "prayer ~ Roman religion\t2\n",
      "entering the church\t2\n",
      "excommunication\t2\n",
      "the cross(es) in the background\t2\n",
      "breasts giving milk - AA - female human figure\t2\n",
      "Enoch's translation\t2\n",
      "'gemalte Galerie'\t2\n",
      "mother playing with baby (fondling, dandling, crooning)\t2\n",
      "canoeing\t2\n",
      "purification system (~ water supply)\t2\n",
      "Mercury summons Aeneas, engaged in building activities, to leave Carthage\t2\n",
      "the lord sends labourers to the vineyard\t2\n",
      "being supported\t2\n",
      "inquisitor\t2\n",
      "Paul preaches and tells his story to Jews while guarded by soldiers\t2\n",
      "Moses is either presented to Pharaoh's daughter or surrounded by women fondling him\t2\n",
      "praying for the living and the dead ~ one of the (seven) spiritual Acts of Mercy\t2\n",
      "Madonna: Mary (standing) with the Christ-child free-standing (or leaning against her)\t2\n",
      "sermon ~ Protestant service - QQ - field conventicle, hedge sermon\t2\n",
      "Exodus (part II): journey of Israel to Mount Sinai\t2\n",
      "Nathan accuses David of his misdeed\t2\n",
      "the halt leading the blind\t2\n",
      "pylons, power lines\t2\n",
      "Favour; 'Favore' (Ripa)\t2\n",
      "Joseph is chosen as husband because his rod is flowering (sometimes a dove on it)\t2\n",
      "fables of Lafontaine : Use 85(...)\t2\n",
      "fabulous animals ~ owls\t2\n",
      "Mithraism and other Hellenistic or Late Roman (provincial) religions (including ancient Iranian religions)\t2\n",
      "ritual practices ~ Germanic and Scandinavian religions\t2\n",
      "investiture by ruler\t2\n",
      "the Phaeacians bring Ulysses to Ithaca; they lay him down asleep on the beach with gifts (Homer, Odyssey XIII)\t2\n",
      "Tobit lies sleeping against a wall\t2\n",
      "head of a beheaded person on post or pole\t2\n",
      "throwing something - AA - female human figure\t2\n",
      "the Greeks prepare to leave Troy\t2\n",
      "papal funeral procession\t2\n",
      "adoration of the Lamb on Mount Sion by the 144-thousand ~ Apocalypse\t2\n",
      "Neptune raises a storm and destroys Ulysses' raft\t2\n",
      "arrival of Agamemnon and Cassandra in Mycenae\t2\n",
      "Ulysses and his men slip away concealed under rams\t2\n",
      "Ulysses departs from the island of Circe and passes through a series of dangers, which Circe had warned him about (Homer, Odyssey XII)\t2\n",
      "Ulysses and the ghost of Tiresias, who tells him about the future\t2\n",
      "Ulysses and Penelope exchange their news in bed\t2\n",
      "Miriam is punished with leprosy; Moses prays to God, who promises to heal Miriam after seven days\t2\n",
      "Ulysses with his father Laertes\t2\n",
      "triumph of Mary, on triumphal chariot\t2\n",
      "angel(s) bearing John the Baptist on his way to the wilderness\t2\n",
      "Jupiter, in the form of a snake, and Proserpina\t2\n",
      "chief rabbi\t2\n",
      "Judith and her maidservant take leave of the elders at the city gate\t2\n",
      "tyrant, dictator\t2\n",
      "the devils sent by Hermogenes obey James and fetter Hermogenes\t2\n",
      "unusual means of transport\t2\n",
      "Human Life represented by a ship\t2\n",
      "Naomi on her way to Bethlehem with her daughters-in-law, Orpah and Ruth\t2\n",
      "person under sentence of death hears that he is to be executed\t2\n",
      "astrologer observing the heavens\t2\n",
      "Theseus takes the sword and the sandals of his father Aegeus from under the rock; usually in the presence of his mother Aethra\t2\n",
      "the purchase of salve, spices and linen ~ Christ's entombment\t2\n",
      "'maille' (ball game)\t2\n",
      "ritual practices ~ death and burial (Hinduism, Buddhism, Jainism)\t2\n",
      "miracle of the bending palmtree ~ rest on the flight into Egypt\t2\n",
      "sacrifice ~ American Indian religions\t2\n",
      "ritual practices with particular objectives ~ American Indian religions\t2\n",
      "shroud\t2\n",
      "conceptions and ideas visualized ~ Hinduism, Buddhism, Jainism\t2\n",
      "active life; 'Vita attiva' (Ripa)\t2\n",
      "hand uncovering the chest\t2\n",
      "altar ~ Jewish religion\t2\n",
      "epistle (of Paul) to the Hebrews\t2\n",
      "heaping up (industrial process)\t2\n",
      "medical research, branches of medicine\t2\n",
      "'Immaculata', 'Purisima': Mary with saints\t2\n",
      "organizational aspects ~ Protestant churches\t2\n",
      "temple, shrine ~ traditional Chinese religions\t2\n",
      "contemplating nature\t2\n",
      "miraculous statues of Mary or the Madonna\t2\n",
      "heavy industry\t2\n",
      "lyre, cithara, psaltery - CC - out of doors\t2\n",
      "sacrifice ~ Germanic and Scandinavian religions\t2\n",
      "violent death by breaking of bones\t2\n",
      "Anchises foretells the history of Rome to Aeneas\t2\n",
      "infancy, upbringing of Jupiter\t2\n",
      "funerary ritual, ancestor cult ~ Islam, Mohammedanism\t2\n",
      "incensation of the altar\t2\n",
      "Eurydice, while fleeing from Aristaeus, is killed by a snake\t2\n",
      "proclamation of a ruler\t2\n",
      "Madonna (or Mary alone) on the throne of Solomon, sometimes surrounded by virtues\t2\n",
      "triumph of Mars; 'Carro di Marte' (Ripa)\t2\n",
      "portrait of cabaret-artiste\t2\n",
      "priest ~ non-Christian religions - BB - priestess\t2\n",
      "the lifespan\t2\n",
      "names of literary characters\t2\n",
      "(group of) the Seven Deadly Sins (symbolized)\t2\n",
      "lake-dwelling, pile-dwelling\t2\n",
      "sitting with arms or elbows on the knees - AA - female human figure\t2\n",
      "non-aggressive, friendly or neutral activities and relationships of Jupiter\t2\n",
      "death by disease\t2\n",
      "breaking to saddle, bridle, etc. ~ wild horses\t2\n",
      "all the Midianite men, including their five kings and Balaam, are killed; the women, children and animals are captured, and the cities are burnt\t2\n",
      "natural death\t2\n",
      "reading-accessories\t2\n",
      "'Confessio Augustana', 'Augsburger Konfession'\t2\n",
      "emperor - BB - female ruler\t2\n",
      "Satan withdrawing from Christ ~ temptation of Christ in the wilderness\t2\n",
      "Pandora surrounded by the gods on Olympus\t2\n",
      "Magnificence; 'Magnificenza' (Ripa)\t2\n",
      "Song of Solomon, Song of Songs\t2\n",
      "genesis of the Milky Way (Juno suckling Hercules)\t2\n",
      "crowning of Solomon\t2\n",
      "(playing at) knuckle-bones, 'astragali'\t2\n",
      "groups of plants (herbs)\t2\n",
      "lance, spear (symbol of sovereignty)\t2\n",
      "model ~ architecture\t2\n",
      "God rests on the seventh day\t2\n",
      "water meadows - HH - ideal landscapes\t2\n",
      "Christ dead ~ particularities of crucifixion scenes\t2\n",
      "sceptre, staff (symbol of sovereignty) - BB - female ruler\t2\n",
      "'sudden death'\t2\n",
      "Reward, 'Praemium'; 'Premio', 'Remuneratione' (Ripa)\t2\n",
      "illegitimate child, bastard\t2\n",
      "bee-keeper\t2\n",
      "breviary, Book of Hours\t2\n",
      "King Nebuchadnezzar's first dream, and its interpretation (Daniel 2)\t2\n",
      "monsters ~ hoofed animals\t2\n",
      "Christ-child surrounded by the instruments of the Passion\t2\n",
      "patron handing over model of church (or chapel)\t2\n",
      "thumb\t2\n",
      "manicure\t2\n",
      "tourism\t2\n",
      "Dignity; 'Dignità' (Ripa)\t2\n",
      "activities in the air ~ public festivities, e.g. fly-past\t2\n",
      "burglary\t2\n",
      "fabulous plants (in general)\t2\n",
      "Telemachus starts out with Mentor, in search of his father\t2\n",
      "the servant (or son) of the centurion of Capernaum is healed\t2\n",
      "Tobias and the angel in Raguel's house\t2\n",
      "Phrygian bonnet\t2\n",
      "choir in Synagogue ~ Jewish religion\t2\n",
      "breathing, respiration\t2\n",
      "fabulous animals ~ tortoises\t2\n",
      "the Benjamites take wives for themselves from among the dancing daughters of Shiloh\t2\n",
      "landscapes in tropical and sub-tropical regions - KK - ideal landscapes\t2\n",
      "story of Christ stilling the storm on the Sea of Galilee (Matthew 8:23-27; Mark 4:35-41; Luke 8:22-25)\t2\n",
      "the Athenian youths draw lots for the yearly tribute to Crete: seven youths and seven maidens to be devoured by the Minotaur\t2\n",
      "Christ asking the apostles: 'whom do men say that I am?' (Matthew 16:13-23; Mark 8:27-33; Luke 9:18-22)\t2\n",
      "communication by means of 'statue parlanti', such as Marforio and Pasquino in Rome\t2\n",
      "story of Lamech, son of Methuselah\t2\n",
      "(story of) Pallas\t2\n",
      "Dido arguing with Anna, her sister\t2\n",
      "(military) training ship\t2\n",
      "revolutionary action (non-violent)\t2\n",
      "Jupiter is lured away by Juno wearing Venus' girdle\t2\n",
      "man doing woman's work\t2\n",
      "the Israelites and the Moabite women\t2\n",
      "obstructions, barricades (defensive measures)\t2\n",
      "the Archangel Raphael\t2\n",
      "Grace, Charm; 'Gratia', 'Venustà' (Ripa)\t2\n",
      "Morality\t2\n",
      "while Ulysses is asleep, his companions open the bag; contrary winds rush out\t2\n",
      "martyrdom and death of Judas Thaddaeus: he is beaten to death and beheaded\t2\n",
      "photographer at work\t2\n",
      "contemplation\t2\n",
      "Ahab, when taking possession of the vineyard, is condemned by Elijah\t2\n",
      "sacrificial feast ~ non-Christian religions\t2\n",
      "Trust\t2\n",
      "kicking something\t2\n",
      "hunter displaying or presenting the spoils of the hunt\t2\n",
      "the brothers before Joseph: Judah pleads for Benjamin and offers to be retained as a slave in his stead\t2\n",
      "Esther on her way to King Ahasuerus\t2\n",
      "last talk with relatives (during last hours before execution)\t2\n",
      "the blinding of Samson\t2\n",
      "the Ammonites are defeated by Jephthah's army; twenty cities are taken\t2\n",
      "Mary (standing) with the Christ-child in front of her (free-standing or leaning against her)\t2\n",
      "Perfection, Completeness; 'Perfettione', 'Operatione perfetta' (Ripa)\t2\n",
      "story of Jabal, the first to raise cattle and live in tents\t2\n",
      "trying to win souls, fishing for souls\t2\n",
      "Lamech kills Cain: Cain is accidentally shot dead by an arrow of the blind Lamech, who is assisted in the hunt by his son Tubalcain\t2\n",
      "Job on the dunghill visited by his wife\t2\n",
      "praise of the judgement of God in heaven\t2\n",
      "living alone on an uninhabited island, Robinsonade\t2\n",
      "the curse of Cain\t2\n",
      "Holy Family visiting Elisabeth on the return journey\t2\n",
      "Saul is baptized by Ananias\t2\n",
      "'Mater Dolorosa' - FF - 'Mater Dolorosa', head or bust\t2\n",
      "east wind (one of the four main directions)\t2\n",
      "from Pilate's palace to Golgotha: the procession to Calvary (Matthew 27:31-33; Mark 15:20-22; Luke 23:26-33; John 19:17)\t2\n",
      "the book of Ecclesiasticus, the wisdom of Jesus Sirach\t2\n",
      "Christ and his apostles on the Mount of Olives\t2\n",
      "purification of Isaiah: an angel touches Isaiah's lips with a burning coal, taken from the altar with tongs ~ Isaiah's visions (Isaiah 6:5-13)\t2\n",
      "the damned souls beaten, pricked, scourged, etc. by devils\t2\n",
      "wine, the Precious Blood\t2\n",
      "Perseus shows Andromeda the head of Medusa mirrored in the water\t2\n",
      "Isaiah prays to God and the shadow of the sundial goes back ten degrees\t2\n",
      "Moses orders the death of the mature Midianite women and their male children after the victory of the Israelites over the Midianites\t2\n",
      "the first Passover is celebrated in the new temple ~ the book of Ezra\t2\n",
      "Elysium, Elysian Fields; Islands of the Blessed\t2\n",
      "Eleazar, brother of Judas Maccabeus, kills an elephant of war and is killed himself when the elephant falls on him\t2\n",
      "Antiochus IV Epiphanes falls from his chariot\t2\n",
      "Abishag at David's bed\t2\n",
      "Simon Maccabeus and two of his sons killed at a banquet (1 Maccabees 16:15-17)\t2\n",
      "Elkanah asking Hannah why she weeps\t2\n",
      "the confounding of the Syrians ~ story of Elisha (2 Kings 6:8-23)\t2\n",
      "fourth book of the Maccabees (4 Maccabees)\t2\n",
      "Paul in prison ~ journey to Rome\t2\n",
      "victory of the Israelites over King Sihon and King Og (Numbers 21:21-35; Joshua 12:1-6)\t2\n",
      "Abraham is summoned before Pharaoh, and is ordered to leave Egypt with Sarah\t2\n",
      "the dialogue ~ Job discussing with his friends (Job 4-31)\t2\n",
      "David defeats Hadadezer\t2\n",
      "Jacob's farewell to Benjamin\t2\n",
      "filial love, 'Pietas filiorum'\t2\n",
      "the fig-tree in the vineyard, which did not bear fruits ~ parable of Christ (Luke 13:6-9)\t2\n",
      "the rebuilding of Jerusalem's walls (Nehemiah 2:12 - 4; 6)\t2\n",
      "John the Baptist blessing Christ\t2\n",
      "Abraham's feast on the day of Isaac's weaning\t2\n",
      "'Arme' (Ripa)\t2\n",
      "feudal lord - BB - female ruler\t2\n",
      "to escape the assigned task by God Jonah boards a ship about to go to Tarshish\t2\n",
      "Mary and Joseph searching for their child\t2\n",
      "instruments for perspective drawing\t2\n",
      "Sarah attracts the attention of the Egyptians and is taken to Pharaoh's palace\t2\n",
      "most important deeds: Ceres in search of her daughter Proserpina, whom Pluto carried off\t2\n",
      "healing of a possessed man who was also blind and dumb (Matthew 12:22-24)\t2\n",
      "oil used in the church\t2\n",
      "tools, implements of craftsman\t2\n",
      "fabulous animals ~ ornamental birds\t2\n",
      "Holy Ghost represented as flames\t2\n",
      "nocturnal troop movements\t2\n",
      "monsters ~ predatory animals (sphinx, 'manticora') - AA - female human figure\t2\n",
      "Lot entertaining the angels\t2\n",
      "Esther is presented to King Ahasuerus\t2\n",
      "Venus flees to Olympus (because she has been wounded in the hand by Diomedes)\t2\n",
      "Mary sitting or enthroned, the Christ-child sitting on her knee (Christ-child to Mary's left)\t2\n",
      "the arrival at Cumae and the visit to the underworld (Virgil, Aeneid VI)\t2\n",
      "fundamental arithmetical operations\t1\n",
      "death of Achilles\t1\n",
      "Adoniah comes to Bathsheba asking for help in order to get Abishag as wife\t1\n",
      "the story of Balaam (Numbers 22-24)\t1\n",
      "violent death by firearms - EE - death not certain; wounded person\t1\n",
      "baking the head, e.g. by the baker of Eeclo (heads temporarily replaced by cabbages)\t1\n",
      "Sunday\t1\n",
      "State of Being while Doing\t1\n",
      "David brings provisions to his brothers, who are with the Israelite army in the valley of Elah\t1\n",
      "other specific aspects of Venus\t1\n",
      "the Greek heroic legends (II): heroines\t1\n",
      "True Religion vs. False Religion\t1\n",
      "Peter prays: Simon falls down and dies afterwards\t1\n",
      "slate (writing material)\t1\n",
      "other fables : Use 85(...)\t1\n",
      "odalisque\t1\n",
      "ribbon, scroll, banderole ~ ornament - AA - stylized\t1\n",
      "the Israelites make bricks ~ Exodus\t1\n",
      "worship and devotion (in general) ~ Roman religion\t1\n",
      "Incorruption, Purity; 'Purità' (Ripa)\t1\n",
      "magic signs and objects (numbers, words, etc.)\t1\n",
      "white races and peoples\t1\n",
      "healing of two blind men who followed Christ into a house (Matthew 9:27-31)\t1\n",
      "the Greek heroic legends (I)\t1\n",
      "shield-bearer, squire\t1\n",
      "Jupiter settles the problem between Ceres and Pluto\t1\n",
      "Achilles kills Hector\t1\n",
      "opening of the fourth seal: the man on the pale horse with a scythe (Death)\t1\n",
      "mestee, mestizo, i.e. offspring of Spanish and South-American Indian people\t1\n",
      "letters and monograms ~ symbols of Christ\t1\n",
      "industrial design\t1\n",
      "Elisha picks up Elijah's cloak and goes back to the Jordan\t1\n",
      "discovery, finding of witch ~ witch-hunt\t1\n",
      "blood circulation\t1\n",
      "Moses cuts two stone tablets\t1\n",
      "birth and childhood of Samuel (1 Samuel 1-2:21)\t1\n",
      "council of the Greeks: Minerva restrains Achilles' anger by seizing him by the hair; possibly Nestor trying to calm Agamemnon\t1\n",
      "moustache - AA - ~ women\t1\n",
      "freezing\t1\n",
      "Pharaoh mourning his dead son ~ the tenth plague\t1\n",
      "polishing (~ cleaning the house)\t1\n",
      "brains\t1\n",
      "patriotism\t1\n",
      "meeting of Nausicaa and Ulysses: Ulysses, almost naked, comes out of the bushes; Nausicaa and her companions are startled at the sight\t1\n",
      "ornament derived from plant forms - AA - stylized\t1\n",
      "magnetic phenomena\t1\n",
      "Pharaoh commands the taskmasters to stop supplying the people with straw for making bricks\t1\n",
      "Elimelech, Naomi and their sons Mahlon and Chilion, in Moab (Ruth 1:1-5)\t1\n",
      "particular seas, etc.\t1\n",
      "the people bring their golden ear-rings to Aaron\t1\n",
      "Esther becomes queen (Esther 1 - 2:20)\t1\n",
      "an agreement is reached: the altar built at the borders of the Jordan is only an altar of testimony\t1\n",
      "(story of) Triptolemus\t1\n",
      "celebration on board while crossing the equator (Neptune)\t1\n",
      "Good Genius; 'Genio Buono' (Ripa)\t1\n",
      "other postures of the head, not meant or mentioned above - AA - female human figure\t1\n",
      "the three Wise Men meet at the crossroads\t1\n",
      "conserving food\t1\n",
      "the marriage agreement ~ story of Isaac\t1\n",
      "informal justice, self-help\t1\n",
      "the nine worthies, 'les neuf preux'\t1\n",
      "Christ praying on the mountain: the disciples waiting in a boat\t1\n",
      "Othniel delivers the Israelites from Chushan-rishathaim, king of Mesopotamia\t1\n",
      "Neptune stirring up the sea with his trident\t1\n",
      "worship and devotion ~ American Indian religions\t1\n",
      "Aaron's rod has sprouted, flowered and produced ripe almonds\t1\n",
      "the eagle of Jupiter fetches water from the Styx with Psyche's jar\t1\n",
      "conqueror (on horseback) tramples conquered\t1\n",
      "Revelation 6-11\t1\n",
      "the sisters of the dying Lazarus send to Christ for help\t1\n",
      "'Anna selbdritt' with Anna's three husbands and sometimes also Joseph present\t1\n",
      "Paul's ecstatic vision: he is borne aloft by (three) angels (2 Corinthians 12:1-3)\t1\n",
      "Hercules' fight with the Molionides, the Siamese twins\t1\n",
      "'Christus Rex'\t1\n",
      "'Purim' players, masquerades\t1\n",
      "Eurytus and his sons are beaten by Hercules in a shooting contest, of which the prize was Iole, the king's daughter; but Eurytus refuses to give her to Hercules\t1\n",
      "Christ in distress, sitting on the cold stone (alone)\t1\n",
      "Power of Eloquence; 'Forza sottoposta all'Eloquenza' (Ripa)\t1\n",
      "All Saints' Day\t1\n",
      "other types of crucified Christ in non-narrative context\t1\n",
      "birth of Enoch\t1\n",
      "'tallit', prayer shawl worn over head and shoulders ~ Jewish ceremonial objects\t1\n",
      "winnowing\t1\n",
      "racing stable\t1\n",
      "sitting cross-legged, as tailor at work - AA - female human figure\t1\n",
      "story of the Tower of Babel (Genesis 11:1-9)\t1\n",
      "Solomon anointed king for the second time during a great feast; sheep and oxen are sacrificed\t1\n",
      "'shofar' (ram's horn) ~ Jewish religion\t1\n",
      "other representations ~ Mary's death, e.g.: Mary kneeling before her bed\t1\n",
      "blowing the 'shofar' at 'Rosh Ha-Shanah' ~ Jewish religion\t1\n",
      "parcel, packet\t1\n",
      "Aesculapius in the shape of a serpent (or dragon) arrives at Rome and hides himself among the reeds of the Tiber island\t1\n",
      "abacus, counting-frame\t1\n",
      "Ezra commanded to write prophecies (2 Esdras 15:1-2)\t1\n",
      "the two disciples Cleopas and Peter without Christ at the table ~ supper at Emmaus\t1\n",
      "ritual practices ~ purification, blessing (non-Christian religions)\t1\n",
      "circumcision set, e.g. knife ~ Jewish ceremonies\t1\n",
      "the crowing cock ~ denial of Peter\t1\n",
      "other forms of knights' contests\t1\n",
      "parody on art\t1\n",
      "the militant Church (on earth)\t1\n",
      "person with big beard - AA - female\t1\n",
      "God tells Abraham of the impending destruction of Sodom and Gomorrah, and promises not to destroy the cities if he can find there ten just men\t1\n",
      "forgiving injuries ~ one of the (seven) spiritual Acts of Mercy\t1\n",
      "Io is petted by Inachus, her father, and by her sisters\t1\n",
      "military engineering ~ communication and transport\t1\n",
      "throwing something\t1\n",
      "cover for table, etc.\t1\n",
      "assembly line\t1\n",
      "David sees the avenging angel in Jerusalem; he prays to God\t1\n",
      "Mary returning home ~ Visitation\t1\n",
      "Elijah asks the widow of Zarephath to fetch him some food\t1\n",
      "bathing the new-born Christ-child (usually by the midwives)\t1\n",
      "street-organ, 'pierement' - CC - out of doors\t1\n",
      "Zipporah appeases God by circumcising one of her sons\t1\n",
      "the molten sea, with twelve oxen or lions ~ temple of Solomon\t1\n",
      "during the day a pillar of cloud (and/or the angel of God) shows the people the way\t1\n",
      "the sleeping apostles (alone) ~ Garden of Gethsemane\t1\n",
      "fighting civilians, e.g.: 'franc tireur'\t1\n",
      "several childbed scenes ~ birth of Mary\t1\n",
      "Perimele beloved by Achelous\t1\n",
      "other postures of the human figure, not meant or mentioned above\t1\n",
      "Noah plants a vineyard\t1\n",
      "Prohibition\t1\n",
      "Sheba's rebellion against David (2 Samuel 20)\t1\n",
      "'contrapposto', 'Standbein und Spielbein'\t1\n",
      "religious functionaries ~ Islam, Mohammedanism\t1\n",
      "death of Anna, usually Mary and Christ present\t1\n",
      "monsters with parts in greater number than normal\t1\n",
      "excessive hairiness - AA - female\t1\n",
      "diviner, soothsayer\t1\n",
      "waxing moon represented as face\t1\n",
      "west wind (one of the four main directions)\t1\n",
      "autograph ~ author, poet\t1\n",
      "north wind (one of the four main directions)\t1\n",
      "Aeneas' fleet cast on the coast of Libya\t1\n",
      "Perseus frees Andromeda of her chains\t1\n",
      "the holy women tell the apostles about the empty tomb ~ Resurrection of Christ\t1\n",
      "cabaret (locality)\t1\n",
      "many disciples withdraw from Christ; twelve disciples remain (John 6:66-71)\t1\n",
      "Mary (standing) with the Christ-child in front of her (free-standing or leaning against her); Christ-child standing\t1\n",
      "Christ explaining his doctrine to women and children\t1\n",
      "'ars memorandi', mnemotechnics\t1\n",
      "Christ rebuking the winds\t1\n",
      "angel(s) with other object(s), e.g. weapons\t1\n",
      "autumn ~ other concepts (e.g. biblical scenes) (the four seasons of the year)\t1\n",
      "table fountain\t1\n",
      "Tobit speaking to Tobias\t1\n",
      "Samaritans do not receive Christ on his way to Jerusalem (Luke 9:52-56)\t1\n",
      "John the Baptist reproaches Herod (Herod Antipas) and Herodias\t1\n",
      "Incredulity\t1\n",
      "aggressive, unfriendly activities and relationships of Mercury\t1\n",
      "beatitudes of the sermon on the mount as series (Matthew 5:3-12)\t1\n",
      "eunuch\t1\n",
      "ice-cellar\t1\n",
      "Christ's arrival on Calvary\t1\n",
      "industries\t1\n",
      "the (difficult) choice ~ courting\t1\n",
      "ceremonial procession, parade, pageant ~ installation of a ruler - BB - female ruler\t1\n",
      "David finds the Amalekites feasting\t1\n",
      "events immediately after the Resurrection\t1\n",
      "joy, 'Gaudium' ~ one of the seven gifts of the soul\t1\n",
      "sending of Gabriel ~ 'Ratschluss der Erlösung'\t1\n",
      "Peter and John arrested\t1\n",
      "David gives Uriah a letter for Joab\t1\n",
      "'Perspective' (alleg.); 'Prospetiva' (Ripa)\t1\n",
      "Jupiter, in the form of an eagle or a flame, woos or abducts Aegina, daughter of Asopus\t1\n",
      "Pride; 'Superbia' (Ripa) ~ personification of one of the Seven Deadly Sins - NN - triumph\t1\n",
      "angels holding a curtain\t1\n",
      "the Philistines distrust David\t1\n",
      "Necessity, Inevitability; 'Necessità' (Ripa)\t1\n",
      "worship of Venus (Philostratus, Imagines II 1)\t1\n",
      "Perdix changed into a partridge: when Perdix (Talus) is thrown from the Acropolis by the envious Daedalus, Minerva changes him into a partridge (Ovid, Metamorphoses VIII 250)\t1\n",
      "Scylla changed into a lark: when falling from Minos' boat (or when throwing herself into the sea), Scylla, daughter of Nisus, is changed into a lark; she is then pursued by the hawk into which her father was transformed (Ovid, Metamorphoses VIII 145)\t1\n",
      "Chimera\t1\n",
      "monarchy; 'Monarchia mondana' (Ripa)\t1\n",
      "the apostle John answers Christ: 'we saw a man casting out demons in your name' (Mark 9:38; Luke 9:49)\t1\n",
      "non-aggressive, friendly or neutral activities and relationships of Cupid\t1\n",
      "Christ in orans attitude\t1\n",
      "massacre, 'pogrom' ~ anti-semitism\t1\n",
      "Hermes Psychopompos: Mercury as guide of the souls\t1\n",
      "Samuel and Saul\t1\n",
      "Hercules and the carter whose carriage, yoked to a pair of oxen, had turned over (Aesop)\t1\n",
      "dispute of Christians and Jews\t1\n",
      "infancy, upbringing of Hercules\t1\n",
      "patriarchs from the Old Testament (not in biblical context)\t1\n",
      "auxiliary means and methods in trade and finance\t1\n",
      "Mary weeping - FF - 'Mater Dolorosa', head or bust\t1\n",
      "breakfast piece (Dutch: 'ontbijtje')\t1\n",
      "dusting\t1\n",
      "Oded, a prophet, meets the returning Israelite army with the Judaean prisoners and exhorts the Israelites to let the prisoners go\t1\n",
      "presenting the bride to the man\t1\n",
      "meditating ~ Hinduism, Buddhism, Jainism\t1\n",
      "Esther's banquet\t1\n",
      "chairman\t1\n",
      "the Calydonian hunt\t1\n",
      "'... that your alms may be in secret' ~ doctrine of Christ on possessions (Matthew 6:4)\t1\n",
      "Religion and Magic\t1\n",
      "Daniel, when brought before King Belshazzar, interprets the writing on the wall\t1\n",
      "the Argonauts in Mysia\t1\n",
      "Cushi tells David of Absalom's death\t1\n",
      "transporting of food ~ military service\t1\n",
      "Saul orders his armour-bearer to kill him, but he refuses\t1\n",
      "the priest Zadok and the Levites bring the Ark of the Covenant to the brook Kidron; Abiathar burns offerings\t1\n",
      "flying on broomstick, pitchfork, trident ~ witches' sabbath\t1\n",
      "flat-building, apartment house\t1\n",
      "entering a convent\t1\n",
      "Bohemian life of artist\t1\n",
      "scenes ~ anonymous historical person(s)\t1\n",
      "perpetual calendar\t1\n",
      "soldiers casting lots for or quarrelling over Christ's seamless garment\t1\n",
      "the ascension of Elijah (2 Kings 2:1-18)\t1\n",
      "love potion, philtre\t1\n",
      "relations between races\t1\n",
      "condolence\t1\n",
      "the fifteen signs before Doomsday\t1\n",
      "Ahitophel hangs himself\t1\n",
      "the Greeks divide the spoils and sacrifice to their gods\t1\n",
      "the throne of God ~ Revelation\t1\n",
      "Jonathan smites the Philistine garrison at Geba\t1\n",
      "Nehemiah's return to Jerusalem (Nehemiah 1 - 2:11)\t1\n",
      "robbery - GG - female\t1\n",
      "witnesses\t1\n",
      "child with plant (games and plays)\t1\n",
      "fire from heaven devours Satan, Gog and Magog, and Satan is cast into a lake of fire\t1\n",
      "gin-distiller\t1\n",
      "Perseus, riding on Pegasus, kills the sea monster\t1\n",
      "announcement of birth\t1\n",
      "dog-sleigh\t1\n",
      "(playing with) dancing dolls\t1\n",
      "Bathsheba enthroned at Solomon's right hand\t1\n",
      "doctrine on the sacraments\t1\n",
      "tobacco-jar\t1\n",
      "(story of) Apollo (Phoebus)\t1\n",
      "plundering of David's grave\t1\n",
      "documents (~ witnesses)\t1\n",
      "statues, paintings, etc. ~ objects of worship (traditional Chinese religions)\t1\n",
      "Jeroboam's idolatry\t1\n",
      "the burial of Dives\t1\n",
      "Moses' marriage with Zipporah\t1\n",
      "circumcision of John the Baptist\t1\n",
      "Daniel's first vision (Daniel 7)\t1\n",
      "Christ sought by mother and brothers (Matthew 12:46-50; Mark 3:31-35; Luke 8:19-21)\t1\n",
      "Eutychus falls out of the window while sleeping during Paul's preaching in Troas\t1\n",
      "the warder and his family are baptized by Paul and Silas\t1\n",
      "from Christ's deposition to his entombment (Matthew 27:58-66; Mark 15:46-47; Luke 23:53-56; John 19:39-42)\t1\n",
      "Jeremiah stoned to death\t1\n",
      "Raguel gives Tobias half of his possessions\t1\n",
      "mystic ideas ~ Christ\t1\n",
      "seafood\t1\n",
      "soccer, football (early names: soule, choule, cholle)\t1\n",
      "Hercules leads Alcestis out of the underworld\t1\n",
      "'camera obscura' (~ tools, implements of draughtsman)\t1\n",
      "sacrifice to Jupiter and Apollo: a snake swallows a nest of eight young birds and their mother; the augur Calchas explains the portent\t1\n",
      "Jacob's farewell\t1\n",
      "Hecuba and the Trojan women pray in Minerva's temple\t1\n",
      "flower-bed\t1\n",
      "boiling\t1\n",
      "Rest; 'Quiete' (Ripa)\t1\n",
      "auditorium ~ theatre, etc. - AA - open-air performances\t1\n",
      "flying on or with the aid of object(s)\t1\n",
      "Moses kills the Egyptian taskmaster\t1\n",
      "'when you fast, ... your fasting may not be seen by men' (Matthew 6:16-18)\t1\n",
      "garment, 'ephod' of high priest ~ Jewish religion\t1\n",
      "domestic birds (inside the house)\t1\n",
      "divination games, fortune-telling games\t1\n",
      "Abraham is buried by Isaac and Ishmael in the cave of Machpelah\t1\n",
      "Joseph opens the storehouse and sells corn\t1\n",
      "the Egyptians handing over their jewellery and clothing to the Israelites\t1\n",
      "Paul's farewell speech to the elders of Ephesus\t1\n",
      "leading the bride to bed\t1\n",
      "Achior makes an address\t1\n",
      "the Assyrian camp is plundered; Judith gets Holofernes' tent with all that is in it\t1\n",
      "making music and dancing ~ African tribal religions\t1\n",
      "disturbance of religious service\t1\n",
      "brass band, street band\t1\n",
      "prisoner of war camp\t1\n",
      "soldiers taking revenge\t1\n",
      "fighting against superior forces\t1\n",
      "emigration\t1\n",
      "duck decoy\t1\n",
      "in his palace of cedar, David speaks with Nathan\t1\n",
      "angel(s) with torch - GG - lower angel(s) without wings\t1\n",
      "allegorical representation of human figure of ideal proportions\t1\n",
      "Priapus creeps up to the resting Lotis (or Vesta) during a banquet of the gods, a braying ass stands nearby\t1\n",
      "Jacob and Laban make an alliance: a pile of stone is erected and an animal is sacrificed\t1\n",
      "Jacob is told of Joseph's position\t1\n",
      "Hagar returns to Abraham\t1\n",
      "the book of Joshua (Josue)\t1\n",
      "the Amalekites defeated by David\t1\n",
      "the empty tomb ~ Resurrection of Christ\t1\n",
      "Jonathan eats of the honey on the day of fasting\t1\n",
      "Jeremiah's vision of the seething pot\t1\n",
      "monsters ~ predatory animals (sphinx, 'manticora')\t1\n",
      "two sacrificial altars are set up ~ story of Elijah\t1\n",
      "the messenger brings Saul's crown and bracelet to David\t1\n",
      "Mary standing or resting on the earth\t1\n",
      "the return and reforms of Ezra\t1\n",
      "erecting of the 'sukkah' ~ 'Sukkot'\t1\n",
      "'the Kingdom of Heaven is like a merchant in search of fine pearls' ~ proverbial saying of Christ (Matthew 13:45-46)\t1\n",
      "the importunate friend, asking his friend who does not want to rise for three loaves of bread (Luke 11:5-8)\t1\n",
      "the unjust judge and the persevering widow (Luke 18:2-5)\t1\n",
      "epistles of Paul to communities\t1\n",
      "Theseus' fight with the Amazons when they attack Athens\t1\n",
      "the Christ-child teaching\t1\n",
      "Aeneas tells Dido of his wanderings\t1\n",
      "arrival of bride and bridegroom at the wedding feast\t1\n",
      "Menace, Intimidation; 'Minaccie' (Ripa)\t1\n",
      "the story of Abraham (part III)\t1\n",
      "Diana and her nymphs surprised by satyrs\t1\n",
      "God sends plagues upon Pharaoh ~ story of Abraham\t1\n",
      "Lavinia's long hair catches fire during a sacrifice\t1\n",
      "aggression against the Church\t1\n",
      "cryptography, secret writing\t1\n",
      "body of the executed shown to a few people\t1\n",
      "groups of mammals\t1\n",
      "boundary-post, boundary-stone\t1\n",
      "violent death by poison\t1\n",
      "Joshua, the high priest, with the angel of the Lord and Satan (Zechariah 3)\t1\n",
      "November; 'Novembre' (Ripa)\t1\n",
      "painter working from nude model\t1\n",
      "Daniel (and his friends) asking Melzar for special food\t1\n",
      "Christ as teacher (part II): parables and proverbial sayings of Christ\t1\n",
      "rejuvenation\t1\n",
      "the cattle are divided ~ Jacob's partnership with Laban\t1\n",
      "divination with the aid of divining-rod\t1\n",
      "(story of) Venus (Aphrodite)\t1\n",
      "the army before Thebes\t1\n",
      "Marsyas teaches Olympus to play the flute\t1\n",
      "agreeable smell - AA - female human figure\t1\n",
      "Mary conceiving Christ (the angel not present)\t1\n",
      "the Old testament, Old Law; 'Legge vecchia', 'Legge del timore' (Ripa)\t1\n",
      "exchange of rings ~ marriage\t1\n",
      "hell represented as (ruined) city, (ruined) castle\t1\n",
      "(story of) Triton - specific aspects, allegorical aspects, as patron of\t1\n",
      "Deianira sends Hercules a robe smeared with Nessus' blood\t1\n",
      "Guile, Artfulness, Craftiness, Deceitfulness\t1\n",
      "hypochondriac\t1\n",
      "'automatic' music\t1\n",
      "Mary sitting on the ground, the Christ-child in front of her, standing in her lap\t1\n",
      "pomander, musk ball\t1\n",
      "Susanna, Joakim's wife, walking in the garden; the two elders spying upon her\t1\n",
      "Paul in Tyre; prayer and leave-taking on the shore\t1\n",
      "Abraham moves his encampment to Bethel and builds his second altar\t1\n",
      "Abraham fetches water and washes the angels' feet\t1\n",
      "birth of Isaac (Genesis 21:1-8)\t1\n",
      "calling of Philip and Nathanael (Bartholomew) (John 1:43-51)\t1\n",
      "circumcision, the sign of the covenant ~ story of Abraham (Genesis 17)\t1\n",
      "symbols and prefigurations of Mary\t1\n",
      "representation of the Trinity: person (Father), lion (Son), and dove (Holy Ghost)\t1\n",
      "Ulysses in the underworld (Homer, Odyssey XI)\t1\n",
      "ritual practices ~ African tribal religions\t1\n",
      "forester\t1\n",
      "triumph of Apollo\t1\n",
      "love-affairs of Jupiter\t1\n",
      "opening and reading of testament\t1\n",
      "the master of the house making a long journey ~ parable of Christ (Mark 13:34-37)\t1\n",
      "spring, source of river or stream - HH - ideal landscapes\t1\n",
      "personification of the bronze age; 'Età del bronzo', 'Età del rame' (Ripa)\t1\n",
      "personification of the golden age; 'Età dell'oro' (Ripa)\t1\n",
      "personification of the silver age; 'Età dell'argento' (Ripa)\t1\n",
      "baptismal font - QQ - baptism in the open air\t1\n",
      "major or sacred orders ~ Eastern, Greek and Russian orthodox churches\t1\n",
      "ritual practices ~ stadia of human life (Hinduism, Buddhism, Jainism)\t1\n",
      "Mary (standing) with the Christ-child in front of her (free-standing or leaning against her); Christ-child standing - FF - Mary sitting or enthroned\t1\n",
      "Justification, Vindication\t1\n",
      "other ritual practices ~ American Indian religions\t1\n",
      "human sacrifice ~ American Indian religions\t1\n",
      "altar ~ American Indian religions - RR - in the open air\t1\n",
      "Agamemnon repents and sends envoys with gifts to Achilles, who refuses them\t1\n",
      "hierarchy of priests ~ Jewish religion\t1\n",
      "spirit of water, nix, undine\t1\n",
      "ball games played by one person\t1\n",
      "symbolic representations, allegories and emblems ~ musical drama\t1\n",
      "Christ on the cross combined with other scenes from the Passion\t1\n",
      "spokes\t1\n",
      "Mary sitting on the ground, the Christ-child in her lap or on her knee (Christ-child to Mary's left)\t1\n",
      "sickness and death of Antiochus IV Epiphanes (2 Maccabees 9)\t1\n",
      "woman given by one man to another man, yielding one's beloved\t1\n",
      "candlesticks and candles, e.g. Easter-candlestick\t1\n",
      "foliated head ~ ornament\t1\n",
      "visiting the sick, 'aeger curatur' ~ one of the (seven) Acts of Mercy - VV - Christ present\t1\n",
      "Moses beholding one of his countrymen being beaten by an Egyptian taskmaster\t1\n",
      "the gourd (or vine) is eaten by a worm and Jonah is exposed to the burning rays of the sun\t1\n",
      "destruction of monuments, portraits, etc. (~ revolution)\t1\n",
      "both legs bent, side by side, knees on the ground; kneeling\t1\n",
      "piling up ~ harvest\t1\n",
      "underground structures in city\t1\n",
      "tent - AA - civic architecture: inside\t1\n",
      "Anna prophesying ~ presentation of the Christ-child\t1\n",
      "Cyrus, king of Persia, puts and end to the Babylonian Captivity (Ezra 1)\t1\n",
      "symbol, emblem, sign ~ medicine\t1\n",
      "Mary as Queen of the apostles\t1\n",
      "Isaac sitting in bed blesses Jacob who, disguised in Esau's clothes, brings food to his father; Jacob's hands and neck are covered with goatskins\t1\n",
      "still life symbolizing spring (the four seasons of the year)\t1\n",
      "the second coming of Christ\t1\n",
      "adoration of the Christ-child by the shepherds, without Joseph and Mary\t1\n",
      "Hagar flees into the desert\t1\n",
      "other appearances of Christ before the Ascencion\t1\n",
      "triumphal arrival in paradise of Christ and of those he rescued; they are received by Mary, by Enoch and Elijah, or by the Good Malefactor\t1\n",
      "postures and gestures of thumb and other fingers\t1\n",
      "royal mantle (symbol of sovereignty)\t1\n",
      "places and objects of worship ~ Islam, Mohammedanism\t1\n",
      "'mikveh', ritual bath\t1\n",
      "the calling of Abraham\t1\n",
      "kindling a fire\t1\n",
      "Christ on the cross; only scenes preceding the crucifixion added\t1\n",
      "miracles of Christ: raising of the dead\t1\n",
      "Naaman urges Elisha to accept some gifts, but Elisha refuses them; Naaman asks two mule-loads of earth\t1\n",
      "Rebekah receives ear-rings and golden bracelets from Eliezer\t1\n",
      "Peace and Justice kissing (cf. Ps. 85:10)\t1\n",
      "taking photographs\t1\n",
      "coronation of David\t1\n",
      "Peter confesses Jesus to be the Christ\t1\n",
      "Saul commanding the death of David\t1\n",
      "choosing the building-site\t1\n",
      "other occupations of the Holy Family\t1\n",
      "Prometheus is freed by Hercules on his way to the garden of the Hesperides: he shoots the eagle with an arrow\t1\n",
      "Christ-child as apprentice\t1\n",
      "wedding anniversary celebration - DD - out of doors\t1\n",
      "sailing home Aeneas encounters the nymphs, into which the burning ships were changed; they inform him about the besieged Trojan camp\t1\n",
      "suffering, misfortune of Silenus\t1\n",
      "Ahab's idolatry: he worships foreign gods and builds a temple for Baal in Samaria\t1\n",
      "false witnesses ~ trial of Christ\t1\n",
      "Christ, lying on or dragged across a flight of steps, is maltreated in Pilate's presence (breaking of the reed)\t1\n",
      "Phoebe\t1\n",
      "three daughters of Anna, all named Mary\t1\n",
      "desertion\t1\n",
      "sealing wax\t1\n",
      "symbolic representations of the Resurrection\t1\n",
      "Vulcan forges Cupid's wings and arrows\t1\n",
      "Impossibility\t1\n",
      "tormenting reptiles\t1\n",
      "Lichas brings the robe to Hercules\t1\n",
      "types of nymphs\t1\n",
      "(story of) Triton - attributes\t1\n",
      "cupids fighting fabulous animals\t1\n",
      "hunt ~ rodents\t1\n",
      "Christ gains victory over diabolic powers\t1\n",
      "agreeable smell\t1\n",
      "head turned to the right - AA - female human figure\t1\n",
      "chief priests ~ hierarchy of priests\t1\n",
      "specific types of Madonna's sitting or enthroned (without others)\t1\n",
      "the soul carried to heaven by angels\t1\n",
      "on the trail ~ cattle\t1\n",
      "Harmonia\t1\n",
      "lesser divinities of Heaven ~ serving and attendant environment\t1\n",
      "heroines, female characters from the legendary origins of Rome\t1\n",
      "'Regina Coeli', 'Regina Angelorum', 'Maestà', John the Baptist present\t1\n",
      "Notus (Auster), the south wind; 'Austro' (Ripa)\t1\n",
      "Aeneas plucks the 'Golden Bough' by the aid of two doves\t1\n",
      "Joseph on his deathbed; Christ and Mary present\t1\n",
      "Joseph incurs the hatred of his brothers (Genesis 37:1-11)\t1\n",
      "Morris dance, 'Mauriskentanz'\t1\n",
      "Jonah in Nineveh (Jonah 3:3-10)\t1\n",
      "'Fortitudo', Fortitude ~ one of the seven gifts of the Holy Ghost\t1\n",
      "old Tobit leaves the banquet and carries the dead man into a house\t1\n",
      "Joab's messenger reports Uriah's death to David\t1\n",
      "loss (~ commerce)\t1\n",
      "the punishment of Adam and Eve\t1\n",
      "metamorphoses of (fabulous) animals\t1\n",
      "Pythia, priestess of the Delphic oracle\t1\n",
      "a lit candle (or lamp) under a bushel (in a secret place, under a bed, or covered with a vessel) ~ proverbial saying of Christ (Matthew 5:15; Mark 4:21; Luke 8:16)\t1\n",
      "the sin of Nadab and Abihu (Leviticus 10:1-7)\t1\n",
      "two messengers ask Peter to come to Joppa\t1\n",
      "razor\t1\n",
      "Rebirth, Renaissance, Regeneration\t1\n",
      "Christ mounting the cross (with the help of a ladder) - DD - three crosses\t1\n",
      "fungi\t1\n",
      "the son of the widow of Zarephath falls mortally ill\t1\n",
      "Elijah takes the child of the widow of Zarephath and carries him upstairs\t1\n",
      "Abstract, Non-representational Art\t1\n",
      "funerary ritual, ancestor cult ~ Egyptian religion\t1\n",
      "'caput manui innixum', head held in the hand(s)\t1\n",
      "Priam is killed by Neoptolemus\t1\n",
      "David receives gifts from Ahimelech\t1\n",
      "'berakhot', blessings, benedictions ~ Jewish religion\t1\n",
      "weighing on witch-scales\t1\n",
      "single named Giants\t1\n",
      "Emotion\t1\n",
      "Christ lying in the sarcophagus\t1\n",
      "Eve takes the fruit\t1\n",
      "Adam and/or Eve overcome with repentance\t1\n",
      "Rhea\t1\n",
      "the craftsmen in the quarries ~ temple of Solomon\t1\n",
      "single combat between Eteocles and Polynices; they both die\t1\n",
      "figure in circle or square, legs apart and arms raised or stretched sidewards\t1\n",
      "Saul with the witch of Endor\t1\n",
      "keelhauling\t1\n",
      "the piety of Obadiah, governor of Ahab's house: when Queen Jezebel kills the Lord's priests, Obadiah hides a hundred of them in a cave and provides them with food\t1\n",
      "Mary kneeling (on the ground), the Christ-child sitting in front of her\t1\n",
      "the (seven) Acts of Mercy - VV - Christ present\t1\n",
      "Death (as one of the Four Last Things)\t1\n",
      "Hell (as one of the Four Last Things)\t1\n",
      "Saul taking hold of Samuel's garment; the garment tears as a sign of Saul's losing the kingship over Israel\t1\n",
      "Father and Holy Ghost holding the crucified Christ (~ Trinity)\t1\n",
      "Heaven (as one of the Four Last Things)\t1\n",
      "Job falls upon the ground and expresses his resignation to God's will\t1\n",
      "Saul and the servant seek the lost asses\t1\n",
      "David spares Nabal's sheep\t1\n",
      "an angel advises Elijah to go to the king with the officer\t1\n",
      "misfortune brings Manasseh back to the true God\t1\n",
      "flood - HH - ideal landscapes\t1\n",
      "Mary standing (or half-length), the Christ-child lying on her arm (Christ-child to Mary's left) - FF - the Christ-child to Mary's right\t1\n",
      "carrying games\t1\n",
      "stage (~ mail-coach)\t1\n",
      "consequences of peace\t1\n",
      "communion ware (non-Roman Catholic)\t1\n",
      "debit, debt\t1\n",
      "postal matter\t1\n",
      "toy house, doll's house\t1\n",
      "offertory-box, offertory-bag\t1\n",
      "Sensation, Sensibility, Sensitivity\t1\n",
      "martyrdom and death of Bartholomew\t1\n",
      "Theseus' fight with Pallas and his fifty sons\t1\n",
      "Inconsideration\t1\n",
      "Elijah and the widow of Zarephath (1 Kings 17:7-24)\t1\n",
      "Esther approaching the throne\t1\n",
      "the murder on Holofernes is discovered (by Bagoas)\t1\n",
      "crucified Christ with Mary, John, Stephaton and Longinus - DD - the three crosses\t1\n",
      "winter half-year ~ landscapes (year divided into two seasons)\t1\n",
      "founding of a university\t1\n",
      "fortified house in city - AA - civic architecture: inside\t1\n",
      "casting (industrial process)\t1\n",
      "Telemachus and Pisistratus, son of Nestor, in Sparta with Menelaus and Helen\t1\n",
      "partner deceived - DD - deceived wife\t1\n",
      "Secrecy, Latency, Concealment; 'Secretezza' (Ripa)\t1\n",
      "handicrafts ~ food\t1\n",
      "dogs (racing)\t1\n",
      "Tamar dishonoured; story of Tamar and Amnon (2 Samuel 13)\t1\n",
      "adults behaving like children\t1\n",
      "Numbers: the wandering in the wilderness, the Israelites leave Mount Sinai and reach Canaan\t1\n",
      "(prisoners) in the prison yard\t1\n",
      "Rebekah returns home\t1\n",
      "rodeo\t1\n",
      "cinematographic apparatus\t1\n",
      "offspring, companion(s), train etc. of Apollo\t1\n",
      "doctrine of Christ ~ love, righteousness and the good way of life\t1\n",
      "when Moses is old enough, his mother brings him to Pharaoh's daughter, who adopts him\t1\n",
      "Moses' trial by fire: when given the choice between two plates, one containing burning coals, the other a ruby ring (or cherries), Moses chooses the burning coals and puts them in his mouth\t1\n",
      "Paul and Silas teach the word of God to the warder, who kneels before them\t1\n",
      "King Ptolemy IV Philopator struck by paralysis for coming too close to the sanctuary in the temple of Jerusalem (3 Maccabees 1-2)\t1\n",
      "violent death by dagger, knife - EE - death not certain; wounded person\t1\n",
      "in the pillory, in the stocks\t1\n",
      "(story of) Vesta (Hestia) - attributes\t1\n",
      "Saturday service in the synagogue ~ Jewish Sabbath\t1\n",
      "Christian Religion vs. Mohammedanism\t1\n",
      "divorce ~ Jewish customs\t1\n",
      "stylistic and formal differentiation of art\t1\n",
      "guarding of treasure\t1\n",
      "Tantalus, suffering eternal hunger and thirst\t1\n",
      "heart symbolism - AA - female human figure\t1\n",
      "growing up - AA - girl\t1\n",
      "additional service in the Synagogue\t1\n",
      "'Amor della patria' (Ripa)\t1\n",
      "singer without accompaniment - CC - out of doors\t1\n",
      "meteorology\t1\n",
      "Aeneas has his fleet put into readiness; complaints of Dido\t1\n",
      "Dido and Aeneas shelter from the storm in a cave\t1\n",
      "Haman's plot against the Jews (Esther 3)\t1\n",
      "Jonah in the fish's belly (Jonah 2:1 - 3:2)\t1\n",
      "dormitory ~ monastery\t1\n",
      "orderlike associations and congregations of laics\t1\n",
      "postures and gestures of arms and hands in general\t1\n",
      "musician in non-work situation - CC - out of doors\t1\n",
      "cross with symbol of Christ on it, e.g. lamb\t1\n",
      "story of Phaethon and the chariot of the sun\t1\n",
      "miracle of the manna and the quails (Exodus 16)\t1\n",
      "the people of Samaria rush out and loot the Syrian camp\t1\n",
      "Exodus (part I): events preceding and preparing the exit of Israel from Egypt\t1\n",
      "Neptune rescues Amymone from the satyr\t1\n",
      "'et in Jesum Christum filium eius' ~ articles of faith\t1\n",
      "the flight of Cain\t1\n",
      "child torn away from its mother\t1\n",
      "'the axe is laid to the root of the trees' ~ John the Baptist preaching\t1\n",
      "parables and proverbial sayings of Christ ~ agriculture\t1\n",
      "adult Christ ~ abstract conceptions\t1\n",
      "'I thirst' ~ saying of Christ on the cross\t1\n",
      "eating of blessed food\t1\n",
      "handicrafts ~ clay, sand, chalk\t1\n",
      "the descendants of Seth (Genesis 4:26, 5:9-32)\t1\n",
      "(story of) Chiron\t1\n",
      "the wood, serving as a bridge, is worshipped by the queen of Sheba ~ the legend of the True Cross\t1\n",
      "Christ crucified on a 'living' cross - DD - Christ beardless\t1\n",
      "Dido leads Aeneas and his companions to her palace\t1\n",
      "Hyacinthus' blood changed into a hyacinth: when Hyacinthus is accidentally killed by Apollo with a discus, the god changes his blood into a hyacinth\t1\n",
      "Patroclus' last deeds and his death (Iliad XVI-XVIII)\t1\n",
      "Patroclus receives Achilles' arms and takes to the field\t1\n",
      "Communication of Thought (answer and question) (opposing concepts)\t1\n",
      "'Conversatione' (Ripa)\t1\n",
      "other athletic contests\t1\n",
      "Delay\t1\n",
      "gas extracted from coal\t1\n",
      "Absent-mindedness\t1\n",
      "special processes for cotton fabric\t1\n",
      "Joseph is lowered into a pit by means of ropes or a pulley\t1\n",
      "Cain and his family\t1\n",
      "mankind influenced by the planets, including sun and moon; 'Planetenkinder'\t1\n",
      "varia (throwing games)\t1\n",
      "(story of) Mercury (Hermes) - apotheosis, deification\t1\n",
      "beach - HH - ideal landscapes\t1\n",
      "proclamation of a ruler - BB - female ruler\t1\n",
      "ceremonial celebration of installation of a ruler - BB - female ruler\t1\n",
      "the four symbols of the evangelists inspiring (or assisting) them\t1\n",
      "pater noster ~ (public) prayer\t1\n",
      "Indignation; 'Sdegno' (Ripa)\t1\n",
      "medical aid and nursing of the sick and wounded during the battle\t1\n",
      "pope - PP - antipope\t1\n",
      "concert hall - AA - open-air performances\t1\n",
      "Bluebeard\t1\n",
      "symbolic representations of the twelve apostles, e.g.: twelve doves, twelve lambs\t1\n",
      "(story of) Minerva (Pallas, Athena) - offspring, companion(s), train etc.\t1\n",
      "night ~ other concepts\t1\n",
      "collection of animals\t1\n",
      "raising a ship over a bar\t1\n",
      "Elijah at the brook Cherith (1 Kings 17:1-6)\t1\n",
      "some other movements\t1\n",
      "first dream of Pharaoh: seven fat cows are devoured by seven lean cows ~ story of Joseph\t1\n",
      "Elijah and Elisha stop by the bank of the Jordan; Elijah rolls up his cloak and strikes the water with it: the water divides\t1\n",
      "Jacob meditating upon Joseph's dreams\t1\n",
      "Gideon and ten servants destroy the altar of Baal, cut down the grove near it, build an altar to God on the rock, take a bullock and offer a burnt sacrifice\t1\n",
      "mosquito netting, screens\t1\n",
      "Theseus, with the ball of thread, finds his way into the Labyrinth\t1\n",
      "shooting at father's corpse: two rival heirs are forced by a judge to shoot an arrow at a corpse; the false heir does not hesitate to do so, the true one, knowing that he will be shooting at his father, refuses\t1\n",
      "(later life of) Caspar, the youthful 'European' king\t1\n",
      "David appointed life-guard of Achish\t1\n",
      "Greece (one of the four world empires\t1\n",
      "the pillar of cloud and the pillar of fire ~ Exodus\t1\n",
      "beauty, 'Pulchritudo' ~ one of the seven gifts of the body\t1\n",
      "mourners at the closed tomb of Christ\t1\n",
      "Joseph of Arimathaea asks Pilate for the body of Christ\t1\n",
      "the Jews ask Pilate to have the sepulchre guarded\t1\n",
      "Hercules falls asleep after having slain Antaeus, and is attacked by a swarm of pygmies (Philostratus, Imagines II 22)\t1\n",
      "Reasoning\t1\n",
      "non-Roman Catholic Episcopal Churches, e.g. Anglicans\t1\n",
      "'Verginità' (Ripa)\t1\n",
      "representations of hell (with the damned and devils), usually with burning fires - TT - with the devil (Lucifer) as ruler\t1\n",
      "priest ~ Greek religion - EE - priestess\t1\n",
      "warning sinners ~ one of the (seven) spiritual Acts of Mercy\t1\n",
      "typological juxtapositions\t1\n",
      "siesta\t1\n",
      "story of Ananias and Sapphira\t1\n",
      "the book of Zephaniah\t1\n",
      "Moses, petitioned by the Israelites, entreats God to take the snakes away\t1\n",
      "battle of the Maccabees against Apollonius, governor of Coelesyria (1 Maccabees 10:74-85)\t1\n",
      "story of Samuel\t1\n",
      "other prophecies of Micah\t1\n",
      "Joshua communicating with God (in general)\t1\n",
      "Eunomia, personification of law and order\t1\n",
      "mountain meadow, alp\t1\n",
      "origin of man\t1\n",
      "(later life of) Balthasar, the 'African' (negro) king\t1\n",
      "collecting the rejected parts\t1\n",
      "(later life of) Melchior, the bearded 'Asian' king\t1\n",
      "Omri, Elah's army commander, attacks Zimri in the city of Tirzah; when Zimri sees that the city has fallen he sets the palace on fire and dies in the flames\t1\n",
      "personification of university; 'Academia' (Ripa)\t1\n",
      "any man bathing in the pool Salmacis becomes a hermaphrodite\t1\n",
      "the quarrel about Briseis (Iliad I)\t1\n",
      "during Jupiter's absence Neptune turns the battle in favour of the Greeks\t1\n",
      "Bathsheba is told of Uriah's death; Bathsheba mourning\t1\n",
      "camp followers\t1\n",
      "the holy women anoint Christ's body\t1\n",
      "burial of Samson\t1\n",
      "the Levite and his concubine in a street in Gibeah are offered lodging by an old man\t1\n",
      "arming of Hector; Andromache, Priam and others implore him not to fight\t1\n",
      "specific aspects of Christ-child ~ Madonna-representations (N.B. secondary notation only)\t1\n",
      "Paris in Greece\t1\n",
      "story of Rahab and the spies\t1\n",
      "gifts of clothing, gold and jewellery are offered to Rebekah's parents\t1\n",
      "board, esp. governors, trustees, etc. (Dutch: 'regenten') - AA - women (Dutch: 'regentessen')\t1\n",
      "Penelope weaving Laertes' shroud (Homer, Odyssey II 94-100; XIX 138-155)\t1\n",
      "House of Sleep: a gloomy cave through which runs the river Lethe; possibly with two gates, one of ivory through which deceptive dreams issue, and one of horn through which true dreams issue\t1\n",
      "organizational aspects ~ movements related with or derived from Protestant churches, e.g.: Christian Science, Mormons\t1\n",
      "sleeping soldiers at the tomb of Christ\t1\n",
      "symbolic representations, allegories and emblems ~ the monumental arts\t1\n",
      "the Argo passing the Symplegades with the help of the doves\t1\n",
      "Paul is brought to Caesarea by soldiers with a letter to Felix, the governor\t1\n"
     ]
    }
   ],
   "source": [
    "\n",
    "query = \"\"\"\n",
    "PREFIX dc: <http://purl.org/dc/elements/1.1/>\n",
    "PREFIX edm: <http://www.europeana.eu/schemas/edm/>\n",
    "PREFIX ore: <http://www.openarchives.org/ore/terms/>\n",
    "PREFIX html: <http://www.w3.org/1999/xhtml/vocab#>\n",
    "PREFIX skos: <http://www.w3.org/2004/02/skos/core#>\n",
    "\n",
    "SELECT ?label, COUNT( DISTINCT ?object )\n",
    "WHERE {\n",
    "\n",
    "?object ore:proxyIn ?local_aggr .\n",
    "?object ore:proxyFor ?cho .\n",
    "?eur_aggr edm:aggregatedCHO ?cho .\n",
    "?eur_aggr a edm:EuropeanaAggregation .\n",
    "\n",
    "\n",
    "?local_aggr edm:dataProvider 'Rijksmuseum' .\n",
    "?object dc:subject ?subject .\n",
    "?subject skos:prefLabel ?label .\n",
    "FILTER(regex(?subject, 'iconclass' ))\n",
    "FILTER(lang(?label) = 'en')\n",
    "}\n",
    "GROUP BY ?label \n",
    "\n",
    "\"\"\"\n",
    "\n",
    "\n",
    "subjects_df = run_query(query)\n",
    "\n",
    "subjects_df['callret-1.value'] = subjects_df['callret-1.value'].astype(int)\n",
    "subjects_df  = subjects_df.sort_values(by=['callret-1.value'] , ascending = False )\n",
    "\n",
    "for i,row in subjects_df.iterrows():\n",
    "    print( f\"{row['label.value']}\\t{row['callret-1.value']}\" )"
   ]
  },
  {
   "cell_type": "markdown",
   "id": "dbe982e2",
   "metadata": {},
   "source": [
    "In this overview, we can see that the collection contains many panoramas or silhouettes of cities. These objects have been described with iconclass URI `http://iconclass.org/25I12`.\n",
    "\n",
    "The query below firstly selects all of these works. For each of these works, it also gathers the date of creation. "
   ]
  },
  {
   "cell_type": "code",
   "execution_count": 14,
   "id": "f10bb1d8",
   "metadata": {},
   "outputs": [
    {
     "name": "stdout",
     "output_type": "stream",
     "text": [
      "1027\n"
     ]
    }
   ],
   "source": [
    "\n",
    "query = \"\"\"\n",
    "PREFIX dc: <http://purl.org/dc/elements/1.1/>\n",
    "PREFIX edm: <http://www.europeana.eu/schemas/edm/>\n",
    "PREFIX ore: <http://www.openarchives.org/ore/terms/>\n",
    "PREFIX html: <http://www.w3.org/1999/xhtml/vocab#>\n",
    "PREFIX skos: <http://www.w3.org/2004/02/skos/core#>\n",
    "\n",
    "SELECT *\n",
    "WHERE {\n",
    "\n",
    "?object ore:proxyIn ?local_aggr .\n",
    "?object ore:proxyFor ?cho .\n",
    "?eur_aggr edm:aggregatedCHO ?cho .\n",
    "?eur_aggr a edm:EuropeanaAggregation .\n",
    "\n",
    "?local_aggr edm:dataProvider 'Rijksmuseum' .\n",
    "\n",
    "?object dc:subject <http://iconclass.org/25I12> .\n",
    "?object dcterms:created ?created . \n",
    "\n",
    "\n",
    "}\n",
    "\n",
    "\"\"\"\n",
    "\n",
    "\n",
    "df = run_query(query)\n",
    "df = df.drop_duplicates(subset=['object.value'])\n",
    "print( df.shape[0] )"
   ]
  },
  {
   "cell_type": "markdown",
   "id": "150b300e",
   "metadata": {},
   "source": [
    "You can see a number of examples of such city panoramas if you run the cell below. "
   ]
  },
  {
   "cell_type": "code",
   "execution_count": 15,
   "id": "b12fc34e",
   "metadata": {},
   "outputs": [
    {
     "name": "stdout",
     "output_type": "stream",
     "text": [
      "http://hdl.handle.net/10934/RM0001.COLLECT.338160\n"
     ]
    },
    {
     "data": {
      "text/html": [
       "<a target=\"_new\" href=\"http://lh5.ggpht.com/F1KevftPi2_6MdOyvxlsVQApDUyaYO3Nu7Glx4iyVyNjQ8z9KXz5L5_B3FripPT0VlPoer6um03Gg72M9C-weUHrAk8=s0\"><img src=\"http://lh5.ggpht.com/F1KevftPi2_6MdOyvxlsVQApDUyaYO3Nu7Glx4iyVyNjQ8z9KXz5L5_B3FripPT0VlPoer6um03Gg72M9C-weUHrAk8=s0\" style=\"width: 200px;\"/></a><br/><br/>"
      ],
      "text/plain": [
       "<IPython.core.display.HTML object>"
      ]
     },
     "metadata": {},
     "output_type": "display_data"
    },
    {
     "name": "stdout",
     "output_type": "stream",
     "text": [
      "http://hdl.handle.net/10934/RM0001.COLLECT.338161\n"
     ]
    },
    {
     "data": {
      "text/html": [
       "<a target=\"_new\" href=\"http://lh5.ggpht.com/7WqqWYcI_lVCOknjhsbebCJPvcNlwwub-ekXYM4LncrfJmiGIqWyNhYxU3NFSy4z0SS4YmXY67l5RTCXQPLdHj03BA=s0\"><img src=\"http://lh5.ggpht.com/7WqqWYcI_lVCOknjhsbebCJPvcNlwwub-ekXYM4LncrfJmiGIqWyNhYxU3NFSy4z0SS4YmXY67l5RTCXQPLdHj03BA=s0\" style=\"width: 200px;\"/></a><br/><br/>"
      ],
      "text/plain": [
       "<IPython.core.display.HTML object>"
      ]
     },
     "metadata": {},
     "output_type": "display_data"
    },
    {
     "name": "stdout",
     "output_type": "stream",
     "text": [
      "http://hdl.handle.net/10934/RM0001.COLLECT.338163\n"
     ]
    },
    {
     "data": {
      "text/html": [
       "<a target=\"_new\" href=\"http://lh4.ggpht.com/2l2CcjGZ4_DJA1Ykf3VZstVqSLsbPXyNULMuPlWXtUSsI1N58ezoV-Yn5VOeQvEXnrPblxCjH5acBoD0bCv1Ii8HnBK_=s0\"><img src=\"http://lh4.ggpht.com/2l2CcjGZ4_DJA1Ykf3VZstVqSLsbPXyNULMuPlWXtUSsI1N58ezoV-Yn5VOeQvEXnrPblxCjH5acBoD0bCv1Ii8HnBK_=s0\" style=\"width: 200px;\"/></a><br/><br/>"
      ],
      "text/plain": [
       "<IPython.core.display.HTML object>"
      ]
     },
     "metadata": {},
     "output_type": "display_data"
    },
    {
     "name": "stdout",
     "output_type": "stream",
     "text": [
      "http://hdl.handle.net/10934/RM0001.COLLECT.38763\n"
     ]
    },
    {
     "data": {
      "text/html": [
       "<a target=\"_new\" href=\"http://lh4.ggpht.com/tLysqKuSSSZXYDRkuVs-d9kHeiZHbchvknMyMyMWSRk5_FtKe774Tij8PeSsACTVAgaNDBDhfCs3uyoBqtZUsQS5aA=s0\"><img src=\"http://lh4.ggpht.com/tLysqKuSSSZXYDRkuVs-d9kHeiZHbchvknMyMyMWSRk5_FtKe774Tij8PeSsACTVAgaNDBDhfCs3uyoBqtZUsQS5aA=s0\" style=\"width: 200px;\"/></a><br/><br/>"
      ],
      "text/plain": [
       "<IPython.core.display.HTML object>"
      ]
     },
     "metadata": {},
     "output_type": "display_data"
    },
    {
     "name": "stdout",
     "output_type": "stream",
     "text": [
      "http://hdl.handle.net/10934/RM0001.collect.163352\n"
     ]
    },
    {
     "data": {
      "text/html": [
       "<a target=\"_new\" href=\"http://lh3.ggpht.com/AHrbdgnTwpNyv7sM6q4EYo621sRQRvoF8e1AmthIxEQHcYSg4G2nLpHD09rlnvGUYZLZZJgwSDrAXkeHtQDFOFpNlQM=s0\"><img src=\"http://lh3.ggpht.com/AHrbdgnTwpNyv7sM6q4EYo621sRQRvoF8e1AmthIxEQHcYSg4G2nLpHD09rlnvGUYZLZZJgwSDrAXkeHtQDFOFpNlQM=s0\" style=\"width: 200px;\"/></a><br/><br/>"
      ],
      "text/plain": [
       "<IPython.core.display.HTML object>"
      ]
     },
     "metadata": {},
     "output_type": "display_data"
    },
    {
     "name": "stdout",
     "output_type": "stream",
     "text": [
      "http://hdl.handle.net/10934/RM0001.COLLECT.38761\n"
     ]
    },
    {
     "data": {
      "text/html": [
       "<a target=\"_new\" href=\"http://lh3.ggpht.com/fLxQU6BIzM0rIxIwNdOle67iDK8JfaR7W7VZjLI0J3IBD33zlTwnY5e0PNmK9u810iR3d4DjcbMcNk32EHc-a7NKlyE=s0\"><img src=\"http://lh3.ggpht.com/fLxQU6BIzM0rIxIwNdOle67iDK8JfaR7W7VZjLI0J3IBD33zlTwnY5e0PNmK9u810iR3d4DjcbMcNk32EHc-a7NKlyE=s0\" style=\"width: 200px;\"/></a><br/><br/>"
      ],
      "text/plain": [
       "<IPython.core.display.HTML object>"
      ]
     },
     "metadata": {},
     "output_type": "display_data"
    },
    {
     "name": "stdout",
     "output_type": "stream",
     "text": [
      "http://hdl.handle.net/10934/RM0001.COLLECT.334183\n"
     ]
    },
    {
     "data": {
      "text/html": [
       "<a target=\"_new\" href=\"http://lh4.ggpht.com/g5we13BOBcy62LUKroSfcviL3PfKtEa_AQDw0VERVZZP6N-_cLGiHHgmYTLUmvN_JUe5xKNJa6JwXnUSXsmKUhqd8FM=s0\"><img src=\"http://lh4.ggpht.com/g5we13BOBcy62LUKroSfcviL3PfKtEa_AQDw0VERVZZP6N-_cLGiHHgmYTLUmvN_JUe5xKNJa6JwXnUSXsmKUhqd8FM=s0\" style=\"width: 200px;\"/></a><br/><br/>"
      ],
      "text/plain": [
       "<IPython.core.display.HTML object>"
      ]
     },
     "metadata": {},
     "output_type": "display_data"
    },
    {
     "name": "stdout",
     "output_type": "stream",
     "text": [
      "http://hdl.handle.net/10934/RM0001.COLLECT.125139\n"
     ]
    },
    {
     "data": {
      "text/html": [
       "<a target=\"_new\" href=\"http://lh3.ggpht.com/Csoy7fbPEmdas0bePjjXVqgWplyw3asvOFucLaPTCklPlXZtfyPngLaL7M85c5TjW0M_FUUWuPK_yA6DVsNeuRZL5I8=s0\"><img src=\"http://lh3.ggpht.com/Csoy7fbPEmdas0bePjjXVqgWplyw3asvOFucLaPTCklPlXZtfyPngLaL7M85c5TjW0M_FUUWuPK_yA6DVsNeuRZL5I8=s0\" style=\"width: 200px;\"/></a><br/><br/>"
      ],
      "text/plain": [
       "<IPython.core.display.HTML object>"
      ]
     },
     "metadata": {},
     "output_type": "display_data"
    },
    {
     "name": "stdout",
     "output_type": "stream",
     "text": [
      "http://hdl.handle.net/10934/RM0001.COLLECT.41084\n"
     ]
    },
    {
     "data": {
      "text/html": [
       "<a target=\"_new\" href=\"http://lh6.ggpht.com/b4fak-YgEbhSoXvJGkWDBiKJArW4qfn15wSuKK0CdhZ-q969Ljt9-ASdBLhjn_VA3pCvRBdV6CfWN8wHhA69HA_IgT8Y=s0\"><img src=\"http://lh6.ggpht.com/b4fak-YgEbhSoXvJGkWDBiKJArW4qfn15wSuKK0CdhZ-q969Ljt9-ASdBLhjn_VA3pCvRBdV6CfWN8wHhA69HA_IgT8Y=s0\" style=\"width: 200px;\"/></a><br/><br/>"
      ],
      "text/plain": [
       "<IPython.core.display.HTML object>"
      ]
     },
     "metadata": {},
     "output_type": "display_data"
    },
    {
     "name": "stdout",
     "output_type": "stream",
     "text": [
      "http://hdl.handle.net/10934/RM0001.COLLECT.190175\n"
     ]
    },
    {
     "data": {
      "text/html": [
       "<a target=\"_new\" href=\"http://lh3.ggpht.com/4Xo-2bslR-zGG5e2QTMWedoumk6-3MapO8bk0fntZJm0T83M_qFYJnMUIQM6g7oPcS-Z8Cdixvue4D9EgT7ACeGuwSE=s0\"><img src=\"http://lh3.ggpht.com/4Xo-2bslR-zGG5e2QTMWedoumk6-3MapO8bk0fntZJm0T83M_qFYJnMUIQM6g7oPcS-Z8Cdixvue4D9EgT7ACeGuwSE=s0\" style=\"width: 200px;\"/></a><br/><br/>"
      ],
      "text/plain": [
       "<IPython.core.display.HTML object>"
      ]
     },
     "metadata": {},
     "output_type": "display_data"
    },
    {
     "name": "stdout",
     "output_type": "stream",
     "text": [
      "http://hdl.handle.net/10934/RM0001.COLLECT.190176\n"
     ]
    },
    {
     "data": {
      "text/html": [
       "<a target=\"_new\" href=\"http://lh4.ggpht.com/Lpy2jVkz6eE2ixEtdh5SQcmPbyNDmOSnN87ZHBb1dmYLSKz8GpfWy7wKGPTxK2oVv4Q8OQZLae2Q48Nq5lnlmoP2cp0=s0\"><img src=\"http://lh4.ggpht.com/Lpy2jVkz6eE2ixEtdh5SQcmPbyNDmOSnN87ZHBb1dmYLSKz8GpfWy7wKGPTxK2oVv4Q8OQZLae2Q48Nq5lnlmoP2cp0=s0\" style=\"width: 200px;\"/></a><br/><br/>"
      ],
      "text/plain": [
       "<IPython.core.display.HTML object>"
      ]
     },
     "metadata": {},
     "output_type": "display_data"
    },
    {
     "name": "stdout",
     "output_type": "stream",
     "text": [
      "http://hdl.handle.net/10934/RM0001.COLLECT.190197\n"
     ]
    },
    {
     "data": {
      "text/html": [
       "<a target=\"_new\" href=\"http://lh3.ggpht.com/tnBbvzNKlZJr9QUYUprhCUJfh5Y88t7VX--pefgUlP5hce47nBHws-WOucmdXRvQS1atclpe5c75PLuBSzP0lIqvwA=s0\"><img src=\"http://lh3.ggpht.com/tnBbvzNKlZJr9QUYUprhCUJfh5Y88t7VX--pefgUlP5hce47nBHws-WOucmdXRvQS1atclpe5c75PLuBSzP0lIqvwA=s0\" style=\"width: 200px;\"/></a><br/><br/>"
      ],
      "text/plain": [
       "<IPython.core.display.HTML object>"
      ]
     },
     "metadata": {},
     "output_type": "display_data"
    },
    {
     "name": "stdout",
     "output_type": "stream",
     "text": [
      "http://hdl.handle.net/10934/RM0001.COLLECT.441083\n"
     ]
    },
    {
     "data": {
      "text/html": [
       "<a target=\"_new\" href=\"http://lh6.ggpht.com/r1JScpxz18mxD32WjgSXPgELzYK4Lm0Z0DAkGniZOdhcaspYvzvKUdlQnsGDwM-4XPmIxJkyaOqN9r42BwRWnec6RIc7=s0\"><img src=\"http://lh6.ggpht.com/r1JScpxz18mxD32WjgSXPgELzYK4Lm0Z0DAkGniZOdhcaspYvzvKUdlQnsGDwM-4XPmIxJkyaOqN9r42BwRWnec6RIc7=s0\" style=\"width: 200px;\"/></a><br/><br/>"
      ],
      "text/plain": [
       "<IPython.core.display.HTML object>"
      ]
     },
     "metadata": {},
     "output_type": "display_data"
    },
    {
     "name": "stdout",
     "output_type": "stream",
     "text": [
      "http://hdl.handle.net/10934/RM0001.COLLECT.306627\n"
     ]
    },
    {
     "data": {
      "text/html": [
       "<a target=\"_new\" href=\"http://lh4.ggpht.com/rClwps9m_-rmFk4UsPdPGYmdnhzpqa-ajaohrIMcFqab6OGFa8nAqVbDurYqeeVY6Mr9fM-Or38IFd9o8ZEh22gjdK4=s0\"><img src=\"http://lh4.ggpht.com/rClwps9m_-rmFk4UsPdPGYmdnhzpqa-ajaohrIMcFqab6OGFa8nAqVbDurYqeeVY6Mr9fM-Or38IFd9o8ZEh22gjdK4=s0\" style=\"width: 200px;\"/></a><br/><br/>"
      ],
      "text/plain": [
       "<IPython.core.display.HTML object>"
      ]
     },
     "metadata": {},
     "output_type": "display_data"
    },
    {
     "name": "stdout",
     "output_type": "stream",
     "text": [
      "http://hdl.handle.net/10934/RM0001.COLLECT.64850\n"
     ]
    },
    {
     "data": {
      "text/html": [
       "<a target=\"_new\" href=\"http://lh4.ggpht.com/9N62hjBjRyCP2I2QqYyJgoJHEQB8UxAPcigHcO20Orir-lT1Z9C-U7xxpX0MmaEKmA5JCQblYEXGL4BquzggAYCedfX-=s0\"><img src=\"http://lh4.ggpht.com/9N62hjBjRyCP2I2QqYyJgoJHEQB8UxAPcigHcO20Orir-lT1Z9C-U7xxpX0MmaEKmA5JCQblYEXGL4BquzggAYCedfX-=s0\" style=\"width: 200px;\"/></a><br/><br/>"
      ],
      "text/plain": [
       "<IPython.core.display.HTML object>"
      ]
     },
     "metadata": {},
     "output_type": "display_data"
    },
    {
     "name": "stdout",
     "output_type": "stream",
     "text": [
      "http://hdl.handle.net/10934/RM0001.COLLECT.225838\n"
     ]
    },
    {
     "data": {
      "text/html": [
       "<a target=\"_new\" href=\"http://lh6.ggpht.com/i4Z5XVUMf5Zbl5pyfwm35ehcoDHEEATKcnh3_CPdfbRJLpK6mtcm2snh_qUzIK-hMPoWjU9UNlL6yIGAMz2IFpj2QJlJ=s0\"><img src=\"http://lh6.ggpht.com/i4Z5XVUMf5Zbl5pyfwm35ehcoDHEEATKcnh3_CPdfbRJLpK6mtcm2snh_qUzIK-hMPoWjU9UNlL6yIGAMz2IFpj2QJlJ=s0\" style=\"width: 200px;\"/></a><br/><br/>"
      ],
      "text/plain": [
       "<IPython.core.display.HTML object>"
      ]
     },
     "metadata": {},
     "output_type": "display_data"
    },
    {
     "name": "stdout",
     "output_type": "stream",
     "text": [
      "http://hdl.handle.net/10934/RM0001.COLLECT.145120\n"
     ]
    },
    {
     "data": {
      "text/html": [
       "<a target=\"_new\" href=\"http://lh6.ggpht.com/WoMatu_e8K-1_nyndSjJpqs1_ml4sFiXexltB-OvcJ5rrALUKbOs67mzRN4-EwV2PbwS24t8SjyEMKSAv0imMnjdObs=s0\"><img src=\"http://lh6.ggpht.com/WoMatu_e8K-1_nyndSjJpqs1_ml4sFiXexltB-OvcJ5rrALUKbOs67mzRN4-EwV2PbwS24t8SjyEMKSAv0imMnjdObs=s0\" style=\"width: 200px;\"/></a><br/><br/>"
      ],
      "text/plain": [
       "<IPython.core.display.HTML object>"
      ]
     },
     "metadata": {},
     "output_type": "display_data"
    },
    {
     "name": "stdout",
     "output_type": "stream",
     "text": [
      "http://hdl.handle.net/10934/RM0001.COLLECT.225676\n"
     ]
    },
    {
     "data": {
      "text/html": [
       "<a target=\"_new\" href=\"http://lh6.ggpht.com/3uLPVcatE7hhXubAi8YDUrbcdLW1jFzqF4HOpAwLWFlQgaVg55-DA_ketu8oN55YYrSIzIztlbCpEXvAViR47UXcLw=s0\"><img src=\"http://lh6.ggpht.com/3uLPVcatE7hhXubAi8YDUrbcdLW1jFzqF4HOpAwLWFlQgaVg55-DA_ketu8oN55YYrSIzIztlbCpEXvAViR47UXcLw=s0\" style=\"width: 200px;\"/></a><br/><br/>"
      ],
      "text/plain": [
       "<IPython.core.display.HTML object>"
      ]
     },
     "metadata": {},
     "output_type": "display_data"
    },
    {
     "name": "stdout",
     "output_type": "stream",
     "text": [
      "http://hdl.handle.net/10934/RM0001.COLLECT.145225\n"
     ]
    },
    {
     "data": {
      "text/html": [
       "<a target=\"_new\" href=\"http://lh3.ggpht.com/WjhpC0LFmRSL1WyDfMfGmZOGYRGP5hHe3eQxDAQQ8JloegUBlv2CEUSjuIEMtvpKClxcj1LAmxzSWJxoC3-Z15KEhU2f=s0\"><img src=\"http://lh3.ggpht.com/WjhpC0LFmRSL1WyDfMfGmZOGYRGP5hHe3eQxDAQQ8JloegUBlv2CEUSjuIEMtvpKClxcj1LAmxzSWJxoC3-Z15KEhU2f=s0\" style=\"width: 200px;\"/></a><br/><br/>"
      ],
      "text/plain": [
       "<IPython.core.display.HTML object>"
      ]
     },
     "metadata": {},
     "output_type": "display_data"
    },
    {
     "name": "stdout",
     "output_type": "stream",
     "text": [
      "http://hdl.handle.net/10934/RM0001.COLLECT.145224\n"
     ]
    },
    {
     "data": {
      "text/html": [
       "<a target=\"_new\" href=\"http://lh3.ggpht.com/gI_Qrk1YcCwjn2CXB0w-_Up73S1LuFStYDPaKxleduuukPLcZLABKq413q8CHZb9r1oXmzqbcKTZC6BR2Iqi35QDSg=s0\"><img src=\"http://lh3.ggpht.com/gI_Qrk1YcCwjn2CXB0w-_Up73S1LuFStYDPaKxleduuukPLcZLABKq413q8CHZb9r1oXmzqbcKTZC6BR2Iqi35QDSg=s0\" style=\"width: 200px;\"/></a><br/><br/>"
      ],
      "text/plain": [
       "<IPython.core.display.HTML object>"
      ]
     },
     "metadata": {},
     "output_type": "display_data"
    },
    {
     "name": "stdout",
     "output_type": "stream",
     "text": [
      "http://hdl.handle.net/10934/RM0001.COLLECT.225560\n"
     ]
    },
    {
     "data": {
      "text/html": [
       "<a target=\"_new\" href=\"http://lh4.ggpht.com/mYdW-o6jsMeuqVU7bBz053cXJy9ARyBniLPayifDczLOnXTpSK0MSTYc1Pb6tFGvl97Km_TC8JVNZCNMPxtHLxFpQm4=s0\"><img src=\"http://lh4.ggpht.com/mYdW-o6jsMeuqVU7bBz053cXJy9ARyBniLPayifDczLOnXTpSK0MSTYc1Pb6tFGvl97Km_TC8JVNZCNMPxtHLxFpQm4=s0\" style=\"width: 200px;\"/></a><br/><br/>"
      ],
      "text/plain": [
       "<IPython.core.display.HTML object>"
      ]
     },
     "metadata": {},
     "output_type": "display_data"
    },
    {
     "name": "stdout",
     "output_type": "stream",
     "text": [
      "http://hdl.handle.net/10934/RM0001.COLLECT.242195\n"
     ]
    },
    {
     "data": {
      "text/html": [
       "<a target=\"_new\" href=\"http://lh4.ggpht.com/Wj92qGP-TGQ482a3TDDftc5inQXmRMsWXQhTBgabAWRiIcAp7o9rYlJVDNAbV-JNcfVj6BtajYPdkJp9O7i7BUWkC5c=s0\"><img src=\"http://lh4.ggpht.com/Wj92qGP-TGQ482a3TDDftc5inQXmRMsWXQhTBgabAWRiIcAp7o9rYlJVDNAbV-JNcfVj6BtajYPdkJp9O7i7BUWkC5c=s0\" style=\"width: 200px;\"/></a><br/><br/>"
      ],
      "text/plain": [
       "<IPython.core.display.HTML object>"
      ]
     },
     "metadata": {},
     "output_type": "display_data"
    },
    {
     "name": "stdout",
     "output_type": "stream",
     "text": [
      "http://hdl.handle.net/10934/RM0001.COLLECT.64557\n"
     ]
    },
    {
     "data": {
      "text/html": [
       "<a target=\"_new\" href=\"http://lh5.ggpht.com/MhtyL5JxqeiJX9Pkj5S2ES2qM8JuQoYgBVwdxBQ4cwvsjl4LReIrLLJp6kvnvGNw8VuTW5x6ZwdDoZ-u1GzUY7X0WA=s0\"><img src=\"http://lh5.ggpht.com/MhtyL5JxqeiJX9Pkj5S2ES2qM8JuQoYgBVwdxBQ4cwvsjl4LReIrLLJp6kvnvGNw8VuTW5x6ZwdDoZ-u1GzUY7X0WA=s0\" style=\"width: 200px;\"/></a><br/><br/>"
      ],
      "text/plain": [
       "<IPython.core.display.HTML object>"
      ]
     },
     "metadata": {},
     "output_type": "display_data"
    },
    {
     "name": "stdout",
     "output_type": "stream",
     "text": [
      "http://hdl.handle.net/10934/RM0001.COLLECT.64556\n"
     ]
    },
    {
     "data": {
      "text/html": [
       "<a target=\"_new\" href=\"http://lh5.ggpht.com/gBBdLeu2On1zSDd0o7PtKpmVQXlUlJM8w3JxLhDI4XYNPDD0D5WHV6OnGGA5aj25P3YyCI9JDOZA6YvICycKbaik2uQ=s0\"><img src=\"http://lh5.ggpht.com/gBBdLeu2On1zSDd0o7PtKpmVQXlUlJM8w3JxLhDI4XYNPDD0D5WHV6OnGGA5aj25P3YyCI9JDOZA6YvICycKbaik2uQ=s0\" style=\"width: 200px;\"/></a><br/><br/>"
      ],
      "text/plain": [
       "<IPython.core.display.HTML object>"
      ]
     },
     "metadata": {},
     "output_type": "display_data"
    },
    {
     "name": "stdout",
     "output_type": "stream",
     "text": [
      "http://hdl.handle.net/10934/RM0001.COLLECT.149984\n"
     ]
    },
    {
     "data": {
      "text/html": [
       "<a target=\"_new\" href=\"http://lh3.ggpht.com/vE_eNq24IxSpOSWMNekWQLBDyaPHCcgfQWSftw5PqZBDzqDuRWbXIF5dTHb06w8R5OPuP37l519cOeOSoEOiPItNZnM=s0\"><img src=\"http://lh3.ggpht.com/vE_eNq24IxSpOSWMNekWQLBDyaPHCcgfQWSftw5PqZBDzqDuRWbXIF5dTHb06w8R5OPuP37l519cOeOSoEOiPItNZnM=s0\" style=\"width: 200px;\"/></a><br/><br/>"
      ],
      "text/plain": [
       "<IPython.core.display.HTML object>"
      ]
     },
     "metadata": {},
     "output_type": "display_data"
    },
    {
     "name": "stdout",
     "output_type": "stream",
     "text": [
      "http://hdl.handle.net/10934/RM0001.COLLECT.234445\n"
     ]
    },
    {
     "data": {
      "text/html": [
       "<a target=\"_new\" href=\"http://lh4.ggpht.com/3MIM137Ki7WDb1jU_AJzNxSVrES6ZJOwKgaAOOmAtXrq3i8Ku_1XJEQLrpEReEbiXE2zLzIm_Cje5EtxQf0DpM10gQ=s0\"><img src=\"http://lh4.ggpht.com/3MIM137Ki7WDb1jU_AJzNxSVrES6ZJOwKgaAOOmAtXrq3i8Ku_1XJEQLrpEReEbiXE2zLzIm_Cje5EtxQf0DpM10gQ=s0\" style=\"width: 200px;\"/></a><br/><br/>"
      ],
      "text/plain": [
       "<IPython.core.display.HTML object>"
      ]
     },
     "metadata": {},
     "output_type": "display_data"
    },
    {
     "name": "stdout",
     "output_type": "stream",
     "text": [
      "http://hdl.handle.net/10934/RM0001.collect.163351\n"
     ]
    },
    {
     "data": {
      "text/html": [
       "<a target=\"_new\" href=\"http://lh6.ggpht.com/W74tt4Nys-zM0Jd5ECdusjQ_2VI_iltFYqNLOW4555PjUMr2Kg3Q5rB6v773KT5WQi35bMf-TNtuNQhqQbnJp5wYquz3=s0\"><img src=\"http://lh6.ggpht.com/W74tt4Nys-zM0Jd5ECdusjQ_2VI_iltFYqNLOW4555PjUMr2Kg3Q5rB6v773KT5WQi35bMf-TNtuNQhqQbnJp5wYquz3=s0\" style=\"width: 200px;\"/></a><br/><br/>"
      ],
      "text/plain": [
       "<IPython.core.display.HTML object>"
      ]
     },
     "metadata": {},
     "output_type": "display_data"
    },
    {
     "name": "stdout",
     "output_type": "stream",
     "text": [
      "http://hdl.handle.net/10934/RM0001.COLLECT.143012\n"
     ]
    },
    {
     "data": {
      "text/html": [
       "<a target=\"_new\" href=\"http://lh5.ggpht.com/pQ-0ZvMRl4n5UlQ6n6cw92u0dD5Z3Z7bXL_6BtU2NT6f7Q0jj6C-dviOAdADS2qKFv1CC0CaMpPaZxOCcgu9U5UTh5Y=s0\"><img src=\"http://lh5.ggpht.com/pQ-0ZvMRl4n5UlQ6n6cw92u0dD5Z3Z7bXL_6BtU2NT6f7Q0jj6C-dviOAdADS2qKFv1CC0CaMpPaZxOCcgu9U5UTh5Y=s0\" style=\"width: 200px;\"/></a><br/><br/>"
      ],
      "text/plain": [
       "<IPython.core.display.HTML object>"
      ]
     },
     "metadata": {},
     "output_type": "display_data"
    },
    {
     "name": "stdout",
     "output_type": "stream",
     "text": [
      "http://hdl.handle.net/10934/RM0001.collect.86825\n"
     ]
    },
    {
     "data": {
      "text/html": [
       "<a target=\"_new\" href=\"http://lh3.ggpht.com/6HaCTBWn4cHTclS6dbgF7Dwuxbp9rlj7bTlxOJ-KMo-CcevHJoEEv9Y07GZ6ae3KZGlYAtgsEsrVEZwuzqlUoqZHRis=s0\"><img src=\"http://lh3.ggpht.com/6HaCTBWn4cHTclS6dbgF7Dwuxbp9rlj7bTlxOJ-KMo-CcevHJoEEv9Y07GZ6ae3KZGlYAtgsEsrVEZwuzqlUoqZHRis=s0\" style=\"width: 200px;\"/></a><br/><br/>"
      ],
      "text/plain": [
       "<IPython.core.display.HTML object>"
      ]
     },
     "metadata": {},
     "output_type": "display_data"
    },
    {
     "name": "stdout",
     "output_type": "stream",
     "text": [
      "http://hdl.handle.net/10934/RM0001.collect.86816\n"
     ]
    },
    {
     "data": {
      "text/html": [
       "<a target=\"_new\" href=\"http://lh6.ggpht.com/nvAPBz9d38PMB_DEaWuX9Dqq4_jFKwJk_NNw7oBX7raevcdtUXs7AgLamUbROlGoORuwNyZqYLOEtIQ1zfkMDnjYFZw=s0\"><img src=\"http://lh6.ggpht.com/nvAPBz9d38PMB_DEaWuX9Dqq4_jFKwJk_NNw7oBX7raevcdtUXs7AgLamUbROlGoORuwNyZqYLOEtIQ1zfkMDnjYFZw=s0\" style=\"width: 200px;\"/></a><br/><br/>"
      ],
      "text/plain": [
       "<IPython.core.display.HTML object>"
      ]
     },
     "metadata": {},
     "output_type": "display_data"
    },
    {
     "name": "stdout",
     "output_type": "stream",
     "text": [
      "http://hdl.handle.net/10934/RM0001.collect.86835\n"
     ]
    },
    {
     "data": {
      "text/html": [
       "<a target=\"_new\" href=\"http://lh3.ggpht.com/hg-PeAvQuxtf8MHlkqj94bE4mvEqK0yhsrq51i-vSYupORqR0OaWyh-MT4fWOUYwzuTixOgoa3pA02kkOWv8I8L6iQ=s0\"><img src=\"http://lh3.ggpht.com/hg-PeAvQuxtf8MHlkqj94bE4mvEqK0yhsrq51i-vSYupORqR0OaWyh-MT4fWOUYwzuTixOgoa3pA02kkOWv8I8L6iQ=s0\" style=\"width: 200px;\"/></a><br/><br/>"
      ],
      "text/plain": [
       "<IPython.core.display.HTML object>"
      ]
     },
     "metadata": {},
     "output_type": "display_data"
    },
    {
     "name": "stdout",
     "output_type": "stream",
     "text": [
      "http://hdl.handle.net/10934/RM0001.collect.86808\n"
     ]
    },
    {
     "data": {
      "text/html": [
       "<a target=\"_new\" href=\"http://lh4.ggpht.com/Ai9C4j_hNhULed-pQyZndfrnA3P3zQqbxedCSvCm8ZF2rY0Y-oAk1tMabLDiba8qlFtnztPQVjQfKpu-lGl3Zxvkq-I=s0\"><img src=\"http://lh4.ggpht.com/Ai9C4j_hNhULed-pQyZndfrnA3P3zQqbxedCSvCm8ZF2rY0Y-oAk1tMabLDiba8qlFtnztPQVjQfKpu-lGl3Zxvkq-I=s0\" style=\"width: 200px;\"/></a><br/><br/>"
      ],
      "text/plain": [
       "<IPython.core.display.HTML object>"
      ]
     },
     "metadata": {},
     "output_type": "display_data"
    },
    {
     "name": "stdout",
     "output_type": "stream",
     "text": [
      "http://hdl.handle.net/10934/RM0001.collect.86823\n"
     ]
    },
    {
     "data": {
      "text/html": [
       "<a target=\"_new\" href=\"http://lh3.ggpht.com/6fWzuEU01lIeAuEhR6995WWf6SdXa2RT9B8U9sbX4UhJno4bjIcbQ6FQ30M5VW7KSrHOOs0eG5ENXIx7kSi6oEECtdY=s0\"><img src=\"http://lh3.ggpht.com/6fWzuEU01lIeAuEhR6995WWf6SdXa2RT9B8U9sbX4UhJno4bjIcbQ6FQ30M5VW7KSrHOOs0eG5ENXIx7kSi6oEECtdY=s0\" style=\"width: 200px;\"/></a><br/><br/>"
      ],
      "text/plain": [
       "<IPython.core.display.HTML object>"
      ]
     },
     "metadata": {},
     "output_type": "display_data"
    },
    {
     "name": "stdout",
     "output_type": "stream",
     "text": [
      "http://hdl.handle.net/10934/RM0001.COLLECT.342882\n"
     ]
    },
    {
     "data": {
      "text/html": [
       "<a target=\"_new\" href=\"http://lh4.ggpht.com/t9zRwzFCK5DGcqSotY0GSCB1cugrfPyJ3xhMXoSaXBfhvkgGAkTrTAbBGO6lT1Ar3imCeZshudKK7WjR0aVWr1U-g2s=s0\"><img src=\"http://lh4.ggpht.com/t9zRwzFCK5DGcqSotY0GSCB1cugrfPyJ3xhMXoSaXBfhvkgGAkTrTAbBGO6lT1Ar3imCeZshudKK7WjR0aVWr1U-g2s=s0\" style=\"width: 200px;\"/></a><br/><br/>"
      ],
      "text/plain": [
       "<IPython.core.display.HTML object>"
      ]
     },
     "metadata": {},
     "output_type": "display_data"
    },
    {
     "name": "stdout",
     "output_type": "stream",
     "text": [
      "http://hdl.handle.net/10934/RM0001.COLLECT.105970\n"
     ]
    },
    {
     "data": {
      "text/html": [
       "<a target=\"_new\" href=\"http://lh5.ggpht.com/Hi7jZlwFxcDdRckDhCSAbcuH2Wck-kwKheSRV-0LuXny__4OnJL3vAkNgct6peP9rA1tRzIJT0BVmyGwD9rJuMnTjKci=s0\"><img src=\"http://lh5.ggpht.com/Hi7jZlwFxcDdRckDhCSAbcuH2Wck-kwKheSRV-0LuXny__4OnJL3vAkNgct6peP9rA1tRzIJT0BVmyGwD9rJuMnTjKci=s0\" style=\"width: 200px;\"/></a><br/><br/>"
      ],
      "text/plain": [
       "<IPython.core.display.HTML object>"
      ]
     },
     "metadata": {},
     "output_type": "display_data"
    },
    {
     "name": "stdout",
     "output_type": "stream",
     "text": [
      "http://hdl.handle.net/10934/RM0001.collect.86831\n"
     ]
    },
    {
     "data": {
      "text/html": [
       "<a target=\"_new\" href=\"http://lh6.ggpht.com/OaxPnMXB9myNB1cqRaE4UN1QXa_738-P8kCcl5HbCEIZ8pMR0rwcipCvNNZEOxVduUycbX9uinqHdl1Sr48N7MVo2A=s0\"><img src=\"http://lh6.ggpht.com/OaxPnMXB9myNB1cqRaE4UN1QXa_738-P8kCcl5HbCEIZ8pMR0rwcipCvNNZEOxVduUycbX9uinqHdl1Sr48N7MVo2A=s0\" style=\"width: 200px;\"/></a><br/><br/>"
      ],
      "text/plain": [
       "<IPython.core.display.HTML object>"
      ]
     },
     "metadata": {},
     "output_type": "display_data"
    },
    {
     "name": "stdout",
     "output_type": "stream",
     "text": [
      "http://hdl.handle.net/10934/RM0001.COLLECT.34223\n"
     ]
    },
    {
     "data": {
      "text/html": [
       "<a target=\"_new\" href=\"http://lh4.ggpht.com/N6f9Tb6SqFddIKyUscMuGNkakwpARoj3wx6aiS3IDfTddJmCL6ZU0tbw4UIthYelL8Pu4bjeI6YFBRJ0mtXmHTAAm2I=s0\"><img src=\"http://lh4.ggpht.com/N6f9Tb6SqFddIKyUscMuGNkakwpARoj3wx6aiS3IDfTddJmCL6ZU0tbw4UIthYelL8Pu4bjeI6YFBRJ0mtXmHTAAm2I=s0\" style=\"width: 200px;\"/></a><br/><br/>"
      ],
      "text/plain": [
       "<IPython.core.display.HTML object>"
      ]
     },
     "metadata": {},
     "output_type": "display_data"
    },
    {
     "name": "stdout",
     "output_type": "stream",
     "text": [
      "http://hdl.handle.net/10934/RM0001.COLLECT.334141\n"
     ]
    },
    {
     "data": {
      "text/html": [
       "<a target=\"_new\" href=\"http://lh3.ggpht.com/Wt79wdMqmeQr2RXQFimyYBi1Yf5Ap7vgTV104R-g4Bw127Ba5UHT-NzPGnTeUa4QQFZ_g1k26o07RTgavgt71t7m2c-r=s0\"><img src=\"http://lh3.ggpht.com/Wt79wdMqmeQr2RXQFimyYBi1Yf5Ap7vgTV104R-g4Bw127Ba5UHT-NzPGnTeUa4QQFZ_g1k26o07RTgavgt71t7m2c-r=s0\" style=\"width: 200px;\"/></a><br/><br/>"
      ],
      "text/plain": [
       "<IPython.core.display.HTML object>"
      ]
     },
     "metadata": {},
     "output_type": "display_data"
    },
    {
     "name": "stdout",
     "output_type": "stream",
     "text": [
      "http://hdl.handle.net/10934/RM0001.COLLECT.334161\n"
     ]
    },
    {
     "data": {
      "text/html": [
       "<a target=\"_new\" href=\"http://lh5.ggpht.com/zMAIzF6nma1dpVC4U9gwXIJS5aphqQMY4EAi8IC8KnjhS20Wg9PzfB9XwUk-nBSkFacpisb-p243S4s1Rik6-sVqgQ=s0\"><img src=\"http://lh5.ggpht.com/zMAIzF6nma1dpVC4U9gwXIJS5aphqQMY4EAi8IC8KnjhS20Wg9PzfB9XwUk-nBSkFacpisb-p243S4s1Rik6-sVqgQ=s0\" style=\"width: 200px;\"/></a><br/><br/>"
      ],
      "text/plain": [
       "<IPython.core.display.HTML object>"
      ]
     },
     "metadata": {},
     "output_type": "display_data"
    },
    {
     "name": "stdout",
     "output_type": "stream",
     "text": [
      "http://hdl.handle.net/10934/RM0001.COLLECT.225829\n"
     ]
    },
    {
     "data": {
      "text/html": [
       "<a target=\"_new\" href=\"http://lh6.ggpht.com/RKhtAZqztIdFFi28NpK_-UKEA9Qmqq_jMINfQOoeuXAbheLGDAQGzhdsRcndRrMl-vMi5Ri5Gv70R0DXwct9Klmv1g=s0\"><img src=\"http://lh6.ggpht.com/RKhtAZqztIdFFi28NpK_-UKEA9Qmqq_jMINfQOoeuXAbheLGDAQGzhdsRcndRrMl-vMi5Ri5Gv70R0DXwct9Klmv1g=s0\" style=\"width: 200px;\"/></a><br/><br/>"
      ],
      "text/plain": [
       "<IPython.core.display.HTML object>"
      ]
     },
     "metadata": {},
     "output_type": "display_data"
    },
    {
     "name": "stdout",
     "output_type": "stream",
     "text": [
      "http://hdl.handle.net/10934/RM0001.COLLECT.135331\n"
     ]
    },
    {
     "data": {
      "text/html": [
       "<a target=\"_new\" href=\"http://lh4.ggpht.com/ufTRnc1cU6b_nKKqCSWQxcszb3tuPhlZhr4YTr1gWTJSBAzVl1ka0nRxjKYaxmH7mIzKCPqfwbcKdMVaCmi-fOFzrQ=s0\"><img src=\"http://lh4.ggpht.com/ufTRnc1cU6b_nKKqCSWQxcszb3tuPhlZhr4YTr1gWTJSBAzVl1ka0nRxjKYaxmH7mIzKCPqfwbcKdMVaCmi-fOFzrQ=s0\" style=\"width: 200px;\"/></a><br/><br/>"
      ],
      "text/plain": [
       "<IPython.core.display.HTML object>"
      ]
     },
     "metadata": {},
     "output_type": "display_data"
    },
    {
     "name": "stdout",
     "output_type": "stream",
     "text": [
      "http://hdl.handle.net/10934/RM0001.COLLECT.38760\n"
     ]
    },
    {
     "data": {
      "text/html": [
       "<a target=\"_new\" href=\"http://lh4.ggpht.com/nh-wPzS4-AR65HUVebg7uXFs95O5NPMytgWjLg-rC8Hoj3y_PAJZmNo1NVTSFt-hWfi-AV-0ze4V1sgXf2vNmWXBzKI=s0\"><img src=\"http://lh4.ggpht.com/nh-wPzS4-AR65HUVebg7uXFs95O5NPMytgWjLg-rC8Hoj3y_PAJZmNo1NVTSFt-hWfi-AV-0ze4V1sgXf2vNmWXBzKI=s0\" style=\"width: 200px;\"/></a><br/><br/>"
      ],
      "text/plain": [
       "<IPython.core.display.HTML object>"
      ]
     },
     "metadata": {},
     "output_type": "display_data"
    },
    {
     "name": "stdout",
     "output_type": "stream",
     "text": [
      "http://hdl.handle.net/10934/RM0001.collect.83506\n"
     ]
    },
    {
     "data": {
      "text/html": [
       "<a target=\"_new\" href=\"http://lh5.ggpht.com/P4AVl_a94o83iHMrR49ChDSUdT1LqCNkAc42m9Ww6e4LZM8F_CR4W1HVbEjKwXbfJKElhNiWkjaLn_GCtJ6Fwe1dmeU=s0\"><img src=\"http://lh5.ggpht.com/P4AVl_a94o83iHMrR49ChDSUdT1LqCNkAc42m9Ww6e4LZM8F_CR4W1HVbEjKwXbfJKElhNiWkjaLn_GCtJ6Fwe1dmeU=s0\" style=\"width: 200px;\"/></a><br/><br/>"
      ],
      "text/plain": [
       "<IPython.core.display.HTML object>"
      ]
     },
     "metadata": {},
     "output_type": "display_data"
    },
    {
     "name": "stdout",
     "output_type": "stream",
     "text": [
      "http://hdl.handle.net/10934/RM0001.collect.83509\n"
     ]
    },
    {
     "data": {
      "text/html": [
       "<a target=\"_new\" href=\"http://lh5.ggpht.com/kKc0MmF3sVg9jO_7EiIxDY4yE6Jtacoz0BGkormNiDrbm97NPBtlAQ_gvw3c2hmsSieyrBqDSWcEYhEDqo_c9_2xPsA=s0\"><img src=\"http://lh5.ggpht.com/kKc0MmF3sVg9jO_7EiIxDY4yE6Jtacoz0BGkormNiDrbm97NPBtlAQ_gvw3c2hmsSieyrBqDSWcEYhEDqo_c9_2xPsA=s0\" style=\"width: 200px;\"/></a><br/><br/>"
      ],
      "text/plain": [
       "<IPython.core.display.HTML object>"
      ]
     },
     "metadata": {},
     "output_type": "display_data"
    },
    {
     "name": "stdout",
     "output_type": "stream",
     "text": [
      "http://hdl.handle.net/10934/RM0001.collect.83507\n"
     ]
    },
    {
     "data": {
      "text/html": [
       "<a target=\"_new\" href=\"http://lh5.ggpht.com/zjoWd4_CJD3iXNdysFOJ5iQzHofLH-T-mdIwO6UWS5LzvX8IZbWuDcVb--4Xb_Ecy5_DvYcvbVvpr5JU3z_aliHCpqA=s0\"><img src=\"http://lh5.ggpht.com/zjoWd4_CJD3iXNdysFOJ5iQzHofLH-T-mdIwO6UWS5LzvX8IZbWuDcVb--4Xb_Ecy5_DvYcvbVvpr5JU3z_aliHCpqA=s0\" style=\"width: 200px;\"/></a><br/><br/>"
      ],
      "text/plain": [
       "<IPython.core.display.HTML object>"
      ]
     },
     "metadata": {},
     "output_type": "display_data"
    },
    {
     "name": "stdout",
     "output_type": "stream",
     "text": [
      "http://hdl.handle.net/10934/RM0001.collect.98699\n"
     ]
    },
    {
     "data": {
      "text/html": [
       "<a target=\"_new\" href=\"http://lh6.ggpht.com/YntT35QDQeFKvbkpry13bg3tuL1bUGShP2a0kyQTSNnbeZN56y0Wm8L0c33_Fxhy4jkJ4HznQCKlYnnMPys06mNT4jo=s0\"><img src=\"http://lh6.ggpht.com/YntT35QDQeFKvbkpry13bg3tuL1bUGShP2a0kyQTSNnbeZN56y0Wm8L0c33_Fxhy4jkJ4HznQCKlYnnMPys06mNT4jo=s0\" style=\"width: 200px;\"/></a><br/><br/>"
      ],
      "text/plain": [
       "<IPython.core.display.HTML object>"
      ]
     },
     "metadata": {},
     "output_type": "display_data"
    },
    {
     "name": "stdout",
     "output_type": "stream",
     "text": [
      "http://hdl.handle.net/10934/RM0001.COLLECT.37280\n"
     ]
    },
    {
     "data": {
      "text/html": [
       "<a target=\"_new\" href=\"http://lh6.ggpht.com/EYJ2DxkQHWcJluN9x8-W9WFl_8Y9IqEteto0SpbZ2Z6rTY62R5_2ZOyl1oiQMA9jnDf8KgpooGLKSdhhBogvbMgwVg=s0\"><img src=\"http://lh6.ggpht.com/EYJ2DxkQHWcJluN9x8-W9WFl_8Y9IqEteto0SpbZ2Z6rTY62R5_2ZOyl1oiQMA9jnDf8KgpooGLKSdhhBogvbMgwVg=s0\" style=\"width: 200px;\"/></a><br/><br/>"
      ],
      "text/plain": [
       "<IPython.core.display.HTML object>"
      ]
     },
     "metadata": {},
     "output_type": "display_data"
    },
    {
     "name": "stdout",
     "output_type": "stream",
     "text": [
      "http://hdl.handle.net/10934/RM0001.COLLECT.37284\n"
     ]
    },
    {
     "data": {
      "text/html": [
       "<a target=\"_new\" href=\"http://lh6.ggpht.com/cLuk95wZd33IkqLY-5mUby3uoJXkZI38gz5Bwn6D0YEyJUlFw1xrsUA0ecHWKmdU7HdUKIt2HCktGV92_jIV-rkxdZ6W=s0\"><img src=\"http://lh6.ggpht.com/cLuk95wZd33IkqLY-5mUby3uoJXkZI38gz5Bwn6D0YEyJUlFw1xrsUA0ecHWKmdU7HdUKIt2HCktGV92_jIV-rkxdZ6W=s0\" style=\"width: 200px;\"/></a><br/><br/>"
      ],
      "text/plain": [
       "<IPython.core.display.HTML object>"
      ]
     },
     "metadata": {},
     "output_type": "display_data"
    },
    {
     "name": "stdout",
     "output_type": "stream",
     "text": [
      "http://hdl.handle.net/10934/RM0001.collect.151221\n"
     ]
    },
    {
     "data": {
      "text/html": [
       "<a target=\"_new\" href=\"http://lh6.ggpht.com/IGqlVpG35Gm-Mi_yhaUTwQ6sosHqQytbN31eoPF6-X8lg1bYxdnLAZjXi5SxMmgwizb1vvEX5YiYHTdbCs0EHh6VAt7d=s0\"><img src=\"http://lh6.ggpht.com/IGqlVpG35Gm-Mi_yhaUTwQ6sosHqQytbN31eoPF6-X8lg1bYxdnLAZjXi5SxMmgwizb1vvEX5YiYHTdbCs0EHh6VAt7d=s0\" style=\"width: 200px;\"/></a><br/><br/>"
      ],
      "text/plain": [
       "<IPython.core.display.HTML object>"
      ]
     },
     "metadata": {},
     "output_type": "display_data"
    },
    {
     "name": "stdout",
     "output_type": "stream",
     "text": [
      "http://hdl.handle.net/10934/RM0001.COLLECT.140160\n"
     ]
    },
    {
     "data": {
      "text/html": [
       "<a target=\"_new\" href=\"http://lh4.ggpht.com/at8CErX4vnZK9HT8ozUyX0p5I19zM0ZGMXVSUJ9o9ElSMBJWZjkYtNqjpOfolOElGnL2FGJKf9jd5R3QwUMTU0sLkU_N=s0\"><img src=\"http://lh4.ggpht.com/at8CErX4vnZK9HT8ozUyX0p5I19zM0ZGMXVSUJ9o9ElSMBJWZjkYtNqjpOfolOElGnL2FGJKf9jd5R3QwUMTU0sLkU_N=s0\" style=\"width: 200px;\"/></a><br/><br/>"
      ],
      "text/plain": [
       "<IPython.core.display.HTML object>"
      ]
     },
     "metadata": {},
     "output_type": "display_data"
    }
   ],
   "source": [
    "\n",
    "query = \"\"\"\n",
    "PREFIX dc: <http://purl.org/dc/elements/1.1/>\n",
    "PREFIX edm: <http://www.europeana.eu/schemas/edm/>\n",
    "PREFIX ore: <http://www.openarchives.org/ore/terms/>\n",
    "PREFIX html: <http://www.w3.org/1999/xhtml/vocab#>\n",
    "PREFIX skos: <http://www.w3.org/2004/02/skos/core#>\n",
    "\n",
    "SELECT ?url ?landing\n",
    "WHERE {\n",
    "\n",
    "?object ore:proxyIn ?local_aggr .\n",
    "?object ore:proxyFor ?cho .\n",
    "?eur_aggr edm:aggregatedCHO ?cho .\n",
    "?eur_aggr a edm:EuropeanaAggregation .\n",
    "\n",
    "?local_aggr edm:dataProvider 'Rijksmuseum' .\n",
    "\n",
    "?object dc:subject <http://iconclass.org/25I12> .\n",
    "\n",
    "?local_aggr edm:isShownBy ?url .\n",
    "?local_aggr edm:isShownAt ?landing .\n",
    "\n",
    "}\n",
    "LIMIT 50\n",
    "\n",
    "\"\"\"\n",
    "\n",
    "\n",
    "objects = run_query(query)\n",
    "\n",
    "for i,row in objects.iterrows():\n",
    "    print( row['landing.value'] )\n",
    "    img = row['url.value']\n",
    "    \n",
    "    display(HTML(f'<a target=\"_new\" href=\"{img}\"><img src=\"{img}\" style=\"width: 200px;\"/></a><br/><br/>'))\n"
   ]
  },
  {
   "cell_type": "markdown",
   "id": "408ca1b9",
   "metadata": {},
   "source": [
    "As we have collected the year of creation for each work, we can begin to trace some historical patterns. "
   ]
  },
  {
   "cell_type": "code",
   "execution_count": 16,
   "id": "ca8e5ada",
   "metadata": {},
   "outputs": [],
   "source": [
    "dates = []\n",
    "\n",
    "\n",
    "def standardise_date(date):\n",
    "    date = re.sub( r'\\D' , '' , date )\n",
    "    date = date.strip()\n",
    "    return int(date.strip())\n",
    "\n",
    "for i,row in df.iterrows():\n",
    "    date = row['created.value']\n",
    "    \n",
    "    if re.search( r'-' , date ):\n",
    "        \n",
    "        parts = re.split( r'-' , date )\n",
    "        nr1 = standardise_date(parts[0])\n",
    "        nr2 = standardise_date(parts[1])\n",
    "\n",
    "        if re.search( r'\\d{4}' , str(nr1)) and re.search( r'\\d{4}' , str(nr2)):\n",
    "            mean_date = round((nr1+nr2)/2)\n",
    "            dates.append(mean_date)\n",
    "            \n",
    "    else:\n",
    "        dates.append(standardise_date(date))\n",
    "        \n",
    "dates_freq = dict()\n",
    "for year in dates:\n",
    "    dates_freq[year] = dates_freq.get(year,0)+1\n",
    "        "
   ]
  },
  {
   "cell_type": "code",
   "execution_count": 17,
   "id": "f5f53013",
   "metadata": {},
   "outputs": [
    {
     "data": {
      "image/png": "[encoded data removed]",
      "text/plain": [
       "<Figure size 720x360 with 1 Axes>"
      ]
     },
     "metadata": {
      "needs_background": "light"
     },
     "output_type": "display_data"
    }
   ],
   "source": [
    "import matplotlib.pyplot as plt\n",
    "import seaborn as sns\n",
    "\n",
    "\n",
    "plt.figure( figsize = ( 10,5 ) )\n",
    "\n",
    "graph = sns.lineplot( x= dates_freq.keys() , y= dates_freq.values() , color = '#131875' )\n",
    "\n",
    "\n",
    "graph.set_xlabel('Years' , size = 16 )\n",
    "graph.set_ylabel('Number of objects' , size = 16 )\n",
    "graph.set_title( 'City panoramas' , size = 22 )\n",
    "\n",
    "\n",
    "plt.show()"
   ]
  },
  {
   "cell_type": "markdown",
   "id": "1e9f8741",
   "metadata": {},
   "source": [
    "We can see that most of the city panoramas in the Rijksmuseum collection were created either in the last decade of the 17h century or in the second half of the 18th century. This can be an interesting finding for historians. "
   ]
  },
  {
   "cell_type": "code",
   "execution_count": null,
   "id": "ae01ff78",
   "metadata": {},
   "outputs": [],
   "source": []
  }
 ],
 "metadata": {
  "kernelspec": {
   "display_name": "Python 3 (ipykernel)",
   "language": "python",
   "name": "python3"
  },
  "language_info": {
   "codemirror_mode": {
    "name": "ipython",
    "version": 3
   },
   "file_extension": ".py",
   "mimetype": "text/x-python",
   "name": "python",
   "nbconvert_exporter": "python",
   "pygments_lexer": "ipython3",
   "version": "3.7.9"
  }
 },
 "nbformat": 4,
 "nbformat_minor": 5
}
