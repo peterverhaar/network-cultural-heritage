{
 "cells": [
  {
   "cell_type": "markdown",
   "id": "8c389fbf",
   "metadata": {},
   "source": [
    "## The Europeana SPARQL endpoint\n",
    "\n",
    "Europeana is an initiative of the European Union aimed at enhancing the digital access to the collections of more than 3000 cultural heritage institutions acress Europe. Over the past few years, more than 50 million objects have been accumulated from these institutions. On the platform, users can find detailed information about a wide variety of cultural heritage artefacts, including paintings, books, music, and videos and audio files. The metadata that have been collected can also be searched using SPARQL on Europeana’s SPARQL endpoint, available at http://sparql.europeana.eu/. \n",
    "\n",
    "The cell below defines the SPARQL endpoint and creates a function to run queries against this endpoint. "
   ]
  },
  {
   "cell_type": "code",
   "execution_count": null,
   "id": "42214543",
   "metadata": {},
   "outputs": [],
   "source": [
    "from SPARQLWrapper import SPARQLWrapper, JSON\n",
    "from IPython.core.display import display, HTML\n",
    "import pandas as pd\n",
    "import re\n",
    "\n",
    "endpoint = 'http://sparql.europeana.eu/'\n",
    "sparql = SPARQLWrapper(endpoint)\n",
    "\n",
    "def run_query(sparql_query):\n",
    "    sparql.setQuery(sparql_query)\n",
    "    sparql.setReturnFormat(JSON)\n",
    "    data = sparql.query().convert()\n",
    "    df = pd.json_normalize(data['results']['bindings'])  \n",
    "    print(df.shape)\n",
    "    \n",
    "def print_results(df):\n",
    "    for i,row in df.iterrows():\n",
    "        for column in df.columns:\n",
    "            if re.search('value$' , column):\n",
    "                print( f'{column} => {row[column]}' )\n",
    "        print('-------')"
   ]
  },
  {
   "cell_type": "markdown",
   "id": "247cbf02",
   "metadata": {},
   "source": [
    "Before you start to work with the Europeana data, it is useful to develop a good understanding of the Europeana data model. The model is somewhat complicated, and this module will only explain the basics that you need to know about to build your first queries. \n",
    "\n",
    "A central resource in the datamodel is `edm:providedCHO`. This resource represents the cultural heritage object provided by the local institution. This `edm:providedCHO` is part of two `ore:Aggregations`. The term 'Aggregation' is taken from the [*Object Reuse and Exchange*](https://www.openarchives.org/ore/) vocabulary, which was developed to describe compound digital objects. There are in fact two aggregations. Europeana makes a distinction between the metadata that are supplied by the local data provider on the one hand, and the metadata that has been added by Europeana on the other. These two aggregation also have different types. There is a local 'ore:Aggregation', next to an 'edm:EuropeanaAggregation'. \n",
    "\n",
    "Both aggregations contain ore:Proxy resources. These resources contain most of the descriptive metadata about the heritage objects. The ‘local’ Proxy, first of all, contains most of the metadata that have been supplied by the contributing instution. More detailed information about the Europeana Data Model can be found in the [Primer](http://www.openarchives.org/ore/1.0/primer.html).  \n",
    "\n",
    "The model can be visualised as follows:\n",
    "\n",
    "![](Europeana.svg)\n",
    "\n",
    "This model may indeed look slightly complicated, but, to work with the Europeana data, you mainly need to know which predicates can be used for which resources. \n",
    "\n",
    "The following properties all have the local `ore:Proxy` resource as their domain: \n",
    "\n",
    "* dc:title\n",
    "* dc:creator\n",
    "* dc:relation\n",
    "* dc:type\n",
    "* dcterms:created\n",
    "* dcterms:extent\n",
    "* dc:publisher\n",
    "* dc:identifier\n",
    "* dc:created\n",
    "* dc:source\n",
    "* edm:type\n",
    "* dc:coverage\n",
    "* dc:description\n",
    "* dc:format\n",
    "* dc:language\n",
    "* dc:subject\n",
    "* dcterms:isPartOf\n",
    "* dcterms:spatial\n",
    "\n",
    "You can use these predicates to search metadata harvested from the local data provider. \n",
    "\n",
    "The query below selects the title, the type and the date of creation of a small list of ten objects. "
   ]
  },
  {
   "cell_type": "code",
   "execution_count": null,
   "id": "361175ec",
   "metadata": {},
   "outputs": [],
   "source": [
    "query = '''PREFIX dc:      <http://purl.org/dc/elements/1.1/>\n",
    "PREFIX dcterms: <http://purl.org/dc/terms/>\n",
    "PREFIX edm:     <http://www.europeana.eu/schemas/edm/>\n",
    "PREFIX ore:     <http://www.openarchives.org/ore/terms/>\n",
    "\n",
    "SELECT ?title ?type ?date \n",
    "WHERE {\n",
    "\n",
    "    ?object dc:title ?title .\n",
    "    ?object dc:type ?type .\n",
    "    ?object dcterms:created ?date .\n",
    "\n",
    "}\n",
    "ORDER BY ?title\n",
    "LIMIT 10\n",
    "'''\n",
    "\n",
    "run_query(query)\n"
   ]
  },
  {
   "cell_type": "markdown",
   "id": "2ad4a833",
   "metadata": {},
   "source": [
    "\n",
    "\n",
    "<a href=\"http://grlc.io/api-git/peterverhaar/sparql_queries/europeana_basic_1?endpoint=http%3A%2F%2Fsparql.europeana.eu%2F\" target=\"_blank\">See the result</a>\n"
   ]
  },
  {
   "cell_type": "markdown",
   "id": "f4eb036d",
   "metadata": {},
   "source": [
    "The query explained above searches in all the 50 million objects available in Europeana, so it may be useful to search more specifilly for certain types of objects. You can state that the objects should be of type 'IMAGE'. You can do this by making use of the dc:type property. \n",
    "\n",
    "It must be noted, however, that the values in the dc:type predicate have not been entered consistently by all institutions. As a results of this, you will not necessarily receive all images. "
   ]
  },
  {
   "cell_type": "code",
   "execution_count": null,
   "id": "38fa27f3",
   "metadata": {},
   "outputs": [],
   "source": [
    "query = '''PREFIX dc:      <http://purl.org/dc/elements/1.1/>\n",
    "PREFIX edm:     <http://www.europeana.eu/schemas/edm/>\n",
    "PREFIX ore:     <http://www.openarchives.org/ore/terms/>\n",
    "\n",
    "SELECT ?title ?type ?date\n",
    "WHERE {\n",
    "\n",
    "    ?object dc:title ?title .\n",
    "    ?object dc:date ?date .\n",
    "    ?object dc:type ?type .\n",
    "    ?object dc:identifier ?id\n",
    "    OPTIONAL{\n",
    "    ?object dc:publisher ?pub .\n",
    "    ?object dc:created ?cr . } .\n",
    "    \n",
    "    ?object dc:type 'IMAGE' . \n",
    "\n",
    "}\n",
    "'''\n",
    "\n",
    "run_query(query)\n",
    "\n"
   ]
  },
  {
   "cell_type": "markdown",
   "id": "03cd8edf",
   "metadata": {},
   "source": [
    "\n",
    "<a href=\"http://grlc.io/api-git/peterverhaar/sparql_queries/europeana_basic_2?endpoint=http%3A%2F%2Fsparql.europeana.eu%2F\" target=\"_blank\">See the result</a>\n"
   ]
  },
  {
   "cell_type": "markdown",
   "id": "ac454b89",
   "metadata": {},
   "source": [
    "The ore:Proxy object in the local ore:Aggregation has descriptive metadata supplied by the data provided. Data about the data provider itself and about the rights associated with the object can be found in the `ore:Aggregation` Resource this local Proxy belongs to. The `ore:Proxy` is connected to the `ore:Aggregation` via the `ore:proxyIn` predicate. \n",
    "\n",
    "In Europeana, the local `ore:Aggregation` is described using the following properties: \n",
    "\n",
    "* edm:dataProvider\n",
    "* edm:rights\n",
    "* edm:isShownAt\n",
    "* edm:isShownBy\n",
    "* edm:object\n",
    "* edm:provider\n",
    "\n",
    "The `edm:isShownBy` predicate is generally followed by the link to the digital object. `edm:isShownAt` mostly contains a link to the landing page describing the object. "
   ]
  },
  {
   "cell_type": "code",
   "execution_count": null,
   "id": "fbf3e1a0",
   "metadata": {},
   "outputs": [],
   "source": [
    "query = '''PREFIX dc:      <http://purl.org/dc/elements/1.1/>\n",
    "PREFIX edm:     <http://www.europeana.eu/schemas/edm/>\n",
    "PREFIX ore:     <http://www.openarchives.org/ore/terms/>\n",
    "\n",
    "SELECT ?title ?type ?institution ?rights \n",
    "WHERE {\n",
    "\n",
    "    ?object dc:title ?title .\n",
    "    ?object dc:date ?date .\n",
    "    ?object dc:type ?type .\n",
    "    ?object dc:identifier ?id .\n",
    "    \n",
    "    ?object ore:proxyIn ?aggr .\n",
    "    \n",
    "    ?aggr edm:dataProvider ?institution .\n",
    "    ?aggr edm:rights ?rights .\n",
    "    \n",
    "\n",
    "}\n",
    "LIMIT 10\n",
    "'''\n",
    "\n",
    "run_query(query)\n",
    "\n"
   ]
  },
  {
   "cell_type": "markdown",
   "id": "77785062",
   "metadata": {},
   "source": [
    "\n",
    "<a href=\"http://grlc.io/api-git/peterverhaar/sparql_queries/europeana_basic_3?endpoint=http%3A%2F%2Fsparql.europeana.eu%2F\" target=\"_blank\">See the result</a>\n"
   ]
  },
  {
   "cell_type": "markdown",
   "id": "3d569015",
   "metadata": {},
   "source": [
    "Once you have set up a connection between a local `ore:Proxy` and a local `ore:Aggregation`, you can search for objects contributed by a specific data provider, such as the Rijksmuseum. "
   ]
  },
  {
   "cell_type": "code",
   "execution_count": null,
   "id": "22f4efe2",
   "metadata": {},
   "outputs": [],
   "source": [
    "query = \"\"\"\n",
    "PREFIX dc: <http://purl.org/dc/elements/1.1/>\n",
    "PREFIX edm: <http://www.europeana.eu/schemas/edm/>\n",
    "PREFIX ore: <http://www.openarchives.org/ore/terms/>\n",
    "PREFIX html: <http://www.w3.org/1999/xhtml/vocab#>\n",
    "\n",
    "SELECT ?title ?object ?local_aggr\n",
    "WHERE {\n",
    "\n",
    "?object dc:title ?title .\n",
    "?object ore:proxyIn ?local_aggr .\n",
    "\n",
    "?local_aggr edm:dataProvider \"Rijksmuseum\" .\n",
    "}\n",
    "LIMIT 40\n",
    "\"\"\"\n",
    "\n",
    "run_query(query)\n"
   ]
  },
  {
   "cell_type": "markdown",
   "id": "ec6f957e",
   "metadata": {},
   "source": [
    "\n",
    "<a href=\"http://grlc.io/api-git/peterverhaar/sparql_queries/europeana_basic_4?endpoint=http%3A%2F%2Fsparql.europeana.eu%2F\" target=\"_blank\">See the result</a>\n"
   ]
  },
  {
   "cell_type": "markdown",
   "id": "4c15179d",
   "metadata": {},
   "source": [
    "You can also request the links of the digital objects. This link is usually provided as an object followung the edm:isShownAt predicate. "
   ]
  },
  {
   "cell_type": "code",
   "execution_count": null,
   "id": "15546923",
   "metadata": {},
   "outputs": [],
   "source": [
    "query = \"\"\"\n",
    "PREFIX dc: <http://purl.org/dc/elements/1.1/>\n",
    "PREFIX edm: <http://www.europeana.eu/schemas/edm/>\n",
    "PREFIX ore: <http://www.openarchives.org/ore/terms/>\n",
    "PREFIX html: <http://www.w3.org/1999/xhtml/vocab#>\n",
    "\n",
    "SELECT ?title ?url \n",
    "WHERE {\n",
    "\n",
    "?object dc:title ?title .\n",
    "?object ore:proxyIn ?local_aggr .\n",
    "?local_aggr edm:isShownAt ?url .\n",
    "?local_aggr edm:dataProvider \"Rijksmuseum\" .\n",
    "}\n",
    "LIMIT 40\n",
    "\"\"\"\n",
    "\n",
    "run_query(query)"
   ]
  },
  {
   "cell_type": "markdown",
   "id": "7153bbaf",
   "metadata": {},
   "source": [
    "\n",
    "<a href=\"http://grlc.io/api-git/peterverhaar/sparql_queries/europeana_basic_5?endpoint=http%3A%2F%2Fsparql.europeana.eu%2F\" target=\"_blank\">See the result</a>\n"
   ]
  },
  {
   "cell_type": "markdown",
   "id": "9bf6b9d0",
   "metadata": {},
   "source": [
    "The `edm:aggregatedCHO` is also part of an `edm:EuropeanaAggregation`. This resource can be described using the following predicates:\n",
    "    \n",
    "* edm:collectionName\n",
    "* edm:country\n",
    "* edm:landingPage\n",
    "* edm:language\n",
    "\n",
    "Once you have found the `edm:EuropeanaAggregation` associated with an `edm:aggregatedCHO`, you search for objects managed by a cultural heritage institution in a specific langauge, or for objects in a specific langauge. \n",
    "\n",
    "The SPARQL query below searches for images supplied by an institution located in Belgium in the Dutch language. "
   ]
  },
  {
   "cell_type": "code",
   "execution_count": null,
   "id": "5716e29a",
   "metadata": {},
   "outputs": [],
   "source": [
    "query = \"\"\"\n",
    "PREFIX dc: <http://purl.org/dc/elements/1.1/>\n",
    "PREFIX edm: <http://www.europeana.eu/schemas/edm/>\n",
    "PREFIX ore: <http://www.openarchives.org/ore/terms/>\n",
    "PREFIX html: <http://www.w3.org/1999/xhtml/vocab#>\n",
    "\n",
    "SELECT ?title ?creator ?img_url ?eur_aggr\n",
    "WHERE {\n",
    "?object edm:type \"IMAGE\" .\n",
    "?object dc:title ?title .\n",
    "?object dc:creator ?creator .\n",
    "\n",
    "?object ore:proxyIn ?local_aggr .\n",
    "?object ore:proxyFor ?cho .\n",
    "\n",
    "?eur_aggr edm:aggregatedCHO ?cho .\n",
    "?eur_aggr a edm:EuropeanaAggregation .\n",
    "\n",
    "?local_aggr edm:provider ?glam_inst .\n",
    "?eur_aggr edm:country 'belgium' .\n",
    "?eur_aggr edm:language ?lang .\n",
    "?eur_aggr edm:language 'nl' .\n",
    "\n",
    "OPTIONAL{ ?local_aggr edm:object ?img_url . } .\n",
    "\n",
    "\n",
    "}\n",
    "\n",
    "\"\"\"\n",
    "\n",
    "run_query(query)\n"
   ]
  },
  {
   "cell_type": "markdown",
   "id": "303f0dc4",
   "metadata": {},
   "source": [
    "\n",
    "<a href=\"http://grlc.io/api-git/peterverhaar/sparql_queries/europeana_basic_6?endpoint=http%3A%2F%2Fsparql.europeana.eu%2F\" target=\"_blank\">See the result</a>\n"
   ]
  },
  {
   "cell_type": "code",
   "execution_count": null,
   "id": "599683ab",
   "metadata": {},
   "outputs": [],
   "source": []
  }
 ],
 "metadata": {
  "kernelspec": {
   "display_name": "Python 3 (ipykernel)",
   "language": "python",
   "name": "python3"
  },
  "language_info": {
   "codemirror_mode": {
    "name": "ipython",
    "version": 3
   },
   "file_extension": ".py",
   "mimetype": "text/x-python",
   "name": "python",
   "nbconvert_exporter": "python",
   "pygments_lexer": "ipython3",
   "version": "3.7.9"
  }
 },
 "nbformat": 4,
 "nbformat_minor": 5
}
