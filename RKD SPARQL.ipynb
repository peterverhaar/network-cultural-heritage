{
 "cells": [
  {
   "cell_type": "markdown",
   "metadata": {},
   "source": [
    "# RKD Artists"
   ]
  },
  {
   "cell_type": "markdown",
   "metadata": {},
   "source": [
    "## Number of female artists"
   ]
  },
  {
   "cell_type": "code",
   "execution_count": 20,
   "metadata": {},
   "outputs": [],
   "source": [
    "from SPARQLWrapper import SPARQLWrapper, JSON\n",
    "\n",
    "endpoint = 'https://api.data.netwerkdigitaalerfgoed.nl/datasets/rkd/rkdartists/services/rkdartists-jena/sparql'\n",
    "query = \"\"\"\n",
    "PREFIX rdf: <http://www.w3.org/1999/02/22-rdf-syntax-ns#>\n",
    "PREFIX rdfs: <http://www.w3.org/2000/01/rdf-schema#>\n",
    "PREFIX rkdo: <http://data.rkd.nl/def#>\n",
    "PREFIX schema: <http://schema.org/>\n",
    "PREFIX xsd: <http://www.w3.org/2001/XMLSchema#>\n",
    "\n",
    "SELECT ?id ?name ?gender ?date_birth ?date_death\n",
    "\n",
    "WHERE {\n",
    "?id a schema:Person .\n",
    "?id schema:name ?name .\n",
    "?id schema:gender ?gender .\n",
    "?id rkdo:Birth ?birth .\n",
    "OPTIONAL {\n",
    "    ?birth schema:startDate ?date_birth . } .\n",
    "?id rkdo:Death ?death .\n",
    "OPTIONAL {\n",
    "    ?death schema:startDate ?date_death . } .\n",
    "    \n",
    "FILTER ( ?date_birth >= \"1800-01-01\"^^xsd:date && ?date_birth < \"1900-01-01\"^^xsd:date)\n",
    "\n",
    "}\n",
    "ORDER BY ?name\n",
    "\"\"\"\n",
    "\n",
    "\n",
    "sparql = SPARQLWrapper(endpoint)\n",
    "sparql.setQuery(query)\n",
    "sparql.setReturnFormat(JSON)\n",
    "data = sparql.query().convert()\n"
   ]
  },
  {
   "cell_type": "code",
   "execution_count": 21,
   "metadata": {},
   "outputs": [
    {
     "name": "stdout",
     "output_type": "stream",
     "text": [
      "There are 31059 artists in this dataset.\n",
      "There are 2951 female artists and 28105 male artists in this dataset.\n"
     ]
    }
   ],
   "source": [
    "import pandas as pd\n",
    "import numpy as np \n",
    "\n",
    "df = pd.json_normalize(data['results']['bindings'])   \n",
    "\n",
    "print( f'There are {df.shape[0]} artists in this dataset.' )\n",
    "\n",
    "## add column 'decade'\n",
    "df['year'] = pd.DatetimeIndex(df['date_birth.value']).year\n",
    "df['decade'] = df['year'] / 10\n",
    "df['decade'] = np.floor(df['decade']).astype(int) * 10\n",
    "\n",
    "\n",
    "female = df[ df['gender.value'] == 'http://schema.org/Female']\n",
    "male = df[ df['gender.value'] == 'http://schema.org/Male']\n",
    "\n",
    "\n",
    "print( f'There are {female.shape[0]} female artists and {male.shape[0]} male artists in this dataset.' )\n",
    "\n",
    "counts = female.groupby('decade').size()\n",
    "counts = counts.to_frame()\n"
   ]
  },
  {
   "cell_type": "code",
   "execution_count": 22,
   "metadata": {},
   "outputs": [
    {
     "name": "stdout",
     "output_type": "stream",
     "text": [
      "Louise (Queen of Denmark)\n",
      "https://data.rkd.nl/artists/275368\n",
      "Victoria (Queen of Great-Britain and Ireland)\n",
      "https://data.rkd.nl/artists/80887\n",
      "Wilhelmina (Queen of the Netherlands)\n",
      "https://data.rkd.nl/artists/84533\n",
      "Aafjes, Sijtje\n",
      "https://data.rkd.nl/artists/15\n",
      "Aagen Moro, Tai\n",
      "https://data.rkd.nl/artists/126561\n",
      "Aarem, Pauline van\n",
      "https://data.rkd.nl/artists/58\n",
      "Abbott, Berenice\n",
      "https://data.rkd.nl/artists/124341\n",
      "Abbéma, Louise\n",
      "https://data.rkd.nl/artists/122\n",
      "Abeleven, Henrica\n",
      "https://data.rkd.nl/artists/112023\n",
      "Abeloos, Sonia\n",
      "https://data.rkd.nl/artists/184\n",
      "Abels-d'Albert, Erika\n",
      "https://data.rkd.nl/artists/341242\n",
      "Abels-van Os, Cornelia Johanna\n",
      "https://data.rkd.nl/artists/492508\n",
      "Abrahams, Anna\n",
      "https://data.rkd.nl/artists/227\n",
      "Abresch, Annie\n",
      "https://data.rkd.nl/artists/245\n",
      "Achelis, Elisabeth\n",
      "https://data.rkd.nl/artists/448366\n",
      "Acheson Wallace, Lila\n",
      "https://data.rkd.nl/artists/438828\n",
      "Acheson, Alice\n",
      "https://data.rkd.nl/artists/103253\n",
      "Achille-Fould, Georges\n",
      "https://data.rkd.nl/artists/109998\n",
      "Adam, Emmy\n",
      "https://data.rkd.nl/artists/341\n",
      "Adam-Laurens, Nanny\n",
      "https://data.rkd.nl/artists/110000\n",
      "Adamse, Tanna Maria\n",
      "https://data.rkd.nl/artists/418\n",
      "Addicks, Henriëtte\n",
      "https://data.rkd.nl/artists/435\n",
      "Ade, Mathilde\n",
      "https://data.rkd.nl/artists/341354\n",
      "Adelborg, Ottilia\n",
      "https://data.rkd.nl/artists/92379\n",
      "Adelsbergen, Jetje van\n",
      "https://data.rkd.nl/artists/447297\n",
      "Adelsbergen, Rebekka van\n",
      "https://data.rkd.nl/artists/447299\n",
      "Adie, Edith Helena\n",
      "https://data.rkd.nl/artists/466\n",
      "Adlersparre, Sofia\n",
      "https://data.rkd.nl/artists/479\n",
      "Adriani, Johanna Petronella\n",
      "https://data.rkd.nl/artists/537\n",
      "Adriani-Hovy, Elisabeth\n",
      "https://data.rkd.nl/artists/40128\n",
      "Aemisegger-Giezendanner, Anna Barbara\n",
      "https://data.rkd.nl/artists/483750\n",
      "Aerssen Beijeren van Voshol, Albertine Nicolette Wilhelmine van\n",
      "https://data.rkd.nl/artists/428738\n",
      "Agar, Eileen\n",
      "https://data.rkd.nl/artists/628\n",
      "Aguirre, Susana\n",
      "https://data.rkd.nl/artists/234514\n",
      "Agutte, Georgette\n",
      "https://data.rkd.nl/artists/709\n",
      "Ahrens, Henriquetta\n",
      "https://data.rkd.nl/artists/112027\n",
      "Ailly, Ragnhild d'\n",
      "https://data.rkd.nl/artists/743\n",
      "Airy, Anna\n",
      "https://data.rkd.nl/artists/751\n",
      "Albee, Grace Thurston\n",
      "https://data.rkd.nl/artists/448385\n",
      "Alberda van Ekenstein, Bunna\n",
      "https://data.rkd.nl/artists/360076\n",
      "Albers, Anni\n",
      "https://data.rkd.nl/artists/131479\n",
      "Albert-Lasard, Lou\n",
      "https://data.rkd.nl/artists/110134\n",
      "Albin Guillot, Laure\n",
      "https://data.rkd.nl/artists/286329\n",
      "Albuquerque, Georgina de Moura Andrade\n",
      "https://data.rkd.nl/artists/362509\n",
      "Alciati, Evangelina Gemma\n",
      "https://data.rkd.nl/artists/131044\n",
      "Alderwerelt van Rosenburgh, Jettie van\n",
      "https://data.rkd.nl/artists/374303\n",
      "Alice Maud Mary (Princess) Grand Duchess of Hesse and by Rhine\n",
      "https://data.rkd.nl/artists/1131\n",
      "Allan, Jane Dinapore\n",
      "https://data.rkd.nl/artists/447333\n",
      "Allen, Marion Boyd\n",
      "https://data.rkd.nl/artists/103290\n",
      "Allingham, Helen\n",
      "https://data.rkd.nl/artists/1243\n",
      "Almquist, Ester\n",
      "https://data.rkd.nl/artists/461958\n",
      "Alphen, Leonore van\n",
      "https://data.rkd.nl/artists/368666\n",
      "Alphen, Tony van\n",
      "https://data.rkd.nl/artists/360211\n",
      "Alphen-Hovy, Louise van\n",
      "https://data.rkd.nl/artists/439805\n",
      "Ameringen, Bertha van\n",
      "https://data.rkd.nl/artists/112039\n",
      "Amesz, Nans\n",
      "https://data.rkd.nl/artists/1531\n",
      "Amon, Rosalia\n",
      "https://data.rkd.nl/artists/1563\n",
      "Amorie van der Hoeven, Jacoba des\n",
      "https://data.rkd.nl/artists/421447\n",
      "Amstel, Cornelia van\n",
      "https://data.rkd.nl/artists/349189\n",
      "Ancher, Anna\n",
      "https://data.rkd.nl/artists/1605\n",
      "Ancher, Helga\n",
      "https://data.rkd.nl/artists/461961\n",
      "Anderson Miltner, Christina Antonia\n",
      "https://data.rkd.nl/artists/354542\n",
      "Anderson Miltner, Wilhelmina Johanna Reiniera\n",
      "https://data.rkd.nl/artists/354544\n",
      "Andreasen, Signe\n",
      "https://data.rkd.nl/artists/1734\n",
      "Andrews, Lilian\n",
      "https://data.rkd.nl/artists/1766\n",
      "Andringa, Hil\n",
      "https://data.rkd.nl/artists/1819\n",
      "Anema, Lolkje\n",
      "https://data.rkd.nl/artists/104667\n",
      "Angiboult, François\n",
      "https://data.rkd.nl/artists/360208\n",
      "Ankum-ten Oever, Ida Johanna van\n",
      "https://data.rkd.nl/artists/1940\n",
      "Annaly\n",
      "https://data.rkd.nl/artists/100502\n",
      "Ansingh, Lizzy\n",
      "https://data.rkd.nl/artists/2020\n",
      "Antonia Maria van Portugal\n",
      "https://data.rkd.nl/artists/104734\n",
      "Apoil, Suzanne-Estelle\n",
      "https://data.rkd.nl/artists/111082\n",
      "Appel, Joanne\n",
      "https://data.rkd.nl/artists/2206\n",
      "Arbey, Mathilde\n",
      "https://data.rkd.nl/artists/351750\n",
      "Ardisonne, Yolande\n",
      "https://data.rkd.nl/artists/110578\n",
      "Arend, Digna Johanna Maria van den\n",
      "https://data.rkd.nl/artists/112054\n",
      "Arendsen, Arentina Hendrica\n",
      "https://data.rkd.nl/artists/2352\n",
      "Arens-Tepe, Toni\n",
      "https://data.rkd.nl/artists/381363\n",
      "Arnberg, Elise\n",
      "https://data.rkd.nl/artists/461975\n",
      "Arnell, Alma\n",
      "https://data.rkd.nl/artists/461976\n",
      "Arnhardt-Deininger, Gabriele\n",
      "https://data.rkd.nl/artists/341534\n",
      "Arnsburg, Marie\n",
      "https://data.rkd.nl/artists/131245\n",
      "Arregui, Romana\n",
      "https://data.rkd.nl/artists/129792\n",
      "Arrighi, Romilda\n",
      "https://data.rkd.nl/artists/362415\n",
      "Arriëns, Jeanne Frédérique\n",
      "https://data.rkd.nl/artists/107078\n",
      "Arson, Olympe\n",
      "https://data.rkd.nl/artists/110593\n",
      "Art, Berthe\n",
      "https://data.rkd.nl/artists/2611\n",
      "Arzoni, Toni\n",
      "https://data.rkd.nl/artists/2667\n",
      "Ashburnham, Catherine (lady)\n",
      "https://data.rkd.nl/artists/443651\n",
      "Asscher, Henriëtte\n",
      "https://data.rkd.nl/artists/2750\n",
      "Astaldi, Maria Luisa\n",
      "https://data.rkd.nl/artists/443465\n",
      "Atteslander, Sofie\n",
      "https://data.rkd.nl/artists/120652\n",
      "Attinger, Lucie\n",
      "https://data.rkd.nl/artists/125146\n",
      "Attwell, Mabel Lucie\n",
      "https://data.rkd.nl/artists/2876\n",
      "Atwood, Clare\n",
      "https://data.rkd.nl/artists/2879\n",
      "Auegg-Dilg, Eleonore\n",
      "https://data.rkd.nl/artists/345032\n",
      "Auerbach, Edith\n",
      "https://data.rkd.nl/artists/252513\n",
      "Auerbach, Erna\n",
      "https://data.rkd.nl/artists/2931\n",
      "Auersperg, Marie (Gräfin)\n",
      "https://data.rkd.nl/artists/341739\n",
      "Aufeldt, Esther\n",
      "https://data.rkd.nl/artists/207959\n",
      "Aulnis de Bourouill, Anna Maria Louisa d'\n",
      "https://data.rkd.nl/artists/91989\n",
      "Baanders, Tine\n",
      "https://data.rkd.nl/artists/3185\n",
      "Baaren, Josephina van\n",
      "https://data.rkd.nl/artists/440704\n",
      "Baaren-Ruysenaars, Truida\n",
      "https://data.rkd.nl/artists/93928\n",
      "Bach, Else\n",
      "https://data.rkd.nl/artists/212329\n",
      "Backer, Harriet\n",
      "https://data.rkd.nl/artists/3391\n",
      "Bacon, Peggy\n",
      "https://data.rkd.nl/artists/3441\n",
      "Baczko, Margarete von\n",
      "https://data.rkd.nl/artists/215232\n",
      "Baer-von Mathes, Carola\n",
      "https://data.rkd.nl/artists/212713\n",
      "Bagge, Eva\n",
      "https://data.rkd.nl/artists/3558\n",
      "Bailly, Alice\n",
      "https://data.rkd.nl/artists/3625\n",
      "Bake, Bertha\n",
      "https://data.rkd.nl/artists/3666\n",
      "Bake, Mia\n",
      "https://data.rkd.nl/artists/3667\n",
      "Baker, Gladys Marguerite\n",
      "https://data.rkd.nl/artists/133255\n",
      "Baker, Martha Susan\n",
      "https://data.rkd.nl/artists/103417\n",
      "Bakker-Brousson, Anna\n",
      "https://data.rkd.nl/artists/3759\n",
      "Balacescu, Lucia Demetriade\n",
      "https://data.rkd.nl/artists/347234\n",
      "Balbian Verster-Bolderhey, Rie de\n",
      "https://data.rkd.nl/artists/3963\n",
      "Baldwin, Winifred B.\n",
      "https://data.rkd.nl/artists/103422\n",
      "Ball-Demont, Adrienne-Elodie-Clémence\n",
      "https://data.rkd.nl/artists/110899\n",
      "Balwé, Constantia Arnolda\n",
      "https://data.rkd.nl/artists/4136\n",
      "Balwé-Staimmer, Elisabeth\n",
      "https://data.rkd.nl/artists/305607\n",
      "Ban, Elizabeth Frederika van der\n",
      "https://data.rkd.nl/artists/4154\n",
      "Banco, Alma del\n",
      "https://data.rkd.nl/artists/355715\n",
      "Bandell, Eugenie Luise\n",
      "https://data.rkd.nl/artists/341851\n",
      "Bander, Léonie\n",
      "https://data.rkd.nl/artists/4172\n",
      "Bang, Vilhelmine\n",
      "https://data.rkd.nl/artists/269723\n",
      "Barakovich, Edith\n",
      "https://data.rkd.nl/artists/399599\n",
      "Barbakoff, Tatjana\n",
      "https://data.rkd.nl/artists/436468\n",
      "Barbaud-Koch, Marie-Elisabeth-Marthe\n",
      "https://data.rkd.nl/artists/119430\n",
      "Barbiers, Maria Geertruida\n",
      "https://data.rkd.nl/artists/32339\n",
      "Bardon, Elisabeth\n",
      "https://data.rkd.nl/artists/110923\n",
      "Barker, Cicely Mary\n",
      "https://data.rkd.nl/artists/4480\n",
      "Barnekow, Brita\n",
      "https://data.rkd.nl/artists/462048\n",
      "Barney, Alice Pike\n",
      "https://data.rkd.nl/artists/4554\n",
      "Barosso, Maria\n",
      "https://data.rkd.nl/artists/435682\n",
      "Bartels, Wera von\n",
      "https://data.rkd.nl/artists/4713\n",
      "Bartholomew, Anne Charlotte (Mrs)\n",
      "https://data.rkd.nl/artists/4757\n",
      "Barthélemy, Camille\n",
      "https://data.rkd.nl/artists/4744\n",
      "Barthélemy-Kronenberg, Maaike Adriana\n",
      "https://data.rkd.nl/artists/46548\n",
      "Bary-Doussin, Jenny von\n",
      "https://data.rkd.nl/artists/433049\n",
      "Bas Backer, Julia Elisabeth\n",
      "https://data.rkd.nl/artists/4833\n",
      "Bashkirtseff, Marie-Konstantinowna\n",
      "https://data.rkd.nl/artists/4873\n",
      "Bass, Anna Julie\n",
      "https://data.rkd.nl/artists/209773\n",
      "Bassecour Caan, Herbertina Benedicta de la\n",
      "https://data.rkd.nl/artists/4910\n",
      "Bassecour Caan, Jeannette de la\n",
      "https://data.rkd.nl/artists/4911\n",
      "Batelt, Anna Elisabeth\n",
      "https://data.rkd.nl/artists/118665\n",
      "Battenberg, Mathilde Luise\n",
      "https://data.rkd.nl/artists/216174\n",
      "Battié, Claire\n",
      "https://data.rkd.nl/artists/125261\n",
      "Bauck, Jeanna Maria Charlotta\n",
      "https://data.rkd.nl/artists/269729\n",
      "Baudot, Jeanne\n",
      "https://data.rkd.nl/artists/110969\n",
      "Bauer, Jo\n",
      "https://data.rkd.nl/artists/75941\n",
      "Bauer, Marie\n",
      "https://data.rkd.nl/artists/307950\n",
      "Bauer-Pezellen, Tina\n",
      "https://data.rkd.nl/artists/346630\n",
      "Baumann, Cornelia\n",
      "https://data.rkd.nl/artists/5153\n",
      "Baume, Bertha de la\n",
      "https://data.rkd.nl/artists/5158\n",
      "Beaubois de Montoriol, Isabel\n",
      "https://data.rkd.nl/artists/5328\n",
      "Beaufort, Anna Aleida de\n",
      "https://data.rkd.nl/artists/353018\n",
      "Becht, Marie\n",
      "https://data.rkd.nl/artists/5418\n",
      "Beck, Alice\n",
      "https://data.rkd.nl/artists/483141\n",
      "Beck, Julia\n",
      "https://data.rkd.nl/artists/269749\n",
      "Beckenrath Glusenkamp, Sophia Maria von\n",
      "https://data.rkd.nl/artists/364755\n",
      "Becker, Anna Maria\n",
      "https://data.rkd.nl/artists/5456\n",
      "Beckington, Alice\n",
      "https://data.rkd.nl/artists/103514\n",
      "Beckmann, Johanna\n",
      "https://data.rkd.nl/artists/217300\n",
      "Beckmann, Minna Frieda Helene\n",
      "https://data.rkd.nl/artists/217305\n",
      "Beeck Calkoen, Isabella van\n",
      "https://data.rkd.nl/artists/5587\n",
      "Beek, Louise Marie Françoise van der\n",
      "https://data.rkd.nl/artists/5663\n",
      "Beekhuis, Geesje Houdijn\n",
      "https://data.rkd.nl/artists/5712\n",
      "Beelaerts van Blokland de la Court, Claire\n",
      "https://data.rkd.nl/artists/5745\n",
      "Beelaerts van Blokland, Maria Johanna Jacoba Gerardina\n",
      "https://data.rkd.nl/artists/5747\n",
      "Beer Poortugael, Catharina Louisa den\n",
      "https://data.rkd.nl/artists/5825\n",
      "Beer-Walbrunn, Ida\n",
      "https://data.rkd.nl/artists/213710\n",
      "Beerding, Alida\n",
      "https://data.rkd.nl/artists/448069\n",
      "Beerenborg, Anna\n",
      "https://data.rkd.nl/artists/5838\n",
      "Beernaert, Euphrosine\n",
      "https://data.rkd.nl/artists/5863\n",
      "Beers, Maria Cornelia Wilhelmina\n",
      "https://data.rkd.nl/artists/448071\n",
      "Begas-Parmentier, Luise\n",
      "https://data.rkd.nl/artists/5943\n",
      "Beggrow-Hartmann, Olga\n",
      "https://data.rkd.nl/artists/342015\n",
      "Behnisch, Hedwig\n",
      "https://data.rkd.nl/artists/51467\n",
      "Behrend, Katharina\n",
      "https://data.rkd.nl/artists/5990\n",
      "Behrend-Croiset van der Kop, Johanna\n",
      "https://data.rkd.nl/artists/5989\n",
      "Beijerman, Louise\n",
      "https://data.rkd.nl/artists/6013\n",
      "Bekker vom Rath, Hanna\n",
      "https://data.rkd.nl/artists/213735\n",
      "Beklemicheff, Cléo\n",
      "https://data.rkd.nl/artists/483191\n",
      "Bekouw, Monique\n",
      "https://data.rkd.nl/artists/6097\n",
      "Bell, Vanessa\n",
      "https://data.rkd.nl/artists/6184\n",
      "Bellaart, Maria\n",
      "https://data.rkd.nl/artists/421493\n",
      "Benczúr, Ida Dolányi\n",
      "https://data.rkd.nl/artists/310362\n",
      "Bender, Ilse\n",
      "https://data.rkd.nl/artists/6429\n",
      "Bendixsen, Elna\n",
      "https://data.rkd.nl/artists/218089\n",
      "Benjamin, Nora\n",
      "https://data.rkd.nl/artists/104912\n",
      "Benois, Nadia\n",
      "https://data.rkd.nl/artists/6577\n",
      "Benson, Tressa Emerson\n",
      "https://data.rkd.nl/artists/103539\n",
      "Bentheim und Steinfurt, Elisabeth zu\n",
      "https://data.rkd.nl/artists/483257\n",
      "Bentinck, Anna\n",
      "https://data.rkd.nl/artists/6649\n",
      "Berber-Credner, Hede\n",
      "https://data.rkd.nl/artists/213796\n",
      "Berch van Heemstede, Cécile Gertrude van den\n",
      "https://data.rkd.nl/artists/6724\n",
      "Berck Weinhagen, Hendrina Hermina van\n",
      "https://data.rkd.nl/artists/364901\n",
      "Berckel-Groeneveld, Truus van\n",
      "https://data.rkd.nl/artists/6739\n",
      "Berckholtz, Alexandra van\n",
      "https://data.rkd.nl/artists/213802\n",
      "Berend-Corinth, Charlotte\n",
      "https://data.rkd.nl/artists/6760\n",
      "Beresford, Louisa de la Poer (Marchioness of Waterford)\n",
      "https://data.rkd.nl/artists/6808\n",
      "Bereskine, Paraskewe\n",
      "https://data.rkd.nl/artists/121288\n",
      "Berg, Annette Elisabeth van den\n",
      "https://data.rkd.nl/artists/368852\n",
      "Berg, Ans van den\n",
      "https://data.rkd.nl/artists/6833\n",
      "Berg, Betzy Rezora\n",
      "https://data.rkd.nl/artists/6848\n",
      "Berg, Else\n",
      "https://data.rkd.nl/artists/6873\n",
      "Berg, Jitske van den\n",
      "https://data.rkd.nl/artists/448103\n",
      "Berger, Grete\n",
      "https://data.rkd.nl/artists/342065\n",
      "Bergh van Heinenoord, Antonie Ida van den\n",
      "https://data.rkd.nl/artists/368895\n",
      "Bergh, Elisabeth Mathea\n",
      "https://data.rkd.nl/artists/269812\n"
     ]
    },
    {
     "name": "stdout",
     "output_type": "stream",
     "text": [
      "Bergmann-Michel, Ella\n",
      "https://data.rkd.nl/artists/7234\n",
      "Bergöö, Karin\n",
      "https://data.rkd.nl/artists/303066\n",
      "Berlage, Anna Catherina\n",
      "https://data.rkd.nl/artists/7381\n",
      "Bernhardt, Sarah\n",
      "https://data.rkd.nl/artists/209830\n",
      "Bernstein, Anna\n",
      "https://data.rkd.nl/artists/361873\n",
      "Bernstein-Neuhaus, Martha\n",
      "https://data.rkd.nl/artists/342099\n",
      "Beroldingen, Maria von (Gräfin)\n",
      "https://data.rkd.nl/artists/342103\n",
      "Berrhagorry-Suair, Gabrielle\n",
      "https://data.rkd.nl/artists/105027\n",
      "Bertaux, Léon\n",
      "https://data.rkd.nl/artists/209867\n",
      "Berthoud, Blanche\n",
      "https://data.rkd.nl/artists/125298\n",
      "Bertoletti Marcelli, Pasquarosa\n",
      "https://data.rkd.nl/artists/490086\n",
      "Bertram-Conradi, Lis\n",
      "https://data.rkd.nl/artists/342157\n",
      "Berwerth, Laura Helmtraut\n",
      "https://data.rkd.nl/artists/342159\n",
      "Besier, Johanna Henriëtte\n",
      "https://data.rkd.nl/artists/7725\n",
      "Beskow, Elsa\n",
      "https://data.rkd.nl/artists/301835\n",
      "Besso, Amalia\n",
      "https://data.rkd.nl/artists/7761\n",
      "Beusekom, Johanna Nicoleta Jacoba van\n",
      "https://data.rkd.nl/artists/297703\n",
      "Bever de la Quintinie, Marguerite van\n",
      "https://data.rkd.nl/artists/105220\n",
      "Bevin, Alice Conklin\n",
      "https://data.rkd.nl/artists/103583\n",
      "Bewig, Käthe\n",
      "https://data.rkd.nl/artists/121093\n",
      "Beyer, Lo\n",
      "https://data.rkd.nl/artists/311264\n",
      "Beyma, Tilly van\n",
      "https://data.rkd.nl/artists/7997\n",
      "Beynon, Suzon\n",
      "https://data.rkd.nl/artists/7999\n",
      "Bieber, Elisabeth\n",
      "https://data.rkd.nl/artists/483324\n",
      "Biedermann-Arendts, Hermine\n",
      "https://data.rkd.nl/artists/8128\n",
      "Biegman, Lili\n",
      "https://data.rkd.nl/artists/8132\n",
      "Biel, Antonie\n",
      "https://data.rkd.nl/artists/342185\n",
      "Biema, Carry van\n",
      "https://data.rkd.nl/artists/266619\n",
      "Bierens de Haan-Philipse, Françoise Isabella Henriëtte\n",
      "https://data.rkd.nl/artists/8174\n",
      "Biermann, Aenne\n",
      "https://data.rkd.nl/artists/221548\n",
      "Bieruma Oosting, Jeanne\n",
      "https://data.rkd.nl/artists/8203\n",
      "Biezen, Elisabeth Julia\n",
      "https://data.rkd.nl/artists/362840\n",
      "Bijsterveld, Leonora Johanna van\n",
      "https://data.rkd.nl/artists/8356\n",
      "Bijtelaar, Bep\n",
      "https://data.rkd.nl/artists/8362\n",
      "Bijtelaar-van Schooten, Willemien\n",
      "https://data.rkd.nl/artists/8363\n",
      "Bijvoet, Agnes\n",
      "https://data.rkd.nl/artists/235688\n",
      "Bik, Elli\n",
      "https://data.rkd.nl/artists/8378\n",
      "Bilderdijk, Agatha Wilhelmina\n",
      "https://data.rkd.nl/artists/231447\n",
      "Bilders-van Bosse, Marie\n",
      "https://data.rkd.nl/artists/11177\n",
      "Billing, Marie\n",
      "https://data.rkd.nl/artists/342198\n",
      "Bindtner, Berta\n",
      "https://data.rkd.nl/artists/368954\n",
      "Bing, Ilse\n",
      "https://data.rkd.nl/artists/222162\n",
      "Birat, Amélie\n",
      "https://data.rkd.nl/artists/8533\n",
      "Bird Bishop, Isabella Lucy\n",
      "https://data.rkd.nl/artists/383646\n",
      "Birnie Philip, Rosalind\n",
      "https://data.rkd.nl/artists/448657\n",
      "Birrius van Harlingen, Sophie Geertruida de\n",
      "https://data.rkd.nl/artists/36049\n",
      "Bisi, Fulvia\n",
      "https://data.rkd.nl/artists/256438\n",
      "Bisschoff, Susanna Maria\n",
      "https://data.rkd.nl/artists/448184\n",
      "Bisschop, Sara\n",
      "https://data.rkd.nl/artists/8650\n",
      "Bisschop-Swift, Kate\n",
      "https://data.rkd.nl/artists/90609\n",
      "Bizet, Andrée\n",
      "https://data.rkd.nl/artists/111445\n",
      "Bizony, Akosné\n",
      "https://data.rkd.nl/artists/331839\n",
      "Blaauw, Marie Antoinette de\n",
      "https://data.rkd.nl/artists/8747\n",
      "Blaauw-Moehr, A.E.B.\n",
      "https://data.rkd.nl/artists/8750\n",
      "Blanchard, María\n",
      "https://data.rkd.nl/artists/8853\n",
      "Bland, Emily Beatrice\n",
      "https://data.rkd.nl/artists/8870\n",
      "Blau, Tina\n",
      "https://data.rkd.nl/artists/8933\n",
      "Bleeker, Maria Anna\n",
      "https://data.rkd.nl/artists/8968\n",
      "Blersch, Marianna Antoinette\n",
      "https://data.rkd.nl/artists/461694\n",
      "Bleuland van Oordt, Adri\n",
      "https://data.rkd.nl/artists/9021\n",
      "Bleuland van Oordt, Johanna\n",
      "https://data.rkd.nl/artists/9022\n",
      "Blijdenstein, Christina Alida\n",
      "https://data.rkd.nl/artists/9050\n",
      "Bloch-Bauer, Adele\n",
      "https://data.rkd.nl/artists/440001\n",
      "Blommestein, Louise Alice Andrine van\n",
      "https://data.rkd.nl/artists/9304\n",
      "Blondel, Elisa\n",
      "https://data.rkd.nl/artists/111510\n",
      "Blunt, Anne\n",
      "https://data.rkd.nl/artists/223492\n",
      "Boas-Zélander, Maria C.\n",
      "https://data.rkd.nl/artists/9415\n",
      "Boberg, Anna\n",
      "https://data.rkd.nl/artists/9426\n",
      "Boch, Anna\n",
      "https://data.rkd.nl/artists/9452\n",
      "Bochoráková, Helena\n",
      "https://data.rkd.nl/artists/359863\n",
      "Bock, Hansl\n",
      "https://data.rkd.nl/artists/312700\n",
      "Bodenheim, Nelly\n",
      "https://data.rkd.nl/artists/9547\n",
      "Bodmer-Beck, Anny\n",
      "https://data.rkd.nl/artists/253025\n",
      "Boeke, Cornelia\n",
      "https://data.rkd.nl/artists/362467\n",
      "Boekeren, Anna Catharina van\n",
      "https://data.rkd.nl/artists/362471\n",
      "Boekhoven-Leydenroth, Adriana Johanna van\n",
      "https://data.rkd.nl/artists/309516\n",
      "Boelen, Aletta\n",
      "https://data.rkd.nl/artists/9650\n",
      "Boelen, Caroline\n",
      "https://data.rkd.nl/artists/362482\n",
      "Boellaard, Corrie\n",
      "https://data.rkd.nl/artists/9660\n",
      "Boemm, Ritta\n",
      "https://data.rkd.nl/artists/9668\n",
      "Boendermaker-Schoenmaker, Marie\n",
      "https://data.rkd.nl/artists/355591\n",
      "Boer, Cor de\n",
      "https://data.rkd.nl/artists/109147\n",
      "Boer, Johanna (1884-1978)\n",
      "https://data.rkd.nl/artists/461718\n",
      "Boer, Margo de\n",
      "https://data.rkd.nl/artists/9745\n",
      "Boers, Maria Anna Theodora\n",
      "https://data.rkd.nl/artists/108081\n",
      "Boevé, Gesina\n",
      "https://data.rkd.nl/artists/9864\n",
      "Bogtman, Cathrien\n",
      "https://data.rkd.nl/artists/105167\n",
      "Boissevain, Marguérite Elisabeth\n",
      "https://data.rkd.nl/artists/339781\n",
      "Boks, Grada Jacoba Wilhelmina\n",
      "https://data.rkd.nl/artists/120766\n",
      "Bolken, Pauline\n",
      "https://data.rkd.nl/artists/374479\n",
      "Bompiani-Battaglia, Clelia\n",
      "https://data.rkd.nl/artists/246887\n",
      "Bonaparte, Princesse Mathilde\n",
      "https://data.rkd.nl/artists/10266\n",
      "Bonelli, Guiseppina\n",
      "https://data.rkd.nl/artists/10313\n",
      "Bonfils, Lydia\n",
      "https://data.rkd.nl/artists/387745\n",
      "Bonheur, Juliette\n",
      "https://data.rkd.nl/artists/63078\n",
      "Bonheur, Rosa\n",
      "https://data.rkd.nl/artists/10349\n",
      "Bonte, Paula\n",
      "https://data.rkd.nl/artists/10457\n",
      "Bontjes van Beek, Olga\n",
      "https://data.rkd.nl/artists/254696\n",
      "Bontkes, Jantjen\n",
      "https://data.rkd.nl/artists/107820\n",
      "Booij, Adrienne Johanna de\n",
      "https://data.rkd.nl/artists/362842\n",
      "Boom-Fransen, Tina\n",
      "https://data.rkd.nl/artists/29179\n",
      "Booms, Wilhelmine Christine Gerardine\n",
      "https://data.rkd.nl/artists/10544\n",
      "Boon Hartsinck, Elisabeth Henriette Wilhelmina\n",
      "https://data.rkd.nl/artists/362830\n",
      "Bordat, Josephine Eva Cornelia\n",
      "https://data.rkd.nl/artists/367264\n",
      "Boreel, Wendela\n",
      "https://data.rkd.nl/artists/115250\n",
      "Bormann, Emma\n",
      "https://data.rkd.nl/artists/342618\n",
      "Borselen, Helena Maria van\n",
      "https://data.rkd.nl/artists/10854\n",
      "Borzino, Elda\n",
      "https://data.rkd.nl/artists/365159\n",
      "Bosch Kemper, Jeltje de\n",
      "https://data.rkd.nl/artists/419081\n",
      "Bosch Reitz, Minca\n",
      "https://data.rkd.nl/artists/11048\n",
      "Bosch, Lena ten\n",
      "https://data.rkd.nl/artists/11033\n",
      "Boscowitz, Alice\n",
      "https://data.rkd.nl/artists/340834\n",
      "Bosscha, Jacoba\n",
      "https://data.rkd.nl/artists/11145\n",
      "Bosse, Theodora Jacoba van\n",
      "https://data.rkd.nl/artists/362907\n",
      "Both, Hendrica Johanna de\n",
      "https://data.rkd.nl/artists/439609\n",
      "Botke, Jessie Arms\n",
      "https://data.rkd.nl/artists/103706\n",
      "Botti Scifoni, Ida\n",
      "https://data.rkd.nl/artists/259036\n",
      "Bouillier, Amable\n",
      "https://data.rkd.nl/artists/113832\n",
      "Bouilly, Angèle\n",
      "https://data.rkd.nl/artists/462333\n",
      "Boumphrey, Pauline\n",
      "https://data.rkd.nl/artists/423737\n",
      "Bourge, Hélène Charlotte Juliette\n",
      "https://data.rkd.nl/artists/11503\n",
      "Bourges, Pauline-Elise-Léonide\n",
      "https://data.rkd.nl/artists/11522\n",
      "Bouten, Charlotte\n",
      "https://data.rkd.nl/artists/11578\n",
      "Bouten-Klinkhamer, Elisabeth J.\n",
      "https://data.rkd.nl/artists/11579\n",
      "Bouter, Jet\n",
      "https://data.rkd.nl/artists/108099\n",
      "Bouttenberg, Marie Louise\n",
      "https://data.rkd.nl/artists/461819\n",
      "Bouvier, Berthe\n",
      "https://data.rkd.nl/artists/127132\n",
      "Bouvin, Henriëtte\n",
      "https://data.rkd.nl/artists/11637\n",
      "Bowier, B.J.\n",
      "https://data.rkd.nl/artists/374486\n",
      "Bowier, E.C.\n",
      "https://data.rkd.nl/artists/374488\n",
      "Boznanska, Olga\n",
      "https://data.rkd.nl/artists/11803\n",
      "Bozzini, Candida Luigia\n",
      "https://data.rkd.nl/artists/365219\n",
      "Braakensiek, Grietje\n",
      "https://data.rkd.nl/artists/11821\n",
      "Braakensiek-Dekker, Anna Maria\n",
      "https://data.rkd.nl/artists/11820\n",
      "Bracquemond, Marie\n",
      "https://data.rkd.nl/artists/11882\n",
      "Braeuning, Ida\n",
      "https://data.rkd.nl/artists/461835\n",
      "Brailovskaja, Rimma Nikitchina\n",
      "https://data.rkd.nl/artists/11943\n",
      "Brandenburg-Polster, Dora\n",
      "https://data.rkd.nl/artists/235833\n",
      "Brands, Hélène\n",
      "https://data.rkd.nl/artists/362990\n",
      "Brandt, Elisabeth\n",
      "https://data.rkd.nl/artists/355300\n",
      "Brandt, Lijdia Maria Elisabeth\n",
      "https://data.rkd.nl/artists/421452\n",
      "Brandt, Marianne\n",
      "https://data.rkd.nl/artists/235854\n",
      "Brandts Buijs-van Zijp, Anne\n",
      "https://data.rkd.nl/artists/12098\n",
      "Brantjes, Johanna\n",
      "https://data.rkd.nl/artists/133671\n",
      "Brants, Carolina Sophia\n",
      "https://data.rkd.nl/artists/425568\n",
      "Brate, Fanny Ingeborg Mathilde\n",
      "https://data.rkd.nl/artists/270188\n",
      "Braubach, Ida\n",
      "https://data.rkd.nl/artists/342681\n",
      "Braun, Elisa\n",
      "https://data.rkd.nl/artists/314680\n",
      "Braun, Irene\n",
      "https://data.rkd.nl/artists/363031\n",
      "Braun, Maria\n",
      "https://data.rkd.nl/artists/314691\n",
      "Brauw, Albertine Charlotte Cornelia de\n",
      "https://data.rkd.nl/artists/341159\n",
      "Brauw, Amelia Albertina Mary de\n",
      "https://data.rkd.nl/artists/341158\n",
      "Bredius, Elisabeth\n",
      "https://data.rkd.nl/artists/355302\n",
      "Breems, Alida den\n",
      "https://data.rkd.nl/artists/118914\n",
      "Breijer, Wilhelmina Ottielie Louiza Maria Johanna\n",
      "https://data.rkd.nl/artists/421392\n",
      "Breitschwert, Luise von\n",
      "https://data.rkd.nl/artists/343747\n",
      "Breling, Amalie\n",
      "https://data.rkd.nl/artists/433504\n",
      "Bremer, Frederica Cornelia Aleida\n",
      "https://data.rkd.nl/artists/12338\n",
      "Bremond d'Ars, Yvonne de\n",
      "https://data.rkd.nl/artists/236726\n",
      "Brenot-Abrand, Marie-Jeanne\n",
      "https://data.rkd.nl/artists/113978\n",
      "Breslau, Marie Louise Catherine\n",
      "https://data.rkd.nl/artists/12397\n",
      "Bresslern-Roth, Norbertine von\n",
      "https://data.rkd.nl/artists/12404\n",
      "Brett, Dorothy Eugenie\n",
      "https://data.rkd.nl/artists/12431\n",
      "Breuning, Konstanze von\n",
      "https://data.rkd.nl/artists/215867\n",
      "Breusing, Ima\n",
      "https://data.rkd.nl/artists/215869\n",
      "Brewster, Anna Richards\n",
      "https://data.rkd.nl/artists/12496\n",
      "Brickdale, Eleanor Fortescue\n",
      "https://data.rkd.nl/artists/12535\n",
      "Bridge, Amy\n",
      "https://data.rkd.nl/artists/363152\n",
      "Brigman, Annie W.\n",
      "https://data.rkd.nl/artists/380410\n",
      "Brinckmann, Erna von\n",
      "https://data.rkd.nl/artists/358953\n",
      "Brinkman, Henriette Jeanne Marie\n",
      "https://data.rkd.nl/artists/421457\n",
      "Brockman, Ann\n",
      "https://data.rkd.nl/artists/105183\n",
      "Brodskaya, Nina\n",
      "https://data.rkd.nl/artists/358958\n",
      "Broeckman-Klinkhamer, Adriënne\n",
      "https://data.rkd.nl/artists/12841\n",
      "Broedelet, Hetty\n",
      "https://data.rkd.nl/artists/12771\n",
      "Broekhuizen, Grietje\n",
      "https://data.rkd.nl/artists/461889\n",
      "Broeksmit, Frederika Henriëtte\n",
      "https://data.rkd.nl/artists/12847\n",
      "Broers, Edmée\n",
      "https://data.rkd.nl/artists/12860\n",
      "Broglio, Edita\n",
      "https://data.rkd.nl/artists/238582\n",
      "Brom, Joanna\n",
      "https://data.rkd.nl/artists/12906\n",
      "Bronger, Nell\n",
      "https://data.rkd.nl/artists/122485\n",
      "Bronkhorst, Sophia van\n",
      "https://data.rkd.nl/artists/434481\n",
      "Brouwer, Antoinette\n",
      "https://data.rkd.nl/artists/13042\n",
      "Brown, Catherine Madox\n",
      "https://data.rkd.nl/artists/13159\n",
      "Browne, Margaret Fitzhugh\n",
      "https://data.rkd.nl/artists/103783\n",
      "Browne, Mathilda\n",
      "https://data.rkd.nl/artists/103789\n",
      "Brugman, Til\n",
      "https://data.rkd.nl/artists/13357\n",
      "Bruigom, Greta\n",
      "https://data.rkd.nl/artists/13364\n",
      "Bruin, Annie\n",
      "https://data.rkd.nl/artists/13388\n",
      "Bruinier, Sanne\n",
      "https://data.rkd.nl/artists/122748\n",
      "Bruining, Eva\n",
      "https://data.rkd.nl/artists/122751\n",
      "Bruins, Clara\n",
      "https://data.rkd.nl/artists/122753\n",
      "Brune, Aimée\n",
      "https://data.rkd.nl/artists/13511\n",
      "Brunelli Bonetti, Amalia\n",
      "https://data.rkd.nl/artists/248871\n",
      "Brunner, Anne Henriëtte\n",
      "https://data.rkd.nl/artists/363376\n",
      "Brunton, Violet\n",
      "https://data.rkd.nl/artists/13578\n",
      "Brunton, Winifred Mabel\n",
      "https://data.rkd.nl/artists/13579\n",
      "Bruyn Kops, Maria Cornelia Johanna de\n",
      "https://data.rkd.nl/artists/13657\n",
      "Bruyne-Proos, Mien de\n",
      "https://data.rkd.nl/artists/13681\n",
      "Bub-Halewijn, Jeanette\n",
      "https://data.rkd.nl/artists/111371\n",
      "Bubnova, Barbara\n",
      "https://data.rkd.nl/artists/275743\n",
      "Bucher, Hertha\n",
      "https://data.rkd.nl/artists/433571\n",
      "Budinszky, Minna von\n",
      "https://data.rkd.nl/artists/344031\n",
      "Budtz, Agnes Ottilie\n",
      "https://data.rkd.nl/artists/13839\n",
      "Buhl, Martha\n",
      "https://data.rkd.nl/artists/344099\n",
      "Bulovec, Karla\n",
      "https://data.rkd.nl/artists/306512\n",
      "Burat, Fanny\n",
      "https://data.rkd.nl/artists/106157\n",
      "Burema, Mia\n",
      "https://data.rkd.nl/artists/108155\n",
      "Burg, Petronella Johanna van den\n",
      "https://data.rkd.nl/artists/14151\n",
      "Burger-Hartmann, Sophie\n",
      "https://data.rkd.nl/artists/433654\n",
      "Burgers, Maria Sophia\n",
      "https://data.rkd.nl/artists/14178\n",
      "Burgers-Fleischhacker, Wilhelmina Johanna Françoise\n",
      "https://data.rkd.nl/artists/366085\n",
      "Burkhardt, Hedwig\n"
     ]
    },
    {
     "name": "stdout",
     "output_type": "stream",
     "text": [
      "https://data.rkd.nl/artists/125415\n",
      "Burkhardt, Martha\n",
      "https://data.rkd.nl/artists/483765\n",
      "Burlett, Anna Marguerite Jeanne Jacqueline de\n",
      "https://data.rkd.nl/artists/14267\n",
      "Burns, Margaret Delisle\n",
      "https://data.rkd.nl/artists/14308\n",
      "Bursztijn, Gudes\n",
      "https://data.rkd.nl/artists/461944\n",
      "Butler, Mildred Anne\n",
      "https://data.rkd.nl/artists/14488\n",
      "Buttgereit, Wilhelmine\n",
      "https://data.rkd.nl/artists/344260\n",
      "Buuren Martens, Johanna van\n",
      "https://data.rkd.nl/artists/355303\n",
      "Buuren-de Jonge, Johanna A. Catharina van\n",
      "https://data.rkd.nl/artists/111319\n",
      "Buys, Geertruida Maria\n",
      "https://data.rkd.nl/artists/14556\n",
      "Buyskes, Johanna Helena\n",
      "https://data.rkd.nl/artists/14572\n",
      "Bylandt, Marie Alexandrine Otheline Caroline van\n",
      "https://data.rkd.nl/artists/363546\n",
      "Böhl, Wilhelmina\n",
      "https://data.rkd.nl/artists/9593\n",
      "Böhtlingk, Henriette Anna Geertruida\n",
      "https://data.rkd.nl/artists/414821\n",
      "Böklen, Hilde\n",
      "https://data.rkd.nl/artists/9631\n",
      "Börjesson, Agnes\n",
      "https://data.rkd.nl/artists/10796\n",
      "Büchmann, Helene\n",
      "https://data.rkd.nl/artists/344021\n",
      "Büchmann, Valeska\n",
      "https://data.rkd.nl/artists/461929\n",
      "Bülow, Agnes von\n",
      "https://data.rkd.nl/artists/13849\n",
      "Bürgin-Turner, Ella\n",
      "https://data.rkd.nl/artists/253326\n",
      "Caesar, Doris\n",
      "https://data.rkd.nl/artists/119497\n",
      "Cahn, Marcelle\n",
      "https://data.rkd.nl/artists/14713\n",
      "Cahun, Claude\n",
      "https://data.rkd.nl/artists/239596\n",
      "Caire-Tonoir, Marie\n",
      "https://data.rkd.nl/artists/114522\n",
      "Calamatta-Rochette, Joséphine\n",
      "https://data.rkd.nl/artists/114524\n",
      "Caland, Carolina Henriëtte\n",
      "https://data.rkd.nl/artists/14750\n",
      "Calcar, Elise van\n",
      "https://data.rkd.nl/artists/440847\n",
      "Callenfels-Carsten, Mies\n",
      "https://data.rkd.nl/artists/14819\n",
      "Calmelet, Hedwig\n",
      "https://data.rkd.nl/artists/108121\n",
      "Calmer, Helena Christina\n",
      "https://data.rkd.nl/artists/363579\n",
      "Cambier van Nooten, Mien\n",
      "https://data.rkd.nl/artists/14923\n",
      "Cambier, Juliette\n",
      "https://data.rkd.nl/artists/14918\n",
      "Cameron, Julia Margaret\n",
      "https://data.rkd.nl/artists/248045\n",
      "Campbell, Colin\n",
      "https://data.rkd.nl/artists/134093\n",
      "Canta, Agnes\n",
      "https://data.rkd.nl/artists/15146\n",
      "Capadose, Jacoba\n",
      "https://data.rkd.nl/artists/363654\n",
      "Carbasius, Fransje\n",
      "https://data.rkd.nl/artists/15269\n",
      "Carbin-Gips, Wilhelmine\n",
      "https://data.rkd.nl/artists/15271\n",
      "Cardon de Montigny, Eglé Charlotte Louise Caroline\n",
      "https://data.rkd.nl/artists/485811\n",
      "Cardon, Kerstin\n",
      "https://data.rkd.nl/artists/462403\n",
      "Carl Nielsen, Anne Marie\n",
      "https://data.rkd.nl/artists/475552\n",
      "Carl, Clara Vilhelmine\n",
      "https://data.rkd.nl/artists/462473\n",
      "Carlier-Vignal, Camille-Marie-Louise\n",
      "https://data.rkd.nl/artists/114763\n",
      "Carlson, Vilhelmina\n",
      "https://data.rkd.nl/artists/462402\n",
      "Carr, Emily\n",
      "https://data.rkd.nl/artists/15545\n",
      "Carrington, Dora\n",
      "https://data.rkd.nl/artists/15611\n",
      "Carré, Gerda\n",
      "https://data.rkd.nl/artists/216360\n",
      "Carsten, Hester\n",
      "https://data.rkd.nl/artists/123358\n",
      "Carstensen, Ebba\n",
      "https://data.rkd.nl/artists/249783\n",
      "Casorati Maugham, Daphne\n",
      "https://data.rkd.nl/artists/489118\n",
      "Caspar-Filser, Maria\n",
      "https://data.rkd.nl/artists/15755\n",
      "Cassatt, Mary\n",
      "https://data.rkd.nl/artists/15776\n",
      "Castaing, Madeleine\n",
      "https://data.rkd.nl/artists/315665\n",
      "Cate, Constantina ten\n",
      "https://data.rkd.nl/artists/363705\n",
      "Catijn, Johanna Barbara\n",
      "https://data.rkd.nl/artists/462077\n",
      "Catz-Enthoven, Saartje Hélène\n",
      "https://data.rkd.nl/artists/422074\n",
      "Cecchi-Pieraccini, Leonetta\n",
      "https://data.rkd.nl/artists/249552\n",
      "Chadwick, Emma\n",
      "https://data.rkd.nl/artists/16229\n",
      "Chanel, Coco\n",
      "https://data.rkd.nl/artists/230936\n",
      "Chapman, Minerva Joséphine\n",
      "https://data.rkd.nl/artists/105369\n",
      "Charlemont, Lilly\n",
      "https://data.rkd.nl/artists/216369\n",
      "Charmy, Emilie\n",
      "https://data.rkd.nl/artists/16455\n",
      "Charrier-Roy, Marguerite\n",
      "https://data.rkd.nl/artists/114983\n",
      "Charsley, Fanny Anne\n",
      "https://data.rkd.nl/artists/487276\n",
      "Chatterton, Clarence K.\n",
      "https://data.rkd.nl/artists/103938\n",
      "Chauvignij de Blot, Margaretha\n",
      "https://data.rkd.nl/artists/363918\n",
      "Chazelles, Nelly de\n",
      "https://data.rkd.nl/artists/448925\n",
      "Cherpin, Alexina\n",
      "https://data.rkd.nl/artists/16587\n",
      "Cheston, Evelyn\n",
      "https://data.rkd.nl/artists/16608\n",
      "Chevallier, Co\n",
      "https://data.rkd.nl/artists/16625\n",
      "Chijs, Meina Jacoba van der\n",
      "https://data.rkd.nl/artists/421505\n",
      "Chodacievich, Valentina Mikhailovna\n",
      "https://data.rkd.nl/artists/16707\n",
      "Christ, Johanna Maria\n",
      "https://data.rkd.nl/artists/16737\n",
      "Christensen, Anthonore\n",
      "https://data.rkd.nl/artists/270457\n",
      "Churberg, Fanny Maria\n",
      "https://data.rkd.nl/artists/16800\n",
      "Chéron, Fanny\n",
      "https://data.rkd.nl/artists/422182\n",
      "Ciardi, Emma\n",
      "https://data.rkd.nl/artists/16831\n",
      "Ciardiello, Carmine\n",
      "https://data.rkd.nl/artists/16834\n",
      "Claasen, Sophie\n",
      "https://data.rkd.nl/artists/16940\n",
      "Claes, Truus\n",
      "https://data.rkd.nl/artists/4081\n",
      "Clant van der Mijll, Marie Constance Antoinette\n",
      "https://data.rkd.nl/artists/363952\n",
      "Clark, Sally\n",
      "https://data.rkd.nl/artists/119521\n",
      "Claudel, Camille\n",
      "https://data.rkd.nl/artists/109298\n",
      "Clausen, Franziska\n",
      "https://data.rkd.nl/artists/17116\n",
      "Clemens, Therese\n",
      "https://data.rkd.nl/artists/374536\n",
      "Clement, Thérèse\n",
      "https://data.rkd.nl/artists/86944\n",
      "Clercq, Marguérite Carolina de\n",
      "https://data.rkd.nl/artists/363964\n",
      "Clercq, Nelly de\n",
      "https://data.rkd.nl/artists/369242\n",
      "Cleve, Agnes\n",
      "https://data.rkd.nl/artists/251291\n",
      "Clifford Kocq van Breugel, Wilhelmina Françoise Amalia Louisa\n",
      "https://data.rkd.nl/artists/363140\n",
      "Clignett, Elisabeth Petronella Henriette\n",
      "https://data.rkd.nl/artists/421551\n",
      "Coeffier, Marie Pauline Adrienne\n",
      "https://data.rkd.nl/artists/115832\n",
      "Cohen Stuart, Bertha\n",
      "https://data.rkd.nl/artists/119520\n",
      "Cohen, Ali\n",
      "https://data.rkd.nl/artists/462163\n",
      "Cohen, Saartje\n",
      "https://data.rkd.nl/artists/462180\n",
      "Cohnen, Johanna Gertruid\n",
      "https://data.rkd.nl/artists/462182\n",
      "Coignet, Marie\n",
      "https://data.rkd.nl/artists/119926\n",
      "Coke, Dorothy Josephine\n",
      "https://data.rkd.nl/artists/17581\n",
      "Colin Libour, Uranie Alphonsine\n",
      "https://data.rkd.nl/artists/203235\n",
      "Colin, Alice\n",
      "https://data.rkd.nl/artists/100766\n",
      "Collart-Henrotin, Marie\n",
      "https://data.rkd.nl/artists/17700\n",
      "Comerre-Paton, Jacqueline\n",
      "https://data.rkd.nl/artists/17874\n",
      "Conkling, Mabel\n",
      "https://data.rkd.nl/artists/119526\n",
      "Connell, Lena\n",
      "https://data.rkd.nl/artists/390173\n",
      "Constantinovic-Hein, Isidora\n",
      "https://data.rkd.nl/artists/344491\n",
      "Conti, Regina\n",
      "https://data.rkd.nl/artists/125513\n",
      "Cooksey, May Louise Greville\n",
      "https://data.rkd.nl/artists/18093\n",
      "Cool, Dien\n",
      "https://data.rkd.nl/artists/18095\n",
      "Cool, Tine\n",
      "https://data.rkd.nl/artists/123718\n",
      "Cool-van Oosten Slingeland, C.J.G.\n",
      "https://data.rkd.nl/artists/18101\n",
      "Coolwijk-Cownie, Elsie Maud\n",
      "https://data.rkd.nl/artists/116923\n",
      "Copnall, Theresa Norah\n",
      "https://data.rkd.nl/artists/134542\n",
      "Cornaz, Marie Louise\n",
      "https://data.rkd.nl/artists/429616\n",
      "Cornegoor, Christophina Johanna\n",
      "https://data.rkd.nl/artists/462209\n",
      "Cornegoor-Kouwe, Maria Johana\n",
      "https://data.rkd.nl/artists/111276\n",
      "Cornelius, Marie-Lucie\n",
      "https://data.rkd.nl/artists/86947\n",
      "Corradini, Mara\n",
      "https://data.rkd.nl/artists/18472\n",
      "Correa Morales, Lía\n",
      "https://data.rkd.nl/artists/237659\n",
      "Correvont, Antonia\n",
      "https://data.rkd.nl/artists/379300\n",
      "Cosman, Cato Elise\n",
      "https://data.rkd.nl/artists/18556\n",
      "Cossaceanu-Lavrillier, Marguerite\n",
      "https://data.rkd.nl/artists/304343\n",
      "Coster, Elisabeth\n",
      "https://data.rkd.nl/artists/123813\n",
      "Coster, Johanna\n",
      "https://data.rkd.nl/artists/18625\n",
      "Cotard-Dupré, Thérèse-Marthe-Françoise\n",
      "https://data.rkd.nl/artists/115891\n",
      "Cottrau-Fokker, Annie\n",
      "https://data.rkd.nl/artists/28461\n",
      "Coulon, Berthe\n",
      "https://data.rkd.nl/artists/18714\n",
      "Counis, Elisa\n",
      "https://data.rkd.nl/artists/18728\n",
      "Court, Mathilde Elisabeth Jeanne de\n",
      "https://data.rkd.nl/artists/364285\n",
      "Court, Nelly\n",
      "https://data.rkd.nl/artists/5922\n",
      "Cousturier, Lucie\n",
      "https://data.rkd.nl/artists/18800\n",
      "Couwenberg, Karolina Stephana\n",
      "https://data.rkd.nl/artists/18823\n",
      "Couwenberg, Line\n",
      "https://data.rkd.nl/artists/123861\n",
      "Cramer, Helene\n",
      "https://data.rkd.nl/artists/344543\n",
      "Cramer, Molly\n",
      "https://data.rkd.nl/artists/18966\n",
      "Cramer, Rie\n",
      "https://data.rkd.nl/artists/18971\n",
      "Cramerus, Anna Cornelia\n",
      "https://data.rkd.nl/artists/116925\n",
      "Cramerus, Daniëla\n",
      "https://data.rkd.nl/artists/116924\n",
      "Cremers, Eline\n",
      "https://data.rkd.nl/artists/19046\n",
      "Cremers, Maria Petronella Isabella\n",
      "https://data.rkd.nl/artists/369381\n",
      "Cremers, Marie\n",
      "https://data.rkd.nl/artists/19049\n",
      "Crick-Kuntziger, Marthe\n",
      "https://data.rkd.nl/artists/463970\n",
      "Crommelin, Maria Elisabeth\n",
      "https://data.rkd.nl/artists/205761\n",
      "Cross, Amy\n",
      "https://data.rkd.nl/artists/95753\n",
      "Crowley, Grace\n",
      "https://data.rkd.nl/artists/19286\n",
      "Cueto, Lola de\n",
      "https://data.rkd.nl/artists/237895\n",
      "Cunningham, Imogen\n",
      "https://data.rkd.nl/artists/263191\n",
      "Cunz, Martha\n",
      "https://data.rkd.nl/artists/19400\n",
      "Cyrenius, Maria\n",
      "https://data.rkd.nl/artists/367906\n",
      "Czegka, Bertha\n",
      "https://data.rkd.nl/artists/344665\n",
      "Czermak, Gisela\n",
      "https://data.rkd.nl/artists/344668\n",
      "Czoernig-Gobanz, Herta\n",
      "https://data.rkd.nl/artists/322343\n",
      "Dael, Louise\n",
      "https://data.rkd.nl/artists/19615\n",
      "Dahl, Cecilie\n",
      "https://data.rkd.nl/artists/328010\n",
      "Dahl-Wolfe, Louise\n",
      "https://data.rkd.nl/artists/214002\n",
      "Dahm, Helen\n",
      "https://data.rkd.nl/artists/125542\n",
      "Daiwaille, Elise Therese\n",
      "https://data.rkd.nl/artists/364601\n",
      "Dake, Gesina\n",
      "https://data.rkd.nl/artists/19710\n",
      "Dam van Isselt, Lucie van\n",
      "https://data.rkd.nl/artists/19825\n",
      "Dam, Christine van\n",
      "https://data.rkd.nl/artists/116990\n",
      "Dam-Slager, Corry van\n",
      "https://data.rkd.nl/artists/72976\n",
      "Damman, Benjamin\n",
      "https://data.rkd.nl/artists/109904\n",
      "Dangar, Anne\n",
      "https://data.rkd.nl/artists/263956\n",
      "Danielson-Cambogi, Elin Kleopatra\n",
      "https://data.rkd.nl/artists/121858\n",
      "Dannenberg, Alice\n",
      "https://data.rkd.nl/artists/117358\n",
      "Dannenberg, Antonie\n",
      "https://data.rkd.nl/artists/344691\n",
      "Danse, Louise\n",
      "https://data.rkd.nl/artists/486587\n",
      "Danse, Marie-Charlotte\n",
      "https://data.rkd.nl/artists/344642\n",
      "Dantzig, Rachel van\n",
      "https://data.rkd.nl/artists/20027\n",
      "Danvin, Constance-Amélie\n",
      "https://data.rkd.nl/artists/117362\n",
      "Das, Dina\n",
      "https://data.rkd.nl/artists/462245\n",
      "David, Euphémie-Thérèse\n",
      "https://data.rkd.nl/artists/117394\n",
      "David, Gabrielle-Henriette-Marie\n",
      "https://data.rkd.nl/artists/117395\n",
      "David, Hermine\n",
      "https://data.rkd.nl/artists/20160\n",
      "David-Néel, Alexandra\n",
      "https://data.rkd.nl/artists/412639\n",
      "Davids, Renée\n",
      "https://data.rkd.nl/artists/109804\n",
      "Davidson, Bessie\n",
      "https://data.rkd.nl/artists/128822\n",
      "Davis, Cecil Clark\n",
      "https://data.rkd.nl/artists/207402\n",
      "Davis, Cornelia Cassady\n",
      "https://data.rkd.nl/artists/20216\n",
      "Davis, Mary (Lady)\n",
      "https://data.rkd.nl/artists/134791\n",
      "De Bievre, Marie\n",
      "https://data.rkd.nl/artists/20367\n",
      "De Divitiis, Emilia\n",
      "https://data.rkd.nl/artists/262373\n",
      "De Hem, Louise\n",
      "https://data.rkd.nl/artists/20656\n",
      "De Looz, Octavie\n",
      "https://data.rkd.nl/artists/371813\n",
      "De Miszewska, Hélène\n",
      "https://data.rkd.nl/artists/20827\n",
      "De Noter, Joséphine\n",
      "https://data.rkd.nl/artists/20872\n",
      "De Paepe, Marie\n",
      "https://data.rkd.nl/artists/348631\n",
      "De Vigne, Emma\n",
      "https://data.rkd.nl/artists/21062\n",
      "De Weert, Anna\n",
      "https://data.rkd.nl/artists/21155\n",
      "Debes, Juliette-Emilie\n",
      "https://data.rkd.nl/artists/117410\n",
      "Debillemont-Chardon, Gabrielle\n",
      "https://data.rkd.nl/artists/117413\n",
      "Dehé-Stijger, Miep\n",
      "https://data.rkd.nl/artists/21451\n",
      "Deicher, Luise\n",
      "https://data.rkd.nl/artists/216619\n",
      "Dekker, Wijnanda\n",
      "https://data.rkd.nl/artists/361123\n",
      "Dekker-Sartorius, Sara\n",
      "https://data.rkd.nl/artists/366188\n",
      "DelFabro, Rosina\n",
      "https://data.rkd.nl/artists/489470\n",
      "Delacroix, Émilienne\n",
      "https://data.rkd.nl/artists/420550\n",
      "Delance-Feurgard, Julie\n",
      "https://data.rkd.nl/artists/117497\n",
      "Delaporte, Rosine-Antoinette\n",
      "https://data.rkd.nl/artists/485816\n",
      "Delasalle, Angèle\n",
      "https://data.rkd.nl/artists/21620\n",
      "Delaunay, Sonia\n",
      "https://data.rkd.nl/artists/21633\n",
      "Delaye, Alice\n",
      "https://data.rkd.nl/artists/21646\n",
      "Della Vos-Kardovskaya, Olga Lyudvigovna\n",
      "https://data.rkd.nl/artists/347000\n",
      "Delorme, Marguerite-Anne-Rose\n",
      "https://data.rkd.nl/artists/117575\n",
      "Delprat, Anna\n",
      "https://data.rkd.nl/artists/21815\n",
      "Demanche, Blanche-Marguerite\n",
      "https://data.rkd.nl/artists/117603\n",
      "Dembovskytes Römerienes, Sofijos\n",
      "https://data.rkd.nl/artists/255332\n",
      "Demmink, Corrie\n",
      "https://data.rkd.nl/artists/21905\n",
      "Demont-Breton, Virginie\n",
      "https://data.rkd.nl/artists/21908\n",
      "Demuth, Anni von\n",
      "https://data.rkd.nl/artists/122642\n",
      "Dentz, Elisabeth\n",
      "https://data.rkd.nl/artists/421562\n",
      "Dentz, Louise Pauline\n",
      "https://data.rkd.nl/artists/421552\n",
      "Deppe, Paula Johanna Caroline\n",
      "https://data.rkd.nl/artists/216654\n",
      "Derkert, Siri\n",
      "https://data.rkd.nl/artists/22055\n",
      "Descamps-Sabouret, Louis Cécile\n",
      "https://data.rkd.nl/artists/22140\n",
      "Desclabissac, Félice\n",
      "https://data.rkd.nl/artists/344816\n",
      "Desjeux, Emilie\n",
      "https://data.rkd.nl/artists/110352\n",
      "Desnos, Louise-Adélaide\n",
      "https://data.rkd.nl/artists/117728\n",
      "Destouches, Johanna von\n",
      "https://data.rkd.nl/artists/216658\n",
      "Dettmann, Edith\n",
      "https://data.rkd.nl/artists/344923\n",
      "Deurs, Caroline van\n",
      "https://data.rkd.nl/artists/102966\n",
      "Deuticke-Szabo, Christa\n",
      "https://data.rkd.nl/artists/344940\n",
      "Deventer, Johanna van\n",
      "https://data.rkd.nl/artists/22371\n",
      "Devivier-Bloemink, Cornelia\n",
      "https://data.rkd.nl/artists/118906\n",
      "Devéria, Laure\n",
      "https://data.rkd.nl/artists/22382\n",
      "Dielen, Joanna Jacoba van\n",
      "https://data.rkd.nl/artists/365095\n",
      "Diem-Tilp, Ida\n",
      "https://data.rkd.nl/artists/216737\n",
      "Diesbach-de Belleroche, Valentine\n",
      "https://data.rkd.nl/artists/125628\n",
      "Dieterle, Marie\n",
      "https://data.rkd.nl/artists/22738\n",
      "Dietrich, Adelheid\n",
      "https://data.rkd.nl/artists/22745\n",
      "Dietrichson, Johanne Mathilde\n",
      "https://data.rkd.nl/artists/462610\n",
      "Dijkman, Alida Sara\n",
      "https://data.rkd.nl/artists/23022\n",
      "Dijserinck, Adrienne Gertrude\n",
      "https://data.rkd.nl/artists/365617\n",
      "Dingemans-Numans, Henriëtte\n",
      "https://data.rkd.nl/artists/93286\n",
      "Dinklage, Erna\n",
      "https://data.rkd.nl/artists/216795\n",
      "Dirks, Anna Dorothea\n",
      "https://data.rkd.nl/artists/421453\n",
      "Dirks-Giesse, Adolphiena\n",
      "https://data.rkd.nl/artists/366180\n",
      "Diserens, Violette\n",
      "https://data.rkd.nl/artists/125633\n",
      "Disselhoff, Maria Helena\n",
      "https://data.rkd.nl/artists/125035\n",
      "Dix, Eulabee\n",
      "https://data.rkd.nl/artists/105478\n"
     ]
    },
    {
     "name": "stdout",
     "output_type": "stream",
     "text": [
      "Dièz-Dürhkoop, Minya\n",
      "https://data.rkd.nl/artists/376458\n",
      "Dobbelaere, Clara\n",
      "https://data.rkd.nl/artists/23367\n",
      "Dobloff, Hertha Freifrau von\n",
      "https://data.rkd.nl/artists/345166\n",
      "Dodge, Francis Farrand\n",
      "https://data.rkd.nl/artists/23428\n",
      "Dods-Withers, Isobella Ann\n",
      "https://data.rkd.nl/artists/134883\n",
      "Doebrova, Valentina\n",
      "https://data.rkd.nl/artists/103124\n",
      "Does de Willebois, Sophia van der\n",
      "https://data.rkd.nl/artists/23466\n",
      "Does, Elisabeth Wilhelmina van der\n",
      "https://data.rkd.nl/artists/23469\n",
      "Doesburg, Nelly van\n",
      "https://data.rkd.nl/artists/367971\n",
      "Doffegnies, Thomasine Adrienne\n",
      "https://data.rkd.nl/artists/88537\n",
      "Dohlmann, Augusta\n",
      "https://data.rkd.nl/artists/271003\n",
      "Dolleman, Sophie\n",
      "https://data.rkd.nl/artists/365440\n",
      "Dolleman-Thierry de Bye, Henriette Louise\n",
      "https://data.rkd.nl/artists/414177\n",
      "Dollschein, Anny\n",
      "https://data.rkd.nl/artists/345201\n",
      "Domizlaff, Hildegard\n",
      "https://data.rkd.nl/artists/268608\n",
      "Donas, Marthe\n",
      "https://data.rkd.nl/artists/23662\n",
      "Donk, Helena Christina\n",
      "https://data.rkd.nl/artists/462674\n",
      "Donkersloot, Clara\n",
      "https://data.rkd.nl/artists/421473\n",
      "Donnadieu, Jeanne\n",
      "https://data.rkd.nl/artists/117798\n",
      "Dooren, Johanna Elisabeth van\n",
      "https://data.rkd.nl/artists/369920\n",
      "Doorman, Lide\n",
      "https://data.rkd.nl/artists/23821\n",
      "Dorn, Marion\n",
      "https://data.rkd.nl/artists/488185\n",
      "Dorp, Wilhelmina Antonia van\n",
      "https://data.rkd.nl/artists/365737\n",
      "Dorph, Bertha\n",
      "https://data.rkd.nl/artists/23952\n",
      "Dorsser, Cornelia Jessina van\n",
      "https://data.rkd.nl/artists/89168\n",
      "Douard, Cécile\n",
      "https://data.rkd.nl/artists/23987\n",
      "Doyer, Catharina\n",
      "https://data.rkd.nl/artists/365738\n",
      "Doyer, Gerarda Jacoba\n",
      "https://data.rkd.nl/artists/372388\n",
      "Doyer, Sonja\n",
      "https://data.rkd.nl/artists/125575\n",
      "Drabbe, Mies\n",
      "https://data.rkd.nl/artists/24127\n",
      "Draper, Anna Palmer\n",
      "https://data.rkd.nl/artists/449222\n",
      "Dreier, Katherine Sophie\n",
      "https://data.rkd.nl/artists/24166\n",
      "Dresler, Emmi\n",
      "https://data.rkd.nl/artists/345293\n",
      "Driessen, Anna Wilhelmina\n",
      "https://data.rkd.nl/artists/365757\n",
      "Driggs, Elsie\n",
      "https://data.rkd.nl/artists/24251\n",
      "Drost, Henriëtte\n",
      "https://data.rkd.nl/artists/24312\n",
      "Drumaux, Angelina\n",
      "https://data.rkd.nl/artists/24343\n",
      "Drupsteen, Wilhelmina\n",
      "https://data.rkd.nl/artists/24368\n",
      "Dräger-Mühlenpfordt, Anna\n",
      "https://data.rkd.nl/artists/268881\n",
      "Dubos, Angèle\n",
      "https://data.rkd.nl/artists/117872\n",
      "Dubourg, Victoria\n",
      "https://data.rkd.nl/artists/27306\n",
      "Dubray, Charlotte\n",
      "https://data.rkd.nl/artists/211098\n",
      "Dubé, Mattie\n",
      "https://data.rkd.nl/artists/24422\n",
      "Duchamp, Suzanne\n",
      "https://data.rkd.nl/artists/24518\n",
      "Duchateau, Marie-Thérèse\n",
      "https://data.rkd.nl/artists/117886\n",
      "Duffield, Mary Elizabeth\n",
      "https://data.rkd.nl/artists/24611\n",
      "Dufour, Elise\n",
      "https://data.rkd.nl/artists/125643\n",
      "Duker, Mien\n",
      "https://data.rkd.nl/artists/24709\n",
      "Dumstrey, Marie\n",
      "https://data.rkd.nl/artists/345356\n",
      "Duncan, Dorothy\n",
      "https://data.rkd.nl/artists/24831\n",
      "Dupker, Bartha\n",
      "https://data.rkd.nl/artists/462708\n",
      "Dupré, Amalia\n",
      "https://data.rkd.nl/artists/332919\n",
      "Dupuis, Marthe\n",
      "https://data.rkd.nl/artists/24974\n",
      "Duras, Mary\n",
      "https://data.rkd.nl/artists/270362\n",
      "Duuring, Emilia\n",
      "https://data.rkd.nl/artists/476202\n",
      "Duyvis, Debora\n",
      "https://data.rkd.nl/artists/24672\n",
      "Duyvis, Lize\n",
      "https://data.rkd.nl/artists/24673\n",
      "Dwight, Julia S.\n",
      "https://data.rkd.nl/artists/25215\n",
      "Dworschky, Emilie\n",
      "https://data.rkd.nl/artists/345406\n",
      "Döll, Auguste\n",
      "https://data.rkd.nl/artists/325799\n",
      "Dörfler, Frida\n",
      "https://data.rkd.nl/artists/345241\n",
      "Dübi-Müller, Gertrud\n",
      "https://data.rkd.nl/artists/403492\n",
      "Eaton, Margaret Fernie\n",
      "https://data.rkd.nl/artists/104349\n",
      "Eberhardt-Haas, Else\n",
      "https://data.rkd.nl/artists/217033\n",
      "Eberle, Abastenia St. Leger\n",
      "https://data.rkd.nl/artists/118417\n",
      "Ebner, Pauli\n",
      "https://data.rkd.nl/artists/345494\n",
      "Eckart, Lissy\n",
      "https://data.rkd.nl/artists/467444\n",
      "Eckhart, Mieke\n",
      "https://data.rkd.nl/artists/25425\n",
      "Eckl, Vilma\n",
      "https://data.rkd.nl/artists/25428\n",
      "Edwards, Mabel\n",
      "https://data.rkd.nl/artists/25521\n",
      "Eeghen, Anna Catharina Maria van\n",
      "https://data.rkd.nl/artists/134570\n",
      "Eeghen, Jacoba van\n",
      "https://data.rkd.nl/artists/25569\n",
      "Eerenbeemt-Attema, Willy van den\n",
      "https://data.rkd.nl/artists/25611\n",
      "Egerer, Marianne\n",
      "https://data.rkd.nl/artists/345537\n",
      "Eggertz, Ingeborg\n",
      "https://data.rkd.nl/artists/462730\n",
      "Egidy, Emmy von\n",
      "https://data.rkd.nl/artists/363238\n",
      "Egner, Marie\n",
      "https://data.rkd.nl/artists/25704\n",
      "Egter van Wissekerke, Antje\n",
      "https://data.rkd.nl/artists/25712\n",
      "Ehrenberger, Ella\n",
      "https://data.rkd.nl/artists/345573\n",
      "Eibergen Santhagens-Waller, Ina van\n",
      "https://data.rkd.nl/artists/94822\n",
      "Eicken, Elisabeth von\n",
      "https://data.rkd.nl/artists/25764\n",
      "Eigeman, Catharina Maria Hendrika\n",
      "https://data.rkd.nl/artists/365885\n",
      "Eijbergen, Johanna Gerarda Theodora van\n",
      "https://data.rkd.nl/artists/25775\n",
      "Eijlers, Hendrina Jacoba\n",
      "https://data.rkd.nl/artists/421429\n",
      "Eisenloeffel-Willekes MacDonald, Clara Anna\n",
      "https://data.rkd.nl/artists/126758\n",
      "Eisenmann, Germaine-Suzanne\n",
      "https://data.rkd.nl/artists/25844\n",
      "Elderink, Cato\n",
      "https://data.rkd.nl/artists/126843\n",
      "Eliasoph, Paula\n",
      "https://data.rkd.nl/artists/25971\n",
      "Elion, Sara\n",
      "https://data.rkd.nl/artists/365894\n",
      "Elkan, Hanna\n",
      "https://data.rkd.nl/artists/332810\n",
      "Elmqvist-Wichmann, Erna\n",
      "https://data.rkd.nl/artists/361758\n",
      "Elsinga, Tetje Aaltje Gerarda\n",
      "https://data.rkd.nl/artists/462791\n",
      "Ende, Johanna Maria van den\n",
      "https://data.rkd.nl/artists/365902\n",
      "Engelbach, Florence\n",
      "https://data.rkd.nl/artists/212816\n",
      "Engelen, Clara\n",
      "https://data.rkd.nl/artists/369304\n",
      "Engelhardt, Elisabeth\n",
      "https://data.rkd.nl/artists/217234\n",
      "Engelhardt, Manja von\n",
      "https://data.rkd.nl/artists/26300\n",
      "Engelhart, Cathinca\n",
      "https://data.rkd.nl/artists/26301\n",
      "Engelhorn, Charlotte Christine\n",
      "https://data.rkd.nl/artists/26304\n",
      "Engels von Veith, Gustava\n",
      "https://data.rkd.nl/artists/330448\n",
      "Enklaar-de Sauvage Nolting, Nel\n",
      "https://data.rkd.nl/artists/26374\n",
      "Enschedé, Adriana Maria\n",
      "https://data.rkd.nl/artists/365930\n",
      "Enschedé, Catharina Jacoba Abrahamina\n",
      "https://data.rkd.nl/artists/352827\n",
      "Enschedé, Edzardina Jacoba\n",
      "https://data.rkd.nl/artists/26389\n",
      "Enthoven, Fanny\n",
      "https://data.rkd.nl/artists/26408\n",
      "Enthoven, Gabrielle\n",
      "https://data.rkd.nl/artists/449317\n",
      "Epinay, Marie d'\n",
      "https://data.rkd.nl/artists/118150\n",
      "Epple-de Witt Huberts, Henny\n",
      "https://data.rkd.nl/artists/26436\n",
      "Epstein, Clara\n",
      "https://data.rkd.nl/artists/330499\n",
      "Epstein, Elisabeth\n",
      "https://data.rkd.nl/artists/26443\n",
      "Ermeling, Annie\n",
      "https://data.rkd.nl/artists/26517\n",
      "Ermolaeva, Vera\n",
      "https://data.rkd.nl/artists/440586\n",
      "Ertl, Marie\n",
      "https://data.rkd.nl/artists/345795\n",
      "Es, Cina Maria Charlotta Jacoba van\n",
      "https://data.rkd.nl/artists/26599\n",
      "Es, Wilhelmina van (1883-1945)\n",
      "https://data.rkd.nl/artists/462813\n",
      "Esbeukman, Cornelia Johanna\n",
      "https://data.rkd.nl/artists/462815\n",
      "Esch, Mathilde\n",
      "https://data.rkd.nl/artists/26622\n",
      "Eschenburg, Marianne von\n",
      "https://data.rkd.nl/artists/217385\n",
      "Esinger, Adele\n",
      "https://data.rkd.nl/artists/345814\n",
      "Esménard, Inès d'\n",
      "https://data.rkd.nl/artists/26651\n",
      "Espinet, Caroline\n",
      "https://data.rkd.nl/artists/422924\n",
      "Essen, Louise Jacoba van\n",
      "https://data.rkd.nl/artists/26692\n",
      "Eudes de Guimard, Louise\n",
      "https://data.rkd.nl/artists/26772\n",
      "Eulenbruch, Maria\n",
      "https://data.rkd.nl/artists/26776\n",
      "Evans, Minnie\n",
      "https://data.rkd.nl/artists/273448\n",
      "Everts, Annie\n",
      "https://data.rkd.nl/artists/127481\n",
      "Ewald, Clara\n",
      "https://data.rkd.nl/artists/345925\n",
      "Eweg, Truus\n",
      "https://data.rkd.nl/artists/369569\n",
      "Exner, Hilde\n",
      "https://data.rkd.nl/artists/433984\n",
      "Exter, Aleksandra Aleksandrovna\n",
      "https://data.rkd.nl/artists/26937\n",
      "Ey, Johanna\n",
      "https://data.rkd.nl/artists/359432\n",
      "Eymer, Anna Margaretha\n",
      "https://data.rkd.nl/artists/127633\n",
      "Eyre, Louisa\n",
      "https://data.rkd.nl/artists/120581\n",
      "Eys, Cornelie Henriette Constance van\n",
      "https://data.rkd.nl/artists/472928\n",
      "Eys, Henriette Antoinette van\n",
      "https://data.rkd.nl/artists/27023\n",
      "Eysinga, Ima van\n",
      "https://data.rkd.nl/artists/27030\n",
      "Faddegon, Maria Alida\n",
      "https://data.rkd.nl/artists/421568\n",
      "Falke, Gisela\n",
      "https://data.rkd.nl/artists/345938\n",
      "Famars Testas, Marie Madelaine de\n",
      "https://data.rkd.nl/artists/109556\n",
      "Farnham, Sally James\n",
      "https://data.rkd.nl/artists/104410\n",
      "Farwick, Toni\n",
      "https://data.rkd.nl/artists/274276\n",
      "Farádi Veres, Izabella\n",
      "https://data.rkd.nl/artists/469366\n",
      "Faulhaber, Hermine\n",
      "https://data.rkd.nl/artists/27409\n",
      "Faure, Anne\n",
      "https://data.rkd.nl/artists/118260\n",
      "Faure, Jeanne\n",
      "https://data.rkd.nl/artists/27426\n",
      "Faure, Jeanne Agatha\n",
      "https://data.rkd.nl/artists/365006\n",
      "Faust, Virginie Albertine\n",
      "https://data.rkd.nl/artists/27432\n",
      "Faustman, Mollie\n",
      "https://data.rkd.nl/artists/462949\n",
      "Fauveau, Félicie de\n",
      "https://data.rkd.nl/artists/437784\n",
      "Faux-Froidure, Eugénie Juliette\n",
      "https://data.rkd.nl/artists/27444\n",
      "Favre, Pierrette\n",
      "https://data.rkd.nl/artists/27458\n",
      "Fearon, Hilda\n",
      "https://data.rkd.nl/artists/27477\n",
      "Fedorovich, Sofia\n",
      "https://data.rkd.nl/artists/209417\n",
      "Feer Ladèr-Lohmann, Else van der\n",
      "https://data.rkd.nl/artists/50630\n",
      "Fehling, Ilse\n",
      "https://data.rkd.nl/artists/274622\n",
      "Fehr, Gertrude\n",
      "https://data.rkd.nl/artists/274628\n",
      "Fehrle-Menrad, Klara Maria\n",
      "https://data.rkd.nl/artists/274635\n",
      "Feistel-Rohmeder, Bettina\n",
      "https://data.rkd.nl/artists/121014\n",
      "Feltz, Frédérique Christine Henriette van der\n",
      "https://data.rkd.nl/artists/369598\n",
      "Fenner, Margarete\n",
      "https://data.rkd.nl/artists/346012\n",
      "Ferenczy, Noémi\n",
      "https://data.rkd.nl/artists/276574\n",
      "Ferneley, Sarah\n",
      "https://data.rkd.nl/artists/27722\n",
      "Fernow, Anna\n",
      "https://data.rkd.nl/artists/473782\n",
      "Ferrand, Adèle (geb. 1807)\n",
      "https://data.rkd.nl/artists/118285\n",
      "Ferrand, Adèle (geb. 1817)\n",
      "https://data.rkd.nl/artists/485786\n",
      "Ferrand, Gabriëlle\n",
      "https://data.rkd.nl/artists/109086\n",
      "Ferrère, Cécile\n",
      "https://data.rkd.nl/artists/118290\n",
      "Festa, Bianca\n",
      "https://data.rkd.nl/artists/27841\n",
      "Feuerstein, Greet\n",
      "https://data.rkd.nl/artists/27852\n",
      "Feuillas-Creusy, Caroline\n",
      "https://data.rkd.nl/artists/118357\n",
      "Fiedler, Marianne\n",
      "https://data.rkd.nl/artists/331940\n",
      "Fieglhuber-Gutscher, Marianne\n",
      "https://data.rkd.nl/artists/98649\n",
      "Fikentscher, Jenny\n",
      "https://data.rkd.nl/artists/331948\n",
      "Finck, Adele von\n",
      "https://data.rkd.nl/artists/28030\n",
      "Fischer, Catharina\n",
      "https://data.rkd.nl/artists/463038\n",
      "Fischer, Clara Elisabet\n",
      "https://data.rkd.nl/artists/217730\n",
      "Fischer, Paula\n",
      "https://data.rkd.nl/artists/217741\n",
      "Fiske, Gertrude\n",
      "https://data.rkd.nl/artists/104506\n",
      "Fleischmann, Trude\n",
      "https://data.rkd.nl/artists/277831\n",
      "Fles, Etha\n",
      "https://data.rkd.nl/artists/28278\n",
      "Flesch-Brunningen, Luma von\n",
      "https://data.rkd.nl/artists/28279\n",
      "Flines, Henriëtte Marie Frédérique de\n",
      "https://data.rkd.nl/artists/28327\n",
      "Flines, Wilhelmina de\n",
      "https://data.rkd.nl/artists/369613\n",
      "Floris, Hendrika\n",
      "https://data.rkd.nl/artists/28386\n",
      "Flögl, Mathilde\n",
      "https://data.rkd.nl/artists/332406\n",
      "Fockema, Geertje\n",
      "https://data.rkd.nl/artists/366108\n",
      "Fohn, Sofie\n",
      "https://data.rkd.nl/artists/28451\n",
      "Fokker, Suzanna Petronella\n",
      "https://data.rkd.nl/artists/421514\n",
      "Fokker, Theodora\n",
      "https://data.rkd.nl/artists/296413\n",
      "Fontein, Adriana Sophia\n",
      "https://data.rkd.nl/artists/28548\n",
      "Forbes, Helen Katherine\n",
      "https://data.rkd.nl/artists/104544\n",
      "Forbes-Armstrong, Elizabeth Adela\n",
      "https://data.rkd.nl/artists/28596\n",
      "Ford, Lauren\n",
      "https://data.rkd.nl/artists/104551\n",
      "Formijne, Corrie\n",
      "https://data.rkd.nl/artists/28649\n",
      "Forst, Maria Katharina\n",
      "https://data.rkd.nl/artists/463046\n",
      "Fortuny, Henriette\n",
      "https://data.rkd.nl/artists/486919\n",
      "Fraay-Karte, Klasina\n",
      "https://data.rkd.nl/artists/28844\n",
      "Fraenkel, Rachel\n",
      "https://data.rkd.nl/artists/463065\n",
      "Fraenkel-Hahn, Louise\n",
      "https://data.rkd.nl/artists/346437\n",
      "Fragiacomo, Antonietta\n",
      "https://data.rkd.nl/artists/447266\n",
      "Fraissinet, Emma\n",
      "https://data.rkd.nl/artists/128384\n",
      "Franco-Cohen Gosschalk, Margaretha Josephine Elisabeth\n",
      "https://data.rkd.nl/artists/29022\n",
      "Franco-van Buuren, Martha\n",
      "https://data.rkd.nl/artists/29027\n",
      "Franken, Marianne\n",
      "https://data.rkd.nl/artists/29123\n",
      "Franketti, Lidija Aleksandrovna\n",
      "https://data.rkd.nl/artists/427217\n",
      "Franquemont, Louise van\n",
      "https://data.rkd.nl/artists/366142\n",
      "Fraser, Mary Aldrich\n",
      "https://data.rkd.nl/artists/118947\n",
      "Frauendorfer-Mühlthaler, Helene von\n",
      "https://data.rkd.nl/artists/227171\n",
      "Fredrich, Gertrud\n",
      "https://data.rkd.nl/artists/346512\n",
      "Freeman, Jane\n",
      "https://data.rkd.nl/artists/29325\n",
      "Frey, Alice\n",
      "https://data.rkd.nl/artists/29426\n",
      "Frey-Surbek, Marguerite\n",
      "https://data.rkd.nl/artists/29437\n",
      "Freytag-Loringhoven, Elsa von\n",
      "https://data.rkd.nl/artists/245132\n",
      "Freytag-Loringhoven, Mathilde von\n",
      "https://data.rkd.nl/artists/279503\n",
      "Friedländer, Camilla\n",
      "https://data.rkd.nl/artists/29488\n",
      "Friedländer, Hedwig Edle von Malheim\n",
      "https://data.rkd.nl/artists/29490\n",
      "Friedländer, Julie\n",
      "https://data.rkd.nl/artists/235115\n",
      "Friedländer, Selma Edle von Malheim\n",
      "https://data.rkd.nl/artists/218276\n",
      "Friedrich, Caroline\n",
      "https://data.rkd.nl/artists/347406\n",
      "Friedrich, Wilma von\n",
      "https://data.rkd.nl/artists/347409\n",
      "Friedrichsen, Ernestine\n",
      "https://data.rkd.nl/artists/29508\n",
      "Fries, Anna Susanna\n",
      "https://data.rkd.nl/artists/29514\n",
      "Frimodt, Johanne\n",
      "https://data.rkd.nl/artists/271517\n",
      "Frisch, Juliana Elisabeth Petronella\n",
      "https://data.rkd.nl/artists/366147\n",
      "Frishmuth, Harriet Whitney\n",
      "https://data.rkd.nl/artists/363020\n",
      "Fritze, Margarete Auguste\n",
      "https://data.rkd.nl/artists/218299\n",
      "Fritzlin, Louise\n",
      "https://data.rkd.nl/artists/29584\n",
      "Froebe, Ludovika\n",
      "https://data.rkd.nl/artists/347440\n",
      "Frood, Hester\n",
      "https://data.rkd.nl/artists/29634\n",
      "Froriep, Bertha\n",
      "https://data.rkd.nl/artists/29637\n",
      "Fröberg, Maria\n",
      "https://data.rkd.nl/artists/463024\n",
      "Frömel-Fochler, Lotte\n",
      "https://data.rkd.nl/artists/347463\n",
      "Funke, Emmie\n",
      "https://data.rkd.nl/artists/421577\n",
      "Funke, Helene\n",
      "https://data.rkd.nl/artists/218385\n",
      "Furuhjelm, Dagmar\n",
      "https://data.rkd.nl/artists/463032\n",
      "Fülscher, Johanna Katherina\n",
      "https://data.rkd.nl/artists/125797\n",
      "Fürst, Else\n",
      "https://data.rkd.nl/artists/280008\n",
      "Gabain, Ethel Léontine\n",
      "https://data.rkd.nl/artists/29853\n",
      "Gadbois, Louise\n",
      "https://data.rkd.nl/artists/437658\n",
      "Gaillard, Christoffelina Adriana\n",
      "https://data.rkd.nl/artists/463111\n",
      "Galen, Geertruida Johanna van\n",
      "https://data.rkd.nl/artists/366156\n",
      "Gallas, Corry\n",
      "https://data.rkd.nl/artists/30038\n",
      "Gallibert, Geneviève Marie\n",
      "https://data.rkd.nl/artists/30075\n",
      "Gallois, Marcelle\n",
      "https://data.rkd.nl/artists/131102\n",
      "Ganzinga, Trijntje\n",
      "https://data.rkd.nl/artists/463120\n",
      "Garcin, Jenny-Laure\n",
      "https://data.rkd.nl/artists/30221\n",
      "Gardell-Ericson, Anna\n",
      "https://data.rkd.nl/artists/271633\n",
      "Gardner, Isabella\n",
      "https://data.rkd.nl/artists/422248\n",
      "Garner, Edith Mary\n",
      "https://data.rkd.nl/artists/30272\n",
      "Gassner, Alice\n",
      "https://data.rkd.nl/artists/347668\n",
      "Gast-Rosse, Suze ter\n",
      "https://data.rkd.nl/artists/30384\n",
      "Gasteiger, Anna Sophie\n",
      "https://data.rkd.nl/artists/218438\n",
      "Gaster-Springer, Frederika\n",
      "https://data.rkd.nl/artists/109341\n",
      "Gaudez, Cécile Delphine\n",
      "https://data.rkd.nl/artists/113240\n",
      "Gavel, Charlotte von\n",
      "https://data.rkd.nl/artists/218451\n",
      "Gavere, Cor de\n",
      "https://data.rkd.nl/artists/363908\n",
      "Gaymans, Anna\n",
      "https://data.rkd.nl/artists/467578\n",
      "Geer-Meindertzhagen, Martha Jeanne de\n",
      "https://data.rkd.nl/artists/331890\n",
      "Geertsema van Sjallema, Enna Hillegonda\n",
      "https://data.rkd.nl/artists/30671\n",
      "Geiger-Weishaupt, Fanny\n",
      "https://data.rkd.nl/artists/218522\n",
      "Geiringer, Trude\n",
      "https://data.rkd.nl/artists/381709\n",
      "Gelder, Betsy van\n",
      "https://data.rkd.nl/artists/125191\n",
      "Gelder, Bobette van\n",
      "https://data.rkd.nl/artists/30759\n",
      "Gelder, Hendrika van\n",
      "https://data.rkd.nl/artists/30766\n",
      "Gelder, Lucia Mathilde von\n",
      "https://data.rkd.nl/artists/30773\n",
      "Geldermalsen, Geertrui van\n",
      "https://data.rkd.nl/artists/30787\n",
      "Geller, Adriana van\n",
      "https://data.rkd.nl/artists/371907\n",
      "Genabeth, Eléonore Eugénie van\n",
      "https://data.rkd.nl/artists/30844\n",
      "Genke, Margarita Genrikhovna\n",
      "https://data.rkd.nl/artists/360203\n",
      "Gerell, Greta\n",
      "https://data.rkd.nl/artists/253226\n",
      "Gerhardi, Ida\n",
      "https://data.rkd.nl/artists/31057\n",
      "Gervasoni, Federica Giuseppina\n",
      "https://data.rkd.nl/artists/489874\n",
      "Getchell, Edith Loring Peirce\n",
      "https://data.rkd.nl/artists/95921\n",
      "Geuns, Christina van\n",
      "https://data.rkd.nl/artists/369692\n",
      "Geuns, Maria Petronella Geertruida van\n",
      "https://data.rkd.nl/artists/31237\n",
      "Gey-Heinze, Marie\n",
      "https://data.rkd.nl/artists/474535\n",
      "Giesberts, Julia\n",
      "https://data.rkd.nl/artists/31527\n",
      "Gijswijt, Agnieta Cornelia\n",
      "https://data.rkd.nl/artists/31592\n",
      "Gilardelli Crespi, Claudia\n",
      "https://data.rkd.nl/artists/333997\n",
      "Gildemeester, Anna\n",
      "https://data.rkd.nl/artists/31642\n",
      "Gildemeester, Elise\n",
      "https://data.rkd.nl/artists/366343\n"
     ]
    },
    {
     "name": "stdout",
     "output_type": "stream",
     "text": [
      "Gilpin, Laura\n",
      "https://data.rkd.nl/artists/375964\n",
      "Ginzkey, Hermine\n",
      "https://data.rkd.nl/artists/347892\n",
      "Girard-Rabache, Hélène\n",
      "https://data.rkd.nl/artists/131291\n",
      "Girl, Helisena\n",
      "https://data.rkd.nl/artists/347910\n",
      "Glatz, Maria\n",
      "https://data.rkd.nl/artists/124250\n",
      "Gleichen, Feddora von Gleichen\n",
      "https://data.rkd.nl/artists/424385\n",
      "Glitsch, Irmgard\n",
      "https://data.rkd.nl/artists/127347\n",
      "Gloag, Isobel Lilian\n",
      "https://data.rkd.nl/artists/32143\n",
      "Gluck\n",
      "https://data.rkd.nl/artists/32168\n",
      "Gockinga, Cordula\n",
      "https://data.rkd.nl/artists/92903\n",
      "Goddard, Lizzy\n",
      "https://data.rkd.nl/artists/32227\n",
      "Godefroij, Wilhelmina Jacoba\n",
      "https://data.rkd.nl/artists/366354\n",
      "Godin, Jeanne Wilhelmina Catharine\n",
      "https://data.rkd.nl/artists/32265\n",
      "Goebeler, Elise\n",
      "https://data.rkd.nl/artists/32285\n",
      "Goedewaagen, Nelly\n",
      "https://data.rkd.nl/artists/32307\n",
      "Goedkoop, Mathilda Geertruida\n",
      "https://data.rkd.nl/artists/421553\n",
      "Goemans, Maria Johanna\n",
      "https://data.rkd.nl/artists/366375\n",
      "Goes van Dirxland, Marie Adolphine van der\n",
      "https://data.rkd.nl/artists/366382\n",
      "Goes, Henriëtte Adriana Anette van der\n",
      "https://data.rkd.nl/artists/32365\n",
      "Gogh, Marie van\n",
      "https://data.rkd.nl/artists/32436\n",
      "Gogh, Petronella Wilhelmina van\n",
      "https://data.rkd.nl/artists/32438\n",
      "Gogh-Bonger, Jo van\n",
      "https://data.rkd.nl/artists/350056\n",
      "Gogh-Carbentus, Anna Cornelia van\n",
      "https://data.rkd.nl/artists/494217\n",
      "Goldenberg, Henriette\n",
      "https://data.rkd.nl/artists/336018\n",
      "Goldinger, Ekaterina Vasilevna\n",
      "https://data.rkd.nl/artists/32482\n",
      "Goldschmidt, Hilde\n",
      "https://data.rkd.nl/artists/98678\n",
      "Golubkina, Anna Semenovna\n",
      "https://data.rkd.nl/artists/432967\n",
      "Goncharova, Natalia Sergeevna\n",
      "https://data.rkd.nl/artists/32580\n",
      "Gonyn de Lirieux, Adèle\n",
      "https://data.rkd.nl/artists/32588\n",
      "Gonzalès, Eva\n",
      "https://data.rkd.nl/artists/32596\n",
      "Gooding Sykes, Annie\n",
      "https://data.rkd.nl/artists/333612\n",
      "Goor, Juliette Constance Adelaïde van\n",
      "https://data.rkd.nl/artists/135404\n",
      "Goot, Alida Margaret Ada van der\n",
      "https://data.rkd.nl/artists/32746\n",
      "Gordine, Dora\n",
      "https://data.rkd.nl/artists/284273\n",
      "Gori, Bertha\n",
      "https://data.rkd.nl/artists/32815\n",
      "Gorter, Hinke\n",
      "https://data.rkd.nl/artists/32873\n",
      "Gorter-ten Cate Hoedemaker, Geertruida Catherina\n",
      "https://data.rkd.nl/artists/255169\n",
      "Goslich, Marie\n",
      "https://data.rkd.nl/artists/368199\n",
      "Gosse, Laura Sylvia\n",
      "https://data.rkd.nl/artists/32905\n",
      "Gotzmann-Conrad, Emmy\n",
      "https://data.rkd.nl/artists/218937\n",
      "Goude, Helene\n",
      "https://data.rkd.nl/artists/369755\n",
      "Goudschaal, Afina\n",
      "https://data.rkd.nl/artists/135479\n",
      "Graaf, Tilly de\n",
      "https://data.rkd.nl/artists/20615\n",
      "Graaff, Jacoba de\n",
      "https://data.rkd.nl/artists/33166\n",
      "Graag, Julie de\n",
      "https://data.rkd.nl/artists/33174\n",
      "Grab, Bertha von\n",
      "https://data.rkd.nl/artists/33181\n",
      "Graeff, Julie\n",
      "https://data.rkd.nl/artists/218951\n",
      "Graf-Reinhart, Anna Emilia\n",
      "https://data.rkd.nl/artists/66147\n",
      "Graham Smith, Lucy\n",
      "https://data.rkd.nl/artists/458156\n",
      "Gram, Jo\n",
      "https://data.rkd.nl/artists/33274\n",
      "Grammont, Geneviève\n",
      "https://data.rkd.nl/artists/33284\n",
      "Granger, Geneviève\n",
      "https://data.rkd.nl/artists/87632\n",
      "Granitsch, Susanna Renate\n",
      "https://data.rkd.nl/artists/218989\n",
      "Gratama, Lina\n",
      "https://data.rkd.nl/artists/33398\n",
      "Gratama-Schultz van Haegen, Johanna Hendrika\n",
      "https://data.rkd.nl/artists/33399\n",
      "Grave, Janneke Anette de\n",
      "https://data.rkd.nl/artists/33426\n",
      "Gray, Eileen\n",
      "https://data.rkd.nl/artists/241723\n",
      "Greatorex, Eliza\n",
      "https://data.rkd.nl/artists/33490\n",
      "Greatorex, Kathleen Honora\n",
      "https://data.rkd.nl/artists/33491\n",
      "Greenaway, Kate\n",
      "https://data.rkd.nl/artists/33566\n",
      "Greijdanus, Hiltje\n",
      "https://data.rkd.nl/artists/463255\n",
      "Grell, Johanna\n",
      "https://data.rkd.nl/artists/348349\n",
      "Greve, Christophora Josina de\n",
      "https://data.rkd.nl/artists/421570\n",
      "Greve, Hedwig\n",
      "https://data.rkd.nl/artists/33715\n",
      "Grient, Dina Susanna van der\n",
      "https://data.rkd.nl/artists/33780\n",
      "Grietens, Desiree\n",
      "https://data.rkd.nl/artists/463258\n",
      "Grimbel du Bois-Westenberg, Margrietha Johanna\n",
      "https://data.rkd.nl/artists/221215\n",
      "Grimes, Frances\n",
      "https://data.rkd.nl/artists/121140\n",
      "Grimm, Luise Dorothea Elisabeth\n",
      "https://data.rkd.nl/artists/336479\n",
      "Groenendaal, Jeane\n",
      "https://data.rkd.nl/artists/33973\n",
      "Groenendijk, Johanna Catharina\n",
      "https://data.rkd.nl/artists/463276\n",
      "Groenman, Johanna Gesina\n",
      "https://data.rkd.nl/artists/421564\n",
      "Grondhout-Heshusius, Martha\n",
      "https://data.rkd.nl/artists/38014\n",
      "Groningen, Loes van\n",
      "https://data.rkd.nl/artists/34084\n",
      "Groningen-Laurillard, Jacoba van\n",
      "https://data.rkd.nl/artists/34083\n",
      "Groot, Catharina de\n",
      "https://data.rkd.nl/artists/366787\n",
      "Groot, Hiltje de\n",
      "https://data.rkd.nl/artists/463298\n",
      "Groot, Lena de\n",
      "https://data.rkd.nl/artists/134872\n",
      "Groot-van Nieuwenhoven Helbach, Maria Catharina Alberta de\n",
      "https://data.rkd.nl/artists/111428\n",
      "Groote, Alida Johanna\n",
      "https://data.rkd.nl/artists/421495\n",
      "Gropp, Elsbeth\n",
      "https://data.rkd.nl/artists/309109\n",
      "Groppe, Johanna Luisa\n",
      "https://data.rkd.nl/artists/219125\n",
      "Grosch, Klara\n",
      "https://data.rkd.nl/artists/219128\n",
      "Grosse Schröder, Dorothee Auguste Marianne\n",
      "https://data.rkd.nl/artists/366793\n",
      "Grothe, Sophie Jacoba Wilhelmina\n",
      "https://data.rkd.nl/artists/34276\n",
      "Gruber-Würfel, Maria\n",
      "https://data.rkd.nl/artists/348513\n",
      "Gruner, Lila\n",
      "https://data.rkd.nl/artists/336492\n",
      "Gruntke, Catharina Elisabeth\n",
      "https://data.rkd.nl/artists/366814\n",
      "Gruyer-Herbemont, Gabrielle\n",
      "https://data.rkd.nl/artists/113654\n",
      "Gräver, Jeannette Carolina\n",
      "https://data.rkd.nl/artists/366493\n",
      "Grönvold, Minka\n",
      "https://data.rkd.nl/artists/348391\n",
      "Grünwald, Margarete\n",
      "https://data.rkd.nl/artists/348520\n",
      "Guaita, Maria Anna Franziska von\n",
      "https://data.rkd.nl/artists/348527\n",
      "Guggenheim, Peggy\n",
      "https://data.rkd.nl/artists/437743\n",
      "Guillaume, R.M.\n",
      "https://data.rkd.nl/artists/113688\n",
      "Guillaumot-Adam, Emilie\n",
      "https://data.rkd.nl/artists/113689\n",
      "Gumlich-Kempf, Anna\n",
      "https://data.rkd.nl/artists/348540\n",
      "Guro, Elena Genrikhovna\n",
      "https://data.rkd.nl/artists/344808\n",
      "Gustafson-Lascari, Hilda Kristina\n",
      "https://data.rkd.nl/artists/121145\n",
      "Gutteling, Mathilde Cornelie\n",
      "https://data.rkd.nl/artists/111625\n",
      "Guttmann, Ida\n",
      "https://data.rkd.nl/artists/348573\n",
      "Guyon, Maximilienne\n",
      "https://data.rkd.nl/artists/34769\n",
      "Guyot, Laure-Cécile\n",
      "https://data.rkd.nl/artists/34771\n",
      "Gág, Wanda\n",
      "https://data.rkd.nl/artists/29917\n",
      "Göbl-Wahl, Camilla\n",
      "https://data.rkd.nl/artists/218840\n",
      "Götte, Janna Willemina\n",
      "https://data.rkd.nl/artists/421393\n",
      "Gürlet-Hey, Else\n",
      "https://data.rkd.nl/artists/348569\n",
      "Haan, Frederika Johanna de\n",
      "https://data.rkd.nl/artists/34872\n",
      "Haan, Maria Josina de\n",
      "https://data.rkd.nl/artists/366841\n",
      "Haanen, Adriana\n",
      "https://data.rkd.nl/artists/34899\n",
      "Haanen, Elisabeth Alida\n",
      "https://data.rkd.nl/artists/34902\n",
      "Haas, Hermina van der\n",
      "https://data.rkd.nl/artists/34950\n",
      "Haas, Maria de\n",
      "https://data.rkd.nl/artists/92935\n",
      "Haasbroek-Hessels, Truus\n",
      "https://data.rkd.nl/artists/374501\n",
      "Haavardsholm, Froydis\n",
      "https://data.rkd.nl/artists/340276\n",
      "Haensgen-Dingkuhn, Elsa\n",
      "https://data.rkd.nl/artists/348717\n",
      "Haersolte-de Lange, Jacoba G. van\n",
      "https://data.rkd.nl/artists/35152\n",
      "Haesely, Jenny\n",
      "https://data.rkd.nl/artists/424723\n",
      "Hagelen-Schilt, Nel\n",
      "https://data.rkd.nl/artists/70528\n",
      "Hagen-Schwarz, Julie Wilhelmine\n",
      "https://data.rkd.nl/artists/219477\n",
      "Haghuis, Gerrtrui Johanna\n",
      "https://data.rkd.nl/artists/463371\n",
      "Hahnemann, Melanie\n",
      "https://data.rkd.nl/artists/493507\n",
      "Hale, Ellen Day\n",
      "https://data.rkd.nl/artists/35401\n",
      "Hale, Kathleen\n",
      "https://data.rkd.nl/artists/35403\n",
      "Hale, Lilian Westcott\n",
      "https://data.rkd.nl/artists/105965\n",
      "Halicka, Alice\n",
      "https://data.rkd.nl/artists/35433\n",
      "Hall, Edna Clarke (Lady)\n",
      "https://data.rkd.nl/artists/35452\n",
      "Hall, Therese van\n",
      "https://data.rkd.nl/artists/35483\n",
      "Hallavanya, Emilie von\n",
      "https://data.rkd.nl/artists/219569\n",
      "Haller, Anna\n",
      "https://data.rkd.nl/artists/485366\n",
      "Halm, Pauline\n",
      "https://data.rkd.nl/artists/287321\n",
      "Halpern, Lea\n",
      "https://data.rkd.nl/artists/87314\n",
      "Hamburger, Hélène\n",
      "https://data.rkd.nl/artists/333706\n",
      "Hamburger-Fairbairn, Eleonora Elisabeth\n",
      "https://data.rkd.nl/artists/366080\n",
      "Hamilton-Falise, Henriëtte\n",
      "https://data.rkd.nl/artists/123152\n",
      "Hampel, Charlotte\n",
      "https://data.rkd.nl/artists/35734\n",
      "Hankes Drielsma, Elisabeth\n",
      "https://data.rkd.nl/artists/369856\n",
      "Hansch, Auguste Adolphine Wilhelmine\n",
      "https://data.rkd.nl/artists/348918\n",
      "Hansen, Ane Marie\n",
      "https://data.rkd.nl/artists/35859\n",
      "Hansen, Jacoba Catharina Dorothea\n",
      "https://data.rkd.nl/artists/35881\n",
      "Hansen, Louise Christiane\n",
      "https://data.rkd.nl/artists/35887\n",
      "Hardenberg, Maria Elisabeth\n",
      "https://data.rkd.nl/artists/35951\n",
      "Harrison, Sarah Cecilia\n",
      "https://data.rkd.nl/artists/36169\n",
      "Harst, Marie van der\n",
      "https://data.rkd.nl/artists/228860\n",
      "Hart, Cornelia van der\n",
      "https://data.rkd.nl/artists/36192\n",
      "Hart, Letitia Bennet\n",
      "https://data.rkd.nl/artists/36203\n",
      "Hart, Maria Theresia\n",
      "https://data.rkd.nl/artists/36205\n",
      "Harten, Henriëtte\n",
      "https://data.rkd.nl/artists/87598\n",
      "Hartenthal, Mathilde von\n",
      "https://data.rkd.nl/artists/348951\n",
      "Harting, Clara Geertruida Maria\n",
      "https://data.rkd.nl/artists/87601\n",
      "Hartogh, Fanny Rosine Henriëtte\n",
      "https://data.rkd.nl/artists/367172\n",
      "Hartogh, Wilhelmina Henriette de\n",
      "https://data.rkd.nl/artists/36295\n",
      "Hartong, Marianne\n",
      "https://data.rkd.nl/artists/36298\n",
      "Hasse, Sella\n",
      "https://data.rkd.nl/artists/340605\n",
      "Hasselman, Eugenie\n",
      "https://data.rkd.nl/artists/230218\n",
      "Hasselt, Alida van\n",
      "https://data.rkd.nl/artists/463407\n",
      "Hasselt, Bertha van\n",
      "https://data.rkd.nl/artists/36410\n",
      "Hasselt, Eleonora Jacoba Susanna Louisa van\n"
     ]
    },
    {
     "name": "stdout",
     "output_type": "stream",
     "text": [
      "https://data.rkd.nl/artists/367187\n",
      "Hasselt, Emmerentia Christina van\n",
      "https://data.rkd.nl/artists/36412\n",
      "Hasselt, Johanna van\n",
      "https://data.rkd.nl/artists/421579\n",
      "Hasselt, Margot van\n",
      "https://data.rkd.nl/artists/111398\n",
      "Hattem, Jacoba Charlotte Johanna van\n",
      "https://data.rkd.nl/artists/421563\n",
      "Hatterman, Nola\n",
      "https://data.rkd.nl/artists/36444\n",
      "Hattink, Elisabeth\n",
      "https://data.rkd.nl/artists/111409\n",
      "Hauge, Marie\n",
      "https://data.rkd.nl/artists/463647\n",
      "Hauptmann, Eugenie\n",
      "https://data.rkd.nl/artists/36488\n",
      "Hautot, Rachel Lucy\n",
      "https://data.rkd.nl/artists/211648\n",
      "Hauttmann, Minna\n",
      "https://data.rkd.nl/artists/244055\n",
      "Havemeyer, Louisine\n",
      "https://data.rkd.nl/artists/453769\n",
      "Haverman-Birnie, Carolina\n",
      "https://data.rkd.nl/artists/36578\n",
      "Havlena, Julia\n",
      "https://data.rkd.nl/artists/349097\n",
      "Hawarden, Clementina\n",
      "https://data.rkd.nl/artists/254111\n",
      "Hawkins-Whitshed, Elizabeth Sophia\n",
      "https://data.rkd.nl/artists/307629\n",
      "Hayllar, Jessica\n",
      "https://data.rkd.nl/artists/36669\n",
      "Hazelenkamp, Maria van der\n",
      "https://data.rkd.nl/artists/463410\n",
      "Hazelhoff Roelfzema, Maria\n",
      "https://data.rkd.nl/artists/110406\n",
      "Heckert, Maria\n",
      "https://data.rkd.nl/artists/349120\n",
      "Hedinger, Elise\n",
      "https://data.rkd.nl/artists/36819\n",
      "Heek, Ina van\n",
      "https://data.rkd.nl/artists/36833\n",
      "Heek, Marie Geertruid van\n",
      "https://data.rkd.nl/artists/231749\n",
      "Heemskerck van Beest, Jacoba van\n",
      "https://data.rkd.nl/artists/36850\n",
      "Heemskerck-Deux, Elodie van\n",
      "https://data.rkd.nl/artists/36855\n",
      "Heerdt, Charlotte Wilhelmine van\n",
      "https://data.rkd.nl/artists/369951\n",
      "Heerdt, Emma\n",
      "https://data.rkd.nl/artists/349134\n",
      "Heeren, Minna\n",
      "https://data.rkd.nl/artists/99152\n",
      "Heerfordt, Anna Cathrine Christine\n",
      "https://data.rkd.nl/artists/463651\n",
      "Heger, Hilde\n",
      "https://data.rkd.nl/artists/288753\n",
      "Hegg-de Landerset, Teresa Maria\n",
      "https://data.rkd.nl/artists/36956\n",
      "Heide, Annie van der\n",
      "https://data.rkd.nl/artists/233431\n",
      "Heider-Schweinitz, Maria von\n",
      "https://data.rkd.nl/artists/288785\n",
      "Heijermans, Marie\n",
      "https://data.rkd.nl/artists/37034\n",
      "Heijligers, Nettie\n",
      "https://data.rkd.nl/artists/37043\n",
      "Heijmans, Pieternella Johanna Maria\n",
      "https://data.rkd.nl/artists/37055\n",
      "Heijnis, Johanna Jeannette\n",
      "https://data.rkd.nl/artists/37068\n",
      "Heil, Fri\n",
      "https://data.rkd.nl/artists/37076\n",
      "Heineken, Marie\n",
      "https://data.rkd.nl/artists/37123\n",
      "Heintges, Jeanette Adriana\n",
      "https://data.rkd.nl/artists/421554\n",
      "Hel-Enri, H\n",
      "https://data.rkd.nl/artists/26384\n",
      "Heldring, Henriëtte\n",
      "https://data.rkd.nl/artists/369901\n",
      "Helenius, Ester\n",
      "https://data.rkd.nl/artists/463670\n",
      "Heller-Lazard, Ilse\n",
      "https://data.rkd.nl/artists/425191\n",
      "Heller-Ostersetzer, Hermine\n",
      "https://data.rkd.nl/artists/220171\n",
      "Hellesen, Johanne\n",
      "https://data.rkd.nl/artists/273038\n",
      "Helmbold, Lenie\n",
      "https://data.rkd.nl/artists/87680\n",
      "Helweg, Maria Jacoba\n",
      "https://data.rkd.nl/artists/421580\n",
      "Helweg-Fredriks, Maria Jacoba\n",
      "https://data.rkd.nl/artists/335317\n",
      "Hendrickx, Josephina\n",
      "https://data.rkd.nl/artists/87711\n",
      "Hendriks, Anna Maria\n",
      "https://data.rkd.nl/artists/87712\n",
      "Hendriks, Cornelia Maria\n",
      "https://data.rkd.nl/artists/87716\n",
      "Hendriks, Elisabeth\n",
      "https://data.rkd.nl/artists/356485\n",
      "Hendriks, Sara\n",
      "https://data.rkd.nl/artists/37473\n",
      "Hengel, Maria Elisabeth van\n",
      "https://data.rkd.nl/artists/234616\n",
      "Henkes, Hetty (1869-1960)\n",
      "https://data.rkd.nl/artists/37530\n",
      "Henri, Florence\n",
      "https://data.rkd.nl/artists/37586\n",
      "Henriques de Castro, Esther\n",
      "https://data.rkd.nl/artists/37608\n",
      "Henriques, Marie\n",
      "https://data.rkd.nl/artists/463676\n",
      "Hense, Sara\n",
      "https://data.rkd.nl/artists/235145\n",
      "Herbelin, Mathilde\n",
      "https://data.rkd.nl/artists/429339\n",
      "Herckenrath, Jeane Marie Christine\n",
      "https://data.rkd.nl/artists/367482\n",
      "Herfst, Reloffine\n",
      "https://data.rkd.nl/artists/423464\n",
      "Herfst-Alard, Julie\n",
      "https://data.rkd.nl/artists/853\n",
      "Herland, Emma\n",
      "https://data.rkd.nl/artists/37768\n",
      "Herman, Hermine von\n",
      "https://data.rkd.nl/artists/220498\n",
      "Hermans, Josephine\n",
      "https://data.rkd.nl/artists/37813\n",
      "Hertzveld, Estella Dorothea Salomea\n",
      "https://data.rkd.nl/artists/443619\n",
      "Hervieu, Louise Jeanne Aimée\n",
      "https://data.rkd.nl/artists/37980\n",
      "Herwegen-Manini, Veronika Maria\n",
      "https://data.rkd.nl/artists/37988\n",
      "Herwerden, Maria Anna van\n",
      "https://data.rkd.nl/artists/235666\n",
      "Herz, Sophia\n",
      "https://data.rkd.nl/artists/376007\n",
      "Herzberg, Liesbeth\n",
      "https://data.rkd.nl/artists/490724\n",
      "Herzing, Minni\n",
      "https://data.rkd.nl/artists/289921\n",
      "Heteren-Vink, Roeloffina van\n",
      "https://data.rkd.nl/artists/235743\n",
      "Hettinga Tromp, Maria Geertruida Agatha Levina van\n",
      "https://data.rkd.nl/artists/421585\n",
      "Hettinga Tromp, Tjitske Geertruida Maria van\n",
      "https://data.rkd.nl/artists/38099\n",
      "Heukelom, Louise van\n",
      "https://data.rkd.nl/artists/460215\n",
      "Heukelom, Sara van\n",
      "https://data.rkd.nl/artists/38111\n",
      "Heukers, Titia\n",
      "https://data.rkd.nl/artists/364738\n",
      "Heurn, Henriëtte Anna van\n",
      "https://data.rkd.nl/artists/116076\n",
      "Heurn, Jeanne Esther Leopoldina van\n",
      "https://data.rkd.nl/artists/367515\n",
      "Heyning, Adelaida Jacoba\n",
      "https://data.rkd.nl/artists/38296\n",
      "Heyning, Maria\n",
      "https://data.rkd.nl/artists/38297\n",
      "Heynis, Johanna Alida\n",
      "https://data.rkd.nl/artists/236944\n",
      "Heynsius, Jeanne Marie\n",
      "https://data.rkd.nl/artists/38299\n",
      "Hijmans, Jeannette Henriette\n",
      "https://data.rkd.nl/artists/370027\n",
      "Hildebrandt, Lily\n",
      "https://data.rkd.nl/artists/220584\n",
      "Hille, Maria\n",
      "https://data.rkd.nl/artists/372649\n",
      "Hiller, Lo\n",
      "https://data.rkd.nl/artists/349643\n",
      "Hills, Laura Coombs\n",
      "https://data.rkd.nl/artists/86971\n",
      "Hiorth, Agnes\n",
      "https://data.rkd.nl/artists/463697\n",
      "Hirschig, Matthia Antonia\n",
      "https://data.rkd.nl/artists/345597\n",
      "Hirschmann, Sophie\n",
      "https://data.rkd.nl/artists/38575\n",
      "Hirst, Claude Raquet\n",
      "https://data.rkd.nl/artists/38580\n",
      "Hitz, Dora\n",
      "https://data.rkd.nl/artists/38608\n",
      "Hjertén, Sigrid\n",
      "https://data.rkd.nl/artists/38612\n",
      "Hodgkins, Frances\n",
      "https://data.rkd.nl/artists/38676\n",
      "Hoeg, Marie\n",
      "https://data.rkd.nl/artists/402200\n",
      "Hoegel, Mina\n",
      "https://data.rkd.nl/artists/349775\n",
      "Hoeker, Christine\n",
      "https://data.rkd.nl/artists/421458\n",
      "Hoerle, Angelika\n",
      "https://data.rkd.nl/artists/420892\n",
      "Hoet, Gerarda Wilhelmina ten\n",
      "https://data.rkd.nl/artists/38842\n",
      "Hoeufft, Adelaide Jacqueline Cornelie\n",
      "https://data.rkd.nl/artists/367586\n",
      "Hoeufft, Agnes Jeannette\n",
      "https://data.rkd.nl/artists/370046\n",
      "Hoeufft, Wilhelmina\n",
      "https://data.rkd.nl/artists/370048\n",
      "Hoeven, Sara van der\n",
      "https://data.rkd.nl/artists/88841\n",
      "Hoevenaar, Cornelia Christina Johanna\n",
      "https://data.rkd.nl/artists/38872\n",
      "Hoevenaar, Hendrika Josepha\n",
      "https://data.rkd.nl/artists/423417\n",
      "Hoffman, Malvina\n",
      "https://data.rkd.nl/artists/38940\n",
      "Hoffmann, Elsa\n",
      "https://data.rkd.nl/artists/220954\n",
      "Hoffmann-Canstein, Olga\n",
      "https://data.rkd.nl/artists/221032\n",
      "Hofman-Bang, Ellen\n",
      "https://data.rkd.nl/artists/463703\n",
      "Hofrichter, Martha\n",
      "https://data.rkd.nl/artists/349961\n",
      "Hogendorp-s' Jacob, Adrienne van\n",
      "https://data.rkd.nl/artists/88515\n",
      "Hogerwaard, Alice\n",
      "https://data.rkd.nl/artists/367822\n",
      "Hoijer, Jacoba Theodora Agnes Catharina\n",
      "https://data.rkd.nl/artists/111585\n",
      "Hoitsema, Ida\n",
      "https://data.rkd.nl/artists/367959\n",
      "Hojel, Fanny\n",
      "https://data.rkd.nl/artists/370078\n",
      "Hollenstein, Stephanie\n",
      "https://data.rkd.nl/artists/39191\n",
      "Holm-Møller, Olivia\n",
      "https://data.rkd.nl/artists/39218\n",
      "Holmström, Tora\n",
      "https://data.rkd.nl/artists/463710\n",
      "Holsboer, Helena Lucretia\n",
      "https://data.rkd.nl/artists/421587\n",
      "Holster, Adriana Cornelia\n",
      "https://data.rkd.nl/artists/367964\n",
      "Holster, Jacoba Wilhelmina\n",
      "https://data.rkd.nl/artists/367967\n",
      "Holten, Sofie (1858-1930)\n",
      "https://data.rkd.nl/artists/463711\n",
      "Holthe tot Echten, Louise van\n",
      "https://data.rkd.nl/artists/39315\n",
      "Holzhausen, Olga von (Freifrau)\n",
      "https://data.rkd.nl/artists/350091\n",
      "Holzhausen-Martini, Margarete von\n",
      "https://data.rkd.nl/artists/350090\n",
      "Homberg-Hannema, Nita\n",
      "https://data.rkd.nl/artists/39379\n",
      "Hone, Evie S.\n",
      "https://data.rkd.nl/artists/39420\n",
      "Honert, Anna Suzanna van den\n",
      "https://data.rkd.nl/artists/421463\n",
      "Honig, Nellie\n",
      "https://data.rkd.nl/artists/92989\n",
      "Honig, Tine\n",
      "https://data.rkd.nl/artists/39432\n",
      "Hooft, Ina\n",
      "https://data.rkd.nl/artists/39474\n",
      "Hoogenboom, Anna Helena Pieria\n",
      "https://data.rkd.nl/artists/421518\n",
      "Hoogendijk, Maria Ida Adriana\n",
      "https://data.rkd.nl/artists/39514\n",
      "Hoogewerff, Nancy Anna\n",
      "https://data.rkd.nl/artists/88688\n",
      "Hoogstraten, Maria van\n",
      "https://data.rkd.nl/artists/39586\n",
      "Hoola van Nooten, Bartha\n",
      "https://data.rkd.nl/artists/416017\n",
      "Hoop, Marie van der\n",
      "https://data.rkd.nl/artists/371019\n",
      "Hoorn, Cato van\n",
      "https://data.rkd.nl/artists/366200\n",
      "Hoorn, Diena Anna van\n",
      "https://data.rkd.nl/artists/111497\n",
      "Hopkins, Edna Boies\n",
      "https://data.rkd.nl/artists/368273\n",
      "Hormuth-Kallmorgen, Margarethe\n",
      "https://data.rkd.nl/artists/221229\n"
     ]
    },
    {
     "name": "stdout",
     "output_type": "stream",
     "text": [
      "Horn-Zippelius, Dora\n",
      "https://data.rkd.nl/artists/350148\n",
      "Horovitz, Dora\n",
      "https://data.rkd.nl/artists/395304\n",
      "Horst, Gerarda van der\n",
      "https://data.rkd.nl/artists/367987\n",
      "Horst-Zilcken, Renée Hélène Laure\n",
      "https://data.rkd.nl/artists/110344\n",
      "Horstman, Alida Wilhelmina Margaretha\n",
      "https://data.rkd.nl/artists/367989\n",
      "Hoschedé-Monet, Blanche\n",
      "https://data.rkd.nl/artists/39897\n",
      "Hosmer, Harriet\n",
      "https://data.rkd.nl/artists/121636\n",
      "Houston, Frances C.\n",
      "https://data.rkd.nl/artists/87002\n",
      "Houten, Alida van\n",
      "https://data.rkd.nl/artists/88391\n",
      "Houten, Anna van (1846-1899)\n",
      "https://data.rkd.nl/artists/368002\n",
      "Houten, Barbara Elisabeth van\n",
      "https://data.rkd.nl/artists/40025\n",
      "Houten, Lydie van\n",
      "https://data.rkd.nl/artists/111578\n",
      "Houten-Edwards, Anna van\n",
      "https://data.rkd.nl/artists/40027\n",
      "Houtum, Josephine van\n",
      "https://data.rkd.nl/artists/414263\n",
      "Houweninge, Adriana Diderika van\n",
      "https://data.rkd.nl/artists/111557\n",
      "Hove, Henriëtte van\n",
      "https://data.rkd.nl/artists/90069\n",
      "Hove, Maria Arnoldina van\n",
      "https://data.rkd.nl/artists/110434\n",
      "Hovine, Jeanne\n",
      "https://data.rkd.nl/artists/443881\n",
      "Hovy, Maria Johanna\n",
      "https://data.rkd.nl/artists/366203\n",
      "Howell, Félicie Waldo\n",
      "https://data.rkd.nl/artists/40159\n",
      "Howet, Marie\n",
      "https://data.rkd.nl/artists/40163\n",
      "Hoyer van Brakel, Louise\n",
      "https://data.rkd.nl/artists/40182\n",
      "Hoynck van Papendrecht, Cornelia Mathilde\n",
      "https://data.rkd.nl/artists/367831\n",
      "Hoytema, Antoinette van\n",
      "https://data.rkd.nl/artists/88420\n",
      "Hubrecht, Bramine\n",
      "https://data.rkd.nl/artists/88428\n",
      "Hubrecht, Maria\n",
      "https://data.rkd.nl/artists/88429\n",
      "Hubregtse-Lanzing, Henriëtte\n",
      "https://data.rkd.nl/artists/40272\n",
      "Hudson, Grace Carpenter\n",
      "https://data.rkd.nl/artists/40288\n",
      "Hugenholtz, Arina\n",
      "https://data.rkd.nl/artists/88433\n",
      "Hughes, Mary Kathleen\n",
      "https://data.rkd.nl/artists/99276\n",
      "Hugo-Gross, Valentine\n",
      "https://data.rkd.nl/artists/40378\n",
      "Huidekoper, Geertruida Margaretha Jacoba\n",
      "https://data.rkd.nl/artists/40408\n",
      "Huijgens, Johanna\n",
      "https://data.rkd.nl/artists/111097\n",
      "Huitema-Kaiser, Betsy\n",
      "https://data.rkd.nl/artists/40464\n",
      "Huizinga, Catharina\n",
      "https://data.rkd.nl/artists/88920\n",
      "Hulst, Thalé\n",
      "https://data.rkd.nl/artists/95946\n",
      "Humann, Catharina Paulina\n",
      "https://data.rkd.nl/artists/370656\n",
      "Huntington, Anna Vaughn\n",
      "https://data.rkd.nl/artists/120642\n",
      "Huth, Marta\n",
      "https://data.rkd.nl/artists/395328\n",
      "Hutjens-Koene, Gertrude\n",
      "https://data.rkd.nl/artists/111283\n",
      "Huygens, Henrietta Adriana\n",
      "https://data.rkd.nl/artists/88453\n",
      "Hynckes-Zahn, Marguérite\n",
      "https://data.rkd.nl/artists/40863\n",
      "Hällfors-Sipilä, Greta\n",
      "https://data.rkd.nl/artists/345742\n",
      "Hébuterne, Jeanne\n",
      "https://data.rkd.nl/artists/113751\n",
      "Höch, Hannah\n",
      "https://data.rkd.nl/artists/38703\n",
      "Höchstädt, Anna\n",
      "https://data.rkd.nl/artists/486866\n",
      "Høst, Marianne\n",
      "https://data.rkd.nl/artists/463717\n",
      "Hügel, Helmut vom\n",
      "https://data.rkd.nl/artists/221330\n",
      "IJsselstein, Paulina van\n",
      "https://data.rkd.nl/artists/375258\n",
      "IJzerdraat, Hermina\n",
      "https://data.rkd.nl/artists/110323\n",
      "IJzerman, Huberta Nicoline\n",
      "https://data.rkd.nl/artists/421584\n",
      "Idserda-van der Lee, Coba\n",
      "https://data.rkd.nl/artists/40905\n",
      "Immerzeel, Anna Maria\n",
      "https://data.rkd.nl/artists/40996\n",
      "Ingelse, Corine\n",
      "https://data.rkd.nl/artists/417510\n",
      "Ingen-Reerink, Emmy van\n",
      "https://data.rkd.nl/artists/89177\n",
      "Iranyi, Ella\n",
      "https://data.rkd.nl/artists/350533\n",
      "Ironside, Adelaide\n",
      "https://data.rkd.nl/artists/251265\n",
      "Itasse-Broquet, Jeanne\n",
      "https://data.rkd.nl/artists/211924\n",
      "Iterson-Knoepfle, Olga van\n",
      "https://data.rkd.nl/artists/41196\n",
      "Iwaarden, Janna van\n",
      "https://data.rkd.nl/artists/89199\n",
      "Jaarsma, Egberdina Hester\n",
      "https://data.rkd.nl/artists/89192\n",
      "Jaarsma, Johanna\n",
      "https://data.rkd.nl/artists/89194\n",
      "Jacobi, Annot\n",
      "https://data.rkd.nl/artists/127560\n",
      "Jacobi, Lotte\n",
      "https://data.rkd.nl/artists/384933\n",
      "Jacobson, Mirjam Rosa\n",
      "https://data.rkd.nl/artists/89278\n",
      "Jacometti, Bettina W.\n",
      "https://data.rkd.nl/artists/41412\n",
      "Jacquart, Lucie\n",
      "https://data.rkd.nl/artists/41462\n",
      "Jacquemart, Nelie\n",
      "https://data.rkd.nl/artists/41469\n",
      "Jacquemin, Jeanne\n",
      "https://data.rkd.nl/artists/41473\n",
      "Jacquemot, Blanche\n",
      "https://data.rkd.nl/artists/114012\n",
      "Jacques-Marie\n",
      "https://data.rkd.nl/artists/293292\n",
      "Jagerspacher-Häflinger, Helene\n",
      "https://data.rkd.nl/artists/125983\n",
      "James, Edith Augusta (1857-1898)\n",
      "https://data.rkd.nl/artists/41604\n",
      "Janda, Hermine von\n",
      "https://data.rkd.nl/artists/41655\n",
      "Jansen, Jo\n",
      "https://data.rkd.nl/artists/89445\n",
      "Jansen, Louise\n",
      "https://data.rkd.nl/artists/41780\n",
      "Janssen, Maria Francisca Hubertina\n",
      "https://data.rkd.nl/artists/89501\n",
      "Janssen, Miek\n",
      "https://data.rkd.nl/artists/41888\n",
      "Jas, Maria Johanna Alberta Theodora\n",
      "https://data.rkd.nl/artists/421561\n",
      "Jaulus, Rose Maud\n",
      "https://data.rkd.nl/artists/422636\n",
      "Jeannot, Sarah\n",
      "https://data.rkd.nl/artists/125988\n",
      "Jechl, Isa\n",
      "https://data.rkd.nl/artists/350755\n",
      "Jekyll, Gertrude\n",
      "https://data.rkd.nl/artists/294204\n",
      "Jenks, Phoebe\n",
      "https://data.rkd.nl/artists/87210\n",
      "Jerichau-Baumann, Anna Maria Elisabeth\n",
      "https://data.rkd.nl/artists/42220\n",
      "Jessurun de Mesquita, Anna\n",
      "https://data.rkd.nl/artists/421455\n",
      "Jewett, Maude Sherwood\n",
      "https://data.rkd.nl/artists/121789\n",
      "Joel, Grace\n",
      "https://data.rkd.nl/artists/42354\n",
      "Johannpeter, Martha\n",
      "https://data.rkd.nl/artists/232653\n",
      "Johansen, Jean McLane\n",
      "https://data.rkd.nl/artists/87217\n",
      "John, Gwendolyn Mary\n",
      "https://data.rkd.nl/artists/42390\n",
      "Johnston, Frances Benjamin\n",
      "https://data.rkd.nl/artists/352669\n",
      "Johnstone, Dorothy\n",
      "https://data.rkd.nl/artists/42452\n",
      "Jone, Hildegart\n",
      "https://data.rkd.nl/artists/361311\n",
      "Jong, Aaltje de\n",
      "https://data.rkd.nl/artists/457713\n",
      "Jong, Gretha de (1890-1970)\n",
      "https://data.rkd.nl/artists/89536\n",
      "Jonge, Marie de\n",
      "https://data.rkd.nl/artists/42722\n",
      "Jongejan-Waltman, A.\n",
      "https://data.rkd.nl/artists/42737\n",
      "Jonnaert, Clémence\n",
      "https://data.rkd.nl/artists/42828\n",
      "Jonsdottir, Kristín\n",
      "https://data.rkd.nl/artists/254075\n",
      "Jooss, Melanie Alice\n",
      "https://data.rkd.nl/artists/350788\n",
      "Jordaan-van Heek, Bertha\n",
      "https://data.rkd.nl/artists/89961\n",
      "Jordan, Paula\n",
      "https://data.rkd.nl/artists/295134\n",
      "Jorissen-Cox, Marie\n",
      "https://data.rkd.nl/artists/123870\n",
      "Jost, Ottilie\n",
      "https://data.rkd.nl/artists/87242\n",
      "Jouclard, Adrienne\n",
      "https://data.rkd.nl/artists/42971\n",
      "Jozon, Jeanne\n",
      "https://data.rkd.nl/artists/212012\n",
      "Jung, Elisabeth\n",
      "https://data.rkd.nl/artists/340347\n",
      "Junge, Ekaterina Fiodorovna\n",
      "https://data.rkd.nl/artists/43101\n",
      "Junge, Margarete\n",
      "https://data.rkd.nl/artists/291356\n",
      "Jungk, Elfriede\n",
      "https://data.rkd.nl/artists/221666\n",
      "Jäger, Adeline\n",
      "https://data.rkd.nl/artists/221440\n",
      "Jürgens, Grethe\n",
      "https://data.rkd.nl/artists/221691\n",
      "Kabell-Rosenørn, Ludovica Nicolette\n",
      "https://data.rkd.nl/artists/463877\n",
      "Kachura-Falileeva, Ekaterina Nikolaevna\n",
      "https://data.rkd.nl/artists/346275\n",
      "Kahn, Dorry\n",
      "https://data.rkd.nl/artists/110533\n",
      "Kaiser, Louise\n",
      "https://data.rkd.nl/artists/43258\n",
      "Kalckreuth, Marie von\n",
      "https://data.rkd.nl/artists/43272\n",
      "Kallin-Fischer, Grit\n",
      "https://data.rkd.nl/artists/388629\n",
      "Kallmus, Dora\n",
      "https://data.rkd.nl/artists/378655\n",
      "Kallstenius-Roosval, Gerda\n",
      "https://data.rkd.nl/artists/283557\n",
      "Kalmár de Kövesházi, Elza\n",
      "https://data.rkd.nl/artists/300380\n",
      "Kalshoven-Biermans, Else\n",
      "https://data.rkd.nl/artists/43322\n",
      "Kan, Thecla Caroline\n",
      "https://data.rkd.nl/artists/111304\n",
      "Kanaga, Consuelo\n",
      "https://data.rkd.nl/artists/385771\n",
      "Kann, Elise\n",
      "https://data.rkd.nl/artists/90276\n",
      "Kappeler, Dora\n",
      "https://data.rkd.nl/artists/254811\n",
      "Kappen, Maria\n",
      "https://data.rkd.nl/artists/370853\n",
      "Karasz, Illonka\n",
      "https://data.rkd.nl/artists/87325\n",
      "Karlowska, Stanislawa de\n",
      "https://data.rkd.nl/artists/43500\n",
      "Karpelès, Andrée\n",
      "https://data.rkd.nl/artists/114084\n",
      "Kartini, Raden Adjeng\n",
      "https://data.rkd.nl/artists/424939\n",
      "Kartsch, Marie\n",
      "https://data.rkd.nl/artists/43546\n",
      "Kashkadamova, Elizaveta Nikolaevna\n",
      "https://data.rkd.nl/artists/360899\n",
      "Kasteele, Johanna van de\n",
      "https://data.rkd.nl/artists/88592\n",
      "Kasteleijn, Catharina Theodora\n",
      "https://data.rkd.nl/artists/111301\n",
      "Kaub, Barbara Elisabeth\n",
      "https://data.rkd.nl/artists/370865\n",
      "Keer, Elisabeth Mathilda\n",
      "https://data.rkd.nl/artists/361115\n",
      "Keg, Marie\n",
      "https://data.rkd.nl/artists/90312\n",
      "Kehrer, Anna\n",
      "https://data.rkd.nl/artists/421581\n",
      "Keijser, Lucie\n",
      "https://data.rkd.nl/artists/88611\n",
      "Kellen, Louise Charlotte van der\n",
      "https://data.rkd.nl/artists/111297\n",
      "Keller, Elisabeth\n",
      "https://data.rkd.nl/artists/126004\n",
      "Keller-Hermann, Marie\n",
      "https://data.rkd.nl/artists/222102\n",
      "Kellner, Margo von\n",
      "https://data.rkd.nl/artists/370889\n",
      "Kelting, Marie\n",
      "https://data.rkd.nl/artists/43834\n",
      "Kemp-Welch, Lucy Elizabeth\n",
      "https://data.rkd.nl/artists/43876\n",
      "Kempe, Hortense\n",
      "https://data.rkd.nl/artists/43879\n",
      "Kempers, Nettie\n",
      "https://data.rkd.nl/artists/370907\n",
      "Kendall, Margaret\n",
      "https://data.rkd.nl/artists/87370\n",
      "Kerckhoff, Emilie van\n",
      "https://data.rkd.nl/artists/88597\n",
      "Kerkovius, Ida\n",
      "https://data.rkd.nl/artists/44007\n",
      "Kerlen, Johanna Maria Elisabeth\n",
      "https://data.rkd.nl/artists/421430\n",
      "Kerlen, Wilhelmina Cornelia\n",
      "https://data.rkd.nl/artists/367519\n",
      "Kerling, Anna\n",
      "https://data.rkd.nl/artists/88602\n",
      "Kernkamp, Anna\n",
      "https://data.rkd.nl/artists/44026\n",
      "Keszler, Johanna\n",
      "https://data.rkd.nl/artists/351400\n",
      "Kets, Gerhardina\n",
      "https://data.rkd.nl/artists/421556\n",
      "Keuchenius, Wilhelmina\n",
      "https://data.rkd.nl/artists/88607\n",
      "Keudell, Marie von\n",
      "https://data.rkd.nl/artists/44156\n",
      "Keyser, Elisabeth (1851-1898)\n",
      "https://data.rkd.nl/artists/44217\n",
      "Keyser, Ragnhild\n",
      "https://data.rkd.nl/artists/464018\n",
      "Kiehl, Wilhelmine\n",
      "https://data.rkd.nl/artists/257268\n",
      "Kielland, Kitty Lange\n",
      "https://data.rkd.nl/artists/44279\n",
      "Kiers, Catharina\n",
      "https://data.rkd.nl/artists/88613\n",
      "Kietaibl-Hofmann, Anna\n",
      "https://data.rkd.nl/artists/351435\n",
      "Kimball, Katharine\n",
      "https://data.rkd.nl/artists/44352\n",
      "Kindt, Adèle\n",
      "https://data.rkd.nl/artists/44375\n",
      "King, Lilian Yeend\n",
      "https://data.rkd.nl/artists/209964\n",
      "Kinzel, Elise\n",
      "https://data.rkd.nl/artists/98772\n",
      "Kiraly, Maria\n",
      "https://data.rkd.nl/artists/351454\n",
      "Kirchner, Emma\n",
      "https://data.rkd.nl/artists/264075\n",
      "Kirchsberg, Ernestine von\n",
      "https://data.rkd.nl/artists/222267\n",
      "Kirmse, Marguerite\n"
     ]
    },
    {
     "name": "stdout",
     "output_type": "stream",
     "text": [
      "https://data.rkd.nl/artists/106122\n",
      "Kiseleva, Elena Andreevna\n",
      "https://data.rkd.nl/artists/211662\n",
      "Kissel, Eleonora\n",
      "https://data.rkd.nl/artists/106123\n",
      "Kist, Wilhelmine\n",
      "https://data.rkd.nl/artists/90416\n",
      "Kjellberg-Juel, Astrid\n",
      "https://data.rkd.nl/artists/464035\n",
      "Kjerner, Esther\n",
      "https://data.rkd.nl/artists/44553\n",
      "Kleber, Annie\n",
      "https://data.rkd.nl/artists/90432\n",
      "Klebusch, Hermine Auguste\n",
      "https://data.rkd.nl/artists/463964\n",
      "Kleeff, Johanna van\n",
      "https://data.rkd.nl/artists/90430\n",
      "Kleen, Tyra af\n",
      "https://data.rkd.nl/artists/44635\n",
      "Klees, Catharine\n",
      "https://data.rkd.nl/artists/90438\n",
      "Klein, Anna\n",
      "https://data.rkd.nl/artists/222331\n",
      "Kleine, Anna Josephina\n",
      "https://data.rkd.nl/artists/44709\n",
      "Kleintjes-van Osselen, Hedwig\n",
      "https://data.rkd.nl/artists/89518\n",
      "Klemm-Jäger, Hedwig\n",
      "https://data.rkd.nl/artists/222387\n",
      "Kleynhens, Helena Elisabeth\n",
      "https://data.rkd.nl/artists/371435\n",
      "Klint, Hilma af\n",
      "https://data.rkd.nl/artists/253481\n",
      "Klitgaard, Georgina\n",
      "https://data.rkd.nl/artists/87430\n",
      "Klok, Annie\n",
      "https://data.rkd.nl/artists/44878\n",
      "Kmentt-Montandon, Grete\n",
      "https://data.rkd.nl/artists/351757\n",
      "Knapp, Maria von\n",
      "https://data.rkd.nl/artists/486911\n",
      "Kneppelhout, Suzanna Elizabeth\n",
      "https://data.rkd.nl/artists/45020\n",
      "Kniep, Frieda\n",
      "https://data.rkd.nl/artists/222540\n",
      "Knight, Laura (Dame)\n",
      "https://data.rkd.nl/artists/45040\n",
      "Knipscheer, Margot\n",
      "https://data.rkd.nl/artists/88636\n",
      "Knittel, Anna\n",
      "https://data.rkd.nl/artists/351799\n",
      "Knobloch, Gertrud\n",
      "https://data.rkd.nl/artists/222550\n",
      "Knottenbelt, Willemina Johanna Alberta\n",
      "https://data.rkd.nl/artists/90476\n",
      "Knutson, Greta\n",
      "https://data.rkd.nl/artists/299018\n",
      "Knuttel, Elize\n",
      "https://data.rkd.nl/artists/45169\n",
      "Kobilca, Ivana\n",
      "https://data.rkd.nl/artists/287255\n",
      "Kobro, Katarzyna\n",
      "https://data.rkd.nl/artists/299046\n",
      "Koch von Langentreu, Friederike\n",
      "https://data.rkd.nl/artists/45221\n",
      "Koch-Otte, Benita\n",
      "https://data.rkd.nl/artists/299210\n",
      "Kock, Esther de\n",
      "https://data.rkd.nl/artists/88641\n",
      "Koehler, Florence\n",
      "https://data.rkd.nl/artists/87538\n",
      "Koehler, Mela\n",
      "https://data.rkd.nl/artists/45275\n",
      "Koekkoek, Adèle\n",
      "https://data.rkd.nl/artists/88648\n",
      "Koekkoek, Louise Hermina\n",
      "https://data.rkd.nl/artists/45309\n",
      "Koekkoek, Maria Louise\n",
      "https://data.rkd.nl/artists/88657\n",
      "Koene, Eleonora Johanna\n",
      "https://data.rkd.nl/artists/371534\n",
      "Koenig Rock\n",
      "https://data.rkd.nl/artists/45353\n",
      "Kogan, Nina Osipovna\n",
      "https://data.rkd.nl/artists/211594\n",
      "Kohnstamm, Dinah\n",
      "https://data.rkd.nl/artists/88706\n",
      "Kok, Petertje\n",
      "https://data.rkd.nl/artists/464052\n",
      "Kolkow, Clara Anna Elize von\n",
      "https://data.rkd.nl/artists/464057\n",
      "Kollberg, Lilly\n",
      "https://data.rkd.nl/artists/352047\n",
      "Koller, Broncia\n",
      "https://data.rkd.nl/artists/222682\n",
      "Koller, Silvia\n",
      "https://data.rkd.nl/artists/222686\n",
      "Kollwitz, Käthe\n",
      "https://data.rkd.nl/artists/45532\n",
      "Konchine, Nina Alexandrova\n",
      "https://data.rkd.nl/artists/358393\n",
      "Konek, Ida\n",
      "https://data.rkd.nl/artists/45565\n",
      "Koner, Sophie\n",
      "https://data.rkd.nl/artists/222702\n",
      "Koning, Elisabeth Johanna\n",
      "https://data.rkd.nl/artists/45606\n",
      "Koning, Sara\n",
      "https://data.rkd.nl/artists/45634\n",
      "Koning, Thalia\n",
      "https://data.rkd.nl/artists/90683\n",
      "Koning-Hawley, Wilhelmina Douglas de\n",
      "https://data.rkd.nl/artists/96431\n",
      "Koningh, Sophia de\n",
      "https://data.rkd.nl/artists/115067\n",
      "Koningsveld, Veuve J. van\n",
      "https://data.rkd.nl/artists/418431\n",
      "Konstantin-Hansen, Elise\n",
      "https://data.rkd.nl/artists/464094\n",
      "Kooij, Henriette Louise\n",
      "https://data.rkd.nl/artists/464276\n",
      "Kooiman, Elisabeth Maria Cornelia\n",
      "https://data.rkd.nl/artists/464264\n",
      "Kool, Cato\n",
      "https://data.rkd.nl/artists/88728\n",
      "Koomen, Frederika Wilhelmina\n",
      "https://data.rkd.nl/artists/464268\n",
      "Koopman, Henriëtte\n",
      "https://data.rkd.nl/artists/421459\n",
      "Koppers, Julia\n",
      "https://data.rkd.nl/artists/222784\n",
      "Korevaar, Hanny\n",
      "https://data.rkd.nl/artists/45905\n",
      "Korner, Henriette\n",
      "https://data.rkd.nl/artists/344310\n",
      "Kosnick-Kloss, Hannah\n",
      "https://data.rkd.nl/artists/46016\n",
      "Koster, Jo\n",
      "https://data.rkd.nl/artists/46053\n",
      "Koster-thoe Schwartzenberg, Bertha\n",
      "https://data.rkd.nl/artists/46078\n",
      "Kotarbinska, Julia\n",
      "https://data.rkd.nl/artists/302145\n",
      "Kotányi-Pollak, Hilda\n",
      "https://data.rkd.nl/artists/352277\n",
      "Koudelka, Pauline Freiin von\n",
      "https://data.rkd.nl/artists/46108\n",
      "Kouwenhoven, Gijsberta Maria\n",
      "https://data.rkd.nl/artists/371599\n",
      "Kraakman, Nina\n",
      "https://data.rkd.nl/artists/344429\n",
      "Krafft, Marie\n",
      "https://data.rkd.nl/artists/222946\n",
      "Kramer, Ancilla\n",
      "https://data.rkd.nl/artists/97736\n",
      "Kramer, Petronella Francina Cornelia\n",
      "https://data.rkd.nl/artists/464309\n",
      "Kranenburg, Teunsijna Johanna Albertine\n",
      "https://data.rkd.nl/artists/46287\n",
      "Krantz, Marie Antoinette\n",
      "https://data.rkd.nl/artists/371679\n",
      "Kraszewska, Otolia\n",
      "https://data.rkd.nl/artists/222962\n",
      "Kraus, Valerie\n",
      "https://data.rkd.nl/artists/340891\n",
      "Krause, Lina\n",
      "https://data.rkd.nl/artists/46330\n",
      "Krauss, Helene Freiin von\n",
      "https://data.rkd.nl/artists/222993\n",
      "Krauss-Pabst, Amalie\n",
      "https://data.rkd.nl/artists/340884\n",
      "Kreeft, Dien\n",
      "https://data.rkd.nl/artists/111273\n",
      "Kreidl-Winterberg, Rega\n",
      "https://data.rkd.nl/artists/352439\n",
      "Kritzler, Christine\n",
      "https://data.rkd.nl/artists/371808\n",
      "Kroeze, Maria Henriëtte\n",
      "https://data.rkd.nl/artists/90833\n",
      "Krogh, Charlotte Sofie Christiane Rosine von\n",
      "https://data.rkd.nl/artists/46519\n",
      "Krohg, Oda\n",
      "https://data.rkd.nl/artists/46522\n",
      "Kronburg, Sascha\n",
      "https://data.rkd.nl/artists/300944\n",
      "Kropholler, Margaret\n",
      "https://data.rkd.nl/artists/90864\n",
      "Kropp, Martha\n",
      "https://data.rkd.nl/artists/300958\n",
      "Kruglikova, Elizaveta Sergeevna\n",
      "https://data.rkd.nl/artists/346638\n",
      "Kruijff van Dorssen, Johanna Catharina de\n",
      "https://data.rkd.nl/artists/46689\n",
      "Kruijff, Anna Maria\n",
      "https://data.rkd.nl/artists/88774\n",
      "Kruimel, Johanna Jacoba\n",
      "https://data.rkd.nl/artists/371815\n",
      "Krull, Germaine\n",
      "https://data.rkd.nl/artists/223582\n",
      "Krummer, Elisabeth\n",
      "https://data.rkd.nl/artists/209265\n",
      "Kruse, Käthe\n",
      "https://data.rkd.nl/artists/263733\n",
      "Kruseman van Elten, Elisabeth Frederica\n",
      "https://data.rkd.nl/artists/362056\n",
      "Kruyder-Bouman, Jo\n",
      "https://data.rkd.nl/artists/46678\n",
      "Kruysen, Maria\n",
      "https://data.rkd.nl/artists/263992\n",
      "Kröller-Müller, Helene Emma Laura Juliane\n",
      "https://data.rkd.nl/artists/341183\n",
      "Kröner, Magda\n",
      "https://data.rkd.nl/artists/224999\n",
      "Krøyer-Triepcke, Maria Martha Mathilde\n",
      "https://data.rkd.nl/artists/46513\n",
      "Krüger, Erna\n",
      "https://data.rkd.nl/artists/225048\n",
      "Kubicki, Margarete\n",
      "https://data.rkd.nl/artists/360244\n",
      "Kubin, Karoline\n",
      "https://data.rkd.nl/artists/352554\n",
      "Kuczynska-Fessler, Ilka von\n",
      "https://data.rkd.nl/artists/352558\n",
      "Kuijper, Cornelia\n",
      "https://data.rkd.nl/artists/464358\n",
      "Kuile, Maria Geertruid ter\n",
      "https://data.rkd.nl/artists/119543\n",
      "Kunkler, Hedwig\n",
      "https://data.rkd.nl/artists/352621\n",
      "Kunz-Basel, Emmy Dorothea\n",
      "https://data.rkd.nl/artists/483847\n",
      "Kurth, Betty\n",
      "https://data.rkd.nl/artists/421123\n",
      "Kuyper van Harpen, Adriana\n",
      "https://data.rkd.nl/artists/421508\n",
      "Kwak, Geesje\n",
      "https://data.rkd.nl/artists/433934\n",
      "Kwint, Cornel\n",
      "https://data.rkd.nl/artists/47067\n",
      "Kärcher, Amalie\n",
      "https://data.rkd.nl/artists/43484\n",
      "Käsebier, Gertrud\n",
      "https://data.rkd.nl/artists/351204\n",
      "Kögel, Linda\n",
      "https://data.rkd.nl/artists/45258\n",
      "König, Marie Albert\n",
      "https://data.rkd.nl/artists/222741\n",
      "König-Ingenheim, Marie\n",
      "https://data.rkd.nl/artists/222749\n",
      "König-Lorinser, Minna\n",
      "https://data.rkd.nl/artists/352059\n",
      "Köning, Caroline\n",
      "https://data.rkd.nl/artists/111278\n",
      "Körmendi Fejervary, Erzsi\n",
      "https://data.rkd.nl/artists/312807\n",
      "L'Allemand, Adèle\n",
      "https://data.rkd.nl/artists/114165\n",
      "La Farge, Mabel Hooper\n",
      "https://data.rkd.nl/artists/106352\n",
      "La Roche, Maria\n",
      "https://data.rkd.nl/artists/127394\n",
      "Laar, Ulrike Charlotte Auguste\n",
      "https://data.rkd.nl/artists/352668\n",
      "Labouchere, Norma Susan\n",
      "https://data.rkd.nl/artists/371532\n",
      "Ladenius, Adri\n",
      "https://data.rkd.nl/artists/472827\n",
      "Ladeuil, Marcelle\n",
      "https://data.rkd.nl/artists/131511\n",
      "Laessøe, Augusta Charlotte Dorthea\n",
      "https://data.rkd.nl/artists/274902\n",
      "Lage, Frieda\n",
      "https://data.rkd.nl/artists/47406\n",
      "Lagercrantz, Ava de\n",
      "https://data.rkd.nl/artists/464183\n",
      "Lagorio, Maria\n",
      "https://data.rkd.nl/artists/346724\n",
      "Lagut, Irène\n",
      "https://data.rkd.nl/artists/47436\n",
      "Lahey, Marguerite Duprez\n",
      "https://data.rkd.nl/artists/343338\n",
      "Laing, Annie Rose\n",
      "https://data.rkd.nl/artists/205692\n",
      "Lallemand, Adèle\n",
      "https://data.rkd.nl/artists/485897\n",
      "Laman Trip-Nolen, Willemina\n",
      "https://data.rkd.nl/artists/265101\n",
      "Lamberger, Henriette\n",
      "https://data.rkd.nl/artists/352682\n",
      "Lamsweerde, Clotildis Alexandrina Maria Cornelia van\n",
      "https://data.rkd.nl/artists/47720\n",
      "Lancaster, Nancy\n",
      "https://data.rkd.nl/artists/302655\n",
      "Lancelot-Croce, Marcelle Renée\n",
      "https://data.rkd.nl/artists/212174\n",
      "Landrij-Kuijpers, Cato\n",
      "https://data.rkd.nl/artists/111258\n",
      "Landré-van der Kellen, Hendrika\n",
      "https://data.rkd.nl/artists/88594\n",
      "Lange, Cato de\n",
      "https://data.rkd.nl/artists/111157\n",
      "Lange, Dorothea\n",
      "https://data.rkd.nl/artists/259681\n",
      "Langeler, Freddie\n",
      "https://data.rkd.nl/artists/47925\n",
      "Langenstrass-Uhlig, Magda\n",
      "https://data.rkd.nl/artists/302847\n",
      "Langeveld-Dubourcq, Ida\n",
      "https://data.rkd.nl/artists/250625\n",
      "Langguth, Cornelia Hendrika Adriana\n",
      "https://data.rkd.nl/artists/371931\n",
      "Lansdorp-Dumas, Maria Christina\n",
      "https://data.rkd.nl/artists/421467\n",
      "Lapoter, Antonine\n",
      "https://data.rkd.nl/artists/109184\n",
      "Lapra, Catharine Elisabeth\n",
      "https://data.rkd.nl/artists/371935\n",
      "Laridon, Louise\n",
      "https://data.rkd.nl/artists/48124\n",
      "Larij, Johanna\n",
      "https://data.rkd.nl/artists/48126\n",
      "Larsen, Alhed\n",
      "https://data.rkd.nl/artists/464192\n",
      "Laserstein, Lotte\n",
      "https://data.rkd.nl/artists/225473\n",
      "Laske-Kesselbauer, Elisabeth\n",
      "https://data.rkd.nl/artists/352760\n",
      "Lasker-Schüler, Else\n",
      "https://data.rkd.nl/artists/241006\n",
      "Last, Maria Christina\n",
      "https://data.rkd.nl/artists/371937\n",
      "Lau, Johanna Julia Sigismunda\n",
      "https://data.rkd.nl/artists/374387\n",
      "Lau, Louise P.\n",
      "https://data.rkd.nl/artists/48257\n",
      "Lauber, Cécile\n",
      "https://data.rkd.nl/artists/252102\n",
      "Laubser, Maggi\n",
      "https://data.rkd.nl/artists/48266\n",
      "Laur, Marie Yvonne\n",
      "https://data.rkd.nl/artists/131588\n",
      "Laurencin, Marie\n",
      "https://data.rkd.nl/artists/48311\n",
      "Laurent, Marie Pauline\n",
      "https://data.rkd.nl/artists/131671\n",
      "Lautenschlager, Marie\n",
      "https://data.rkd.nl/artists/48370\n",
      "Laux, Marie\n",
      "https://data.rkd.nl/artists/225521\n",
      "Lauzil, Cora\n",
      "https://data.rkd.nl/artists/352785\n",
      "Laval, Cécile de\n",
      "https://data.rkd.nl/artists/353758\n",
      "Lavieille, Andrée\n",
      "https://data.rkd.nl/artists/360134\n",
      "Lavrut, Louise\n",
      "https://data.rkd.nl/artists/48417\n",
      "Lazzell, Blanche\n",
      "https://data.rkd.nl/artists/87800\n",
      "Lechner-Oosterman, Ernestine\n",
      "https://data.rkd.nl/artists/48697\n",
      "Leck-ter Kuile, Henriette G.W. van der\n",
      "https://data.rkd.nl/artists/90899\n",
      "Leckwyck, Edith van\n",
      "https://data.rkd.nl/artists/79280\n",
      "Ledeboer, Sara\n",
      "https://data.rkd.nl/artists/88906\n",
      "Leefkens, Aleida Christina\n",
      "https://data.rkd.nl/artists/371949\n",
      "Leer, Sophie van\n",
      "https://data.rkd.nl/artists/255337\n",
      "Leeuw, Amy Geertruida de\n",
      "https://data.rkd.nl/artists/421460\n",
      "Leeuwen, Anna Christina van\n",
      "https://data.rkd.nl/artists/371610\n",
      "Lefèvre-Deumier, Marie-Louise\n",
      "https://data.rkd.nl/artists/475629\n",
      "Lefébure, Sylvine Marie\n",
      "https://data.rkd.nl/artists/421448\n",
      "Lehmann, Anna\n",
      "https://data.rkd.nl/artists/49117\n",
      "Lehmann, Charlotte\n",
      "https://data.rkd.nl/artists/336543\n",
      "Lehnert, Hildegard\n",
      "https://data.rkd.nl/artists/225550\n",
      "Leijer, Anna Clasina\n",
      "https://data.rkd.nl/artists/464483\n",
      "Leleux-Giraud, Louise-Émilie\n",
      "https://data.rkd.nl/artists/126154\n",
      "Lels, Maria Elisabeth\n",
      "https://data.rkd.nl/artists/371962\n",
      "Lempicka, Tamara de\n",
      "https://data.rkd.nl/artists/49317\n",
      "Lengnick, Emily\n",
      "https://data.rkd.nl/artists/304403\n",
      "Lensvelt, Netty\n",
      "https://data.rkd.nl/artists/92136\n",
      "Lent-Gort, Henriëtte Johanna van\n",
      "https://data.rkd.nl/artists/49411\n",
      "Leplat, France\n",
      "https://data.rkd.nl/artists/366336\n",
      "Lepsius, Sabine\n",
      "https://data.rkd.nl/artists/49526\n",
      "Lerch, Marga von\n",
      "https://data.rkd.nl/artists/352996\n",
      "Lesznai, Anna\n",
      "https://data.rkd.nl/artists/353686\n",
      "Lettinga, Neeltje\n",
      "https://data.rkd.nl/artists/267726\n",
      "Letty, Cythna\n",
      "https://data.rkd.nl/artists/304807\n",
      "Leusink, Annigje\n",
      "https://data.rkd.nl/artists/49692\n",
      "Leuze-Hirschfeld, Emmy\n",
      "https://data.rkd.nl/artists/225630\n",
      "Levie, Rieka\n",
      "https://data.rkd.nl/artists/464475\n"
     ]
    },
    {
     "name": "stdout",
     "output_type": "stream",
     "text": [
      "Levy, Beatrice S.\n",
      "https://data.rkd.nl/artists/87871\n",
      "Lewi, Minna\n",
      "https://data.rkd.nl/artists/353016\n",
      "Lewin, Antonie\n",
      "https://data.rkd.nl/artists/88939\n",
      "Lex-Nerlinger, Alice\n",
      "https://data.rkd.nl/artists/305136\n",
      "Ley, Sophie\n",
      "https://data.rkd.nl/artists/225638\n",
      "Leyen, Helene von der\n",
      "https://data.rkd.nl/artists/225648\n",
      "Lidow\n",
      "https://data.rkd.nl/artists/99058\n",
      "Lieftinck, Elisabeth\n",
      "https://data.rkd.nl/artists/421559\n",
      "Lieftinck, Jo\n",
      "https://data.rkd.nl/artists/372460\n",
      "Lienard, Emile Désiré\n",
      "https://data.rkd.nl/artists/49961\n",
      "Liernur, Maria Elisabeth\n",
      "https://data.rkd.nl/artists/49977\n",
      "Liessner-Blomberg, Elena\n",
      "https://data.rkd.nl/artists/257686\n",
      "Limburg Stirum, Caro van\n",
      "https://data.rkd.nl/artists/88947\n",
      "Linck, Margrit\n",
      "https://data.rkd.nl/artists/254324\n",
      "Lind, Marie Magdalena\n",
      "https://data.rkd.nl/artists/421474\n",
      "Lindegren, Amalia\n",
      "https://data.rkd.nl/artists/50118\n",
      "Lindemann, Hedwig\n",
      "https://data.rkd.nl/artists/353125\n",
      "Linden-Tels, Annie S. van der\n",
      "https://data.rkd.nl/artists/76749\n",
      "Lindo, Harriet\n",
      "https://data.rkd.nl/artists/92230\n",
      "Linger, Helene von\n",
      "https://data.rkd.nl/artists/225843\n",
      "Linse, Elisabeth Christina Amalia\n",
      "https://data.rkd.nl/artists/110441\n",
      "Lint, Suze de\n",
      "https://data.rkd.nl/artists/50281\n",
      "Lintz, Louise\n",
      "https://data.rkd.nl/artists/372661\n",
      "Lischke, Emmy\n",
      "https://data.rkd.nl/artists/225855\n",
      "Lobedan, Clara\n",
      "https://data.rkd.nl/artists/353176\n",
      "Loder, Hillegonda Femina Aleida\n",
      "https://data.rkd.nl/artists/366216\n",
      "Loeber, Lou\n",
      "https://data.rkd.nl/artists/50573\n",
      "Loeff, Isabella Wilhelmina\n",
      "https://data.rkd.nl/artists/421571\n",
      "Loenen, Louise Henriëtte van\n",
      "https://data.rkd.nl/artists/111231\n",
      "Loghem-Neumeier, Berta van\n",
      "https://data.rkd.nl/artists/50615\n",
      "Lokhorst, Ida van\n",
      "https://data.rkd.nl/artists/206007\n",
      "Lombard, Jeanne\n",
      "https://data.rkd.nl/artists/127413\n",
      "Longchamp-Guy, Catherine Julie\n",
      "https://data.rkd.nl/artists/50727\n",
      "Longman, Evelyn Beatrice\n",
      "https://data.rkd.nl/artists/123213\n",
      "Loobé, T.\n",
      "https://data.rkd.nl/artists/421421\n",
      "Looisen, Johanna Helena\n",
      "https://data.rkd.nl/artists/203932\n",
      "Loon, Maud van\n",
      "https://data.rkd.nl/artists/88968\n",
      "Loos-Haaxman, Jeanne de\n",
      "https://data.rkd.nl/artists/356131\n",
      "Lopes Suasso, Céline\n",
      "https://data.rkd.nl/artists/109416\n",
      "Lopez Suasso-de Bruijn, Sophia Adriana\n",
      "https://data.rkd.nl/artists/350255\n",
      "Lord, Caroline A.\n",
      "https://data.rkd.nl/artists/96555\n",
      "Lorjé-Samson, Sophia\n",
      "https://data.rkd.nl/artists/464553\n",
      "Lorrie, Alida Clasina\n",
      "https://data.rkd.nl/artists/92281\n",
      "Loréal, Marguerite\n",
      "https://data.rkd.nl/artists/491815\n",
      "Lott, Hilde\n",
      "https://data.rkd.nl/artists/353341\n",
      "Lotz, Marie\n",
      "https://data.rkd.nl/artists/252920\n",
      "Lotz, Mathilde\n",
      "https://data.rkd.nl/artists/353344\n",
      "Louise (koningin van Denemarken)\n",
      "https://data.rkd.nl/artists/275368\n",
      "Louppe, Léo\n",
      "https://data.rkd.nl/artists/213303\n",
      "Lourens, Dina Johanna Adriana\n",
      "https://data.rkd.nl/artists/333017\n",
      "Lovendaal, Christine Maria Theodora\n",
      "https://data.rkd.nl/artists/472913\n",
      "Lowe, Meta\n",
      "https://data.rkd.nl/artists/126203\n",
      "Lowith, Ada\n",
      "https://data.rkd.nl/artists/92289\n",
      "Lubken, Johanna Hendrica\n",
      "https://data.rkd.nl/artists/464565\n",
      "Lucas-Robiquet, Marie Aimée\n",
      "https://data.rkd.nl/artists/90121\n",
      "Ludwig, Auguste\n",
      "https://data.rkd.nl/artists/225968\n",
      "Lugard, Cornelia\n",
      "https://data.rkd.nl/artists/421475\n",
      "Luksch-Makowski, Elena\n",
      "https://data.rkd.nl/artists/346967\n",
      "Lund, Mary\n",
      "https://data.rkd.nl/artists/92298\n",
      "Lundahl, Amelie\n",
      "https://data.rkd.nl/artists/464506\n",
      "Luplau, Marie\n",
      "https://data.rkd.nl/artists/462305\n",
      "Luteijn, Albertine Henriëtte\n",
      "https://data.rkd.nl/artists/342264\n",
      "Lutens, Jenny\n",
      "https://data.rkd.nl/artists/270432\n",
      "Luttich, Mila von\n",
      "https://data.rkd.nl/artists/353528\n",
      "Lycklama à Nijeholt, Ina\n",
      "https://data.rkd.nl/artists/421572\n",
      "Lynden, Machtella van\n",
      "https://data.rkd.nl/artists/92320\n",
      "Lynden-de Clercq, Johanna van\n",
      "https://data.rkd.nl/artists/51501\n",
      "Löb, Johanna\n",
      "https://data.rkd.nl/artists/306226\n",
      "Löben Sels, Arnoldine van\n",
      "https://data.rkd.nl/artists/452104\n",
      "Löffler, Emma Auguste\n",
      "https://data.rkd.nl/artists/464482\n",
      "Lönblad, Emilia\n",
      "https://data.rkd.nl/artists/464494\n",
      "Lössl, Johanna\n",
      "https://data.rkd.nl/artists/353337\n",
      "Løvmand, Christine Marie\n",
      "https://data.rkd.nl/artists/275374\n",
      "Løvmand, Frederikke Elisabeth\n",
      "https://data.rkd.nl/artists/275378\n",
      "Lübbes, Maria\n",
      "https://data.rkd.nl/artists/51124\n",
      "Lüps, Emma Maria Dorothea\n",
      "https://data.rkd.nl/artists/92313\n",
      "Mac Gillavrij, Katherina\n",
      "https://data.rkd.nl/artists/421516\n",
      "MacEvoy, Mary\n",
      "https://data.rkd.nl/artists/54332\n",
      "MacNicol, Bessie\n",
      "https://data.rkd.nl/artists/51823\n",
      "Macco-Pool, Maria Petronella\n",
      "https://data.rkd.nl/artists/64240\n",
      "Machiels, Judith\n",
      "https://data.rkd.nl/artists/372793\n",
      "Machotka, Carola\n",
      "https://data.rkd.nl/artists/219027\n",
      "Machwirth, Johanna\n",
      "https://data.rkd.nl/artists/89037\n",
      "Mack, Margaretha\n",
      "https://data.rkd.nl/artists/51740\n",
      "Macomber, Mary Lizzie\n",
      "https://data.rkd.nl/artists/51825\n",
      "Madeweiß, Hedwig\n",
      "https://data.rkd.nl/artists/371894\n",
      "Maetzel-Johannsen, Dorothea\n",
      "https://data.rkd.nl/artists/308228\n",
      "Magendans, Johanna Carolina Frederika Henriëtte\n",
      "https://data.rkd.nl/artists/271626\n",
      "Magielse, Agatha\n",
      "https://data.rkd.nl/artists/92606\n",
      "Magyar, Marie\n",
      "https://data.rkd.nl/artists/353601\n",
      "Mahler, Alma\n",
      "https://data.rkd.nl/artists/472651\n",
      "Maillot, Pauline\n",
      "https://data.rkd.nl/artists/365364\n",
      "Makeig-Jones, Daisy\n",
      "https://data.rkd.nl/artists/460574\n",
      "Mala-Reiwald, Hilde\n",
      "https://data.rkd.nl/artists/483965\n",
      "Malcolm, Thalia Wescott\n",
      "https://data.rkd.nl/artists/339362\n",
      "Malherbe, Pauline Marie\n",
      "https://data.rkd.nl/artists/131889\n",
      "Mallwitz, Lenigret\n",
      "https://data.rkd.nl/artists/226237\n",
      "Malsen, Wilhelmina Barendina Dorothea van\n",
      "https://data.rkd.nl/artists/372794\n",
      "Maltwood, Katherine\n",
      "https://data.rkd.nl/artists/424929\n",
      "Mammen, Jeanne\n",
      "https://data.rkd.nl/artists/107163\n",
      "Man, Charlotta Catharina de\n",
      "https://data.rkd.nl/artists/423557\n",
      "Man, Marie de (1855-1944)\n",
      "https://data.rkd.nl/artists/107162\n",
      "Manen, Betsy van\n",
      "https://data.rkd.nl/artists/89055\n",
      "Manes, Amalie\n",
      "https://data.rkd.nl/artists/130434\n",
      "Manet-Rouart, Julie\n",
      "https://data.rkd.nl/artists/309420\n",
      "Mangilli, Ada\n",
      "https://data.rkd.nl/artists/489959\n",
      "Manus, Caroline Rosine\n",
      "https://data.rkd.nl/artists/421582\n",
      "Marc, Maria (1877-1955)\n",
      "https://data.rkd.nl/artists/123178\n",
      "Marcello\n",
      "https://data.rkd.nl/artists/309751\n",
      "Marchant, Mien\n",
      "https://data.rkd.nl/artists/89061\n",
      "Marchant-van der Horst, Apollonia Jacoba\n",
      "https://data.rkd.nl/artists/427677\n",
      "Marcotte, Marie Antoinette\n",
      "https://data.rkd.nl/artists/52531\n",
      "Marcus, Henriëtte\n",
      "https://data.rkd.nl/artists/52537\n",
      "Marevna, Maria\n",
      "https://data.rkd.nl/artists/52570\n",
      "Marez Oyens, Adèle Maria de\n",
      "https://data.rkd.nl/artists/93533\n",
      "Margareta (Kroonprinses van Zweden)\n",
      "https://data.rkd.nl/artists/464672\n",
      "Mari, Wilhelmina\n",
      "https://data.rkd.nl/artists/363916\n",
      "Marianne van Oranje-Nassau\n",
      "https://data.rkd.nl/artists/443834\n",
      "Marissen, Roelfien\n",
      "https://data.rkd.nl/artists/92623\n",
      "Maritz, Jeanne\n",
      "https://data.rkd.nl/artists/372797\n",
      "Marius, Grada Hermina\n",
      "https://data.rkd.nl/artists/89072\n",
      "Marjolin-Scheffer, Cornelia\n",
      "https://data.rkd.nl/artists/373665\n",
      "Marken, Henriëtte van\n",
      "https://data.rkd.nl/artists/89073\n",
      "Marquardt, Hedwig\n",
      "https://data.rkd.nl/artists/52775\n",
      "Martens, Johanna Benjamina\n",
      "https://data.rkd.nl/artists/371972\n",
      "Martin, Germaine\n",
      "https://data.rkd.nl/artists/331354\n",
      "Martin, Sue Tettey\n",
      "https://data.rkd.nl/artists/107722\n",
      "Martin-Gourdault, Marie\n",
      "https://data.rkd.nl/artists/131992\n",
      "Martinetti, Maria\n",
      "https://data.rkd.nl/artists/257565\n",
      "Martinie, Berthe\n",
      "https://data.rkd.nl/artists/53010\n",
      "Martino, Anna\n",
      "https://data.rkd.nl/artists/53012\n",
      "Martins, Maria\n",
      "https://data.rkd.nl/artists/123316\n",
      "Marval, Jacqueline\n",
      "https://data.rkd.nl/artists/53045\n",
      "Marx-Kruse, Margarethe\n",
      "https://data.rkd.nl/artists/320926\n",
      "MasOlle, Aina\n",
      "https://data.rkd.nl/artists/467477\n",
      "Mastrigt, Elisa van\n",
      "https://data.rkd.nl/artists/53903\n",
      "Matthaei, Leni\n",
      "https://data.rkd.nl/artists/267304\n",
      "Matthijssen, Gerarda Henriëtte\n",
      "https://data.rkd.nl/artists/371996\n",
      "Matté, Rebeca\n",
      "https://data.rkd.nl/artists/467974\n",
      "Maubeuge, Irma von\n",
      "https://data.rkd.nl/artists/54085\n",
      "Maurus, Henriette\n",
      "https://data.rkd.nl/artists/226376\n",
      "Mavro, Mania\n",
      "https://data.rkd.nl/artists/282876\n",
      "Max-Ehrler, Louise\n",
      "https://data.rkd.nl/artists/54158\n",
      "Maydell, Eveline von (barones)\n",
      "https://data.rkd.nl/artists/440021\n",
      "Maynard, Hannah\n",
      "https://data.rkd.nl/artists/311789\n",
      "Mayreder-Obermayer, Rosa\n",
      "https://data.rkd.nl/artists/95532\n",
      "McRae, Emma Fordyce\n",
      "https://data.rkd.nl/artists/88079\n",
      "Mediz-Pelikan, Emilie\n",
      "https://data.rkd.nl/artists/54431\n",
      "Meer de Wijs, Mina van der\n",
      "https://data.rkd.nl/artists/372815\n",
      "Mees, Anna\n",
      "https://data.rkd.nl/artists/372016\n",
      "Mees, Margaretha Agatha\n",
      "https://data.rkd.nl/artists/92813\n",
      "Mees, Nora\n",
      "https://data.rkd.nl/artists/92742\n",
      "Meeter, Dea\n",
      "https://data.rkd.nl/artists/92815\n",
      "Meeter, Johanna Elisabeth\n",
      "https://data.rkd.nl/artists/92814\n",
      "Meeteren, Wilhelmina Jacoba van\n",
      "https://data.rkd.nl/artists/292978\n",
      "Meeussen, Lex\n",
      "https://data.rkd.nl/artists/54847\n",
      "Mehls, Hanna\n",
      "https://data.rkd.nl/artists/226518\n",
      "Mehrle, Else\n",
      "https://data.rkd.nl/artists/353853\n",
      "Meier-Michel, Johanna\n",
      "https://data.rkd.nl/artists/443218\n",
      "Meijer, Carolina\n",
      "https://data.rkd.nl/artists/92904\n",
      "Meijer, Margaret\n",
      "https://data.rkd.nl/artists/92928\n",
      "Meijer-Smetz, Alberta Johanna\n",
      "https://data.rkd.nl/artists/55764\n",
      "Melse, Johan\n",
      "https://data.rkd.nl/artists/55150\n",
      "Melzer, Wilhelmine\n",
      "https://data.rkd.nl/artists/226546\n",
      "Menalda, Elisabeth\n",
      "https://data.rkd.nl/artists/55184\n",
      "Mendelsohn, Henriette\n",
      "https://data.rkd.nl/artists/353914\n",
      "Mengarini, Fausta Vittoria\n",
      "https://data.rkd.nl/artists/428525\n",
      "Menshausen-Labriola, Frieda\n",
      "https://data.rkd.nl/artists/226552\n",
      "Merckens, Wilhelmina Hendrika\n",
      "https://data.rkd.nl/artists/372823\n",
      "Merkel-Romee, Luise\n",
      "https://data.rkd.nl/artists/353938\n",
      "Merre, Johanna H.\n",
      "https://data.rkd.nl/artists/98803\n",
      "Merrifield, Mary\n",
      "https://data.rkd.nl/artists/485316\n",
      "Merritt, Anna\n",
      "https://data.rkd.nl/artists/55408\n",
      "Mertens, Stella\n",
      "https://data.rkd.nl/artists/55427\n",
      "Mesdag, Tine\n",
      "https://data.rkd.nl/artists/89106\n",
      "Mesdag-van Calcar, Geesje\n",
      "https://data.rkd.nl/artists/14759\n",
      "Mesdag-van Houten, Sientje\n",
      "https://data.rkd.nl/artists/88403\n",
      "Mess, Nellie\n",
      "https://data.rkd.nl/artists/372826\n",
      "Metelerkamp, Adrienne Florence\n",
      "https://data.rkd.nl/artists/414062\n",
      "Meukeren, Clara Anna van\n",
      "https://data.rkd.nl/artists/55582\n",
      "Meulen, Antonia Elisabeth ter\n",
      "https://data.rkd.nl/artists/92797\n",
      "Meulen, Christina Jacoba ter\n",
      "https://data.rkd.nl/artists/421497\n",
      "Meunier, Georgette\n",
      "https://data.rkd.nl/artists/55631\n",
      "Meurs, Justine Christine van\n",
      "https://data.rkd.nl/artists/55657\n",
      "Meursinge Reijnders, Geertruid A.\n",
      "https://data.rkd.nl/artists/108466\n",
      "Meyboom, Lou\n",
      "https://data.rkd.nl/artists/55695\n",
      "Meyer, Christina Dorothea\n",
      "https://data.rkd.nl/artists/96948\n",
      "Meyer, Emma\n",
      "https://data.rkd.nl/artists/275834\n",
      "Meyer, Orselina\n",
      "https://data.rkd.nl/artists/372887\n",
      "Meyer-Moringen, Helen\n",
      "https://data.rkd.nl/artists/312118\n",
      "Meyerhof, Agnes\n",
      "https://data.rkd.nl/artists/226724\n",
      "Meyern-Hohenberg, Louise von\n",
      "https://data.rkd.nl/artists/354016\n",
      "Meyn, Georg Ludwig\n",
      "https://data.rkd.nl/artists/226726\n",
      "Mezerova, Juliana\n",
      "https://data.rkd.nl/artists/132773\n",
      "Michaelis, Alice\n",
      "https://data.rkd.nl/artists/226733\n",
      "Michaelis, Helene Franziska\n",
      "https://data.rkd.nl/artists/421560\n",
      "Michel, Clémence\n",
      "https://data.rkd.nl/artists/47292\n",
      "Micheli, Odette\n",
      "https://data.rkd.nl/artists/312620\n",
      "Michels, Cor\n",
      "https://data.rkd.nl/artists/92942\n",
      "Middelbeek, Nicoline Maria\n",
      "https://data.rkd.nl/artists/55956\n",
      "Middendorp, Suze\n",
      "https://data.rkd.nl/artists/110684\n",
      "Midderigh-Bokhorst, Bernardina\n",
      "https://data.rkd.nl/artists/55965\n",
      "Migchels, Lutske\n",
      "https://data.rkd.nl/artists/110620\n",
      "Mijnssen, Julie\n",
      "https://data.rkd.nl/artists/89212\n",
      "Milbacher, Luise von\n",
      "https://data.rkd.nl/artists/226754\n",
      "Milius, Lena\n",
      "https://data.rkd.nl/artists/437737\n",
      "Miller zu Aichholz, Gabriele\n",
      "https://data.rkd.nl/artists/354037\n",
      "Miller, Mildred\n",
      "https://data.rkd.nl/artists/56172\n",
      "Milly van Heiden Reinestein, Marie Frédérique Isabelle de\n",
      "https://data.rkd.nl/artists/372102\n",
      "Minoggio-Roussel, Ysabel\n",
      "https://data.rkd.nl/artists/314873\n",
      "Mira\n",
      "https://data.rkd.nl/artists/390979\n",
      "Miranda-Kerkhoven, Bertha de\n",
      "https://data.rkd.nl/artists/56358\n",
      "Mirandolle, Catharina Elisabeth\n",
      "https://data.rkd.nl/artists/92995\n",
      "Mischke, Elise\n",
      "https://data.rkd.nl/artists/464857\n",
      "Mispelblom Beijer - Theunissen, Maria Louise\n",
      "https://data.rkd.nl/artists/492762\n",
      "Mispelblom Beyer, Catharina Alida\n",
      "https://data.rkd.nl/artists/92991\n",
      "Modderman, Maria Anna\n",
      "https://data.rkd.nl/artists/372905\n",
      "Modell, Elizabeth\n",
      "https://data.rkd.nl/artists/56460\n",
      "Modersohn-Becker, Paula\n",
      "https://data.rkd.nl/artists/56463\n",
      "Modersohn-Breling, Louise\n",
      "https://data.rkd.nl/artists/211461\n",
      "Modok, Mária\n",
      "https://data.rkd.nl/artists/472834\n",
      "Modotti, Tina\n",
      "https://data.rkd.nl/artists/223392\n",
      "Moens-ter Kuile, Gijsberta Catharina\n",
      "https://data.rkd.nl/artists/99909\n",
      "Moes, Tilly\n",
      "https://data.rkd.nl/artists/56527\n",
      "Moes, Wally\n",
      "https://data.rkd.nl/artists/89152\n",
      "Moesman, Johanna Hendrieka\n",
      "https://data.rkd.nl/artists/56532\n",
      "Moholy, Lucia\n",
      "https://data.rkd.nl/artists/315211\n",
      "Mohr, Maria Louisa Francisca\n",
      "https://data.rkd.nl/artists/421394\n",
      "Mohr, Ottilia Sophie\n",
      "https://data.rkd.nl/artists/421575\n",
      "Molijn, Albertina Clasina\n",
      "https://data.rkd.nl/artists/372913\n",
      "Molijn, Ida\n",
      "https://data.rkd.nl/artists/89160\n",
      "Molijn, Marie\n",
      "https://data.rkd.nl/artists/89164\n",
      "Molin, Oreste da\n",
      "https://data.rkd.nl/artists/257645\n",
      "Molkenboer, Phemia\n",
      "https://data.rkd.nl/artists/93031\n",
      "Moll, Marg\n",
      "https://data.rkd.nl/artists/227021\n",
      "Moltzer, Christina\n",
      "https://data.rkd.nl/artists/93037\n",
      "Monginot, Charlotte\n",
      "https://data.rkd.nl/artists/213579\n",
      "Monnington, Winifred\n",
      "https://data.rkd.nl/artists/56889\n",
      "Montigny, Jenny\n",
      "https://data.rkd.nl/artists/57432\n",
      "Montijn-Ziedses des Plantes, Frosine\n",
      "https://data.rkd.nl/artists/124933\n",
      "Moody, Fannie\n",
      "https://data.rkd.nl/artists/207040\n",
      "Moore, Marcel\n",
      "https://data.rkd.nl/artists/347153\n",
      "Mor, Thérèse von\n",
      "https://data.rkd.nl/artists/57576\n",
      "Mordvinoff, Olga de\n",
      "https://data.rkd.nl/artists/484744\n",
      "Moret, Christine\n",
      "https://data.rkd.nl/artists/57690\n",
      "Morgan, Julia\n",
      "https://data.rkd.nl/artists/318330\n",
      "Morisot, Berthe\n",
      "https://data.rkd.nl/artists/57772\n",
      "Moritz, Marie Elisabeth\n",
      "https://data.rkd.nl/artists/354238\n",
      "Morris, Ethel\n",
      "https://data.rkd.nl/artists/318747\n",
      "Morstadt, Anna\n",
      "https://data.rkd.nl/artists/57885\n",
      "Mosbacher, Aenne\n",
      "https://data.rkd.nl/artists/376598\n",
      "Moss, Marlow\n",
      "https://data.rkd.nl/artists/57963\n",
      "Mottez, Julie\n",
      "https://data.rkd.nl/artists/58007\n",
      "Mouthaan, Pauline Johanna Gesine\n",
      "https://data.rkd.nl/artists/58071\n",
      "Mouton, Manna\n",
      "https://data.rkd.nl/artists/110823\n",
      "Muchina, Vera\n",
      "https://data.rkd.nl/artists/275792\n",
      "Mulder, Henriette J.E.\n",
      "https://data.rkd.nl/artists/58227\n",
      "Mulier, Eldina Aldegonda Rinsina van\n",
      "https://data.rkd.nl/artists/111530\n",
      "Muller, Jenneke\n",
      "https://data.rkd.nl/artists/283539\n",
      "Mulvad, Emma\n",
      "https://data.rkd.nl/artists/275500\n",
      "Mun, Antonine de\n",
      "https://data.rkd.nl/artists/435045\n",
      "Munch, Anna Elisabeth\n",
      "https://data.rkd.nl/artists/58435\n",
      "Mundt, Emilie\n",
      "https://data.rkd.nl/artists/275502\n",
      "Munk, Eugenie\n",
      "https://data.rkd.nl/artists/227179\n",
      "Munk, Margarete\n",
      "https://data.rkd.nl/artists/354383\n",
      "Munsch, Hermine\n",
      "https://data.rkd.nl/artists/227863\n",
      "Munthe-Norstedt, Anna Katarina Fredrika\n",
      "https://data.rkd.nl/artists/58509\n",
      "Murray Bacon, Virginia\n",
      "https://data.rkd.nl/artists/441916\n",
      "Muschner, Gertrud\n",
      "https://data.rkd.nl/artists/363968\n",
      "Mutel, Herminie\n",
      "https://data.rkd.nl/artists/315219\n",
      "Muter, Mela\n",
      "https://data.rkd.nl/artists/58623\n",
      "Mutrie, Anni Feray\n",
      "https://data.rkd.nl/artists/58627\n",
      "Mutrie, Martha Darley\n",
      "https://data.rkd.nl/artists/207796\n",
      "Möllinger, Franziska\n",
      "https://data.rkd.nl/artists/379397\n",
      "Müller, Bertha (1883-1968)\n",
      "https://data.rkd.nl/artists/93087\n",
      "Müller, Caroline\n",
      "https://data.rkd.nl/artists/227726\n",
      "Müller, Marie\n",
      "https://data.rkd.nl/artists/227751\n",
      "Münninghoff-van Vliet, Tilly\n",
      "https://data.rkd.nl/artists/81491\n",
      "Münter, Gabriele\n",
      "https://data.rkd.nl/artists/58136\n",
      "Naber, Alida Catharina\n",
      "https://data.rkd.nl/artists/421433\n",
      "Naber, Johanna\n",
      "https://data.rkd.nl/artists/335205\n",
      "Nachtigal, Maria\n",
      "https://data.rkd.nl/artists/227986\n",
      "Nagel-Medema, Grietje\n",
      "https://data.rkd.nl/artists/54423\n",
      "Nagler, Edith Kröger van\n",
      "https://data.rkd.nl/artists/58761\n",
      "Nahuys, Cecile\n",
      "https://data.rkd.nl/artists/365633\n",
      "Nahuys, Cecile Dorothea\n",
      "https://data.rkd.nl/artists/329430\n",
      "Nahuys, Christine\n",
      "https://data.rkd.nl/artists/89222\n",
      "Nanninga-In de Betoü, Paula\n",
      "https://data.rkd.nl/artists/58827\n",
      "Nason, Gertrude\n",
      "https://data.rkd.nl/artists/95985\n",
      "Nassau Noordewier, Grietje\n",
      "https://data.rkd.nl/artists/373018\n",
      "Nees von Esenbeck, Elise\n",
      "https://data.rkd.nl/artists/354425\n",
      "Nell, Anna Martina Elizabeth\n",
      "https://data.rkd.nl/artists/464932\n",
      "Nengerman-Ingenegeren, Hélène\n",
      "https://data.rkd.nl/artists/111122\n",
      "Nerée tot Babberich-van Houten, Constance Petronella de\n",
      "https://data.rkd.nl/artists/88395\n",
      "Nesch, Irma\n",
      "https://data.rkd.nl/artists/315751\n",
      "Nessensohn, Regina\n",
      "https://data.rkd.nl/artists/354458\n",
      "Neuman, Clasine\n",
      "https://data.rkd.nl/artists/89328\n",
      "Nevelson, Louise\n",
      "https://data.rkd.nl/artists/59251\n",
      "Newman, Isadora\n",
      "https://data.rkd.nl/artists/315400\n",
      "Ney, Elisabet\n",
      "https://data.rkd.nl/artists/316082\n",
      "Nicholls, Rhoda Holmes\n",
      "https://data.rkd.nl/artists/96054\n",
      "Nicholson, Winifred\n",
      "https://data.rkd.nl/artists/59387\n",
      "Nicola, Jacqueline Francina\n",
      "https://data.rkd.nl/artists/372998\n",
      "Nie, Jacqueline Marguerite van\n",
      "https://data.rkd.nl/artists/93243\n",
      "Niederhausern, Sophie de\n",
      "https://data.rkd.nl/artists/59447\n",
      "Nielsen, Helge\n",
      "https://data.rkd.nl/artists/464148\n",
      "Nierstrasz, Charlotte\n",
      "https://data.rkd.nl/artists/93252\n",
      "Niestadt, Guda Bernardina\n",
      "https://data.rkd.nl/artists/464967\n",
      "Nieuwenhoven-Stempels, Johanna Catharina Maria van\n",
      "https://data.rkd.nl/artists/59534\n",
      "Nieuwenhuis, Elisabeth Francisca\n",
      "https://data.rkd.nl/artists/111056\n",
      "Nieuwenhuis, Phil\n",
      "https://data.rkd.nl/artists/59543\n",
      "Niezen, Gepke\n",
      "https://data.rkd.nl/artists/93262\n",
      "Nilant Bannier, Henriëtte Georgette\n",
      "https://data.rkd.nl/artists/118660\n",
      "Nilsson, Vera\n",
      "https://data.rkd.nl/artists/59674\n",
      "Nitschowa, Ludwika Kraskowska\n",
      "https://data.rkd.nl/artists/439125\n",
      "Noack, Astrid\n",
      "https://data.rkd.nl/artists/251638\n",
      "Noest, Maria Jacoba Gerardine\n",
      "https://data.rkd.nl/artists/464979\n",
      "Nonné-Schmidt, Helene\n",
      "https://data.rkd.nl/artists/388640\n",
      "Nordensten, Ragnhild\n",
      "https://data.rkd.nl/artists/464911\n",
      "Nordgren, Anna\n",
      "https://data.rkd.nl/artists/59944\n",
      "North, Marianne\n",
      "https://data.rkd.nl/artists/59977\n",
      "Noske, Sophie\n",
      "https://data.rkd.nl/artists/228168\n",
      "Noter, Annette de\n",
      "https://data.rkd.nl/artists/60004\n",
      "Noth, Johanna Geertruida\n",
      "https://data.rkd.nl/artists/373021\n",
      "Noufflard, Berthe\n",
      "https://data.rkd.nl/artists/60021\n",
      "Nourse, Elizabeth\n",
      "https://data.rkd.nl/artists/60025\n",
      "Noël, Julie Anne Marie\n",
      "https://data.rkd.nl/artists/59777\n",
      "Nuijsink, Johanna Margharetha Catharina Anna\n",
      "https://data.rkd.nl/artists/421557\n",
      "Nyl-Frosch, Marie\n",
      "https://data.rkd.nl/artists/228305\n",
      "Nyström, Jenny\n",
      "https://data.rkd.nl/artists/60165\n",
      "Nákó, Bertha\n",
      "https://data.rkd.nl/artists/58800\n",
      "Nérée-Gautier, Jane\n",
      "https://data.rkd.nl/artists/444746\n",
      "Nørbye, Anna\n",
      "https://data.rkd.nl/artists/488383\n",
      "Nørregaard, Asta\n",
      "https://data.rkd.nl/artists/59967\n",
      "O'Connell-Miethe, Frédérique Émile Auguste\n",
      "https://data.rkd.nl/artists/228333\n",
      "O'Keeffe, Georgia\n",
      "https://data.rkd.nl/artists/60382\n",
      "Oberstadt-Kranenburg, Anna Clara\n",
      "https://data.rkd.nl/artists/46283\n",
      "Oblak, Amalie\n",
      "https://data.rkd.nl/artists/354664\n",
      "Obreen, Augustine Hermine\n",
      "https://data.rkd.nl/artists/372519\n",
      "Obreen, Elisabeth\n",
      "https://data.rkd.nl/artists/89358\n",
      "Ochtman, Mina Fonda\n",
      "https://data.rkd.nl/artists/107856\n",
      "Odin, Blanche\n",
      "https://data.rkd.nl/artists/315581\n",
      "Oehring, Hedwig\n",
      "https://data.rkd.nl/artists/60281\n",
      "Oeltjen-Kasimir, Elsa\n",
      "https://data.rkd.nl/artists/307086\n",
      "Oenicke, Clara Wilhelmine\n",
      "https://data.rkd.nl/artists/354709\n",
      "Oesterley, Marie\n",
      "https://data.rkd.nl/artists/354719\n",
      "Offerhaus-Westra van Holthe, S.L.G.A.\n",
      "https://data.rkd.nl/artists/221485\n",
      "Oijen, Dorine van\n",
      "https://data.rkd.nl/artists/60372\n",
      "Olberg, Christiane\n",
      "https://data.rkd.nl/artists/465315\n",
      "Oldenburg-Wittig, Lotte\n",
      "https://data.rkd.nl/artists/354741\n",
      "Oliver, Emma Sophia\n",
      "https://data.rkd.nl/artists/60462\n",
      "Olshausen-Schönberger, Käthe\n",
      "https://data.rkd.nl/artists/318079\n",
      "Onken-Palme, Maria\n",
      "https://data.rkd.nl/artists/228437\n",
      "Ontijd, Florentine Jacobine Martine\n",
      "https://data.rkd.nl/artists/373116\n",
      "Oosten Slingeland, Jo van\n",
      "https://data.rkd.nl/artists/60682\n",
      "Oostveen, Mia van\n",
      "https://data.rkd.nl/artists/60813\n",
      "Oostveen, Petronella Gijsberta Leonarda van\n",
      "https://data.rkd.nl/artists/366235\n",
      "Op 't Land, Anna Clasina\n",
      "https://data.rkd.nl/artists/93492\n",
      "Orant, Marthe\n",
      "https://data.rkd.nl/artists/60897\n",
      "Orloff, Chana\n",
      "https://data.rkd.nl/artists/60948\n",
      "Ort van Schonauwen, Leontine\n",
      "https://data.rkd.nl/artists/421501\n",
      "Ortenau, Adele\n",
      "https://data.rkd.nl/artists/330943\n",
      "Osseman, Maria\n",
      "https://data.rkd.nl/artists/373202\n",
      "Osswald-Toppi, Margherita\n",
      "https://data.rkd.nl/artists/126338\n",
      "Osterman, Jenny\n",
      "https://data.rkd.nl/artists/465333\n",
      "Osti, Henrica Elisabeth\n",
      "https://data.rkd.nl/artists/61100\n",
      "Ostroumova-Lebedeva, Anna Petrovna\n",
      "https://data.rkd.nl/artists/107114\n",
      "Otto, Johanna\n",
      "https://data.rkd.nl/artists/228467\n",
      "Oudendijk Pieterse, Frances van den\n",
      "https://data.rkd.nl/artists/63438\n",
      "Oër, Anna Maria von\n",
      "https://data.rkd.nl/artists/228364\n",
      "Pabst, Corrie\n",
      "https://data.rkd.nl/artists/89539\n",
      "Paczka, Cornelia\n",
      "https://data.rkd.nl/artists/134507\n",
      "Pagenkopf, Louise\n",
      "https://data.rkd.nl/artists/354905\n",
      "Paigné, Mélanie\n",
      "https://data.rkd.nl/artists/421380\n",
      "Palache, Riek\n",
      "https://data.rkd.nl/artists/93536\n",
      "Pallandt, Charlotte van\n",
      "https://data.rkd.nl/artists/61576\n",
      "Palm, Anna Sofia\n",
      "https://data.rkd.nl/artists/61594\n",
      "Palmer, Frances Flora\n",
      "https://data.rkd.nl/artists/96196\n",
      "Panduro, Henny\n",
      "https://data.rkd.nl/artists/465501\n",
      "Panesch, Hermine\n",
      "https://data.rkd.nl/artists/228511\n",
      "Panhuys, Louise Constance Winanda Charlotte van\n",
      "https://data.rkd.nl/artists/95967\n",
      "Panhuys, Maja van\n",
      "https://data.rkd.nl/artists/89544\n",
      "Pannekoek-van Bemmel, Truus\n",
      "https://data.rkd.nl/artists/6380\n",
      "Pansiotti, Gilda\n",
      "https://data.rkd.nl/artists/490078\n",
      "Pap, Gyula\n",
      "https://data.rkd.nl/artists/249483\n",
      "Parlaghy-Brachfeld, Vilma von\n",
      "https://data.rkd.nl/artists/61865\n",
      "Parmentier, Maria von\n",
      "https://data.rkd.nl/artists/228620\n",
      "Parzer, Gisela\n",
      "https://data.rkd.nl/artists/354926\n",
      "Paré, Ru\n",
      "https://data.rkd.nl/artists/61790\n",
      "Passini, Rita\n",
      "https://data.rkd.nl/artists/354957\n",
      "Patzer, Maria\n",
      "https://data.rkd.nl/artists/373261\n",
      "Pauli, Hanna\n",
      "https://data.rkd.nl/artists/62146\n",
      "Pauly, Charlotte E.\n",
      "https://data.rkd.nl/artists/317133\n",
      "Paungarten, Emmy\n",
      "https://data.rkd.nl/artists/372503\n",
      "Pausinger, Helene Paula von\n",
      "https://data.rkd.nl/artists/330944\n",
      "Pausinger, Margareta\n",
      "https://data.rkd.nl/artists/327777\n",
      "Pavord Smits, Helena Christina van de\n",
      "https://data.rkd.nl/artists/364015\n",
      "Peale, Mary Jane\n",
      "https://data.rkd.nl/artists/62241\n",
      "Peck, Edith Hogen\n",
      "https://data.rkd.nl/artists/96270\n",
      "Peelen, Ida\n",
      "https://data.rkd.nl/artists/357338\n",
      "Peere, Willemina van\n",
      "https://data.rkd.nl/artists/373264\n",
      "Pek, Hendrika van der\n",
      "https://data.rkd.nl/artists/89569\n",
      "Pekelharing, Helena Geertruida\n",
      "https://data.rkd.nl/artists/373276\n",
      "Pel, Anna\n",
      "https://data.rkd.nl/artists/366220\n",
      "Pelton, Agnes\n",
      "https://data.rkd.nl/artists/96290\n",
      "Peláez, Amelia\n",
      "https://data.rkd.nl/artists/317660\n",
      "Pennink, Nicolina Catharina Wilhelmina\n",
      "https://data.rkd.nl/artists/373289\n",
      "Perbandt, Lina von\n",
      "https://data.rkd.nl/artists/228669\n",
      "Perdriat, Hélène Marie Marguerite\n",
      "https://data.rkd.nl/artists/62638\n",
      "Perger-Kassel, Helene\n",
      "https://data.rkd.nl/artists/355044\n",
      "Perk, Betsy\n",
      "https://data.rkd.nl/artists/335738\n",
      "Perry, Lilla Cabot\n",
      "https://data.rkd.nl/artists/62798\n",
      "Pesch, Christina Rudolfine van\n",
      "https://data.rkd.nl/artists/89579\n",
      "Pessers, Henriëtte\n",
      "https://data.rkd.nl/artists/62851\n",
      "Pestel, Vera Efimovna\n",
      "https://data.rkd.nl/artists/95702\n",
      "Peter-Reininghausen, Maria\n",
      "https://data.rkd.nl/artists/228707\n",
      "Peters, Anna\n",
      "https://data.rkd.nl/artists/228708\n",
      "Peters, Elisabeth Maria\n",
      "https://data.rkd.nl/artists/89580\n",
      "Peters, Hela\n",
      "https://data.rkd.nl/artists/228712\n",
      "Peters, Ida\n",
      "https://data.rkd.nl/artists/416183\n",
      "Peters, Pietronella\n",
      "https://data.rkd.nl/artists/228720\n",
      "Peugniez, Pauline\n",
      "https://data.rkd.nl/artists/63058\n",
      "Peut, Marie van de\n",
      "https://data.rkd.nl/artists/110833\n",
      "Pfeiffer-Kohrt, Gertrud\n",
      "https://data.rkd.nl/artists/63119\n",
      "Pflüger Jeanne\n",
      "https://data.rkd.nl/artists/253026\n",
      "Phaff-Faber, Josephine\n",
      "https://data.rkd.nl/artists/63141\n",
      "Phelps, Edith Catlin\n",
      "https://data.rkd.nl/artists/96498\n",
      "Philippona, Gien\n",
      "https://data.rkd.nl/artists/116709\n",
      "Philipse, Elisabeth Henriëtta Maria\n",
      "https://data.rkd.nl/artists/373333\n",
      "Philipse, Maria\n",
      "https://data.rkd.nl/artists/5139\n",
      "Phillips, Marjorie\n",
      "https://data.rkd.nl/artists/96503\n",
      "Pichot, Marie-Louise\n",
      "https://data.rkd.nl/artists/63305\n",
      "Pick, Emmi\n",
      "https://data.rkd.nl/artists/228919\n",
      "Pickard, Louise\n",
      "https://data.rkd.nl/artists/63314\n",
      "Pieck, Adri\n",
      "https://data.rkd.nl/artists/63349\n",
      "Pieck, Gretha\n",
      "https://data.rkd.nl/artists/63353\n",
      "Pieneman, Frederica Wilhelmina Margaretha Elisabeth\n",
      "https://data.rkd.nl/artists/416247\n",
      "Pieneman, Johanna\n",
      "https://data.rkd.nl/artists/63370\n",
      "Piepenhagen, Charlotte\n",
      "https://data.rkd.nl/artists/355240\n",
      "Pietzsch, Eva\n",
      "https://data.rkd.nl/artists/429009\n",
      "Piffard, Jeanne\n",
      "https://data.rkd.nl/artists/214959\n",
      "Pijman, Ludolphina Elikje Adriana\n",
      "https://data.rkd.nl/artists/414381\n",
      "Pijpers, Edith\n",
      "https://data.rkd.nl/artists/63533\n",
      "Pinner, Erna\n",
      "https://data.rkd.nl/artists/322095\n",
      "Pischon, Marie\n",
      "https://data.rkd.nl/artists/355277\n",
      "Pissarro, Orovida Camille\n",
      "https://data.rkd.nl/artists/63695\n",
      "Plaat, Jacoba\n",
      "https://data.rkd.nl/artists/108279\n",
      "Plas, Johanna Diederica van der\n",
      "https://data.rkd.nl/artists/373311\n",
      "Plasschaert-Peeman, Anna\n",
      "https://data.rkd.nl/artists/89564\n",
      "Platen, Johanna\n",
      "https://data.rkd.nl/artists/323443\n",
      "Plato, Alice\n",
      "https://data.rkd.nl/artists/134592\n",
      "Plehn, Ise\n",
      "https://data.rkd.nl/artists/323492\n",
      "Ploeg, Hendrika Suzanna\n",
      "https://data.rkd.nl/artists/465127\n",
      "Plommer, Anna\n",
      "https://data.rkd.nl/artists/229030\n",
      "Plänckner, Lonny von\n",
      "https://data.rkd.nl/artists/355281\n",
      "Plückebaum-Weber, Meta\n",
      "https://data.rkd.nl/artists/229038\n",
      "Poel, F.J. van der\n",
      "https://data.rkd.nl/artists/469541\n",
      "Pohl, Elsa\n",
      "https://data.rkd.nl/artists/355339\n",
      "Pohle, Carla\n",
      "https://data.rkd.nl/artists/355343\n",
      "Polenaar, Willemina\n",
      "https://data.rkd.nl/artists/108288\n",
      "Polkijn, Charlotte\n",
      "https://data.rkd.nl/artists/417940\n",
      "Poll, Jacoba van de\n",
      "https://data.rkd.nl/artists/278875\n",
      "Polvliet van Hoogstraten, Cornelia\n",
      "https://data.rkd.nl/artists/301347\n",
      "Ponten, Julia\n",
      "https://data.rkd.nl/artists/355437\n",
      "Poort, Dieuwerta Adriana\n",
      "https://data.rkd.nl/artists/373314\n",
      "Popert, Charlotte Ida\n",
      "https://data.rkd.nl/artists/355446\n",
      "Popham, Mary Frances Anne\n",
      "https://data.rkd.nl/artists/64288\n",
      "Popova, Lyubov' Sergeevna\n",
      "https://data.rkd.nl/artists/64299\n",
      "Portheine-Rink, Emma\n",
      "https://data.rkd.nl/artists/108363\n",
      "Portner, Hildegard von\n",
      "https://data.rkd.nl/artists/332293\n",
      "Poschacher, Maria Louise\n",
      "https://data.rkd.nl/artists/335869\n",
      "Poscher-Karesch, Wilhelmine\n",
      "https://data.rkd.nl/artists/355453\n",
      "Postma-Oort, Bertha\n",
      "https://data.rkd.nl/artists/64469\n",
      "Pothuis, Charlotte\n",
      "https://data.rkd.nl/artists/89780\n",
      "Pott, Alida Jantina\n",
      "https://data.rkd.nl/artists/108324\n",
      "Potter, Beatrix\n",
      "https://data.rkd.nl/artists/64513\n",
      "Pougialis, Constantine\n",
      "https://data.rkd.nl/artists/96604\n",
      "Poulsen, Anina\n",
      "https://data.rkd.nl/artists/465977\n",
      "Poupelet, Jane\n",
      "https://data.rkd.nl/artists/64548\n",
      "Praag, Maria Leonide van\n",
      "https://data.rkd.nl/artists/373317\n",
      "Praetorius, Marie Louise\n",
      "https://data.rkd.nl/artists/64645\n",
      "Praschniker, Valerie\n",
      "https://data.rkd.nl/artists/355505\n",
      "Prechner, Lotte Bertha\n",
      "https://data.rkd.nl/artists/93800\n",
      "Pregler-Grundeler, Irene\n",
      "https://data.rkd.nl/artists/355511\n",
      "Preitinger, Guus\n",
      "https://data.rkd.nl/artists/23705\n",
      "Preston, May Wilson\n",
      "https://data.rkd.nl/artists/96650\n",
      "Preuschen, Hermione Freiin von\n",
      "https://data.rkd.nl/artists/64772\n",
      "Preyer, Emilie\n",
      "https://data.rkd.nl/artists/64792\n",
      "Princess Victoria of Wales\n",
      "https://data.rkd.nl/artists/412167\n",
      "Prins-van den Broek, Neeltje\n",
      "https://data.rkd.nl/artists/64886\n",
      "Prins-van den Ende, Bertha\n",
      "https://data.rkd.nl/artists/26216\n",
      "Pritzel, Lotte\n",
      "https://data.rkd.nl/artists/452109\n",
      "Procter, Dod\n",
      "https://data.rkd.nl/artists/64938\n",
      "Proctor, Thea\n",
      "https://data.rkd.nl/artists/64941\n",
      "Prooijen, Anna Adriana van\n",
      "https://data.rkd.nl/artists/373327\n",
      "Proschko, Emilie Albertine\n",
      "https://data.rkd.nl/artists/355745\n",
      "Protzen-Kundmüller, Henny\n",
      "https://data.rkd.nl/artists/229212\n",
      "Prout, Margaret Fisher\n",
      "https://data.rkd.nl/artists/64980\n",
      "Provó Kluit, Catherina Wendelina Jacoba\n",
      "https://data.rkd.nl/artists/371474\n",
      "Pruijs van der Hoeven, Clémence\n",
      "https://data.rkd.nl/artists/279943\n",
      "Prölss, Johanne Marie Julie\n",
      "https://data.rkd.nl/artists/373324\n",
      "Puchinger, Elfriede\n",
      "https://data.rkd.nl/artists/355749\n",
      "Puyroche-Wagner, Elise\n",
      "https://data.rkd.nl/artists/226337\n",
      "Pönninger, Karoline\n",
      "https://data.rkd.nl/artists/355432\n",
      "Pötting, Adrienne von (Gräfin)\n",
      "https://data.rkd.nl/artists/63984\n",
      "Pühn, Sophie\n",
      "https://data.rkd.nl/artists/229225\n",
      "Quarles van Ufford, Philippine Anne Madeleine\n",
      "https://data.rkd.nl/artists/231967\n",
      "Raabe, Margaretha\n",
      "https://data.rkd.nl/artists/319083\n",
      "Raalte-Simons, Ida Estella Mathilde van\n",
      "https://data.rkd.nl/artists/65314\n",
      "Raders, Louise van\n",
      "https://data.rkd.nl/artists/89800\n",
      "Radnitz-Schroetter, Charlotte\n",
      "https://data.rkd.nl/artists/29671\n",
      "Rae, Henrietta\n",
      "https://data.rkd.nl/artists/65408\n",
      "Rahusen, Ina\n",
      "https://data.rkd.nl/artists/94314\n",
      "Raimondi, Elvira\n",
      "https://data.rkd.nl/artists/65469\n",
      "Rambonnet, Cornelia\n",
      "https://data.rkd.nl/artists/108407\n",
      "Rambonnet, Françoise Sara Alida\n"
     ]
    },
    {
     "name": "stdout",
     "output_type": "stream",
     "text": [
      "https://data.rkd.nl/artists/335950\n",
      "Rambonnet, Simonia Françoise\n",
      "https://data.rkd.nl/artists/373344\n",
      "Rambonnet-Daponte, Anita\n",
      "https://data.rkd.nl/artists/116995\n",
      "Ranitz, Cecilia Maria Elisabeth de\n",
      "https://data.rkd.nl/artists/65596\n",
      "Ranitz, Lita de\n",
      "https://data.rkd.nl/artists/344705\n",
      "Raphael Hallencreutz, Olga\n",
      "https://data.rkd.nl/artists/466205\n",
      "Rapmund-Stapelveld, Louise\n",
      "https://data.rkd.nl/artists/109365\n",
      "Rappard, Clara von\n",
      "https://data.rkd.nl/artists/126429\n",
      "Rappard, M.C.\n",
      "https://data.rkd.nl/artists/89804\n",
      "Rappard, Maria van\n",
      "https://data.rkd.nl/artists/366770\n",
      "Rappard-Broese van Groenou, Elsje\n",
      "https://data.rkd.nl/artists/122471\n",
      "Rasch, Maria\n",
      "https://data.rkd.nl/artists/432439\n",
      "Rathsman, Siri\n",
      "https://data.rkd.nl/artists/466214\n",
      "Rauws, Clara\n",
      "https://data.rkd.nl/artists/110861\n",
      "Ravenswaaij, Marie\n",
      "https://data.rkd.nl/artists/89807\n",
      "Ravenswaay, Adriana van\n",
      "https://data.rkd.nl/artists/65749\n",
      "Rebay, Hilla\n",
      "https://data.rkd.nl/artists/65836\n",
      "Redpath, Anne\n",
      "https://data.rkd.nl/artists/65893\n",
      "Reece, Jane\n",
      "https://data.rkd.nl/artists/375456\n",
      "Reerink, Wilhelmina Maria\n",
      "https://data.rkd.nl/artists/89843\n",
      "Rees, Etie van\n",
      "https://data.rkd.nl/artists/65945\n",
      "Rees, Maria Margaretha van\n",
      "https://data.rkd.nl/artists/108443\n",
      "Rees-Dutilh, Adya van\n",
      "https://data.rkd.nl/artists/65943\n",
      "Reeser, Henriette Ermeline Hendrika Wilhelmina\n",
      "https://data.rkd.nl/artists/423629\n",
      "Regteren Altena, Johanna Quirina van\n",
      "https://data.rkd.nl/artists/66017\n",
      "Regteren Altena, Juliana Elisabeth van\n",
      "https://data.rkd.nl/artists/454399\n",
      "Regteren Altena, Marie van\n",
      "https://data.rkd.nl/artists/1364\n",
      "Reijenga, Heleen\n",
      "https://data.rkd.nl/artists/373410\n",
      "Reijnders, Anne\n",
      "https://data.rkd.nl/artists/373422\n",
      "Reijnders, Antonia Anna Jacoba\n",
      "https://data.rkd.nl/artists/373424\n",
      "Reijsen, Elisabeth Geertruida van\n",
      "https://data.rkd.nl/artists/373426\n",
      "Reinhart, Lea\n",
      "https://data.rkd.nl/artists/229417\n",
      "Reinöhl-Werner, Ella von\n",
      "https://data.rkd.nl/artists/356215\n",
      "Reitsma-Valença, Engelien\n",
      "https://data.rkd.nl/artists/66202\n",
      "Remy, Betsy\n",
      "https://data.rkd.nl/artists/373380\n",
      "Remy, Marie\n",
      "https://data.rkd.nl/artists/229433\n",
      "Rens, Henriëtte Elisabeth\n",
      "https://data.rkd.nl/artists/373384\n",
      "Repelaer van Driel, Cato\n",
      "https://data.rkd.nl/artists/66342\n",
      "Repelaer van Driel, Henriette Susanna Angélique\n",
      "https://data.rkd.nl/artists/428965\n",
      "Repelius, Betsy\n",
      "https://data.rkd.nl/artists/89854\n",
      "Resing, Gerharda Maria Antonia\n",
      "https://data.rkd.nl/artists/465203\n",
      "Resing, Helena Francisca Maria\n",
      "https://data.rkd.nl/artists/465204\n",
      "Rethaan Macaré, Elizabeth Martine\n",
      "https://data.rkd.nl/artists/116335\n",
      "Rethi, Lili\n",
      "https://data.rkd.nl/artists/336952\n",
      "Reuchlin-Lucardie, Henriëtte Johanna\n",
      "https://data.rkd.nl/artists/66383\n",
      "Reuter, Elisabeth\n",
      "https://data.rkd.nl/artists/229466\n",
      "Reyländer-Böhme, Ottilie\n",
      "https://data.rkd.nl/artists/356414\n",
      "Reynell, Gladys\n",
      "https://data.rkd.nl/artists/66468\n",
      "Rheam, Henry Meynell\n",
      "https://data.rkd.nl/artists/66502\n",
      "Rhédey, Claudine\n",
      "https://data.rkd.nl/artists/204679\n",
      "Ribbe-Fischer, Elisabeth\n",
      "https://data.rkd.nl/artists/229526\n",
      "Ribbing, Sofia Amalia\n",
      "https://data.rkd.nl/artists/66546\n",
      "Richardson-Curtis, Mary\n",
      "https://data.rkd.nl/artists/96872\n",
      "Richter, Anna Agnes Margaret\n",
      "https://data.rkd.nl/artists/465219\n",
      "Richter, Etha\n",
      "https://data.rkd.nl/artists/321349\n",
      "Richter, Johanna Maria\n",
      "https://data.rkd.nl/artists/66704\n",
      "Ridder, Sofie de\n",
      "https://data.rkd.nl/artists/373460\n",
      "Riekels, Afina Annetta\n",
      "https://data.rkd.nl/artists/373462\n",
      "Ries, Teresa Fjodorowna\n",
      "https://data.rkd.nl/artists/376650\n",
      "Riess, Frieda Gertrud\n",
      "https://data.rkd.nl/artists/366656\n",
      "Rigby, Elizabeth\n",
      "https://data.rkd.nl/artists/66900\n",
      "Riggenbach-Schmid, Martha\n",
      "https://data.rkd.nl/artists/126446\n",
      "Rijk, Anna Francisca de\n",
      "https://data.rkd.nl/artists/89992\n",
      "Rijk, Anna de\n",
      "https://data.rkd.nl/artists/323766\n",
      "Rijsdijk, Agatha Margaretha Clasina\n",
      "https://data.rkd.nl/artists/465357\n",
      "Rilke-Westhoff, Clara\n",
      "https://data.rkd.nl/artists/67054\n",
      "Rimbout, Germaine\n",
      "https://data.rkd.nl/artists/93917\n",
      "Ring, Grete\n",
      "https://data.rkd.nl/artists/434683\n",
      "Rinse-Klinkenberg, Anna Elisabeth\n",
      "https://data.rkd.nl/artists/44839\n",
      "Ritsema, Coba\n",
      "https://data.rkd.nl/artists/89871\n",
      "Ritter, Emma\n",
      "https://data.rkd.nl/artists/229730\n",
      "Rivière, Hélène\n",
      "https://data.rkd.nl/artists/132571\n",
      "Robbé, Cornelia\n",
      "https://data.rkd.nl/artists/280211\n",
      "Roberth, Minna Elisabeth\n",
      "https://data.rkd.nl/artists/356553\n",
      "Robertson, Suze\n",
      "https://data.rkd.nl/artists/67372\n",
      "Robinson, Mabel Catherine\n",
      "https://data.rkd.nl/artists/67423\n",
      "Rode, Ingeborg\n",
      "https://data.rkd.nl/artists/466253\n",
      "Roeder, Emy\n",
      "https://data.rkd.nl/artists/322477\n",
      "Roederstein, Ottilie Wilhelmine\n",
      "https://data.rkd.nl/artists/67575\n",
      "Roelofs-Bleckmann, Tjieke\n",
      "https://data.rkd.nl/artists/67608\n",
      "Roelofsz, Hendrica\n",
      "https://data.rkd.nl/artists/373492\n",
      "Roest van Limburg, Elisabeth\n",
      "https://data.rkd.nl/artists/67672\n",
      "Roeters van Lennep, Catharina Julia\n",
      "https://data.rkd.nl/artists/67678\n",
      "Roever, Anna Maria Louisa Elisabeth de\n",
      "https://data.rkd.nl/artists/373517\n",
      "Rogge, Maria Abramina\n",
      "https://data.rkd.nl/artists/421476\n",
      "Rogister, Marie-Louise\n",
      "https://data.rkd.nl/artists/220537\n",
      "Rohacs, Hermine\n",
      "https://data.rkd.nl/artists/356610\n",
      "Rohrwasser, Laura Amanda\n",
      "https://data.rkd.nl/artists/229896\n",
      "Roland Holst, Henriette\n",
      "https://data.rkd.nl/artists/455025\n",
      "Roland Holst-de Meester, Annie\n",
      "https://data.rkd.nl/artists/67779\n",
      "Roller, Mileva\n",
      "https://data.rkd.nl/artists/356682\n",
      "Romani, Juana\n",
      "https://data.rkd.nl/artists/67856\n",
      "Romanova, Olga Nikolajevna (grootvorstin van Rusland)\n",
      "https://data.rkd.nl/artists/462335\n",
      "Romijn, Maria Hendrina\n",
      "https://data.rkd.nl/artists/89909\n",
      "Rondeau, Johanna Catharina Wijnanda\n",
      "https://data.rkd.nl/artists/373583\n",
      "Rondenay, Marcelle Andrée\n",
      "https://data.rkd.nl/artists/67940\n",
      "Ronner, Alice Emma Henriette\n",
      "https://data.rkd.nl/artists/89915\n",
      "Ronner-Knip, Henriette\n",
      "https://data.rkd.nl/artists/45074\n",
      "Roos Vlasman-Lingeman, Jacoba Ottolina Adriana\n",
      "https://data.rkd.nl/artists/271197\n",
      "Roos, Annie de\n",
      "https://data.rkd.nl/artists/68053\n",
      "Roosenboom, Margaretha\n",
      "https://data.rkd.nl/artists/68096\n",
      "Roosendaal, Maria van\n",
      "https://data.rkd.nl/artists/108667\n",
      "Roosval, Ellen\n",
      "https://data.rkd.nl/artists/466260\n",
      "Rose, Lize\n",
      "https://data.rkd.nl/artists/108623\n",
      "Rose-Grabow, Martha\n",
      "https://data.rkd.nl/artists/229918\n",
      "Rosenthal-Hatschek, Marie\n",
      "https://data.rkd.nl/artists/336187\n",
      "Rossem, Anna Adriana van\n",
      "https://data.rkd.nl/artists/68349\n",
      "Rossem, Frouke van der Hoef- van\n",
      "https://data.rkd.nl/artists/68351\n",
      "Rossman, Augusta\n",
      "https://data.rkd.nl/artists/89960\n",
      "Roth, Emmy\n",
      "https://data.rkd.nl/artists/283310\n",
      "Rothballer, Emma\n",
      "https://data.rkd.nl/artists/356812\n",
      "Rothe, Ella\n",
      "https://data.rkd.nl/artists/356813\n",
      "Rothschild, Alice Charlotte von\n",
      "https://data.rkd.nl/artists/462261\n",
      "Rothschild, Charlotte de (Baronne)\n",
      "https://data.rkd.nl/artists/68477\n",
      "Rottenberg Ena\n",
      "https://data.rkd.nl/artists/356817\n",
      "Rotter, Ernestine\n",
      "https://data.rkd.nl/artists/356819\n",
      "Rotteveel, Marie\n",
      "https://data.rkd.nl/artists/89963\n",
      "Rouart, Madeleine\n",
      "https://data.rkd.nl/artists/323592\n",
      "Rousset, Helene\n",
      "https://data.rkd.nl/artists/356831\n",
      "Rowan, Ellis\n",
      "https://data.rkd.nl/artists/432663\n",
      "Royen, Anna Maria van\n",
      "https://data.rkd.nl/artists/68683\n",
      "Rozanova, Olga Vladimirovna\n",
      "https://data.rkd.nl/artists/273131\n",
      "Rozendaal, Wilhelmina\n",
      "https://data.rkd.nl/artists/108636\n",
      "Ruchet-Hartmann, Anna-Rosa\n",
      "https://data.rkd.nl/artists/127669\n",
      "Rueb, Catharina Dorothea\n",
      "https://data.rkd.nl/artists/372732\n",
      "Rueb, Christina\n",
      "https://data.rkd.nl/artists/108650\n",
      "Rueb, Gra\n",
      "https://data.rkd.nl/artists/68774\n",
      "Rueter-Lang, Gerarda de\n",
      "https://data.rkd.nl/artists/68790\n",
      "Ruhm, Karoline\n",
      "https://data.rkd.nl/artists/250467\n",
      "Ruijsch, Aletta\n",
      "https://data.rkd.nl/artists/89987\n",
      "Ruin, Ingrid\n",
      "https://data.rkd.nl/artists/211297\n",
      "Rupprecht, Tini\n",
      "https://data.rkd.nl/artists/230228\n",
      "Rutgers van Rozenburg, Geertruida Catharina Magdalena\n",
      "https://data.rkd.nl/artists/69018\n",
      "Rutgers van der Loeff-Mielziner, Frieda\n",
      "https://data.rkd.nl/artists/92946\n",
      "Rutgers, Johanna Elisabeth Judith\n",
      "https://data.rkd.nl/artists/362045\n",
      "Ruths, Amelie\n",
      "https://data.rkd.nl/artists/230236\n",
      "Ruys-Tydeman, Dé\n",
      "https://data.rkd.nl/artists/94133\n",
      "Ryan, Anne\n",
      "https://data.rkd.nl/artists/69086\n",
      "Ryerson, Margery Austen\n",
      "https://data.rkd.nl/artists/108696\n",
      "Ryggen, Hannah\n",
      "https://data.rkd.nl/artists/305564\n",
      "Rätzer, Hellmuth\n",
      "https://data.rkd.nl/artists/65688\n",
      "Rée, Anita\n",
      "https://data.rkd.nl/artists/93590\n",
      "Röder, Elselina Angenita Cornelia\n",
      "https://data.rkd.nl/artists/67573\n",
      "Röhl, Maria\n",
      "https://data.rkd.nl/artists/67578\n",
      "Röhrer, Lina\n",
      "https://data.rkd.nl/artists/229887\n",
      "Römer, Debora\n",
      "https://data.rkd.nl/artists/89902\n",
      "Römer, Lucia Sophia von\n",
      "https://data.rkd.nl/artists/108664\n",
      "Rönquist, Charlotta Sofia\n",
      "https://data.rkd.nl/artists/466258\n",
      "Sacharova, Olga Nikolaevna\n",
      "https://data.rkd.nl/artists/343175\n",
      "Sage, Kay\n",
      "https://data.rkd.nl/artists/69251\n",
      "Sahlsten, Anna\n",
      "https://data.rkd.nl/artists/466313\n",
      "Sallin, Adéle\n",
      "https://data.rkd.nl/artists/444490\n",
      "Salvendy, Frieda\n",
      "https://data.rkd.nl/artists/69463\n",
      "Sand, George\n",
      "https://data.rkd.nl/artists/69540\n",
      "Sande Bakhuyzen, Gerardina Jacoba van de\n",
      "https://data.rkd.nl/artists/69555\n",
      "Sanders, Ewa\n",
      "https://data.rkd.nl/artists/465381\n",
      "Sanders, Judikje\n",
      "https://data.rkd.nl/artists/465399\n",
      "Sandick, Anna van\n",
      "https://data.rkd.nl/artists/69594\n",
      "Sandick, Emilie Henriette van\n",
      "https://data.rkd.nl/artists/373648\n",
      "Sands, Ethel\n",
      "https://data.rkd.nl/artists/69614\n",
      "Sannom, Charlotte\n",
      "https://data.rkd.nl/artists/466373\n"
     ]
    },
    {
     "name": "stdout",
     "output_type": "stream",
     "text": [
      "Santen, Hans van\n",
      "https://data.rkd.nl/artists/69695\n",
      "Santen-Bulk, Babje Jeanette van\n",
      "https://data.rkd.nl/artists/69689\n",
      "Sargent, Margareth W.\n",
      "https://data.rkd.nl/artists/97251\n",
      "Sassen, Louise\n",
      "https://data.rkd.nl/artists/69816\n",
      "Sassen, Maria Jacoba Josephina\n",
      "https://data.rkd.nl/artists/373660\n",
      "Sauerbier, Hermina Geertruida\n",
      "https://data.rkd.nl/artists/108821\n",
      "Sauerbier, Maria Adriana\n",
      "https://data.rkd.nl/artists/108822\n",
      "Saunders, Helen\n",
      "https://data.rkd.nl/artists/69854\n",
      "Saurel, Pauline Theresia\n",
      "https://data.rkd.nl/artists/465414\n",
      "Savrij, Cornelia Johanna\n",
      "https://data.rkd.nl/artists/108857\n",
      "Saxlund, Edle Alma-\n",
      "https://data.rkd.nl/artists/131669\n",
      "Schachner, Therese\n",
      "https://data.rkd.nl/artists/70059\n",
      "Schaik-Russell, Adeline Maud van\n",
      "https://data.rkd.nl/artists/70137\n",
      "Schakel, Marianna Christina\n",
      "https://data.rkd.nl/artists/108826\n",
      "Schalek, Alice\n",
      "https://data.rkd.nl/artists/325703\n",
      "Schalek, Malva\n",
      "https://data.rkd.nl/artists/230381\n",
      "Schalk, Ada van der\n",
      "https://data.rkd.nl/artists/104744\n",
      "Schalk-Kimmijser, M.M.A. van der\n",
      "https://data.rkd.nl/artists/458914\n",
      "Schaller-Härlin, Käte\n",
      "https://data.rkd.nl/artists/230386\n",
      "Schans, Maudy van der\n",
      "https://data.rkd.nl/artists/352947\n",
      "Schauenstein-Indra, Hedwig\n",
      "https://data.rkd.nl/artists/70197\n",
      "Schauman, Sigrid Maria\n",
      "https://data.rkd.nl/artists/70198\n",
      "Schaumann, Ruth\n",
      "https://data.rkd.nl/artists/325855\n",
      "Schedlbauer, Anni\n",
      "https://data.rkd.nl/artists/357113\n",
      "Scheepers, Johanna Mina\n",
      "https://data.rkd.nl/artists/373663\n",
      "Scheepstra, Fenna Baukje\n",
      "https://data.rkd.nl/artists/465425\n",
      "Scheer, Johanna Maria Pieternella\n",
      "https://data.rkd.nl/artists/465426\n",
      "Scheffer, A.\n",
      "https://data.rkd.nl/artists/421413\n",
      "Scheffer, Bep\n",
      "https://data.rkd.nl/artists/108893\n",
      "Schemel, Hélène\n",
      "https://data.rkd.nl/artists/439692\n",
      "Schenck, Gesine\n",
      "https://data.rkd.nl/artists/322888\n",
      "Scherer, Rosa\n",
      "https://data.rkd.nl/artists/327773\n",
      "Schermer, Brigitta Elisabeth Gerarda\n",
      "https://data.rkd.nl/artists/108896\n",
      "Scheyer, Emmy Esther\n",
      "https://data.rkd.nl/artists/357165\n",
      "Schiaparelli, Elsa\n",
      "https://data.rkd.nl/artists/241626\n",
      "Schierholz, Karoline\n",
      "https://data.rkd.nl/artists/230468\n",
      "Schimmelpenningh, Wilhelmina Christina Louisa\n",
      "https://data.rkd.nl/artists/373787\n",
      "Schindler, Anna Margareta\n",
      "https://data.rkd.nl/artists/462357\n",
      "Schipper, Elisabeth\n",
      "https://data.rkd.nl/artists/94368\n",
      "Schiøttz-Jensen, Ida\n",
      "https://data.rkd.nl/artists/275939\n",
      "Schjelderup, Georgia Elise\n",
      "https://data.rkd.nl/artists/466432\n",
      "Schjerfbeck, Helena\n",
      "https://data.rkd.nl/artists/70585\n",
      "Schlafhorst, Marie\n",
      "https://data.rkd.nl/artists/462449\n",
      "Schlangenhausen, Emma\n",
      "https://data.rkd.nl/artists/70589\n",
      "Schleiss, Emilie\n",
      "https://data.rkd.nl/artists/438556\n",
      "Schlette, Engelina Helena\n",
      "https://data.rkd.nl/artists/90087\n",
      "Schmetterling, Elisabeth Barbara\n",
      "https://data.rkd.nl/artists/70661\n",
      "Schmidt, Katherine\n",
      "https://data.rkd.nl/artists/97326\n",
      "Schmieth, Berta\n",
      "https://data.rkd.nl/artists/326448\n",
      "Schmitz-Imhoff, Käthe\n",
      "https://data.rkd.nl/artists/252436\n",
      "Schneider, Félicie\n",
      "https://data.rkd.nl/artists/70780\n",
      "Schnell, Elfriede\n",
      "https://data.rkd.nl/artists/357566\n",
      "Scholte, Carolina Josephina\n",
      "https://data.rkd.nl/artists/373790\n",
      "Schooneboom, Catharina Agatha\n",
      "https://data.rkd.nl/artists/465473\n",
      "Schoot, Joanna Antonia Gerarda Maria van der\n",
      "https://data.rkd.nl/artists/465475\n",
      "Schooten, Willemina van\n",
      "https://data.rkd.nl/artists/108997\n",
      "Schot, Francina Louise\n",
      "https://data.rkd.nl/artists/71049\n",
      "Schotel, Christina Petronella\n",
      "https://data.rkd.nl/artists/71056\n",
      "Schotel, Marie\n",
      "https://data.rkd.nl/artists/71059\n",
      "Schotel-Gips, Anna Maria Angenita\n",
      "https://data.rkd.nl/artists/111129\n",
      "Schouten, Cornelia\n",
      "https://data.rkd.nl/artists/90094\n",
      "Schouten, Lizzy\n",
      "https://data.rkd.nl/artists/71099\n",
      "Schrader, Bertha\n",
      "https://data.rkd.nl/artists/231095\n",
      "Schraft, Charlotte\n",
      "https://data.rkd.nl/artists/90096\n",
      "Schreder, Marianne\n",
      "https://data.rkd.nl/artists/231108\n",
      "Schreve-IJzerman, Jo\n",
      "https://data.rkd.nl/artists/92098\n",
      "Schrijver-IJzerman, Ida\n",
      "https://data.rkd.nl/artists/40950\n",
      "Schrottenbach, Martha\n",
      "https://data.rkd.nl/artists/357693\n",
      "Schröder, Anny\n",
      "https://data.rkd.nl/artists/327048\n",
      "Schröder-Schräder, Truus\n",
      "https://data.rkd.nl/artists/337066\n",
      "Schrödter, Alwine\n",
      "https://data.rkd.nl/artists/331953\n",
      "Schultheiss, Natalie\n",
      "https://data.rkd.nl/artists/231263\n",
      "Schultz, Lili\n",
      "https://data.rkd.nl/artists/327516\n",
      "Schultze, Marie\n",
      "https://data.rkd.nl/artists/357720\n",
      "Schulz, Elisabeth\n",
      "https://data.rkd.nl/artists/327558\n",
      "Schulzenheim, Ida von\n",
      "https://data.rkd.nl/artists/71365\n",
      "Schuster, Donna N.\n",
      "https://data.rkd.nl/artists/97344\n",
      "Schwab, Eloisa\n",
      "https://data.rkd.nl/artists/97350\n",
      "Schwach-von Frast, Karoline\n",
      "https://data.rkd.nl/artists/357809\n",
      "Schwamberger-Riemer, Maria\n",
      "https://data.rkd.nl/artists/357857\n",
      "Schwartze, Georgine\n",
      "https://data.rkd.nl/artists/90105\n",
      "Schwartze, Thérèse\n",
      "https://data.rkd.nl/artists/71499\n",
      "Schwarz-Helberger, Gertrude\n",
      "https://data.rkd.nl/artists/357874\n",
      "Schwedeler, Constance\n",
      "https://data.rkd.nl/artists/327935\n",
      "Schweickhardt, Wilhelmina Magdalena\n",
      "https://data.rkd.nl/artists/115271\n",
      "Schweistal, Maria Adeline Alice\n",
      "https://data.rkd.nl/artists/90119\n",
      "Schweninger, Rosa\n",
      "https://data.rkd.nl/artists/71544\n",
      "Schwerin, Amelie Ulrika Sofia von\n",
      "https://data.rkd.nl/artists/455866\n",
      "Schwichtenberg, Martel\n",
      "https://data.rkd.nl/artists/71550\n",
      "Schwob, Susanne Madeleine\n",
      "https://data.rkd.nl/artists/126573\n",
      "Schäfer, Maria\n",
      "https://data.rkd.nl/artists/70080\n",
      "Schöffmann, Marie\n",
      "https://data.rkd.nl/artists/357586\n",
      "Schön, Luise\n",
      "https://data.rkd.nl/artists/496105\n",
      "Schütte-Lihotzky, Margarete\n",
      "https://data.rkd.nl/artists/235177\n",
      "Schütz-Wolff, Johanna\n",
      "https://data.rkd.nl/artists/327337\n",
      "Scidmore, Eliza Ruhamah\n",
      "https://data.rkd.nl/artists/388322\n",
      "Scudder, Janet\n",
      "https://data.rkd.nl/artists/425231\n",
      "Sears, Sarah\n",
      "https://data.rkd.nl/artists/97387\n",
      "Seelig, Eva Emmelina\n",
      "https://data.rkd.nl/artists/90123\n",
      "Seemann, Dora\n",
      "https://data.rkd.nl/artists/71759\n",
      "Segalla, Natalie\n",
      "https://data.rkd.nl/artists/421449\n",
      "Sellin, Anna\n",
      "https://data.rkd.nl/artists/71896\n",
      "Serebryakova, Zinaida Evgenevna\n",
      "https://data.rkd.nl/artists/329102\n",
      "Sharon, Mary Bruce\n",
      "https://data.rkd.nl/artists/97486\n",
      "Sheridan, Clare\n",
      "https://data.rkd.nl/artists/329588\n",
      "Sherwood, Rosina Emmet\n",
      "https://data.rkd.nl/artists/97568\n",
      "Sidvall, Amanda\n",
      "https://data.rkd.nl/artists/333313\n",
      "Sieben, Margarete\n",
      "https://data.rkd.nl/artists/358031\n",
      "Sieburgh, Eulalie\n",
      "https://data.rkd.nl/artists/90143\n",
      "Sieburgh-Claes, Sophia\n",
      "https://data.rkd.nl/artists/72448\n",
      "Sietze, Helene\n",
      "https://data.rkd.nl/artists/72503\n",
      "Siewert, Clara\n",
      "https://data.rkd.nl/artists/329913\n",
      "Siewertsz van Reesema, Elizabeth\n",
      "https://data.rkd.nl/artists/88416\n",
      "Siewertsz van Reesema, Ida Elisabeth\n",
      "https://data.rkd.nl/artists/88411\n",
      "Sijthoff, Maria Anna ten\n",
      "https://data.rkd.nl/artists/373824\n",
      "Sijthoff, Riek\n",
      "https://data.rkd.nl/artists/109354\n",
      "Sijthoff-van Rijswijk, Johanna Bastiana\n",
      "https://data.rkd.nl/artists/89997\n",
      "Sika, Jutta\n",
      "https://data.rkd.nl/artists/358049\n",
      "Silberer, Miriam Rose\n",
      "https://data.rkd.nl/artists/465653\n",
      "Sillem, Olga Emilie\n",
      "https://data.rkd.nl/artists/373827\n",
      "Sinclair de Rochemont, Louise\n",
      "https://data.rkd.nl/artists/72788\n",
      "Sinding, Elisabeth\n",
      "https://data.rkd.nl/artists/466504\n",
      "Singer, Anna\n",
      "https://data.rkd.nl/artists/428079\n",
      "Singer-Schinnerl, Susi\n",
      "https://data.rkd.nl/artists/358176\n",
      "Sintenis, Renée\n",
      "https://data.rkd.nl/artists/72829\n",
      "Sipkema, Annie\n",
      "https://data.rkd.nl/artists/109192\n",
      "Sivers, Clara von\n",
      "https://data.rkd.nl/artists/232368\n",
      "Six, Elisabeth Judith\n",
      "https://data.rkd.nl/artists/373112\n",
      "Sjöstrand, Helmi\n",
      "https://data.rkd.nl/artists/466507\n",
      "Slager, Jeanette\n",
      "https://data.rkd.nl/artists/72979\n",
      "Slager, Marie\n",
      "https://data.rkd.nl/artists/72980\n",
      "Slager-Velsen, Suze\n",
      "https://data.rkd.nl/artists/72985\n",
      "Slager-van Gilse, Maria\n",
      "https://data.rkd.nl/artists/72984\n",
      "Slaterus, Ruurdtje\n",
      "https://data.rkd.nl/artists/465584\n",
      "Slavona, Maria\n",
      "https://data.rkd.nl/artists/73014\n",
      "Slijper, Virginie\n",
      "https://data.rkd.nl/artists/73062\n",
      "Slingeland, Anna Maria van\n",
      "https://data.rkd.nl/artists/60681\n",
      "Slom, Olga\n",
      "https://data.rkd.nl/artists/126620\n",
      "Sloot, Marie\n",
      "https://data.rkd.nl/artists/421450\n",
      "Slott-Møller, Agnes\n",
      "https://data.rkd.nl/artists/73128\n",
      "Sluijter, Anna\n",
      "https://data.rkd.nl/artists/90201\n",
      "Sluijter, Hendrika\n",
      "https://data.rkd.nl/artists/374389\n",
      "Sluijters-van Cooten, Greet\n",
      "https://data.rkd.nl/artists/123732\n",
      "Smid, Johanna Frederika\n",
      "https://data.rkd.nl/artists/366706\n",
      "Smit, Cornelia\n",
      "https://data.rkd.nl/artists/73299\n",
      "Smit, Gorinne\n",
      "https://data.rkd.nl/artists/73310\n",
      "Smit, Jacoba\n",
      "https://data.rkd.nl/artists/109213\n",
      "Smith, Alice Ravenel Huger\n",
      "https://data.rkd.nl/artists/108792\n",
      "Smith, Hélène (1861)\n",
      "https://data.rkd.nl/artists/213358\n",
      "Smith, Jessie Willcox\n",
      "https://data.rkd.nl/artists/73447\n",
      "Smith, Letta Crapo\n",
      "https://data.rkd.nl/artists/96771\n",
      "Smith, Mina W.\n",
      "https://data.rkd.nl/artists/97643\n",
      "Smits, Anna\n",
      "https://data.rkd.nl/artists/109227\n",
      "Smulders, Anna\n",
      "https://data.rkd.nl/artists/73601\n",
      "Smyth, Olive Carleton\n",
      "https://data.rkd.nl/artists/73617\n",
      "Snellen, Johanna\n",
      "https://data.rkd.nl/artists/421511\n",
      "Snelling, Lilian\n",
      "https://data.rkd.nl/artists/73666\n",
      "Snethlage, Wilhelmina Arnoldina\n",
      "https://data.rkd.nl/artists/73669\n",
      "Snoeck, Blanche D.\n",
      "https://data.rkd.nl/artists/73699\n",
      "Snoeck, Helena\n",
      "https://data.rkd.nl/artists/374444\n",
      "Sodoma, Kamilla\n",
      "https://data.rkd.nl/artists/358478\n",
      "Soeters, Cornelie\n",
      "https://data.rkd.nl/artists/374447\n",
      "Sofronova, Antonina Fedorovna\n",
      "https://data.rkd.nl/artists/350440\n",
      "Sohl-Neyens, Marie Magdalena\n",
      "https://data.rkd.nl/artists/465615\n",
      "Solomon, Rebekka\n",
      "https://data.rkd.nl/artists/73841\n",
      "Soltau, Pauline\n",
      "https://data.rkd.nl/artists/358487\n",
      "Somerville, Edith Oenone Anna\n",
      "https://data.rkd.nl/artists/73879\n",
      "Son, Johanna Emerentia van\n",
      "https://data.rkd.nl/artists/90366\n",
      "Sonrel, Elisabeth\n",
      "https://data.rkd.nl/artists/73939\n",
      "Sophie van Württemberg\n",
      "https://data.rkd.nl/artists/438988\n",
      "Sorber, Henriëtte Wilhelmina\n",
      "https://data.rkd.nl/artists/90367\n",
      "Sorella\n",
      "https://data.rkd.nl/artists/73972\n",
      "Sorolla García, Elena\n",
      "https://data.rkd.nl/artists/476344\n",
      "Soterius von Saschenheim, Klara Adelheid\n",
      "https://data.rkd.nl/artists/358503\n",
      "Sougez, Madeleine\n",
      "https://data.rkd.nl/artists/430319\n",
      "Soya-Jensen, Emilie Johanne Elise\n",
      "https://data.rkd.nl/artists/466557\n",
      "Spaendonck, Louise van\n",
      "https://data.rkd.nl/artists/74099\n",
      "Spanjaard, Rosa\n",
      "https://data.rkd.nl/artists/90374\n",
      "Spannring, Luise\n",
      "https://data.rkd.nl/artists/466322\n",
      "Sparre, Emma Josepha\n",
      "https://data.rkd.nl/artists/74145\n",
      "Speelman, Adriana Gerarda\n",
      "https://data.rkd.nl/artists/74188\n",
      "Speelman, Jeanne Wilhelmina\n",
      "https://data.rkd.nl/artists/373189\n",
      "Speelman, Sophie\n",
      "https://data.rkd.nl/artists/106018\n",
      "Spencer, Lillie Martin\n",
      "https://data.rkd.nl/artists/74230\n",
      "Spieler, Marie\n",
      "https://data.rkd.nl/artists/74282\n",
      "Spier, Anna\n",
      "https://data.rkd.nl/artists/109263\n",
      "Spoor, Nelly\n",
      "https://data.rkd.nl/artists/109339\n",
      "Springer, Gerta\n",
      "https://data.rkd.nl/artists/337451\n",
      "Springer, Suze\n",
      "https://data.rkd.nl/artists/421424\n",
      "Spronck, Elsie\n",
      "https://data.rkd.nl/artists/74444\n",
      "Spuler-Krebs, Anna\n",
      "https://data.rkd.nl/artists/466338\n",
      "Staats, Gertrud\n",
      "https://data.rkd.nl/artists/232470\n",
      "Stach, Paula von\n",
      "https://data.rkd.nl/artists/358833\n",
      "Stam, Betsy\n",
      "https://data.rkd.nl/artists/364034\n",
      "Stamm-Hagemann, Gertrud\n",
      "https://data.rkd.nl/artists/325507\n",
      "Stanley, Dorothy\n",
      "https://data.rkd.nl/artists/74668\n",
      "Stannard, Lilian\n",
      "https://data.rkd.nl/artists/74682\n",
      "Stannard, Theresa Sylvester\n",
      "https://data.rkd.nl/artists/74683\n",
      "Staring, Everdine\n",
      "https://data.rkd.nl/artists/452084\n",
      "Stark, Adele von\n",
      "https://data.rkd.nl/artists/332463\n",
      "Stark, Catharina Wilhelmina Leonora\n",
      "https://data.rkd.nl/artists/465643\n",
      "Stauffer-Classen, Ruth\n",
      "https://data.rkd.nl/artists/126699\n",
      "Steding-Voorhoeve, Wilhelmina\n",
      "https://data.rkd.nl/artists/109962\n",
      "Steen, Mary\n",
      "https://data.rkd.nl/artists/412169\n",
      "Steengracht van Oostcapelle, Cecilia Maria\n",
      "https://data.rkd.nl/artists/426316\n",
      "Steensma, Amerentia\n",
      "https://data.rkd.nl/artists/465673\n",
      "Steffens, Louisa Hendrica\n",
      "https://data.rkd.nl/artists/421576\n",
      "Steffens, Louise Eugénie\n",
      "https://data.rkd.nl/artists/90442\n",
      "Steger, Milly\n",
      "https://data.rkd.nl/artists/324717\n",
      "Steiff, Margarete\n",
      "https://data.rkd.nl/artists/332031\n",
      "Stein Callenfels, Wilhelmine von\n",
      "https://data.rkd.nl/artists/121173\n",
      "Stein, Gertrude\n",
      "https://data.rkd.nl/artists/254993\n",
      "Steiner, Lilly\n",
      "https://data.rkd.nl/artists/109455\n",
      "Steinitz, Kate\n",
      "https://data.rkd.nl/artists/251151\n",
      "Stelzner, Caroline\n",
      "https://data.rkd.nl/artists/384545\n",
      "Stemmann, Ilse\n",
      "https://data.rkd.nl/artists/75035\n",
      "Stenis-Breuer, Clara van\n",
      "https://data.rkd.nl/artists/104255\n",
      "Stepanova, Varvara Fedorovna\n",
      "https://data.rkd.nl/artists/75051\n",
      "Stephens, Alice Barber\n",
      "https://data.rkd.nl/artists/97804\n",
      "Sternheim, Thea\n",
      "https://data.rkd.nl/artists/395365\n",
      "Stettheimer, Florine\n",
      "https://data.rkd.nl/artists/75129\n",
      "Stettler, Martha\n",
      "https://data.rkd.nl/artists/75132\n",
      "Stieltjes, Catharine Elise\n",
      "https://data.rkd.nl/artists/374520\n",
      "Stigter, Jeanne\n",
      "https://data.rkd.nl/artists/109384\n",
      "Stirum, Albertine de\n",
      "https://data.rkd.nl/artists/372583\n",
      "Stockar-Escher, Clementine\n",
      "https://data.rkd.nl/artists/127707\n",
      "Stocks, Minna\n",
      "https://data.rkd.nl/artists/232612\n",
      "Stockum, Maria van\n",
      "https://data.rkd.nl/artists/90451\n",
      "Stoecklin, Franziska\n",
      "https://data.rkd.nl/artists/127717\n",
      "Stoegmann-Bohrn, Irene\n",
      "https://data.rkd.nl/artists/359564\n",
      "Stoel, Christina\n",
      "https://data.rkd.nl/artists/419646\n",
      "Stoffers, Elisabeth\n",
      "https://data.rkd.nl/artists/102346\n",
      "Stok, Jacoba van der\n",
      "https://data.rkd.nl/artists/75390\n",
      "Stolk, Agnes van\n",
      "https://data.rkd.nl/artists/75424\n",
      "Stolk, Alida Elisabeth van\n",
      "https://data.rkd.nl/artists/90511\n",
      "Stolk, Anna Joanna van\n",
      "https://data.rkd.nl/artists/289437\n",
      "Stolk, Emma Johanna Antoinetta Romelia van\n",
      "https://data.rkd.nl/artists/373297\n",
      "Stolk, Griettie van\n",
      "https://data.rkd.nl/artists/75428\n",
      "Stolk, Sara van\n",
      "https://data.rkd.nl/artists/75435\n",
      "Stoopendaal, Maria Elisabeth\n",
      "https://data.rkd.nl/artists/374531\n",
      "Stork-Sanders, Betje\n",
      "https://data.rkd.nl/artists/114884\n",
      "Stort, Eva\n",
      "https://data.rkd.nl/artists/359744\n",
      "Stortenbeker, Marie\n",
      "https://data.rkd.nl/artists/90521\n",
      "Stoutz, Élisabeth de\n",
      "https://data.rkd.nl/artists/126725\n",
      "Stracké-van Bosse, Sara\n",
      "https://data.rkd.nl/artists/11178\n",
      "Strasser, Margarethe\n",
      "https://data.rkd.nl/artists/232687\n",
      "Stratenus, Margaretha\n",
      "https://data.rkd.nl/artists/373299\n",
      "Straub, Marianne\n",
      "https://data.rkd.nl/artists/126732\n",
      "Strausz, Herta\n",
      "https://data.rkd.nl/artists/465716\n",
      "Straver, Lien\n",
      "https://data.rkd.nl/artists/90527\n",
      "Stravinskaya, Vera Arturovna\n",
      "https://data.rkd.nl/artists/350841\n",
      "Strechine, Stephanie von\n",
      "https://data.rkd.nl/artists/232720\n",
      "Strempel, Elisabeth\n",
      "https://data.rkd.nl/artists/75707\n",
      "Stroever, Ida Carola\n",
      "https://data.rkd.nl/artists/232733\n",
      "Stroink, Nora\n",
      "https://data.rkd.nl/artists/75789\n",
      "Stromeyer, Helene Marie\n"
     ]
    },
    {
     "name": "stdout",
     "output_type": "stream",
     "text": [
      "https://data.rkd.nl/artists/75794\n",
      "Stroobant, A.\n",
      "https://data.rkd.nl/artists/75805\n",
      "Struben, Jeannette Francoise\n",
      "https://data.rkd.nl/artists/421414\n",
      "Struick du Moulin, Dora\n",
      "https://data.rkd.nl/artists/75837\n",
      "Strumphler, Sara Johanna\n",
      "https://data.rkd.nl/artists/109410\n",
      "Strzygowski, Hertha\n",
      "https://data.rkd.nl/artists/296324\n",
      "Strömberg, Julia Charlotte Mortana\n",
      "https://data.rkd.nl/artists/276251\n",
      "Strøm, Gerda\n",
      "https://data.rkd.nl/artists/75790\n",
      "Sturel, Octavie Marie\n",
      "https://data.rkd.nl/artists/485994\n",
      "Sturler de Frienisberg, Hilda de\n",
      "https://data.rkd.nl/artists/364033\n",
      "Stuten, Charlotte\n",
      "https://data.rkd.nl/artists/374534\n",
      "Stöckel, Johanna\n",
      "https://data.rkd.nl/artists/359531\n",
      "Stöckhardt, Clara Henriette Marie\n",
      "https://data.rkd.nl/artists/359558\n",
      "Stöhr, Emma\n",
      "https://data.rkd.nl/artists/359637\n",
      "Stölzl, Gunta\n",
      "https://data.rkd.nl/artists/253287\n",
      "Störck, Hedwig Marcella\n",
      "https://data.rkd.nl/artists/359742\n",
      "Stüler-Walde, Marie\n",
      "https://data.rkd.nl/artists/232754\n",
      "Stünckel, Emmy\n",
      "https://data.rkd.nl/artists/465724\n",
      "Suij, Pauline\n",
      "https://data.rkd.nl/artists/90606\n",
      "Sukhanova-Kotzebue, Lydia\n",
      "https://data.rkd.nl/artists/316408\n",
      "Surie, Coba\n",
      "https://data.rkd.nl/artists/76080\n",
      "Suringar, Sara\n",
      "https://data.rkd.nl/artists/469594\n",
      "Suy, Wilhelmine\n",
      "https://data.rkd.nl/artists/332460\n",
      "Svolinského, Karla\n",
      "https://data.rkd.nl/artists/426436\n",
      "Swagers, Caroline\n",
      "https://data.rkd.nl/artists/416250\n",
      "Swane, Christine\n",
      "https://data.rkd.nl/artists/276271\n",
      "Swanson, Gloria\n",
      "https://data.rkd.nl/artists/315592\n",
      "Swart, Saar de\n",
      "https://data.rkd.nl/artists/90608\n",
      "Swartwout de Hoog, Rie\n",
      "https://data.rkd.nl/artists/76219\n",
      "Swaving, Henriette\n",
      "https://data.rkd.nl/artists/452091\n",
      "Swijser-'t Hart, C. Christina M.\n",
      "https://data.rkd.nl/artists/76248\n",
      "Swoboda, Josefine\n",
      "https://data.rkd.nl/artists/232786\n",
      "Swope, Kate F.\n",
      "https://data.rkd.nl/artists/97750\n",
      "Syberg, Anna\n",
      "https://data.rkd.nl/artists/326210\n",
      "Szilágyi, Jolán\n",
      "https://data.rkd.nl/artists/294429\n",
      "Szánthó, Mária\n",
      "https://data.rkd.nl/artists/76322\n",
      "Söderberg, Adèle\n",
      "https://data.rkd.nl/artists/466549\n",
      "Sørensen, Nanna\n",
      "https://data.rkd.nl/artists/464366\n",
      "Tadama-Groeneveld, Thamine\n",
      "https://data.rkd.nl/artists/34002\n",
      "Taeuber-Arp, Sophie\n",
      "https://data.rkd.nl/artists/76378\n",
      "Tait, Agnes\n",
      "https://data.rkd.nl/artists/108881\n",
      "Tak van Poortvliet, Marie\n",
      "https://data.rkd.nl/artists/488253\n",
      "Tamminga, Elly\n",
      "https://data.rkd.nl/artists/76450\n",
      "Tarnoczy, Bertha von\n",
      "https://data.rkd.nl/artists/76523\n",
      "Tas-Herzberg, Frieda\n",
      "https://data.rkd.nl/artists/87809\n",
      "Taunay, Marie Cornélie\n",
      "https://data.rkd.nl/artists/109544\n",
      "Tcherikova, Ludmilla\n",
      "https://data.rkd.nl/artists/351182\n",
      "Teding van Berkhout, Susanne\n",
      "https://data.rkd.nl/artists/131419\n",
      "Teding van Berkhout-de Meijere, Frederika Wilhelmina Christina\n",
      "https://data.rkd.nl/artists/76677\n",
      "Teekens, Francisca Cornelia\n",
      "https://data.rkd.nl/artists/465753\n",
      "Teichmann, Ida\n",
      "https://data.rkd.nl/artists/313793\n",
      "Teixeira de Mattos, Carolina Anna\n",
      "https://data.rkd.nl/artists/373695\n",
      "Teixeira de Mattos, Lea\n",
      "https://data.rkd.nl/artists/372026\n",
      "Teixeira de Mattos, Sara\n",
      "https://data.rkd.nl/artists/76726\n",
      "Telkessy, Valeria\n",
      "https://data.rkd.nl/artists/460727\n",
      "Tellekamp, Hillegonda Henriëtte\n",
      "https://data.rkd.nl/artists/109527\n",
      "Temminck, Henriëtta Christina\n",
      "https://data.rkd.nl/artists/76757\n",
      "Tepe, Josefa\n",
      "https://data.rkd.nl/artists/76806\n",
      "Termote-Leonard, Lucie\n",
      "https://data.rkd.nl/artists/111183\n",
      "Terwindt, Tilla\n",
      "https://data.rkd.nl/artists/76879\n",
      "Tesdorpf, Ebba\n",
      "https://data.rkd.nl/artists/362831\n",
      "Testas, Willemien\n",
      "https://data.rkd.nl/artists/76904\n",
      "Tetzner, Lisa\n",
      "https://data.rkd.nl/artists/256588\n",
      "Teves-van de Vijsel, Ida\n",
      "https://data.rkd.nl/artists/94794\n",
      "Thalbitzer, Ella\n",
      "https://data.rkd.nl/artists/466960\n",
      "Thaner, Klara\n",
      "https://data.rkd.nl/artists/360393\n",
      "Themmen, Eddina\n",
      "https://data.rkd.nl/artists/465769\n",
      "Thern, Ida\n",
      "https://data.rkd.nl/artists/460749\n",
      "Thesleff, Ellen\n",
      "https://data.rkd.nl/artists/252560\n",
      "Thiel, Elisabeth Theodora van\n",
      "https://data.rkd.nl/artists/77049\n",
      "Thiersch, Frieda\n",
      "https://data.rkd.nl/artists/346765\n",
      "Thiersch-Patzki, Luise\n",
      "https://data.rkd.nl/artists/232893\n",
      "Thijssen, A.E.\n",
      "https://data.rkd.nl/artists/461717\n",
      "Tholen, Margo\n",
      "https://data.rkd.nl/artists/90728\n",
      "Thoma, Cella\n",
      "https://data.rkd.nl/artists/232901\n",
      "Thomsen, Emma Augusta\n",
      "https://data.rkd.nl/artists/94176\n",
      "Thomsen, Pauline\n",
      "https://data.rkd.nl/artists/276318\n",
      "Thorell, Hildegard Katarina\n",
      "https://data.rkd.nl/artists/77296\n",
      "Thornam, Emmy\n",
      "https://data.rkd.nl/artists/77308\n",
      "Thornam, Ludovica\n",
      "https://data.rkd.nl/artists/276327\n",
      "Thürheim, Therèse von (Gräfin)\n",
      "https://data.rkd.nl/artists/336052\n",
      "Ticho, Anna\n",
      "https://data.rkd.nl/artists/77398\n",
      "Tienen, Lena Margaretha van\n",
      "https://data.rkd.nl/artists/374540\n",
      "Tilanus, Cornelia\n",
      "https://data.rkd.nl/artists/109580\n",
      "Timmermans-Viertelhausen, Johanna Helena\n",
      "https://data.rkd.nl/artists/109893\n",
      "Timmers, Alida Jannetje Johanna\n",
      "https://data.rkd.nl/artists/465783\n",
      "Timmner, Hermana C.\n",
      "https://data.rkd.nl/artists/77587\n",
      "Tinne, Alexine\n",
      "https://data.rkd.nl/artists/103024\n",
      "Tirén, Gerda\n",
      "https://data.rkd.nl/artists/466989\n",
      "Tirén, Stina\n",
      "https://data.rkd.nl/artists/466991\n",
      "Tischler, Anna\n",
      "https://data.rkd.nl/artists/360569\n",
      "Tissot, Louise\n",
      "https://data.rkd.nl/artists/445097\n",
      "Toepffer, Johanna\n",
      "https://data.rkd.nl/artists/435173\n",
      "Toll, Emma\n",
      "https://data.rkd.nl/artists/466993\n",
      "Tonnet, Mathilde\n",
      "https://data.rkd.nl/artists/374542\n",
      "Toorop, Charley\n",
      "https://data.rkd.nl/artists/77872\n",
      "Toorop-Hall, Annie\n",
      "https://data.rkd.nl/artists/35442\n",
      "Tourtel, Mary\n",
      "https://data.rkd.nl/artists/309320\n",
      "Toussaint, Catharina Elisabeth\n",
      "https://data.rkd.nl/artists/421469\n",
      "Tramburg, Etta\n",
      "https://data.rkd.nl/artists/363962\n",
      "Trapp, Hede von\n",
      "https://data.rkd.nl/artists/78098\n",
      "Trauttweiller, Stefanie\n",
      "https://data.rkd.nl/artists/360625\n",
      "Travis, Diane\n",
      "https://data.rkd.nl/artists/98149\n",
      "Trefftz, Gertrud\n",
      "https://data.rkd.nl/artists/360632\n",
      "Treskow, Elisabeth\n",
      "https://data.rkd.nl/artists/308933\n",
      "Trevor, Helen Mabel\n",
      "https://data.rkd.nl/artists/78182\n",
      "Troulja, Alexandrine Aletta Johanna\n",
      "https://data.rkd.nl/artists/374543\n",
      "Trübner, Alice\n",
      "https://data.rkd.nl/artists/233027\n",
      "Turner, Helen Maria\n",
      "https://data.rkd.nl/artists/98184\n",
      "Turrettini, Charles Emile\n",
      "https://data.rkd.nl/artists/484204\n",
      "Tuxen, Nicoline\n",
      "https://data.rkd.nl/artists/360739\n",
      "Twardowska-Conrat, Ilse von\n",
      "https://data.rkd.nl/artists/243436\n",
      "Tyrwhitt, Ursula\n",
      "https://data.rkd.nl/artists/78618\n",
      "Tönder-Erichsen, Thyra\n",
      "https://data.rkd.nl/artists/466995\n",
      "Törnström, Ida\n",
      "https://data.rkd.nl/artists/467005\n",
      "Udaltsova, Nadezhda Andreevna\n",
      "https://data.rkd.nl/artists/78649\n",
      "Udvardy, Flóra\n",
      "https://data.rkd.nl/artists/460956\n",
      "Uhden, Maria\n",
      "https://data.rkd.nl/artists/78692\n",
      "Uijldert, Elise\n",
      "https://data.rkd.nl/artists/421574\n",
      "Ulphen, Harmanna Jacoba van\n",
      "https://data.rkd.nl/artists/374590\n",
      "Undi, Mariska\n",
      "https://data.rkd.nl/artists/460966\n",
      "Uphoff-Schill, Lore\n",
      "https://data.rkd.nl/artists/233088\n",
      "Upton, Florence Kate\n",
      "https://data.rkd.nl/artists/78792\n",
      "Uyldert-Mayer, Lotte\n",
      "https://data.rkd.nl/artists/274162\n",
      "Uytenbogaart, Maria Helena Jakoba\n",
      "https://data.rkd.nl/artists/374606\n",
      "Uytenhage de Mist, Johanna Carolina\n",
      "https://data.rkd.nl/artists/78872\n",
      "Vaillant, Henriëtte\n",
      "https://data.rkd.nl/artists/90802\n",
      "Val, Anna Eduardovna\n",
      "https://data.rkd.nl/artists/365642\n",
      "Valadon, Suzanne\n",
      "https://data.rkd.nl/artists/78974\n",
      "Valerius, Bertha\n",
      "https://data.rkd.nl/artists/464209\n",
      "Valkema-Herrmann, Mary\n",
      "https://data.rkd.nl/artists/111458\n",
      "Valkenburg, Bertha\n",
      "https://data.rkd.nl/artists/90806\n",
      "Vallat, Gabrielle\n",
      "https://data.rkd.nl/artists/325186\n",
      "Vallet-Bisson, Frédérique\n",
      "https://data.rkd.nl/artists/79093\n",
      "Van Deman, Esther Boise\n",
      "https://data.rkd.nl/artists/384696\n",
      "Van Deryken, Marthe\n",
      "https://data.rkd.nl/artists/79235\n",
      "Van den Broeck, Clémence\n",
      "https://data.rkd.nl/artists/90861\n",
      "Vanotti, Amalie\n",
      "https://data.rkd.nl/artists/79418\n",
      "Varges, Helene\n",
      "https://data.rkd.nl/artists/360914\n",
      "Vasileva, Mariya Ivanovna\n",
      "https://data.rkd.nl/artists/210099\n",
      "Veegens, Anna\n",
      "https://data.rkd.nl/artists/97395\n",
      "Veer, Bas van der\n",
      "https://data.rkd.nl/artists/79682\n",
      "Veeren, Anna Maria van\n",
      "https://data.rkd.nl/artists/79692\n",
      "Vegt, Berber van der\n",
      "https://data.rkd.nl/artists/465839\n",
      "Velde, Jacoba Carolina van de\n",
      "https://data.rkd.nl/artists/91357\n",
      "Velde-van Brussel, Epi van de\n",
      "https://data.rkd.nl/artists/79789\n",
      "Veltman, Johanna Jakoba\n",
      "https://data.rkd.nl/artists/465851\n",
      "Venneman, Rosa\n",
      "https://data.rkd.nl/artists/79998\n",
      "Verbeet, Gijsberta\n",
      "https://data.rkd.nl/artists/80063\n",
      "Verboeckhoven, Marguerite\n",
      "https://data.rkd.nl/artists/91400\n",
      "Verbrugghe, Christina\n",
      "https://data.rkd.nl/artists/80112\n",
      "Verburg, Maria Kornelia Konstantia\n",
      "https://data.rkd.nl/artists/374670\n",
      "Verburgt-Kramers, Lien\n",
      "https://data.rkd.nl/artists/80131\n",
      "Verheyen, Sophia\n",
      "https://data.rkd.nl/artists/310358\n",
      "Verkerk Pistorius, Clementia Hermina\n",
      "https://data.rkd.nl/artists/373306\n",
      "Vermehren, Yelva\n",
      "https://data.rkd.nl/artists/276397\n",
      "Vermeulen, Hendrica Maria Hubertina\n",
      "https://data.rkd.nl/artists/374679\n",
      "Vermey, Margaretha Joanna\n",
      "https://data.rkd.nl/artists/374683\n",
      "Vermijne, Jo\n",
      "https://data.rkd.nl/artists/80541\n",
      "Verner, Elizabeth O'Neill\n",
      "https://data.rkd.nl/artists/108956\n",
      "Versfelt, Abramina Carolina Ottolina\n",
      "https://data.rkd.nl/artists/374692\n",
      "Versfelt, Johanna Margaretha\n",
      "https://data.rkd.nl/artists/374695\n",
      "Versfelt, Simonette Jeanne Frédéricque\n",
      "https://data.rkd.nl/artists/374696\n",
      "Verspyck-van der Elst, Jacqueline\n",
      "https://data.rkd.nl/artists/80663\n",
      "Versteeg, Catharina Geertruida\n",
      "https://data.rkd.nl/artists/91578\n",
      "Verweij, Margaretha\n",
      "https://data.rkd.nl/artists/80770\n",
      "Verwoert, Elisabeth\n",
      "https://data.rkd.nl/artists/91621\n",
      "Vester, Gesine\n",
      "https://data.rkd.nl/artists/91622\n",
      "Vettewinkel, Wijnanda Ottoline Johanna\n",
      "https://data.rkd.nl/artists/423635\n",
      "Vezelay, Paule\n",
      "https://data.rkd.nl/artists/80840\n",
      "Victoria (Prinses)\n",
      "https://data.rkd.nl/artists/80886\n",
      "Victoria (koningin van Groot-Brittannië en Ierland)\n",
      "https://data.rkd.nl/artists/80887\n",
      "Viervant, Cornelia\n",
      "https://data.rkd.nl/artists/365988\n",
      "Vijsel, Constance van de\n",
      "https://data.rkd.nl/artists/94795\n",
      "Viola, Maria\n",
      "https://data.rkd.nl/artists/362979\n",
      "Vis, Anna Cornelia\n",
      "https://data.rkd.nl/artists/421451\n",
      "Visser, Gerritje\n",
      "https://data.rkd.nl/artists/109991\n",
      "Visser, Henriëtta Maria Johanna\n",
      "https://data.rkd.nl/artists/374990\n",
      "Visser, Louize\n",
      "https://data.rkd.nl/artists/421506\n",
      "Vista, Tula Marina di\n",
      "https://data.rkd.nl/artists/110798\n",
      "Vlielander Hein, Marie\n",
      "https://data.rkd.nl/artists/91647\n",
      "Vogelzang, Antonia\n",
      "https://data.rkd.nl/artists/81614\n",
      "Voigt, Elisabeth\n",
      "https://data.rkd.nl/artists/297338\n",
      "Voigtlaender-Hildebrand, Bertha\n",
      "https://data.rkd.nl/artists/328702\n",
      "Volkmar, Antonie\n",
      "https://data.rkd.nl/artists/233314\n",
      "Vollenhoven, Adriaan van\n",
      "https://data.rkd.nl/artists/427645\n",
      "Vollenhoven, Auguste Philippine van\n",
      "https://data.rkd.nl/artists/333331\n",
      "Volwerk, Seitje\n",
      "https://data.rkd.nl/artists/109956\n",
      "Von Debschitz-Kunowski, Wanda\n",
      "https://data.rkd.nl/artists/376446\n",
      "Von Haken-Schrammen, Toni\n",
      "https://data.rkd.nl/artists/388614\n",
      "Vooren, Eugenie Carolina van\n",
      "https://data.rkd.nl/artists/427512\n",
      "Voorst tot Voorst, Leonore Marie Antoinette Alphonsine van\n",
      "https://data.rkd.nl/artists/375005\n",
      "Voort, Maria van der\n",
      "https://data.rkd.nl/artists/89346\n",
      "Voorthuysen, Petronella Alida van\n",
      "https://data.rkd.nl/artists/374122\n",
      "Vos tot Nederveen Cappel, Odilia Theodora Suffrida de\n",
      "https://data.rkd.nl/artists/375013\n",
      "Vos van Steenwijk, Antoinette de\n",
      "https://data.rkd.nl/artists/432547\n",
      "Vos, Anna Catharina\n",
      "https://data.rkd.nl/artists/109976\n",
      "Vos, Maria\n",
      "https://data.rkd.nl/artists/81919\n",
      "Vos, Wilhelmina Frederika\n",
      "https://data.rkd.nl/artists/423636\n",
      "Voss, Gyda\n",
      "https://data.rkd.nl/artists/344709\n",
      "Vosse, Johanna Wilhelmina van de\n",
      "https://data.rkd.nl/artists/465917\n",
      "Voullaire, Martha Amalia\n",
      "https://data.rkd.nl/artists/338295\n",
      "Vreede, Cornelia\n",
      "https://data.rkd.nl/artists/110081\n",
      "Vreede-Mulder, Johanna Helena\n",
      "https://data.rkd.nl/artists/82023\n",
      "Vries Robbé, Henriëtte de\n",
      "https://data.rkd.nl/artists/91741\n",
      "Vries, Henriëtte de (1867-1942)\n",
      "https://data.rkd.nl/artists/91731\n",
      "Vries, Hermine Cornelie de\n",
      "https://data.rkd.nl/artists/110091\n",
      "Vries, Jetty de\n",
      "https://data.rkd.nl/artists/82100\n",
      "Vries, Leentje de\n",
      "https://data.rkd.nl/artists/107772\n",
      "Vries, Marie de\n",
      "https://data.rkd.nl/artists/91733\n",
      "Vries-Reuvens, Maria Everardina de\n",
      "https://data.rkd.nl/artists/66417\n",
      "Vrijberghe, Maria Sophia van\n",
      "https://data.rkd.nl/artists/370291\n",
      "Vuyk, Jadwiga\n",
      "https://data.rkd.nl/artists/439857\n",
      "Wagner, Babette\n",
      "https://data.rkd.nl/artists/233364\n",
      "Wagner, Juliette\n",
      "https://data.rkd.nl/artists/233396\n",
      "Wahlström, Charlotte Constance\n",
      "https://data.rkd.nl/artists/276436\n",
      "Waite, Emily Burling\n",
      "https://data.rkd.nl/artists/98309\n",
      "Waldeck-Buysman, Cornelia\n",
      "https://data.rkd.nl/artists/133872\n",
      "Walden, Nell\n",
      "https://data.rkd.nl/artists/98312\n",
      "Walker, Ethel (1861-1951)\n",
      "https://data.rkd.nl/artists/209232\n",
      "Wall Bake, Sophie Christina van den\n",
      "https://data.rkd.nl/artists/339138\n",
      "Wallander, Gerda Charlotta\n",
      "https://data.rkd.nl/artists/82654\n",
      "Waller, Adriana Wilhelmina Clara\n",
      "https://data.rkd.nl/artists/421472\n",
      "Waller, Catharina Rutgera\n",
      "https://data.rkd.nl/artists/421461\n",
      "Wallis, A.S.C.\n",
      "https://data.rkd.nl/artists/373128\n",
      "Wallis, Rosa\n",
      "https://data.rkd.nl/artists/82698\n",
      "Wallner, Katharina\n",
      "https://data.rkd.nl/artists/337627\n",
      "Walter, Adele\n",
      "https://data.rkd.nl/artists/337635\n",
      "Walters, Emile\n",
      "https://data.rkd.nl/artists/98325\n",
      "Walther, Clara\n",
      "https://data.rkd.nl/artists/233483\n",
      "Walther, Emmi\n",
      "https://data.rkd.nl/artists/233488\n",
      "Walton, Cecile\n",
      "https://data.rkd.nl/artists/82780\n",
      "Wandel, Elisabeth\n",
      "https://data.rkd.nl/artists/467078\n",
      "Wanding, Olivia Sophie Frederikke\n",
      "https://data.rkd.nl/artists/467079\n",
      "Wandscheer, Marie\n",
      "https://data.rkd.nl/artists/91900\n",
      "Waning-Stevels, Marie van\n",
      "https://data.rkd.nl/artists/90445\n",
      "Wanke, Alice\n",
      "https://data.rkd.nl/artists/337702\n",
      "Ward, Cyril\n",
      "https://data.rkd.nl/artists/82841\n",
      "Ward, Henrietta Mary Ada\n",
      "https://data.rkd.nl/artists/82845\n",
      "Warling, Elisabeth\n",
      "https://data.rkd.nl/artists/467083\n",
      "Warmelo, Margaretha Cornelia van\n",
      "https://data.rkd.nl/artists/110119\n",
      "Wartena, Froukje\n",
      "https://data.rkd.nl/artists/91904\n",
      "Wasch, Jeanne\n",
      "https://data.rkd.nl/artists/82947\n",
      "Wassink, Catharina Elisabeth\n",
      "https://data.rkd.nl/artists/82978\n",
      "Waters, Billie\n",
      "https://data.rkd.nl/artists/83007\n",
      "Way, Edna Martha\n",
      "https://data.rkd.nl/artists/102773\n",
      "Weber-Fülöp, Elisabeth\n",
      "https://data.rkd.nl/artists/233713\n",
      "Wedel, Edda von\n",
      "https://data.rkd.nl/artists/361408\n",
      "Weech, Uta von\n",
      "https://data.rkd.nl/artists/233725\n",
      "Weel, Geertruda\n",
      "https://data.rkd.nl/artists/466014\n"
     ]
    },
    {
     "name": "stdout",
     "output_type": "stream",
     "text": [
      "Weel, Wilhelmina\n",
      "https://data.rkd.nl/artists/466016\n",
      "Weel-Kuijpers, Anna Maria\n",
      "https://data.rkd.nl/artists/466017\n",
      "Wefers Bettink, Anna Geertruida\n",
      "https://data.rkd.nl/artists/83295\n",
      "Weg, Jeanne Sophia van de\n",
      "https://data.rkd.nl/artists/417478\n",
      "Wegener, Gerda\n",
      "https://data.rkd.nl/artists/83299\n",
      "Wegerif-Gravestein, Agathe\n",
      "https://data.rkd.nl/artists/33449\n",
      "Wegman, Anna Maria\n",
      "https://data.rkd.nl/artists/91921\n",
      "Wegmann, Bertha\n",
      "https://data.rkd.nl/artists/83308\n",
      "Weichberger-Kloss, Susanne\n",
      "https://data.rkd.nl/artists/361474\n",
      "Weiler, Dorothea Arnoldine von\n",
      "https://data.rkd.nl/artists/110208\n",
      "Weinrich, Agnes\n",
      "https://data.rkd.nl/artists/102804\n",
      "Weise, Elsa\n",
      "https://data.rkd.nl/artists/233825\n",
      "Weisl, Friederike\n",
      "https://data.rkd.nl/artists/361564\n",
      "Weiss, Charlotte\n",
      "https://data.rkd.nl/artists/126836\n",
      "Weiss, Hedwig\n",
      "https://data.rkd.nl/artists/337719\n",
      "Weiss, Olga\n",
      "https://data.rkd.nl/artists/233842\n",
      "Weissenborn, Else\n",
      "https://data.rkd.nl/artists/417867\n",
      "Weissenborn, Thilly\n",
      "https://data.rkd.nl/artists/384425\n",
      "Weissenstein, Grete\n",
      "https://data.rkd.nl/artists/399633\n",
      "Weith, Maria\n",
      "https://data.rkd.nl/artists/361587\n",
      "Wells-Boyce, Johanna Mary\n",
      "https://data.rkd.nl/artists/209542\n",
      "Wentscher, Tina Haim-\n",
      "https://data.rkd.nl/artists/289096\n",
      "Wentworth Roberts, Elizabeth\n",
      "https://data.rkd.nl/artists/322048\n",
      "Wenz-Eyth, Emilie\n",
      "https://data.rkd.nl/artists/361677\n",
      "Werefkin, Marianne von\n",
      "https://data.rkd.nl/artists/83648\n",
      "Werff, Clara Adriana van der\n",
      "https://data.rkd.nl/artists/110218\n",
      "Wermeskerken, G.C. van\n",
      "https://data.rkd.nl/artists/220785\n",
      "Werst, Willy\n",
      "https://data.rkd.nl/artists/375033\n",
      "Wesel, Petronella Wilhelmina van\n",
      "https://data.rkd.nl/artists/375036\n",
      "Wessel, Bessie Hoover\n",
      "https://data.rkd.nl/artists/102907\n",
      "Wessel, Ellisif\n",
      "https://data.rkd.nl/artists/412504\n",
      "Wessem, Henrëtte Jacqueline van\n",
      "https://data.rkd.nl/artists/375038\n",
      "Westenberg, Cornelia\n",
      "https://data.rkd.nl/artists/83828\n",
      "Westendorp-Osieck, Betsy\n",
      "https://data.rkd.nl/artists/83844\n",
      "Wetherill, Elisha Kent Kane\n",
      "https://data.rkd.nl/artists/102922\n",
      "Wetzel, Ines\n",
      "https://data.rkd.nl/artists/83937\n",
      "Wex-Cleemann, Else\n",
      "https://data.rkd.nl/artists/233918\n",
      "Wheatley, Edith Grace\n",
      "https://data.rkd.nl/artists/84004\n",
      "Whitehead, Elizabeth\n",
      "https://data.rkd.nl/artists/104691\n",
      "Whitehurst, Camelia\n",
      "https://data.rkd.nl/artists/102956\n",
      "Whitney, Gertrude\n",
      "https://data.rkd.nl/artists/330531\n",
      "Wichers Wierdsma, Roline Maria\n",
      "https://data.rkd.nl/artists/84112\n",
      "Wichers, Jane\n",
      "https://data.rkd.nl/artists/93144\n",
      "Wiegand, Charmion von\n",
      "https://data.rkd.nl/artists/84156\n",
      "Wiegandt, Else\n",
      "https://data.rkd.nl/artists/361867\n",
      "Wiegant, Jacoba Maria Alphonsa\n",
      "https://data.rkd.nl/artists/110236\n",
      "Wiegmann, Marie\n",
      "https://data.rkd.nl/artists/347417\n",
      "Wieringa, Jacoba Hendrika\n",
      "https://data.rkd.nl/artists/84216\n",
      "Wieselthier, Vally\n",
      "https://data.rkd.nl/artists/279402\n",
      "Wiggins, Myra Albert\n",
      "https://data.rkd.nl/artists/389690\n",
      "Wiik, Maria Katarina\n",
      "https://data.rkd.nl/artists/84294\n",
      "Wijk, Adrianna Gosina van\n",
      "https://data.rkd.nl/artists/466141\n",
      "Wijk, Dieuwke van\n",
      "https://data.rkd.nl/artists/421462\n",
      "Wijk, Jenny van\n",
      "https://data.rkd.nl/artists/84332\n",
      "Wijk, Richtje Johanna Helena van\n",
      "https://data.rkd.nl/artists/466149\n",
      "Wijn, Souwtje de\n",
      "https://data.rkd.nl/artists/84362\n",
      "Wijnman, Pau\n",
      "https://data.rkd.nl/artists/110316\n",
      "Wijthoff, Anna\n",
      "https://data.rkd.nl/artists/127551\n",
      "Wijtman, Anna\n",
      "https://data.rkd.nl/artists/363974\n",
      "Wikman, Frederika\n",
      "https://data.rkd.nl/artists/84439\n",
      "Wildhack, Paula\n",
      "https://data.rkd.nl/artists/84501\n",
      "Wildrik, Swanida\n",
      "https://data.rkd.nl/artists/84509\n",
      "Wildt, Louise Henriëtte\n",
      "https://data.rkd.nl/artists/215628\n",
      "Wilhelm, Grete\n",
      "https://data.rkd.nl/artists/361992\n",
      "Wilhelmina (koningin der Nederlanden)\n",
      "https://data.rkd.nl/artists/84533\n",
      "Willebeek le Mair, Henriëtte\n",
      "https://data.rkd.nl/artists/84594\n",
      "Willet-Holthuysen, Louisa\n",
      "https://data.rkd.nl/artists/438031\n",
      "Willeumier, Maria Augusta\n",
      "https://data.rkd.nl/artists/375046\n",
      "Williamson, Ada C.\n",
      "https://data.rkd.nl/artists/103027\n",
      "Willigen, Christina Abigael van der\n",
      "https://data.rkd.nl/artists/91956\n",
      "Willink, Catharina Agatha\n",
      "https://data.rkd.nl/artists/421477\n",
      "Wilson, Margaret Evangeline\n",
      "https://data.rkd.nl/artists/209820\n",
      "Winckler-Tannenberg, Friedrich\n",
      "https://data.rkd.nl/artists/234092\n",
      "Winger-Stein, Helene\n",
      "https://data.rkd.nl/artists/362124\n",
      "Winkel, Margaretha te\n",
      "https://data.rkd.nl/artists/374309\n",
      "Winkler, Alexandrine\n",
      "https://data.rkd.nl/artists/211085\n",
      "Winkler, Ida\n",
      "https://data.rkd.nl/artists/126964\n",
      "Winston Malbin, Lydia\n",
      "https://data.rkd.nl/artists/275676\n",
      "Wirix, Victoire\n",
      "https://data.rkd.nl/artists/91969\n",
      "Wirth, Anna Marie\n",
      "https://data.rkd.nl/artists/85041\n",
      "Wisinger-Florian, Olga\n",
      "https://data.rkd.nl/artists/85056\n",
      "Wisse, Susanna Tannetje\n",
      "https://data.rkd.nl/artists/466114\n",
      "Wisselingh, Margaretha van\n",
      "https://data.rkd.nl/artists/364039\n",
      "Wissmann, Helene Emilie\n",
      "https://data.rkd.nl/artists/421558\n",
      "Withington, Eliza\n",
      "https://data.rkd.nl/artists/389691\n",
      "Witsen, Sophia van\n",
      "https://data.rkd.nl/artists/375244\n",
      "Witsen-van Noorden, Sophia van\n",
      "https://data.rkd.nl/artists/59863\n",
      "Wittmann, Thea\n",
      "https://data.rkd.nl/artists/98995\n",
      "Wittusen, Laura Margrethe\n",
      "https://data.rkd.nl/artists/467200\n",
      "Wittwer-Gelpke, Martha\n",
      "https://data.rkd.nl/artists/127019\n",
      "Wlassics, Olga\n",
      "https://data.rkd.nl/artists/375634\n",
      "Woermann, Hedwig\n",
      "https://data.rkd.nl/artists/234285\n",
      "Wolff, Helena\n",
      "https://data.rkd.nl/artists/110298\n",
      "Wolff, Maria Catharina\n",
      "https://data.rkd.nl/artists/466122\n",
      "Wolfthorn, Julie\n",
      "https://data.rkd.nl/artists/85406\n",
      "Wollner-Beuk, Hedwig\n",
      "https://data.rkd.nl/artists/234275\n",
      "Wolterbeek Muller, Theodora Elisabeth\n",
      "https://data.rkd.nl/artists/85443\n",
      "Wolterbeek, Anna\n",
      "https://data.rkd.nl/artists/92027\n",
      "Wood, Beatrice\n",
      "https://data.rkd.nl/artists/103110\n",
      "Woodbury, Marcia Oakes\n",
      "https://data.rkd.nl/artists/96804\n",
      "Woodward, Mabel May\n",
      "https://data.rkd.nl/artists/85547\n",
      "Woog, Madeleine\n",
      "https://data.rkd.nl/artists/127021\n",
      "Woutersen-van Doesburgh, Elsa\n",
      "https://data.rkd.nl/artists/23482\n",
      "Wulfse, Gonda\n",
      "https://data.rkd.nl/artists/85765\n",
      "Wunderwald, Ilna\n",
      "https://data.rkd.nl/artists/234307\n",
      "Wunsch, Marie\n",
      "https://data.rkd.nl/artists/234314\n",
      "Wurfbain, Catherine Marguerite\n",
      "https://data.rkd.nl/artists/110312\n",
      "Wurmb, Gertrud\n",
      "https://data.rkd.nl/artists/234316\n",
      "Wuytiers, Marie\n",
      "https://data.rkd.nl/artists/8732\n",
      "Wytsman-Trulemans, Juliette\n",
      "https://data.rkd.nl/artists/90785\n",
      "Wächter, Paula von\n",
      "https://data.rkd.nl/artists/361170\n",
      "Yevonde (madame) (1893-1975)\n",
      "https://data.rkd.nl/artists/238032\n",
      "Yusupova, Zinaida Nikolaevna\n",
      "https://data.rkd.nl/artists/460208\n",
      "Zaaijer, Maria Elisabeth de\n",
      "https://data.rkd.nl/artists/110325\n",
      "Zaalberg, Hester\n",
      "https://data.rkd.nl/artists/92100\n",
      "Zago, Erma\n",
      "https://data.rkd.nl/artists/260496\n",
      "Zajaczkowska, Marie\n",
      "https://data.rkd.nl/artists/362373\n",
      "Zampetti Nava, Emilia\n",
      "https://data.rkd.nl/artists/268519\n",
      "Zanelli-Kaehlbrandt, Elisabetta\n",
      "https://data.rkd.nl/artists/269323\n",
      "Zatkova, Rougena\n",
      "https://data.rkd.nl/artists/461530\n",
      "Zawadzky, Margarete von\n",
      "https://data.rkd.nl/artists/234378\n",
      "Zeegen, Christine van\n",
      "https://data.rkd.nl/artists/86219\n",
      "Zeegers, Bé\n",
      "https://data.rkd.nl/artists/110338\n",
      "Zeggelen, Marie van\n",
      "https://data.rkd.nl/artists/92104\n",
      "Zeilmaker, Aleida\n",
      "https://data.rkd.nl/artists/96691\n",
      "Zernichow, Cathrine\n",
      "https://data.rkd.nl/artists/467250\n",
      "Zethraeus, Agatha\n",
      "https://data.rkd.nl/artists/92107\n",
      "Zetterström, Vilhelmina Katarina\n",
      "https://data.rkd.nl/artists/467254\n",
      "Ziegler, Josephina Frederika Carolina\n",
      "https://data.rkd.nl/artists/466184\n",
      "Zijdveld, Louise Marianne van\n",
      "https://data.rkd.nl/artists/115695\n",
      "Zitzewitz, Augusta von\n",
      "https://data.rkd.nl/artists/86466\n",
      "Zoir, Hildegard\n",
      "https://data.rkd.nl/artists/467260\n",
      "Zomer, Anna Maria\n",
      "https://data.rkd.nl/artists/86516\n",
      "Zorach, Marguerite\n",
      "https://data.rkd.nl/artists/86554\n",
      "Zuber, Anna\n",
      "https://data.rkd.nl/artists/330375\n",
      "Zubli-van den Berch van Heemstede, Maria\n",
      "https://data.rkd.nl/artists/6725\n",
      "Zuelzer, Gertrud\n",
      "https://data.rkd.nl/artists/86601\n",
      "Zuijderhoff, Adeline\n",
      "https://data.rkd.nl/artists/110356\n",
      "Zurek, Maryan\n",
      "https://data.rkd.nl/artists/265768\n",
      "Zweybrück-Prochaska, Emmy\n",
      "https://data.rkd.nl/artists/362667\n",
      "Zwiedineck-Clocter, Emma von\n",
      "https://data.rkd.nl/artists/362669\n"
     ]
    }
   ],
   "source": [
    "for index,row in female.iterrows():\n",
    "    print(row['name.value'])\n",
    "    print(row['id.value'])"
   ]
  },
  {
   "cell_type": "code",
   "execution_count": 23,
   "metadata": {},
   "outputs": [
    {
     "data": {
      "image/png": "[encoded data removed]",
      "text/plain": [
       "<Figure size 720x360 with 1 Axes>"
      ]
     },
     "metadata": {},
     "output_type": "display_data"
    }
   ],
   "source": [
    "%matplotlib inline\n",
    "\n",
    "import matplotlib.pyplot as plt\n",
    "\n",
    "plt.style.use('ggplot')\n",
    "\n",
    "fig = plt.figure( figsize = ( 10, 5))\n",
    "ax = plt.axes()\n",
    "\n",
    "ax.plot( counts.index , counts.values , color = '#930d08' , linestyle = 'dashdot')\n",
    "\n",
    "ax.set_xlabel('Years', size = 16)\n",
    "ax.set_ylabel('Number of female artists', size = 16 )\n",
    "\n",
    "\n",
    "ax.set_title( 'RKD artists', size = 18)\n",
    "plt.xticks(counts.index)\n",
    "\n",
    "plt.show()"
   ]
  },
  {
   "cell_type": "markdown",
   "metadata": {},
   "source": [
    "## Data for Piet Mondriaan"
   ]
  },
  {
   "cell_type": "code",
   "execution_count": 24,
   "metadata": {},
   "outputs": [],
   "source": [
    "from SPARQLWrapper import SPARQLWrapper, JSON\n",
    "\n",
    "endpoint = 'https://api.data.netwerkdigitaalerfgoed.nl/datasets/rkd/rkdartists/services/rkdartists-jena/sparql'\n",
    "query = \"\"\"\n",
    "PREFIX rdf: <http://www.w3.org/1999/02/22-rdf-syntax-ns#>\n",
    "PREFIX rdfs: <http://www.w3.org/2000/01/rdf-schema#>\n",
    "PREFIX rkdo: <http://data.rkd.nl/def#>\n",
    "PREFIX schema: <http://schema.org/>\n",
    "prefix wd: <http://www.wikidata.org/entity/>\n",
    "prefix wdt: <http://www.wikidata.org/prop/direct/>\n",
    "\n",
    "SELECT ?name ?gender ?nationality ?id ?add ?alternate ?pob ?birth_date \n",
    "?pod ?death_date ?edu_name  ?title ?image ?event ?event_desc ?event_location ?event_lat  ?event_long  ?event_date \n",
    "\n",
    "WHERE {\n",
    "\n",
    "?artist schema:identifier '56854' .\n",
    "?artist schema:name ?name .\n",
    "OPTIONAL { ?artist schema:gender ?gender . } .\n",
    "OPTIONAL { ?artist schema:nationality ?nationality . } .\n",
    "OPTIONAL { ?artist schema:identifier ?id . } .\n",
    "OPTIONAL { ?artist schema:additionalType ?add . } .\n",
    "OPTIONAL { ?artist schema:alternateName ?alternate . } .\n",
    "\n",
    "?artist rkdo:Birth ?birth .\n",
    "OPTIONAL { ?birth schema:location ?pob . } .\n",
    "OPTIONAL { ?birth schema:startDate ?birth_date  . } .\n",
    "\n",
    "  \n",
    "?artist rkdo:Death ?death .\n",
    "OPTIONAL { ?death schema:location ?pod . } .\n",
    "OPTIONAL { ?death schema:startDate ?death_date . } .\n",
    "  \n",
    "?artist rkdo:Education ?edu .\n",
    "OPTIONAL { ?edu schema:name ?edu_name. } .\n",
    "  \n",
    "?artist schema:event ?event.\n",
    "OPTIONAL { ?event schema:description ?event_desc . } .\n",
    "OPTIONAL { ?event schema:location ?event_location . } .\n",
    "OPTIONAL { ?event schema:latitude ?event_lat . } .\n",
    "OPTIONAL { ?event schema:longitude ?event_long . } .\n",
    "OPTIONAL { ?event schema:startDate ?event_date .} .\n",
    "\n",
    "service <https://query.wikidata.org/bigdata/namespace/wdq/sparql> {\n",
    "\n",
    "?work wdt:P31 wd:Q3305213;\n",
    "    wdt:P170 wd:Q151803;\n",
    "    wdt:P18 ?image;\n",
    "    wdt:P1476 ?title;\n",
    "}\n",
    "  \n",
    "FILTER (lang(?name) = 'nl')\n",
    "}\n",
    "\n",
    "\"\"\"\n",
    "\n",
    "\n",
    "sparql = SPARQLWrapper(endpoint)\n",
    "sparql.setQuery(query)\n",
    "sparql.setReturnFormat(JSON)\n",
    "data = sparql.query().convert()\n"
   ]
  },
  {
   "cell_type": "code",
   "execution_count": 25,
   "metadata": {},
   "outputs": [],
   "source": [
    "import pandas as pd\n",
    "import numpy as np \n",
    "\n",
    "df = pd.json_normalize(data['results']['bindings'])   "
   ]
  },
  {
   "cell_type": "code",
   "execution_count": 33,
   "metadata": {},
   "outputs": [
    {
     "name": "stdout",
     "output_type": "stream",
     "text": [
      "Name: Mondriaan, Piet\n",
      "https://rkd.nl/nl/explore/artists/56854\n",
      "\n",
      "Gender: Male\n",
      "Date of birth: 1872-03-07\n",
      "Date of death: 1944-02-01\n",
      "\n",
      "Alternative names:\n",
      "Mondrian, Piet\n",
      "Mondriaan, Pieter Cornelis\n",
      "\n",
      "Education:\n",
      "Rijksakademie van beeldende kunsten (Amsterdam)\n",
      "\n",
      "Events:\n",
      "1909\n",
      "also West-Kapelle \n",
      "1911\n",
      "visits Paris for ten days in mid-June (Bois 1994) \n",
      "1912-03\n",
      "lives at avenue du Maine 33 (Bois 1994) \n",
      "1912-05\n",
      "lives at rue du Départ 26 (Bois 1994) \n",
      "1919-06-22\n",
      "due to finding his old studio at 26 rue du Départ occupied by Tour Dones, moves into the vacant studio Kickert had occupied briefly in 1912 in the same building (Bois 1994) \n",
      "1919-11-01\n",
      "moves to a new studio at rue de Coulmiers 5 (Bois 1994) \n",
      "1921-10-22\n",
      "returns to rue du Départ, where he occupies the larger studio of the Stieltjes (Bois 1994) \n",
      "1936-03-20\n",
      "moves into new quarters in the studio building at boulevard Raspail 278 (Bois 1994) \n",
      "1938\n",
      "nan \n",
      "\n",
      "Works:\n",
      "Composition II ; Composition 2 avec rouge et bleu\n",
      "\n"
     ]
    },
    {
     "data": {
      "text/html": [
       "<img src=\"http://commons.wikimedia.org/wiki/Special:FilePath/Piet%20mondrian%2C%20compoisizione%20in%20rosso%2C%20blu%20e%20bianco%20II%2C%201937%2C%2001.JPG\" style=\"width: 200px; \" />"
      ],
      "text/plain": [
       "<IPython.core.display.HTML object>"
      ]
     },
     "metadata": {},
     "output_type": "display_data"
    },
    {
     "name": "stdout",
     "output_type": "stream",
     "text": [
      "Composition en rouge, bleu et blanc II\n",
      "\n"
     ]
    },
    {
     "data": {
      "text/html": [
       "<img src=\"http://commons.wikimedia.org/wiki/Special:FilePath/Piet%20mondrian%2C%20compoisizione%20in%20rosso%2C%20blu%20e%20bianco%20II%2C%201937%2C%2001.JPG\" style=\"width: 200px; \" />"
      ],
      "text/plain": [
       "<IPython.core.display.HTML object>"
      ]
     },
     "metadata": {},
     "output_type": "display_data"
    },
    {
     "name": "stdout",
     "output_type": "stream",
     "text": [
      "Still Life with Sunflower\n",
      "\n"
     ]
    },
    {
     "data": {
      "text/html": [
       "<img src=\"http://commons.wikimedia.org/wiki/Special:FilePath/Piet%20Mondriaan%20-%20Sunflower%20in%20a%20vase%20-%201991.214%20-%20Detroit%20Institute%20of%20Arts.jpg\" style=\"width: 200px; \" />"
      ],
      "text/plain": [
       "<IPython.core.display.HTML object>"
      ]
     },
     "metadata": {},
     "output_type": "display_data"
    },
    {
     "name": "stdout",
     "output_type": "stream",
     "text": [
      "Stammer Mill with Streaked Sky\n",
      "\n"
     ]
    },
    {
     "data": {
      "text/html": [
       "<img src=\"http://commons.wikimedia.org/wiki/Special:FilePath/Mondrian%20-%20Stammer%20Mill%20with%20Streaked%20Sky%2C%201905-1907.png\" style=\"width: 200px; \" />"
      ],
      "text/plain": [
       "<IPython.core.display.HTML object>"
      ]
     },
     "metadata": {},
     "output_type": "display_data"
    },
    {
     "name": "stdout",
     "output_type": "stream",
     "text": [
      "Composition with Red, Blue, Yellow, Black, and Gray\n",
      "\n"
     ]
    },
    {
     "data": {
      "text/html": [
       "<img src=\"http://commons.wikimedia.org/wiki/Special:FilePath/Piet%20Mondriaan%20-%20Composition%20with%20red%2C%20blue%2C%20yellow%2C%20black%20and%20gray%20-%20B137%20-%20Piet%20Mondrian%2C%20catalogue%20raisonn%C3%A9.jpg\" style=\"width: 200px; \" />"
      ],
      "text/plain": [
       "<IPython.core.display.HTML object>"
      ]
     },
     "metadata": {},
     "output_type": "display_data"
    },
    {
     "name": "stdout",
     "output_type": "stream",
     "text": [
      "Victory Boogie Woogie\n",
      "\n"
     ]
    },
    {
     "data": {
      "text/html": [
       "<img src=\"http://commons.wikimedia.org/wiki/Special:FilePath/Piet%20Mondriaan%20Victory%20Boogie%20Woogie.jpg\" style=\"width: 200px; \" />"
      ],
      "text/plain": [
       "<IPython.core.display.HTML object>"
      ]
     },
     "metadata": {},
     "output_type": "display_data"
    },
    {
     "name": "stdout",
     "output_type": "stream",
     "text": [
      "Molen aan 't Gein\n",
      "\n"
     ]
    },
    {
     "data": {
      "text/html": [
       "<img src=\"http://commons.wikimedia.org/wiki/Special:FilePath/Mondriaan%20Molen%20aan%20t%20Gein.jpg\" style=\"width: 200px; \" />"
      ],
      "text/plain": [
       "<IPython.core.display.HTML object>"
      ]
     },
     "metadata": {},
     "output_type": "display_data"
    },
    {
     "name": "stdout",
     "output_type": "stream",
     "text": [
      "Broadway Boogie Woogie\n",
      "\n"
     ]
    },
    {
     "data": {
      "text/html": [
       "<img src=\"http://commons.wikimedia.org/wiki/Special:FilePath/Piet%20Mondrian%2C%201942%20-%20Broadway%20Boogie%20Woogie.jpg\" style=\"width: 200px; \" />"
      ],
      "text/plain": [
       "<IPython.core.display.HTML object>"
      ]
     },
     "metadata": {},
     "output_type": "display_data"
    },
    {
     "name": "stdout",
     "output_type": "stream",
     "text": [
      "De rode boom\n",
      "\n"
     ]
    },
    {
     "data": {
      "text/html": [
       "<img src=\"http://commons.wikimedia.org/wiki/Special:FilePath/Piet%20Mondrian%2C%201908-10%2C%20Evening%3B%20Red%20Tree%20%28Avond%3B%20De%20rode%20boom%29%2C%20oil%20on%20canvas%2C%2070%20x%2099%20cm%2C%20Gemeentemuseum%20Den%20Haag.jpg\" style=\"width: 200px; \" />"
      ],
      "text/plain": [
       "<IPython.core.display.HTML object>"
      ]
     },
     "metadata": {},
     "output_type": "display_data"
    },
    {
     "name": "stdout",
     "output_type": "stream",
     "text": [
      "De grijze boom\n",
      "\n"
     ]
    },
    {
     "data": {
      "text/html": [
       "<img src=\"http://commons.wikimedia.org/wiki/Special:FilePath/Gray%20Tree%201911.jpg\" style=\"width: 200px; \" />"
      ],
      "text/plain": [
       "<IPython.core.display.HTML object>"
      ]
     },
     "metadata": {},
     "output_type": "display_data"
    },
    {
     "name": "stdout",
     "output_type": "stream",
     "text": [
      "Tableau I (Schilderij I)\n",
      "\n"
     ]
    },
    {
     "data": {
      "text/html": [
       "<img src=\"http://commons.wikimedia.org/wiki/Special:FilePath/Tableau%20I%2C%20by%20Piet%20Mondriaan.jpg\" style=\"width: 200px; \" />"
      ],
      "text/plain": [
       "<IPython.core.display.HTML object>"
      ]
     },
     "metadata": {},
     "output_type": "display_data"
    },
    {
     "name": "stdout",
     "output_type": "stream",
     "text": [
      "Composition with Yellow, Blue and Red\n",
      "\n"
     ]
    },
    {
     "data": {
      "text/html": [
       "<img src=\"http://commons.wikimedia.org/wiki/Special:FilePath/Composition-with-red-yellow-and-blue.jpg\" style=\"width: 200px; \" />"
      ],
      "text/plain": [
       "<IPython.core.display.HTML object>"
      ]
     },
     "metadata": {},
     "output_type": "display_data"
    },
    {
     "name": "stdout",
     "output_type": "stream",
     "text": [
      "Oostzijdse Mill along the River Gein by Moonlight\n",
      "\n"
     ]
    },
    {
     "data": {
      "text/html": [
       "<img src=\"http://commons.wikimedia.org/wiki/Special:FilePath/Oostzijdse%20molen%20aan%20het%20Gein%20bij%20maanlicht.jpg\" style=\"width: 200px; \" />"
      ],
      "text/plain": [
       "<IPython.core.display.HTML object>"
      ]
     },
     "metadata": {},
     "output_type": "display_data"
    },
    {
     "name": "stdout",
     "output_type": "stream",
     "text": [
      "Oostzijdse molen aan het Gein bij maanlicht\n",
      "\n"
     ]
    },
    {
     "data": {
      "text/html": [
       "<img src=\"http://commons.wikimedia.org/wiki/Special:FilePath/Oostzijdse%20molen%20aan%20het%20Gein%20bij%20maanlicht.jpg\" style=\"width: 200px; \" />"
      ],
      "text/plain": [
       "<IPython.core.display.HTML object>"
      ]
     },
     "metadata": {},
     "output_type": "display_data"
    },
    {
     "name": "stdout",
     "output_type": "stream",
     "text": [
      "Composition: No. III, with Red, Yellow, and Blue\n",
      "\n"
     ]
    },
    {
     "data": {
      "text/html": [
       "<img src=\"http://commons.wikimedia.org/wiki/Special:FilePath/Composition%20no.%20III%20with%20red%2C%20yellow%2C%20and%20blue%20by%20Piet%20Mondrian.jpg\" style=\"width: 200px; \" />"
      ],
      "text/plain": [
       "<IPython.core.display.HTML object>"
      ]
     },
     "metadata": {},
     "output_type": "display_data"
    },
    {
     "name": "stdout",
     "output_type": "stream",
     "text": [
      "Compositie: no. III, met rood, geel en blauw\n",
      "\n"
     ]
    },
    {
     "data": {
      "text/html": [
       "<img src=\"http://commons.wikimedia.org/wiki/Special:FilePath/Composition%20no.%20III%20with%20red%2C%20yellow%2C%20and%20blue%20by%20Piet%20Mondrian.jpg\" style=\"width: 200px; \" />"
      ],
      "text/plain": [
       "<IPython.core.display.HTML object>"
      ]
     },
     "metadata": {},
     "output_type": "display_data"
    },
    {
     "name": "stdout",
     "output_type": "stream",
     "text": [
      "Apple Tree, Pointillist Version\n",
      "\n"
     ]
    },
    {
     "data": {
      "text/html": [
       "<img src=\"http://commons.wikimedia.org/wiki/Special:FilePath/Piet%20Mondrian%20-%20Apple%20Tree%2C%20Pointillist%20Version%20-%201982.26.FA%20-%20Dallas%20Museum%20of%20Art.jpg\" style=\"width: 200px; \" />"
      ],
      "text/plain": [
       "<IPython.core.display.HTML object>"
      ]
     },
     "metadata": {},
     "output_type": "display_data"
    },
    {
     "name": "stdout",
     "output_type": "stream",
     "text": [
      "Composition with Large Blue Plane, Red, Black, Yellow, and Gray\n",
      "\n"
     ]
    },
    {
     "data": {
      "text/html": [
       "<img src=\"http://commons.wikimedia.org/wiki/Special:FilePath/Piet%20Mondrian%20-%20Composition%20with%20Large%20Blue%20Plane%2C%20Red%2C%20Black%2C%20Yellow%2C%20and%20Gray%20-%201984.200.FA%20-%20Dallas%20Museum%20of%20Art.jpg\" style=\"width: 200px; \" />"
      ],
      "text/plain": [
       "<IPython.core.display.HTML object>"
      ]
     },
     "metadata": {},
     "output_type": "display_data"
    },
    {
     "name": "stdout",
     "output_type": "stream",
     "text": [
      "Windmill\n",
      "\n"
     ]
    },
    {
     "data": {
      "text/html": [
       "<img src=\"http://commons.wikimedia.org/wiki/Special:FilePath/Piet%20Mondrian%20-%20Windmill%20-%201989.142%20-%20Dallas%20Museum%20of%20Art.jpg\" style=\"width: 200px; \" />"
      ],
      "text/plain": [
       "<IPython.core.display.HTML object>"
      ]
     },
     "metadata": {},
     "output_type": "display_data"
    },
    {
     "name": "stdout",
     "output_type": "stream",
     "text": [
      "Farm Near Duivendrecht, in the Evening\n",
      "\n"
     ]
    },
    {
     "data": {
      "text/html": [
       "<img src=\"http://commons.wikimedia.org/wiki/Special:FilePath/Piet%20Mondrian%20-%20Farm%20Near%20Duivendrecht%2C%20in%20the%20Evening%20-%201987.359%20-%20Dallas%20Museum%20of%20Art.jpg\" style=\"width: 200px; \" />"
      ],
      "text/plain": [
       "<IPython.core.display.HTML object>"
      ]
     },
     "metadata": {},
     "output_type": "display_data"
    },
    {
     "name": "stdout",
     "output_type": "stream",
     "text": [
      "Vuurtoren bij Westkapelle\n",
      "\n"
     ]
    },
    {
     "data": {
      "text/html": [
       "<img src=\"http://commons.wikimedia.org/wiki/Special:FilePath/Vuurtoren%20bij%20Westkapelle%2C%201908.jpg\" style=\"width: 200px; \" />"
      ],
      "text/plain": [
       "<IPython.core.display.HTML object>"
      ]
     },
     "metadata": {},
     "output_type": "display_data"
    },
    {
     "name": "stdout",
     "output_type": "stream",
     "text": [
      "Evolutie\n",
      "\n"
     ]
    },
    {
     "data": {
      "text/html": [
       "<img src=\"http://commons.wikimedia.org/wiki/Special:FilePath/Mondrian%2C%20Evolution%20%28Triptychon%29%2C%201911.jpg\" style=\"width: 200px; \" />"
      ],
      "text/plain": [
       "<IPython.core.display.HTML object>"
      ]
     },
     "metadata": {},
     "output_type": "display_data"
    },
    {
     "name": "stdout",
     "output_type": "stream",
     "text": [
      "Stilleven met gemberpot 2\n",
      "\n"
     ]
    },
    {
     "data": {
      "text/html": [
       "<img src=\"http://commons.wikimedia.org/wiki/Special:FilePath/Mondrian%2C%20Still%20Life%20with%20Gingerpot%20II.jpg\" style=\"width: 200px; \" />"
      ],
      "text/plain": [
       "<IPython.core.display.HTML object>"
      ]
     },
     "metadata": {},
     "output_type": "display_data"
    },
    {
     "name": "stdout",
     "output_type": "stream",
     "text": [
      "Molen; Molen bij zonlicht\n",
      "\n"
     ]
    },
    {
     "data": {
      "text/html": [
       "<img src=\"http://commons.wikimedia.org/wiki/Special:FilePath/Mondriaan%20Molen%20bij%20zonlicht.jpg\" style=\"width: 200px; \" />"
      ],
      "text/plain": [
       "<IPython.core.display.HTML object>"
      ]
     },
     "metadata": {},
     "output_type": "display_data"
    },
    {
     "name": "stdout",
     "output_type": "stream",
     "text": [
      "Molen bij Domburg\n",
      "\n"
     ]
    },
    {
     "data": {
      "text/html": [
       "<img src=\"http://commons.wikimedia.org/wiki/Special:FilePath/Mondriaan%20Molen%20bij%20Domburg.jpg\" style=\"width: 200px; \" />"
      ],
      "text/plain": [
       "<IPython.core.display.HTML object>"
      ]
     },
     "metadata": {},
     "output_type": "display_data"
    },
    {
     "name": "stdout",
     "output_type": "stream",
     "text": [
      "Molen; De rode molen\n",
      "\n"
     ]
    },
    {
     "data": {
      "text/html": [
       "<img src=\"http://commons.wikimedia.org/wiki/Special:FilePath/Mondriaan%20Rode%20Molen.jpg\" style=\"width: 200px; \" />"
      ],
      "text/plain": [
       "<IPython.core.display.HTML object>"
      ]
     },
     "metadata": {},
     "output_type": "display_data"
    },
    {
     "name": "stdout",
     "output_type": "stream",
     "text": [
      "Bomen aan het Gein: opkomende maan\n",
      "\n"
     ]
    },
    {
     "data": {
      "text/html": [
       "<img src=\"http://commons.wikimedia.org/wiki/Special:FilePath/Piet%20Mondriaan%20-%20Paysage%201.jpg\" style=\"width: 200px; \" />"
      ],
      "text/plain": [
       "<IPython.core.display.HTML object>"
      ]
     },
     "metadata": {},
     "output_type": "display_data"
    },
    {
     "name": "stdout",
     "output_type": "stream",
     "text": [
      "Devotie\n",
      "\n"
     ]
    },
    {
     "data": {
      "text/html": [
       "<img src=\"http://commons.wikimedia.org/wiki/Special:FilePath/Devotion%2C%20by%20Piet%20Mondriaan.jpg\" style=\"width: 200px; \" />"
      ],
      "text/plain": [
       "<IPython.core.display.HTML object>"
      ]
     },
     "metadata": {},
     "output_type": "display_data"
    },
    {
     "name": "stdout",
     "output_type": "stream",
     "text": [
      "Bosch; Bos bij Oele\n",
      "\n"
     ]
    },
    {
     "data": {
      "text/html": [
       "<img src=\"http://commons.wikimedia.org/wiki/Special:FilePath/Piet%20Mondriaan%20-%20Forest.jpg\" style=\"width: 200px; \" />"
      ],
      "text/plain": [
       "<IPython.core.display.HTML object>"
      ]
     },
     "metadata": {},
     "output_type": "display_data"
    },
    {
     "name": "stdout",
     "output_type": "stream",
     "text": [
      "Kerk te Domburg\n",
      "\n"
     ]
    },
    {
     "data": {
      "text/html": [
       "<img src=\"http://commons.wikimedia.org/wiki/Special:FilePath/Kerk%20te%20Domburg%2C%20Mondriaan%2C%201909%2001.jpg\" style=\"width: 200px; \" />"
      ],
      "text/plain": [
       "<IPython.core.display.HTML object>"
      ]
     },
     "metadata": {},
     "output_type": "display_data"
    },
    {
     "name": "stdout",
     "output_type": "stream",
     "text": [
      "Zeeuwsche kerktoren\n",
      "\n"
     ]
    },
    {
     "data": {
      "text/html": [
       "<img src=\"http://commons.wikimedia.org/wiki/Special:FilePath/Zeeuwsche%20kerktoren%2C%20Mondriaan%2C%201911.jpg\" style=\"width: 200px; \" />"
      ],
      "text/plain": [
       "<IPython.core.display.HTML object>"
      ]
     },
     "metadata": {},
     "output_type": "display_data"
    },
    {
     "name": "stdout",
     "output_type": "stream",
     "text": [
      "Metamorfose\n",
      "\n"
     ]
    },
    {
     "data": {
      "text/html": [
       "<img src=\"http://commons.wikimedia.org/wiki/Special:FilePath/Metamorfose%2C%20Mondriaan.jpg\" style=\"width: 200px; \" />"
      ],
      "text/plain": [
       "<IPython.core.display.HTML object>"
      ]
     },
     "metadata": {},
     "output_type": "display_data"
    },
    {
     "name": "stdout",
     "output_type": "stream",
     "text": [
      "Lozenge Composition with Yellow, Black, Blue, Red, and Gray\n",
      "\n"
     ]
    },
    {
     "data": {
      "text/html": [
       "<img src=\"http://commons.wikimedia.org/wiki/Special:FilePath/Piet%20Mondrian%20-%20Lozenge%20Composition%20with%20Yellow%2C%20Black%2C%20Blue%2C%20Red%2C%20and%20Gray%20-%201957.307%20-%20Art%20Institute%20of%20Chicago.jpg\" style=\"width: 200px; \" />"
      ],
      "text/plain": [
       "<IPython.core.display.HTML object>"
      ]
     },
     "metadata": {},
     "output_type": "display_data"
    },
    {
     "name": "stdout",
     "output_type": "stream",
     "text": [
      "Windmolen\n",
      "\n"
     ]
    },
    {
     "data": {
      "text/html": [
       "<img src=\"http://commons.wikimedia.org/wiki/Special:FilePath/Mondriaan%20De%20Molen.jpg\" style=\"width: 200px; \" />"
      ],
      "text/plain": [
       "<IPython.core.display.HTML object>"
      ]
     },
     "metadata": {},
     "output_type": "display_data"
    },
    {
     "name": "stdout",
     "output_type": "stream",
     "text": [
      "Zelfportret\n",
      "\n"
     ]
    },
    {
     "data": {
      "text/html": [
       "<img src=\"http://commons.wikimedia.org/wiki/Special:FilePath/Mondrian%20Zelfportret%201918.jpg\" style=\"width: 200px; \" />"
      ],
      "text/plain": [
       "<IPython.core.display.HTML object>"
      ]
     },
     "metadata": {},
     "output_type": "display_data"
    },
    {
     "name": "stdout",
     "output_type": "stream",
     "text": [
      "Rastercompositie 9: dambordcompositie heldere kleuren\n",
      "\n"
     ]
    },
    {
     "data": {
      "text/html": [
       "<img src=\"http://commons.wikimedia.org/wiki/Special:FilePath/Mondrian%20Rastercompositie%209.jpg\" style=\"width: 200px; \" />"
      ],
      "text/plain": [
       "<IPython.core.display.HTML object>"
      ]
     },
     "metadata": {},
     "output_type": "display_data"
    },
    {
     "name": "stdout",
     "output_type": "stream",
     "text": [
      "Duin III\n",
      "\n"
     ]
    },
    {
     "data": {
      "text/html": [
       "<img src=\"http://commons.wikimedia.org/wiki/Special:FilePath/Dune%20III%2C%20by%20Piet%20Mondriaan.jpg\" style=\"width: 200px; \" />"
      ],
      "text/plain": [
       "<IPython.core.display.HTML object>"
      ]
     },
     "metadata": {},
     "output_type": "display_data"
    },
    {
     "name": "stdout",
     "output_type": "stream",
     "text": [
      "Zomer, duin in Zeeland\n",
      "\n"
     ]
    },
    {
     "data": {
      "text/html": [
       "<img src=\"http://commons.wikimedia.org/wiki/Special:FilePath/Summer%2C%20Dune%20in%20Zeeland%2C%20Piet%20Mondrian%2C%201910.jpg\" style=\"width: 200px; \" />"
      ],
      "text/plain": [
       "<IPython.core.display.HTML object>"
      ]
     },
     "metadata": {},
     "output_type": "display_data"
    },
    {
     "name": "stdout",
     "output_type": "stream",
     "text": [
      "Stilleven met gemberpot 1\n",
      "\n"
     ]
    },
    {
     "data": {
      "text/html": [
       "<img src=\"http://commons.wikimedia.org/wiki/Special:FilePath/Mondrian%2C%20Still%20Life%20with%20Gingerpot%20I.jpg\" style=\"width: 200px; \" />"
      ],
      "text/plain": [
       "<IPython.core.display.HTML object>"
      ]
     },
     "metadata": {},
     "output_type": "display_data"
    },
    {
     "name": "stdout",
     "output_type": "stream",
     "text": [
      "Windmill with Summerhouse II\n",
      "\n"
     ]
    },
    {
     "data": {
      "text/html": [
       "<img src=\"http://commons.wikimedia.org/wiki/Special:FilePath/Windmill%20with%20Summerhouse%20II%2C%20Piet%20Mondriaan.jpg\" style=\"width: 200px; \" />"
      ],
      "text/plain": [
       "<IPython.core.display.HTML object>"
      ]
     },
     "metadata": {},
     "output_type": "display_data"
    },
    {
     "name": "stdout",
     "output_type": "stream",
     "text": [
      "Oostzijdse molen in maanlicht\n",
      "\n"
     ]
    },
    {
     "data": {
      "text/html": [
       "<img src=\"http://commons.wikimedia.org/wiki/Special:FilePath/Piet%20Mondriaan%20-%20Moulin%202.jpg\" style=\"width: 200px; \" />"
      ],
      "text/plain": [
       "<IPython.core.display.HTML object>"
      ]
     },
     "metadata": {},
     "output_type": "display_data"
    },
    {
     "name": "stdout",
     "output_type": "stream",
     "text": [
      "Composition\n",
      "\n"
     ]
    },
    {
     "data": {
      "text/html": [
       "<img src=\"http://commons.wikimedia.org/wiki/Special:FilePath/Composition%20MET%20DT4479.jpg\" style=\"width: 200px; \" />"
      ],
      "text/plain": [
       "<IPython.core.display.HTML object>"
      ]
     },
     "metadata": {},
     "output_type": "display_data"
    },
    {
     "name": "stdout",
     "output_type": "stream",
     "text": [
      "Tableau No. IV; Lozenge Composition with Red, Gray, Blue, Yellow, and Black\n",
      "\n"
     ]
    },
    {
     "data": {
      "text/html": [
       "<img src=\"http://commons.wikimedia.org/wiki/Special:FilePath/Tableay%20no%2C%20iv%3B%20lozenge%20composition.png\" style=\"width: 200px; \" />"
      ],
      "text/plain": [
       "<IPython.core.display.HTML object>"
      ]
     },
     "metadata": {},
     "output_type": "display_data"
    },
    {
     "name": "stdout",
     "output_type": "stream",
     "text": [
      "Farm near Duivendrecht\n",
      "\n"
     ]
    },
    {
     "data": {
      "text/html": [
       "<img src=\"http://commons.wikimedia.org/wiki/Special:FilePath/Piet%20Mondrian%20-%20Farm%20near%20Duivendrecht%20-%202001.479%20-%20Art%20Institute%20of%20Chicago.jpg\" style=\"width: 200px; \" />"
      ],
      "text/plain": [
       "<IPython.core.display.HTML object>"
      ]
     },
     "metadata": {},
     "output_type": "display_data"
    },
    {
     "name": "stdout",
     "output_type": "stream",
     "text": [
      "Composition (No. 1) Gray-Red\n",
      "\n"
     ]
    },
    {
     "data": {
      "text/html": [
       "<img src=\"http://commons.wikimedia.org/wiki/Special:FilePath/Mondrian%2C%20Compositie%20met%20rood%20en%20grijs.jpg\" style=\"width: 200px; \" />"
      ],
      "text/plain": [
       "<IPython.core.display.HTML object>"
      ]
     },
     "metadata": {},
     "output_type": "display_data"
    },
    {
     "name": "stdout",
     "output_type": "stream",
     "text": [
      "Composition with Blue, Yellow, and Red\n",
      "\n"
     ]
    },
    {
     "data": {
      "text/html": [
       "<img src=\"http://commons.wikimedia.org/wiki/Special:FilePath/Mondrian%20-%20Composition%20with%20Blue%2C%20Yellow%2C%20and%20Red%2C%201927.jpg\" style=\"width: 200px; \" />"
      ],
      "text/plain": [
       "<IPython.core.display.HTML object>"
      ]
     },
     "metadata": {},
     "output_type": "display_data"
    },
    {
     "name": "stdout",
     "output_type": "stream",
     "text": [
      "grande composizione A con nero, rosso, grigio, giallo e blu\n",
      "\n"
     ]
    },
    {
     "data": {
      "text/html": [
       "<img src=\"http://commons.wikimedia.org/wiki/Special:FilePath/Composition%20A%20by%20Piet%20Mondrian%20Galleria%20Nazionale%20d%27Arte%20Moderna%20e%20Contemporanea.jpg\" style=\"width: 200px; \" />"
      ],
      "text/plain": [
       "<IPython.core.display.HTML object>"
      ]
     },
     "metadata": {},
     "output_type": "display_data"
    },
    {
     "name": "stdout",
     "output_type": "stream",
     "text": [
      "Geschoten haas\n",
      "\n"
     ]
    },
    {
     "data": {
      "text/html": [
       "<img src=\"http://commons.wikimedia.org/wiki/Special:FilePath/Dead%20Hare%20by%20Piet%20Mondrian.jpg\" style=\"width: 200px; \" />"
      ],
      "text/plain": [
       "<IPython.core.display.HTML object>"
      ]
     },
     "metadata": {},
     "output_type": "display_data"
    },
    {
     "name": "stdout",
     "output_type": "stream",
     "text": [
      "Zwartbonte vaars in de weide\n",
      "\n"
     ]
    },
    {
     "data": {
      "text/html": [
       "<img src=\"http://commons.wikimedia.org/wiki/Special:FilePath/%27Black%20and%20White%20Heifer%27%20by%20Piet%20Mondrian%2C%20c.%201904.jpg\" style=\"width: 200px; \" />"
      ],
      "text/plain": [
       "<IPython.core.display.HTML object>"
      ]
     },
     "metadata": {},
     "output_type": "display_data"
    },
    {
     "name": "stdout",
     "output_type": "stream",
     "text": [
      "Bloeiende appelboom\n",
      "\n"
     ]
    },
    {
     "data": {
      "text/html": [
       "<img src=\"http://commons.wikimedia.org/wiki/Special:FilePath/Blossoming%20apple%20tree%2C%20by%20Piet%20Mondriaan.jpg\" style=\"width: 200px; \" />"
      ],
      "text/plain": [
       "<IPython.core.display.HTML object>"
      ]
     },
     "metadata": {},
     "output_type": "display_data"
    },
    {
     "name": "stdout",
     "output_type": "stream",
     "text": [
      "Apple Tree in Bloom\n",
      "\n"
     ]
    },
    {
     "data": {
      "text/html": [
       "<img src=\"http://commons.wikimedia.org/wiki/Special:FilePath/Blossoming%20apple%20tree%2C%20by%20Piet%20Mondriaan.jpg\" style=\"width: 200px; \" />"
      ],
      "text/plain": [
       "<IPython.core.display.HTML object>"
      ]
     },
     "metadata": {},
     "output_type": "display_data"
    },
    {
     "name": "stdout",
     "output_type": "stream",
     "text": [
      "Boerderij met wasgoed aan de lijn\n",
      "\n"
     ]
    },
    {
     "data": {
      "text/html": [
       "<img src=\"http://commons.wikimedia.org/wiki/Special:FilePath/Boerderij%20met%20wasgoed%20aan%20de%20lijn%20by%20Piet%20Mondriaan.jpg\" style=\"width: 200px; \" />"
      ],
      "text/plain": [
       "<IPython.core.display.HTML object>"
      ]
     },
     "metadata": {},
     "output_type": "display_data"
    },
    {
     "name": "stdout",
     "output_type": "stream",
     "text": [
      "Chrysanthemum\n",
      "\n"
     ]
    },
    {
     "data": {
      "text/html": [
       "<img src=\"http://commons.wikimedia.org/wiki/Special:FilePath/Chrysanthemum%20by%20Piet%20Mondrian%20%28Cleveland%29.jpg\" style=\"width: 200px; \" />"
      ],
      "text/plain": [
       "<IPython.core.display.HTML object>"
      ]
     },
     "metadata": {},
     "output_type": "display_data"
    },
    {
     "name": "stdout",
     "output_type": "stream",
     "text": [
      "Rastercompositie 8: dambordcompositie donkere kleuren\n",
      "\n"
     ]
    },
    {
     "data": {
      "text/html": [
       "<img src=\"http://commons.wikimedia.org/wiki/Special:FilePath/Mondrian%20Compositie%20Dambord%2C%20donkere%20Kleuren.jpg\" style=\"width: 200px; \" />"
      ],
      "text/plain": [
       "<IPython.core.display.HTML object>"
      ]
     },
     "metadata": {},
     "output_type": "display_data"
    },
    {
     "name": "stdout",
     "output_type": "stream",
     "text": [
      "Composition No. IV (Compositie No. IV) / Compositie 6\n",
      "\n"
     ]
    },
    {
     "data": {
      "text/html": [
       "<img src=\"http://commons.wikimedia.org/wiki/Special:FilePath/Composition%20No%20IV%2C%20by%20Piet%20Mondriaan.jpg\" style=\"width: 200px; \" />"
      ],
      "text/plain": [
       "<IPython.core.display.HTML object>"
      ]
     },
     "metadata": {},
     "output_type": "display_data"
    },
    {
     "name": "stdout",
     "output_type": "stream",
     "text": [
      "Compositie bomen 2\n",
      "\n"
     ]
    },
    {
     "data": {
      "text/html": [
       "<img src=\"http://commons.wikimedia.org/wiki/Special:FilePath/Mondrian%20Compositie%20bomen%20II.jpg\" style=\"width: 200px; \" />"
      ],
      "text/plain": [
       "<IPython.core.display.HTML object>"
      ]
     },
     "metadata": {},
     "output_type": "display_data"
    },
    {
     "name": "stdout",
     "output_type": "stream",
     "text": [
      "Composition de lignes et couleur: III (Compositie met lijnen en met kleur: III)\n",
      "\n"
     ]
    },
    {
     "data": {
      "text/html": [
       "<img src=\"http://commons.wikimedia.org/wiki/Special:FilePath/Mondrian%2C%20Compositie%20met%20blauw.jpg\" style=\"width: 200px; \" />"
      ],
      "text/plain": [
       "<IPython.core.display.HTML object>"
      ]
     },
     "metadata": {},
     "output_type": "display_data"
    },
    {
     "name": "stdout",
     "output_type": "stream",
     "text": [
      "Duin I\n",
      "\n"
     ]
    },
    {
     "data": {
      "text/html": [
       "<img src=\"http://commons.wikimedia.org/wiki/Special:FilePath/Mondriaan%2C%20Duin%20I.jpg\" style=\"width: 200px; \" />"
      ],
      "text/plain": [
       "<IPython.core.display.HTML object>"
      ]
     },
     "metadata": {},
     "output_type": "display_data"
    },
    {
     "name": "stdout",
     "output_type": "stream",
     "text": [
      "Boerderij met hooiberg\n",
      "\n"
     ]
    },
    {
     "data": {
      "text/html": [
       "<img src=\"http://commons.wikimedia.org/wiki/Special:FilePath/Farmhouse%20with%20Haystack%20by%20Piet%20Mondriaan.jpg\" style=\"width: 200px; \" />"
      ],
      "text/plain": [
       "<IPython.core.display.HTML object>"
      ]
     },
     "metadata": {},
     "output_type": "display_data"
    },
    {
     "name": "stdout",
     "output_type": "stream",
     "text": [
      "Compositie met grijze lijnen\n",
      "\n"
     ]
    },
    {
     "data": {
      "text/html": [
       "<img src=\"http://commons.wikimedia.org/wiki/Special:FilePath/Mondrian%20Losangique%20met%20grijze%20lijnen.jpg\" style=\"width: 200px; \" />"
      ],
      "text/plain": [
       "<IPython.core.display.HTML object>"
      ]
     },
     "metadata": {},
     "output_type": "display_data"
    },
    {
     "name": "stdout",
     "output_type": "stream",
     "text": [
      "Kindje\n",
      "\n"
     ]
    },
    {
     "data": {
      "text/html": [
       "<img src=\"http://commons.wikimedia.org/wiki/Special:FilePath/Mondrian%20Meisjesportret%20met%20bloemen.jpg\" style=\"width: 200px; \" />"
      ],
      "text/plain": [
       "<IPython.core.display.HTML object>"
      ]
     },
     "metadata": {},
     "output_type": "display_data"
    },
    {
     "name": "stdout",
     "output_type": "stream",
     "text": [
      "Zee na zonsondergang\n",
      "\n"
     ]
    },
    {
     "data": {
      "text/html": [
       "<img src=\"http://commons.wikimedia.org/wiki/Special:FilePath/Sea%20after%20sunset%2C%20by%20Piet%20Mondriaan.jpg\" style=\"width: 200px; \" />"
      ],
      "text/plain": [
       "<IPython.core.display.HTML object>"
      ]
     },
     "metadata": {},
     "output_type": "display_data"
    },
    {
     "name": "stdout",
     "output_type": "stream",
     "text": [
      "Spring Sun (Lentezon): Castle Ruin: Brederode\n",
      "\n"
     ]
    },
    {
     "data": {
      "text/html": [
       "<img src=\"http://commons.wikimedia.org/wiki/Special:FilePath/Piet%20Mondrian%20-%20Spring%20Sun%20%28Lentezon%29%2C%20Castle%20Ruin%2C%20Brederode%20-%201982.24.FA%20-%20Dallas%20Museum%20of%20Art.jpg\" style=\"width: 200px; \" />"
      ],
      "text/plain": [
       "<IPython.core.display.HTML object>"
      ]
     },
     "metadata": {},
     "output_type": "display_data"
    },
    {
     "name": "stdout",
     "output_type": "stream",
     "text": [
      "Tableau III: Composition in Oval\n",
      "\n"
     ]
    },
    {
     "data": {
      "text/html": [
       "<img src=\"http://commons.wikimedia.org/wiki/Special:FilePath/Mondrian%20Tableau%20III.jpg\" style=\"width: 200px; \" />"
      ],
      "text/plain": [
       "<IPython.core.display.HTML object>"
      ]
     },
     "metadata": {},
     "output_type": "display_data"
    },
    {
     "name": "stdout",
     "output_type": "stream",
     "text": [
      "Tableau III: compositie in ovaal\n",
      "\n"
     ]
    },
    {
     "data": {
      "text/html": [
       "<img src=\"http://commons.wikimedia.org/wiki/Special:FilePath/Mondrian%20Tableau%20III.jpg\" style=\"width: 200px; \" />"
      ],
      "text/plain": [
       "<IPython.core.display.HTML object>"
      ]
     },
     "metadata": {},
     "output_type": "display_data"
    },
    {
     "name": "stdout",
     "output_type": "stream",
     "text": [
      "Oostzijdse molen bij avond\n",
      "\n"
     ]
    },
    {
     "data": {
      "text/html": [
       "<img src=\"http://commons.wikimedia.org/wiki/Special:FilePath/Oostzijde%20windmill%20at%20night%2C%20by%20Piet%20Mondriaan.jpg\" style=\"width: 200px; \" />"
      ],
      "text/plain": [
       "<IPython.core.display.HTML object>"
      ]
     },
     "metadata": {},
     "output_type": "display_data"
    },
    {
     "name": "stdout",
     "output_type": "stream",
     "text": [
      "Arbre\n",
      "\n"
     ]
    },
    {
     "data": {
      "text/html": [
       "<img src=\"http://commons.wikimedia.org/wiki/Special:FilePath/Piet%20Mondrian%20-%20Boom%20A.jpg\" style=\"width: 200px; \" />"
      ],
      "text/plain": [
       "<IPython.core.display.HTML object>"
      ]
     },
     "metadata": {},
     "output_type": "display_data"
    },
    {
     "name": "stdout",
     "output_type": "stream",
     "text": [
      "The Tree A\n",
      "\n"
     ]
    },
    {
     "data": {
      "text/html": [
       "<img src=\"http://commons.wikimedia.org/wiki/Special:FilePath/Piet%20Mondrian%20-%20Boom%20A.jpg\" style=\"width: 200px; \" />"
      ],
      "text/plain": [
       "<IPython.core.display.HTML object>"
      ]
     },
     "metadata": {},
     "output_type": "display_data"
    },
    {
     "name": "stdout",
     "output_type": "stream",
     "text": [
      "The Winkel Mill, Pointillist Version\n",
      "\n"
     ]
    },
    {
     "data": {
      "text/html": [
       "<img src=\"http://commons.wikimedia.org/wiki/Special:FilePath/Piet%20Mondrian%20-%20The%20Winkel%20Mill%2C%20Pointillist%20Version%20-%201982.25.FA%20-%20Dallas%20Museum%20of%20Art.jpg\" style=\"width: 200px; \" />"
      ],
      "text/plain": [
       "<IPython.core.display.HTML object>"
      ]
     },
     "metadata": {},
     "output_type": "display_data"
    },
    {
     "name": "stdout",
     "output_type": "stream",
     "text": [
      "Willow Grove: Impression of Light and Shadow\n",
      "\n"
     ]
    },
    {
     "data": {
      "text/html": [
       "<img src=\"http://commons.wikimedia.org/wiki/Special:FilePath/20%20sep%2013%20klee%20around%20the%20core.jpg\" style=\"width: 200px; \" />"
      ],
      "text/plain": [
       "<IPython.core.display.HTML object>"
      ]
     },
     "metadata": {},
     "output_type": "display_data"
    },
    {
     "name": "stdout",
     "output_type": "stream",
     "text": [
      "Wilgen met zon (studie olieverf)\n",
      "\n"
     ]
    },
    {
     "data": {
      "text/html": [
       "<img src=\"http://commons.wikimedia.org/wiki/Special:FilePath/Piet%20Mondriaan%20-%20Row%20of%20eight%20young%20willows%20reflected%20in%20the%20water%20-%200333466%20-%20Kunstmuseum%20Den%20Haag.jpg\" style=\"width: 200px; \" />"
      ],
      "text/plain": [
       "<IPython.core.display.HTML object>"
      ]
     },
     "metadata": {},
     "output_type": "display_data"
    },
    {
     "name": "stdout",
     "output_type": "stream",
     "text": [
      "Koeien in de wei\n",
      "\n"
     ]
    },
    {
     "data": {
      "text/html": [
       "<img src=\"http://commons.wikimedia.org/wiki/Special:FilePath/Piet%20Mondriaan%20-%20Cows%20in%20a%20meadow%20with%20tree%20-%200334236%20-%20Kunstmuseum%20Den%20Haag.jpg\" style=\"width: 200px; \" />"
      ],
      "text/plain": [
       "<IPython.core.display.HTML object>"
      ]
     },
     "metadata": {},
     "output_type": "display_data"
    },
    {
     "name": "stdout",
     "output_type": "stream",
     "text": [
      "Landschap bij maanlicht\n",
      "\n"
     ]
    },
    {
     "data": {
      "text/html": [
       "<img src=\"http://commons.wikimedia.org/wiki/Special:FilePath/Piet%20Mondriaan%20-%20Evening%20sky%20with%20moon%20-%200334238%20-%20Kunstmuseum%20Den%20Haag.jpg\" style=\"width: 200px; \" />"
      ],
      "text/plain": [
       "<IPython.core.display.HTML object>"
      ]
     },
     "metadata": {},
     "output_type": "display_data"
    },
    {
     "name": "stdout",
     "output_type": "stream",
     "text": [
      "Ven bij Saasveld\n",
      "\n"
     ]
    },
    {
     "data": {
      "text/html": [
       "<img src=\"http://commons.wikimedia.org/wiki/Special:FilePath/Piet%20Mondriaan%20-%20Fen%20near%20Saasveld%20-%200334239%20-%20Kunstmuseum%20Den%20Haag.jpg\" style=\"width: 200px; \" />"
      ],
      "text/plain": [
       "<IPython.core.display.HTML object>"
      ]
     },
     "metadata": {},
     "output_type": "display_data"
    },
    {
     "name": "stdout",
     "output_type": "stream",
     "text": [
      "Korenschoven in het veld\n",
      "\n"
     ]
    },
    {
     "data": {
      "text/html": [
       "<img src=\"http://commons.wikimedia.org/wiki/Special:FilePath/Korenschoven%20in%20het%20veld.jpg\" style=\"width: 200px; \" />"
      ],
      "text/plain": [
       "<IPython.core.display.HTML object>"
      ]
     },
     "metadata": {},
     "output_type": "display_data"
    },
    {
     "name": "stdout",
     "output_type": "stream",
     "text": [
      "Boerderij bij Duivendrecht\n",
      "\n"
     ]
    },
    {
     "data": {
      "text/html": [
       "<img src=\"http://commons.wikimedia.org/wiki/Special:FilePath/Piet%20Mondriaan%20-%20Farm%20at%20Duivendrecht%20-%200334249%20-%20Kunstmuseum%20Den%20Haag.jpg\" style=\"width: 200px; \" />"
      ],
      "text/plain": [
       "<IPython.core.display.HTML object>"
      ]
     },
     "metadata": {},
     "output_type": "display_data"
    },
    {
     "name": "stdout",
     "output_type": "stream",
     "text": [
      "Boerderij in de avond\n",
      "\n"
     ]
    },
    {
     "data": {
      "text/html": [
       "<img src=\"http://commons.wikimedia.org/wiki/Special:FilePath/Piet%20Mondriaan%20-%20Gabled%20farm%20hut%20in%20the%20evening%20-%200334253%20-%20Kunstmuseum%20Den%20Haag.jpg\" style=\"width: 200px; \" />"
      ],
      "text/plain": [
       "<IPython.core.display.HTML object>"
      ]
     },
     "metadata": {},
     "output_type": "display_data"
    },
    {
     "name": "stdout",
     "output_type": "stream",
     "text": [
      "Isar Harlemia\n",
      "\n"
     ]
    },
    {
     "data": {
      "text/html": [
       "<img src=\"http://commons.wikimedia.org/wiki/Special:FilePath/Piet%20Mondriaan%20-%20Isar%20Harlemia%20%28authentiek%29%20-%200334254%20-%20Kunstmuseum%20Den%20Haag.jpg\" style=\"width: 200px; \" />"
      ],
      "text/plain": [
       "<IPython.core.display.HTML object>"
      ]
     },
     "metadata": {},
     "output_type": "display_data"
    },
    {
     "name": "stdout",
     "output_type": "stream",
     "text": [
      "Veld met bomen bij avond\n",
      "\n"
     ]
    },
    {
     "data": {
      "text/html": [
       "<img src=\"http://commons.wikimedia.org/wiki/Special:FilePath/Piet%20Mondriaan%20-%20Field%20with%20tree%20silhouette%20at%20right%20-%200334255%20-%20Kunstmuseum%20Den%20Haag.jpg\" style=\"width: 200px; \" />"
      ],
      "text/plain": [
       "<IPython.core.display.HTML object>"
      ]
     },
     "metadata": {},
     "output_type": "display_data"
    },
    {
     "name": "stdout",
     "output_type": "stream",
     "text": [
      "Het Singel, Amsterdam\n",
      "\n"
     ]
    },
    {
     "data": {
      "text/html": [
       "<img src=\"http://commons.wikimedia.org/wiki/Special:FilePath/Het%20Singel%2C%20Amsterdam.jpg\" style=\"width: 200px; \" />"
      ],
      "text/plain": [
       "<IPython.core.display.HTML object>"
      ]
     },
     "metadata": {},
     "output_type": "display_data"
    },
    {
     "name": "stdout",
     "output_type": "stream",
     "text": [
      "Onderschildering voor land en lucht\n",
      "\n"
     ]
    },
    {
     "data": {
      "text/html": [
       "<img src=\"http://commons.wikimedia.org/wiki/Special:FilePath/Piet%20Mondriaan%20-%20Underpainting%20for%20land%20and%20sky%20-%200334257%20-%20Kunstmuseum%20Den%20Haag.jpg\" style=\"width: 200px; \" />"
      ],
      "text/plain": [
       "<IPython.core.display.HTML object>"
      ]
     },
     "metadata": {},
     "output_type": "display_data"
    },
    {
     "name": "stdout",
     "output_type": "stream",
     "text": [
      "Boerderij te Blaricum\n",
      "\n"
     ]
    },
    {
     "data": {
      "text/html": [
       "<img src=\"http://commons.wikimedia.org/wiki/Special:FilePath/Piet%20Mondriaan%20-%20Farmstead%20in%20Het%20Gooi%2C%20viewed%20between%20trees%20and%20over%20fence%20-%200334258%20-%20Kunstmuseum%20Den%20Haag.jpg\" style=\"width: 200px; \" />"
      ],
      "text/plain": [
       "<IPython.core.display.HTML object>"
      ]
     },
     "metadata": {},
     "output_type": "display_data"
    },
    {
     "name": "stdout",
     "output_type": "stream",
     "text": [
      "Werf te Durgerdam\n",
      "\n"
     ]
    },
    {
     "data": {
      "text/html": [
       "<img src=\"http://commons.wikimedia.org/wiki/Special:FilePath/Piet%20Mondriaan%20-%20Drydock%20at%20Durgerdam%2C%20oil%20sketch%20-%200334262%20-%20Kunstmuseum%20Den%20Haag.jpg\" style=\"width: 200px; \" />"
      ],
      "text/plain": [
       "<IPython.core.display.HTML object>"
      ]
     },
     "metadata": {},
     "output_type": "display_data"
    },
    {
     "name": "stdout",
     "output_type": "stream",
     "text": [
      "Bomen langs het Gein\n",
      "\n"
     ]
    },
    {
     "data": {
      "text/html": [
       "<img src=\"http://commons.wikimedia.org/wiki/Special:FilePath/Piet%20Mondriaan%20-%20Bend%20in%20the%20Gein%20with%20poplars%2C%20three%20isolated%20-%200334264%20-%20Kunstmuseum%20Den%20Haag.jpg\" style=\"width: 200px; \" />"
      ],
      "text/plain": [
       "<IPython.core.display.HTML object>"
      ]
     },
     "metadata": {},
     "output_type": "display_data"
    },
    {
     "name": "stdout",
     "output_type": "stream",
     "text": [
      "Avondstemming aan de Amstel (De Omval)\n",
      "\n"
     ]
    },
    {
     "data": {
      "text/html": [
       "<img src=\"http://commons.wikimedia.org/wiki/Special:FilePath/Piet%20Mondriaan%20-%20On%20Ouderkerkerdijk%20near%20the%20Omval%20-%200334270%20-%20Kunstmuseum%20Den%20Haag.jpg\" style=\"width: 200px; \" />"
      ],
      "text/plain": [
       "<IPython.core.display.HTML object>"
      ]
     },
     "metadata": {},
     "output_type": "display_data"
    },
    {
     "name": "stdout",
     "output_type": "stream",
     "text": [
      "Vrouw bij boerderij\n",
      "\n"
     ]
    },
    {
     "data": {
      "text/html": [
       "<img src=\"http://commons.wikimedia.org/wiki/Special:FilePath/Piet%20Mondriaan%20-%20Woman%20and%20farm%20building%20in%20the%20Achterhoek%20-%200334225%20-%20Kunstmuseum%20Den%20Haag.jpg\" style=\"width: 200px; \" />"
      ],
      "text/plain": [
       "<IPython.core.display.HTML object>"
      ]
     },
     "metadata": {},
     "output_type": "display_data"
    },
    {
     "name": "stdout",
     "output_type": "stream",
     "text": [
      "Onderschildering voor avondlandschap\n",
      "\n"
     ]
    },
    {
     "data": {
      "text/html": [
       "<img src=\"http://commons.wikimedia.org/wiki/Special:FilePath/Piet%20Mondriaan%20-%20Evening%20sky%20with%20luminous%20cloud%20-%200334228%20-%20Kunstmuseum%20Den%20Haag.jpg\" style=\"width: 200px; \" />"
      ],
      "text/plain": [
       "<IPython.core.display.HTML object>"
      ]
     },
     "metadata": {},
     "output_type": "display_data"
    },
    {
     "name": "stdout",
     "output_type": "stream",
     "text": [
      "Veld met bomengroep bij avond II\n",
      "\n"
     ]
    },
    {
     "data": {
      "text/html": [
       "<img src=\"http://commons.wikimedia.org/wiki/Special:FilePath/Piet%20Mondriaan%20-%20Field%20with%20two%20tree%20silhouettes%20II%20-%200334229%20-%20Kunstmuseum%20Den%20Haag.jpg\" style=\"width: 200px; \" />"
      ],
      "text/plain": [
       "<IPython.core.display.HTML object>"
      ]
     },
     "metadata": {},
     "output_type": "display_data"
    },
    {
     "name": "stdout",
     "output_type": "stream",
     "text": [
      "Schaapskooi in de avond\n",
      "\n"
     ]
    },
    {
     "data": {
      "text/html": [
       "<img src=\"http://commons.wikimedia.org/wiki/Special:FilePath/Piet%20Mondriaan%20-%20Sheepfold%20with%20tree%20at%20right%20-%200334276%20-%20Kunstmuseum%20Den%20Haag.jpg\" style=\"width: 200px; \" />"
      ],
      "text/plain": [
       "<IPython.core.display.HTML object>"
      ]
     },
     "metadata": {},
     "output_type": "display_data"
    },
    {
     "name": "stdout",
     "output_type": "stream",
     "text": [
      "Veld met bomengroep bij avond I\n",
      "\n"
     ]
    },
    {
     "data": {
      "text/html": [
       "<img src=\"http://commons.wikimedia.org/wiki/Special:FilePath/Piet%20Mondriaan%20-%20Field%20with%20two%20tree%20silhouettes%20I%20-%200334278%20-%20Kunstmuseum%20Den%20Haag.jpg\" style=\"width: 200px; \" />"
      ],
      "text/plain": [
       "<IPython.core.display.HTML object>"
      ]
     },
     "metadata": {},
     "output_type": "display_data"
    },
    {
     "name": "stdout",
     "output_type": "stream",
     "text": [
      "Boerderij Geinrust in de nevel\n",
      "\n"
     ]
    },
    {
     "data": {
      "text/html": [
       "<img src=\"http://commons.wikimedia.org/wiki/Special:FilePath/Piet%20Mondriaan%20-%20Geinrust%20farm%20in%20the%20mist%20-%200334280%20-%20Kunstmuseum%20Den%20Haag.jpg\" style=\"width: 200px; \" />"
      ],
      "text/plain": [
       "<IPython.core.display.HTML object>"
      ]
     },
     "metadata": {},
     "output_type": "display_data"
    },
    {
     "name": "stdout",
     "output_type": "stream",
     "text": [
      "Stervende zonnebloem I\n",
      "\n"
     ]
    },
    {
     "data": {
      "text/html": [
       "<img src=\"http://commons.wikimedia.org/wiki/Special:FilePath/Piet%20Mondriaan%20-%20Dying%20sunflower%20I%20-%200334281%20-%20Kunstmuseum%20Den%20Haag.jpg\" style=\"width: 200px; \" />"
      ],
      "text/plain": [
       "<IPython.core.display.HTML object>"
      ]
     },
     "metadata": {},
     "output_type": "display_data"
    },
    {
     "name": "stdout",
     "output_type": "stream",
     "text": [
      "Stervende zonnebloem II\n",
      "\n"
     ]
    },
    {
     "data": {
      "text/html": [
       "<img src=\"http://commons.wikimedia.org/wiki/Special:FilePath/Piet%20Mondriaan%20-%20Dying%20sunflower%20II%20-%200334282%20-%20Kunstmuseum%20Den%20Haag.jpg\" style=\"width: 200px; \" />"
      ],
      "text/plain": [
       "<IPython.core.display.HTML object>"
      ]
     },
     "metadata": {},
     "output_type": "display_data"
    },
    {
     "name": "stdout",
     "output_type": "stream",
     "text": [
      "Zeegezicht\n",
      "\n"
     ]
    },
    {
     "data": {
      "text/html": [
       "<img src=\"http://commons.wikimedia.org/wiki/Special:FilePath/Zeegezicht%2C%20Piet%20Mondriaan%2C%201909.jpg\" style=\"width: 200px; \" />"
      ],
      "text/plain": [
       "<IPython.core.display.HTML object>"
      ]
     },
     "metadata": {},
     "output_type": "display_data"
    },
    {
     "name": "stdout",
     "output_type": "stream",
     "text": [
      "Duin II\n",
      "\n"
     ]
    },
    {
     "data": {
      "text/html": [
       "<img src=\"http://commons.wikimedia.org/wiki/Special:FilePath/Piet%20Mondriaan%20-%20Pointillist%20dune%20study%2C%20crest%20at%20right%20-%200334292%20-%20Kunstmuseum%20Den%20Haag.jpg\" style=\"width: 200px; \" />"
      ],
      "text/plain": [
       "<IPython.core.display.HTML object>"
      ]
     },
     "metadata": {},
     "output_type": "display_data"
    },
    {
     "name": "stdout",
     "output_type": "stream",
     "text": [
      "Aäronskelk; Blauwe bloem\n",
      "\n"
     ]
    },
    {
     "data": {
      "text/html": [
       "<img src=\"http://commons.wikimedia.org/wiki/Special:FilePath/Piet%20Mondriaan%20-%20A%C3%A4ronskelk%20%28authentiek%29%20-%200334296%20-%20Kunstmuseum%20Den%20Haag.jpg\" style=\"width: 200px; \" />"
      ],
      "text/plain": [
       "<IPython.core.display.HTML object>"
      ]
     },
     "metadata": {},
     "output_type": "display_data"
    },
    {
     "name": "stdout",
     "output_type": "stream",
     "text": [
      "Aäronskelken\n",
      "\n"
     ]
    },
    {
     "data": {
      "text/html": [
       "<img src=\"http://commons.wikimedia.org/wiki/Special:FilePath/Piet%20Mondriaan%20-%20A%C3%A4ronskelken%20%28authentiek%29%20-%200334297%20-%20Kunstmuseum%20Den%20Haag.jpg\" style=\"width: 200px; \" />"
      ],
      "text/plain": [
       "<IPython.core.display.HTML object>"
      ]
     },
     "metadata": {},
     "output_type": "display_data"
    },
    {
     "name": "stdout",
     "output_type": "stream",
     "text": [
      "Zeeuwsche boer\n",
      "\n"
     ]
    },
    {
     "data": {
      "text/html": [
       "<img src=\"http://commons.wikimedia.org/wiki/Special:FilePath/Piet%20Mondriaan%20-%20Zeeuws%28ch%29e%20boer%20%28authentiek%29%20-%200334298%20-%20Kunstmuseum%20Den%20Haag.jpg\" style=\"width: 200px; \" />"
      ],
      "text/plain": [
       "<IPython.core.display.HTML object>"
      ]
     },
     "metadata": {},
     "output_type": "display_data"
    },
    {
     "name": "stdout",
     "output_type": "stream",
     "text": [
      "Kerk te Oostkapelle\n",
      "\n"
     ]
    },
    {
     "data": {
      "text/html": [
       "<img src=\"http://commons.wikimedia.org/wiki/Special:FilePath/Piet%20Mondriaan%20-%20Church%20at%20Oostkapelle%2C%20nave%20and%20tower%20-%200334299%20-%20Kunstmuseum%20Den%20Haag.jpg\" style=\"width: 200px; \" />"
      ],
      "text/plain": [
       "<IPython.core.display.HTML object>"
      ]
     },
     "metadata": {},
     "output_type": "display_data"
    },
    {
     "name": "stdout",
     "output_type": "stream",
     "text": [
      "Duinlandschap\n",
      "\n"
     ]
    },
    {
     "data": {
      "text/html": [
       "<img src=\"http://commons.wikimedia.org/wiki/Special:FilePath/Duinlandschap%20bij%20Domburg%2C%20Piet%20Mondriaan%2C%201911.jpg\" style=\"width: 200px; \" />"
      ],
      "text/plain": [
       "<IPython.core.display.HTML object>"
      ]
     },
     "metadata": {},
     "output_type": "display_data"
    },
    {
     "name": "stdout",
     "output_type": "stream",
     "text": [
      "Paysage (Landschap)\n",
      "\n"
     ]
    },
    {
     "data": {
      "text/html": [
       "<img src=\"http://commons.wikimedia.org/wiki/Special:FilePath/Piet%20Mondriaan%20-%20Paysage%20-%200334308%20-%20Kunstmuseum%20Den%20Haag.jpg\" style=\"width: 200px; \" />"
      ],
      "text/plain": [
       "<IPython.core.display.HTML object>"
      ]
     },
     "metadata": {},
     "output_type": "display_data"
    },
    {
     "name": "stdout",
     "output_type": "stream",
     "text": [
      "Landschap met bomen\n",
      "\n"
     ]
    },
    {
     "data": {
      "text/html": [
       "<img src=\"http://commons.wikimedia.org/wiki/Special:FilePath/Piet%20Mondriaan%20-%20Landscape%20with%20trees%20-%200334309%20-%20Kunstmuseum%20Den%20Haag.jpg\" style=\"width: 200px; \" />"
      ],
      "text/plain": [
       "<IPython.core.display.HTML object>"
      ]
     },
     "metadata": {},
     "output_type": "display_data"
    },
    {
     "name": "stdout",
     "output_type": "stream",
     "text": [
      "Portret van een dame\n",
      "\n"
     ]
    },
    {
     "data": {
      "text/html": [
       "<img src=\"http://commons.wikimedia.org/wiki/Special:FilePath/Piet%20Mondriaan%20-%20Portrait%20of%20a%20lady%20-%200334310%20-%20Kunstmuseum%20Den%20Haag.jpg\" style=\"width: 200px; \" />"
      ],
      "text/plain": [
       "<IPython.core.display.HTML object>"
      ]
     },
     "metadata": {},
     "output_type": "display_data"
    },
    {
     "name": "stdout",
     "output_type": "stream",
     "text": [
      "Het grote naakt\n",
      "\n"
     ]
    },
    {
     "data": {
      "text/html": [
       "<img src=\"http://commons.wikimedia.org/wiki/Special:FilePath/Piet%20Mondriaan%20-%20The%20large%20nude%20-%200334311%20-%20Kunstmuseum%20Den%20Haag.jpg\" style=\"width: 200px; \" />"
      ],
      "text/plain": [
       "<IPython.core.display.HTML object>"
      ]
     },
     "metadata": {},
     "output_type": "display_data"
    },
    {
     "name": "stdout",
     "output_type": "stream",
     "text": [
      "Compositie bomen 1\n",
      "\n"
     ]
    },
    {
     "data": {
      "text/html": [
       "<img src=\"http://commons.wikimedia.org/wiki/Special:FilePath/Piet%20Mondriaan%20-%20Composition%20trees%201%20%28unfinished%29%20-%200334315%20-%20Kunstmuseum%20Den%20Haag.jpg\" style=\"width: 200px; \" />"
      ],
      "text/plain": [
       "<IPython.core.display.HTML object>"
      ]
     },
     "metadata": {},
     "output_type": "display_data"
    },
    {
     "name": "stdout",
     "output_type": "stream",
     "text": [
      "Tableau No. 4 (Schilderij No. 4) / Composition No.VIII / Compositie 3\n",
      "\n"
     ]
    },
    {
     "data": {
      "text/html": [
       "<img src=\"http://commons.wikimedia.org/wiki/Special:FilePath/Piet%20mondrian%2C%20tableau%20n.%204%2C%201913%2C%2001.jpg\" style=\"width: 200px; \" />"
      ],
      "text/plain": [
       "<IPython.core.display.HTML object>"
      ]
     },
     "metadata": {},
     "output_type": "display_data"
    },
    {
     "name": "stdout",
     "output_type": "stream",
     "text": [
      "Compositie in ovaal met kleurvlakken 2\n",
      "\n"
     ]
    },
    {
     "data": {
      "text/html": [
       "<img src=\"http://commons.wikimedia.org/wiki/Special:FilePath/Compositie%20in%20ovaal%20met%20kleurvlakken%202%2C%201914.jpg\" style=\"width: 200px; \" />"
      ],
      "text/plain": [
       "<IPython.core.display.HTML object>"
      ]
     },
     "metadata": {},
     "output_type": "display_data"
    },
    {
     "name": "stdout",
     "output_type": "stream",
     "text": [
      "Molen bij avond\n",
      "\n"
     ]
    },
    {
     "data": {
      "text/html": [
       "<img src=\"http://commons.wikimedia.org/wiki/Special:FilePath/Piet%20mondrian%2C%20mulino%20di%20sera%2C%201917%20ca.jpg\" style=\"width: 200px; \" />"
      ],
      "text/plain": [
       "<IPython.core.display.HTML object>"
      ]
     },
     "metadata": {},
     "output_type": "display_data"
    },
    {
     "name": "stdout",
     "output_type": "stream",
     "text": [
      "Stier\n",
      "\n"
     ]
    },
    {
     "data": {
      "text/html": [
       "<img src=\"http://commons.wikimedia.org/wiki/Special:FilePath/Piet%20Mondriaan%20-%20Brown%20and%20white%20ox%20steer%20-%200334214%20-%20Kunstmuseum%20Den%20Haag.jpg\" style=\"width: 200px; \" />"
      ],
      "text/plain": [
       "<IPython.core.display.HTML object>"
      ]
     },
     "metadata": {},
     "output_type": "display_data"
    },
    {
     "name": "stdout",
     "output_type": "stream",
     "text": [
      "Gezicht op een rij huizen met een landweg\n",
      "\n"
     ]
    },
    {
     "data": {
      "text/html": [
       "<img src=\"http://commons.wikimedia.org/wiki/Special:FilePath/Piet%20Mondriaan%20-%20Country%20lane%20with%20row%20of%20workers%27%20houses%20-%200334215%20-%20Kunstmuseum%20Den%20Haag.jpg\" style=\"width: 200px; \" />"
      ],
      "text/plain": [
       "<IPython.core.display.HTML object>"
      ]
     },
     "metadata": {},
     "output_type": "display_data"
    },
    {
     "name": "stdout",
     "output_type": "stream",
     "text": [
      "Sloot met brug\n",
      "\n"
     ]
    },
    {
     "data": {
      "text/html": [
       "<img src=\"http://commons.wikimedia.org/wiki/Special:FilePath/Piet%20Mondriaan%20-%20Polderlandschp%20met%20sloot%20en%20brug%2C%20schets%20-%200334216%20-%20Kunstmuseum%20Den%20Haag.jpg\" style=\"width: 200px; \" />"
      ],
      "text/plain": [
       "<IPython.core.display.HTML object>"
      ]
     },
     "metadata": {},
     "output_type": "display_data"
    },
    {
     "name": "stdout",
     "output_type": "stream",
     "text": [
      "Knotwilgen\n",
      "\n"
     ]
    },
    {
     "data": {
      "text/html": [
       "<img src=\"http://commons.wikimedia.org/wiki/Special:FilePath/Piet%20Mondriaan%20-%20Willow%20grove%20with%20two%20prominent%20trees%20-%200334218%20-%20Kunstmuseum%20Den%20Haag.jpg\" style=\"width: 200px; \" />"
      ],
      "text/plain": [
       "<IPython.core.display.HTML object>"
      ]
     },
     "metadata": {},
     "output_type": "display_data"
    },
    {
     "name": "stdout",
     "output_type": "stream",
     "text": [
      "Boom\n",
      "\n"
     ]
    },
    {
     "data": {
      "text/html": [
       "<img src=\"http://commons.wikimedia.org/wiki/Special:FilePath/Piet%20Mondriaan%20-%20Single%20tree%20silhouette%20-%200334219%20-%20Kunstmuseum%20Den%20Haag.jpg\" style=\"width: 200px; \" />"
      ],
      "text/plain": [
       "<IPython.core.display.HTML object>"
      ]
     },
     "metadata": {},
     "output_type": "display_data"
    },
    {
     "name": "stdout",
     "output_type": "stream",
     "text": [
      "Twee aronskelken\n",
      "\n"
     ]
    },
    {
     "data": {
      "text/html": [
       "<img src=\"http://commons.wikimedia.org/wiki/Special:FilePath/Piet%20Mondriaan%20-%20Two%20arum%20lilies%20-%200334322%20-%20Kunstmuseum%20Den%20Haag.jpg\" style=\"width: 200px; \" />"
      ],
      "text/plain": [
       "<IPython.core.display.HTML object>"
      ]
     },
     "metadata": {},
     "output_type": "display_data"
    },
    {
     "name": "stdout",
     "output_type": "stream",
     "text": [
      "Compositie met rood, blauw, zwart, geel en grijs\n",
      "\n"
     ]
    },
    {
     "data": {
      "text/html": [
       "<img src=\"http://commons.wikimedia.org/wiki/Special:FilePath/Piet%20Mondriaan%20-%20Compositie%20met%20rood%2C%20blauw%2C%20zwart%2C%20geel%20en%20grijs%20-%200334328%20-%20Kunstmuseum%20Den%20Haag.jpg\" style=\"width: 200px; \" />"
      ],
      "text/plain": [
       "<IPython.core.display.HTML object>"
      ]
     },
     "metadata": {},
     "output_type": "display_data"
    },
    {
     "name": "stdout",
     "output_type": "stream",
     "text": [
      "Boerderij\n",
      "\n"
     ]
    },
    {
     "data": {
      "text/html": [
       "<img src=\"http://commons.wikimedia.org/wiki/Special:FilePath/Boerderij%2C%20Piet%20Mondriaan%2C%201895.jpg\" style=\"width: 200px; \" />"
      ],
      "text/plain": [
       "<IPython.core.display.HTML object>"
      ]
     },
     "metadata": {},
     "output_type": "display_data"
    },
    {
     "name": "stdout",
     "output_type": "stream",
     "text": [
      "Kopie naar de Pietà van Villeneuve-Lès-Avignon door Enguerrand Quarton\n",
      "\n"
     ]
    },
    {
     "data": {
      "text/html": [
       "<img src=\"http://commons.wikimedia.org/wiki/Special:FilePath/Piet%20Mondriaan%20-%20Piet%C3%A0%20de%20Villeneuve-L%C3%A9s-Avignon%20-%200335094%20-%20Kunstmuseum%20Den%20Haag.jpg\" style=\"width: 200px; \" />"
      ],
      "text/plain": [
       "<IPython.core.display.HTML object>"
      ]
     },
     "metadata": {},
     "output_type": "display_data"
    },
    {
     "name": "stdout",
     "output_type": "stream",
     "text": [
      "Oostzijdse molen\n",
      "\n"
     ]
    },
    {
     "data": {
      "text/html": [
       "<img src=\"http://commons.wikimedia.org/wiki/Special:FilePath/Piet%20Mondriaan%20-%20Mill%20near%20tall%20trees%20with%20bright%20color%20reflections%20-%200334871%20-%20Kunstmuseum%20Den%20Haag.jpg\" style=\"width: 200px; \" />"
      ],
      "text/plain": [
       "<IPython.core.display.HTML object>"
      ]
     },
     "metadata": {},
     "output_type": "display_data"
    },
    {
     "name": "stdout",
     "output_type": "stream",
     "text": [
      "Boerderij Landzicht\n",
      "\n"
     ]
    },
    {
     "data": {
      "text/html": [
       "<img src=\"http://commons.wikimedia.org/wiki/Special:FilePath/Piet%20Mondriaan%20-%20The%20Landzicht%20farm%20with%20fence%20and%20gateposts%20-%200333166%20-%20Kunstmuseum%20Den%20Haag.jpg\" style=\"width: 200px; \" />"
      ],
      "text/plain": [
       "<IPython.core.display.HTML object>"
      ]
     },
     "metadata": {},
     "output_type": "display_data"
    },
    {
     "name": "stdout",
     "output_type": "stream",
     "text": [
      "Duinen bij Domburg\n",
      "\n"
     ]
    },
    {
     "data": {
      "text/html": [
       "<img src=\"http://commons.wikimedia.org/wiki/Special:FilePath/Piet%20Mondriaan%20-%20Duinen%20bij%20Domburg%20%28authentiek%29%20-%200333338%20-%20Kunstmuseum%20Den%20Haag.jpg\" style=\"width: 200px; \" />"
      ],
      "text/plain": [
       "<IPython.core.display.HTML object>"
      ]
     },
     "metadata": {},
     "output_type": "display_data"
    },
    {
     "name": "stdout",
     "output_type": "stream",
     "text": [
      "Compositie met rood, zwart, geel, blauw en grijs\n",
      "\n"
     ]
    },
    {
     "data": {
      "text/html": [
       "<img src=\"http://commons.wikimedia.org/wiki/Special:FilePath/Piet%20Mondriaan%20-%20Composition%20with%20red%2C%20black%2C%20yellow%2C%20blue%20and%20grey%20-%200333163%20-%20Kunstmuseum%20Den%20Haag.jpg\" style=\"width: 200px; \" />"
      ],
      "text/plain": [
       "<IPython.core.display.HTML object>"
      ]
     },
     "metadata": {},
     "output_type": "display_data"
    },
    {
     "name": "stdout",
     "output_type": "stream",
     "text": [
      "Huisje bij zon\n",
      "\n"
     ]
    },
    {
     "data": {
      "text/html": [
       "<img src=\"http://commons.wikimedia.org/wiki/Special:FilePath/Piet%20Mondriaan%20-%20Huisje%20bij%20zon%20%28authentiek%29%20-%200333033%20-%20Kunstmuseum%20Den%20Haag.jpg\" style=\"width: 200px; \" />"
      ],
      "text/plain": [
       "<IPython.core.display.HTML object>"
      ]
     },
     "metadata": {},
     "output_type": "display_data"
    },
    {
     "name": "stdout",
     "output_type": "stream",
     "text": [
      "De rode wolk\n",
      "\n"
     ]
    },
    {
     "data": {
      "text/html": [
       "<img src=\"http://commons.wikimedia.org/wiki/Special:FilePath/Piet%20Mondriaan%20-%20De%20rode%20wolk%20%28authentiek%29%20-%200333219%20-%20Kunstmuseum%20Den%20Haag.jpg\" style=\"width: 200px; \" />"
      ],
      "text/plain": [
       "<IPython.core.display.HTML object>"
      ]
     },
     "metadata": {},
     "output_type": "display_data"
    },
    {
     "name": "stdout",
     "output_type": "stream",
     "text": [
      "Slootje bij boerderij Landzicht\n",
      "\n"
     ]
    },
    {
     "data": {
      "text/html": [
       "<img src=\"http://commons.wikimedia.org/wiki/Special:FilePath/Piet%20Mondriaan%20-%20Irrigation%20ditch%20with%20young%20pollarded%20willow%20II%20-%200333221%20-%20Kunstmuseum%20Den%20Haag.jpg\" style=\"width: 200px; \" />"
      ],
      "text/plain": [
       "<IPython.core.display.HTML object>"
      ]
     },
     "metadata": {},
     "output_type": "display_data"
    },
    {
     "name": "stdout",
     "output_type": "stream",
     "text": [
      "Avond aan het Gein\n",
      "\n"
     ]
    },
    {
     "data": {
      "text/html": [
       "<img src=\"http://commons.wikimedia.org/wiki/Special:FilePath/Piet%20Mondriaan%20-%20Isolated%20tree%20on%20the%20Gein%20in%20late%20evening%20-%200333224%20-%20Kunstmuseum%20Den%20Haag.jpg\" style=\"width: 200px; \" />"
      ],
      "text/plain": [
       "<IPython.core.display.HTML object>"
      ]
     },
     "metadata": {},
     "output_type": "display_data"
    },
    {
     "name": "stdout",
     "output_type": "stream",
     "text": [
      "Portret van D.J. Hulshoff Pol\n",
      "\n"
     ]
    },
    {
     "data": {
      "text/html": [
       "<img src=\"http://commons.wikimedia.org/wiki/Special:FilePath/Piet%20Mondriaan%20-%20Portret%20van%20Dirk%20Johan%20Hulshoff%20Pol%20%281894-1972%29%20-%200333461%20-%20Kunstmuseum%20Den%20Haag.jpg\" style=\"width: 200px; \" />"
      ],
      "text/plain": [
       "<IPython.core.display.HTML object>"
      ]
     },
     "metadata": {},
     "output_type": "display_data"
    },
    {
     "name": "stdout",
     "output_type": "stream",
     "text": [
      "Portret van J.P.G. Hulshoff Pol\n",
      "\n"
     ]
    },
    {
     "data": {
      "text/html": [
       "<img src=\"http://commons.wikimedia.org/wiki/Special:FilePath/Piet%20Mondriaan%20-%20Portret%20van%20Jan%20Pieter%20Geres%20Hulshoff%20Pol%20%281896-1928%29%20-%200333462%20-%20Kunstmuseum%20Den%20Haag.jpg\" style=\"width: 200px; \" />"
      ],
      "text/plain": [
       "<IPython.core.display.HTML object>"
      ]
     },
     "metadata": {},
     "output_type": "display_data"
    },
    {
     "name": "stdout",
     "output_type": "stream",
     "text": [
      "Avondlandschap\n",
      "\n"
     ]
    },
    {
     "data": {
      "text/html": [
       "<img src=\"http://commons.wikimedia.org/wiki/Special:FilePath/Piet%20Mondriaan%20-%20Night%20landscape%20II%20-%200332112%20-%20Kunstmuseum%20Den%20Haag.jpg\" style=\"width: 200px; \" />"
      ],
      "text/plain": [
       "<IPython.core.display.HTML object>"
      ]
     },
     "metadata": {},
     "output_type": "display_data"
    },
    {
     "name": "stdout",
     "output_type": "stream",
     "text": [
      "Boerderij met boerin aan de was\n",
      "\n"
     ]
    },
    {
     "data": {
      "text/html": [
       "<img src=\"http://commons.wikimedia.org/wiki/Special:FilePath/Piet%20Mondriaan%20-%20Haystacks%2C%20farm%20building%20and%20farm%20woman%20with%20the%20wash%20-%200334259%20-%20Kunstmuseum%20Den%20Haag.jpg\" style=\"width: 200px; \" />"
      ],
      "text/plain": [
       "<IPython.core.display.HTML object>"
      ]
     },
     "metadata": {},
     "output_type": "display_data"
    },
    {
     "name": "stdout",
     "output_type": "stream",
     "text": [
      "Knotwilgenbosje langs het Gein\n",
      "\n"
     ]
    },
    {
     "data": {
      "text/html": [
       "<img src=\"http://commons.wikimedia.org/wiki/Special:FilePath/Piet%20Mondriaan%20-%20Willow%20grove%20near%20the%20water%2C%20prominent%20tree%20at%20right%20-%200334263%20-%20Kunstmuseum%20Den%20Haag.jpg\" style=\"width: 200px; \" />"
      ],
      "text/plain": [
       "<IPython.core.display.HTML object>"
      ]
     },
     "metadata": {},
     "output_type": "display_data"
    },
    {
     "name": "stdout",
     "output_type": "stream",
     "text": [
      "Eenzame boom aan het Gein\n",
      "\n"
     ]
    },
    {
     "data": {
      "text/html": [
       "<img src=\"http://commons.wikimedia.org/wiki/Special:FilePath/Piet%20Mondriaan%20-%20Isolated%20tree%20on%20the%20Gein%20with%20streaked%20sky%20-%200334277%20-%20Kunstmuseum%20Den%20Haag.jpg\" style=\"width: 200px; \" />"
      ],
      "text/plain": [
       "<IPython.core.display.HTML object>"
      ]
     },
     "metadata": {},
     "output_type": "display_data"
    },
    {
     "name": "stdout",
     "output_type": "stream",
     "text": [
      "Compositie no. 3 met kleurvakjes\n",
      "\n"
     ]
    },
    {
     "data": {
      "text/html": [
       "<img src=\"http://commons.wikimedia.org/wiki/Special:FilePath/Piet%20mondrian%2C%20composizione%20n.%203%20con%20colori%20piatti%2C%201917.jpg\" style=\"width: 200px; \" />"
      ],
      "text/plain": [
       "<IPython.core.display.HTML object>"
      ]
     },
     "metadata": {},
     "output_type": "display_data"
    },
    {
     "name": "stdout",
     "output_type": "stream",
     "text": [
      "Boerderij aan een sloot met bomen\n",
      "\n"
     ]
    },
    {
     "data": {
      "text/html": [
       "<img src=\"http://commons.wikimedia.org/wiki/Special:FilePath/Piet%20Mondriaan%20-%20Curved%20canal%20with%20farm%20building%20at%20right%20-%200334211%20-%20Kunstmuseum%20Den%20Haag.jpg\" style=\"width: 200px; \" />"
      ],
      "text/plain": [
       "<IPython.core.display.HTML object>"
      ]
     },
     "metadata": {},
     "output_type": "display_data"
    },
    {
     "name": "stdout",
     "output_type": "stream",
     "text": [
      "Compositie met gele lijnen\n",
      "\n"
     ]
    },
    {
     "data": {
      "text/html": [
       "<img src=\"http://commons.wikimedia.org/wiki/Special:FilePath/Piet%20mondrian%2C%20composizione%20a%20losanga%20con%20linee%20gialle%2C%201933.jpg\" style=\"width: 200px; \" />"
      ],
      "text/plain": [
       "<IPython.core.display.HTML object>"
      ]
     },
     "metadata": {},
     "output_type": "display_data"
    },
    {
     "name": "stdout",
     "output_type": "stream",
     "text": [
      "Boomgaard met kippen\n",
      "\n"
     ]
    },
    {
     "data": {
      "text/html": [
       "<img src=\"http://commons.wikimedia.org/wiki/Special:FilePath/Boomgaard%20met%20kippen%2C%20Piet%20Mondriaan%2C%201901.jpg\" style=\"width: 200px; \" />"
      ],
      "text/plain": [
       "<IPython.core.display.HTML object>"
      ]
     },
     "metadata": {},
     "output_type": "display_data"
    },
    {
     "name": "stdout",
     "output_type": "stream",
     "text": [
      "Groot landschap\n",
      "\n"
     ]
    },
    {
     "data": {
      "text/html": [
       "<img src=\"http://commons.wikimedia.org/wiki/Special:FilePath/Piet%20Mondriaan%20-%20Riverscape%20with%20row%20of%20trees%20at%20left%2C%20sky%20with%20pink%20and%20yellow-green%20bands%2C%20farmstead%20on%20the%20Gein%20screened%20by%20tall%20trees%20-%200334269%20-%20Kunstmuseum%20Den%20Haag.jpg\" style=\"width: 200px; \" />"
      ],
      "text/plain": [
       "<IPython.core.display.HTML object>"
      ]
     },
     "metadata": {},
     "output_type": "display_data"
    },
    {
     "name": "stdout",
     "output_type": "stream",
     "text": [
      "Avondlandschap aan het Gein\n",
      "\n"
     ]
    },
    {
     "data": {
      "text/html": [
       "<img src=\"http://commons.wikimedia.org/wiki/Special:FilePath/Piet%20Mondriaan%20-%20Farmstead%20on%20the%20Gein%20screened%20by%20tall%20trees%2C%20greenish%20streaks%20sky%20with%20crescent%20moon%20-%200334251%20-%20Kunstmuseum%20Den%20Haag.jpg\" style=\"width: 200px; \" />"
      ],
      "text/plain": [
       "<IPython.core.display.HTML object>"
      ]
     },
     "metadata": {},
     "output_type": "display_data"
    },
    {
     "name": "stdout",
     "output_type": "stream",
     "text": [
      "Landschap met bomen aan het Gein\n",
      "\n"
     ]
    },
    {
     "data": {
      "text/html": [
       "<img src=\"http://commons.wikimedia.org/wiki/Special:FilePath/Piet%20Mondriaan%20-%20Bend%20in%20the%20Gein%20with%20poplars%2C%20three%20isolated%2C%20and%20farm%20woman%20with%20cows%20-%200334231%20-%20Kunstmuseum%20Den%20Haag.jpg\" style=\"width: 200px; \" />"
      ],
      "text/plain": [
       "<IPython.core.display.HTML object>"
      ]
     },
     "metadata": {},
     "output_type": "display_data"
    },
    {
     "name": "stdout",
     "output_type": "stream",
     "text": [
      "Molen achter hoge bomen\n",
      "\n"
     ]
    },
    {
     "data": {
      "text/html": [
       "<img src=\"http://commons.wikimedia.org/wiki/Special:FilePath/Piet%20Mondriaan%20-%20Windmill%20near%20tall%20trees%20-%200334252%20-%20Kunstmuseum%20Den%20Haag.jpg\" style=\"width: 200px; \" />"
      ],
      "text/plain": [
       "<IPython.core.display.HTML object>"
      ]
     },
     "metadata": {},
     "output_type": "display_data"
    },
    {
     "name": "stdout",
     "output_type": "stream",
     "text": [
      "Gezicht op de Schinkelbuurt\n",
      "\n"
     ]
    },
    {
     "data": {
      "text/html": [
       "<img src=\"http://commons.wikimedia.org/wiki/Special:FilePath/Gezicht%20op%20de%20Schinkelbuurt.jpg\" style=\"width: 200px; \" />"
      ],
      "text/plain": [
       "<IPython.core.display.HTML object>"
      ]
     },
     "metadata": {},
     "output_type": "display_data"
    },
    {
     "name": "stdout",
     "output_type": "stream",
     "text": [
      "Het Gein: Bomen aan het water\n",
      "\n"
     ]
    },
    {
     "data": {
      "text/html": [
       "<img src=\"http://commons.wikimedia.org/wiki/Special:FilePath/Piet%20Mondriaan%20-%20Bend%20in%20the%20Gein%20with%20row%20of%20eleven%20poplars%20IV%20-%200334267%20-%20Kunstmuseum%20Den%20Haag.jpg\" style=\"width: 200px; \" />"
      ],
      "text/plain": [
       "<IPython.core.display.HTML object>"
      ]
     },
     "metadata": {},
     "output_type": "display_data"
    },
    {
     "name": "stdout",
     "output_type": "stream",
     "text": [
      "Duin IV\n",
      "\n"
     ]
    },
    {
     "data": {
      "text/html": [
       "<img src=\"http://commons.wikimedia.org/wiki/Special:FilePath/Piet%20Mondriaan%20-%20Dune%20sketch%20in%20orange%2C%20pink%20and%20blue%20-%200334302%20-%20Kunstmuseum%20Den%20Haag.jpg\" style=\"width: 200px; \" />"
      ],
      "text/plain": [
       "<IPython.core.display.HTML object>"
      ]
     },
     "metadata": {},
     "output_type": "display_data"
    },
    {
     "name": "stdout",
     "output_type": "stream",
     "text": [
      "Compositie met rood, geel, zwart, blauw en grijs\n",
      "\n"
     ]
    },
    {
     "data": {
      "text/html": [
       "<img src=\"http://commons.wikimedia.org/wiki/Special:FilePath/Piet%20Mondriaan%20-%20Composition%20with%20red%2C%20yellow%2C%20black%2C%20blue%2C%20and%20gray%20-%201038646%20-%20Kunstmuseum%20Den%20Haag.jpg\" style=\"width: 200px; \" />"
      ],
      "text/plain": [
       "<IPython.core.display.HTML object>"
      ]
     },
     "metadata": {},
     "output_type": "display_data"
    },
    {
     "name": "stdout",
     "output_type": "stream",
     "text": [
      "Boerderij met bomen\n",
      "\n"
     ]
    },
    {
     "data": {
      "text/html": [
       "<img src=\"http://commons.wikimedia.org/wiki/Special:FilePath/Piet%20Mondriaan%20-%20Sheltered%20farmhouse%20with%20tall%20manicured%20trees%20at%20left%20-%200334235%20-%20Kunstmuseum%20Den%20Haag.jpg\" style=\"width: 200px; \" />"
      ],
      "text/plain": [
       "<IPython.core.display.HTML object>"
      ]
     },
     "metadata": {},
     "output_type": "display_data"
    },
    {
     "name": "stdout",
     "output_type": "stream",
     "text": [
      "Weidelandschap met koeien\n",
      "\n"
     ]
    },
    {
     "data": {
      "text/html": [
       "<img src=\"http://commons.wikimedia.org/wiki/Special:FilePath/Piet%20Mondriaan%20-%20Landscape%20with%20four%20cows%20in%20profile%20-%200334242%20-%20Kunstmuseum%20Den%20Haag.jpg\" style=\"width: 200px; \" />"
      ],
      "text/plain": [
       "<IPython.core.display.HTML object>"
      ]
     },
     "metadata": {},
     "output_type": "display_data"
    },
    {
     "name": "stdout",
     "output_type": "stream",
     "text": [
      "Boerderij, Brabant\n",
      "\n"
     ]
    },
    {
     "data": {
      "text/html": [
       "<img src=\"http://commons.wikimedia.org/wiki/Special:FilePath/Piet%20Mondriaan%20-%20Truncated%20farm%20building%20in%20Brabant%20-%200334243%20-%20Kunstmuseum%20Den%20Haag.jpg\" style=\"width: 200px; \" />"
      ],
      "text/plain": [
       "<IPython.core.display.HTML object>"
      ]
     },
     "metadata": {},
     "output_type": "display_data"
    },
    {
     "name": "stdout",
     "output_type": "stream",
     "text": [
      "Dorpsgezicht\n",
      "\n"
     ]
    },
    {
     "data": {
      "text/html": [
       "<img src=\"http://commons.wikimedia.org/wiki/Special:FilePath/Piet%20Mondriaan%20-%20Farm%20buildings%20in%20an%20Achterhoek%20village%20-%200334246%20-%20Kunstmuseum%20Den%20Haag.jpg\" style=\"width: 200px; \" />"
      ],
      "text/plain": [
       "<IPython.core.display.HTML object>"
      ]
     },
     "metadata": {},
     "output_type": "display_data"
    },
    {
     "name": "stdout",
     "output_type": "stream",
     "text": [
      "Avond\n",
      "\n"
     ]
    },
    {
     "data": {
      "text/html": [
       "<img src=\"http://commons.wikimedia.org/wiki/Special:FilePath/Piet%20Mondriaan%20-%20Riverscape%20in%20the%20evening%2C%20buildings%20at%20right%20-%200334250%20-%20Kunstmuseum%20Den%20Haag.jpg\" style=\"width: 200px; \" />"
      ],
      "text/plain": [
       "<IPython.core.display.HTML object>"
      ]
     },
     "metadata": {},
     "output_type": "display_data"
    },
    {
     "name": "stdout",
     "output_type": "stream",
     "text": [
      "De Kostverlorenvaart\n",
      "\n"
     ]
    },
    {
     "data": {
      "text/html": [
       "<img src=\"http://commons.wikimedia.org/wiki/Special:FilePath/Piet%20Mondriaan%20-%20The%20Kostverlorenvaart%20-%200334261%20-%20Kunstmuseum%20Den%20Haag.jpg\" style=\"width: 200px; \" />"
      ],
      "text/plain": [
       "<IPython.core.display.HTML object>"
      ]
     },
     "metadata": {},
     "output_type": "display_data"
    },
    {
     "name": "stdout",
     "output_type": "stream",
     "text": [
      "Twee chrysanten\n",
      "\n"
     ]
    },
    {
     "data": {
      "text/html": [
       "<img src=\"http://commons.wikimedia.org/wiki/Special:FilePath/Piet%20Mondriaan%20-%20Two%20chrysanthemum%20blossoms%20-%200334265%20-%20Kunstmuseum%20Den%20Haag.jpg\" style=\"width: 200px; \" />"
      ],
      "text/plain": [
       "<IPython.core.display.HTML object>"
      ]
     },
     "metadata": {},
     "output_type": "display_data"
    },
    {
     "name": "stdout",
     "output_type": "stream",
     "text": [
      "Wilgen aan het Gein\n",
      "\n"
     ]
    },
    {
     "data": {
      "text/html": [
       "<img src=\"http://commons.wikimedia.org/wiki/Special:FilePath/Piet%20Mondriaan%20-%20Willows%20bordering%20an%20irrigation%20ditch%20near%20a%20farm%20building%20-%200334266%20-%20Kunstmuseum%20Den%20Haag.jpg\" style=\"width: 200px; \" />"
      ],
      "text/plain": [
       "<IPython.core.display.HTML object>"
      ]
     },
     "metadata": {},
     "output_type": "display_data"
    },
    {
     "name": "stdout",
     "output_type": "stream",
     "text": [
      "Baggermolen\n",
      "\n"
     ]
    },
    {
     "data": {
      "text/html": [
       "<img src=\"http://commons.wikimedia.org/wiki/Special:FilePath/Piet%20Mondriaan%20-%20Dredge%20II%20-%200334271%20-%20Kunstmuseum%20Den%20Haag.jpg\" style=\"width: 200px; \" />"
      ],
      "text/plain": [
       "<IPython.core.display.HTML object>"
      ]
     },
     "metadata": {},
     "output_type": "display_data"
    },
    {
     "name": "stdout",
     "output_type": "stream",
     "text": [
      "Weide met koeien\n",
      "\n"
     ]
    },
    {
     "data": {
      "text/html": [
       "<img src=\"http://commons.wikimedia.org/wiki/Special:FilePath/Piet%20Mondriaan%20-%20Watercourse%2C%20field%20with%20cows%20and%20sky%20with%20cloud%20-%200334221%20-%20Kunstmuseum%20Den%20Haag.jpg\" style=\"width: 200px; \" />"
      ],
      "text/plain": [
       "<IPython.core.display.HTML object>"
      ]
     },
     "metadata": {},
     "output_type": "display_data"
    },
    {
     "name": "stdout",
     "output_type": "stream",
     "text": [
      "Bos\n",
      "\n"
     ]
    },
    {
     "data": {
      "text/html": [
       "<img src=\"http://commons.wikimedia.org/wiki/Special:FilePath/Piet%20Mondriaan%20-%20Woods%20-%200334223%20-%20Kunstmuseum%20Den%20Haag.jpg\" style=\"width: 200px; \" />"
      ],
      "text/plain": [
       "<IPython.core.display.HTML object>"
      ]
     },
     "metadata": {},
     "output_type": "display_data"
    },
    {
     "name": "stdout",
     "output_type": "stream",
     "text": [
      "Bloeiende bomen\n",
      "\n"
     ]
    },
    {
     "data": {
      "text/html": [
       "<img src=\"http://commons.wikimedia.org/wiki/Special:FilePath/Piet%20Mondriaan%20-%20Blossoming%20trees%20before%20a%20haystack%20-%200334226%20-%20Kunstmuseum%20Den%20Haag.jpg\" style=\"width: 200px; \" />"
      ],
      "text/plain": [
       "<IPython.core.display.HTML object>"
      ]
     },
     "metadata": {},
     "output_type": "display_data"
    },
    {
     "name": "stdout",
     "output_type": "stream",
     "text": [
      "Landweg met huizen\n",
      "\n"
     ]
    },
    {
     "data": {
      "text/html": [
       "<img src=\"http://commons.wikimedia.org/wiki/Special:FilePath/Piet%20Mondriaan%20-%20Country%20lane%20with%20houses%20-%200334227%20-%20Kunstmuseum%20Den%20Haag.jpg\" style=\"width: 200px; \" />"
      ],
      "text/plain": [
       "<IPython.core.display.HTML object>"
      ]
     },
     "metadata": {},
     "output_type": "display_data"
    },
    {
     "name": "stdout",
     "output_type": "stream",
     "text": [
      "Studie naar twee koeien\n",
      "\n"
     ]
    },
    {
     "data": {
      "text/html": [
       "<img src=\"http://commons.wikimedia.org/wiki/Special:FilePath/Piet%20Mondriaan%20-%20Study%20of%20two%20cows%20-%200334273%20-%20Kunstmuseum%20Den%20Haag.jpg\" style=\"width: 200px; \" />"
      ],
      "text/plain": [
       "<IPython.core.display.HTML object>"
      ]
     },
     "metadata": {},
     "output_type": "display_data"
    },
    {
     "name": "stdout",
     "output_type": "stream",
     "text": [
      "Mijmering\n",
      "\n"
     ]
    },
    {
     "data": {
      "text/html": [
       "<img src=\"http://commons.wikimedia.org/wiki/Special:FilePath/Piet%20Mondriaan%20-%20Portrait%20of%20a%20girl%20in%20red%20-%200334287%20-%20Kunstmuseum%20Den%20Haag.jpg\" style=\"width: 200px; \" />"
      ],
      "text/plain": [
       "<IPython.core.display.HTML object>"
      ]
     },
     "metadata": {},
     "output_type": "display_data"
    },
    {
     "name": "stdout",
     "output_type": "stream",
     "text": [
      "Roodbonte vaars in de weide\n",
      "\n"
     ]
    },
    {
     "data": {
      "text/html": [
       "<img src=\"http://commons.wikimedia.org/wiki/Special:FilePath/Piet%20Mondriaan%20-%20Brown%20and%20white%20heifer%20-%200334212%20-%20Kunstmuseum%20Den%20Haag.jpg\" style=\"width: 200px; \" />"
      ],
      "text/plain": [
       "<IPython.core.display.HTML object>"
      ]
     },
     "metadata": {},
     "output_type": "display_data"
    },
    {
     "name": "stdout",
     "output_type": "stream",
     "text": [
      "Twee figuren\n",
      "\n"
     ]
    },
    {
     "data": {
      "text/html": [
       "<img src=\"http://commons.wikimedia.org/wiki/Special:FilePath/Piet%20Mondriaan%20-%20Images%20of%20torsos%20-%200334213%20-%20Kunstmuseum%20Den%20Haag.jpg\" style=\"width: 200px; \" />"
      ],
      "text/plain": [
       "<IPython.core.display.HTML object>"
      ]
     },
     "metadata": {},
     "output_type": "display_data"
    },
    {
     "name": "stdout",
     "output_type": "stream",
     "text": [
      "Vrouwen met kind voor boerderij\n",
      "\n"
     ]
    },
    {
     "data": {
      "text/html": [
       "<img src=\"http://commons.wikimedia.org/wiki/Special:FilePath/Piet%20Mondriaan%20-%20Rear%20gables%20of%20farm%20buildings%20with%20figures%20-%201001562%20-%20Kunstmuseum%20Den%20Haag.jpg\" style=\"width: 200px; \" />"
      ],
      "text/plain": [
       "<IPython.core.display.HTML object>"
      ]
     },
     "metadata": {},
     "output_type": "display_data"
    },
    {
     "name": "stdout",
     "output_type": "stream",
     "text": [
      "Sloot met twee wilgen\n",
      "\n"
     ]
    },
    {
     "data": {
      "text/html": [
       "<img src=\"http://commons.wikimedia.org/wiki/Special:FilePath/Piet%20Mondriaan%20-%20Irrigation%20ditch%20with%20two%20willows%20-%200333295%20-%20Kunstmuseum%20Den%20Haag.jpg\" style=\"width: 200px; \" />"
      ],
      "text/plain": [
       "<IPython.core.display.HTML object>"
      ]
     },
     "metadata": {},
     "output_type": "display_data"
    },
    {
     "name": "stdout",
     "output_type": "stream",
     "text": [
      "Boerenhoeve aan een sloot\n",
      "\n"
     ]
    },
    {
     "data": {
      "text/html": [
       "<img src=\"http://commons.wikimedia.org/wiki/Special:FilePath/Piet%20Mondriaan%20-%20Farmstead%20and%20irrigation%20ditch%20with%20prow%20of%20rowboat%20-%200333234%20-%20Kunstmuseum%20Den%20Haag.jpg\" style=\"width: 200px; \" />"
      ],
      "text/plain": [
       "<IPython.core.display.HTML object>"
      ]
     },
     "metadata": {},
     "output_type": "display_data"
    },
    {
     "name": "stdout",
     "output_type": "stream",
     "text": [
      "Bij de ossenstal\n",
      "\n"
     ]
    },
    {
     "data": {
      "text/html": [
       "<img src=\"http://commons.wikimedia.org/wiki/Special:FilePath/Piet%20Mondriaan%20-%20Near%20the%20ox%20stall%2C%20Hilvarenbeek%20-%200333223%20-%20Kunstmuseum%20Den%20Haag.jpg\" style=\"width: 200px; \" />"
      ],
      "text/plain": [
       "<IPython.core.display.HTML object>"
      ]
     },
     "metadata": {},
     "output_type": "display_data"
    },
    {
     "name": "stdout",
     "output_type": "stream",
     "text": [
      "Schuur te Nistelrode\n",
      "\n"
     ]
    },
    {
     "data": {
      "text/html": [
       "<img src=\"http://commons.wikimedia.org/wiki/Special:FilePath/Piet%20Mondriaan%20-%20Barn%20doors%20of%20a%20Brabant%20farm%20building%20-%200333225%20-%20Kunstmuseum%20Den%20Haag.jpg\" style=\"width: 200px; \" />"
      ],
      "text/plain": [
       "<IPython.core.display.HTML object>"
      ]
     },
     "metadata": {},
     "output_type": "display_data"
    },
    {
     "name": "stdout",
     "output_type": "stream",
     "text": [
      "Het Gein: bomen aan het water\n",
      "\n"
     ]
    },
    {
     "data": {
      "text/html": [
       "<img src=\"http://commons.wikimedia.org/wiki/Special:FilePath/Piet%20Mondriaan%20-%20Bend%20in%20the%20Gein%2C%20detail%20study%20-%200333467%20-%20Kunstmuseum%20Den%20Haag.jpg\" style=\"width: 200px; \" />"
      ],
      "text/plain": [
       "<IPython.core.display.HTML object>"
      ]
     },
     "metadata": {},
     "output_type": "display_data"
    },
    {
     "name": "stdout",
     "output_type": "stream",
     "text": [
      "Boerderijen met op de voorgrond een hek\n",
      "\n"
     ]
    },
    {
     "data": {
      "text/html": [
       "<img src=\"http://commons.wikimedia.org/wiki/Special:FilePath/Piet%20Mondriaan%20-%20Farm%20buildings%20with%20fence%20in%20foreground%20-%200333469%20-%20Kunstmuseum%20Den%20Haag.jpg\" style=\"width: 200px; \" />"
      ],
      "text/plain": [
       "<IPython.core.display.HTML object>"
      ]
     },
     "metadata": {},
     "output_type": "display_data"
    },
    {
     "name": "stdout",
     "output_type": "stream",
     "text": [
      "Huis aan het water met vrouw aan de was\n",
      "\n"
     ]
    },
    {
     "data": {
      "text/html": [
       "<img src=\"http://commons.wikimedia.org/wiki/Special:FilePath/Piet%20Mondriaan%20-%20House%20fa%C3%A7ade%20on%20the%20water%20with%20woman%20washing%20-%200333470%20-%20Kunstmuseum%20Den%20Haag.jpg\" style=\"width: 200px; \" />"
      ],
      "text/plain": [
       "<IPython.core.display.HTML object>"
      ]
     },
     "metadata": {},
     "output_type": "display_data"
    },
    {
     "name": "stdout",
     "output_type": "stream",
     "text": [
      "Avondlandschap met koeien\n",
      "\n"
     ]
    },
    {
     "data": {
      "text/html": [
       "<img src=\"http://commons.wikimedia.org/wiki/Special:FilePath/Piet%20Mondriaan%20-%20Evening%20landscape%20with%20cows%20-%200333471%20-%20Kunstmuseum%20Den%20Haag.jpg\" style=\"width: 200px; \" />"
      ],
      "text/plain": [
       "<IPython.core.display.HTML object>"
      ]
     },
     "metadata": {},
     "output_type": "display_data"
    },
    {
     "name": "stdout",
     "output_type": "stream",
     "text": [
      "De Koninklijke Waskaarsenfabriek\n",
      "\n"
     ]
    },
    {
     "data": {
      "text/html": [
       "<img src=\"http://commons.wikimedia.org/wiki/Special:FilePath/Piet%20Mondriaan%20-%20The%20royal%20wax%20candle%20factory%2C%20oil%20sketch%20-%200333845%20-%20Kunstmuseum%20Den%20Haag.jpg\" style=\"width: 200px; \" />"
      ],
      "text/plain": [
       "<IPython.core.display.HTML object>"
      ]
     },
     "metadata": {},
     "output_type": "display_data"
    },
    {
     "name": "stdout",
     "output_type": "stream",
     "text": [
      "De Boerenwetering\n",
      "\n"
     ]
    },
    {
     "data": {
      "text/html": [
       "<img src=\"http://commons.wikimedia.org/wiki/Special:FilePath/Piet%20Mondriaan%20-%20The%20Boerenwetering%20with%20shed%20of%20the%20royal%20wax%20candle%20factory%20-%200334244%20-%20Kunstmuseum%20Den%20Haag.jpg\" style=\"width: 200px; \" />"
      ],
      "text/plain": [
       "<IPython.core.display.HTML object>"
      ]
     },
     "metadata": {},
     "output_type": "display_data"
    },
    {
     "name": "stdout",
     "output_type": "stream",
     "text": [
      "Boerderij met wilgen aan het Gein\n",
      "\n"
     ]
    },
    {
     "data": {
      "text/html": [
       "<img src=\"http://commons.wikimedia.org/wiki/Special:FilePath/Piet%20Mondriaan%20-%20Farmstead%20with%20willows%20on%20the%20water%20II%20-%200333472%20-%20Kunstmuseum%20Den%20Haag.jpg\" style=\"width: 200px; \" />"
      ],
      "text/plain": [
       "<IPython.core.display.HTML object>"
      ]
     },
     "metadata": {},
     "output_type": "display_data"
    },
    {
     "name": "stdout",
     "output_type": "stream",
     "text": [
      "Bleekerij aan het Gein\n",
      "\n"
     ]
    },
    {
     "data": {
      "text/html": [
       "<img src=\"http://commons.wikimedia.org/wiki/Special:FilePath/Piet%20Mondriaan%20-%20Narrow%20farm%20building%20and%20trees%20along%20the%20water%20-%200334272%20-%20Kunstmuseum%20Den%20Haag.jpg\" style=\"width: 200px; \" />"
      ],
      "text/plain": [
       "<IPython.core.display.HTML object>"
      ]
     },
     "metadata": {},
     "output_type": "display_data"
    },
    {
     "name": "stdout",
     "output_type": "stream",
     "text": [
      "Boerderij tussen eikenbomen\n",
      "\n"
     ]
    },
    {
     "data": {
      "text/html": [
       "<img src=\"http://commons.wikimedia.org/wiki/Special:FilePath/Piet%20Mondriaan%20-%20Farmstead%20under%20oak%20trees%20I%20-%200334279%20-%20Kunstmuseum%20Den%20Haag.jpg\" style=\"width: 200px; \" />"
      ],
      "text/plain": [
       "<IPython.core.display.HTML object>"
      ]
     },
     "metadata": {},
     "output_type": "display_data"
    },
    {
     "name": "stdout",
     "output_type": "stream",
     "text": [
      "Wilgenbosje\n",
      "\n"
     ]
    },
    {
     "data": {
      "text/html": [
       "<img src=\"http://commons.wikimedia.org/wiki/Special:FilePath/Piet%20Mondriaan%20-%20Willow%20grove%20with%20flattened%20images%20-%200334245%20-%20Kunstmuseum%20Den%20Haag.jpg\" style=\"width: 200px; \" />"
      ],
      "text/plain": [
       "<IPython.core.display.HTML object>"
      ]
     },
     "metadata": {},
     "output_type": "display_data"
    },
    {
     "name": "stdout",
     "output_type": "stream",
     "text": [
      "Tableau No. 3: Composition in Oval\n",
      "\n"
     ]
    },
    {
     "data": {
      "text/html": [
       "<img src=\"http://commons.wikimedia.org/wiki/Special:FilePath/Tableau%20no%203%20compositie%20in%20ovaal%2C%20Piet%20Mondrian%2C%201913.jpg\" style=\"width: 200px; \" />"
      ],
      "text/plain": [
       "<IPython.core.display.HTML object>"
      ]
     },
     "metadata": {},
     "output_type": "display_data"
    },
    {
     "name": "stdout",
     "output_type": "stream",
     "text": [
      "Tableau no. 3: compositie in ovaal\n",
      "\n"
     ]
    },
    {
     "data": {
      "text/html": [
       "<img src=\"http://commons.wikimedia.org/wiki/Special:FilePath/Tableau%20no%203%20compositie%20in%20ovaal%2C%20Piet%20Mondrian%2C%201913.jpg\" style=\"width: 200px; \" />"
      ],
      "text/plain": [
       "<IPython.core.display.HTML object>"
      ]
     },
     "metadata": {},
     "output_type": "display_data"
    },
    {
     "name": "stdout",
     "output_type": "stream",
     "text": [
      "Stilleven met haringen\n",
      "\n"
     ]
    },
    {
     "data": {
      "text/html": [
       "<img src=\"http://commons.wikimedia.org/wiki/Special:FilePath/Stilleven%20met%20haringen.jpg\" style=\"width: 200px; \" />"
      ],
      "text/plain": [
       "<IPython.core.display.HTML object>"
      ]
     },
     "metadata": {},
     "output_type": "display_data"
    },
    {
     "name": "stdout",
     "output_type": "stream",
     "text": [
      "Still Life with Herrings\n",
      "\n"
     ]
    },
    {
     "data": {
      "text/html": [
       "<img src=\"http://commons.wikimedia.org/wiki/Special:FilePath/Stilleven%20met%20haringen.jpg\" style=\"width: 200px; \" />"
      ],
      "text/plain": [
       "<IPython.core.display.HTML object>"
      ]
     },
     "metadata": {},
     "output_type": "display_data"
    },
    {
     "name": "stdout",
     "output_type": "stream",
     "text": [
      "Painting No. II / Composition No. XV / Composition 4\n",
      "\n"
     ]
    },
    {
     "data": {
      "text/html": [
       "<img src=\"http://commons.wikimedia.org/wiki/Special:FilePath/Schilderij%20no.%20II.jpg\" style=\"width: 200px; \" />"
      ],
      "text/plain": [
       "<IPython.core.display.HTML object>"
      ]
     },
     "metadata": {},
     "output_type": "display_data"
    },
    {
     "name": "stdout",
     "output_type": "stream",
     "text": [
      "Schilderij no. II / Compositie no. XV / Compositie 4\n",
      "\n"
     ]
    },
    {
     "data": {
      "text/html": [
       "<img src=\"http://commons.wikimedia.org/wiki/Special:FilePath/Schilderij%20no.%20II.jpg\" style=\"width: 200px; \" />"
      ],
      "text/plain": [
       "<IPython.core.display.HTML object>"
      ]
     },
     "metadata": {},
     "output_type": "display_data"
    },
    {
     "name": "stdout",
     "output_type": "stream",
     "text": [
      "Composition with Yellow, Red, Black, Blue, and Gray\n",
      "\n"
     ]
    },
    {
     "data": {
      "text/html": [
       "<img src=\"http://commons.wikimedia.org/wiki/Special:FilePath/Piet%20Mondriaan%20-%20Composition%20with%20yellow%2C%20red%2C%20black%2C%20blue%20and%20gray%20-%20A%209864%20-%20Stedelijk%20Museum%20Amsterdam.jpg\" style=\"width: 200px; \" />"
      ],
      "text/plain": [
       "<IPython.core.display.HTML object>"
      ]
     },
     "metadata": {},
     "output_type": "display_data"
    },
    {
     "name": "stdout",
     "output_type": "stream",
     "text": [
      "Compositie met geel, rood, zwart, blauw en grijs\n",
      "\n"
     ]
    },
    {
     "data": {
      "text/html": [
       "<img src=\"http://commons.wikimedia.org/wiki/Special:FilePath/Piet%20Mondriaan%20-%20Composition%20with%20yellow%2C%20red%2C%20black%2C%20blue%20and%20gray%20-%20A%209864%20-%20Stedelijk%20Museum%20Amsterdam.jpg\" style=\"width: 200px; \" />"
      ],
      "text/plain": [
       "<IPython.core.display.HTML object>"
      ]
     },
     "metadata": {},
     "output_type": "display_data"
    },
    {
     "name": "stdout",
     "output_type": "stream",
     "text": [
      "Composition No.IV, with Red, Blue, and Yellow\n",
      "\n"
     ]
    },
    {
     "data": {
      "text/html": [
       "<img src=\"http://commons.wikimedia.org/wiki/Special:FilePath/Piet%20Mondriaan%2C%20composition%20No.%20IV%2C%20with%20Red%2C%20Blue%20and%20Yellow%2C%201929.jpg\" style=\"width: 200px; \" />"
      ],
      "text/plain": [
       "<IPython.core.display.HTML object>"
      ]
     },
     "metadata": {},
     "output_type": "display_data"
    },
    {
     "name": "stdout",
     "output_type": "stream",
     "text": [
      "Compositie no. IV, met rood, blauw en geel\n",
      "\n"
     ]
    },
    {
     "data": {
      "text/html": [
       "<img src=\"http://commons.wikimedia.org/wiki/Special:FilePath/Piet%20Mondriaan%2C%20composition%20No.%20IV%2C%20with%20Red%2C%20Blue%20and%20Yellow%2C%201929.jpg\" style=\"width: 200px; \" />"
      ],
      "text/plain": [
       "<IPython.core.display.HTML object>"
      ]
     },
     "metadata": {},
     "output_type": "display_data"
    },
    {
     "name": "stdout",
     "output_type": "stream",
     "text": [
      "Farm Setting, Four Tall Trees in the Foreground I\n",
      "\n"
     ]
    },
    {
     "data": {
      "text/html": [
       "<img src=\"http://commons.wikimedia.org/wiki/Special:FilePath/Boerderij%20met%20vier%20hoge%20bomen%20in%20de%20voorgrond%20I%2C%20Piet%20Mondrian%2C%201907.jpg\" style=\"width: 200px; \" />"
      ],
      "text/plain": [
       "<IPython.core.display.HTML object>"
      ]
     },
     "metadata": {},
     "output_type": "display_data"
    },
    {
     "name": "stdout",
     "output_type": "stream",
     "text": [
      "Boerderij met vier hoge bomen in de voorgrond I\n",
      "\n"
     ]
    },
    {
     "data": {
      "text/html": [
       "<img src=\"http://commons.wikimedia.org/wiki/Special:FilePath/Boerderij%20met%20vier%20hoge%20bomen%20in%20de%20voorgrond%20I%2C%20Piet%20Mondrian%2C%201907.jpg\" style=\"width: 200px; \" />"
      ],
      "text/plain": [
       "<IPython.core.display.HTML object>"
      ]
     },
     "metadata": {},
     "output_type": "display_data"
    },
    {
     "name": "stdout",
     "output_type": "stream",
     "text": [
      "Lozenge Composition with Two Lines\n",
      "\n"
     ]
    },
    {
     "data": {
      "text/html": [
       "<img src=\"http://commons.wikimedia.org/wiki/Special:FilePath/Ruitvormige%20compositie%20met%20twee%20lijnen%2C%201931.jpg\" style=\"width: 200px; \" />"
      ],
      "text/plain": [
       "<IPython.core.display.HTML object>"
      ]
     },
     "metadata": {},
     "output_type": "display_data"
    },
    {
     "name": "stdout",
     "output_type": "stream",
     "text": [
      "Ruitvormige compositie met twee lijnen\n",
      "\n"
     ]
    },
    {
     "data": {
      "text/html": [
       "<img src=\"http://commons.wikimedia.org/wiki/Special:FilePath/Ruitvormige%20compositie%20met%20twee%20lijnen%2C%201931.jpg\" style=\"width: 200px; \" />"
      ],
      "text/plain": [
       "<IPython.core.display.HTML object>"
      ]
     },
     "metadata": {},
     "output_type": "display_data"
    },
    {
     "name": "stdout",
     "output_type": "stream",
     "text": [
      "Mannelijk naakt\n",
      "\n"
     ]
    },
    {
     "data": {
      "text/html": [
       "<img src=\"http://commons.wikimedia.org/wiki/Special:FilePath/P.C.%20Mondriaan%20-%20Mannelijk%20naakt%20-%20R472%20-%20Instituut%20Collectie%20Nederland.jpg\" style=\"width: 200px; \" />"
      ],
      "text/plain": [
       "<IPython.core.display.HTML object>"
      ]
     },
     "metadata": {},
     "output_type": "display_data"
    },
    {
     "name": "stdout",
     "output_type": "stream",
     "text": [
      "Sun, Church in Zeeland; Zoutelande Church Facade\n",
      "\n"
     ]
    },
    {
     "data": {
      "text/html": [
       "<img src=\"http://commons.wikimedia.org/wiki/Special:FilePath/Sun%2C%20Church%20in%20Zeeland%3B%20Zoutelande%20Church%20Facade.jpg\" style=\"width: 200px; \" />"
      ],
      "text/plain": [
       "<IPython.core.display.HTML object>"
      ]
     },
     "metadata": {},
     "output_type": "display_data"
    },
    {
     "name": "stdout",
     "output_type": "stream",
     "text": [
      "Composition B (No.II) with Red\n",
      "\n"
     ]
    },
    {
     "data": {
      "text/html": [
       "<img src=\"http://commons.wikimedia.org/wiki/Special:FilePath/Mondrian%20-%20Composition%20B%20%28No.II%29%20with%20Red%2C%201935.jpg\" style=\"width: 200px; \" />"
      ],
      "text/plain": [
       "<IPython.core.display.HTML object>"
      ]
     },
     "metadata": {},
     "output_type": "display_data"
    },
    {
     "name": "stdout",
     "output_type": "stream",
     "text": [
      "No. VI / Composition No.II\n",
      "\n"
     ]
    },
    {
     "data": {
      "text/html": [
       "<img src=\"http://commons.wikimedia.org/wiki/Special:FilePath/Piet%20Mondriaan%20-%20No.%20VI%20-%20T00915%20-%20Tate.jpg\" style=\"width: 200px; \" />"
      ],
      "text/plain": [
       "<IPython.core.display.HTML object>"
      ]
     },
     "metadata": {},
     "output_type": "display_data"
    },
    {
     "name": "stdout",
     "output_type": "stream",
     "text": [
      "Fox Trot B, with Black, Red, Blue, and Yellow\n",
      "\n"
     ]
    },
    {
     "data": {
      "text/html": [
       "<img src=\"http://commons.wikimedia.org/wiki/Special:FilePath/Mondrian%20-%20Fox%20Trot%20B%2C%20with%20Black%2C%20Red%2C%20Blue%2C%20and%20Yellow%2C%201929.jpg\" style=\"width: 200px; \" />"
      ],
      "text/plain": [
       "<IPython.core.display.HTML object>"
      ]
     },
     "metadata": {},
     "output_type": "display_data"
    },
    {
     "name": "stdout",
     "output_type": "stream",
     "text": [
      "Fox Trot A\n",
      "\n"
     ]
    },
    {
     "data": {
      "text/html": [
       "<img src=\"http://commons.wikimedia.org/wiki/Special:FilePath/Mondrian%20-%20Fox%20Trot%20A%2C%201930.tif\" style=\"width: 200px; \" />"
      ],
      "text/plain": [
       "<IPython.core.display.HTML object>"
      ]
     },
     "metadata": {},
     "output_type": "display_data"
    },
    {
     "name": "stdout",
     "output_type": "stream",
     "text": [
      "By the Sea\n",
      "\n"
     ]
    },
    {
     "data": {
      "text/html": [
       "<img src=\"http://commons.wikimedia.org/wiki/Special:FilePath/By%20the%20Sea%2C%20Piet%20Mondrian%2C%201909.jpg\" style=\"width: 200px; \" />"
      ],
      "text/plain": [
       "<IPython.core.display.HTML object>"
      ]
     },
     "metadata": {},
     "output_type": "display_data"
    }
   ],
   "source": [
    "from IPython.core.display import display, HTML\n",
    "\n",
    "\n",
    "first = df.iloc[0]\n",
    "print( f\"Name: {first['name.value']}\" )\n",
    "print( f\"https://rkd.nl/nl/explore/artists/{first['id.value']}\" )\n",
    "\n",
    "print( f\"\\nGender: {first['gender.value'][first['gender.value'].rindex('/')+1:]}\" )\n",
    "print( f\"Date of birth: {first['birth_date.value']}\" )\n",
    "print( f\"Date of death: {first['death_date.value']}\" )\n",
    "\n",
    "print('\\nAlternative names:')\n",
    "names = df['alternate.value']\n",
    "for name in names.drop_duplicates().values:\n",
    "    print(name)\n",
    "    \n",
    "print('\\nEducation:')\n",
    "edu = df['edu_name.value']\n",
    "for education in edu.drop_duplicates().values:\n",
    "    print(education)\n",
    "    \n",
    "\n",
    "print('\\nEvents:')\n",
    "df['event_duplicated'] = df.duplicated(subset='event_desc.value', keep='first')\n",
    "\n",
    "events = df[ df['event_duplicated'] == False ]\n",
    "events = events.sort_values('event_date.value')\n",
    "for i,row in events.iterrows():\n",
    "    print( f\"{row['event_date.value']}\\n{row['event_desc.value']} \")\n",
    "    \n",
    "\n",
    "print('\\nWorks:')\n",
    "df['works_duplicated'] = df.duplicated(subset='title.value', keep='first')\n",
    "\n",
    "works = df[ df['works_duplicated'] == False ]\n",
    "for i,row in works.iterrows():\n",
    "    print( f\"{row['title.value']}\\n\")\n",
    "    display(HTML(f'<img src=\"{row[\"image.value\"]}\" style=\"width: 200px; \" />'))\n",
    "\n",
    "\n",
    "    "
   ]
  }
 ],
 "metadata": {
  "kernelspec": {
   "display_name": "Python 3",
   "language": "python",
   "name": "python3"
  },
  "language_info": {
   "codemirror_mode": {
    "name": "ipython",
    "version": 3
   },
   "file_extension": ".py",
   "mimetype": "text/x-python",
   "name": "python",
   "nbconvert_exporter": "python",
   "pygments_lexer": "ipython3",
   "version": "3.8.5"
  }
 },
 "nbformat": 4,
 "nbformat_minor": 4
}
