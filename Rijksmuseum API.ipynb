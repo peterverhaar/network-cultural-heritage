{
 "cells": [
  {
   "cell_type": "markdown",
   "metadata": {},
   "source": [
    "# Rijksmuseum API"
   ]
  },
  {
   "cell_type": "markdown",
   "metadata": {},
   "source": [
    "## Collections\n",
    "\n",
    "Parameters for the API:\n",
    "\n",
    "* q: Free search term\n",
    "* type: 'painting', 'drawing' or 'print'\n",
    "* format: 'json' or 'xml'\n",
    "\n",
    "Can you find data about\n",
    "- Drawings depicting the city of Leiden\n",
    "- Paintings of cats, snakes, fruit or bicycles (or any other topic you can think of)\n"
   ]
  },
  {
   "cell_type": "code",
   "execution_count": 2,
   "metadata": {},
   "outputs": [
    {
     "name": "stdout",
     "output_type": "stream",
     "text": [
      "59 results.\n",
      "SK-C-163\n",
      "Cat with Kittens\n"
     ]
    },
    {
     "data": {
      "text/html": [
       "<a target=\"_new\" href=\"https://lh3.googleusercontent.com/3cz0FyJsharM17r95kUoNLiYiphlxy8eXlmCfHF1fqvHzOskexXmqczM4hl7X9ixRUK5_Us0MOrMyPug_aobbPaUD20=s0\"><img src=\"https://lh3.googleusercontent.com/3cz0FyJsharM17r95kUoNLiYiphlxy8eXlmCfHF1fqvHzOskexXmqczM4hl7X9ixRUK5_Us0MOrMyPug_aobbPaUD20=s0\" style=\"width: 200px;\"/></a>"
      ],
      "text/plain": [
       "<IPython.core.display.HTML object>"
      ]
     },
     "metadata": {},
     "output_type": "display_data"
    },
    {
     "name": "stdout",
     "output_type": "stream",
     "text": [
      "Henriëtte Ronner\n",
      "\n",
      "SK-A-3089\n",
      "The cat at play\n"
     ]
    },
    {
     "data": {
      "text/html": [
       "<a target=\"_new\" href=\"https://lh4.ggpht.com/H808D6Peu5gGSmqtj-V7Fh03x0I8ViByG1_7Udt86ZFFyHu-0iHrBySqZVHRUrELD_gYXA7-0y0j9qfBwWgDo_HoUbQ=s0\"><img src=\"https://lh4.ggpht.com/H808D6Peu5gGSmqtj-V7Fh03x0I8ViByG1_7Udt86ZFFyHu-0iHrBySqZVHRUrELD_gYXA7-0y0j9qfBwWgDo_HoUbQ=s0\" style=\"width: 200px;\"/></a>"
      ],
      "text/plain": [
       "<IPython.core.display.HTML object>"
      ]
     },
     "metadata": {},
     "output_type": "display_data"
    },
    {
     "name": "stdout",
     "output_type": "stream",
     "text": [
      "Henriëtte Ronner\n",
      "\n",
      "SK-C-180\n",
      "Portrait of Jacob Cats (1577-1660)\n"
     ]
    },
    {
     "data": {
      "text/html": [
       "<a target=\"_new\" href=\"https://lh3.googleusercontent.com/R1tI5njoV-bVV0G2FPBDcr-Lhz_GP3u7mr9OOH5kPWVvxqBQBCtRAJc1idGhIO3piOJtpVoaDnEZblpBpAMqiOWSUOY8zBTQJD7Dldk=s0\"><img src=\"https://lh3.googleusercontent.com/R1tI5njoV-bVV0G2FPBDcr-Lhz_GP3u7mr9OOH5kPWVvxqBQBCtRAJc1idGhIO3piOJtpVoaDnEZblpBpAMqiOWSUOY8zBTQJD7Dldk=s0\" style=\"width: 200px;\"/></a>"
      ],
      "text/plain": [
       "<IPython.core.display.HTML object>"
      ]
     },
     "metadata": {},
     "output_type": "display_data"
    },
    {
     "name": "stdout",
     "output_type": "stream",
     "text": [
      "Michiel Jansz van Mierevelt\n",
      "\n",
      "SK-C-560\n",
      "Woman Eating, Known as ‘The Cat’s Breakfast’\n"
     ]
    },
    {
     "data": {
      "text/html": [
       "<a target=\"_new\" href=\"https://lh3.googleusercontent.com/o9Z4Ix06fsq8DhpL8q8u3Ln0lVNmnTB_5L98WDRoEpUdRTR94zaNJEveT9tgS3Bzy7BzsD7CzwS_aXSiY7hbuT7GIH4=s0\"><img src=\"https://lh3.googleusercontent.com/o9Z4Ix06fsq8DhpL8q8u3Ln0lVNmnTB_5L98WDRoEpUdRTR94zaNJEveT9tgS3Bzy7BzsD7CzwS_aXSiY7hbuT7GIH4=s0\" style=\"width: 200px;\"/></a>"
      ],
      "text/plain": [
       "<IPython.core.display.HTML object>"
      ]
     },
     "metadata": {},
     "output_type": "display_data"
    },
    {
     "name": "stdout",
     "output_type": "stream",
     "text": [
      "Gabriël Metsu\n",
      "\n",
      "SK-A-258\n",
      "Portrait of Jacob Cats (1577-1660)\n"
     ]
    },
    {
     "data": {
      "text/html": [
       "<a target=\"_new\" href=\"https://lh3.googleusercontent.com/nDJ9B-ZKdRZp4Mnuu3cS-nKz0cT2WA_3YpzZUtlrM-1cCYocq_WeXwTdH9hYoRMh1U8-XHpENkYQ4tPw9NCajkRmtNFhvbs36SML7PQ=s0\"><img src=\"https://lh3.googleusercontent.com/nDJ9B-ZKdRZp4Mnuu3cS-nKz0cT2WA_3YpzZUtlrM-1cCYocq_WeXwTdH9hYoRMh1U8-XHpENkYQ4tPw9NCajkRmtNFhvbs36SML7PQ=s0\" style=\"width: 200px;\"/></a>"
      ],
      "text/plain": [
       "<IPython.core.display.HTML object>"
      ]
     },
     "metadata": {},
     "output_type": "display_data"
    },
    {
     "name": "stdout",
     "output_type": "stream",
     "text": [
      "Michiel Jansz van Mierevelt\n",
      "\n",
      "SK-A-1018\n",
      "The Torensluis and the Jan Roodenpoortstoren in Amsterdam\n"
     ]
    },
    {
     "data": {
      "text/html": [
       "<a target=\"_new\" href=\"https://lh3.googleusercontent.com/lLtN7YWjqt0J_6dpcuf53B8e5QSZ4ShYi6S41RqPYOtpylW-zHIbtIdPnf48BGlXbIciEYJLeFIAtn4pZisP4HyNxrs=s0\"><img src=\"https://lh3.googleusercontent.com/lLtN7YWjqt0J_6dpcuf53B8e5QSZ4ShYi6S41RqPYOtpylW-zHIbtIdPnf48BGlXbIciEYJLeFIAtn4pZisP4HyNxrs=s0\" style=\"width: 200px;\"/></a>"
      ],
      "text/plain": [
       "<IPython.core.display.HTML object>"
      ]
     },
     "metadata": {},
     "output_type": "display_data"
    },
    {
     "name": "stdout",
     "output_type": "stream",
     "text": [
      "Hendrik Gerrit ten Cate\n",
      "\n",
      "SK-A-2299\n",
      "Dordrecht in the Winter\n"
     ]
    },
    {
     "data": {
      "text/html": [
       "<a target=\"_new\" href=\"https://lh3.ggpht.com/pIIjPz548838xZMxadK7kUnr7cPdXlw1dbn2h11TkStEz2e3VNP3Ppa2Rxq5pjSBStUWoUQl7ZaKhIxl3rtuln7Dr5A=s0\"><img src=\"https://lh3.ggpht.com/pIIjPz548838xZMxadK7kUnr7cPdXlw1dbn2h11TkStEz2e3VNP3Ppa2Rxq5pjSBStUWoUQl7ZaKhIxl3rtuln7Dr5A=s0\" style=\"width: 200px;\"/></a>"
      ],
      "text/plain": [
       "<IPython.core.display.HTML object>"
      ]
     },
     "metadata": {},
     "output_type": "display_data"
    },
    {
     "name": "stdout",
     "output_type": "stream",
     "text": [
      "Siebe Johannes ten Cate\n",
      "\n",
      "SK-A-328\n",
      "Portrait of a man, possibly Joris van Cats (c. 1590-1654)\n"
     ]
    },
    {
     "data": {
      "text/html": [
       "<a target=\"_new\" href=\"https://lh3.googleusercontent.com/Ndx70wvwnaikFfQD9saXfjMNYQD5-j8Ex8QKcR31MqR12DTlLjiqxTWdrLz-tMVlq4mayscwEq5uhJltGkcYq8zREdx-N2xUT0oqG6E=s0\"><img src=\"https://lh3.googleusercontent.com/Ndx70wvwnaikFfQD9saXfjMNYQD5-j8Ex8QKcR31MqR12DTlLjiqxTWdrLz-tMVlq4mayscwEq5uhJltGkcYq8zREdx-N2xUT0oqG6E=s0\" style=\"width: 200px;\"/></a>"
      ],
      "text/plain": [
       "<IPython.core.display.HTML object>"
      ]
     },
     "metadata": {},
     "output_type": "display_data"
    },
    {
     "name": "stdout",
     "output_type": "stream",
     "text": [
      "anonymous\n",
      "\n",
      "SK-A-718\n",
      "Children Teaching a Cat to Dance, Known as ‘The Dancing Lesson’\n"
     ]
    },
    {
     "data": {
      "text/html": [
       "<a target=\"_new\" href=\"https://lh3.googleusercontent.com/2vWJ1NRX0P-GeL7dkfe_xoFA5D6w_DP03XiDDU9v-2xi2dhNJHx17UW0Gp9mKUCHh1HRPM3WckvaM3q7juI6QX3dKA=s0\"><img src=\"https://lh3.googleusercontent.com/2vWJ1NRX0P-GeL7dkfe_xoFA5D6w_DP03XiDDU9v-2xi2dhNJHx17UW0Gp9mKUCHh1HRPM3WckvaM3q7juI6QX3dKA=s0\" style=\"width: 200px;\"/></a>"
      ],
      "text/plain": [
       "<IPython.core.display.HTML object>"
      ]
     },
     "metadata": {},
     "output_type": "display_data"
    },
    {
     "name": "stdout",
     "output_type": "stream",
     "text": [
      "Jan Havicksz. Steen\n",
      "\n",
      "SK-A-591\n",
      "A Dog and a Cat near a partially disembowelled Deer\n"
     ]
    },
    {
     "data": {
      "text/html": [
       "<a target=\"_new\" href=\"https://lh5.ggpht.com/VQ7aeMPKoSN4c1N_tDQheKJ1m_4RcRNhW27pEQMLFLKFfap1udg_bSCjoJqv4B-esunwtGRsGb_9S0YRMmEN3CUohYo=s0\"><img src=\"https://lh5.ggpht.com/VQ7aeMPKoSN4c1N_tDQheKJ1m_4RcRNhW27pEQMLFLKFfap1udg_bSCjoJqv4B-esunwtGRsGb_9S0YRMmEN3CUohYo=s0\" style=\"width: 200px;\"/></a>"
      ],
      "text/plain": [
       "<IPython.core.display.HTML object>"
      ]
     },
     "metadata": {},
     "output_type": "display_data"
    },
    {
     "name": "stdout",
     "output_type": "stream",
     "text": [
      "Jan Baptist Weenix\n",
      "\n",
      "SK-A-1656\n",
      "Portrait of Johan Willem Parker, Lord of Saamslag, Geersdijk, Wissekerke, Cats and Soelekerke, Burgomaster of Middelburg, Deputy of Walcheren in Zeeland\n"
     ]
    },
    {
     "data": {
      "text/html": [
       "<a target=\"_new\" href=\"https://lh5.ggpht.com/xMeMlTNt-dTOKPy2IhIcsn42f6lcTTGz3QApMTz52pRLwOKlmEJ2_HJePGKpDNgx6gz_n1z1E0PwNyTkvZxtCRxPz_8=s0\"><img src=\"https://lh5.ggpht.com/xMeMlTNt-dTOKPy2IhIcsn42f6lcTTGz3QApMTz52pRLwOKlmEJ2_HJePGKpDNgx6gz_n1z1E0PwNyTkvZxtCRxPz_8=s0\" style=\"width: 200px;\"/></a>"
      ],
      "text/plain": [
       "<IPython.core.display.HTML object>"
      ]
     },
     "metadata": {},
     "output_type": "display_data"
    },
    {
     "name": "stdout",
     "output_type": "stream",
     "text": [
      "Jacob Jan Nachenius\n",
      "\n",
      "SK-C-152\n",
      "'The Anemic Lady'\n"
     ]
    },
    {
     "data": {
      "text/html": [
       "<a target=\"_new\" href=\"https://lh3.googleusercontent.com/GcLkqp8i4m5rqu1hcgtezozUOdqJfDKryd6KGybTcvyLDqYnA8n4keCRHsgHMHvWgFlglagvrvEHzpPNauQgex9Ilg=s0\"><img src=\"https://lh3.googleusercontent.com/GcLkqp8i4m5rqu1hcgtezozUOdqJfDKryd6KGybTcvyLDqYnA8n4keCRHsgHMHvWgFlglagvrvEHzpPNauQgex9Ilg=s0\" style=\"width: 200px;\"/></a>"
      ],
      "text/plain": [
       "<IPython.core.display.HTML object>"
      ]
     },
     "metadata": {},
     "output_type": "display_data"
    },
    {
     "name": "stdout",
     "output_type": "stream",
     "text": [
      "Samuel van Hoogstraten\n",
      "\n",
      "SK-A-3267\n",
      "Old Woman by the Fireplace\n"
     ]
    },
    {
     "data": {
      "text/html": [
       "<a target=\"_new\" href=\"https://lh5.ggpht.com/WUjSVYgswUrRI1DO0mt1tFl2YhSDrFNrEb7AVWl519yyDlFJd1Qpnp-co9s0AYsda5FGBTZGeK_CD8dVNtWoo0SXgXs=s0\"><img src=\"https://lh5.ggpht.com/WUjSVYgswUrRI1DO0mt1tFl2YhSDrFNrEb7AVWl519yyDlFJd1Qpnp-co9s0AYsda5FGBTZGeK_CD8dVNtWoo0SXgXs=s0\" style=\"width: 200px;\"/></a>"
      ],
      "text/plain": [
       "<IPython.core.display.HTML object>"
      ]
     },
     "metadata": {},
     "output_type": "display_data"
    },
    {
     "name": "stdout",
     "output_type": "stream",
     "text": [
      "August Allebé\n",
      "\n",
      "SK-A-4117\n",
      "Exchange of Fire on the Vaartse Rijn near Jutphaas\n"
     ]
    },
    {
     "data": {
      "text/html": [
       "<a target=\"_new\" href=\"https://lh3.googleusercontent.com/qHjd1o6fqR03DCPwcYpmY8kD_JDFNlTJNcyjIcQQPY9C4wyGVKHd4Cvv6jqmavBfE8-i982yCDNYu8nQ2tbWZUySCA=s0\"><img src=\"https://lh3.googleusercontent.com/qHjd1o6fqR03DCPwcYpmY8kD_JDFNlTJNcyjIcQQPY9C4wyGVKHd4Cvv6jqmavBfE8-i982yCDNYu8nQ2tbWZUySCA=s0\" style=\"width: 200px;\"/></a>"
      ],
      "text/plain": [
       "<IPython.core.display.HTML object>"
      ]
     },
     "metadata": {},
     "output_type": "display_data"
    },
    {
     "name": "stdout",
     "output_type": "stream",
     "text": [
      "Jonas Zeuner\n",
      "\n",
      "SK-C-535\n",
      "Old Woman Saying Grace, Known as ‘The Prayer without End’\n"
     ]
    },
    {
     "data": {
      "text/html": [
       "<a target=\"_new\" href=\"https://lh3.googleusercontent.com/ZEMErmu9f_XXUVvmeq3yI1EY8LX4pjGdETDL6AhK-6mLVwQxmx1LiFD_M-vf6iHUALMLP3UuFXREN-Zniy6qhsnHtas=s0\"><img src=\"https://lh3.googleusercontent.com/ZEMErmu9f_XXUVvmeq3yI1EY8LX4pjGdETDL6AhK-6mLVwQxmx1LiFD_M-vf6iHUALMLP3UuFXREN-Zniy6qhsnHtas=s0\" style=\"width: 200px;\"/></a>"
      ],
      "text/plain": [
       "<IPython.core.display.HTML object>"
      ]
     },
     "metadata": {},
     "output_type": "display_data"
    },
    {
     "name": "stdout",
     "output_type": "stream",
     "text": [
      "Nicolaes Maes\n",
      "\n",
      "SK-A-4934\n",
      "The Quay de Paris in Rouen\n"
     ]
    },
    {
     "data": {
      "text/html": [
       "<a target=\"_new\" href=\"https://lh3.googleusercontent.com/FsYob0ddkswqxVN6G1PfsGLGDZLhlbA1ZXWmtAzYtv2zKzdDYuS3VUmKUbNTJQapmNns_VbwADZ7HHGuUASs5FROig=s0\"><img src=\"https://lh3.googleusercontent.com/FsYob0ddkswqxVN6G1PfsGLGDZLhlbA1ZXWmtAzYtv2zKzdDYuS3VUmKUbNTJQapmNns_VbwADZ7HHGuUASs5FROig=s0\" style=\"width: 200px;\"/></a>"
      ],
      "text/plain": [
       "<IPython.core.display.HTML object>"
      ]
     },
     "metadata": {},
     "output_type": "display_data"
    },
    {
     "name": "stdout",
     "output_type": "stream",
     "text": [
      "Johannes Bosboom\n",
      "\n",
      "SK-A-386\n",
      "Interior with a Woman Feeding a Parrot, Known as ‘The Parrot Cage’\n"
     ]
    },
    {
     "data": {
      "text/html": [
       "<a target=\"_new\" href=\"https://lh3.googleusercontent.com/LRwYb2F0achYZbrvKsmrH-_NHOj-m-sFiD2RLQnK6CSPFEckJ3f8uC77b5Hil2ZxwtqUPftZyZpgGJjTGEOrftDHi5U=s0\"><img src=\"https://lh3.googleusercontent.com/LRwYb2F0achYZbrvKsmrH-_NHOj-m-sFiD2RLQnK6CSPFEckJ3f8uC77b5Hil2ZxwtqUPftZyZpgGJjTGEOrftDHi5U=s0\" style=\"width: 200px;\"/></a>"
      ],
      "text/plain": [
       "<IPython.core.display.HTML object>"
      ]
     },
     "metadata": {},
     "output_type": "display_data"
    },
    {
     "name": "stdout",
     "output_type": "stream",
     "text": [
      "Jan Havicksz. Steen\n",
      "\n",
      "SK-A-267\n",
      "The Overturned Bouquet\n"
     ]
    },
    {
     "data": {
      "text/html": [
       "<a target=\"_new\" href=\"https://lh3.googleusercontent.com/ji_s4pTc-vJBgmS8FvYYAnWR73GmRq5bHG8Fmv3UEcowVl4djNrLEZNbJZstJInmvihxHJeDirVJaNgm23GypatHTA=s0\"><img src=\"https://lh3.googleusercontent.com/ji_s4pTc-vJBgmS8FvYYAnWR73GmRq5bHG8Fmv3UEcowVl4djNrLEZNbJZstJInmvihxHJeDirVJaNgm23GypatHTA=s0\" style=\"width: 200px;\"/></a>"
      ],
      "text/plain": [
       "<IPython.core.display.HTML object>"
      ]
     },
     "metadata": {},
     "output_type": "display_data"
    },
    {
     "name": "stdout",
     "output_type": "stream",
     "text": [
      "Abraham Mignon\n",
      "\n",
      "SK-A-1009\n",
      "The Patricides, ‘Each According to Their Own Nature’\n"
     ]
    },
    {
     "data": {
      "text/html": [
       "<a target=\"_new\" href=\"https://lh3.googleusercontent.com/7hGFs21hfc-jWAm-PT90t6C7fc2Sqt1lLQ2rt7cQt0IMol2xZ7A8-jLlQIyO967UdA2OpZgLcG17cNKLv77m1vU-bA=s0\"><img src=\"https://lh3.googleusercontent.com/7hGFs21hfc-jWAm-PT90t6C7fc2Sqt1lLQ2rt7cQt0IMol2xZ7A8-jLlQIyO967UdA2OpZgLcG17cNKLv77m1vU-bA=s0\" style=\"width: 200px;\"/></a>"
      ],
      "text/plain": [
       "<IPython.core.display.HTML object>"
      ]
     },
     "metadata": {},
     "output_type": "display_data"
    },
    {
     "name": "stdout",
     "output_type": "stream",
     "text": [
      "David Bles\n",
      "\n",
      "SK-A-1976\n",
      "A Sherpherdess with Animals in a Mountainous Landscape\n"
     ]
    },
    {
     "data": {
      "text/html": [
       "<a target=\"_new\" href=\"https://lh3.googleusercontent.com/7fnV76mLrqc5mtHHedozh43PKmRtb31DsXH2lgTnfNwouN3eKf4sHGafWKag0FzJc31rtcxaiRYJnQRNP1cRCsvsSw=s0\"><img src=\"https://lh3.googleusercontent.com/7fnV76mLrqc5mtHHedozh43PKmRtb31DsXH2lgTnfNwouN3eKf4sHGafWKag0FzJc31rtcxaiRYJnQRNP1cRCsvsSw=s0\" style=\"width: 200px;\"/></a>"
      ],
      "text/plain": [
       "<IPython.core.display.HTML object>"
      ]
     },
     "metadata": {},
     "output_type": "display_data"
    },
    {
     "name": "stdout",
     "output_type": "stream",
     "text": [
      "Adam Pijnacker\n",
      "\n",
      "SK-A-310\n",
      "Bathing Men\n"
     ]
    },
    {
     "data": {
      "text/html": [
       "<a target=\"_new\" href=\"https://lh3.googleusercontent.com/p93Q9uK9-eARxrqXLtTVjjBBNEE1dlZMlRSze_kBhGRzm4x10PqvOU7ZFXmzQw2r16bHjzx70xvtMveCO8kZBvfdNnUGEjJ82nl2MCVp=s0\"><img src=\"https://lh3.googleusercontent.com/p93Q9uK9-eARxrqXLtTVjjBBNEE1dlZMlRSze_kBhGRzm4x10PqvOU7ZFXmzQw2r16bHjzx70xvtMveCO8kZBvfdNnUGEjJ82nl2MCVp=s0\" style=\"width: 200px;\"/></a>"
      ],
      "text/plain": [
       "<IPython.core.display.HTML object>"
      ]
     },
     "metadata": {},
     "output_type": "display_data"
    },
    {
     "name": "stdout",
     "output_type": "stream",
     "text": [
      "Cornelis van Poelenburch\n",
      "\n",
      "SK-C-1690\n",
      "Three Peaches on a Stone Plinth\n"
     ]
    },
    {
     "data": {
      "text/html": [
       "<a target=\"_new\" href=\"https://lh3.googleusercontent.com/eRP2NQJFd7UMA3nnGdaVCFc4-KSvN-wgkpwuiSDDQTCVd9UBuAPqSvKiBQIpdG0_CyHQ29cH0l5YRElSgsypptbMoNYn=s0\"><img src=\"https://lh3.googleusercontent.com/eRP2NQJFd7UMA3nnGdaVCFc4-KSvN-wgkpwuiSDDQTCVd9UBuAPqSvKiBQIpdG0_CyHQ29cH0l5YRElSgsypptbMoNYn=s0\" style=\"width: 200px;\"/></a>"
      ],
      "text/plain": [
       "<IPython.core.display.HTML object>"
      ]
     },
     "metadata": {},
     "output_type": "display_data"
    },
    {
     "name": "stdout",
     "output_type": "stream",
     "text": [
      "Adriaen Coorte\n",
      "\n",
      "SK-A-2459\n",
      "Jaagpad\n"
     ]
    },
    {
     "data": {
      "text/html": [
       "<a target=\"_new\" href=\"https://lh3.ggpht.com/QdjNzX-Qpx4O6UVvPLDGKqJZbIOjLwKhH5PasaPEzd_X2ACiGxqt6To38SjuuJXAo-rsg-6nqa84Dqw-i12Q8EgGpPuK=s0\"><img src=\"https://lh3.ggpht.com/QdjNzX-Qpx4O6UVvPLDGKqJZbIOjLwKhH5PasaPEzd_X2ACiGxqt6To38SjuuJXAo-rsg-6nqa84Dqw-i12Q8EgGpPuK=s0\" style=\"width: 200px;\"/></a>"
      ],
      "text/plain": [
       "<IPython.core.display.HTML object>"
      ]
     },
     "metadata": {},
     "output_type": "display_data"
    },
    {
     "name": "stdout",
     "output_type": "stream",
     "text": [
      "Jacob Maris\n",
      "\n",
      "SK-A-29\n",
      "The Three Droves\n"
     ]
    },
    {
     "data": {
      "text/html": [
       "<a target=\"_new\" href=\"https://lh3.googleusercontent.com/iNDRnSrsTBrPfLgHGRbvLXpIAjnspVlbA0aax_KM8-hc3TgJQUu7gPvVhzD2ImXltoTaRV9Ww5_ELvKtDc9prV389Q=s0\"><img src=\"https://lh3.googleusercontent.com/iNDRnSrsTBrPfLgHGRbvLXpIAjnspVlbA0aax_KM8-hc3TgJQUu7gPvVhzD2ImXltoTaRV9Ww5_ELvKtDc9prV389Q=s0\" style=\"width: 200px;\"/></a>"
      ],
      "text/plain": [
       "<IPython.core.display.HTML object>"
      ]
     },
     "metadata": {},
     "output_type": "display_data"
    },
    {
     "name": "stdout",
     "output_type": "stream",
     "text": [
      "Nicolaes Pietersz. Berchem\n",
      "\n",
      "SK-A-2113\n",
      "View of a Levantine Port\n"
     ]
    },
    {
     "data": {
      "text/html": [
       "<a target=\"_new\" href=\"https://lh3.googleusercontent.com/q6VF5dfXmhLzAgAFxvpL3wXBkizmyTDZuF0oIAh6aspFQw3TTrJ9OE813TOfmq_Tgrkd3DmLv9pmAqXPi0qgFfr7eVE=s0\"><img src=\"https://lh3.googleusercontent.com/q6VF5dfXmhLzAgAFxvpL3wXBkizmyTDZuF0oIAh6aspFQw3TTrJ9OE813TOfmq_Tgrkd3DmLv9pmAqXPi0qgFfr7eVE=s0\" style=\"width: 200px;\"/></a>"
      ],
      "text/plain": [
       "<IPython.core.display.HTML object>"
      ]
     },
     "metadata": {},
     "output_type": "display_data"
    },
    {
     "name": "stdout",
     "output_type": "stream",
     "text": [
      "Thomas Wijck\n",
      "\n",
      "SK-A-1731\n",
      "Life's Eventide\n"
     ]
    },
    {
     "data": {
      "text/html": [
       "<a target=\"_new\" href=\"https://lh3.ggpht.com/XRe_-SHgFIfAaUUd8iSWLINBCDqTQs72ba7Pj0Klupp6SE8wyB--KCsFJssEGFSeJRspWVkkpnwSZp7QYIsbEPT6s3s=s0\"><img src=\"https://lh3.ggpht.com/XRe_-SHgFIfAaUUd8iSWLINBCDqTQs72ba7Pj0Klupp6SE8wyB--KCsFJssEGFSeJRspWVkkpnwSZp7QYIsbEPT6s3s=s0\" style=\"width: 200px;\"/></a>"
      ],
      "text/plain": [
       "<IPython.core.display.HTML object>"
      ]
     },
     "metadata": {},
     "output_type": "display_data"
    },
    {
     "name": "stdout",
     "output_type": "stream",
     "text": [
      "August Allebé\n",
      "\n",
      "SK-A-195\n",
      "Landscape with Two Donkeys, Goats and Pigs\n"
     ]
    },
    {
     "data": {
      "text/html": [
       "<a target=\"_new\" href=\"https://lh3.googleusercontent.com/QmVJVAampQ68PfDVbqrqMXwjeAeT9o1GB1kjIiuoHgahn8oDHEZ_oZfRsT9OOpYqqbc_TITwWrlN-rDQDJ5wyPw0xY0=s0\"><img src=\"https://lh3.googleusercontent.com/QmVJVAampQ68PfDVbqrqMXwjeAeT9o1GB1kjIiuoHgahn8oDHEZ_oZfRsT9OOpYqqbc_TITwWrlN-rDQDJ5wyPw0xY0=s0\" style=\"width: 200px;\"/></a>"
      ],
      "text/plain": [
       "<IPython.core.display.HTML object>"
      ]
     },
     "metadata": {},
     "output_type": "display_data"
    },
    {
     "name": "stdout",
     "output_type": "stream",
     "text": [
      "Karel du Jardin\n",
      "\n",
      "SK-A-2702\n",
      "De Schreierstoren aan de Buitenkant te Amsterdam\n"
     ]
    },
    {
     "data": {
      "text/html": [
       "<a target=\"_new\" href=\"https://lh4.ggpht.com/dlkuyj0xkM10qPu8eeWhhtHoT2j30IL1yXqped3jswUXzg-rVeQSuH6csZS_dqWzCg9GlCy6LiobjS3Rd399IwL9VUI=s0\"><img src=\"https://lh4.ggpht.com/dlkuyj0xkM10qPu8eeWhhtHoT2j30IL1yXqped3jswUXzg-rVeQSuH6csZS_dqWzCg9GlCy6LiobjS3Rd399IwL9VUI=s0\" style=\"width: 200px;\"/></a>"
      ],
      "text/plain": [
       "<IPython.core.display.HTML object>"
      ]
     },
     "metadata": {},
     "output_type": "display_data"
    },
    {
     "name": "stdout",
     "output_type": "stream",
     "text": [
      "Jacob Maris\n",
      "\n",
      "SK-A-5023\n",
      "Seven Chicks\n"
     ]
    },
    {
     "data": {
      "text/html": [
       "<a target=\"_new\" href=\"https://lh5.ggpht.com/eS4EKkcPB9aBVVCSjYBwh30DwQl6bfXwL_-USHTKz0kh1uIrh-FiP0agyz_cD2l2kci83RTD5vc0cmgigw9L9y_2rQ=s0\"><img src=\"https://lh5.ggpht.com/eS4EKkcPB9aBVVCSjYBwh30DwQl6bfXwL_-USHTKz0kh1uIrh-FiP0agyz_cD2l2kci83RTD5vc0cmgigw9L9y_2rQ=s0\" style=\"width: 200px;\"/></a>"
      ],
      "text/plain": [
       "<IPython.core.display.HTML object>"
      ]
     },
     "metadata": {},
     "output_type": "display_data"
    },
    {
     "name": "stdout",
     "output_type": "stream",
     "text": [
      "Melchior d'Hondecoeter\n",
      "\n",
      "SK-A-4975\n",
      "Benares, 1913\n"
     ]
    },
    {
     "data": {
      "text/html": [
       "<a target=\"_new\" href=\"https://lh3.googleusercontent.com/QOTxK-M0S6PS-JcyEnOq0y-jfefJA2sWroSXXDJe-lHsH9LDULb6evHhfumAUMFI3G18Tk6WNWr90Ao74vOnl7d3wg=s0\"><img src=\"https://lh3.googleusercontent.com/QOTxK-M0S6PS-JcyEnOq0y-jfefJA2sWroSXXDJe-lHsH9LDULb6evHhfumAUMFI3G18Tk6WNWr90Ao74vOnl7d3wg=s0\" style=\"width: 200px;\"/></a>"
      ],
      "text/plain": [
       "<IPython.core.display.HTML object>"
      ]
     },
     "metadata": {},
     "output_type": "display_data"
    },
    {
     "name": "stdout",
     "output_type": "stream",
     "text": [
      "Marius Bauer\n",
      "\n",
      "SK-A-311\n",
      "Bathing Girls\n"
     ]
    },
    {
     "data": {
      "text/html": [
       "<a target=\"_new\" href=\"https://lh3.googleusercontent.com/tppDIEEWfgbkyzDH3AysVzfZmsX6Z55jke2or0uHnlpI-trJQ0VkAe8Vu73OIzNaNMhFbgJqZ3M7nZkzUQHoLiV3TKV-in6mz7LCliRv=s0\"><img src=\"https://lh3.googleusercontent.com/tppDIEEWfgbkyzDH3AysVzfZmsX6Z55jke2or0uHnlpI-trJQ0VkAe8Vu73OIzNaNMhFbgJqZ3M7nZkzUQHoLiV3TKV-in6mz7LCliRv=s0\" style=\"width: 200px;\"/></a>"
      ],
      "text/plain": [
       "<IPython.core.display.HTML object>"
      ]
     },
     "metadata": {},
     "output_type": "display_data"
    },
    {
     "name": "stdout",
     "output_type": "stream",
     "text": [
      "Cornelis van Poelenburch\n",
      "\n",
      "SK-A-2597\n",
      "'The Joy of Motherhood'\n"
     ]
    },
    {
     "data": {
      "text/html": [
       "<a target=\"_new\" href=\"https://lh4.ggpht.com/m2SU4dDoaRKwzdAyBkFzrdBCsN9FGkWLi9dz1ekq0nKQ8B6zl2yRBYH8YjX9hg3WXyGyL6Sjak6rKMzTKFJewiGZFg=s0\"><img src=\"https://lh4.ggpht.com/m2SU4dDoaRKwzdAyBkFzrdBCsN9FGkWLi9dz1ekq0nKQ8B6zl2yRBYH8YjX9hg3WXyGyL6Sjak6rKMzTKFJewiGZFg=s0\" style=\"width: 200px;\"/></a>"
      ],
      "text/plain": [
       "<IPython.core.display.HTML object>"
      ]
     },
     "metadata": {},
     "output_type": "display_data"
    },
    {
     "name": "stdout",
     "output_type": "stream",
     "text": [
      "Jozef Israëls\n",
      "\n",
      "SK-A-5006\n",
      "Fantasy landscape with St Charles Borromeo\n"
     ]
    },
    {
     "data": {
      "text/html": [
       "<a target=\"_new\" href=\"https://lh3.googleusercontent.com/vlyX61XGYhaadY3C8Bf3abDxyXrLCv3TICD93LjNERio0vXuEoow-PcL-YHZpDy6IyI8LxjpI-0J2U_OK_arYtk6w0Y=s0\"><img src=\"https://lh3.googleusercontent.com/vlyX61XGYhaadY3C8Bf3abDxyXrLCv3TICD93LjNERio0vXuEoow-PcL-YHZpDy6IyI8LxjpI-0J2U_OK_arYtk6w0Y=s0\" style=\"width: 200px;\"/></a>"
      ],
      "text/plain": [
       "<IPython.core.display.HTML object>"
      ]
     },
     "metadata": {},
     "output_type": "display_data"
    },
    {
     "name": "stdout",
     "output_type": "stream",
     "text": [
      "Henry Ferguson\n",
      "\n",
      "SK-A-3731\n",
      "David\n"
     ]
    },
    {
     "data": {
      "text/html": [
       "<a target=\"_new\" href=\"https://lh3.ggpht.com/Kry5WHhQ42VIAawhB-shJkPe4QPzqFZ4X_aJAAslrdNmwZmhiEP0rzULbKfgMN5rE5960rTlRKKkzwY1EszWv4rp2yJ8=s0\"><img src=\"https://lh3.ggpht.com/Kry5WHhQ42VIAawhB-shJkPe4QPzqFZ4X_aJAAslrdNmwZmhiEP0rzULbKfgMN5rE5960rTlRKKkzwY1EszWv4rp2yJ8=s0\" style=\"width: 200px;\"/></a>"
      ],
      "text/plain": [
       "<IPython.core.display.HTML object>"
      ]
     },
     "metadata": {},
     "output_type": "display_data"
    },
    {
     "name": "stdout",
     "output_type": "stream",
     "text": [
      "Jozef Israëls\n",
      "\n",
      "SK-A-3732\n",
      "Zittende vrouw, waarschijnlijk Michal\n"
     ]
    },
    {
     "data": {
      "text/html": [
       "<a target=\"_new\" href=\"https://lh4.ggpht.com/kUGJrMwUZpnqlKvakHbKMVXi2qAHtxfCLQv3CeiIa-k_qx0Xu1gq2igEnon6ABi7dX4vmMrb1gPsp6kqFsHXDiesXto=s0\"><img src=\"https://lh4.ggpht.com/kUGJrMwUZpnqlKvakHbKMVXi2qAHtxfCLQv3CeiIa-k_qx0Xu1gq2igEnon6ABi7dX4vmMrb1gPsp6kqFsHXDiesXto=s0\" style=\"width: 200px;\"/></a>"
      ],
      "text/plain": [
       "<IPython.core.display.HTML object>"
      ]
     },
     "metadata": {},
     "output_type": "display_data"
    },
    {
     "name": "stdout",
     "output_type": "stream",
     "text": [
      "Jozef Israëls\n",
      "\n",
      "SK-A-1139\n",
      "De staalmeesters van de Leidse Saaihal\n"
     ]
    },
    {
     "data": {
      "text/html": [
       "<a target=\"_new\" href=\"https://lh5.ggpht.com/lWoE1GFF24Pvj2Ad7xWmredsWuezWcD3Xwp6xOJTP516X06ADRzqSQiQRXaoQnpyqA_wKSH-H7-fbPzqHvS_UYvqkrU=s0\"><img src=\"https://lh5.ggpht.com/lWoE1GFF24Pvj2Ad7xWmredsWuezWcD3Xwp6xOJTP516X06ADRzqSQiQRXaoQnpyqA_wKSH-H7-fbPzqHvS_UYvqkrU=s0\" style=\"width: 200px;\"/></a>"
      ],
      "text/plain": [
       "<IPython.core.display.HTML object>"
      ]
     },
     "metadata": {},
     "output_type": "display_data"
    },
    {
     "name": "stdout",
     "output_type": "stream",
     "text": [
      "Johannes Stroebel\n",
      "\n",
      "SK-C-1759\n",
      "Satyr and Nymph\n"
     ]
    },
    {
     "data": {
      "text/html": [
       "<a target=\"_new\" href=\"https://lh3.googleusercontent.com/rnA55jqMy2GtAryvWJBOCtJ3AI7WVGGJVKxeRSBIMK3jTlWX97hDquPh2mADm9bFPyJyRWLV17pD5HDZB8uBSNVn-w=s0\"><img src=\"https://lh3.googleusercontent.com/rnA55jqMy2GtAryvWJBOCtJ3AI7WVGGJVKxeRSBIMK3jTlWX97hDquPh2mADm9bFPyJyRWLV17pD5HDZB8uBSNVn-w=s0\" style=\"width: 200px;\"/></a>"
      ],
      "text/plain": [
       "<IPython.core.display.HTML object>"
      ]
     },
     "metadata": {},
     "output_type": "display_data"
    },
    {
     "name": "stdout",
     "output_type": "stream",
     "text": [
      "Gerard van Honthorst\n",
      "\n",
      "SK-A-367\n",
      "Portrait of William III (1650-1702), Prince of Orange, Stadholder and from 1689 on, King of England\n"
     ]
    },
    {
     "data": {
      "text/html": [
       "<a target=\"_new\" href=\"https://lh3.googleusercontent.com/8bGT9TGwaMN6mWtiYFTZTrA4jOqAN0An8zSXwiKmcNlMSIwW2WER_9RldytCGZRY3KoQC34czajk9kSUDwTGkJsGZbI=s0\"><img src=\"https://lh3.googleusercontent.com/8bGT9TGwaMN6mWtiYFTZTrA4jOqAN0An8zSXwiKmcNlMSIwW2WER_9RldytCGZRY3KoQC34czajk9kSUDwTGkJsGZbI=s0\" style=\"width: 200px;\"/></a>"
      ],
      "text/plain": [
       "<IPython.core.display.HTML object>"
      ]
     },
     "metadata": {},
     "output_type": "display_data"
    },
    {
     "name": "stdout",
     "output_type": "stream",
     "text": [
      "Godfried Schalcken\n",
      "\n",
      "NG-1998-7-3\n",
      "A Dutch bomber bombing the fort in the centre of the city of Yogyakarta\n"
     ]
    },
    {
     "data": {
      "text/html": [
       "<a target=\"_new\" href=\"https://lh3.ggpht.com/M-lad8otOVDX_CgYylUPnX3bbkWXc6PpjS-ECooB7Kni7Vp6RAe1RhM3BjQr7M97qDR075DLk6PSOhHjaNpvqig6yIu6=s0\"><img src=\"https://lh3.ggpht.com/M-lad8otOVDX_CgYylUPnX3bbkWXc6PpjS-ECooB7Kni7Vp6RAe1RhM3BjQr7M97qDR075DLk6PSOhHjaNpvqig6yIu6=s0\" style=\"width: 200px;\"/></a>"
      ],
      "text/plain": [
       "<IPython.core.display.HTML object>"
      ]
     },
     "metadata": {},
     "output_type": "display_data"
    },
    {
     "name": "stdout",
     "output_type": "stream",
     "text": [
      "Mohammad Toha Adimidjojo\n",
      "\n",
      "NG-1998-7-14\n",
      "Dutch forces occupying the Presidential Palace\n"
     ]
    },
    {
     "data": {
      "text/html": [
       "<a target=\"_new\" href=\"https://lh5.ggpht.com/0w_pfWFVvWWFcI4enyqiZ9wDRfTMmuCVtn4M8HgpZooYj4wGCr5yEZHOcQG5Di9zghIPcR0dGkOIpd0a1JRUAHIP6Nc=s0\"><img src=\"https://lh5.ggpht.com/0w_pfWFVvWWFcI4enyqiZ9wDRfTMmuCVtn4M8HgpZooYj4wGCr5yEZHOcQG5Di9zghIPcR0dGkOIpd0a1JRUAHIP6Nc=s0\" style=\"width: 200px;\"/></a>"
      ],
      "text/plain": [
       "<IPython.core.display.HTML object>"
      ]
     },
     "metadata": {},
     "output_type": "display_data"
    },
    {
     "name": "stdout",
     "output_type": "stream",
     "text": [
      "Mohammad Toha Adimidjojo\n",
      "\n",
      "NG-1998-7-35\n",
      "Republican gurerrillas leave the city along with people crossing the river Code fleeing after the General Attack\n"
     ]
    },
    {
     "data": {
      "text/html": [
       "<a target=\"_new\" href=\"https://lh6.ggpht.com/cKg9Pa2T458T-be_oqCZghaCQAxdSbKaP0WqiyTDyyAE3cUhijRWXT_V5P63obwRQpokJHtPP6Br5WjzjXe-OlmAWUI=s0\"><img src=\"https://lh6.ggpht.com/cKg9Pa2T458T-be_oqCZghaCQAxdSbKaP0WqiyTDyyAE3cUhijRWXT_V5P63obwRQpokJHtPP6Br5WjzjXe-OlmAWUI=s0\" style=\"width: 200px;\"/></a>"
      ],
      "text/plain": [
       "<IPython.core.display.HTML object>"
      ]
     },
     "metadata": {},
     "output_type": "display_data"
    },
    {
     "name": "stdout",
     "output_type": "stream",
     "text": [
      "Mohammad Toha Adimidjojo\n",
      "\n",
      "NG-1998-7-36\n",
      "Another pack horse leaves with supplies of looted weapons\n"
     ]
    },
    {
     "data": {
      "text/html": [
       "<a target=\"_new\" href=\"https://lh4.ggpht.com/6sDT51zpxmd8o-ui7Scg3ZthSq3okCwy6ZCtbXaOj9E86yE00CmuEWLcK6vTkoE0i6Ya8_M_ywcehnh-LwJRJeu-Gw=s0\"><img src=\"https://lh4.ggpht.com/6sDT51zpxmd8o-ui7Scg3ZthSq3okCwy6ZCtbXaOj9E86yE00CmuEWLcK6vTkoE0i6Ya8_M_ywcehnh-LwJRJeu-Gw=s0\" style=\"width: 200px;\"/></a>"
      ],
      "text/plain": [
       "<IPython.core.display.HTML object>"
      ]
     },
     "metadata": {},
     "output_type": "display_data"
    },
    {
     "name": "stdout",
     "output_type": "stream",
     "text": [
      "Mohammad Toha Adimidjojo\n",
      "\n",
      "NG-1998-7-24\n",
      "Strict guarding of the Gondulayu bridge in the centre of Yogyakarta\n"
     ]
    },
    {
     "data": {
      "text/html": [
       "<a target=\"_new\" href=\"https://lh5.ggpht.com/-GJRMBYEfOdrr5smb6Dh9D62MOIzKp_1NZXr7Bon8RxkSKSV0yOVaBhXHiQLZoUwwbsV-ZzjHsR0a7Pdo3KzPvVAUWo=s0\"><img src=\"https://lh5.ggpht.com/-GJRMBYEfOdrr5smb6Dh9D62MOIzKp_1NZXr7Bon8RxkSKSV0yOVaBhXHiQLZoUwwbsV-ZzjHsR0a7Pdo3KzPvVAUWo=s0\" style=\"width: 200px;\"/></a>"
      ],
      "text/plain": [
       "<IPython.core.display.HTML object>"
      ]
     },
     "metadata": {},
     "output_type": "display_data"
    },
    {
     "name": "stdout",
     "output_type": "stream",
     "text": [
      "Mohammad Toha Adimidjojo\n",
      "\n",
      "NG-1998-7-16\n",
      "The President, Vice-President and other leaders being transported at Maguwo airport to be exiled to Sumatra\n"
     ]
    },
    {
     "data": {
      "text/html": [
       "<a target=\"_new\" href=\"https://lh5.ggpht.com/pszapL7Hvtq_9rHjGw8sVhBaX9_qmPZVjnG5VSVnNchSnbeRT3qHBZ1dMZ3HDfFrvjNB71q5zR05FWbrTqeSQ66YKio=s0\"><img src=\"https://lh5.ggpht.com/pszapL7Hvtq_9rHjGw8sVhBaX9_qmPZVjnG5VSVnNchSnbeRT3qHBZ1dMZ3HDfFrvjNB71q5zR05FWbrTqeSQ66YKio=s0\" style=\"width: 200px;\"/></a>"
      ],
      "text/plain": [
       "<IPython.core.display.HTML object>"
      ]
     },
     "metadata": {},
     "output_type": "display_data"
    },
    {
     "name": "stdout",
     "output_type": "stream",
     "text": [
      "Mohammad Toha Adimidjojo\n",
      "\n",
      "SK-A-4750\n",
      "De Gouden Bocht in de Herengracht in Amsterdam vanuit het westen\n"
     ]
    },
    {
     "data": {
      "text/html": [
       "<a target=\"_new\" href=\"https://lh3.googleusercontent.com/W-EOwpNqTt-I_DrWvMkpFt_Fcnwd4NARe-y5AgEcHbjpsJwjoWSSawZL0CSQi5vGQvpy2IFFwBBm8M-aGda9DpEvpzPc=s0\"><img src=\"https://lh3.googleusercontent.com/W-EOwpNqTt-I_DrWvMkpFt_Fcnwd4NARe-y5AgEcHbjpsJwjoWSSawZL0CSQi5vGQvpy2IFFwBBm8M-aGda9DpEvpzPc=s0\" style=\"width: 200px;\"/></a>"
      ],
      "text/plain": [
       "<IPython.core.display.HTML object>"
      ]
     },
     "metadata": {},
     "output_type": "display_data"
    },
    {
     "name": "stdout",
     "output_type": "stream",
     "text": [
      "Gerrit Berckheyde\n",
      "\n",
      "SK-A-174\n",
      "Two Peacocks Threatening a Hen with Chicks, Known as ‘The Threatened Hen’\n"
     ]
    },
    {
     "data": {
      "text/html": [
       "<a target=\"_new\" href=\"https://lh3.googleusercontent.com/Exou7Gn7iOwLu1QnmxUm5jknBc5b2WQ0ndQtJvI77RaUHqH7vCvo159mcarTlsr7jUmQZqlTzKY8w8eSIRLuQnXriw=s0\"><img src=\"https://lh3.googleusercontent.com/Exou7Gn7iOwLu1QnmxUm5jknBc5b2WQ0ndQtJvI77RaUHqH7vCvo159mcarTlsr7jUmQZqlTzKY8w8eSIRLuQnXriw=s0\" style=\"width: 200px;\"/></a>"
      ],
      "text/plain": [
       "<IPython.core.display.HTML object>"
      ]
     },
     "metadata": {},
     "output_type": "display_data"
    },
    {
     "name": "stdout",
     "output_type": "stream",
     "text": [
      "Melchior d'Hondecoeter\n",
      "\n",
      "SK-A-783\n",
      "Lamentation of Christ\n"
     ]
    },
    {
     "data": {
      "text/html": [
       "<a target=\"_new\" href=\"https://lh3.googleusercontent.com/wPaKr_aX5nOb1gNHV62TfMC87wwktFxtXwxyawKL8WobyN1m43fIEKBKqHM6NHCight969NN_lp_1EVuScdcQHpyNwV6=s0\"><img src=\"https://lh3.googleusercontent.com/wPaKr_aX5nOb1gNHV62TfMC87wwktFxtXwxyawKL8WobyN1m43fIEKBKqHM6NHCight969NN_lp_1EVuScdcQHpyNwV6=s0\" style=\"width: 200px;\"/></a>"
      ],
      "text/plain": [
       "<IPython.core.display.HTML object>"
      ]
     },
     "metadata": {},
     "output_type": "display_data"
    },
    {
     "name": "stdout",
     "output_type": "stream",
     "text": [
      "Bernardino Zaganelli di Bosio\n",
      "\n",
      "SK-A-5009\n",
      "Salomé met het hoofd van Johannes de Doper\n"
     ]
    },
    {
     "data": {
      "text/html": [
       "<a target=\"_new\" href=\"https://lh3.googleusercontent.com/LGRWBfLwCuooDaQ3tfRjudqNJ6HZNLRDofiSIA3tmolDadJfOLUwA5l4oTgdn9s9C619k_iKq9O1gsnbIG4jy1KLOj0=s0\"><img src=\"https://lh3.googleusercontent.com/LGRWBfLwCuooDaQ3tfRjudqNJ6HZNLRDofiSIA3tmolDadJfOLUwA5l4oTgdn9s9C619k_iKq9O1gsnbIG4jy1KLOj0=s0\" style=\"width: 200px;\"/></a>"
      ],
      "text/plain": [
       "<IPython.core.display.HTML object>"
      ]
     },
     "metadata": {},
     "output_type": "display_data"
    },
    {
     "name": "stdout",
     "output_type": "stream",
     "text": [
      "Jan Adam Kruseman\n",
      "\n",
      "SK-A-103\n",
      "The Penitent Saint Magdalen\n"
     ]
    },
    {
     "data": {
      "text/html": [
       "<a target=\"_new\" href=\"https://lh3.googleusercontent.com/_U7uTGUvp_lR5SFHtrBYSy0zl-JsIXpS_mc5LCkJdCbtgvs5ZiTV5Qpg94HvnKmpZM2gZiN7Xme8ioLGQw9Ke1-tO6aEU_ebZXWpOMaa=s0\"><img src=\"https://lh3.googleusercontent.com/_U7uTGUvp_lR5SFHtrBYSy0zl-JsIXpS_mc5LCkJdCbtgvs5ZiTV5Qpg94HvnKmpZM2gZiN7Xme8ioLGQw9Ke1-tO6aEU_ebZXWpOMaa=s0\" style=\"width: 200px;\"/></a>"
      ],
      "text/plain": [
       "<IPython.core.display.HTML object>"
      ]
     },
     "metadata": {},
     "output_type": "display_data"
    },
    {
     "name": "stdout",
     "output_type": "stream",
     "text": [
      "Anthony van Dyck\n",
      "\n",
      "SK-C-1352\n",
      "The Adoration of the Magi\n"
     ]
    },
    {
     "data": {
      "text/html": [
       "<a target=\"_new\" href=\"https://lh6.ggpht.com/N6Z-M6XAnUNU7e1kDTdkGjsY4tMogcJCIh0VLGsCUchGqMec4ObYHxmsknN23veURsrugHpgcipt2e_zK9Kth2vietph=s0\"><img src=\"https://lh6.ggpht.com/N6Z-M6XAnUNU7e1kDTdkGjsY4tMogcJCIh0VLGsCUchGqMec4ObYHxmsknN23veURsrugHpgcipt2e_zK9Kth2vietph=s0\" style=\"width: 200px;\"/></a>"
      ],
      "text/plain": [
       "<IPython.core.display.HTML object>"
      ]
     },
     "metadata": {},
     "output_type": "display_data"
    },
    {
     "name": "stdout",
     "output_type": "stream",
     "text": [
      "Paolo Farinati\n",
      "\n",
      "SK-A-4973\n",
      "Portrait of Magdalena de Cuyper\n"
     ]
    },
    {
     "data": {
      "text/html": [
       "<a target=\"_new\" href=\"https://lh3.googleusercontent.com/iogmFpVbkXpzpVWBX_2QbeWYEF07geQl0jVH22MesIlYWuD1CQOvsOmcv0jvTRIsDNF4cB4FQIEg7evzFXw_O6eq9_Om=s0\"><img src=\"https://lh3.googleusercontent.com/iogmFpVbkXpzpVWBX_2QbeWYEF07geQl0jVH22MesIlYWuD1CQOvsOmcv0jvTRIsDNF4cB4FQIEg7evzFXw_O6eq9_Om=s0\" style=\"width: 200px;\"/></a>"
      ],
      "text/plain": [
       "<IPython.core.display.HTML object>"
      ]
     },
     "metadata": {},
     "output_type": "display_data"
    },
    {
     "name": "stdout",
     "output_type": "stream",
     "text": [
      "Jacob Jordaens (I)\n",
      "\n",
      "SK-C-1709\n",
      "Christ among the Doctors\n"
     ]
    },
    {
     "data": {
      "text/html": [
       "<a target=\"_new\" href=\"https://lh3.googleusercontent.com/GLgxiUHNkkRlj7aVeo7eI5RUsPL1ZaCqgdyL4n8ibWy6r1xuqhST-cfhKsYm-txC489zidpBJCAzix97xWsVQ_dnIYk=s0\"><img src=\"https://lh3.googleusercontent.com/GLgxiUHNkkRlj7aVeo7eI5RUsPL1ZaCqgdyL4n8ibWy6r1xuqhST-cfhKsYm-txC489zidpBJCAzix97xWsVQ_dnIYk=s0\" style=\"width: 200px;\"/></a>"
      ],
      "text/plain": [
       "<IPython.core.display.HTML object>"
      ]
     },
     "metadata": {},
     "output_type": "display_data"
    },
    {
     "name": "stdout",
     "output_type": "stream",
     "text": [
      "Orazio Borgianni\n",
      "\n",
      "SK-A-4971\n",
      "Portraits of Rogier Le Witer and his Wife, Catharina Behaghel\n"
     ]
    },
    {
     "data": {
      "text/html": [
       "<a target=\"_new\" href=\"https://lh3.googleusercontent.com/-HtcegiHdrmVrteJMECQD2u3cll6Dw9yLzYwqWi9PUmrBcMHZkUKlW-Wmkt3kHQtq6ngisWANSOUP8rZk3X7VJl3j_I=s0\"><img src=\"https://lh3.googleusercontent.com/-HtcegiHdrmVrteJMECQD2u3cll6Dw9yLzYwqWi9PUmrBcMHZkUKlW-Wmkt3kHQtq6ngisWANSOUP8rZk3X7VJl3j_I=s0\" style=\"width: 200px;\"/></a>"
      ],
      "text/plain": [
       "<IPython.core.display.HTML object>"
      ]
     },
     "metadata": {},
     "output_type": "display_data"
    },
    {
     "name": "stdout",
     "output_type": "stream",
     "text": [
      "Jacob Jordaens (I)\n",
      "\n",
      "SK-A-4972\n",
      "Portraits of Rogier Le Witer and his Wife, Catharina Behaghel\n"
     ]
    },
    {
     "data": {
      "text/html": [
       "<a target=\"_new\" href=\"https://lh3.googleusercontent.com/4Y8v2uInvdKWCy6rE-hOHPhnFlExAu8rW7IWPJHz-F8tYmQL8imeGUFmV42rW6NdWoYtkWhd5Kg7qrEobNtiSMwBoOc=s0\"><img src=\"https://lh3.googleusercontent.com/4Y8v2uInvdKWCy6rE-hOHPhnFlExAu8rW7IWPJHz-F8tYmQL8imeGUFmV42rW6NdWoYtkWhd5Kg7qrEobNtiSMwBoOc=s0\" style=\"width: 200px;\"/></a>"
      ],
      "text/plain": [
       "<IPython.core.display.HTML object>"
      ]
     },
     "metadata": {},
     "output_type": "display_data"
    },
    {
     "name": "stdout",
     "output_type": "stream",
     "text": [
      "Jacob Jordaens (I)\n",
      "\n",
      "SK-A-4129\n",
      "The Prophet Elijah Awakened in the Desert by an Angel\n"
     ]
    },
    {
     "data": {
      "text/html": [
       "<a target=\"_new\" href=\"https://lh3.ggpht.com/1Uc0KhM5SdQfcONwN6eOf4WTJkh9g7J_qQrTPUfWcUav-MYKQ2SFHJsnfSxpvnGpm_rnTlgxZHBUCG1c_4KwwhFJ0g=s0\"><img src=\"https://lh3.ggpht.com/1Uc0KhM5SdQfcONwN6eOf4WTJkh9g7J_qQrTPUfWcUav-MYKQ2SFHJsnfSxpvnGpm_rnTlgxZHBUCG1c_4KwwhFJ0g=s0\" style=\"width: 200px;\"/></a>"
      ],
      "text/plain": [
       "<IPython.core.display.HTML object>"
      ]
     },
     "metadata": {},
     "output_type": "display_data"
    },
    {
     "name": "stdout",
     "output_type": "stream",
     "text": [
      "Giovanni Lanfranco\n",
      "\n",
      "SK-A-4947\n",
      "Amsterdam as the Centre of World Trade\n"
     ]
    },
    {
     "data": {
      "text/html": [
       "<a target=\"_new\" href=\"https://lh3.googleusercontent.com/DiBof9i0t8WScB-PoyVP6JTZolRZkuFSQsic4dY9MGGqVKlEWfUu29TiBf1KDamDOoadRAVWehl4WYzTfqreFOcalCrtNj3hUUs3RthP=s0\"><img src=\"https://lh3.googleusercontent.com/DiBof9i0t8WScB-PoyVP6JTZolRZkuFSQsic4dY9MGGqVKlEWfUu29TiBf1KDamDOoadRAVWehl4WYzTfqreFOcalCrtNj3hUUs3RthP=s0\" style=\"width: 200px;\"/></a>"
      ],
      "text/plain": [
       "<IPython.core.display.HTML object>"
      ]
     },
     "metadata": {},
     "output_type": "display_data"
    },
    {
     "name": "stdout",
     "output_type": "stream",
     "text": [
      "Pieter Isaacsz.\n",
      "\n",
      "SK-A-5021\n",
      "Landscape with an Episode from the Conquest of America\n"
     ]
    },
    {
     "data": {
      "text/html": [
       "<a target=\"_new\" href=\"https://lh3.googleusercontent.com/WCrF9xodQtLa9mWJnAlSx9Y9p3XZPUzq6Jq_2UVlRaBCbxeg8hSfyOwIArUTPOawTCMF8qCCX_mT3BO2EwPcRHcFLmN-=s0\"><img src=\"https://lh3.googleusercontent.com/WCrF9xodQtLa9mWJnAlSx9Y9p3XZPUzq6Jq_2UVlRaBCbxeg8hSfyOwIArUTPOawTCMF8qCCX_mT3BO2EwPcRHcFLmN-=s0\" style=\"width: 200px;\"/></a>"
      ],
      "text/plain": [
       "<IPython.core.display.HTML object>"
      ]
     },
     "metadata": {},
     "output_type": "display_data"
    },
    {
     "name": "stdout",
     "output_type": "stream",
     "text": [
      "Jan Jansz Mostaert\n",
      "\n",
      "SK-A-5059\n",
      "Pluto and Cerberus\n",
      "Maarten van Heemskerck\n",
      "\n",
      "SK-A-5060\n",
      "Samson Carrying the Gate of Gaza\n",
      "Maarten van Heemskerck\n",
      "\n"
     ]
    }
   ],
   "source": [
    "import requests\n",
    "from IPython.core.display import display, HTML\n",
    "\n",
    "\n",
    "key= 'fpGQTuED'\n",
    "data_format= 'json'\n",
    "search_term = 'cat'\n",
    "work_type = 'painting'\n",
    "\n",
    "\n",
    "url = f'https://www.rijksmuseum.nl/api/en/collection?key={key}&type={work_type}&format={data_format}&q={search_term}&ps=100'\n",
    "\n",
    "r = requests.get(url)\n",
    "data = r.json()\n",
    "\n",
    "\n",
    "print( f\"{len(data['artObjects'])} results.\" )\n",
    "\n",
    "for d in data['artObjects']:\n",
    "    print( d.get('objectNumber',\"\") )\n",
    "    print( d.get('title',\"\") )\n",
    "    if d['hasImage']:\n",
    "        display(HTML(f'<a target=\"_new\" href=\"{d[\"webImage\"][\"url\"]}\"><img src=\"{d[\"webImage\"][\"url\"]}\" style=\"width: 200px;\"/></a>'))\n",
    "    print( d.get('principalOrFirstMaker',\"\") + '\\n')"
   ]
  },
  {
   "cell_type": "markdown",
   "metadata": {},
   "source": [
    "## Information about individual works\n",
    "\n",
    "\n",
    "Parameters:\n",
    "* format: 'json' or 'xml'\n",
    "* object number\n",
    "\n",
    "\n",
    "Can you find infomration about Johannes Vermeer’s Milkmaid (object number SK-A-2344). When was the painting acquired by the museum? What was the year of creation?\n"
   ]
  },
  {
   "cell_type": "code",
   "execution_count": 3,
   "metadata": {},
   "outputs": [
    {
     "data": {
      "text/html": [
       "<a target=\"_new\" href=\"https://lh3.googleusercontent.com/0cgLYKx0RS2R0RkCr9z29qGHmQMIchfN3Mqpvfx9msLqxVdAiNJxNN9le3GnFF6kUrPG84DWNFBqLXFM7OOqSZFJsVnvxrDu-PlK3ars=s0\"><img src=\"https://lh3.googleusercontent.com/0cgLYKx0RS2R0RkCr9z29qGHmQMIchfN3Mqpvfx9msLqxVdAiNJxNN9le3GnFF6kUrPG84DWNFBqLXFM7OOqSZFJsVnvxrDu-PlK3ars=s0\" style=\"width: 300px;\"/></a>"
      ],
      "text/plain": [
       "<IPython.core.display.HTML object>"
      ]
     },
     "metadata": {},
     "output_type": "display_data"
    },
    {
     "name": "stdout",
     "output_type": "stream",
     "text": [
      "ObjectNumber: SK-C-5\n",
      "Title: The Night Watch\n",
      "Creator: Rembrandt van Rijn\n",
      "Dating: 1642\n",
      "Physical medium: oil on canvas\n",
      "Dominant colours:\n"
     ]
    },
    {
     "data": {
      "text/html": [
       "<div style=\"width: 20px; height: 20px; background-color: #261808\"  />"
      ],
      "text/plain": [
       "<IPython.core.display.HTML object>"
      ]
     },
     "metadata": {},
     "output_type": "display_data"
    },
    {
     "data": {
      "text/html": [
       "<div style=\"width: 20px; height: 20px; background-color:  #5E3C14\"  />"
      ],
      "text/plain": [
       "<IPython.core.display.HTML object>"
      ]
     },
     "metadata": {},
     "output_type": "display_data"
    },
    {
     "data": {
      "text/html": [
       "<div style=\"width: 20px; height: 20px; background-color:  #9C8238\"  />"
      ],
      "text/plain": [
       "<IPython.core.display.HTML object>"
      ]
     },
     "metadata": {},
     "output_type": "display_data"
    },
    {
     "data": {
      "text/html": [
       "<div style=\"width: 20px; height: 20px; background-color:  #885617\"  />"
      ],
      "text/plain": [
       "<IPython.core.display.HTML object>"
      ]
     },
     "metadata": {},
     "output_type": "display_data"
    },
    {
     "data": {
      "text/html": [
       "<div style=\"width: 20px; height: 20px; background-color:  #AF9F6B\"  />"
      ],
      "text/plain": [
       "<IPython.core.display.HTML object>"
      ]
     },
     "metadata": {},
     "output_type": "display_data"
    },
    {
     "data": {
      "text/html": [
       "<div style=\"width: 20px; height: 20px; background-color:  #6C6238\"  />"
      ],
      "text/plain": [
       "<IPython.core.display.HTML object>"
      ]
     },
     "metadata": {},
     "output_type": "display_data"
    },
    {
     "data": {
      "text/html": [
       "<div style=\"width: 20px; height: 20px; background-color:  #D7CB9E\"  />"
      ],
      "text/plain": [
       "<IPython.core.display.HTML object>"
      ]
     },
     "metadata": {},
     "output_type": "display_data"
    },
    {
     "name": "stdout",
     "output_type": "stream",
     "text": [
      "Description: Officieren en andere schutters van wijk II in Amsterdam onder leiding van kapitein Frans Banninck Cocq en luitenant Willem van Ruytenburch, sinds het einde van de 18de eeuw bekend als ‘De Nachtwacht’. Schutters van de Kloveniersdoelen uit een poort naar buiten tredend. Op een schild aangebracht naast de poort staan de namen van de afgebeelde personen: Frans Banning Cocq, heer van purmerlant en Ilpendam, Capiteijn Willem van Ruijtenburch van Vlaerdingen, heer van Vlaerdingen, Lu[ij]tenant, Jan Visscher Cornelisen Vaendrich, Rombout Kemp Sergeant, Reijnier Engelen Sergeant, Barent Harmansen, Jan Adriaensen Keyser, Elbert Willemsen, Jan Clasen Leydeckers, Jan Ockersen, Jan Pietersen bronchorst, Harman Iacobsen wormskerck, Jacob Dircksen de Roy, Jan vander heede, Walich Schellingwou, Jan brugman, Claes van Cruysbergen, Paulus Schoonhoven. De schutters zijn gewapend met onder anderen pieken, musketten en hellebaarden. Rechts de tamboer met een grote trommel. Tussen de soldaten links staat een meisje met een dode kip om haar middel, rechts een blaffende hond. Linksboven de vaandrig met de uitgestoken vaandel.\n",
      "Acquisition: loan 1808-01-01T00:00:00\n"
     ]
    }
   ],
   "source": [
    "import requests\n",
    "\n",
    "object_nr = 'SK-C-5'\n",
    "\n",
    "url = f'https://www.rijksmuseum.nl/api/en/collection/{object_nr}?key=fpGQTuED&format=json'\n",
    "\n",
    "r = requests.get(url)\n",
    "data = r.json()['artObject']\n",
    "\n",
    "display(HTML(f'<a target=\"_new\" href=\"{data[\"webImage\"][\"url\"]}\"><img src=\"{data[\"webImage\"][\"url\"]}\" style=\"width: 300px;\"/></a>'))\n",
    "    \n",
    "\n",
    "print('ObjectNumber: {}'.format( data['objectNumber'] ))\n",
    "print('Title: {}'.format( data['title'] ))\n",
    "print('Creator: {}'.format( data['principalMakers'][0]['name'] ))\n",
    "print('Dating: {}'.format( data['dating']['presentingDate'] ))\n",
    "print('Physical medium: {}'.format( data['physicalMedium'] ))\n",
    "\n",
    "\n",
    "colors = data['colors']\n",
    "\n",
    "if len(colors) > 0:\n",
    "    print('Dominant colours:')\n",
    "    for c in colors:\n",
    "        display(HTML(f'<div style=\"width: 20px; height: 20px; background-color: {c[\"hex\"]}\"  />'))\n",
    "\n",
    "print('Description: {}'.format( data['description'] ) )\n",
    "print('Acquisition: {} {}'.format( data['acquisition']['method'] , data['acquisition']['date']) )\n",
    "\n"
   ]
  },
  {
   "cell_type": "code",
   "execution_count": null,
   "metadata": {},
   "outputs": [],
   "source": []
  }
 ],
 "metadata": {
  "kernelspec": {
   "display_name": "Python 3",
   "language": "python",
   "name": "python3"
  },
  "language_info": {
   "codemirror_mode": {
    "name": "ipython",
    "version": 3
   },
   "file_extension": ".py",
   "mimetype": "text/x-python",
   "name": "python",
   "nbconvert_exporter": "python",
   "pygments_lexer": "ipython3",
   "version": "3.8.5"
  }
 },
 "nbformat": 4,
 "nbformat_minor": 4
}
