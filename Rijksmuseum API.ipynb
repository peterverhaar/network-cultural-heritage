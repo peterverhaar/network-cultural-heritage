{
 "cells": [
  {
   "cell_type": "markdown",
   "metadata": {},
   "source": [
    "# Rijksmuseum API"
   ]
  },
  {
   "cell_type": "markdown",
   "metadata": {},
   "source": [
    "## Collections\n",
    "\n",
    "Parameters for the API:\n",
    "\n",
    "* q: Free search term\n",
    "* type: 'painting', 'drawing' or 'print'\n",
    "* format: 'json' or 'xml'\n",
    "\n",
    "Can you find data about\n",
    "- Drawings depicting the city of Leiden\n",
    "- Paintings of cats, snakes, fruit or bicycles (or any other topic you can think of)\n"
   ]
  },
  {
   "cell_type": "code",
   "execution_count": 92,
   "metadata": {},
   "outputs": [
    {
     "name": "stdout",
     "output_type": "stream",
     "text": [
      "100 results.\n",
      "RP-T-1953-295\n",
      "Grazing Cow\n"
     ]
    },
    {
     "data": {
      "text/html": [
       "<a target=\"_new\" href=\"https://lh3.ggpht.com/TPwTSJOw-MZrZXiWb-bT7BBzhw4G6rmYPrcjxEVIli_dk6_AEXplPCjx093HsPgp5Q1CuGDoMEzxC2wS5uFmsetOeI8=s0\"><img src=\"https://lh3.ggpht.com/TPwTSJOw-MZrZXiWb-bT7BBzhw4G6rmYPrcjxEVIli_dk6_AEXplPCjx093HsPgp5Q1CuGDoMEzxC2wS5uFmsetOeI8=s0\" style=\"width: 200px;\"/></a>"
      ],
      "text/plain": [
       "<IPython.core.display.HTML object>"
      ]
     },
     "metadata": {},
     "output_type": "display_data"
    },
    {
     "name": "stdout",
     "output_type": "stream",
     "text": [
      "Jacob Cats (1741-1799)\n",
      "\n",
      "RP-T-1952-358\n",
      "Album Sheet with a Civet\n"
     ]
    },
    {
     "data": {
      "text/html": [
       "<a target=\"_new\" href=\"https://lh4.ggpht.com/o_Y42aaRC485HvNpQpFJNj-gH4m6OmhowZngx70RrEGYkvaVZwPzdQYUtCL8kOe6_2e4ah3diMgRqQTqrOM53XWHLw=s0\"><img src=\"https://lh4.ggpht.com/o_Y42aaRC485HvNpQpFJNj-gH4m6OmhowZngx70RrEGYkvaVZwPzdQYUtCL8kOe6_2e4ah3diMgRqQTqrOM53XWHLw=s0\" style=\"width: 200px;\"/></a>"
      ],
      "text/plain": [
       "<IPython.core.display.HTML object>"
      ]
     },
     "metadata": {},
     "output_type": "display_data"
    },
    {
     "name": "stdout",
     "output_type": "stream",
     "text": [
      "anonymous\n",
      "\n",
      "RP-T-1894-A-3011\n",
      "Portret van de tekenaar Jacob Cats\n"
     ]
    },
    {
     "data": {
      "text/html": [
       "<a target=\"_new\" href=\"https://lh6.ggpht.com/UXliNwPcjqXPWAfYu41mXP2Uoxz8Yd9AVqfkktFHdYY5p5ZMD27ek4EkOJmhtfjztzttKkqkQma6tuix4xedBiAFkvM=s0\"><img src=\"https://lh6.ggpht.com/UXliNwPcjqXPWAfYu41mXP2Uoxz8Yd9AVqfkktFHdYY5p5ZMD27ek4EkOJmhtfjztzttKkqkQma6tuix4xedBiAFkvM=s0\" style=\"width: 200px;\"/></a>"
      ],
      "text/plain": [
       "<IPython.core.display.HTML object>"
      ]
     },
     "metadata": {},
     "output_type": "display_data"
    },
    {
     "name": "stdout",
     "output_type": "stream",
     "text": [
      "Reinier Vinkeles (I)\n",
      "\n",
      "RP-T-1898-A-4058\n",
      "A Dancing Cat and Dog\n"
     ]
    },
    {
     "data": {
      "text/html": [
       "<a target=\"_new\" href=\"https://lh6.ggpht.com/fos6EyDhzRvQwJVE8P1Ce3ZZ9NmBAjY5ypHqjyFqjiAE3FhTayuSz6UkvPm-hKPl7AeVVgPufHj4P25VuV5MfkZ_bcw=s0\"><img src=\"https://lh6.ggpht.com/fos6EyDhzRvQwJVE8P1Ce3ZZ9NmBAjY5ypHqjyFqjiAE3FhTayuSz6UkvPm-hKPl7AeVVgPufHj4P25VuV5MfkZ_bcw=s0\" style=\"width: 200px;\"/></a>"
      ],
      "text/plain": [
       "<IPython.core.display.HTML object>"
      ]
     },
     "metadata": {},
     "output_type": "display_data"
    },
    {
     "name": "stdout",
     "output_type": "stream",
     "text": [
      "Adriaen Pietersz. van de Venne\n",
      "\n",
      "RP-T-1898-A-4069\n",
      "Portret van Jacob Cats, 1618\n"
     ]
    },
    {
     "data": {
      "text/html": [
       "<a target=\"_new\" href=\"https://lh6.ggpht.com/L8SzgcKX9FwHIZsd9FS8_cwoX3sz2rUgEUYi_oaZaIXDOyU-bq5KNwLfy6FFRkzoHaDn8PZYEsNHd7m4XJPM-xTKX5k=s0\"><img src=\"https://lh6.ggpht.com/L8SzgcKX9FwHIZsd9FS8_cwoX3sz2rUgEUYi_oaZaIXDOyU-bq5KNwLfy6FFRkzoHaDn8PZYEsNHd7m4XJPM-xTKX5k=s0\" style=\"width: 200px;\"/></a>"
      ],
      "text/plain": [
       "<IPython.core.display.HTML object>"
      ]
     },
     "metadata": {},
     "output_type": "display_data"
    },
    {
     "name": "stdout",
     "output_type": "stream",
     "text": [
      "Adriaen Pietersz. van de Venne\n",
      "\n",
      "RP-T-1952-114\n",
      "Six Studies of a Cat\n"
     ]
    },
    {
     "data": {
      "text/html": [
       "<a target=\"_new\" href=\"https://lh6.ggpht.com/Cf3hQcMNJ5b4PaakAf1pEoNs6DYZ1pt6fo6ECpaKq2hKGewojPZyvPVfpg2XMQ9SfluAnjE7LQB3fZHEgB0RBXo89gU=s0\"><img src=\"https://lh6.ggpht.com/Cf3hQcMNJ5b4PaakAf1pEoNs6DYZ1pt6fo6ECpaKq2hKGewojPZyvPVfpg2XMQ9SfluAnjE7LQB3fZHEgB0RBXo89gU=s0\" style=\"width: 200px;\"/></a>"
      ],
      "text/plain": [
       "<IPython.core.display.HTML object>"
      ]
     },
     "metadata": {},
     "output_type": "display_data"
    },
    {
     "name": "stdout",
     "output_type": "stream",
     "text": [
      "Thomas Gainsborough\n",
      "\n",
      "RP-T-1904-192\n",
      "Fives Studies of Cats\n"
     ]
    },
    {
     "data": {
      "text/html": [
       "<a target=\"_new\" href=\"https://lh6.ggpht.com/A6HgMY9Jam2TqKQ9e_qfzDNenPDv1YRbcHBEX587hdHl4NmdSj9FOb5DX5L-6-7_mJfCfSLuh3-ZH-O6sZAxK2N1VPg=s0\"><img src=\"https://lh6.ggpht.com/A6HgMY9Jam2TqKQ9e_qfzDNenPDv1YRbcHBEX587hdHl4NmdSj9FOb5DX5L-6-7_mJfCfSLuh3-ZH-O6sZAxK2N1VPg=s0\" style=\"width: 200px;\"/></a>"
      ],
      "text/plain": [
       "<IPython.core.display.HTML object>"
      ]
     },
     "metadata": {},
     "output_type": "display_data"
    },
    {
     "name": "stdout",
     "output_type": "stream",
     "text": [
      "Jean Bernard\n",
      "\n",
      "RP-T-1898-A-4029\n",
      "Cat Licking Wax from a Candleholder\n"
     ]
    },
    {
     "data": {
      "text/html": [
       "<a target=\"_new\" href=\"https://lh6.ggpht.com/VFnazkOUWhg1l2Plm3IWXinRVEB5e04Ruz0jZiQhvkUPrgpiO-3y2z2nFdR8X8hwUHwca6F8WCPxpP3UJkOS2g96LVM=s0\"><img src=\"https://lh6.ggpht.com/VFnazkOUWhg1l2Plm3IWXinRVEB5e04Ruz0jZiQhvkUPrgpiO-3y2z2nFdR8X8hwUHwca6F8WCPxpP3UJkOS2g96LVM=s0\" style=\"width: 200px;\"/></a>"
      ],
      "text/plain": [
       "<IPython.core.display.HTML object>"
      ]
     },
     "metadata": {},
     "output_type": "display_data"
    },
    {
     "name": "stdout",
     "output_type": "stream",
     "text": [
      "Cornelis Visscher (II)\n",
      "\n",
      "RP-T-1951-400(R)\n",
      "Seated Cat, Seen from the Front\n"
     ]
    },
    {
     "data": {
      "text/html": [
       "<a target=\"_new\" href=\"https://lh3.googleusercontent.com/wx-cV4w_i7zxue_BuuVf9YI8FuwUdPLngt0z3HoVKJsqPK4XrebXMfHm_a3SmzMAb6_JtghNPRQDqzGP_UseMAtLx5gBaU7USvb_AJGy=s0\"><img src=\"https://lh3.googleusercontent.com/wx-cV4w_i7zxue_BuuVf9YI8FuwUdPLngt0z3HoVKJsqPK4XrebXMfHm_a3SmzMAb6_JtghNPRQDqzGP_UseMAtLx5gBaU7USvb_AJGy=s0\" style=\"width: 200px;\"/></a>"
      ],
      "text/plain": [
       "<IPython.core.display.HTML object>"
      ]
     },
     "metadata": {},
     "output_type": "display_data"
    },
    {
     "name": "stdout",
     "output_type": "stream",
     "text": [
      "Pieter Bartholomeusz. Barbiers\n",
      "\n",
      "RP-T-1940-477\n",
      "Portret van Hendrik Gerrit ten Cate\n"
     ]
    },
    {
     "data": {
      "text/html": [
       "<a target=\"_new\" href=\"https://lh6.ggpht.com/mSIkPKozBudFJGbSLJfJLalDJzbL8Cc06kuO1KAxKTh2cGX_qTndawByLIDPzvytrayHKedE-rkuk2NUnpFzrUd_nv4=s0\"><img src=\"https://lh6.ggpht.com/mSIkPKozBudFJGbSLJfJLalDJzbL8Cc06kuO1KAxKTh2cGX_qTndawByLIDPzvytrayHKedE-rkuk2NUnpFzrUd_nv4=s0\" style=\"width: 200px;\"/></a>"
      ],
      "text/plain": [
       "<IPython.core.display.HTML object>"
      ]
     },
     "metadata": {},
     "output_type": "display_data"
    },
    {
     "name": "stdout",
     "output_type": "stream",
     "text": [
      "Johan Coenraad Hamburger\n",
      "\n",
      "RP-T-2009-9\n",
      "Gezicht van de Tafelberg bij Blaricum, met op de voorgrond Laren\n"
     ]
    },
    {
     "data": {
      "text/html": [
       "<a target=\"_new\" href=\"https://lh3.googleusercontent.com/u3IVqipF8ppy9Og6eoyVK4z0hKp1Wk444TmxRakD8B4H_1WQdAGH2K507xLknoawuu3kkzxxGoJ7NC5Neaz7Q1jZXOsR=s0\"><img src=\"https://lh3.googleusercontent.com/u3IVqipF8ppy9Og6eoyVK4z0hKp1Wk444TmxRakD8B4H_1WQdAGH2K507xLknoawuu3kkzxxGoJ7NC5Neaz7Q1jZXOsR=s0\" style=\"width: 200px;\"/></a>"
      ],
      "text/plain": [
       "<IPython.core.display.HTML object>"
      ]
     },
     "metadata": {},
     "output_type": "display_data"
    },
    {
     "name": "stdout",
     "output_type": "stream",
     "text": [
      "Jacob Cats (1741-1799)\n",
      "\n",
      "RP-T-2009-10\n",
      "Gezicht van de Tafelberg bij Blaricum, met links Craayloos' Bosch en rechts de 'tafel'\n"
     ]
    },
    {
     "data": {
      "text/html": [
       "<a target=\"_new\" href=\"https://lh3.googleusercontent.com/bTVQGIreSUk6oPrwYXyhXgU6omOIPXGybFdEyVT5OMFQswxUz6AQe5vXBXu_9tJYFy9igqGR--rt7gip3KVkvBUyVYVO=s0\"><img src=\"https://lh3.googleusercontent.com/bTVQGIreSUk6oPrwYXyhXgU6omOIPXGybFdEyVT5OMFQswxUz6AQe5vXBXu_9tJYFy9igqGR--rt7gip3KVkvBUyVYVO=s0\" style=\"width: 200px;\"/></a>"
      ],
      "text/plain": [
       "<IPython.core.display.HTML object>"
      ]
     },
     "metadata": {},
     "output_type": "display_data"
    },
    {
     "name": "stdout",
     "output_type": "stream",
     "text": [
      "Jacob Cats (1741-1799)\n",
      "\n",
      "RP-T-1990-12\n",
      "Visit to a Flower Nursery\n"
     ]
    },
    {
     "data": {
      "text/html": [
       "<a target=\"_new\" href=\"https://lh6.ggpht.com/pr921bHCnESxuMjFT0Aq9QvSn5zq30Q-eJ32NBGS5fBk5wgwSw9UdYkoWDbL5RqxEBYfHchuNp97WNp46i0_-K0r1BcP=s0\"><img src=\"https://lh6.ggpht.com/pr921bHCnESxuMjFT0Aq9QvSn5zq30Q-eJ32NBGS5fBk5wgwSw9UdYkoWDbL5RqxEBYfHchuNp97WNp46i0_-K0r1BcP=s0\" style=\"width: 200px;\"/></a>"
      ],
      "text/plain": [
       "<IPython.core.display.HTML object>"
      ]
     },
     "metadata": {},
     "output_type": "display_data"
    },
    {
     "name": "stdout",
     "output_type": "stream",
     "text": [
      "Jacob Cats (1741-1799)\n",
      "\n",
      "SK-A-2284\n",
      "Markt te Beauvais\n"
     ]
    },
    {
     "data": {
      "text/html": [
       "<a target=\"_new\" href=\"https://lh4.ggpht.com/NmSKKiOQH1b_R9wWFEt8Vw6Hn_owVoFFmhN5uOOv_cXP46eUjwEBE_rpbDXzwiNT4JkablYqz190qje3p2Ag7qJfdP4=s0\"><img src=\"https://lh4.ggpht.com/NmSKKiOQH1b_R9wWFEt8Vw6Hn_owVoFFmhN5uOOv_cXP46eUjwEBE_rpbDXzwiNT4JkablYqz190qje3p2Ag7qJfdP4=s0\" style=\"width: 200px;\"/></a>"
      ],
      "text/plain": [
       "<IPython.core.display.HTML object>"
      ]
     },
     "metadata": {},
     "output_type": "display_data"
    },
    {
     "name": "stdout",
     "output_type": "stream",
     "text": [
      "Siebe Johannes ten Cate\n",
      "\n",
      "SK-A-2285\n",
      "Bosvijver\n"
     ]
    },
    {
     "data": {
      "text/html": [
       "<a target=\"_new\" href=\"https://lh3.ggpht.com/GD0oQIY5Trb3W4V-SouMPck2VYoZiAB44dFddfHLRwiDkDmIaNogg-LNpkjnoIpt88ciKiK8g9zh8QqRtSiBDdVtRQo=s0\"><img src=\"https://lh3.ggpht.com/GD0oQIY5Trb3W4V-SouMPck2VYoZiAB44dFddfHLRwiDkDmIaNogg-LNpkjnoIpt88ciKiK8g9zh8QqRtSiBDdVtRQo=s0\" style=\"width: 200px;\"/></a>"
      ],
      "text/plain": [
       "<IPython.core.display.HTML object>"
      ]
     },
     "metadata": {},
     "output_type": "display_data"
    },
    {
     "name": "stdout",
     "output_type": "stream",
     "text": [
      "Siebe Johannes ten Cate\n",
      "\n",
      "RP-T-1914-1\n",
      "Scharretje\n"
     ]
    },
    {
     "data": {
      "text/html": [
       "<a target=\"_new\" href=\"https://lh4.ggpht.com/lGCLhzYN-S3mpSaqtV7H0lyJO2HSnGgco3sbIFfbIiswxmmPAK1HJdd2G3fIR5fZO9wO7unAF9tblSW8OkXxZ1SCnA=s0\"><img src=\"https://lh4.ggpht.com/lGCLhzYN-S3mpSaqtV7H0lyJO2HSnGgco3sbIFfbIiswxmmPAK1HJdd2G3fIR5fZO9wO7unAF9tblSW8OkXxZ1SCnA=s0\" style=\"width: 200px;\"/></a>"
      ],
      "text/plain": [
       "<IPython.core.display.HTML object>"
      ]
     },
     "metadata": {},
     "output_type": "display_data"
    },
    {
     "name": "stdout",
     "output_type": "stream",
     "text": [
      "Hendrik Gerrit ten Cate\n",
      "\n",
      "RP-T-1921-434\n",
      "Dorpsfeest bij een herberg aan de duinen\n"
     ]
    },
    {
     "data": {
      "text/html": [
       "<a target=\"_new\" href=\"https://lh5.ggpht.com/2C-jyHDxcP0taUzaRPvTckVwaw8xyE2t1M6Y0tUcfjWuLHPDOrHcVHWKJPAxvP5J17_9Hf7rTwAcHJRlLu_z9dkZsA=s0\"><img src=\"https://lh5.ggpht.com/2C-jyHDxcP0taUzaRPvTckVwaw8xyE2t1M6Y0tUcfjWuLHPDOrHcVHWKJPAxvP5J17_9Hf7rTwAcHJRlLu_z9dkZsA=s0\" style=\"width: 200px;\"/></a>"
      ],
      "text/plain": [
       "<IPython.core.display.HTML object>"
      ]
     },
     "metadata": {},
     "output_type": "display_data"
    },
    {
     "name": "stdout",
     "output_type": "stream",
     "text": [
      "Hendrik Gerrit ten Cate\n",
      "\n",
      "RP-T-2009-11\n",
      "De Tafelberg in het landschap, gezien vanaf het Sint-Janskerkhof bij Laren\n"
     ]
    },
    {
     "data": {
      "text/html": [
       "<a target=\"_new\" href=\"https://lh3.googleusercontent.com/40irvxSOjNm6noZoagd5wIOoI-r0izTWVknEns4pUzjZ3QsgkTimyMtAEUVLstcE07013nRO7fWqvjFxHLqxurzG1AQ=s0\"><img src=\"https://lh3.googleusercontent.com/40irvxSOjNm6noZoagd5wIOoI-r0izTWVknEns4pUzjZ3QsgkTimyMtAEUVLstcE07013nRO7fWqvjFxHLqxurzG1AQ=s0\" style=\"width: 200px;\"/></a>"
      ],
      "text/plain": [
       "<IPython.core.display.HTML object>"
      ]
     },
     "metadata": {},
     "output_type": "display_data"
    },
    {
     "name": "stdout",
     "output_type": "stream",
     "text": [
      "Jacob Cats (1741-1799)\n",
      "\n",
      "RP-T-2009-8\n",
      "Gezicht van de Tafelberg met op de voorgrond Blaricum\n"
     ]
    },
    {
     "data": {
      "text/html": [
       "<a target=\"_new\" href=\"https://lh3.googleusercontent.com/E_ouf2t8A5lQ2p6CuZdQq1xQa_fUaFVdMpvt7ybZD315qDKampBBz8YiC0tdBvyRFHPxoutn-aUuEjwcILzKdNlbPtU=s0\"><img src=\"https://lh3.googleusercontent.com/E_ouf2t8A5lQ2p6CuZdQq1xQa_fUaFVdMpvt7ybZD315qDKampBBz8YiC0tdBvyRFHPxoutn-aUuEjwcILzKdNlbPtU=s0\" style=\"width: 200px;\"/></a>"
      ],
      "text/plain": [
       "<IPython.core.display.HTML object>"
      ]
     },
     "metadata": {},
     "output_type": "display_data"
    },
    {
     "name": "stdout",
     "output_type": "stream",
     "text": [
      "Jacob Cats (1741-1799)\n",
      "\n",
      "RP-T-1992-13\n",
      "Zomer, middag en lucht\n"
     ]
    },
    {
     "data": {
      "text/html": [
       "<a target=\"_new\" href=\"https://lh4.ggpht.com/zhyikfhZkc0BnG3q0gL2rxANNpv76PJ7cM8zefNs6sNISbfJT0rF7bBRwb-N0mdwz1FzlgY6bn53UO-6sWNWKYGWcwA=s0\"><img src=\"https://lh4.ggpht.com/zhyikfhZkc0BnG3q0gL2rxANNpv76PJ7cM8zefNs6sNISbfJT0rF7bBRwb-N0mdwz1FzlgY6bn53UO-6sWNWKYGWcwA=s0\" style=\"width: 200px;\"/></a>"
      ],
      "text/plain": [
       "<IPython.core.display.HTML object>"
      ]
     },
     "metadata": {},
     "output_type": "display_data"
    },
    {
     "name": "stdout",
     "output_type": "stream",
     "text": [
      "Jacob Cats (1741-1799)\n",
      "\n",
      "RP-T-1992-12\n",
      "Lente, morgen en aarde\n"
     ]
    },
    {
     "data": {
      "text/html": [
       "<a target=\"_new\" href=\"https://lh4.ggpht.com/5enQohkp8PCY8JmcQUZ65ZHZx4hAoG5iKahTPNLdoYjYIu4jxWTyzMPz06oDH7TVoiusNRCFt5bt5In5t-jGPO9xH7s=s0\"><img src=\"https://lh4.ggpht.com/5enQohkp8PCY8JmcQUZ65ZHZx4hAoG5iKahTPNLdoYjYIu4jxWTyzMPz06oDH7TVoiusNRCFt5bt5In5t-jGPO9xH7s=s0\" style=\"width: 200px;\"/></a>"
      ],
      "text/plain": [
       "<IPython.core.display.HTML object>"
      ]
     },
     "metadata": {},
     "output_type": "display_data"
    },
    {
     "name": "stdout",
     "output_type": "stream",
     "text": [
      "Jacob Cats (1741-1799)\n",
      "\n",
      "RP-T-1992-15\n",
      "Winter, nacht en vuur\n"
     ]
    },
    {
     "data": {
      "text/html": [
       "<a target=\"_new\" href=\"https://lh3.ggpht.com/9Wz6XRPYIppZ-GDxpeP87AYZxpMEqZ4uIBErcHng2wJbw4qBbyUhtFTFdSHL-t5jlfTz46-UzuGlXP9jU6tswTOY2w=s0\"><img src=\"https://lh3.ggpht.com/9Wz6XRPYIppZ-GDxpeP87AYZxpMEqZ4uIBErcHng2wJbw4qBbyUhtFTFdSHL-t5jlfTz46-UzuGlXP9jU6tswTOY2w=s0\" style=\"width: 200px;\"/></a>"
      ],
      "text/plain": [
       "<IPython.core.display.HTML object>"
      ]
     },
     "metadata": {},
     "output_type": "display_data"
    },
    {
     "name": "stdout",
     "output_type": "stream",
     "text": [
      "Jacob Cats (1741-1799)\n",
      "\n",
      "RP-T-1992-14\n",
      "Herfst, avond en water\n"
     ]
    },
    {
     "data": {
      "text/html": [
       "<a target=\"_new\" href=\"https://lh4.ggpht.com/w5ahBSgynDhcebEGXVy4NYbhL-lo2O2X_M1s-bFrIXsKKuCb7eI-WiGR_bAtHh8rbuMA8emTh9tr7-KTvnN7dj70_Wk=s0\"><img src=\"https://lh4.ggpht.com/w5ahBSgynDhcebEGXVy4NYbhL-lo2O2X_M1s-bFrIXsKKuCb7eI-WiGR_bAtHh8rbuMA8emTh9tr7-KTvnN7dj70_Wk=s0\" style=\"width: 200px;\"/></a>"
      ],
      "text/plain": [
       "<IPython.core.display.HTML object>"
      ]
     },
     "metadata": {},
     "output_type": "display_data"
    },
    {
     "name": "stdout",
     "output_type": "stream",
     "text": [
      "Jacob Cats (1741-1799)\n",
      "\n",
      "RP-T-1987-50\n",
      "Heuvellandschap met varkenshoeder en andere stoffage, een rivier in de verte\n"
     ]
    },
    {
     "data": {
      "text/html": [
       "<a target=\"_new\" href=\"https://lh5.ggpht.com/i35vFAjL1TbSd8UiSmjYLapkLY6fwzUTTXjC5KjagMQq-hU5qgt4z6i-ozrNmY3jaw285QAA15LlOfKAtZfpMKZWVO1h=s0\"><img src=\"https://lh5.ggpht.com/i35vFAjL1TbSd8UiSmjYLapkLY6fwzUTTXjC5KjagMQq-hU5qgt4z6i-ozrNmY3jaw285QAA15LlOfKAtZfpMKZWVO1h=s0\" style=\"width: 200px;\"/></a>"
      ],
      "text/plain": [
       "<IPython.core.display.HTML object>"
      ]
     },
     "metadata": {},
     "output_type": "display_data"
    },
    {
     "name": "stdout",
     "output_type": "stream",
     "text": [
      "Jacob Cats (1741-1799)\n",
      "\n",
      "RP-T-FM-20\n",
      "Zomerlandschap met herder met twee koeien en schapen\n"
     ]
    },
    {
     "data": {
      "text/html": [
       "<a target=\"_new\" href=\"https://lh3.ggpht.com/Zq4ZaxWslATF2NGvO3SHuPKAB0hkfw11rbbHHU0c4CxYNXW8aXCtGmhcqcsWOJg-Xfq8KxrFir_W-LschD95flrdUEQ=s0\"><img src=\"https://lh3.ggpht.com/Zq4ZaxWslATF2NGvO3SHuPKAB0hkfw11rbbHHU0c4CxYNXW8aXCtGmhcqcsWOJg-Xfq8KxrFir_W-LschD95flrdUEQ=s0\" style=\"width: 200px;\"/></a>"
      ],
      "text/plain": [
       "<IPython.core.display.HTML object>"
      ]
     },
     "metadata": {},
     "output_type": "display_data"
    },
    {
     "name": "stdout",
     "output_type": "stream",
     "text": [
      "Jacob Cats (1741-1799)\n",
      "\n",
      "RP-T-1907-64\n",
      "Herberg voor een brug\n"
     ]
    },
    {
     "data": {
      "text/html": [
       "<a target=\"_new\" href=\"https://lh4.ggpht.com/M-GUSy8wXF9yVvV8569H_wnONiIplkTFIP7bXXBeZChzZehUPF5mOM4pskv62m-qhmqJm0R34lRWmKEDecFDCSPn3QBg=s0\"><img src=\"https://lh4.ggpht.com/M-GUSy8wXF9yVvV8569H_wnONiIplkTFIP7bXXBeZChzZehUPF5mOM4pskv62m-qhmqJm0R34lRWmKEDecFDCSPn3QBg=s0\" style=\"width: 200px;\"/></a>"
      ],
      "text/plain": [
       "<IPython.core.display.HTML object>"
      ]
     },
     "metadata": {},
     "output_type": "display_data"
    },
    {
     "name": "stdout",
     "output_type": "stream",
     "text": [
      "Jacob Cats (1741-1799)\n",
      "\n",
      "RP-T-1899-A-4223\n",
      "De vrienden vertrekken van het huis van Haazel\n"
     ]
    },
    {
     "data": {
      "text/html": [
       "<a target=\"_new\" href=\"https://lh4.ggpht.com/E3YzHkbg4911nicT4rKpmcFKsFYfJ1Vh-hrjE4AlmDQ0GbzJx0PnlbP_dp9gLqX0sovCbWlLpifJ7gVFPl-LguthZ0g=s0\"><img src=\"https://lh4.ggpht.com/E3YzHkbg4911nicT4rKpmcFKsFYfJ1Vh-hrjE4AlmDQ0GbzJx0PnlbP_dp9gLqX0sovCbWlLpifJ7gVFPl-LguthZ0g=s0\" style=\"width: 200px;\"/></a>"
      ],
      "text/plain": [
       "<IPython.core.display.HTML object>"
      ]
     },
     "metadata": {},
     "output_type": "display_data"
    },
    {
     "name": "stdout",
     "output_type": "stream",
     "text": [
      "Jacob Cats (1741-1799)\n",
      "\n",
      "RP-T-1946-68\n",
      "De schuttersmaaltijd in de Voetboogdoelen te Amsterdam ter viering van het sluiten van de vrede van Munster, 18 juni 1648\n"
     ]
    },
    {
     "data": {
      "text/html": [
       "<a target=\"_new\" href=\"https://lh5.ggpht.com/o00Gov66C764Wp8wT4o8ncMbsFeJcyM5i21osmorlMYKA8ePorKtDAEwozDSKcmjnEeP3EbX2ByZ6K3ZWZ2sAvCkYLU=s0\"><img src=\"https://lh5.ggpht.com/o00Gov66C764Wp8wT4o8ncMbsFeJcyM5i21osmorlMYKA8ePorKtDAEwozDSKcmjnEeP3EbX2ByZ6K3ZWZ2sAvCkYLU=s0\" style=\"width: 200px;\"/></a>"
      ],
      "text/plain": [
       "<IPython.core.display.HTML object>"
      ]
     },
     "metadata": {},
     "output_type": "display_data"
    },
    {
     "name": "stdout",
     "output_type": "stream",
     "text": [
      "Jacob Cats (1741-1799)\n",
      "\n",
      "RP-T-1921-96\n",
      "Dorpsgezicht met enkele personen op een brug\n"
     ]
    },
    {
     "data": {
      "text/html": [
       "<a target=\"_new\" href=\"https://lh5.ggpht.com/_8lAuIBLoLd2uhbNlKXDUmrXLkBtTBC7qU0oWmgED9qCah4Ii7kKXAng4R-ShQRxYeB_OToYgbTZZ7ddHYpQLN6CAZyI=s0\"><img src=\"https://lh5.ggpht.com/_8lAuIBLoLd2uhbNlKXDUmrXLkBtTBC7qU0oWmgED9qCah4Ii7kKXAng4R-ShQRxYeB_OToYgbTZZ7ddHYpQLN6CAZyI=s0\" style=\"width: 200px;\"/></a>"
      ],
      "text/plain": [
       "<IPython.core.display.HTML object>"
      ]
     },
     "metadata": {},
     "output_type": "display_data"
    },
    {
     "name": "stdout",
     "output_type": "stream",
     "text": [
      "Jacob Cats (1741-1799)\n",
      "\n",
      "RP-T-1933-16\n",
      "Landschap met schaapherder\n"
     ]
    },
    {
     "data": {
      "text/html": [
       "<a target=\"_new\" href=\"https://lh6.ggpht.com/8QHsGMGa90Cq5OfpEfAEoHvwFdnKvQaVDuDWCn4u0VvPS2j4dkJPtP8XK94gfzr1AvMDHD8Wz8xIsOZCgzaWKUc_ZwZf=s0\"><img src=\"https://lh6.ggpht.com/8QHsGMGa90Cq5OfpEfAEoHvwFdnKvQaVDuDWCn4u0VvPS2j4dkJPtP8XK94gfzr1AvMDHD8Wz8xIsOZCgzaWKUc_ZwZf=s0\" style=\"width: 200px;\"/></a>"
      ],
      "text/plain": [
       "<IPython.core.display.HTML object>"
      ]
     },
     "metadata": {},
     "output_type": "display_data"
    },
    {
     "name": "stdout",
     "output_type": "stream",
     "text": [
      "Jacob Cats (1741-1799)\n",
      "\n",
      "RP-T-1907-63\n",
      "Kolfspelers bij een herberg aan een water\n"
     ]
    },
    {
     "data": {
      "text/html": [
       "<a target=\"_new\" href=\"https://lh6.ggpht.com/dhj7vtwoCmN3mZ_sCMcPOV9QLALPnuzgM7X5KSYel21ckfgJlwztFi9h3oeBbrkDjG0Slcs9kfg2mOr5IBpvKeRh35wa=s0\"><img src=\"https://lh6.ggpht.com/dhj7vtwoCmN3mZ_sCMcPOV9QLALPnuzgM7X5KSYel21ckfgJlwztFi9h3oeBbrkDjG0Slcs9kfg2mOr5IBpvKeRh35wa=s0\" style=\"width: 200px;\"/></a>"
      ],
      "text/plain": [
       "<IPython.core.display.HTML object>"
      ]
     },
     "metadata": {},
     "output_type": "display_data"
    },
    {
     "name": "stdout",
     "output_type": "stream",
     "text": [
      "Jacob Cats (1741-1799)\n",
      "\n",
      "RP-T-1919-40\n",
      "Landschap met vissers in een bootje en hooiwagen op een bruggetje\n"
     ]
    },
    {
     "data": {
      "text/html": [
       "<a target=\"_new\" href=\"https://lh3.ggpht.com/AJKCKsyPRhZ9wxmuvmf1fKnFpn_QU58Ph8bb9oyhq-A0GKsM3jeffUxJv3b23LbqGCuyf65khSyAR6bgH3A4VONa6d8=s0\"><img src=\"https://lh3.ggpht.com/AJKCKsyPRhZ9wxmuvmf1fKnFpn_QU58Ph8bb9oyhq-A0GKsM3jeffUxJv3b23LbqGCuyf65khSyAR6bgH3A4VONa6d8=s0\" style=\"width: 200px;\"/></a>"
      ],
      "text/plain": [
       "<IPython.core.display.HTML object>"
      ]
     },
     "metadata": {},
     "output_type": "display_data"
    },
    {
     "name": "stdout",
     "output_type": "stream",
     "text": [
      "Jacob Cats (1741-1799)\n",
      "\n",
      "RP-T-1893-A-2772\n",
      "Muiderberg, van de Hooge Weg af gezien\n"
     ]
    },
    {
     "data": {
      "text/html": [
       "<a target=\"_new\" href=\"https://lh4.ggpht.com/ohjEdk1KwF4B34jDsIReKOCsr48Dl1YPvL_9yPiUf1PqXhtCF1t_P8sGmzkq1kAd5y_5WCbONIf0oIbjGE0xavNZl54=s0\"><img src=\"https://lh4.ggpht.com/ohjEdk1KwF4B34jDsIReKOCsr48Dl1YPvL_9yPiUf1PqXhtCF1t_P8sGmzkq1kAd5y_5WCbONIf0oIbjGE0xavNZl54=s0\" style=\"width: 200px;\"/></a>"
      ],
      "text/plain": [
       "<IPython.core.display.HTML object>"
      ]
     },
     "metadata": {},
     "output_type": "display_data"
    },
    {
     "name": "stdout",
     "output_type": "stream",
     "text": [
      "Jacob Cats (1741-1799)\n",
      "\n",
      "RP-T-1893-A-2771\n",
      "De schilderskroeg Zeeburg te Muiderberg\n"
     ]
    },
    {
     "data": {
      "text/html": [
       "<a target=\"_new\" href=\"https://lh6.ggpht.com/zlW3g-xKclpwyTMxXYlsQZQPcBQsG_W9cf2YWUoMPWIPiddpj56OCmw1eK8CzysIDXYmMTSCtjdCkcD-9uHlwkIlsqE=s0\"><img src=\"https://lh6.ggpht.com/zlW3g-xKclpwyTMxXYlsQZQPcBQsG_W9cf2YWUoMPWIPiddpj56OCmw1eK8CzysIDXYmMTSCtjdCkcD-9uHlwkIlsqE=s0\" style=\"width: 200px;\"/></a>"
      ],
      "text/plain": [
       "<IPython.core.display.HTML object>"
      ]
     },
     "metadata": {},
     "output_type": "display_data"
    },
    {
     "name": "stdout",
     "output_type": "stream",
     "text": [
      "Jacob Cats (1741-1799)\n",
      "\n",
      "RP-T-1921-433\n",
      "Dorpsfeest\n"
     ]
    },
    {
     "data": {
      "text/html": [
       "<a target=\"_new\" href=\"https://lh3.ggpht.com/LQN9KRd6GjCoCEJ_wnqchcdmyQbxIWcn0AfTKZpWKXVrjNu6bTfVUufDWxZSoBAfQBHJg-G172v8sldbyc186pF4ng=s0\"><img src=\"https://lh3.ggpht.com/LQN9KRd6GjCoCEJ_wnqchcdmyQbxIWcn0AfTKZpWKXVrjNu6bTfVUufDWxZSoBAfQBHJg-G172v8sldbyc186pF4ng=s0\" style=\"width: 200px;\"/></a>"
      ],
      "text/plain": [
       "<IPython.core.display.HTML object>"
      ]
     },
     "metadata": {},
     "output_type": "display_data"
    },
    {
     "name": "stdout",
     "output_type": "stream",
     "text": [
      "Hendrik Gerrit ten Cate\n",
      "\n",
      "RP-T-1894-A-2866\n",
      "Sloten, gezien vanaf de Osdorperweg\n"
     ]
    },
    {
     "data": {
      "text/html": [
       "<a target=\"_new\" href=\"https://lh6.ggpht.com/C1KFa8NeBQ2VLSKGMoPy-UaOp0fYfv56_ZeBOE_7y6mZIHoRKZZ7INMHLpDK68lSwJ7NKfDzIymGi2U_mGbNUd1dHwWU=s0\"><img src=\"https://lh6.ggpht.com/C1KFa8NeBQ2VLSKGMoPy-UaOp0fYfv56_ZeBOE_7y6mZIHoRKZZ7INMHLpDK68lSwJ7NKfDzIymGi2U_mGbNUd1dHwWU=s0\" style=\"width: 200px;\"/></a>"
      ],
      "text/plain": [
       "<IPython.core.display.HTML object>"
      ]
     },
     "metadata": {},
     "output_type": "display_data"
    },
    {
     "name": "stdout",
     "output_type": "stream",
     "text": [
      "Hendrik Gerrit ten Cate\n",
      "\n",
      "RP-T-FM-18\n",
      "Boerderijen te Beek, boven Nijmegen\n"
     ]
    },
    {
     "data": {
      "text/html": [
       "<a target=\"_new\" href=\"https://lh4.ggpht.com/7kv-H71yJu9jkVyC4IJ1fuhNbgo3LJneTOqfJTwMIVVy1-fL6Q-ysm0R7PZc1Mi9XFAh2Zyb8T8cOoQ5KecNGnQZiEI=s0\"><img src=\"https://lh4.ggpht.com/7kv-H71yJu9jkVyC4IJ1fuhNbgo3LJneTOqfJTwMIVVy1-fL6Q-ysm0R7PZc1Mi9XFAh2Zyb8T8cOoQ5KecNGnQZiEI=s0\" style=\"width: 200px;\"/></a>"
      ],
      "text/plain": [
       "<IPython.core.display.HTML object>"
      ]
     },
     "metadata": {},
     "output_type": "display_data"
    },
    {
     "name": "stdout",
     "output_type": "stream",
     "text": [
      "Hendrik Gerrit ten Cate\n",
      "\n",
      "RP-T-1921-169\n",
      "Festival in de Haarlemmer hout\n"
     ]
    },
    {
     "data": {
      "text/html": [
       "<a target=\"_new\" href=\"https://lh3.googleusercontent.com/uU-DbUAJt1E2z0Gk81tk6ASU_dfMAOE-OvE_gFAeM_PRkpGTPqqq-38NQrWWgRs8dlF3ictB4Bd4m1_0ZzcMeEzWdQQ=s0\"><img src=\"https://lh3.googleusercontent.com/uU-DbUAJt1E2z0Gk81tk6ASU_dfMAOE-OvE_gFAeM_PRkpGTPqqq-38NQrWWgRs8dlF3ictB4Bd4m1_0ZzcMeEzWdQQ=s0\" style=\"width: 200px;\"/></a>"
      ],
      "text/plain": [
       "<IPython.core.display.HTML object>"
      ]
     },
     "metadata": {},
     "output_type": "display_data"
    },
    {
     "name": "stdout",
     "output_type": "stream",
     "text": [
      "Hendrik Gerrit ten Cate\n",
      "\n",
      "RP-T-1941-18\n",
      "Moerassig landschap buiten een stad\n"
     ]
    },
    {
     "data": {
      "text/html": [
       "<a target=\"_new\" href=\"https://lh3.ggpht.com/zLuHNX_LqkD0nZShDlRN-xVb4aUDSx3W5324dtikQ0z1iXjoZwIcV4RanQd7P1ANzhLeC4c6nl3E0-yF2uwldFKnJtY8=s0\"><img src=\"https://lh3.ggpht.com/zLuHNX_LqkD0nZShDlRN-xVb4aUDSx3W5324dtikQ0z1iXjoZwIcV4RanQd7P1ANzhLeC4c6nl3E0-yF2uwldFKnJtY8=s0\" style=\"width: 200px;\"/></a>"
      ],
      "text/plain": [
       "<IPython.core.display.HTML object>"
      ]
     },
     "metadata": {},
     "output_type": "display_data"
    },
    {
     "name": "stdout",
     "output_type": "stream",
     "text": [
      "Hendrik Gerrit ten Cate\n",
      "\n",
      "RP-T-1889-A-2005\n",
      "Poortgebouw bij kasteel Zuilenstein bij Amerongen\n"
     ]
    },
    {
     "data": {
      "text/html": [
       "<a target=\"_new\" href=\"https://lh5.ggpht.com/5l7s3tsIzvPzF9zEL0flTBozv1idRVhC4AgVY_uJ9D-Fke180dZ5RQHxPWbqDvD7B2huN6KVuRth-wMyhBQYaIv5iV8=s0\"><img src=\"https://lh5.ggpht.com/5l7s3tsIzvPzF9zEL0flTBozv1idRVhC4AgVY_uJ9D-Fke180dZ5RQHxPWbqDvD7B2huN6KVuRth-wMyhBQYaIv5iV8=s0\" style=\"width: 200px;\"/></a>"
      ],
      "text/plain": [
       "<IPython.core.display.HTML object>"
      ]
     },
     "metadata": {},
     "output_type": "display_data"
    },
    {
     "name": "stdout",
     "output_type": "stream",
     "text": [
      "Hendrik Gerrit ten Cate\n",
      "\n",
      "RP-T-1891-A-2474\n",
      "Landschap met boerenwoning bij water\n"
     ]
    },
    {
     "data": {
      "text/html": [
       "<a target=\"_new\" href=\"https://lh4.ggpht.com/C2xg49KrKYhYipGVYaxYFIarqYV_FsJ9gLDjhU1YWSvG16LAupxr9IlWOjl8_dFXhLMjavJrR0_-_xBtKuKuTF_G2pu_=s0\"><img src=\"https://lh4.ggpht.com/C2xg49KrKYhYipGVYaxYFIarqYV_FsJ9gLDjhU1YWSvG16LAupxr9IlWOjl8_dFXhLMjavJrR0_-_xBtKuKuTF_G2pu_=s0\" style=\"width: 200px;\"/></a>"
      ],
      "text/plain": [
       "<IPython.core.display.HTML object>"
      ]
     },
     "metadata": {},
     "output_type": "display_data"
    },
    {
     "name": "stdout",
     "output_type": "stream",
     "text": [
      "Hendrik Gerrit ten Cate\n",
      "\n",
      "RP-T-1892-A-2556\n",
      "Winterlandschap met poort tussen bomen\n"
     ]
    },
    {
     "data": {
      "text/html": [
       "<a target=\"_new\" href=\"https://lh3.googleusercontent.com/pH19iRMIIfXbktg_qKEgXK19EIwU7hS7Fp329VTzA2R9Ht2DHRe0tO1CyL0Ioj1Hn8CWVKW_3a1zjFdiFm0TaVDk-hM=s0\"><img src=\"https://lh3.googleusercontent.com/pH19iRMIIfXbktg_qKEgXK19EIwU7hS7Fp329VTzA2R9Ht2DHRe0tO1CyL0Ioj1Hn8CWVKW_3a1zjFdiFm0TaVDk-hM=s0\" style=\"width: 200px;\"/></a>"
      ],
      "text/plain": [
       "<IPython.core.display.HTML object>"
      ]
     },
     "metadata": {},
     "output_type": "display_data"
    },
    {
     "name": "stdout",
     "output_type": "stream",
     "text": [
      "Hendrik Gerrit ten Cate\n",
      "\n",
      "RP-T-1919-42\n",
      "Landschap met vee en boer met emmer\n"
     ]
    },
    {
     "data": {
      "text/html": [
       "<a target=\"_new\" href=\"https://lh4.ggpht.com/MWNRLnHZ1C08RoMn_B_h17eFwVlPzeKE5zQnfIqvYSYLmTNx_kFfibWjDzNqSPcR53Mn5FkOjeJEmt0DqL-WO-zOIcc=s0\"><img src=\"https://lh4.ggpht.com/MWNRLnHZ1C08RoMn_B_h17eFwVlPzeKE5zQnfIqvYSYLmTNx_kFfibWjDzNqSPcR53Mn5FkOjeJEmt0DqL-WO-zOIcc=s0\" style=\"width: 200px;\"/></a>"
      ],
      "text/plain": [
       "<IPython.core.display.HTML object>"
      ]
     },
     "metadata": {},
     "output_type": "display_data"
    },
    {
     "name": "stdout",
     "output_type": "stream",
     "text": [
      "Jacob Cats (1741-1799)\n",
      "\n",
      "RP-T-1964-58\n",
      "Straattafereel in Beverwijk\n"
     ]
    },
    {
     "data": {
      "text/html": [
       "<a target=\"_new\" href=\"https://lh5.ggpht.com/wyaV3cqyTV6hZ40uQGV9JwAFDeu_8ChaOL2ymqXPXcq7hClZjb8p0bjxx6KtFT5A5OottF7SlDv0mUWVrawcq6xb9Q=s0\"><img src=\"https://lh5.ggpht.com/wyaV3cqyTV6hZ40uQGV9JwAFDeu_8ChaOL2ymqXPXcq7hClZjb8p0bjxx6KtFT5A5OottF7SlDv0mUWVrawcq6xb9Q=s0\" style=\"width: 200px;\"/></a>"
      ],
      "text/plain": [
       "<IPython.core.display.HTML object>"
      ]
     },
     "metadata": {},
     "output_type": "display_data"
    },
    {
     "name": "stdout",
     "output_type": "stream",
     "text": [
      "Jacob Cats (1741-1799)\n",
      "\n",
      "RP-T-1938-127\n",
      "Halte voor een herberg in zomertijd\n"
     ]
    },
    {
     "data": {
      "text/html": [
       "<a target=\"_new\" href=\"https://lh5.ggpht.com/HhgG_ftWJUn1U__3NDsv71F4jkOpnBhTz0xZFgbe5bnnwukUgOx0tMGd0Zb4g8pHMA7RX0YYufUWyzd3Uunr7GDrfw=s0\"><img src=\"https://lh5.ggpht.com/HhgG_ftWJUn1U__3NDsv71F4jkOpnBhTz0xZFgbe5bnnwukUgOx0tMGd0Zb4g8pHMA7RX0YYufUWyzd3Uunr7GDrfw=s0\" style=\"width: 200px;\"/></a>"
      ],
      "text/plain": [
       "<IPython.core.display.HTML object>"
      ]
     },
     "metadata": {},
     "output_type": "display_data"
    },
    {
     "name": "stdout",
     "output_type": "stream",
     "text": [
      "Jacob Cats (1741-1799)\n",
      "\n",
      "RP-T-1891-A-2441\n",
      "Landschap met herder en vee onder boom bij water\n"
     ]
    },
    {
     "data": {
      "text/html": [
       "<a target=\"_new\" href=\"https://lh4.ggpht.com/ZQCF-azLt_Ugxg8VbsDnlr6xl4GCzwiTOBXKuWni7MbaP1O1ydJhbW-BN7Zo3kvYTjPLdZFdrKUMdHgCgd6NkgRgRmo=s0\"><img src=\"https://lh4.ggpht.com/ZQCF-azLt_Ugxg8VbsDnlr6xl4GCzwiTOBXKuWni7MbaP1O1ydJhbW-BN7Zo3kvYTjPLdZFdrKUMdHgCgd6NkgRgRmo=s0\" style=\"width: 200px;\"/></a>"
      ],
      "text/plain": [
       "<IPython.core.display.HTML object>"
      ]
     },
     "metadata": {},
     "output_type": "display_data"
    },
    {
     "name": "stdout",
     "output_type": "stream",
     "text": [
      "Jacob Cats (1741-1799)\n",
      "\n",
      "RP-T-1921-95\n",
      "Dorpsgezicht met enkele personen voor een huis\n"
     ]
    },
    {
     "data": {
      "text/html": [
       "<a target=\"_new\" href=\"https://lh4.ggpht.com/RJCIGcuxRi71d1VEkDC6eoSqILSfldenT9SrH9AT1zibkVkaCZBWbt0L1EB0eiNcHmuXYj7Gxf7b1eeYgnOByp8hKVI=s0\"><img src=\"https://lh4.ggpht.com/RJCIGcuxRi71d1VEkDC6eoSqILSfldenT9SrH9AT1zibkVkaCZBWbt0L1EB0eiNcHmuXYj7Gxf7b1eeYgnOByp8hKVI=s0\" style=\"width: 200px;\"/></a>"
      ],
      "text/plain": [
       "<IPython.core.display.HTML object>"
      ]
     },
     "metadata": {},
     "output_type": "display_data"
    },
    {
     "name": "stdout",
     "output_type": "stream",
     "text": [
      "Jacob Cats (1741-1799)\n",
      "\n",
      "RP-T-1882-A-169(R)\n",
      "Edammerpoort te Purmerend\n"
     ]
    },
    {
     "data": {
      "text/html": [
       "<a target=\"_new\" href=\"https://lh4.ggpht.com/3hHNnbB24DINsfmscRJo65LyZQ6K1bnarviuPqk9SoFLeRWjbRbHGKgm9ZE6q2zOWnFgpPoawF2iINgvu2dLh_ykDg=s0\"><img src=\"https://lh4.ggpht.com/3hHNnbB24DINsfmscRJo65LyZQ6K1bnarviuPqk9SoFLeRWjbRbHGKgm9ZE6q2zOWnFgpPoawF2iINgvu2dLh_ykDg=s0\" style=\"width: 200px;\"/></a>"
      ],
      "text/plain": [
       "<IPython.core.display.HTML object>"
      ]
     },
     "metadata": {},
     "output_type": "display_data"
    },
    {
     "name": "stdout",
     "output_type": "stream",
     "text": [
      "Jacob Cats (1741-1799)\n",
      "\n",
      "RP-T-1907-66\n",
      "Dorpsgezicht met vrouw met juk\n"
     ]
    },
    {
     "data": {
      "text/html": [
       "<a target=\"_new\" href=\"https://lh5.ggpht.com/Ui4KiN0iJ-sTR4H5rL4Vx5rt8v-s_8ukef0s62Y4kicP7YGv_yz4A1FVaqH7OVW6cotXVkEkbAIluINusJ07IafDkg=s0\"><img src=\"https://lh5.ggpht.com/Ui4KiN0iJ-sTR4H5rL4Vx5rt8v-s_8ukef0s62Y4kicP7YGv_yz4A1FVaqH7OVW6cotXVkEkbAIluINusJ07IafDkg=s0\" style=\"width: 200px;\"/></a>"
      ],
      "text/plain": [
       "<IPython.core.display.HTML object>"
      ]
     },
     "metadata": {},
     "output_type": "display_data"
    },
    {
     "name": "stdout",
     "output_type": "stream",
     "text": [
      "Jacob Cats (1741-1799)\n",
      "\n",
      "RP-T-1919-38\n",
      "Varkenshoeder op weggetje voor een huis\n"
     ]
    },
    {
     "data": {
      "text/html": [
       "<a target=\"_new\" href=\"https://lh6.ggpht.com/wCOtRoIcEKaMNfyjeCFvjD1dA6ECLwthFsLdqtdjVR_bJSgSSfDKK47sZNtJJLJMb_I4IJY-NKoDgAvv3ItxeRPN6DE=s0\"><img src=\"https://lh6.ggpht.com/wCOtRoIcEKaMNfyjeCFvjD1dA6ECLwthFsLdqtdjVR_bJSgSSfDKK47sZNtJJLJMb_I4IJY-NKoDgAvv3ItxeRPN6DE=s0\" style=\"width: 200px;\"/></a>"
      ],
      "text/plain": [
       "<IPython.core.display.HTML object>"
      ]
     },
     "metadata": {},
     "output_type": "display_data"
    },
    {
     "name": "stdout",
     "output_type": "stream",
     "text": [
      "Jacob Cats (1741-1799)\n",
      "\n",
      "RP-T-FM-19\n",
      "Winterlandschap\n"
     ]
    },
    {
     "data": {
      "text/html": [
       "<a target=\"_new\" href=\"https://lh4.ggpht.com/u8JiX5CPtTXkk7WdFh-oVlqifuJNSrxhtAUgxJD8fo9Iwtl6VyMf3tl2OdiDYGZOwgR1TDjNU3T8axAF86rD2pqlwzs=s0\"><img src=\"https://lh4.ggpht.com/u8JiX5CPtTXkk7WdFh-oVlqifuJNSrxhtAUgxJD8fo9Iwtl6VyMf3tl2OdiDYGZOwgR1TDjNU3T8axAF86rD2pqlwzs=s0\" style=\"width: 200px;\"/></a>"
      ],
      "text/plain": [
       "<IPython.core.display.HTML object>"
      ]
     },
     "metadata": {},
     "output_type": "display_data"
    },
    {
     "name": "stdout",
     "output_type": "stream",
     "text": [
      "Jacob Cats (1741-1799)\n",
      "\n",
      "RP-T-1969-193\n",
      "Boerenhuis met landlieden bij hooiwagen en hooiberg\n"
     ]
    },
    {
     "data": {
      "text/html": [
       "<a target=\"_new\" href=\"https://lh3.ggpht.com/jn6l7xvNZvb0Fz0jWO9j_Qfnld98vUnGKEvHUhioY8VmDocPEo5IuSeXFYuDB3KW-kbjjpaNZbxlHBRtxqMoFsEl5is=s0\"><img src=\"https://lh3.ggpht.com/jn6l7xvNZvb0Fz0jWO9j_Qfnld98vUnGKEvHUhioY8VmDocPEo5IuSeXFYuDB3KW-kbjjpaNZbxlHBRtxqMoFsEl5is=s0\" style=\"width: 200px;\"/></a>"
      ],
      "text/plain": [
       "<IPython.core.display.HTML object>"
      ]
     },
     "metadata": {},
     "output_type": "display_data"
    },
    {
     "name": "stdout",
     "output_type": "stream",
     "text": [
      "Jacob Cats (1741-1799)\n",
      "\n",
      "RP-T-1899-A-4222\n",
      "Het verlaten van de herberg\n"
     ]
    },
    {
     "data": {
      "text/html": [
       "<a target=\"_new\" href=\"https://lh6.ggpht.com/L-PCHftU9pgm7wlmB4REDMPQ41Yd3jWse-fqJtVUwlhp2kgGZahmZ4aKCL5ecWM3cONuSprArvW0T1guMzj90meBnVo=s0\"><img src=\"https://lh6.ggpht.com/L-PCHftU9pgm7wlmB4REDMPQ41Yd3jWse-fqJtVUwlhp2kgGZahmZ4aKCL5ecWM3cONuSprArvW0T1guMzj90meBnVo=s0\" style=\"width: 200px;\"/></a>"
      ],
      "text/plain": [
       "<IPython.core.display.HTML object>"
      ]
     },
     "metadata": {},
     "output_type": "display_data"
    },
    {
     "name": "stdout",
     "output_type": "stream",
     "text": [
      "Jacob Cats (1741-1799)\n",
      "\n",
      "RP-T-1919-37\n",
      "Landschap met ophaalbrug en personen voor een herberg\n"
     ]
    },
    {
     "data": {
      "text/html": [
       "<a target=\"_new\" href=\"https://lh5.ggpht.com/yw9TWGPEbn62GDYrUEfExaPozJ_RmAzKYTHt__sADuOChOjBxvA7pNM6KiQzMn3XrC7OhuBdjhWMTapPiG8F9eEDMFZY=s0\"><img src=\"https://lh5.ggpht.com/yw9TWGPEbn62GDYrUEfExaPozJ_RmAzKYTHt__sADuOChOjBxvA7pNM6KiQzMn3XrC7OhuBdjhWMTapPiG8F9eEDMFZY=s0\" style=\"width: 200px;\"/></a>"
      ],
      "text/plain": [
       "<IPython.core.display.HTML object>"
      ]
     },
     "metadata": {},
     "output_type": "display_data"
    },
    {
     "name": "stdout",
     "output_type": "stream",
     "text": [
      "Jacob Cats (1741-1799)\n",
      "\n",
      "RP-T-1921-94\n",
      "Mei\n"
     ]
    },
    {
     "data": {
      "text/html": [
       "<a target=\"_new\" href=\"https://lh3.ggpht.com/1PabsVVQM9xcZJzF1a_hDG4tDb6eZymAp-jW3QkApp4pUezHTrI8hBYpPytmLIaaCym-B2ZVHqkGXgSiqHezvtRTSdA=s0\"><img src=\"https://lh3.ggpht.com/1PabsVVQM9xcZJzF1a_hDG4tDb6eZymAp-jW3QkApp4pUezHTrI8hBYpPytmLIaaCym-B2ZVHqkGXgSiqHezvtRTSdA=s0\" style=\"width: 200px;\"/></a>"
      ],
      "text/plain": [
       "<IPython.core.display.HTML object>"
      ]
     },
     "metadata": {},
     "output_type": "display_data"
    },
    {
     "name": "stdout",
     "output_type": "stream",
     "text": [
      "Jacob Cats (1741-1799)\n",
      "\n",
      "RP-T-1899-A-4204\n",
      "Het Rokin, gezien naar de Munt\n"
     ]
    },
    {
     "data": {
      "text/html": [
       "<a target=\"_new\" href=\"https://lh4.ggpht.com/YtpzxHWp4KsQBoMJYhBpH41xQ5ukmOsFE75ec89oB-2K4j31D5PrNIIweUUc6EmNEIcqMPas8TzwJwVvBdZOOLZYjg=s0\"><img src=\"https://lh4.ggpht.com/YtpzxHWp4KsQBoMJYhBpH41xQ5ukmOsFE75ec89oB-2K4j31D5PrNIIweUUc6EmNEIcqMPas8TzwJwVvBdZOOLZYjg=s0\" style=\"width: 200px;\"/></a>"
      ],
      "text/plain": [
       "<IPython.core.display.HTML object>"
      ]
     },
     "metadata": {},
     "output_type": "display_data"
    },
    {
     "name": "stdout",
     "output_type": "stream",
     "text": [
      "Jacob Cats (1741-1799)\n",
      "\n",
      "RP-T-1962-90\n",
      "Uitgestrekt landschap met landweg\n"
     ]
    },
    {
     "data": {
      "text/html": [
       "<a target=\"_new\" href=\"https://lh3.ggpht.com/kSmsiFQ7mp-0kkX1O0oShmZwbC7SJFphINJY1u2Ud4FqwEC12DvF0vBlXbeUHO84JYeWqVFr8GATJwHZ8b8PDeuR0uY=s0\"><img src=\"https://lh3.ggpht.com/kSmsiFQ7mp-0kkX1O0oShmZwbC7SJFphINJY1u2Ud4FqwEC12DvF0vBlXbeUHO84JYeWqVFr8GATJwHZ8b8PDeuR0uY=s0\" style=\"width: 200px;\"/></a>"
      ],
      "text/plain": [
       "<IPython.core.display.HTML object>"
      ]
     },
     "metadata": {},
     "output_type": "display_data"
    },
    {
     "name": "stdout",
     "output_type": "stream",
     "text": [
      "Jacob Cats (1741-1799)\n",
      "\n",
      "RP-T-1888-A-1450\n",
      "Dorpsgezicht\n"
     ]
    },
    {
     "data": {
      "text/html": [
       "<a target=\"_new\" href=\"https://lh5.ggpht.com/m05bnuno7EhMfy3Dj2ot_khugInql83rpVl7IKZawfLkEBeziCzRVllg9qDz6hxzsvCuuT92bitdtsE5_GfUiZDzPeI=s0\"><img src=\"https://lh5.ggpht.com/m05bnuno7EhMfy3Dj2ot_khugInql83rpVl7IKZawfLkEBeziCzRVllg9qDz6hxzsvCuuT92bitdtsE5_GfUiZDzPeI=s0\" style=\"width: 200px;\"/></a>"
      ],
      "text/plain": [
       "<IPython.core.display.HTML object>"
      ]
     },
     "metadata": {},
     "output_type": "display_data"
    },
    {
     "name": "stdout",
     "output_type": "stream",
     "text": [
      "Jacob Cats (1741-1799)\n",
      "\n",
      "RP-T-1919-39\n",
      "Landschap met vee en een boerderij\n"
     ]
    },
    {
     "data": {
      "text/html": [
       "<a target=\"_new\" href=\"https://lh3.ggpht.com/Sikt1XKPu7BUUvGQG3sLWltOPDuX7q2ZYBnDvMUXt5P4WK3YQsL0N3Ms41SiYCrIbOtnvnvc1yGKBOP4I68G9inY6w=s0\"><img src=\"https://lh3.ggpht.com/Sikt1XKPu7BUUvGQG3sLWltOPDuX7q2ZYBnDvMUXt5P4WK3YQsL0N3Ms41SiYCrIbOtnvnvc1yGKBOP4I68G9inY6w=s0\" style=\"width: 200px;\"/></a>"
      ],
      "text/plain": [
       "<IPython.core.display.HTML object>"
      ]
     },
     "metadata": {},
     "output_type": "display_data"
    },
    {
     "name": "stdout",
     "output_type": "stream",
     "text": [
      "Jacob Cats (1741-1799)\n",
      "\n",
      "RP-T-1919-36\n",
      "Bedrijvigheid op het ijs bij de stadswal van Veere\n"
     ]
    },
    {
     "data": {
      "text/html": [
       "<a target=\"_new\" href=\"https://lh5.ggpht.com/s8j2NXmrLXb30q--jz0bz7YwBima07gAlQtyzgFqGcpyY2f5og9fYvbqqScyBvAhFTtIB6Lb6NMW0ogn7J-7tN87kC4=s0\"><img src=\"https://lh5.ggpht.com/s8j2NXmrLXb30q--jz0bz7YwBima07gAlQtyzgFqGcpyY2f5og9fYvbqqScyBvAhFTtIB6Lb6NMW0ogn7J-7tN87kC4=s0\" style=\"width: 200px;\"/></a>"
      ],
      "text/plain": [
       "<IPython.core.display.HTML object>"
      ]
     },
     "metadata": {},
     "output_type": "display_data"
    },
    {
     "name": "stdout",
     "output_type": "stream",
     "text": [
      "Jacob Cats (1741-1799)\n",
      "\n",
      "RP-T-1942-11\n",
      "De Herenweg met het Posthuis\n"
     ]
    },
    {
     "data": {
      "text/html": [
       "<a target=\"_new\" href=\"https://lh3.ggpht.com/3no_gSDdScKJAZXIFwkHkAF4k-9E40jWVwCj0tscYDJPiF-DikhBoZbLfWZxhhXphdw3RLPp0uDJoZu5T596MVQLKg=s0\"><img src=\"https://lh3.ggpht.com/3no_gSDdScKJAZXIFwkHkAF4k-9E40jWVwCj0tscYDJPiF-DikhBoZbLfWZxhhXphdw3RLPp0uDJoZu5T596MVQLKg=s0\" style=\"width: 200px;\"/></a>"
      ],
      "text/plain": [
       "<IPython.core.display.HTML object>"
      ]
     },
     "metadata": {},
     "output_type": "display_data"
    },
    {
     "name": "stdout",
     "output_type": "stream",
     "text": [
      "Jacob Cats (1741-1799)\n",
      "\n",
      "RP-T-1898-A-3565\n",
      "Heuvelachtig landschap met reiswagen\n"
     ]
    },
    {
     "data": {
      "text/html": [
       "<a target=\"_new\" href=\"https://lh3.ggpht.com/BbhM4iL1YVw3r_YeVynlzTXEfZLSRMySfHj7N9eIq71tVzGKL4d9EaK9bAg0wpFrXe3xBqdmHn1Oq-jtrN4lXk76PQ=s0\"><img src=\"https://lh3.ggpht.com/BbhM4iL1YVw3r_YeVynlzTXEfZLSRMySfHj7N9eIq71tVzGKL4d9EaK9bAg0wpFrXe3xBqdmHn1Oq-jtrN4lXk76PQ=s0\" style=\"width: 200px;\"/></a>"
      ],
      "text/plain": [
       "<IPython.core.display.HTML object>"
      ]
     },
     "metadata": {},
     "output_type": "display_data"
    },
    {
     "name": "stdout",
     "output_type": "stream",
     "text": [
      "Jacob Cats (1741-1799)\n",
      "\n",
      "RP-T-1882-A-169(V)\n",
      "Schets van een ruïne\n"
     ]
    },
    {
     "data": {
      "text/html": [
       "<a target=\"_new\" href=\"https://lh3.googleusercontent.com/37YWKuXhiFJMVBt3thRCFVFhniwaHY0R9ZEcIo-1gLAyvxWHhffWaIotRnNlmglq7WwOSFcB6Zl-mowxR_PuQtWyV2RyTJnowSendBU=s0\"><img src=\"https://lh3.googleusercontent.com/37YWKuXhiFJMVBt3thRCFVFhniwaHY0R9ZEcIo-1gLAyvxWHhffWaIotRnNlmglq7WwOSFcB6Zl-mowxR_PuQtWyV2RyTJnowSendBU=s0\" style=\"width: 200px;\"/></a>"
      ],
      "text/plain": [
       "<IPython.core.display.HTML object>"
      ]
     },
     "metadata": {},
     "output_type": "display_data"
    },
    {
     "name": "stdout",
     "output_type": "stream",
     "text": [
      "Jacob Cats (1741-1799)\n",
      "\n",
      "RP-T-1907-65\n",
      "Landschap met hoge brug\n"
     ]
    },
    {
     "data": {
      "text/html": [
       "<a target=\"_new\" href=\"https://lh5.ggpht.com/Zj3LljSzYcncFukycsopu_ZG9JsANvFhN4mUcahSLmMngFd5effA6_oF8AijLhnkzLBRMbhdl9q2FIscNNjeYaQnO2Y=s0\"><img src=\"https://lh5.ggpht.com/Zj3LljSzYcncFukycsopu_ZG9JsANvFhN4mUcahSLmMngFd5effA6_oF8AijLhnkzLBRMbhdl9q2FIscNNjeYaQnO2Y=s0\" style=\"width: 200px;\"/></a>"
      ],
      "text/plain": [
       "<IPython.core.display.HTML object>"
      ]
     },
     "metadata": {},
     "output_type": "display_data"
    },
    {
     "name": "stdout",
     "output_type": "stream",
     "text": [
      "Jacob Cats (1741-1799)\n",
      "\n",
      "RP-T-1919-41\n",
      "Landschap met opstekende storm\n"
     ]
    },
    {
     "data": {
      "text/html": [
       "<a target=\"_new\" href=\"https://lh5.ggpht.com/wSUCYVz2Y7_mpB2TNa08OL1QgW7fIeY6W6GRFq2MH3g6gmvJAatnTxGUShuhWKXAHd4oIWBUbg7AbB3BqoB8wjTJ3A=s0\"><img src=\"https://lh5.ggpht.com/wSUCYVz2Y7_mpB2TNa08OL1QgW7fIeY6W6GRFq2MH3g6gmvJAatnTxGUShuhWKXAHd4oIWBUbg7AbB3BqoB8wjTJ3A=s0\" style=\"width: 200px;\"/></a>"
      ],
      "text/plain": [
       "<IPython.core.display.HTML object>"
      ]
     },
     "metadata": {},
     "output_type": "display_data"
    },
    {
     "name": "stdout",
     "output_type": "stream",
     "text": [
      "Jacob Cats (1741-1799)\n",
      "\n",
      "RP-T-1953-296\n",
      "Roodbonte koe in een landschap\n"
     ]
    },
    {
     "data": {
      "text/html": [
       "<a target=\"_new\" href=\"https://lh5.ggpht.com/MytCXOEvheMRTja4pduduAsuiUWHQnPWLK0flc2oZlRbdJQ1p1KinmAHEQLZ8fv0bFATliVm5zG20WfundEbQyMaUz44=s0\"><img src=\"https://lh5.ggpht.com/MytCXOEvheMRTja4pduduAsuiUWHQnPWLK0flc2oZlRbdJQ1p1KinmAHEQLZ8fv0bFATliVm5zG20WfundEbQyMaUz44=s0\" style=\"width: 200px;\"/></a>"
      ],
      "text/plain": [
       "<IPython.core.display.HTML object>"
      ]
     },
     "metadata": {},
     "output_type": "display_data"
    },
    {
     "name": "stdout",
     "output_type": "stream",
     "text": [
      "Jacob Cats (1741-1799)\n",
      "\n",
      "RP-T-1938-128\n",
      "Winterlandschap met schaatsenrijders op een wetering\n"
     ]
    },
    {
     "data": {
      "text/html": [
       "<a target=\"_new\" href=\"https://lh3.googleusercontent.com/GWdZTOn5tDN4uV1Mg2pEizqJSu-s7jBWaC0Ik7BxRzDjcibVsqa2uorAvsBWoklVmLwMFrHCd-8PaHlBx4TPn_uFRf8=s0\"><img src=\"https://lh3.googleusercontent.com/GWdZTOn5tDN4uV1Mg2pEizqJSu-s7jBWaC0Ik7BxRzDjcibVsqa2uorAvsBWoklVmLwMFrHCd-8PaHlBx4TPn_uFRf8=s0\" style=\"width: 200px;\"/></a>"
      ],
      "text/plain": [
       "<IPython.core.display.HTML object>"
      ]
     },
     "metadata": {},
     "output_type": "display_data"
    },
    {
     "name": "stdout",
     "output_type": "stream",
     "text": [
      "Jacob Cats (1741-1799)\n",
      "\n",
      "RP-T-1892-A-2557\n",
      "Winterlandschap met huizen en hefboom langs bevroren vaart\n"
     ]
    },
    {
     "data": {
      "text/html": [
       "<a target=\"_new\" href=\"https://lh4.ggpht.com/ZQaJINzRp-1xnLw5jtubVNbr-UUuLE_s7ILU1Y7qm8n4JlSLD1yq0T7jALy9FMlobUq356xPO_U46iVoEDQThejPxg=s0\"><img src=\"https://lh4.ggpht.com/ZQaJINzRp-1xnLw5jtubVNbr-UUuLE_s7ILU1Y7qm8n4JlSLD1yq0T7jALy9FMlobUq356xPO_U46iVoEDQThejPxg=s0\" style=\"width: 200px;\"/></a>"
      ],
      "text/plain": [
       "<IPython.core.display.HTML object>"
      ]
     },
     "metadata": {},
     "output_type": "display_data"
    },
    {
     "name": "stdout",
     "output_type": "stream",
     "text": [
      "Jacob Cats (1741-1799)\n",
      "\n",
      "RP-T-1950-90\n",
      "Landschap met een weg onder bomen\n"
     ]
    },
    {
     "data": {
      "text/html": [
       "<a target=\"_new\" href=\"https://lh3.ggpht.com/9Wdb398PEQlODk06RzeleVdpb_Dz4yx4wRJno887vylLkClUBtdYTqNTQjBzawdJS4ggTLOd7LVoftpyFLTdSxxpmHs=s0\"><img src=\"https://lh3.ggpht.com/9Wdb398PEQlODk06RzeleVdpb_Dz4yx4wRJno887vylLkClUBtdYTqNTQjBzawdJS4ggTLOd7LVoftpyFLTdSxxpmHs=s0\" style=\"width: 200px;\"/></a>"
      ],
      "text/plain": [
       "<IPython.core.display.HTML object>"
      ]
     },
     "metadata": {},
     "output_type": "display_data"
    },
    {
     "name": "stdout",
     "output_type": "stream",
     "text": [
      "Jacob Cats (1741-1799)\n",
      "\n",
      "RP-T-1933-17\n",
      "Twee mannen op het ijs\n"
     ]
    },
    {
     "data": {
      "text/html": [
       "<a target=\"_new\" href=\"https://lh5.ggpht.com/8Nv3gExZenoju0_9v1FLncijVcDtGN5a1DcqegmwQQim2mKgc9y2dfSnvtzCHSZVIhiYDnwyDzwOXUnZ7ibkWbiNPbs=s0\"><img src=\"https://lh5.ggpht.com/8Nv3gExZenoju0_9v1FLncijVcDtGN5a1DcqegmwQQim2mKgc9y2dfSnvtzCHSZVIhiYDnwyDzwOXUnZ7ibkWbiNPbs=s0\" style=\"width: 200px;\"/></a>"
      ],
      "text/plain": [
       "<IPython.core.display.HTML object>"
      ]
     },
     "metadata": {},
     "output_type": "display_data"
    },
    {
     "name": "stdout",
     "output_type": "stream",
     "text": [
      "Jacob Cats (1741-1799)\n",
      "\n",
      "RP-T-FM-21\n",
      "Zomerlandschap met schapenherder bij boerderij\n"
     ]
    },
    {
     "data": {
      "text/html": [
       "<a target=\"_new\" href=\"https://lh5.ggpht.com/cQkvHmgDj2batoR-SyGKRTuY-WjXan0nWt7lsVoyri3hSZBYU4nN62LzTqUTOi7fK-aHXg2zDYoxiKv5lQtL4wZs1iQ=s0\"><img src=\"https://lh5.ggpht.com/cQkvHmgDj2batoR-SyGKRTuY-WjXan0nWt7lsVoyri3hSZBYU4nN62LzTqUTOi7fK-aHXg2zDYoxiKv5lQtL4wZs1iQ=s0\" style=\"width: 200px;\"/></a>"
      ],
      "text/plain": [
       "<IPython.core.display.HTML object>"
      ]
     },
     "metadata": {},
     "output_type": "display_data"
    },
    {
     "name": "stdout",
     "output_type": "stream",
     "text": [
      "Jacob Cats (1741-1799)\n",
      "\n",
      "RP-T-1899-A-4221\n",
      "De thuiskomst van twee leden van de vriendenkring\n"
     ]
    },
    {
     "data": {
      "text/html": [
       "<a target=\"_new\" href=\"https://lh5.ggpht.com/9o0paH1G_Od1KNmL8ydrNZC1UDzlApgmwbQHl4pQ0ygAIbcLIrT1YBMNiOot-TgzI1alQPSx9ap9ZdYppWr34Qtf0KVQ=s0\"><img src=\"https://lh5.ggpht.com/9o0paH1G_Od1KNmL8ydrNZC1UDzlApgmwbQHl4pQ0ygAIbcLIrT1YBMNiOot-TgzI1alQPSx9ap9ZdYppWr34Qtf0KVQ=s0\" style=\"width: 200px;\"/></a>"
      ],
      "text/plain": [
       "<IPython.core.display.HTML object>"
      ]
     },
     "metadata": {},
     "output_type": "display_data"
    },
    {
     "name": "stdout",
     "output_type": "stream",
     "text": [
      "Jacob Cats (1741-1799)\n",
      "\n",
      "RP-T-1899-A-4224\n",
      "Voorval tijdens een maaltijd van de vriendenkring\n"
     ]
    },
    {
     "data": {
      "text/html": [
       "<a target=\"_new\" href=\"https://lh4.ggpht.com/Id92z8MvVw9lSFNeUjhWTnRR2mEhpYIwNTK_oQaMwx2tDyTCElpfz6RU5KwvCnyPxlPhiPz9sEHTDVe7g1AKBVU7Aw=s0\"><img src=\"https://lh4.ggpht.com/Id92z8MvVw9lSFNeUjhWTnRR2mEhpYIwNTK_oQaMwx2tDyTCElpfz6RU5KwvCnyPxlPhiPz9sEHTDVe7g1AKBVU7Aw=s0\" style=\"width: 200px;\"/></a>"
      ],
      "text/plain": [
       "<IPython.core.display.HTML object>"
      ]
     },
     "metadata": {},
     "output_type": "display_data"
    },
    {
     "name": "stdout",
     "output_type": "stream",
     "text": [
      "Jacob Cats (1741-1799)\n",
      "\n",
      "RP-T-1967-67\n",
      "Schepen op een rivier, bij de oever\n"
     ]
    },
    {
     "data": {
      "text/html": [
       "<a target=\"_new\" href=\"https://lh6.ggpht.com/gtx7VXnkMmJGpuevdmHlCyc3W0aIRtbz24KQnPnfVmwQNt0z17hEoNf6xuD9JbUmnBLNMkaehIL1rmk_JE7VT8yd1pM=s0\"><img src=\"https://lh6.ggpht.com/gtx7VXnkMmJGpuevdmHlCyc3W0aIRtbz24KQnPnfVmwQNt0z17hEoNf6xuD9JbUmnBLNMkaehIL1rmk_JE7VT8yd1pM=s0\" style=\"width: 200px;\"/></a>"
      ],
      "text/plain": [
       "<IPython.core.display.HTML object>"
      ]
     },
     "metadata": {},
     "output_type": "display_data"
    },
    {
     "name": "stdout",
     "output_type": "stream",
     "text": [
      "Hendrik Gerrit ten Cate\n",
      "\n",
      "RP-T-1954-301\n",
      "Stammen van twee bomen\n"
     ]
    },
    {
     "data": {
      "text/html": [
       "<a target=\"_new\" href=\"https://lh3.ggpht.com/fmNWEk1fJ894qIYT7iqcxm_hcopHY0QXrls99t5RpQJT2JlV7jZGoWb5j0qnQ-5Jmvee94FAccTQEBJa9oobNgHvtos=s0\"><img src=\"https://lh3.ggpht.com/fmNWEk1fJ894qIYT7iqcxm_hcopHY0QXrls99t5RpQJT2JlV7jZGoWb5j0qnQ-5Jmvee94FAccTQEBJa9oobNgHvtos=s0\" style=\"width: 200px;\"/></a>"
      ],
      "text/plain": [
       "<IPython.core.display.HTML object>"
      ]
     },
     "metadata": {},
     "output_type": "display_data"
    },
    {
     "name": "stdout",
     "output_type": "stream",
     "text": [
      "Hendrik Gerrit ten Cate\n",
      "\n",
      "RP-T-FM-17\n",
      "Winterlandschap met houtsprokkelaar op bospad\n"
     ]
    },
    {
     "data": {
      "text/html": [
       "<a target=\"_new\" href=\"https://lh3.googleusercontent.com/zpR0uon3vsQo0gJd1Uzq4fqs8XLFj3wCymAvjUBem9OFA3mFxQN8JuHDz4Fo_8iLgSwIhhdE8GT_27rP-78YSYC9kQ0=s0\"><img src=\"https://lh3.googleusercontent.com/zpR0uon3vsQo0gJd1Uzq4fqs8XLFj3wCymAvjUBem9OFA3mFxQN8JuHDz4Fo_8iLgSwIhhdE8GT_27rP-78YSYC9kQ0=s0\" style=\"width: 200px;\"/></a>"
      ],
      "text/plain": [
       "<IPython.core.display.HTML object>"
      ]
     },
     "metadata": {},
     "output_type": "display_data"
    },
    {
     "name": "stdout",
     "output_type": "stream",
     "text": [
      "Hendrik Gerrit ten Cate\n",
      "\n",
      "RP-T-1919-62\n",
      "Frontispiece Design for Jacob Cats, Self-Strijt\n"
     ]
    },
    {
     "data": {
      "text/html": [
       "<a target=\"_new\" href=\"https://lh4.ggpht.com/-MvXB3cxKTg8sNl3htSxzKLqFHS4Gm-Lg7jD4CGs8v6b5NapimzcV5lnKoILrREJ5uA5IBNWi9_nrOuo70EX2bk43cM=s0\"><img src=\"https://lh4.ggpht.com/-MvXB3cxKTg8sNl3htSxzKLqFHS4Gm-Lg7jD4CGs8v6b5NapimzcV5lnKoILrREJ5uA5IBNWi9_nrOuo70EX2bk43cM=s0\" style=\"width: 200px;\"/></a>"
      ],
      "text/plain": [
       "<IPython.core.display.HTML object>"
      ]
     },
     "metadata": {},
     "output_type": "display_data"
    },
    {
     "name": "stdout",
     "output_type": "stream",
     "text": [
      "Adriaen Pietersz. van de Venne\n",
      "\n",
      "RP-T-BR-2017-1-1-98\n",
      "Civetkat (Viverra)\n"
     ]
    },
    {
     "data": {
      "text/html": [
       "<a target=\"_new\" href=\"https://lh3.googleusercontent.com/-pFjQENEC9GLxrnxhdI1QZ_YPjdI5v2Kx18fV6zZVqEbZEf5S0P4G8IbGh1nhb-XSnkzWMhaxcPCUxPaRuav72T0TTgSiv8RFTE48xQ=s0\"><img src=\"https://lh3.googleusercontent.com/-pFjQENEC9GLxrnxhdI1QZ_YPjdI5v2Kx18fV6zZVqEbZEf5S0P4G8IbGh1nhb-XSnkzWMhaxcPCUxPaRuav72T0TTgSiv8RFTE48xQ=s0\" style=\"width: 200px;\"/></a>"
      ],
      "text/plain": [
       "<IPython.core.display.HTML object>"
      ]
     },
     "metadata": {},
     "output_type": "display_data"
    },
    {
     "name": "stdout",
     "output_type": "stream",
     "text": [
      "Anselmus Boëtius de Boodt\n",
      "\n",
      "RP-T-2021-5\n",
      "Standbeeld van Jacob Cats\n",
      "anonymous\n",
      "\n",
      "RP-T-2019-123\n",
      "Gevel van het geboortehuis van Jacob Cats in Brouwershaven\n",
      "anonymous\n",
      "\n",
      "RP-T-1973-10\n",
      "Portret van Anna Maria Blaupot ten Cate\n",
      "Gerard Westermann\n",
      "\n",
      "RP-T-1962-128\n",
      "Liggende kat\n"
     ]
    },
    {
     "data": {
      "text/html": [
       "<a target=\"_new\" href=\"https://lh3.googleusercontent.com/rA-rzThaTUftlSq07T30jUvm4oIK1h1j52LFQYHP-bD4mbhlLzxjZwVWWJ-QZHFVi2BQj_i7Ul9yl9s9fuCt7jBZm-8=s0\"><img src=\"https://lh3.googleusercontent.com/rA-rzThaTUftlSq07T30jUvm4oIK1h1j52LFQYHP-bD4mbhlLzxjZwVWWJ-QZHFVi2BQj_i7Ul9yl9s9fuCt7jBZm-8=s0\" style=\"width: 200px;\"/></a>"
      ],
      "text/plain": [
       "<IPython.core.display.HTML object>"
      ]
     },
     "metadata": {},
     "output_type": "display_data"
    },
    {
     "name": "stdout",
     "output_type": "stream",
     "text": [
      "Jan Veth\n",
      "\n",
      "RP-T-1962-321(R)\n",
      "Schetsen van een kat\n"
     ]
    },
    {
     "data": {
      "text/html": [
       "<a target=\"_new\" href=\"https://lh3.googleusercontent.com/9AeFSmIK8IwQ4RzyOuIeXNHB3P8AygpyypYc1hckRDP-We64maj4PY-k5bC_0yynGmSuueM4YMdnn0UMl7D5q0UXnGU=s0\"><img src=\"https://lh3.googleusercontent.com/9AeFSmIK8IwQ4RzyOuIeXNHB3P8AygpyypYc1hckRDP-We64maj4PY-k5bC_0yynGmSuueM4YMdnn0UMl7D5q0UXnGU=s0\" style=\"width: 200px;\"/></a>"
      ],
      "text/plain": [
       "<IPython.core.display.HTML object>"
      ]
     },
     "metadata": {},
     "output_type": "display_data"
    },
    {
     "name": "stdout",
     "output_type": "stream",
     "text": [
      "Jan Veth\n",
      "\n",
      "RP-T-1948-647\n",
      "Poes die zichzelf likt\n"
     ]
    },
    {
     "data": {
      "text/html": [
       "<a target=\"_new\" href=\"https://lh3.ggpht.com/vvzfya8DjNyTsJaCUnraXMTQYMR9nX2YbewuS0mrMIMckRwKtLrF0zxxvv7MIPX4nmDLwWj9tsoUTrVUKxBkPTMdmMA=s0\"><img src=\"https://lh3.ggpht.com/vvzfya8DjNyTsJaCUnraXMTQYMR9nX2YbewuS0mrMIMckRwKtLrF0zxxvv7MIPX4nmDLwWj9tsoUTrVUKxBkPTMdmMA=s0\" style=\"width: 200px;\"/></a>"
      ],
      "text/plain": [
       "<IPython.core.display.HTML object>"
      ]
     },
     "metadata": {},
     "output_type": "display_data"
    },
    {
     "name": "stdout",
     "output_type": "stream",
     "text": [
      "George Hendrik Breitner\n",
      "\n",
      "RP-T-1962-131\n",
      "Studies van een kat\n"
     ]
    },
    {
     "data": {
      "text/html": [
       "<a target=\"_new\" href=\"https://lh3.googleusercontent.com/uYThHbHdgY78eZ4QTV2Hp3MlnxRwfMsJ4JGRb8p-IuT95oZYrW3pH33azNl-GoiRU5nsgICp967cwQjUQMrEXlaXrGU=s0\"><img src=\"https://lh3.googleusercontent.com/uYThHbHdgY78eZ4QTV2Hp3MlnxRwfMsJ4JGRb8p-IuT95oZYrW3pH33azNl-GoiRU5nsgICp967cwQjUQMrEXlaXrGU=s0\" style=\"width: 200px;\"/></a>"
      ],
      "text/plain": [
       "<IPython.core.display.HTML object>"
      ]
     },
     "metadata": {},
     "output_type": "display_data"
    },
    {
     "name": "stdout",
     "output_type": "stream",
     "text": [
      "Jan Veth\n",
      "\n",
      "RP-T-00-235(R)\n",
      "Zittende kat, naar rechts\n"
     ]
    },
    {
     "data": {
      "text/html": [
       "<a target=\"_new\" href=\"https://lh3.ggpht.com/oH9XHbskM2Wt8ZUizcE4xkjMMiznNYD1VIGXRvE1i5TRP5_cH_RjaQNFe8gpKicbOveo1ePIg3OyzXNfC8VYonIT0M8=s0\"><img src=\"https://lh3.ggpht.com/oH9XHbskM2Wt8ZUizcE4xkjMMiznNYD1VIGXRvE1i5TRP5_cH_RjaQNFe8gpKicbOveo1ePIg3OyzXNfC8VYonIT0M8=s0\" style=\"width: 200px;\"/></a>"
      ],
      "text/plain": [
       "<IPython.core.display.HTML object>"
      ]
     },
     "metadata": {},
     "output_type": "display_data"
    },
    {
     "name": "stdout",
     "output_type": "stream",
     "text": [
      "Cornelis Saftleven\n",
      "\n",
      "RP-T-2001-118(R)\n",
      "Liggende Siamese kat\n"
     ]
    },
    {
     "data": {
      "text/html": [
       "<a target=\"_new\" href=\"https://lh3.googleusercontent.com/7EjgEr4dJfgfcjkVfexoGCvuowtAdP0j8Ii-Yfa642gBiQtvvcp0Jbt3tyCp-xm6M7MVcRXS_OhPNmW5HHel_eAYdA=s0\"><img src=\"https://lh3.googleusercontent.com/7EjgEr4dJfgfcjkVfexoGCvuowtAdP0j8Ii-Yfa642gBiQtvvcp0Jbt3tyCp-xm6M7MVcRXS_OhPNmW5HHel_eAYdA=s0\" style=\"width: 200px;\"/></a>"
      ],
      "text/plain": [
       "<IPython.core.display.HTML object>"
      ]
     },
     "metadata": {},
     "output_type": "display_data"
    },
    {
     "name": "stdout",
     "output_type": "stream",
     "text": [
      "Sonja Dwinger\n",
      "\n",
      "RP-T-2001-120(R)\n",
      "Zittende Siamese kat\n"
     ]
    },
    {
     "data": {
      "text/html": [
       "<a target=\"_new\" href=\"https://lh3.googleusercontent.com/ixjpUbcrZbGqr3cfctZ7T7MYVsl8oYyUDw6SFtiVsWyC2YABqevVyaOcNjZe2xM0bvoqy1R7FNE_lz7B5lUZfJt_MXY=s0\"><img src=\"https://lh3.googleusercontent.com/ixjpUbcrZbGqr3cfctZ7T7MYVsl8oYyUDw6SFtiVsWyC2YABqevVyaOcNjZe2xM0bvoqy1R7FNE_lz7B5lUZfJt_MXY=s0\" style=\"width: 200px;\"/></a>"
      ],
      "text/plain": [
       "<IPython.core.display.HTML object>"
      ]
     },
     "metadata": {},
     "output_type": "display_data"
    },
    {
     "name": "stdout",
     "output_type": "stream",
     "text": [
      "Sonja Dwinger\n",
      "\n",
      "RP-T-2001-117(R)\n",
      "Siamese kat die zich wast\n"
     ]
    },
    {
     "data": {
      "text/html": [
       "<a target=\"_new\" href=\"https://lh3.googleusercontent.com/sxFQY2cKKSlHTAnd6QBEbHBQlx17rfOyrp_-iXQuff-R3R6m0OxDhCDD4zv807JBMzGjilyoEcm9TzUP9PSZ47C9euyKhib3abXSvgg=s0\"><img src=\"https://lh3.googleusercontent.com/sxFQY2cKKSlHTAnd6QBEbHBQlx17rfOyrp_-iXQuff-R3R6m0OxDhCDD4zv807JBMzGjilyoEcm9TzUP9PSZ47C9euyKhib3abXSvgg=s0\" style=\"width: 200px;\"/></a>"
      ],
      "text/plain": [
       "<IPython.core.display.HTML object>"
      ]
     },
     "metadata": {},
     "output_type": "display_data"
    },
    {
     "name": "stdout",
     "output_type": "stream",
     "text": [
      "Sonja Dwinger\n",
      "\n",
      "RP-T-2001-120(V)\n",
      "Twee liggende Siamese katten\n"
     ]
    },
    {
     "data": {
      "text/html": [
       "<a target=\"_new\" href=\"https://lh3.googleusercontent.com/f6iscwXg75cySo1-hxLKgvLE6WcciNdzAxj4v5EsF35bCmw02MFdPV8flfHA9gr23wHkuY88g2JnQZe1e3bKgkj1-w=s0\"><img src=\"https://lh3.googleusercontent.com/f6iscwXg75cySo1-hxLKgvLE6WcciNdzAxj4v5EsF35bCmw02MFdPV8flfHA9gr23wHkuY88g2JnQZe1e3bKgkj1-w=s0\" style=\"width: 200px;\"/></a>"
      ],
      "text/plain": [
       "<IPython.core.display.HTML object>"
      ]
     },
     "metadata": {},
     "output_type": "display_data"
    },
    {
     "name": "stdout",
     "output_type": "stream",
     "text": [
      "Sonja Dwinger\n",
      "\n",
      "RP-T-1943-54(R)\n",
      "Studie van een liggende kat en een meisjeshoofd\n"
     ]
    },
    {
     "data": {
      "text/html": [
       "<a target=\"_new\" href=\"https://lh3.ggpht.com/cXWCzUxPREvWWMcljft3EuOMSQUldasTu-IJFiGmIyb9DJkUEGqaLJD8L1_Gh_5EIOUWx8zKaMBVoCC7Vkge9GBMVDNi=s0\"><img src=\"https://lh3.ggpht.com/cXWCzUxPREvWWMcljft3EuOMSQUldasTu-IJFiGmIyb9DJkUEGqaLJD8L1_Gh_5EIOUWx8zKaMBVoCC7Vkge9GBMVDNi=s0\" style=\"width: 200px;\"/></a>"
      ],
      "text/plain": [
       "<IPython.core.display.HTML object>"
      ]
     },
     "metadata": {},
     "output_type": "display_data"
    },
    {
     "name": "stdout",
     "output_type": "stream",
     "text": [
      "Matthijs Maris\n",
      "\n",
      "RP-T-1897-A-3337\n",
      "Vrouw die een schaap melkt\n"
     ]
    },
    {
     "data": {
      "text/html": [
       "<a target=\"_new\" href=\"https://lh6.ggpht.com/2kC4EYF0IztzDkxU2dKQAQq6tCg1CbyTCe0zw1eHsgQIXUeNEm7dBOieJG8ZtLjn46DjblDfQtjJWTWT975Rw5lzGg=s0\"><img src=\"https://lh6.ggpht.com/2kC4EYF0IztzDkxU2dKQAQq6tCg1CbyTCe0zw1eHsgQIXUeNEm7dBOieJG8ZtLjn46DjblDfQtjJWTWT975Rw5lzGg=s0\" style=\"width: 200px;\"/></a>"
      ],
      "text/plain": [
       "<IPython.core.display.HTML object>"
      ]
     },
     "metadata": {},
     "output_type": "display_data"
    },
    {
     "name": "stdout",
     "output_type": "stream",
     "text": [
      "Nicolaes Pietersz. Berchem\n",
      "\n",
      "RP-T-1951-402\n",
      "Liggende, slapende kat\n"
     ]
    },
    {
     "data": {
      "text/html": [
       "<a target=\"_new\" href=\"https://lh4.ggpht.com/pZ0kCuAYxjYaIZ8l-6PHt_YJGVHUlhKwqgf7JFzQf5zhrHuhoNvgPfCYM_1bWMzF0F0Lpix6sC9Bz0acSqpk1rmOTA=s0\"><img src=\"https://lh4.ggpht.com/pZ0kCuAYxjYaIZ8l-6PHt_YJGVHUlhKwqgf7JFzQf5zhrHuhoNvgPfCYM_1bWMzF0F0Lpix6sC9Bz0acSqpk1rmOTA=s0\" style=\"width: 200px;\"/></a>"
      ],
      "text/plain": [
       "<IPython.core.display.HTML object>"
      ]
     },
     "metadata": {},
     "output_type": "display_data"
    },
    {
     "name": "stdout",
     "output_type": "stream",
     "text": [
      "Pieter Bartholomeusz. Barbiers\n",
      "\n",
      "RP-T-1951-403\n",
      "Schematische tekening van een zittende kat\n"
     ]
    },
    {
     "data": {
      "text/html": [
       "<a target=\"_new\" href=\"https://lh6.ggpht.com/kctAlR3ztMKcSYkN4u-XCT6MrbRrNLL3OG5CrpgECeIvRLGts9c69Qw1D0j_evHfvL2JxJTAIBzOQbT-Yf92MmTOWP4N=s0\"><img src=\"https://lh6.ggpht.com/kctAlR3ztMKcSYkN4u-XCT6MrbRrNLL3OG5CrpgECeIvRLGts9c69Qw1D0j_evHfvL2JxJTAIBzOQbT-Yf92MmTOWP4N=s0\" style=\"width: 200px;\"/></a>"
      ],
      "text/plain": [
       "<IPython.core.display.HTML object>"
      ]
     },
     "metadata": {},
     "output_type": "display_data"
    },
    {
     "name": "stdout",
     "output_type": "stream",
     "text": [
      "Pieter Bartholomeusz. Barbiers\n",
      "\n",
      "RP-T-1904-116\n",
      "Liggende kat, naar rechts\n"
     ]
    },
    {
     "data": {
      "text/html": [
       "<a target=\"_new\" href=\"https://lh3.ggpht.com/yPOc7mvNZPicr6_h6z0hjt-GPUa0742JbBj7yTmTgtNRL8Vx45XFO55JaBDHQwfuXP0n1SYS46oNSR9AH8NYrzFL8TI=s0\"><img src=\"https://lh3.ggpht.com/yPOc7mvNZPicr6_h6z0hjt-GPUa0742JbBj7yTmTgtNRL8Vx45XFO55JaBDHQwfuXP0n1SYS46oNSR9AH8NYrzFL8TI=s0\" style=\"width: 200px;\"/></a>"
      ],
      "text/plain": [
       "<IPython.core.display.HTML object>"
      ]
     },
     "metadata": {},
     "output_type": "display_data"
    },
    {
     "name": "stdout",
     "output_type": "stream",
     "text": [
      "Jean Bernard\n",
      "\n",
      "RP-T-1904-201\n",
      "Opgerold liggende, slapende kat\n"
     ]
    },
    {
     "data": {
      "text/html": [
       "<a target=\"_new\" href=\"https://lh4.ggpht.com/PO99_zIU3GcfIDKxdxDlnYCRi7n6wpMUtf-7cakvKF5AVDmSi278fzYJv0tzhinD2J4XiH6O_ATIDbfLTdFYrTQKSg=s0\"><img src=\"https://lh4.ggpht.com/PO99_zIU3GcfIDKxdxDlnYCRi7n6wpMUtf-7cakvKF5AVDmSi278fzYJv0tzhinD2J4XiH6O_ATIDbfLTdFYrTQKSg=s0\" style=\"width: 200px;\"/></a>"
      ],
      "text/plain": [
       "<IPython.core.display.HTML object>"
      ]
     },
     "metadata": {},
     "output_type": "display_data"
    },
    {
     "name": "stdout",
     "output_type": "stream",
     "text": [
      "Jean Bernard\n",
      "\n",
      "RP-T-1904-113\n",
      "Liggende kat, schuin van voren\n"
     ]
    },
    {
     "data": {
      "text/html": [
       "<a target=\"_new\" href=\"https://lh5.ggpht.com/DflJF8YU1pUByjHqwd34xWqedP537OlQzDqwqC4FD-Vt1MJ36JctR1DMeC4fyHh6osgW__V9SN_YcI0Xp5O6c0nZCQ=s0\"><img src=\"https://lh5.ggpht.com/DflJF8YU1pUByjHqwd34xWqedP537OlQzDqwqC4FD-Vt1MJ36JctR1DMeC4fyHh6osgW__V9SN_YcI0Xp5O6c0nZCQ=s0\" style=\"width: 200px;\"/></a>"
      ],
      "text/plain": [
       "<IPython.core.display.HTML object>"
      ]
     },
     "metadata": {},
     "output_type": "display_data"
    },
    {
     "name": "stdout",
     "output_type": "stream",
     "text": [
      "Jean Bernard\n",
      "\n",
      "RP-T-1904-197\n",
      "Liggende kat, naar rechts\n"
     ]
    },
    {
     "data": {
      "text/html": [
       "<a target=\"_new\" href=\"https://lh4.ggpht.com/z8HuDd0GG2DoEjc6oCH9r8SQXQos1hGD0QAXCq9Kp7IMq4gDGoprDx0qzkq0VLRiDXCiCC8TE8OSh_faBHjfPZS-0Xw=s0\"><img src=\"https://lh4.ggpht.com/z8HuDd0GG2DoEjc6oCH9r8SQXQos1hGD0QAXCq9Kp7IMq4gDGoprDx0qzkq0VLRiDXCiCC8TE8OSh_faBHjfPZS-0Xw=s0\" style=\"width: 200px;\"/></a>"
      ],
      "text/plain": [
       "<IPython.core.display.HTML object>"
      ]
     },
     "metadata": {},
     "output_type": "display_data"
    },
    {
     "name": "stdout",
     "output_type": "stream",
     "text": [
      "Jean Bernard\n",
      "\n",
      "RP-T-1904-191\n",
      "Kop van een lapjeskat, van voren, met open ogen\n"
     ]
    },
    {
     "data": {
      "text/html": [
       "<a target=\"_new\" href=\"https://lh4.ggpht.com/pZ5Be1bfgYNo6VYJyHIBaxG5BTyHdFXaswVc-Lt-YgBdTEFIBV8eJsQB59ROhu-uWzlvEjRv8QsRvNUAdIM6UPx4gQ=s0\"><img src=\"https://lh4.ggpht.com/pZ5Be1bfgYNo6VYJyHIBaxG5BTyHdFXaswVc-Lt-YgBdTEFIBV8eJsQB59ROhu-uWzlvEjRv8QsRvNUAdIM6UPx4gQ=s0\" style=\"width: 200px;\"/></a>"
      ],
      "text/plain": [
       "<IPython.core.display.HTML object>"
      ]
     },
     "metadata": {},
     "output_type": "display_data"
    },
    {
     "name": "stdout",
     "output_type": "stream",
     "text": [
      "Jean Bernard\n",
      "\n",
      "RP-T-1904-190\n",
      "Kop van een lapjeskat, van voren, met gesloten ogen\n"
     ]
    },
    {
     "data": {
      "text/html": [
       "<a target=\"_new\" href=\"https://lh5.ggpht.com/-mYP4wyKnVvF4ajtKvmQThHX0lgc4LTvif3EFJYFnU7L5vb83XynzfNZApQAawbbBDvEds1cRxJ_RA-HMhb0H4XyBw=s0\"><img src=\"https://lh5.ggpht.com/-mYP4wyKnVvF4ajtKvmQThHX0lgc4LTvif3EFJYFnU7L5vb83XynzfNZApQAawbbBDvEds1cRxJ_RA-HMhb0H4XyBw=s0\" style=\"width: 200px;\"/></a>"
      ],
      "text/plain": [
       "<IPython.core.display.HTML object>"
      ]
     },
     "metadata": {},
     "output_type": "display_data"
    },
    {
     "name": "stdout",
     "output_type": "stream",
     "text": [
      "Jean Bernard\n",
      "\n"
     ]
    }
   ],
   "source": [
    "import requests\n",
    "from IPython.core.display import display, HTML\n",
    "\n",
    "\n",
    "key= 'fpGQTuED'\n",
    "data_format= 'json'\n",
    "search_term = 'cat'\n",
    "work_type = 'drawing'\n",
    "\n",
    "\n",
    "url = f'https://www.rijksmuseum.nl/api/en/collection?key={key}&type={work_type}&format={data_format}&q={search_term}&ps=100'\n",
    "\n",
    "r = requests.get(url)\n",
    "data = r.json()\n",
    "\n",
    "\n",
    "print( f\"{len(data['artObjects'])} results.\" )\n",
    "\n",
    "for d in data['artObjects']:\n",
    "    print( d.get('objectNumber',\"\") )\n",
    "    print( d.get('title',\"\") )\n",
    "    if d['hasImage']:\n",
    "        display(HTML(f'<a target=\"_new\" href=\"{d[\"webImage\"][\"url\"]}\"><img src=\"{d[\"webImage\"][\"url\"]}\" style=\"width: 200px;\"/></a>'))\n",
    "    print( d.get('principalOrFirstMaker',\"\") + '\\n')"
   ]
  },
  {
   "cell_type": "markdown",
   "metadata": {},
   "source": [
    "## Information about individual works\n",
    "\n",
    "\n",
    "Parameters:\n",
    "* format: 'json' or 'xml'\n",
    "* object number\n",
    "\n",
    "\n",
    "Can you find infomration about Johannes Vermeer’s Milkmaid (object number SK-A-2344). When was the painting acquired by the museum? What was the year of creation?\n"
   ]
  },
  {
   "cell_type": "code",
   "execution_count": 126,
   "metadata": {},
   "outputs": [
    {
     "data": {
      "text/html": [
       "<a target=\"_new\" href=\"https://lh3.googleusercontent.com/mFz6IniDfFsRJefOJKRMXHyG8oovlPe8rTCaxKcvcrTt2o8aki_f7f_E1qqDHrl16ZMrlmeJAYpPpCjjEaOV2iGllQ5W=s0\"><img src=\"https://lh3.googleusercontent.com/mFz6IniDfFsRJefOJKRMXHyG8oovlPe8rTCaxKcvcrTt2o8aki_f7f_E1qqDHrl16ZMrlmeJAYpPpCjjEaOV2iGllQ5W=s0\" style=\"width: 300px;\"/></a>"
      ],
      "text/plain": [
       "<IPython.core.display.HTML object>"
      ]
     },
     "metadata": {},
     "output_type": "display_data"
    },
    {
     "name": "stdout",
     "output_type": "stream",
     "text": [
      "ObjectNumber: SK-A-4987\n",
      "Title: Oostzijdse Mill along the River Gein by Moonlight\n",
      "Creator: Piet Mondriaan\n",
      "Dating: c. 1903\n",
      "Physical medium: oil on canvas\n",
      "Dominant colours:\n"
     ]
    },
    {
     "data": {
      "text/html": [
       "<div style=\"width: 20px; height: 20px; background-color: #4A4C3A\"  />"
      ],
      "text/plain": [
       "<IPython.core.display.HTML object>"
      ]
     },
     "metadata": {},
     "output_type": "display_data"
    },
    {
     "data": {
      "text/html": [
       "<div style=\"width: 20px; height: 20px; background-color:  #989DA4\"  />"
      ],
      "text/plain": [
       "<IPython.core.display.HTML object>"
      ]
     },
     "metadata": {},
     "output_type": "display_data"
    },
    {
     "data": {
      "text/html": [
       "<div style=\"width: 20px; height: 20px; background-color:  #5C6257\"  />"
      ],
      "text/plain": [
       "<IPython.core.display.HTML object>"
      ]
     },
     "metadata": {},
     "output_type": "display_data"
    },
    {
     "data": {
      "text/html": [
       "<div style=\"width: 20px; height: 20px; background-color:  #777759\"  />"
      ],
      "text/plain": [
       "<IPython.core.display.HTML object>"
      ]
     },
     "metadata": {},
     "output_type": "display_data"
    },
    {
     "data": {
      "text/html": [
       "<div style=\"width: 20px; height: 20px; background-color:  #84897D\"  />"
      ],
      "text/plain": [
       "<IPython.core.display.HTML object>"
      ]
     },
     "metadata": {},
     "output_type": "display_data"
    },
    {
     "data": {
      "text/html": [
       "<div style=\"width: 20px; height: 20px; background-color:  #26291F\"  />"
      ],
      "text/plain": [
       "<IPython.core.display.HTML object>"
      ]
     },
     "metadata": {},
     "output_type": "display_data"
    },
    {
     "data": {
      "text/html": [
       "<div style=\"width: 20px; height: 20px; background-color:  #B1B3B8\"  />"
      ],
      "text/plain": [
       "<IPython.core.display.HTML object>"
      ]
     },
     "metadata": {},
     "output_type": "display_data"
    },
    {
     "name": "stdout",
     "output_type": "stream",
     "text": [
      "Description: Oostzijdse molen aan de rivier het Gein bij Abcoude. De horizon ligt iets boven het midden. De maan rechtsboven de molen zit deels achter een wolk. De molen staat centraal met aan de rechterzijde het zomerhuis, aan een bocht in de rivier rechts. Een groepje bomen sluit de horizon links af. De voorgrond van het schilderij wordt in beslag genomen door een wiel met begroeiing, waarin een reflectie van de molen.\n",
      "Acquisition: purchase 2005-01-01T00:00:00\n"
     ]
    }
   ],
   "source": [
    "import requests\n",
    "\n",
    "object_nr = 'SK-A-4987'\n",
    "\n",
    "url = f'https://www.rijksmuseum.nl/api/en/collection/{object_nr}?key=fpGQTuED&format=json'\n",
    "\n",
    "r = requests.get(url)\n",
    "data = r.json()['artObject']\n",
    "\n",
    "display(HTML(f'<a target=\"_new\" href=\"{data[\"webImage\"][\"url\"]}\"><img src=\"{data[\"webImage\"][\"url\"]}\" style=\"width: 300px;\"/></a>'))\n",
    "    \n",
    "\n",
    "print('ObjectNumber: {}'.format( data['objectNumber'] ))\n",
    "print('Title: {}'.format( data['title'] ))\n",
    "print('Creator: {}'.format( data['principalMakers'][0]['name'] ))\n",
    "print('Dating: {}'.format( data['dating']['presentingDate'] ))\n",
    "print('Physical medium: {}'.format( data['physicalMedium'] ))\n",
    "\n",
    "\n",
    "colors = data['colors']\n",
    "\n",
    "if len(colors) > 0:\n",
    "    print('Dominant colours:')\n",
    "    for c in colors:\n",
    "        display(HTML(f'<div style=\"width: 20px; height: 20px; background-color: {c[\"hex\"]}\"  />'))\n",
    "\n",
    "print('Description: {}'.format( data['description'] ) )\n",
    "print('Acquisition: {} {}'.format( data['acquisition']['method'] , data['acquisition']['date']) )\n",
    "\n"
   ]
  }
 ],
 "metadata": {
  "kernelspec": {
   "display_name": "Python 3",
   "language": "python",
   "name": "python3"
  },
  "language_info": {
   "codemirror_mode": {
    "name": "ipython",
    "version": 3
   },
   "file_extension": ".py",
   "mimetype": "text/x-python",
   "name": "python",
   "nbconvert_exporter": "python",
   "pygments_lexer": "ipython3",
   "version": "3.8.5"
  }
 },
 "nbformat": 4,
 "nbformat_minor": 4
}
